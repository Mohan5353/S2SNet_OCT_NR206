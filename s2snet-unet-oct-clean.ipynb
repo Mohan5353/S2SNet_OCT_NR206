{
 "metadata": {
  "kernelspec": {
   "name": "python3",
   "display_name": "Python 3",
   "language": "python"
  },
  "language_info": {
   "name": "python",
   "version": "3.10.14",
   "mimetype": "text/x-python",
   "codemirror_mode": {
    "name": "ipython",
    "version": 3
   },
   "pygments_lexer": "ipython3",
   "nbconvert_exporter": "python",
   "file_extension": ".py"
  },
  "colab": {
   "provenance": [],
   "gpuType": "T4"
  },
  "accelerator": "GPU",
  "kaggle": {
   "accelerator": "gpu",
   "dataSources": [
    {
     "sourceId": 9363711,
     "sourceType": "datasetVersion",
     "datasetId": 5677800
    },
    {
     "sourceId": 9367126,
     "sourceType": "datasetVersion",
     "datasetId": 5680456
    },
    {
     "sourceId": 122039,
     "sourceType": "modelInstanceVersion",
     "isSourceIdPinned": true,
     "modelInstanceId": 102687,
     "modelId": 126909
    }
   ],
   "isInternetEnabled": true,
   "language": "python",
   "sourceType": "notebook",
   "isGpuEnabled": true
  }
 },
 "nbformat_minor": 4,
 "nbformat": 4,
 "cells": [
  {
   "cell_type": "code",
   "source": [
    "import numpy as np\n",
    "import pandas as pd\n",
    "\n",
    "import torch\n",
    "from torch import nn\n",
    "import os\n",
    "import gc\n",
    "import random\n",
    "\n",
    "from tqdm.auto import tqdm\n",
    "import torch.nn.functional as F\n",
    "from tensorflow.keras.preprocessing.image import load_img\n",
    "from keras.utils import to_categorical\n",
    "from sklearn.preprocessing import LabelEncoder\n",
    "from torch.utils.data import Dataset\n",
    "from torch.utils.tensorboard import SummaryWriter\n",
    "from segmentation_models_pytorch.losses import DiceLoss"
   ],
   "metadata": {
    "id": "unlikely-winner",
    "execution": {
     "iopub.status.busy": "2024-09-30T10:27:08.903749Z",
     "iopub.status.idle": "2024-09-30T10:27:08.904153Z",
     "shell.execute_reply.started": "2024-09-30T10:27:08.903915Z",
     "shell.execute_reply": "2024-09-30T10:27:08.903946Z"
    },
    "trusted": true,
    "ExecuteTime": {
     "end_time": "2024-12-19T14:40:21.293521Z",
     "start_time": "2024-12-19T14:40:15.114272Z"
    }
   },
   "outputs": [],
   "execution_count": 1
  },
  {
   "cell_type": "code",
   "source": [
    "def seed_everything(seed=100):\n",
    "    random.seed(seed)\n",
    "    os.environ['PYTHONHASHSEED'] = str(seed)\n",
    "    np.random.seed(seed)\n",
    "    torch.manual_seed(seed)\n",
    "    torch.backends.cudnn.deterministic = True\n",
    "    torch.backends.cudnn.benchmark = False\n",
    "\n",
    "\n",
    "seed_everything()"
   ],
   "metadata": {
    "execution": {
     "iopub.status.busy": "2024-09-30T10:27:08.905449Z",
     "iopub.status.idle": "2024-09-30T10:27:08.905901Z",
     "shell.execute_reply.started": "2024-09-30T10:27:08.905661Z",
     "shell.execute_reply": "2024-09-30T10:27:08.905688Z"
    },
    "trusted": true,
    "ExecuteTime": {
     "end_time": "2024-12-19T14:46:16.548593Z",
     "start_time": "2024-12-19T14:46:16.523873Z"
    }
   },
   "outputs": [],
   "execution_count": 22
  },
  {
   "cell_type": "code",
   "source": [
    "# Select the device to train on\n",
    "DEVICE = torch.device(\"cuda:0\" if torch.cuda.is_available() else \"cpu\")\n",
    "\n",
    "# Define hyperparameters\n",
    "EPOCHS = 400\n",
    "LR = 1e-4\n",
    "p = 0.3\n",
    "IMG_SIZE = 192\n",
    "BATCH_SIZE = 16"
   ],
   "metadata": {
    "id": "interim-grant",
    "execution": {
     "iopub.status.busy": "2024-09-30T10:27:08.906885Z",
     "iopub.status.idle": "2024-09-30T10:27:08.907364Z",
     "shell.execute_reply.started": "2024-09-30T10:27:08.907111Z",
     "shell.execute_reply": "2024-09-30T10:27:08.907135Z"
    },
    "trusted": true,
    "ExecuteTime": {
     "end_time": "2024-12-19T14:46:16.733986Z",
     "start_time": "2024-12-19T14:46:16.719187Z"
    }
   },
   "outputs": [],
   "execution_count": 23
  },
  {
   "cell_type": "code",
   "source": [
    "images = os.listdir(\"Cleaned_DataSet/Train\")\n",
    "masks = os.listdir(\"Cleaned_DataSet/train_labels\")\n",
    "train_df = pd.DataFrame({\"images\": map(lambda x: os.path.join(\"Cleaned_DataSet/Train\", x), images),\n",
    "                         \"masks\": map(lambda x: os.path.join(\"Cleaned_DataSet/train_labels\", x), masks)})\n",
    "print(train_df.shape)\n",
    "del images, masks\n",
    "train_df.head()"
   ],
   "metadata": {
    "id": "cooked-stranger",
    "outputId": "25fbf51d-bdac-4057-cb1b-a1649c7c81c2",
    "execution": {
     "iopub.status.busy": "2024-09-30T10:27:08.908549Z",
     "iopub.status.idle": "2024-09-30T10:27:08.909022Z",
     "shell.execute_reply.started": "2024-09-30T10:27:08.908756Z",
     "shell.execute_reply": "2024-09-30T10:27:08.908780Z"
    },
    "trusted": true,
    "ExecuteTime": {
     "end_time": "2024-12-19T14:46:16.919109Z",
     "start_time": "2024-12-19T14:46:16.887860Z"
    }
   },
   "outputs": [
    {
     "name": "stdout",
     "output_type": "stream",
     "text": [
      "(126, 2)\n"
     ]
    },
    {
     "data": {
      "text/plain": [
       "                                images  \\\n",
       "0    Cleaned_DataSet/Train\\NORMAL1.png   \n",
       "1   Cleaned_DataSet/Train\\NORMAL10.png   \n",
       "2  Cleaned_DataSet/Train\\NORMAL100.png   \n",
       "3  Cleaned_DataSet/Train\\NORMAL101.png   \n",
       "4  Cleaned_DataSet/Train\\NORMAL102.png   \n",
       "\n",
       "                                        masks  \n",
       "0    Cleaned_DataSet/train_labels\\NORMAL1.png  \n",
       "1   Cleaned_DataSet/train_labels\\NORMAL10.png  \n",
       "2  Cleaned_DataSet/train_labels\\NORMAL100.png  \n",
       "3  Cleaned_DataSet/train_labels\\NORMAL101.png  \n",
       "4  Cleaned_DataSet/train_labels\\NORMAL102.png  "
      ],
      "text/html": [
       "<div>\n",
       "<style scoped>\n",
       "    .dataframe tbody tr th:only-of-type {\n",
       "        vertical-align: middle;\n",
       "    }\n",
       "\n",
       "    .dataframe tbody tr th {\n",
       "        vertical-align: top;\n",
       "    }\n",
       "\n",
       "    .dataframe thead th {\n",
       "        text-align: right;\n",
       "    }\n",
       "</style>\n",
       "<table border=\"1\" class=\"dataframe\">\n",
       "  <thead>\n",
       "    <tr style=\"text-align: right;\">\n",
       "      <th></th>\n",
       "      <th>images</th>\n",
       "      <th>masks</th>\n",
       "    </tr>\n",
       "  </thead>\n",
       "  <tbody>\n",
       "    <tr>\n",
       "      <th>0</th>\n",
       "      <td>Cleaned_DataSet/Train\\NORMAL1.png</td>\n",
       "      <td>Cleaned_DataSet/train_labels\\NORMAL1.png</td>\n",
       "    </tr>\n",
       "    <tr>\n",
       "      <th>1</th>\n",
       "      <td>Cleaned_DataSet/Train\\NORMAL10.png</td>\n",
       "      <td>Cleaned_DataSet/train_labels\\NORMAL10.png</td>\n",
       "    </tr>\n",
       "    <tr>\n",
       "      <th>2</th>\n",
       "      <td>Cleaned_DataSet/Train\\NORMAL100.png</td>\n",
       "      <td>Cleaned_DataSet/train_labels\\NORMAL100.png</td>\n",
       "    </tr>\n",
       "    <tr>\n",
       "      <th>3</th>\n",
       "      <td>Cleaned_DataSet/Train\\NORMAL101.png</td>\n",
       "      <td>Cleaned_DataSet/train_labels\\NORMAL101.png</td>\n",
       "    </tr>\n",
       "    <tr>\n",
       "      <th>4</th>\n",
       "      <td>Cleaned_DataSet/Train\\NORMAL102.png</td>\n",
       "      <td>Cleaned_DataSet/train_labels\\NORMAL102.png</td>\n",
       "    </tr>\n",
       "  </tbody>\n",
       "</table>\n",
       "</div>"
      ]
     },
     "execution_count": 24,
     "metadata": {},
     "output_type": "execute_result"
    }
   ],
   "execution_count": 24
  },
  {
   "cell_type": "code",
   "source": [
    "images = os.listdir(\"Cleaned_DataSet/val\")\n",
    "masks = os.listdir(\"Cleaned_DataSet/val_labels\")\n",
    "val_df = pd.DataFrame({\"images\": map(lambda x: os.path.join(\"Cleaned_DataSet/val\", x), images),\n",
    "                       \"masks\": map(lambda x: os.path.join(\"Cleaned_DataSet/val_labels\", x), masks)})\n",
    "print(val_df.shape)\n",
    "del images, masks\n",
    "val_df.head()"
   ],
   "metadata": {
    "execution": {
     "iopub.status.busy": "2024-09-30T10:27:08.909901Z",
     "iopub.status.idle": "2024-09-30T10:27:08.910383Z",
     "shell.execute_reply.started": "2024-09-30T10:27:08.910128Z",
     "shell.execute_reply": "2024-09-30T10:27:08.910153Z"
    },
    "trusted": true,
    "ExecuteTime": {
     "end_time": "2024-12-19T14:46:17.077010Z",
     "start_time": "2024-12-19T14:46:17.045771Z"
    }
   },
   "outputs": [
    {
     "name": "stdout",
     "output_type": "stream",
     "text": [
      "(40, 2)\n"
     ]
    },
    {
     "data": {
      "text/plain": [
       "                              images                                     masks\n",
       "0  Cleaned_DataSet/val\\NORMAL129.png  Cleaned_DataSet/val_labels\\NORMAL129.png\n",
       "1  Cleaned_DataSet/val\\NORMAL131.png  Cleaned_DataSet/val_labels\\NORMAL131.png\n",
       "2  Cleaned_DataSet/val\\NORMAL133.png  Cleaned_DataSet/val_labels\\NORMAL133.png\n",
       "3  Cleaned_DataSet/val\\NORMAL135.png  Cleaned_DataSet/val_labels\\NORMAL135.png\n",
       "4  Cleaned_DataSet/val\\NORMAL137.png  Cleaned_DataSet/val_labels\\NORMAL137.png"
      ],
      "text/html": [
       "<div>\n",
       "<style scoped>\n",
       "    .dataframe tbody tr th:only-of-type {\n",
       "        vertical-align: middle;\n",
       "    }\n",
       "\n",
       "    .dataframe tbody tr th {\n",
       "        vertical-align: top;\n",
       "    }\n",
       "\n",
       "    .dataframe thead th {\n",
       "        text-align: right;\n",
       "    }\n",
       "</style>\n",
       "<table border=\"1\" class=\"dataframe\">\n",
       "  <thead>\n",
       "    <tr style=\"text-align: right;\">\n",
       "      <th></th>\n",
       "      <th>images</th>\n",
       "      <th>masks</th>\n",
       "    </tr>\n",
       "  </thead>\n",
       "  <tbody>\n",
       "    <tr>\n",
       "      <th>0</th>\n",
       "      <td>Cleaned_DataSet/val\\NORMAL129.png</td>\n",
       "      <td>Cleaned_DataSet/val_labels\\NORMAL129.png</td>\n",
       "    </tr>\n",
       "    <tr>\n",
       "      <th>1</th>\n",
       "      <td>Cleaned_DataSet/val\\NORMAL131.png</td>\n",
       "      <td>Cleaned_DataSet/val_labels\\NORMAL131.png</td>\n",
       "    </tr>\n",
       "    <tr>\n",
       "      <th>2</th>\n",
       "      <td>Cleaned_DataSet/val\\NORMAL133.png</td>\n",
       "      <td>Cleaned_DataSet/val_labels\\NORMAL133.png</td>\n",
       "    </tr>\n",
       "    <tr>\n",
       "      <th>3</th>\n",
       "      <td>Cleaned_DataSet/val\\NORMAL135.png</td>\n",
       "      <td>Cleaned_DataSet/val_labels\\NORMAL135.png</td>\n",
       "    </tr>\n",
       "    <tr>\n",
       "      <th>4</th>\n",
       "      <td>Cleaned_DataSet/val\\NORMAL137.png</td>\n",
       "      <td>Cleaned_DataSet/val_labels\\NORMAL137.png</td>\n",
       "    </tr>\n",
       "  </tbody>\n",
       "</table>\n",
       "</div>"
      ]
     },
     "execution_count": 25,
     "metadata": {},
     "output_type": "execute_result"
    }
   ],
   "execution_count": 25
  },
  {
   "cell_type": "code",
   "source": [
    "images = os.listdir(\"Cleaned_DataSet/test\")\n",
    "masks = os.listdir(\"Cleaned_DataSet/test_labels\")\n",
    "test_df = pd.DataFrame({\"images\": map(lambda x: os.path.join(\"Cleaned_DataSet/test\", x), images),\n",
    "                        \"masks\": map(lambda x: os.path.join(\"Cleaned_DataSet/test_labels\", x), masks)})\n",
    "print(test_df.shape)\n",
    "del images, masks\n",
    "test_df.head()"
   ],
   "metadata": {
    "execution": {
     "iopub.status.busy": "2024-09-30T10:27:08.911559Z",
     "iopub.status.idle": "2024-09-30T10:27:08.912029Z",
     "shell.execute_reply.started": "2024-09-30T10:27:08.911770Z",
     "shell.execute_reply": "2024-09-30T10:27:08.911794Z"
    },
    "trusted": true,
    "ExecuteTime": {
     "end_time": "2024-12-19T14:46:17.263487Z",
     "start_time": "2024-12-19T14:46:17.247862Z"
    }
   },
   "outputs": [
    {
     "name": "stdout",
     "output_type": "stream",
     "text": [
      "(40, 2)\n"
     ]
    },
    {
     "data": {
      "text/plain": [
       "                               images  \\\n",
       "0  Cleaned_DataSet/test\\NORMAL112.png   \n",
       "1  Cleaned_DataSet/test\\NORMAL121.png   \n",
       "2  Cleaned_DataSet/test\\NORMAL125.png   \n",
       "3   Cleaned_DataSet/test\\NORMAL14.png   \n",
       "4   Cleaned_DataSet/test\\NORMAL15.png   \n",
       "\n",
       "                                       masks  \n",
       "0  Cleaned_DataSet/test_labels\\NORMAL112.png  \n",
       "1  Cleaned_DataSet/test_labels\\NORMAL121.png  \n",
       "2  Cleaned_DataSet/test_labels\\NORMAL125.png  \n",
       "3   Cleaned_DataSet/test_labels\\NORMAL14.png  \n",
       "4   Cleaned_DataSet/test_labels\\NORMAL15.png  "
      ],
      "text/html": [
       "<div>\n",
       "<style scoped>\n",
       "    .dataframe tbody tr th:only-of-type {\n",
       "        vertical-align: middle;\n",
       "    }\n",
       "\n",
       "    .dataframe tbody tr th {\n",
       "        vertical-align: top;\n",
       "    }\n",
       "\n",
       "    .dataframe thead th {\n",
       "        text-align: right;\n",
       "    }\n",
       "</style>\n",
       "<table border=\"1\" class=\"dataframe\">\n",
       "  <thead>\n",
       "    <tr style=\"text-align: right;\">\n",
       "      <th></th>\n",
       "      <th>images</th>\n",
       "      <th>masks</th>\n",
       "    </tr>\n",
       "  </thead>\n",
       "  <tbody>\n",
       "    <tr>\n",
       "      <th>0</th>\n",
       "      <td>Cleaned_DataSet/test\\NORMAL112.png</td>\n",
       "      <td>Cleaned_DataSet/test_labels\\NORMAL112.png</td>\n",
       "    </tr>\n",
       "    <tr>\n",
       "      <th>1</th>\n",
       "      <td>Cleaned_DataSet/test\\NORMAL121.png</td>\n",
       "      <td>Cleaned_DataSet/test_labels\\NORMAL121.png</td>\n",
       "    </tr>\n",
       "    <tr>\n",
       "      <th>2</th>\n",
       "      <td>Cleaned_DataSet/test\\NORMAL125.png</td>\n",
       "      <td>Cleaned_DataSet/test_labels\\NORMAL125.png</td>\n",
       "    </tr>\n",
       "    <tr>\n",
       "      <th>3</th>\n",
       "      <td>Cleaned_DataSet/test\\NORMAL14.png</td>\n",
       "      <td>Cleaned_DataSet/test_labels\\NORMAL14.png</td>\n",
       "    </tr>\n",
       "    <tr>\n",
       "      <th>4</th>\n",
       "      <td>Cleaned_DataSet/test\\NORMAL15.png</td>\n",
       "      <td>Cleaned_DataSet/test_labels\\NORMAL15.png</td>\n",
       "    </tr>\n",
       "  </tbody>\n",
       "</table>\n",
       "</div>"
      ]
     },
     "execution_count": 26,
     "metadata": {},
     "output_type": "execute_result"
    }
   ],
   "execution_count": 26
  },
  {
   "cell_type": "code",
   "source": "def encode_labels(masks):\n    labelencoder = LabelEncoder()\n    masks_reshaped = masks.reshape(-1)\n    masks_encoded = labelencoder.fit_transform(masks_reshaped)\n    del masks_reshaped, labelencoder\n    return masks_encoded.reshape(masks.shape)",
   "metadata": {
    "execution": {
     "iopub.status.busy": "2024-09-30T10:27:08.913036Z",
     "iopub.status.idle": "2024-09-30T10:27:08.913510Z",
     "shell.execute_reply.started": "2024-09-30T10:27:08.913253Z",
     "shell.execute_reply": "2024-09-30T10:27:08.913278Z"
    },
    "trusted": true,
    "ExecuteTime": {
     "end_time": "2024-12-19T14:46:17.426153Z",
     "start_time": "2024-12-19T14:46:17.410510Z"
    }
   },
   "outputs": [],
   "execution_count": 27
  },
  {
   "cell_type": "code",
   "source": [
    "classes = 9\n",
    "\n",
    "\n",
    "class SegmentationDataset(Dataset):\n",
    "    def __init__(self, df):\n",
    "        self.df = df\n",
    "        images = []\n",
    "        masks = []\n",
    "        for idx in range(len(self.df)):\n",
    "            sample = self.df.iloc[idx]\n",
    "            images.append(load_img(sample.images, color_mode='grayscale', target_size=(IMG_SIZE, IMG_SIZE)))\n",
    "            masks.append(load_img(sample.masks, color_mode='grayscale', target_size=(IMG_SIZE, IMG_SIZE)))\n",
    "        images = np.array(images)\n",
    "        masks = np.array(masks)\n",
    "        n_classes = classes  #len(np.unique(masks))\n",
    "        masks_encoded = encode_labels(masks)\n",
    "        self.masks_cat = to_categorical(masks_encoded, num_classes=n_classes)\n",
    "        if np.any(self.masks_cat >= 1): print(1)\n",
    "        self.images = np.expand_dims(images, axis=-1) / 255.0\n",
    "        del masks_encoded, images, masks, n_classes\n",
    "\n",
    "    def __len__(self):\n",
    "        return len(self.df)\n",
    "\n",
    "    def __getitem__(self, idx):\n",
    "        image = torch.from_numpy(np.transpose(self.images[idx], (2, 0, 1))).float()\n",
    "        mask = torch.from_numpy(np.transpose(self.masks_cat[idx], (2, 0, 1))).float()\n",
    "        return image, mask"
   ],
   "metadata": {
    "id": "rubber-humanitarian",
    "execution": {
     "iopub.status.busy": "2024-09-30T10:27:08.917482Z",
     "iopub.status.idle": "2024-09-30T10:27:08.917947Z",
     "shell.execute_reply.started": "2024-09-30T10:27:08.917704Z",
     "shell.execute_reply": "2024-09-30T10:27:08.917729Z"
    },
    "trusted": true,
    "ExecuteTime": {
     "end_time": "2024-12-19T14:46:17.570499Z",
     "start_time": "2024-12-19T14:46:17.554874Z"
    }
   },
   "outputs": [],
   "execution_count": 28
  },
  {
   "cell_type": "code",
   "source": [
    "train_data = SegmentationDataset(train_df)\n",
    "val_data = SegmentationDataset(val_df)\n",
    "test_data = SegmentationDataset(test_df)"
   ],
   "metadata": {
    "id": "looking-lightning",
    "execution": {
     "iopub.status.busy": "2024-09-30T10:27:08.919102Z",
     "iopub.status.idle": "2024-09-30T10:27:08.919579Z",
     "shell.execute_reply.started": "2024-09-30T10:27:08.919329Z",
     "shell.execute_reply": "2024-09-30T10:27:08.919354Z"
    },
    "trusted": true,
    "ExecuteTime": {
     "end_time": "2024-12-19T14:46:18.697475Z",
     "start_time": "2024-12-19T14:46:17.741382Z"
    }
   },
   "outputs": [
    {
     "name": "stdout",
     "output_type": "stream",
     "text": [
      "1\n",
      "1\n",
      "1\n"
     ]
    }
   ],
   "execution_count": 29
  },
  {
   "cell_type": "code",
   "source": "print(f\"Size of Trainset : {len(train_data)}\")\nprint(f\"Size of Validset : {len(val_data)}\")",
   "metadata": {
    "id": "gothic-extreme",
    "outputId": "4fff5759-5042-4547-d17a-5f625f590eec",
    "execution": {
     "iopub.status.busy": "2024-09-30T10:27:08.920688Z",
     "iopub.status.idle": "2024-09-30T10:27:08.921165Z",
     "shell.execute_reply.started": "2024-09-30T10:27:08.920902Z",
     "shell.execute_reply": "2024-09-30T10:27:08.920926Z"
    },
    "trusted": true,
    "ExecuteTime": {
     "end_time": "2024-12-19T14:46:18.713070Z",
     "start_time": "2024-12-19T14:46:18.697475Z"
    }
   },
   "outputs": [
    {
     "name": "stdout",
     "output_type": "stream",
     "text": [
      "Size of Trainset : 126\n",
      "Size of Validset : 40\n"
     ]
    }
   ],
   "execution_count": 30
  },
  {
   "cell_type": "code",
   "source": "from torch.utils.data import DataLoader",
   "metadata": {
    "id": "honey-paraguay",
    "execution": {
     "iopub.status.busy": "2024-09-30T10:27:08.922500Z",
     "iopub.status.idle": "2024-09-30T10:27:08.922977Z",
     "shell.execute_reply.started": "2024-09-30T10:27:08.922719Z",
     "shell.execute_reply": "2024-09-30T10:27:08.922743Z"
    },
    "trusted": true,
    "ExecuteTime": {
     "end_time": "2024-12-19T14:46:18.728726Z",
     "start_time": "2024-12-19T14:46:18.713070Z"
    }
   },
   "outputs": [],
   "execution_count": 31
  },
  {
   "cell_type": "code",
   "source": "trainloader = DataLoader(train_data, batch_size=BATCH_SIZE, shuffle=True)\nvalloader = DataLoader(val_data, batch_size=BATCH_SIZE, shuffle=False)\ntestloader = DataLoader(test_data, batch_size=1, shuffle=False)\n\nprint(f\"Total number of batches in Train Loader: {len(trainloader)}\")\nprint(f\"Total number of batches in Val Loader: {len(valloader)}\")",
   "metadata": {
    "id": "lesbian-terror",
    "outputId": "0a26c06d-fc4e-41e4-ed78-d941e05f9e79",
    "execution": {
     "iopub.status.busy": "2024-09-30T10:27:08.924039Z",
     "iopub.status.idle": "2024-09-30T10:27:08.924493Z",
     "shell.execute_reply.started": "2024-09-30T10:27:08.924252Z",
     "shell.execute_reply": "2024-09-30T10:27:08.924278Z"
    },
    "trusted": true,
    "ExecuteTime": {
     "end_time": "2024-12-19T14:46:18.748145Z",
     "start_time": "2024-12-19T14:46:18.728726Z"
    }
   },
   "outputs": [
    {
     "name": "stdout",
     "output_type": "stream",
     "text": [
      "Total number of batches in Train Loader: 8\n",
      "Total number of batches in Val Loader: 3\n"
     ]
    }
   ],
   "execution_count": 32
  },
  {
   "cell_type": "code",
   "source": "for image, mask in trainloader:\n    print(f\"Size of one batch of images: {image.shape}\")\n    print(f\"Size of one batch of masks: {mask.shape}\")\n    break",
   "metadata": {
    "id": "saved-blend",
    "outputId": "dfcd8c6f-bb22-4611-f35e-e70d1f270fc8",
    "execution": {
     "iopub.status.busy": "2024-09-30T10:27:08.925591Z",
     "iopub.status.idle": "2024-09-30T10:27:08.926068Z",
     "shell.execute_reply.started": "2024-09-30T10:27:08.925804Z",
     "shell.execute_reply": "2024-09-30T10:27:08.925829Z"
    },
    "trusted": true,
    "ExecuteTime": {
     "end_time": "2024-12-19T14:46:18.765065Z",
     "start_time": "2024-12-19T14:46:18.748145Z"
    }
   },
   "outputs": [
    {
     "name": "stdout",
     "output_type": "stream",
     "text": [
      "Size of one batch of images: torch.Size([16, 1, 192, 192])\n",
      "Size of one batch of masks: torch.Size([16, 9, 192, 192])\n"
     ]
    }
   ],
   "execution_count": 33
  },
  {
   "cell_type": "code",
   "source": [
    "dice_loss = DiceLoss(mode=\"multilabel\", classes=9)\n",
    "\n",
    "\n",
    "def dice_score(y_true, y_pred):\n",
    "    return 1.0 - dice_loss(y_true, y_pred)"
   ],
   "metadata": {
    "execution": {
     "iopub.status.busy": "2024-09-30T10:27:08.927037Z",
     "iopub.status.idle": "2024-09-30T10:27:08.927484Z",
     "shell.execute_reply.started": "2024-09-30T10:27:08.927244Z",
     "shell.execute_reply": "2024-09-30T10:27:08.927268Z"
    },
    "trusted": true,
    "ExecuteTime": {
     "end_time": "2024-12-19T14:46:18.774015Z",
     "start_time": "2024-12-19T14:46:18.765065Z"
    }
   },
   "outputs": [],
   "execution_count": 34
  },
  {
   "metadata": {
    "ExecuteTime": {
     "end_time": "2024-12-19T14:46:19.531459Z",
     "start_time": "2024-12-19T14:46:19.515804Z"
    }
   },
   "cell_type": "code",
   "source": [
    "class UNet(nn.Module):\n",
    "    def __init__(self, n_classes=9, img_channels=1):\n",
    "        super(UNet, self).__init__()\n",
    "\n",
    "        self.conv1 = self.double_conv(img_channels, 16)\n",
    "        self.pool1 = nn.MaxPool2d(2)\n",
    "\n",
    "        self.conv2 = self.double_conv(16, 32)\n",
    "        self.pool2 = nn.MaxPool2d(2)\n",
    "\n",
    "        self.conv3 = self.double_conv(32, 64)\n",
    "        self.pool3 = nn.MaxPool2d(2)\n",
    "\n",
    "        self.conv4 = self.double_conv(64, 128)\n",
    "        self.pool4 = nn.MaxPool2d(2)\n",
    "\n",
    "        self.conv5 = self.double_conv(128, 256)\n",
    "\n",
    "        self.up6 = nn.ConvTranspose2d(256, 128, kernel_size=2, stride=2)\n",
    "        self.conv6 = self.double_conv(256, 128)\n",
    "\n",
    "        self.up7 = nn.ConvTranspose2d(128, 64, kernel_size=2, stride=2)\n",
    "        self.conv7 = self.double_conv(128, 64)\n",
    "\n",
    "        self.up8 = nn.ConvTranspose2d(64, 32, kernel_size=2, stride=2)\n",
    "        self.conv8 = self.double_conv(64, 32)\n",
    "\n",
    "        self.up9 = nn.ConvTranspose2d(32, 16, kernel_size=2, stride=2)\n",
    "        self.conv9 = self.double_conv(32, 16)\n",
    "\n",
    "        self.out_conv = nn.Conv2d(16, n_classes, kernel_size=1)\n",
    "\n",
    "    def double_conv(self, in_channels, out_channels):\n",
    "        return nn.Sequential(\n",
    "            nn.Conv2d(in_channels, out_channels, kernel_size=3, padding=1, bias=False),\n",
    "            nn.ReLU(inplace=True),\n",
    "            nn.Dropout(p),\n",
    "            nn.Conv2d(out_channels, out_channels, kernel_size=3, padding=1, bias=False),\n",
    "            nn.ReLU(inplace=True)\n",
    "        )\n",
    "\n",
    "    def forward(self, x):\n",
    "        c1 = self.conv1(x)\n",
    "        p1 = self.pool1(c1)\n",
    "\n",
    "        c2 = self.conv2(p1)\n",
    "        p2 = self.pool2(c2)\n",
    "\n",
    "        c3 = self.conv3(p2)\n",
    "        p3 = self.pool3(c3)\n",
    "\n",
    "        c4 = self.conv4(p3)\n",
    "        p4 = self.pool4(c4)\n",
    "\n",
    "        c5 = self.conv5(p4)\n",
    "\n",
    "        u6 = self.up6(c5)\n",
    "        u6 = torch.cat([u6, c4], dim=1)\n",
    "        c6 = self.conv6(u6)\n",
    "\n",
    "        u7 = self.up7(c6)\n",
    "        u7 = torch.cat([u7, c3], dim=1)\n",
    "        c7 = self.conv7(u7)\n",
    "\n",
    "        u8 = self.up8(c7)\n",
    "        u8 = torch.cat([u8, c2], dim=1)\n",
    "        c8 = self.conv8(u8)\n",
    "\n",
    "        u9 = self.up9(c8)\n",
    "        u9 = torch.cat([u9, c1], dim=1)\n",
    "        c9 = self.conv9(u9)\n",
    "\n",
    "        outputs = self.out_conv(c9)\n",
    "        return outputs"
   ],
   "outputs": [],
   "execution_count": 38
  },
  {
   "cell_type": "code",
   "source": [
    "model = UNet()\n",
    "model.to(DEVICE);"
   ],
   "metadata": {
    "id": "MuB5lh5k2WQh",
    "outputId": "307ba63c-7a26-4326-813e-9b255486068f",
    "execution": {
     "iopub.status.busy": "2024-09-30T10:27:08.931714Z",
     "iopub.status.idle": "2024-09-30T10:27:08.932186Z",
     "shell.execute_reply.started": "2024-09-30T10:27:08.931927Z",
     "shell.execute_reply": "2024-09-30T10:27:08.931967Z"
    },
    "trusted": true,
    "ExecuteTime": {
     "end_time": "2024-12-19T14:46:20.364140Z",
     "start_time": "2024-12-19T14:46:20.322934Z"
    }
   },
   "outputs": [],
   "execution_count": 39
  },
  {
   "cell_type": "code",
   "source": [
    "def train_model(data_loader, model, optimizer):\n",
    "    total_loss = 0.0\n",
    "    total_score = 0.0\n",
    "    model.train()\n",
    "\n",
    "    for images, masks in tqdm(data_loader):\n",
    "        images = images.to(DEVICE)\n",
    "        masks = masks.to(DEVICE)\n",
    "\n",
    "        optimizer.zero_grad()\n",
    "        logits = model(images)\n",
    "        # if torch.any(logits > 1): print(logits)\n",
    "\n",
    "        loss = dice_loss(logits, masks)\n",
    "        score = dice_score(logits, masks)\n",
    "\n",
    "        loss.backward()\n",
    "        optimizer.step()\n",
    "        total_score += score.item()\n",
    "        total_loss += loss.item()\n",
    "\n",
    "    return total_loss / len(data_loader), total_score / len(data_loader)"
   ],
   "metadata": {
    "id": "alone-voltage",
    "execution": {
     "iopub.status.busy": "2024-09-30T10:27:08.933276Z",
     "iopub.status.idle": "2024-09-30T10:27:08.933737Z",
     "shell.execute_reply.started": "2024-09-30T10:27:08.933486Z",
     "shell.execute_reply": "2024-09-30T10:27:08.933512Z"
    },
    "trusted": true,
    "ExecuteTime": {
     "end_time": "2024-12-19T14:46:21.166090Z",
     "start_time": "2024-12-19T14:46:21.150488Z"
    }
   },
   "outputs": [],
   "execution_count": 40
  },
  {
   "cell_type": "code",
   "source": [
    "def eval_model(data_loader, model):\n",
    "    total_loss = 0.0\n",
    "    total_score = 0.0\n",
    "    model.eval()\n",
    "\n",
    "    with torch.no_grad():\n",
    "        for images, masks in tqdm(data_loader):\n",
    "            images = images.to(DEVICE)\n",
    "            masks = masks.to(DEVICE)\n",
    "\n",
    "            logits = model(images)\n",
    "\n",
    "            loss = dice_loss(logits, masks)\n",
    "            score = dice_score(logits, masks)\n",
    "\n",
    "            total_score += score.item()\n",
    "            total_loss += loss.item()\n",
    "\n",
    "        return total_loss / len(data_loader), total_score / len(data_loader)"
   ],
   "metadata": {
    "id": "whole-musician",
    "execution": {
     "iopub.status.busy": "2024-09-30T10:27:08.934796Z",
     "iopub.status.idle": "2024-09-30T10:27:08.935270Z",
     "shell.execute_reply.started": "2024-09-30T10:27:08.935025Z",
     "shell.execute_reply": "2024-09-30T10:27:08.935050Z"
    },
    "trusted": true,
    "ExecuteTime": {
     "end_time": "2024-12-19T14:46:21.773022Z",
     "start_time": "2024-12-19T14:46:21.757390Z"
    }
   },
   "outputs": [],
   "execution_count": 41
  },
  {
   "cell_type": "code",
   "source": "optimizer = torch.optim.RMSprop(model.parameters(), lr=LR)",
   "metadata": {
    "id": "floral-france",
    "execution": {
     "iopub.status.busy": "2024-09-30T10:27:08.936301Z",
     "iopub.status.idle": "2024-09-30T10:27:08.936768Z",
     "shell.execute_reply.started": "2024-09-30T10:27:08.936518Z",
     "shell.execute_reply": "2024-09-30T10:27:08.936541Z"
    },
    "trusted": true,
    "ExecuteTime": {
     "end_time": "2024-12-19T14:46:22.467083Z",
     "start_time": "2024-12-19T14:46:22.434310Z"
    }
   },
   "outputs": [],
   "execution_count": 42
  },
  {
   "cell_type": "code",
   "source": "gc.collect()",
   "metadata": {
    "execution": {
     "iopub.status.busy": "2024-09-30T10:27:08.937722Z",
     "iopub.status.idle": "2024-09-30T10:27:08.938196Z",
     "shell.execute_reply.started": "2024-09-30T10:27:08.937937Z",
     "shell.execute_reply": "2024-09-30T10:27:08.937979Z"
    },
    "trusted": true,
    "ExecuteTime": {
     "end_time": "2024-12-19T14:46:23.024778Z",
     "start_time": "2024-12-19T14:46:22.868749Z"
    }
   },
   "outputs": [
    {
     "data": {
      "text/plain": [
       "531"
      ]
     },
     "execution_count": 43,
     "metadata": {},
     "output_type": "execute_result"
    }
   ],
   "execution_count": 43
  },
  {
   "cell_type": "code",
   "source": [
    "best_val_loss = 1e9\n",
    "writer = SummaryWriter(f\"runs/new_clean_{p}\")\n",
    "for i in range(EPOCHS):\n",
    "    train_loss, train_score = train_model(trainloader, model, optimizer)\n",
    "    val_loss, val_score = eval_model(valloader, model)\n",
    "\n",
    "    if val_loss < best_val_loss:\n",
    "        print(\"MODEL SAVED\")\n",
    "\n",
    "        best_val_loss = val_loss\n",
    "    writer.add_scalar(\"Loss/train\", train_loss, i)\n",
    "    writer.add_scalar(\"Loss/val\", val_loss, i)\n",
    "    writer.add_scalar(\"Score/train\", train_score, i)\n",
    "    writer.add_scalar(\"Score/val\", val_score, i)\n",
    "    writer.flush()\n",
    "    print(\n",
    "        f\"\\033[1m\\033[92m Epoch {i} Train DiceLoss {train_loss} Val DiceLoss {val_loss} Train dice_score {train_score} Val dice_score {val_score}\")\n",
    "writer.close()"
   ],
   "metadata": {
    "id": "mounted-sword",
    "outputId": "23c56e95-90f6-4ab4-de45-53c9b7561db1",
    "scrolled": true,
    "execution": {
     "iopub.status.busy": "2024-09-30T10:27:08.939290Z",
     "iopub.status.idle": "2024-09-30T10:27:08.939764Z",
     "shell.execute_reply.started": "2024-09-30T10:27:08.939504Z",
     "shell.execute_reply": "2024-09-30T10:27:08.939529Z"
    },
    "trusted": true,
    "ExecuteTime": {
     "end_time": "2024-12-19T14:51:22.220169Z",
     "start_time": "2024-12-19T14:46:49.182754Z"
    }
   },
   "outputs": [
    {
     "data": {
      "text/plain": [
       "  0%|          | 0/8 [00:00<?, ?it/s]"
      ],
      "application/vnd.jupyter.widget-view+json": {
       "version_major": 2,
       "version_minor": 0,
       "model_id": "8038cfb1effa4f2ea89667fd16057985"
      }
     },
     "metadata": {},
     "output_type": "display_data"
    },
    {
     "data": {
      "text/plain": [
       "  0%|          | 0/3 [00:00<?, ?it/s]"
      ],
      "application/vnd.jupyter.widget-view+json": {
       "version_major": 2,
       "version_minor": 0,
       "model_id": "083ac637d8ee441880a6f42136ade539"
      }
     },
     "metadata": {},
     "output_type": "display_data"
    },
    {
     "name": "stdout",
     "output_type": "stream",
     "text": [
      "MODEL SAVED\n",
      "\u001B[1m\u001B[92m Epoch 0 Train DiceLoss 0.903560534119606 Val DiceLoss 0.9019143184026083 Train dice_score 0.09643946588039398 Val dice_score 0.09808568159739177\n"
     ]
    },
    {
     "data": {
      "text/plain": [
       "  0%|          | 0/8 [00:00<?, ?it/s]"
      ],
      "application/vnd.jupyter.widget-view+json": {
       "version_major": 2,
       "version_minor": 0,
       "model_id": "2a4ce9cac5f24093bfdbaffffabbae70"
      }
     },
     "metadata": {},
     "output_type": "display_data"
    },
    {
     "data": {
      "text/plain": [
       "  0%|          | 0/3 [00:00<?, ?it/s]"
      ],
      "application/vnd.jupyter.widget-view+json": {
       "version_major": 2,
       "version_minor": 0,
       "model_id": "2be62083d3c549a9b0f54dfc87fcc34c"
      }
     },
     "metadata": {},
     "output_type": "display_data"
    },
    {
     "name": "stdout",
     "output_type": "stream",
     "text": [
      "MODEL SAVED\n",
      "\u001B[1m\u001B[92m Epoch 1 Train DiceLoss 0.8878824561834335 Val DiceLoss 0.8677137692769369 Train dice_score 0.11211754381656647 Val dice_score 0.13228623072306314\n"
     ]
    },
    {
     "data": {
      "text/plain": [
       "  0%|          | 0/8 [00:00<?, ?it/s]"
      ],
      "application/vnd.jupyter.widget-view+json": {
       "version_major": 2,
       "version_minor": 0,
       "model_id": "70f6e937c77f4621b8e12d16b252296c"
      }
     },
     "metadata": {},
     "output_type": "display_data"
    },
    {
     "data": {
      "text/plain": [
       "  0%|          | 0/3 [00:00<?, ?it/s]"
      ],
      "application/vnd.jupyter.widget-view+json": {
       "version_major": 2,
       "version_minor": 0,
       "model_id": "7d0ff0dab9754c76a3559b7ab267971c"
      }
     },
     "metadata": {},
     "output_type": "display_data"
    },
    {
     "name": "stdout",
     "output_type": "stream",
     "text": [
      "MODEL SAVED\n",
      "\u001B[1m\u001B[92m Epoch 2 Train DiceLoss 0.8661522790789604 Val DiceLoss 0.8646767338116964 Train dice_score 0.13384772092103958 Val dice_score 0.13532326618830362\n"
     ]
    },
    {
     "data": {
      "text/plain": [
       "  0%|          | 0/8 [00:00<?, ?it/s]"
      ],
      "application/vnd.jupyter.widget-view+json": {
       "version_major": 2,
       "version_minor": 0,
       "model_id": "916d1bbb4d924607a3adb91cb36d9b5b"
      }
     },
     "metadata": {},
     "output_type": "display_data"
    },
    {
     "data": {
      "text/plain": [
       "  0%|          | 0/3 [00:00<?, ?it/s]"
      ],
      "application/vnd.jupyter.widget-view+json": {
       "version_major": 2,
       "version_minor": 0,
       "model_id": "05437b425a17410c995c18f581956c89"
      }
     },
     "metadata": {},
     "output_type": "display_data"
    },
    {
     "name": "stdout",
     "output_type": "stream",
     "text": [
      "MODEL SAVED\n",
      "\u001B[1m\u001B[92m Epoch 3 Train DiceLoss 0.8655029162764549 Val DiceLoss 0.8624728322029114 Train dice_score 0.13449708372354507 Val dice_score 0.13752716779708862\n"
     ]
    },
    {
     "data": {
      "text/plain": [
       "  0%|          | 0/8 [00:00<?, ?it/s]"
      ],
      "application/vnd.jupyter.widget-view+json": {
       "version_major": 2,
       "version_minor": 0,
       "model_id": "c8428abaceec4516924fa82813618c9d"
      }
     },
     "metadata": {},
     "output_type": "display_data"
    },
    {
     "data": {
      "text/plain": [
       "  0%|          | 0/3 [00:00<?, ?it/s]"
      ],
      "application/vnd.jupyter.widget-view+json": {
       "version_major": 2,
       "version_minor": 0,
       "model_id": "9e3b35fc592d44bd99bf9bdf56142785"
      }
     },
     "metadata": {},
     "output_type": "display_data"
    },
    {
     "name": "stdout",
     "output_type": "stream",
     "text": [
      "\u001B[1m\u001B[92m Epoch 4 Train DiceLoss 0.8646597266197205 Val DiceLoss 0.8645852208137512 Train dice_score 0.13534027338027954 Val dice_score 0.13541477918624878\n"
     ]
    },
    {
     "data": {
      "text/plain": [
       "  0%|          | 0/8 [00:00<?, ?it/s]"
      ],
      "application/vnd.jupyter.widget-view+json": {
       "version_major": 2,
       "version_minor": 0,
       "model_id": "029eb5372960465c9a3feeb78a1d1dc3"
      }
     },
     "metadata": {},
     "output_type": "display_data"
    },
    {
     "data": {
      "text/plain": [
       "  0%|          | 0/3 [00:00<?, ?it/s]"
      ],
      "application/vnd.jupyter.widget-view+json": {
       "version_major": 2,
       "version_minor": 0,
       "model_id": "2bbf5c09649045a8b1297d224c6bf151"
      }
     },
     "metadata": {},
     "output_type": "display_data"
    },
    {
     "name": "stdout",
     "output_type": "stream",
     "text": [
      "MODEL SAVED\n",
      "\u001B[1m\u001B[92m Epoch 5 Train DiceLoss 0.8648524135351181 Val DiceLoss 0.8612978458404541 Train dice_score 0.1351475864648819 Val dice_score 0.1387021541595459\n"
     ]
    },
    {
     "data": {
      "text/plain": [
       "  0%|          | 0/8 [00:00<?, ?it/s]"
      ],
      "application/vnd.jupyter.widget-view+json": {
       "version_major": 2,
       "version_minor": 0,
       "model_id": "cad60d307a624fbb90ab98635370bee3"
      }
     },
     "metadata": {},
     "output_type": "display_data"
    },
    {
     "data": {
      "text/plain": [
       "  0%|          | 0/3 [00:00<?, ?it/s]"
      ],
      "application/vnd.jupyter.widget-view+json": {
       "version_major": 2,
       "version_minor": 0,
       "model_id": "1962cc166e2949e398f3e069c0008334"
      }
     },
     "metadata": {},
     "output_type": "display_data"
    },
    {
     "name": "stdout",
     "output_type": "stream",
     "text": [
      "\u001B[1m\u001B[92m Epoch 6 Train DiceLoss 0.8632732480764389 Val DiceLoss 0.8631297945976257 Train dice_score 0.1367267519235611 Val dice_score 0.13687020540237427\n"
     ]
    },
    {
     "data": {
      "text/plain": [
       "  0%|          | 0/8 [00:00<?, ?it/s]"
      ],
      "application/vnd.jupyter.widget-view+json": {
       "version_major": 2,
       "version_minor": 0,
       "model_id": "f6aae319b19043338224b880bd807741"
      }
     },
     "metadata": {},
     "output_type": "display_data"
    },
    {
     "data": {
      "text/plain": [
       "  0%|          | 0/3 [00:00<?, ?it/s]"
      ],
      "application/vnd.jupyter.widget-view+json": {
       "version_major": 2,
       "version_minor": 0,
       "model_id": "6add0caf2c5345ddb0fa52188920bfbd"
      }
     },
     "metadata": {},
     "output_type": "display_data"
    },
    {
     "name": "stdout",
     "output_type": "stream",
     "text": [
      "\u001B[1m\u001B[92m Epoch 7 Train DiceLoss 0.8619595393538475 Val DiceLoss 0.8627246220906576 Train dice_score 0.1380404606461525 Val dice_score 0.13727537790934244\n"
     ]
    },
    {
     "data": {
      "text/plain": [
       "  0%|          | 0/8 [00:00<?, ?it/s]"
      ],
      "application/vnd.jupyter.widget-view+json": {
       "version_major": 2,
       "version_minor": 0,
       "model_id": "bce8eb197a9144e6bddc488dcef8cf6b"
      }
     },
     "metadata": {},
     "output_type": "display_data"
    },
    {
     "data": {
      "text/plain": [
       "  0%|          | 0/3 [00:00<?, ?it/s]"
      ],
      "application/vnd.jupyter.widget-view+json": {
       "version_major": 2,
       "version_minor": 0,
       "model_id": "fa3bc954f3e345b8b56b03583c6c54dc"
      }
     },
     "metadata": {},
     "output_type": "display_data"
    },
    {
     "name": "stdout",
     "output_type": "stream",
     "text": [
      "MODEL SAVED\n",
      "\u001B[1m\u001B[92m Epoch 8 Train DiceLoss 0.8606155216693878 Val DiceLoss 0.8595918416976929 Train dice_score 0.13938447833061218 Val dice_score 0.14040815830230713\n"
     ]
    },
    {
     "data": {
      "text/plain": [
       "  0%|          | 0/8 [00:00<?, ?it/s]"
      ],
      "application/vnd.jupyter.widget-view+json": {
       "version_major": 2,
       "version_minor": 0,
       "model_id": "f17e2721bb574d749f6cbb97a4d6a3f3"
      }
     },
     "metadata": {},
     "output_type": "display_data"
    },
    {
     "data": {
      "text/plain": [
       "  0%|          | 0/3 [00:00<?, ?it/s]"
      ],
      "application/vnd.jupyter.widget-view+json": {
       "version_major": 2,
       "version_minor": 0,
       "model_id": "c6f540736d3e4fe2bccc1475cc895456"
      }
     },
     "metadata": {},
     "output_type": "display_data"
    },
    {
     "name": "stdout",
     "output_type": "stream",
     "text": [
      "MODEL SAVED\n",
      "\u001B[1m\u001B[92m Epoch 9 Train DiceLoss 0.8596919178962708 Val DiceLoss 0.8582155108451843 Train dice_score 0.14030808210372925 Val dice_score 0.14178448915481567\n"
     ]
    },
    {
     "data": {
      "text/plain": [
       "  0%|          | 0/8 [00:00<?, ?it/s]"
      ],
      "application/vnd.jupyter.widget-view+json": {
       "version_major": 2,
       "version_minor": 0,
       "model_id": "b4ef331c2b77440a914bdd9746c96db3"
      }
     },
     "metadata": {},
     "output_type": "display_data"
    },
    {
     "data": {
      "text/plain": [
       "  0%|          | 0/3 [00:00<?, ?it/s]"
      ],
      "application/vnd.jupyter.widget-view+json": {
       "version_major": 2,
       "version_minor": 0,
       "model_id": "53fa33e845de4000a097f8849fe9046b"
      }
     },
     "metadata": {},
     "output_type": "display_data"
    },
    {
     "name": "stdout",
     "output_type": "stream",
     "text": [
      "MODEL SAVED\n",
      "\u001B[1m\u001B[92m Epoch 10 Train DiceLoss 0.8582120835781097 Val DiceLoss 0.8576956192652384 Train dice_score 0.14178791642189026 Val dice_score 0.14230438073476157\n"
     ]
    },
    {
     "data": {
      "text/plain": [
       "  0%|          | 0/8 [00:00<?, ?it/s]"
      ],
      "application/vnd.jupyter.widget-view+json": {
       "version_major": 2,
       "version_minor": 0,
       "model_id": "5d7b1bda136044d7bd0a2e9681db6c9e"
      }
     },
     "metadata": {},
     "output_type": "display_data"
    },
    {
     "data": {
      "text/plain": [
       "  0%|          | 0/3 [00:00<?, ?it/s]"
      ],
      "application/vnd.jupyter.widget-view+json": {
       "version_major": 2,
       "version_minor": 0,
       "model_id": "38cf395aedce49be8719ff1a0ac90fac"
      }
     },
     "metadata": {},
     "output_type": "display_data"
    },
    {
     "name": "stdout",
     "output_type": "stream",
     "text": [
      "MODEL SAVED\n",
      "\u001B[1m\u001B[92m Epoch 11 Train DiceLoss 0.8571312800049782 Val DiceLoss 0.8566512068112692 Train dice_score 0.14286871999502182 Val dice_score 0.14334879318873087\n"
     ]
    },
    {
     "data": {
      "text/plain": [
       "  0%|          | 0/8 [00:00<?, ?it/s]"
      ],
      "application/vnd.jupyter.widget-view+json": {
       "version_major": 2,
       "version_minor": 0,
       "model_id": "d47a8af39c6245faa6db819e64693b3e"
      }
     },
     "metadata": {},
     "output_type": "display_data"
    },
    {
     "data": {
      "text/plain": [
       "  0%|          | 0/3 [00:00<?, ?it/s]"
      ],
      "application/vnd.jupyter.widget-view+json": {
       "version_major": 2,
       "version_minor": 0,
       "model_id": "1fcb731188714d2e8d7aabc50aa0325d"
      }
     },
     "metadata": {},
     "output_type": "display_data"
    },
    {
     "name": "stdout",
     "output_type": "stream",
     "text": [
      "MODEL SAVED\n",
      "\u001B[1m\u001B[92m Epoch 12 Train DiceLoss 0.8572639152407646 Val DiceLoss 0.8553086121877035 Train dice_score 0.14273608475923538 Val dice_score 0.14469138781229654\n"
     ]
    },
    {
     "data": {
      "text/plain": [
       "  0%|          | 0/8 [00:00<?, ?it/s]"
      ],
      "application/vnd.jupyter.widget-view+json": {
       "version_major": 2,
       "version_minor": 0,
       "model_id": "f554bb19f3db4f809081f5ee47768d1e"
      }
     },
     "metadata": {},
     "output_type": "display_data"
    },
    {
     "data": {
      "text/plain": [
       "  0%|          | 0/3 [00:00<?, ?it/s]"
      ],
      "application/vnd.jupyter.widget-view+json": {
       "version_major": 2,
       "version_minor": 0,
       "model_id": "ae28b07c51424494ad5a69cf7025e6ba"
      }
     },
     "metadata": {},
     "output_type": "display_data"
    },
    {
     "name": "stdout",
     "output_type": "stream",
     "text": [
      "MODEL SAVED\n",
      "\u001B[1m\u001B[92m Epoch 13 Train DiceLoss 0.8552467450499535 Val DiceLoss 0.8536158998807272 Train dice_score 0.14475325495004654 Val dice_score 0.14638410011927286\n"
     ]
    },
    {
     "data": {
      "text/plain": [
       "  0%|          | 0/8 [00:00<?, ?it/s]"
      ],
      "application/vnd.jupyter.widget-view+json": {
       "version_major": 2,
       "version_minor": 0,
       "model_id": "cf2a26febd3f47f3b7076de12489daf1"
      }
     },
     "metadata": {},
     "output_type": "display_data"
    },
    {
     "data": {
      "text/plain": [
       "  0%|          | 0/3 [00:00<?, ?it/s]"
      ],
      "application/vnd.jupyter.widget-view+json": {
       "version_major": 2,
       "version_minor": 0,
       "model_id": "15fcc505918242a3804fe70eb2feba18"
      }
     },
     "metadata": {},
     "output_type": "display_data"
    },
    {
     "name": "stdout",
     "output_type": "stream",
     "text": [
      "MODEL SAVED\n",
      "\u001B[1m\u001B[92m Epoch 14 Train DiceLoss 0.8539894744753838 Val DiceLoss 0.8530189990997314 Train dice_score 0.14601052552461624 Val dice_score 0.14698100090026855\n"
     ]
    },
    {
     "data": {
      "text/plain": [
       "  0%|          | 0/8 [00:00<?, ?it/s]"
      ],
      "application/vnd.jupyter.widget-view+json": {
       "version_major": 2,
       "version_minor": 0,
       "model_id": "05e71f265e9d466aac82f010265fb7a4"
      }
     },
     "metadata": {},
     "output_type": "display_data"
    },
    {
     "data": {
      "text/plain": [
       "  0%|          | 0/3 [00:00<?, ?it/s]"
      ],
      "application/vnd.jupyter.widget-view+json": {
       "version_major": 2,
       "version_minor": 0,
       "model_id": "e4143e43b826495aa6cc55df3a87872a"
      }
     },
     "metadata": {},
     "output_type": "display_data"
    },
    {
     "name": "stdout",
     "output_type": "stream",
     "text": [
      "MODEL SAVED\n",
      "\u001B[1m\u001B[92m Epoch 15 Train DiceLoss 0.8530855849385262 Val DiceLoss 0.851057787736257 Train dice_score 0.14691441506147385 Val dice_score 0.14894221226374307\n"
     ]
    },
    {
     "data": {
      "text/plain": [
       "  0%|          | 0/8 [00:00<?, ?it/s]"
      ],
      "application/vnd.jupyter.widget-view+json": {
       "version_major": 2,
       "version_minor": 0,
       "model_id": "99db960d4a9244fcba94cedf2ecc4781"
      }
     },
     "metadata": {},
     "output_type": "display_data"
    },
    {
     "data": {
      "text/plain": [
       "  0%|          | 0/3 [00:00<?, ?it/s]"
      ],
      "application/vnd.jupyter.widget-view+json": {
       "version_major": 2,
       "version_minor": 0,
       "model_id": "62137eca613e434bada05821f2ab9a49"
      }
     },
     "metadata": {},
     "output_type": "display_data"
    },
    {
     "name": "stdout",
     "output_type": "stream",
     "text": [
      "MODEL SAVED\n",
      "\u001B[1m\u001B[92m Epoch 16 Train DiceLoss 0.8508055061101913 Val DiceLoss 0.8507808844248453 Train dice_score 0.14919449388980865 Val dice_score 0.14921911557515463\n"
     ]
    },
    {
     "data": {
      "text/plain": [
       "  0%|          | 0/8 [00:00<?, ?it/s]"
      ],
      "application/vnd.jupyter.widget-view+json": {
       "version_major": 2,
       "version_minor": 0,
       "model_id": "810ee25a39c444cca217c622cbca8e07"
      }
     },
     "metadata": {},
     "output_type": "display_data"
    },
    {
     "data": {
      "text/plain": [
       "  0%|          | 0/3 [00:00<?, ?it/s]"
      ],
      "application/vnd.jupyter.widget-view+json": {
       "version_major": 2,
       "version_minor": 0,
       "model_id": "18c49f3c2c3d4b2499a659f2fdb1643e"
      }
     },
     "metadata": {},
     "output_type": "display_data"
    },
    {
     "name": "stdout",
     "output_type": "stream",
     "text": [
      "\u001B[1m\u001B[92m Epoch 17 Train DiceLoss 0.8499120473861694 Val DiceLoss 0.8599364757537842 Train dice_score 0.15008795261383057 Val dice_score 0.14006352424621582\n"
     ]
    },
    {
     "data": {
      "text/plain": [
       "  0%|          | 0/8 [00:00<?, ?it/s]"
      ],
      "application/vnd.jupyter.widget-view+json": {
       "version_major": 2,
       "version_minor": 0,
       "model_id": "740401e3b9774f9ea6d43b67b07c5cdb"
      }
     },
     "metadata": {},
     "output_type": "display_data"
    },
    {
     "data": {
      "text/plain": [
       "  0%|          | 0/3 [00:00<?, ?it/s]"
      ],
      "application/vnd.jupyter.widget-view+json": {
       "version_major": 2,
       "version_minor": 0,
       "model_id": "f8e6f898183d42cda69d13a39aa89b07"
      }
     },
     "metadata": {},
     "output_type": "display_data"
    },
    {
     "name": "stdout",
     "output_type": "stream",
     "text": [
      "\u001B[1m\u001B[92m Epoch 18 Train DiceLoss 0.8607799932360649 Val DiceLoss 0.8555802702903748 Train dice_score 0.1392200067639351 Val dice_score 0.14441972970962524\n"
     ]
    },
    {
     "data": {
      "text/plain": [
       "  0%|          | 0/8 [00:00<?, ?it/s]"
      ],
      "application/vnd.jupyter.widget-view+json": {
       "version_major": 2,
       "version_minor": 0,
       "model_id": "7da71356cab14fcba10a11f306097e5a"
      }
     },
     "metadata": {},
     "output_type": "display_data"
    },
    {
     "data": {
      "text/plain": [
       "  0%|          | 0/3 [00:00<?, ?it/s]"
      ],
      "application/vnd.jupyter.widget-view+json": {
       "version_major": 2,
       "version_minor": 0,
       "model_id": "6063603a6a7f4f939ceacb9b68da7e06"
      }
     },
     "metadata": {},
     "output_type": "display_data"
    },
    {
     "name": "stdout",
     "output_type": "stream",
     "text": [
      "\u001B[1m\u001B[92m Epoch 19 Train DiceLoss 0.8465650603175163 Val DiceLoss 0.8648273348808289 Train dice_score 0.15343493968248367 Val dice_score 0.13517266511917114\n"
     ]
    },
    {
     "data": {
      "text/plain": [
       "  0%|          | 0/8 [00:00<?, ?it/s]"
      ],
      "application/vnd.jupyter.widget-view+json": {
       "version_major": 2,
       "version_minor": 0,
       "model_id": "e00e40c6eb784cc8a85da3d89acda94f"
      }
     },
     "metadata": {},
     "output_type": "display_data"
    },
    {
     "data": {
      "text/plain": [
       "  0%|          | 0/3 [00:00<?, ?it/s]"
      ],
      "application/vnd.jupyter.widget-view+json": {
       "version_major": 2,
       "version_minor": 0,
       "model_id": "a13db3fc60b44b9281b0bc76d55aa006"
      }
     },
     "metadata": {},
     "output_type": "display_data"
    },
    {
     "name": "stdout",
     "output_type": "stream",
     "text": [
      "\u001B[1m\u001B[92m Epoch 20 Train DiceLoss 0.823773518204689 Val DiceLoss 0.8727342089017233 Train dice_score 0.17622648179531097 Val dice_score 0.12726579109827676\n"
     ]
    },
    {
     "data": {
      "text/plain": [
       "  0%|          | 0/8 [00:00<?, ?it/s]"
      ],
      "application/vnd.jupyter.widget-view+json": {
       "version_major": 2,
       "version_minor": 0,
       "model_id": "f72cece4e6ca4680a8f945b496edcaa6"
      }
     },
     "metadata": {},
     "output_type": "display_data"
    },
    {
     "data": {
      "text/plain": [
       "  0%|          | 0/3 [00:00<?, ?it/s]"
      ],
      "application/vnd.jupyter.widget-view+json": {
       "version_major": 2,
       "version_minor": 0,
       "model_id": "fb5e8595e0bc4356b0fe4b4c7f39cf25"
      }
     },
     "metadata": {},
     "output_type": "display_data"
    },
    {
     "name": "stdout",
     "output_type": "stream",
     "text": [
      "MODEL SAVED\n",
      "\u001B[1m\u001B[92m Epoch 21 Train DiceLoss 0.815545104444027 Val DiceLoss 0.7895518143971761 Train dice_score 0.18445489555597305 Val dice_score 0.21044818560282388\n"
     ]
    },
    {
     "data": {
      "text/plain": [
       "  0%|          | 0/8 [00:00<?, ?it/s]"
      ],
      "application/vnd.jupyter.widget-view+json": {
       "version_major": 2,
       "version_minor": 0,
       "model_id": "c44f0bcff9fb42d28dfbd3da2463c3d0"
      }
     },
     "metadata": {},
     "output_type": "display_data"
    },
    {
     "data": {
      "text/plain": [
       "  0%|          | 0/3 [00:00<?, ?it/s]"
      ],
      "application/vnd.jupyter.widget-view+json": {
       "version_major": 2,
       "version_minor": 0,
       "model_id": "42f5ed71450a4792918d843906a04267"
      }
     },
     "metadata": {},
     "output_type": "display_data"
    },
    {
     "name": "stdout",
     "output_type": "stream",
     "text": [
      "MODEL SAVED\n",
      "\u001B[1m\u001B[92m Epoch 22 Train DiceLoss 0.7793952599167824 Val DiceLoss 0.7454281051953634 Train dice_score 0.22060474008321762 Val dice_score 0.25457189480463666\n"
     ]
    },
    {
     "data": {
      "text/plain": [
       "  0%|          | 0/8 [00:00<?, ?it/s]"
      ],
      "application/vnd.jupyter.widget-view+json": {
       "version_major": 2,
       "version_minor": 0,
       "model_id": "0ae0b826e04744d5945e72c9497926a7"
      }
     },
     "metadata": {},
     "output_type": "display_data"
    },
    {
     "data": {
      "text/plain": [
       "  0%|          | 0/3 [00:00<?, ?it/s]"
      ],
      "application/vnd.jupyter.widget-view+json": {
       "version_major": 2,
       "version_minor": 0,
       "model_id": "39b193420c8a48bca65082800aa88ca8"
      }
     },
     "metadata": {},
     "output_type": "display_data"
    },
    {
     "name": "stdout",
     "output_type": "stream",
     "text": [
      "MODEL SAVED\n",
      "\u001B[1m\u001B[92m Epoch 23 Train DiceLoss 0.7529952302575111 Val DiceLoss 0.7310342590014139 Train dice_score 0.24700476974248886 Val dice_score 0.268965740998586\n"
     ]
    },
    {
     "data": {
      "text/plain": [
       "  0%|          | 0/8 [00:00<?, ?it/s]"
      ],
      "application/vnd.jupyter.widget-view+json": {
       "version_major": 2,
       "version_minor": 0,
       "model_id": "6eba5f5185ec4cab878e345b1f2af36b"
      }
     },
     "metadata": {},
     "output_type": "display_data"
    },
    {
     "data": {
      "text/plain": [
       "  0%|          | 0/3 [00:00<?, ?it/s]"
      ],
      "application/vnd.jupyter.widget-view+json": {
       "version_major": 2,
       "version_minor": 0,
       "model_id": "f867a54a20994bff9de9d0f70e6e3c86"
      }
     },
     "metadata": {},
     "output_type": "display_data"
    },
    {
     "name": "stdout",
     "output_type": "stream",
     "text": [
      "MODEL SAVED\n",
      "\u001B[1m\u001B[92m Epoch 24 Train DiceLoss 0.7351402565836906 Val DiceLoss 0.6941004594167074 Train dice_score 0.26485974341630936 Val dice_score 0.30589954058329266\n"
     ]
    },
    {
     "data": {
      "text/plain": [
       "  0%|          | 0/8 [00:00<?, ?it/s]"
      ],
      "application/vnd.jupyter.widget-view+json": {
       "version_major": 2,
       "version_minor": 0,
       "model_id": "a5552c3249f4449bbd71d1967dbb32a2"
      }
     },
     "metadata": {},
     "output_type": "display_data"
    },
    {
     "data": {
      "text/plain": [
       "  0%|          | 0/3 [00:00<?, ?it/s]"
      ],
      "application/vnd.jupyter.widget-view+json": {
       "version_major": 2,
       "version_minor": 0,
       "model_id": "b6970dcc296f4d8b8941bf6b9fe1fc8f"
      }
     },
     "metadata": {},
     "output_type": "display_data"
    },
    {
     "name": "stdout",
     "output_type": "stream",
     "text": [
      "\u001B[1m\u001B[92m Epoch 25 Train DiceLoss 0.726685032248497 Val DiceLoss 0.7190386056900024 Train dice_score 0.273314967751503 Val dice_score 0.28096139430999756\n"
     ]
    },
    {
     "data": {
      "text/plain": [
       "  0%|          | 0/8 [00:00<?, ?it/s]"
      ],
      "application/vnd.jupyter.widget-view+json": {
       "version_major": 2,
       "version_minor": 0,
       "model_id": "f393d5466e6e4e6bb7c0ddba38778364"
      }
     },
     "metadata": {},
     "output_type": "display_data"
    },
    {
     "data": {
      "text/plain": [
       "  0%|          | 0/3 [00:00<?, ?it/s]"
      ],
      "application/vnd.jupyter.widget-view+json": {
       "version_major": 2,
       "version_minor": 0,
       "model_id": "55406f505572498cb2e12c8feff8c213"
      }
     },
     "metadata": {},
     "output_type": "display_data"
    },
    {
     "name": "stdout",
     "output_type": "stream",
     "text": [
      "MODEL SAVED\n",
      "\u001B[1m\u001B[92m Epoch 26 Train DiceLoss 0.7123978361487389 Val DiceLoss 0.6894871592521667 Train dice_score 0.28760216385126114 Val dice_score 0.31051284074783325\n"
     ]
    },
    {
     "data": {
      "text/plain": [
       "  0%|          | 0/8 [00:00<?, ?it/s]"
      ],
      "application/vnd.jupyter.widget-view+json": {
       "version_major": 2,
       "version_minor": 0,
       "model_id": "1923b60ab79e423c8bc0f7873006c56f"
      }
     },
     "metadata": {},
     "output_type": "display_data"
    },
    {
     "data": {
      "text/plain": [
       "  0%|          | 0/3 [00:00<?, ?it/s]"
      ],
      "application/vnd.jupyter.widget-view+json": {
       "version_major": 2,
       "version_minor": 0,
       "model_id": "cb1bfb8b25f941d2a6152fa7fc4af46d"
      }
     },
     "metadata": {},
     "output_type": "display_data"
    },
    {
     "name": "stdout",
     "output_type": "stream",
     "text": [
      "MODEL SAVED\n",
      "\u001B[1m\u001B[92m Epoch 27 Train DiceLoss 0.7019609957933426 Val DiceLoss 0.6791128913561503 Train dice_score 0.2980390042066574 Val dice_score 0.3208871086438497\n"
     ]
    },
    {
     "data": {
      "text/plain": [
       "  0%|          | 0/8 [00:00<?, ?it/s]"
      ],
      "application/vnd.jupyter.widget-view+json": {
       "version_major": 2,
       "version_minor": 0,
       "model_id": "7874f321256449698318c9164d3ed789"
      }
     },
     "metadata": {},
     "output_type": "display_data"
    },
    {
     "data": {
      "text/plain": [
       "  0%|          | 0/3 [00:00<?, ?it/s]"
      ],
      "application/vnd.jupyter.widget-view+json": {
       "version_major": 2,
       "version_minor": 0,
       "model_id": "187a6058420a41cc8b7fb2fdf2b17015"
      }
     },
     "metadata": {},
     "output_type": "display_data"
    },
    {
     "name": "stdout",
     "output_type": "stream",
     "text": [
      "MODEL SAVED\n",
      "\u001B[1m\u001B[92m Epoch 28 Train DiceLoss 0.6938289701938629 Val DiceLoss 0.6710923314094543 Train dice_score 0.3061710298061371 Val dice_score 0.32890766859054565\n"
     ]
    },
    {
     "data": {
      "text/plain": [
       "  0%|          | 0/8 [00:00<?, ?it/s]"
      ],
      "application/vnd.jupyter.widget-view+json": {
       "version_major": 2,
       "version_minor": 0,
       "model_id": "91c6353c6f57412c84e8681b9cb02234"
      }
     },
     "metadata": {},
     "output_type": "display_data"
    },
    {
     "data": {
      "text/plain": [
       "  0%|          | 0/3 [00:00<?, ?it/s]"
      ],
      "application/vnd.jupyter.widget-view+json": {
       "version_major": 2,
       "version_minor": 0,
       "model_id": "33f65e5dfe3a49e2bfc12e81cebb7bc2"
      }
     },
     "metadata": {},
     "output_type": "display_data"
    },
    {
     "name": "stdout",
     "output_type": "stream",
     "text": [
      "MODEL SAVED\n",
      "\u001B[1m\u001B[92m Epoch 29 Train DiceLoss 0.6903800517320633 Val DiceLoss 0.6610600352287292 Train dice_score 0.3096199482679367 Val dice_score 0.33893996477127075\n"
     ]
    },
    {
     "data": {
      "text/plain": [
       "  0%|          | 0/8 [00:00<?, ?it/s]"
      ],
      "application/vnd.jupyter.widget-view+json": {
       "version_major": 2,
       "version_minor": 0,
       "model_id": "00238f8affc041a7afdb6cb41a4a668e"
      }
     },
     "metadata": {},
     "output_type": "display_data"
    },
    {
     "data": {
      "text/plain": [
       "  0%|          | 0/3 [00:00<?, ?it/s]"
      ],
      "application/vnd.jupyter.widget-view+json": {
       "version_major": 2,
       "version_minor": 0,
       "model_id": "a5bc63cf4d8b4d428943fad434d3c3b9"
      }
     },
     "metadata": {},
     "output_type": "display_data"
    },
    {
     "name": "stdout",
     "output_type": "stream",
     "text": [
      "\u001B[1m\u001B[92m Epoch 30 Train DiceLoss 0.6731106489896774 Val DiceLoss 0.6628790895144144 Train dice_score 0.32688935101032257 Val dice_score 0.3371209104855855\n"
     ]
    },
    {
     "data": {
      "text/plain": [
       "  0%|          | 0/8 [00:00<?, ?it/s]"
      ],
      "application/vnd.jupyter.widget-view+json": {
       "version_major": 2,
       "version_minor": 0,
       "model_id": "4efbc7379fe44d38a2cf2306d894c985"
      }
     },
     "metadata": {},
     "output_type": "display_data"
    },
    {
     "data": {
      "text/plain": [
       "  0%|          | 0/3 [00:00<?, ?it/s]"
      ],
      "application/vnd.jupyter.widget-view+json": {
       "version_major": 2,
       "version_minor": 0,
       "model_id": "3a845cfd49614d5e8ef4f575795ed594"
      }
     },
     "metadata": {},
     "output_type": "display_data"
    },
    {
     "name": "stdout",
     "output_type": "stream",
     "text": [
      "MODEL SAVED\n",
      "\u001B[1m\u001B[92m Epoch 31 Train DiceLoss 0.6718975454568863 Val DiceLoss 0.6357845067977905 Train dice_score 0.3281024545431137 Val dice_score 0.3642154932022095\n"
     ]
    },
    {
     "data": {
      "text/plain": [
       "  0%|          | 0/8 [00:00<?, ?it/s]"
      ],
      "application/vnd.jupyter.widget-view+json": {
       "version_major": 2,
       "version_minor": 0,
       "model_id": "4a774f82aea7483c84b5988630a65c66"
      }
     },
     "metadata": {},
     "output_type": "display_data"
    },
    {
     "data": {
      "text/plain": [
       "  0%|          | 0/3 [00:00<?, ?it/s]"
      ],
      "application/vnd.jupyter.widget-view+json": {
       "version_major": 2,
       "version_minor": 0,
       "model_id": "ad5303337105488eb0a5e3b686e2d260"
      }
     },
     "metadata": {},
     "output_type": "display_data"
    },
    {
     "name": "stdout",
     "output_type": "stream",
     "text": [
      "MODEL SAVED\n",
      "\u001B[1m\u001B[92m Epoch 32 Train DiceLoss 0.6694859564304352 Val DiceLoss 0.628152052561442 Train dice_score 0.3305140435695648 Val dice_score 0.3718479474385579\n"
     ]
    },
    {
     "data": {
      "text/plain": [
       "  0%|          | 0/8 [00:00<?, ?it/s]"
      ],
      "application/vnd.jupyter.widget-view+json": {
       "version_major": 2,
       "version_minor": 0,
       "model_id": "adda6bc3cb8d439a9fad7f79fea5458b"
      }
     },
     "metadata": {},
     "output_type": "display_data"
    },
    {
     "data": {
      "text/plain": [
       "  0%|          | 0/3 [00:00<?, ?it/s]"
      ],
      "application/vnd.jupyter.widget-view+json": {
       "version_major": 2,
       "version_minor": 0,
       "model_id": "bf0b9e4515cd465b9b55826fb1951378"
      }
     },
     "metadata": {},
     "output_type": "display_data"
    },
    {
     "name": "stdout",
     "output_type": "stream",
     "text": [
      "\u001B[1m\u001B[92m Epoch 33 Train DiceLoss 0.6573908478021622 Val DiceLoss 0.6657628019650778 Train dice_score 0.34260915219783783 Val dice_score 0.3342371980349223\n"
     ]
    },
    {
     "data": {
      "text/plain": [
       "  0%|          | 0/8 [00:00<?, ?it/s]"
      ],
      "application/vnd.jupyter.widget-view+json": {
       "version_major": 2,
       "version_minor": 0,
       "model_id": "e68d5c832b96489fb9c2ac1f6f25ba48"
      }
     },
     "metadata": {},
     "output_type": "display_data"
    },
    {
     "data": {
      "text/plain": [
       "  0%|          | 0/3 [00:00<?, ?it/s]"
      ],
      "application/vnd.jupyter.widget-view+json": {
       "version_major": 2,
       "version_minor": 0,
       "model_id": "22095add23984c2f91c53b24a380c0df"
      }
     },
     "metadata": {},
     "output_type": "display_data"
    },
    {
     "name": "stdout",
     "output_type": "stream",
     "text": [
      "\u001B[1m\u001B[92m Epoch 34 Train DiceLoss 0.6779452487826347 Val DiceLoss 0.6348257660865784 Train dice_score 0.32205475121736526 Val dice_score 0.36517423391342163\n"
     ]
    },
    {
     "data": {
      "text/plain": [
       "  0%|          | 0/8 [00:00<?, ?it/s]"
      ],
      "application/vnd.jupyter.widget-view+json": {
       "version_major": 2,
       "version_minor": 0,
       "model_id": "c827bb86bcdb4d42ba3bc76e2ea99193"
      }
     },
     "metadata": {},
     "output_type": "display_data"
    },
    {
     "data": {
      "text/plain": [
       "  0%|          | 0/3 [00:00<?, ?it/s]"
      ],
      "application/vnd.jupyter.widget-view+json": {
       "version_major": 2,
       "version_minor": 0,
       "model_id": "f0dc2753bb894bb39600053267205814"
      }
     },
     "metadata": {},
     "output_type": "display_data"
    },
    {
     "name": "stdout",
     "output_type": "stream",
     "text": [
      "\u001B[1m\u001B[92m Epoch 35 Train DiceLoss 0.6664620265364647 Val DiceLoss 0.6326819260915121 Train dice_score 0.3335379734635353 Val dice_score 0.367318073908488\n"
     ]
    },
    {
     "data": {
      "text/plain": [
       "  0%|          | 0/8 [00:00<?, ?it/s]"
      ],
      "application/vnd.jupyter.widget-view+json": {
       "version_major": 2,
       "version_minor": 0,
       "model_id": "e30f91e658ce43ac82e9632ddb19dc9c"
      }
     },
     "metadata": {},
     "output_type": "display_data"
    },
    {
     "data": {
      "text/plain": [
       "  0%|          | 0/3 [00:00<?, ?it/s]"
      ],
      "application/vnd.jupyter.widget-view+json": {
       "version_major": 2,
       "version_minor": 0,
       "model_id": "4a8f9777d1b147e58d8fb85ace46b791"
      }
     },
     "metadata": {},
     "output_type": "display_data"
    },
    {
     "name": "stdout",
     "output_type": "stream",
     "text": [
      "MODEL SAVED\n",
      "\u001B[1m\u001B[92m Epoch 36 Train DiceLoss 0.6480452120304108 Val DiceLoss 0.615584671497345 Train dice_score 0.35195478796958923 Val dice_score 0.38441532850265503\n"
     ]
    },
    {
     "data": {
      "text/plain": [
       "  0%|          | 0/8 [00:00<?, ?it/s]"
      ],
      "application/vnd.jupyter.widget-view+json": {
       "version_major": 2,
       "version_minor": 0,
       "model_id": "1af91a5d3da348ccbbd1302daf134c49"
      }
     },
     "metadata": {},
     "output_type": "display_data"
    },
    {
     "data": {
      "text/plain": [
       "  0%|          | 0/3 [00:00<?, ?it/s]"
      ],
      "application/vnd.jupyter.widget-view+json": {
       "version_major": 2,
       "version_minor": 0,
       "model_id": "139dab4279ef4ecba7ae26d6ec9fb505"
      }
     },
     "metadata": {},
     "output_type": "display_data"
    },
    {
     "name": "stdout",
     "output_type": "stream",
     "text": [
      "\u001B[1m\u001B[92m Epoch 37 Train DiceLoss 0.6555012091994286 Val DiceLoss 0.6300398707389832 Train dice_score 0.34449879080057144 Val dice_score 0.36996012926101685\n"
     ]
    },
    {
     "data": {
      "text/plain": [
       "  0%|          | 0/8 [00:00<?, ?it/s]"
      ],
      "application/vnd.jupyter.widget-view+json": {
       "version_major": 2,
       "version_minor": 0,
       "model_id": "f1758f81e1374ca48aed89d3ddaa61a3"
      }
     },
     "metadata": {},
     "output_type": "display_data"
    },
    {
     "data": {
      "text/plain": [
       "  0%|          | 0/3 [00:00<?, ?it/s]"
      ],
      "application/vnd.jupyter.widget-view+json": {
       "version_major": 2,
       "version_minor": 0,
       "model_id": "971277951d0e4c349363931d72ac543a"
      }
     },
     "metadata": {},
     "output_type": "display_data"
    },
    {
     "name": "stdout",
     "output_type": "stream",
     "text": [
      "\u001B[1m\u001B[92m Epoch 38 Train DiceLoss 0.6565228179097176 Val DiceLoss 0.6250666975975037 Train dice_score 0.34347718209028244 Val dice_score 0.37493330240249634\n"
     ]
    },
    {
     "data": {
      "text/plain": [
       "  0%|          | 0/8 [00:00<?, ?it/s]"
      ],
      "application/vnd.jupyter.widget-view+json": {
       "version_major": 2,
       "version_minor": 0,
       "model_id": "b8e607de8c384e1ea0d19ef0d5fb043b"
      }
     },
     "metadata": {},
     "output_type": "display_data"
    },
    {
     "data": {
      "text/plain": [
       "  0%|          | 0/3 [00:00<?, ?it/s]"
      ],
      "application/vnd.jupyter.widget-view+json": {
       "version_major": 2,
       "version_minor": 0,
       "model_id": "3f0ca5e2626b4a9c8630a31ba8e5d366"
      }
     },
     "metadata": {},
     "output_type": "display_data"
    },
    {
     "name": "stdout",
     "output_type": "stream",
     "text": [
      "MODEL SAVED\n",
      "\u001B[1m\u001B[92m Epoch 39 Train DiceLoss 0.6546043455600739 Val DiceLoss 0.6137437224388123 Train dice_score 0.34539565443992615 Val dice_score 0.38625627756118774\n"
     ]
    },
    {
     "data": {
      "text/plain": [
       "  0%|          | 0/8 [00:00<?, ?it/s]"
      ],
      "application/vnd.jupyter.widget-view+json": {
       "version_major": 2,
       "version_minor": 0,
       "model_id": "ab4908e170d045119ec02ea2d9fdef4b"
      }
     },
     "metadata": {},
     "output_type": "display_data"
    },
    {
     "data": {
      "text/plain": [
       "  0%|          | 0/3 [00:00<?, ?it/s]"
      ],
      "application/vnd.jupyter.widget-view+json": {
       "version_major": 2,
       "version_minor": 0,
       "model_id": "11cd96d9b6774f2e9ed3a8fcb2f1185f"
      }
     },
     "metadata": {},
     "output_type": "display_data"
    },
    {
     "name": "stdout",
     "output_type": "stream",
     "text": [
      "\u001B[1m\u001B[92m Epoch 40 Train DiceLoss 0.641193151473999 Val DiceLoss 0.6255419651667277 Train dice_score 0.358806848526001 Val dice_score 0.3744580348332723\n"
     ]
    },
    {
     "data": {
      "text/plain": [
       "  0%|          | 0/8 [00:00<?, ?it/s]"
      ],
      "application/vnd.jupyter.widget-view+json": {
       "version_major": 2,
       "version_minor": 0,
       "model_id": "11f6783c712a45b0bdf40a1b29a8de1a"
      }
     },
     "metadata": {},
     "output_type": "display_data"
    },
    {
     "data": {
      "text/plain": [
       "  0%|          | 0/3 [00:00<?, ?it/s]"
      ],
      "application/vnd.jupyter.widget-view+json": {
       "version_major": 2,
       "version_minor": 0,
       "model_id": "0a9335049427441890774e34ab042089"
      }
     },
     "metadata": {},
     "output_type": "display_data"
    },
    {
     "name": "stdout",
     "output_type": "stream",
     "text": [
      "MODEL SAVED\n",
      "\u001B[1m\u001B[92m Epoch 41 Train DiceLoss 0.6531045660376549 Val DiceLoss 0.6121890942255656 Train dice_score 0.3468954339623451 Val dice_score 0.3878109057744344\n"
     ]
    },
    {
     "data": {
      "text/plain": [
       "  0%|          | 0/8 [00:00<?, ?it/s]"
      ],
      "application/vnd.jupyter.widget-view+json": {
       "version_major": 2,
       "version_minor": 0,
       "model_id": "d3c53df6038d4f369eea6f4d5fd8312b"
      }
     },
     "metadata": {},
     "output_type": "display_data"
    },
    {
     "data": {
      "text/plain": [
       "  0%|          | 0/3 [00:00<?, ?it/s]"
      ],
      "application/vnd.jupyter.widget-view+json": {
       "version_major": 2,
       "version_minor": 0,
       "model_id": "9d9a09d8cf7941689175c243d16ded9d"
      }
     },
     "metadata": {},
     "output_type": "display_data"
    },
    {
     "name": "stdout",
     "output_type": "stream",
     "text": [
      "MODEL SAVED\n",
      "\u001B[1m\u001B[92m Epoch 42 Train DiceLoss 0.6310102269053459 Val DiceLoss 0.6065484285354614 Train dice_score 0.3689897730946541 Val dice_score 0.3934515714645386\n"
     ]
    },
    {
     "data": {
      "text/plain": [
       "  0%|          | 0/8 [00:00<?, ?it/s]"
      ],
      "application/vnd.jupyter.widget-view+json": {
       "version_major": 2,
       "version_minor": 0,
       "model_id": "bf9669ed1d804a88a8b25cbe854f5df9"
      }
     },
     "metadata": {},
     "output_type": "display_data"
    },
    {
     "data": {
      "text/plain": [
       "  0%|          | 0/3 [00:00<?, ?it/s]"
      ],
      "application/vnd.jupyter.widget-view+json": {
       "version_major": 2,
       "version_minor": 0,
       "model_id": "e785a0a43ea745a3948ff790fa0e8be9"
      }
     },
     "metadata": {},
     "output_type": "display_data"
    },
    {
     "name": "stdout",
     "output_type": "stream",
     "text": [
      "MODEL SAVED\n",
      "\u001B[1m\u001B[92m Epoch 43 Train DiceLoss 0.636214092373848 Val DiceLoss 0.6006796558698019 Train dice_score 0.36378590762615204 Val dice_score 0.3993203441301982\n"
     ]
    },
    {
     "data": {
      "text/plain": [
       "  0%|          | 0/8 [00:00<?, ?it/s]"
      ],
      "application/vnd.jupyter.widget-view+json": {
       "version_major": 2,
       "version_minor": 0,
       "model_id": "8958c33e7b5f4b9a989083fa434733a1"
      }
     },
     "metadata": {},
     "output_type": "display_data"
    },
    {
     "data": {
      "text/plain": [
       "  0%|          | 0/3 [00:00<?, ?it/s]"
      ],
      "application/vnd.jupyter.widget-view+json": {
       "version_major": 2,
       "version_minor": 0,
       "model_id": "2582b95683634e13bed29d6f0603cb6d"
      }
     },
     "metadata": {},
     "output_type": "display_data"
    },
    {
     "name": "stdout",
     "output_type": "stream",
     "text": [
      "\u001B[1m\u001B[92m Epoch 44 Train DiceLoss 0.6252342164516449 Val DiceLoss 0.6012447277704874 Train dice_score 0.3747657835483551 Val dice_score 0.3987552722295125\n"
     ]
    },
    {
     "data": {
      "text/plain": [
       "  0%|          | 0/8 [00:00<?, ?it/s]"
      ],
      "application/vnd.jupyter.widget-view+json": {
       "version_major": 2,
       "version_minor": 0,
       "model_id": "0d73ef9d994c4a12a1981ad4dea4558a"
      }
     },
     "metadata": {},
     "output_type": "display_data"
    },
    {
     "data": {
      "text/plain": [
       "  0%|          | 0/3 [00:00<?, ?it/s]"
      ],
      "application/vnd.jupyter.widget-view+json": {
       "version_major": 2,
       "version_minor": 0,
       "model_id": "2f37f868d49e4588be070fc2a3277ada"
      }
     },
     "metadata": {},
     "output_type": "display_data"
    },
    {
     "name": "stdout",
     "output_type": "stream",
     "text": [
      "\u001B[1m\u001B[92m Epoch 45 Train DiceLoss 0.6316735073924065 Val DiceLoss 0.6108522415161133 Train dice_score 0.36832649260759354 Val dice_score 0.3891477584838867\n"
     ]
    },
    {
     "data": {
      "text/plain": [
       "  0%|          | 0/8 [00:00<?, ?it/s]"
      ],
      "application/vnd.jupyter.widget-view+json": {
       "version_major": 2,
       "version_minor": 0,
       "model_id": "eb34e7678e2140d19d2197c3059262b6"
      }
     },
     "metadata": {},
     "output_type": "display_data"
    },
    {
     "data": {
      "text/plain": [
       "  0%|          | 0/3 [00:00<?, ?it/s]"
      ],
      "application/vnd.jupyter.widget-view+json": {
       "version_major": 2,
       "version_minor": 0,
       "model_id": "84cb370f43124f73ac5e4d94a6aaa573"
      }
     },
     "metadata": {},
     "output_type": "display_data"
    },
    {
     "name": "stdout",
     "output_type": "stream",
     "text": [
      "MODEL SAVED\n",
      "\u001B[1m\u001B[92m Epoch 46 Train DiceLoss 0.6209382489323616 Val DiceLoss 0.5886889100074768 Train dice_score 0.3790617510676384 Val dice_score 0.4113110899925232\n"
     ]
    },
    {
     "data": {
      "text/plain": [
       "  0%|          | 0/8 [00:00<?, ?it/s]"
      ],
      "application/vnd.jupyter.widget-view+json": {
       "version_major": 2,
       "version_minor": 0,
       "model_id": "3f1b5d130eca42709319325b631d70e0"
      }
     },
     "metadata": {},
     "output_type": "display_data"
    },
    {
     "data": {
      "text/plain": [
       "  0%|          | 0/3 [00:00<?, ?it/s]"
      ],
      "application/vnd.jupyter.widget-view+json": {
       "version_major": 2,
       "version_minor": 0,
       "model_id": "694c8d9d5330455383e63c7392dc7a91"
      }
     },
     "metadata": {},
     "output_type": "display_data"
    },
    {
     "name": "stdout",
     "output_type": "stream",
     "text": [
      "\u001B[1m\u001B[92m Epoch 47 Train DiceLoss 0.6317108646035194 Val DiceLoss 0.6598242123921713 Train dice_score 0.36828913539648056 Val dice_score 0.3401757876078288\n"
     ]
    },
    {
     "data": {
      "text/plain": [
       "  0%|          | 0/8 [00:00<?, ?it/s]"
      ],
      "application/vnd.jupyter.widget-view+json": {
       "version_major": 2,
       "version_minor": 0,
       "model_id": "d263e5db5f404af78f925e57acc35393"
      }
     },
     "metadata": {},
     "output_type": "display_data"
    },
    {
     "data": {
      "text/plain": [
       "  0%|          | 0/3 [00:00<?, ?it/s]"
      ],
      "application/vnd.jupyter.widget-view+json": {
       "version_major": 2,
       "version_minor": 0,
       "model_id": "993cfabc5fb24e5483a6ce6af0b59667"
      }
     },
     "metadata": {},
     "output_type": "display_data"
    },
    {
     "name": "stdout",
     "output_type": "stream",
     "text": [
      "MODEL SAVED\n",
      "\u001B[1m\u001B[92m Epoch 48 Train DiceLoss 0.6188192516565323 Val DiceLoss 0.5710315704345703 Train dice_score 0.3811807483434677 Val dice_score 0.4289684295654297\n"
     ]
    },
    {
     "data": {
      "text/plain": [
       "  0%|          | 0/8 [00:00<?, ?it/s]"
      ],
      "application/vnd.jupyter.widget-view+json": {
       "version_major": 2,
       "version_minor": 0,
       "model_id": "a9bfdad675e644b8a66902b18e350093"
      }
     },
     "metadata": {},
     "output_type": "display_data"
    },
    {
     "data": {
      "text/plain": [
       "  0%|          | 0/3 [00:00<?, ?it/s]"
      ],
      "application/vnd.jupyter.widget-view+json": {
       "version_major": 2,
       "version_minor": 0,
       "model_id": "33754f1052e84566944bc27e4a7de396"
      }
     },
     "metadata": {},
     "output_type": "display_data"
    },
    {
     "name": "stdout",
     "output_type": "stream",
     "text": [
      "MODEL SAVED\n",
      "\u001B[1m\u001B[92m Epoch 49 Train DiceLoss 0.6206057369709015 Val DiceLoss 0.5671782493591309 Train dice_score 0.3793942630290985 Val dice_score 0.43282175064086914\n"
     ]
    },
    {
     "data": {
      "text/plain": [
       "  0%|          | 0/8 [00:00<?, ?it/s]"
      ],
      "application/vnd.jupyter.widget-view+json": {
       "version_major": 2,
       "version_minor": 0,
       "model_id": "dcdbad6b8bac4349b3176a53a964af52"
      }
     },
     "metadata": {},
     "output_type": "display_data"
    },
    {
     "data": {
      "text/plain": [
       "  0%|          | 0/3 [00:00<?, ?it/s]"
      ],
      "application/vnd.jupyter.widget-view+json": {
       "version_major": 2,
       "version_minor": 0,
       "model_id": "58986c457aae40e3a7385fcedbe5b191"
      }
     },
     "metadata": {},
     "output_type": "display_data"
    },
    {
     "name": "stdout",
     "output_type": "stream",
     "text": [
      "\u001B[1m\u001B[92m Epoch 50 Train DiceLoss 0.6201767697930336 Val DiceLoss 0.577172597249349 Train dice_score 0.3798232302069664 Val dice_score 0.42282740275065106\n"
     ]
    },
    {
     "data": {
      "text/plain": [
       "  0%|          | 0/8 [00:00<?, ?it/s]"
      ],
      "application/vnd.jupyter.widget-view+json": {
       "version_major": 2,
       "version_minor": 0,
       "model_id": "a9e59bcaebea4a5aa3511a949d85ebb4"
      }
     },
     "metadata": {},
     "output_type": "display_data"
    },
    {
     "data": {
      "text/plain": [
       "  0%|          | 0/3 [00:00<?, ?it/s]"
      ],
      "application/vnd.jupyter.widget-view+json": {
       "version_major": 2,
       "version_minor": 0,
       "model_id": "00337509759145f5ba858c642630e7b3"
      }
     },
     "metadata": {},
     "output_type": "display_data"
    },
    {
     "name": "stdout",
     "output_type": "stream",
     "text": [
      "MODEL SAVED\n",
      "\u001B[1m\u001B[92m Epoch 51 Train DiceLoss 0.6069815531373024 Val DiceLoss 0.5537819862365723 Train dice_score 0.3930184468626976 Val dice_score 0.44621801376342773\n"
     ]
    },
    {
     "data": {
      "text/plain": [
       "  0%|          | 0/8 [00:00<?, ?it/s]"
      ],
      "application/vnd.jupyter.widget-view+json": {
       "version_major": 2,
       "version_minor": 0,
       "model_id": "2c50096f251e4fcc8f57690b58e498d7"
      }
     },
     "metadata": {},
     "output_type": "display_data"
    },
    {
     "data": {
      "text/plain": [
       "  0%|          | 0/3 [00:00<?, ?it/s]"
      ],
      "application/vnd.jupyter.widget-view+json": {
       "version_major": 2,
       "version_minor": 0,
       "model_id": "b888dd3e71ef4b50a4a1886944b5e459"
      }
     },
     "metadata": {},
     "output_type": "display_data"
    },
    {
     "name": "stdout",
     "output_type": "stream",
     "text": [
      "\u001B[1m\u001B[92m Epoch 52 Train DiceLoss 0.5890261232852936 Val DiceLoss 0.5589779218037924 Train dice_score 0.4109738767147064 Val dice_score 0.4410220781962077\n"
     ]
    },
    {
     "data": {
      "text/plain": [
       "  0%|          | 0/8 [00:00<?, ?it/s]"
      ],
      "application/vnd.jupyter.widget-view+json": {
       "version_major": 2,
       "version_minor": 0,
       "model_id": "34f6c55d13e9452c8637a87fd9e703d6"
      }
     },
     "metadata": {},
     "output_type": "display_data"
    },
    {
     "data": {
      "text/plain": [
       "  0%|          | 0/3 [00:00<?, ?it/s]"
      ],
      "application/vnd.jupyter.widget-view+json": {
       "version_major": 2,
       "version_minor": 0,
       "model_id": "064e2957591b431c9e03a9d0edd195fa"
      }
     },
     "metadata": {},
     "output_type": "display_data"
    },
    {
     "name": "stdout",
     "output_type": "stream",
     "text": [
      "\u001B[1m\u001B[92m Epoch 53 Train DiceLoss 0.5997579321265221 Val DiceLoss 0.5651145577430725 Train dice_score 0.40024206787347794 Val dice_score 0.4348854422569275\n"
     ]
    },
    {
     "data": {
      "text/plain": [
       "  0%|          | 0/8 [00:00<?, ?it/s]"
      ],
      "application/vnd.jupyter.widget-view+json": {
       "version_major": 2,
       "version_minor": 0,
       "model_id": "966ceb43ec7c4d33adebe8c56972ee70"
      }
     },
     "metadata": {},
     "output_type": "display_data"
    },
    {
     "data": {
      "text/plain": [
       "  0%|          | 0/3 [00:00<?, ?it/s]"
      ],
      "application/vnd.jupyter.widget-view+json": {
       "version_major": 2,
       "version_minor": 0,
       "model_id": "321a090652e14af0922891d9d3b69d77"
      }
     },
     "metadata": {},
     "output_type": "display_data"
    },
    {
     "name": "stdout",
     "output_type": "stream",
     "text": [
      "\u001B[1m\u001B[92m Epoch 54 Train DiceLoss 0.6073194816708565 Val DiceLoss 0.6178788145383199 Train dice_score 0.3926805183291435 Val dice_score 0.3821211854616801\n"
     ]
    },
    {
     "data": {
      "text/plain": [
       "  0%|          | 0/8 [00:00<?, ?it/s]"
      ],
      "application/vnd.jupyter.widget-view+json": {
       "version_major": 2,
       "version_minor": 0,
       "model_id": "d08282a35aa84d72b2e9d7e3718a78cd"
      }
     },
     "metadata": {},
     "output_type": "display_data"
    },
    {
     "data": {
      "text/plain": [
       "  0%|          | 0/3 [00:00<?, ?it/s]"
      ],
      "application/vnd.jupyter.widget-view+json": {
       "version_major": 2,
       "version_minor": 0,
       "model_id": "4669d50f551f4155978d1058b54b7ed5"
      }
     },
     "metadata": {},
     "output_type": "display_data"
    },
    {
     "name": "stdout",
     "output_type": "stream",
     "text": [
      "\u001B[1m\u001B[92m Epoch 55 Train DiceLoss 0.6005382239818573 Val DiceLoss 0.6315727829933167 Train dice_score 0.3994617760181427 Val dice_score 0.36842721700668335\n"
     ]
    },
    {
     "data": {
      "text/plain": [
       "  0%|          | 0/8 [00:00<?, ?it/s]"
      ],
      "application/vnd.jupyter.widget-view+json": {
       "version_major": 2,
       "version_minor": 0,
       "model_id": "3a0d92a73acf4f67b4f0096b74af3076"
      }
     },
     "metadata": {},
     "output_type": "display_data"
    },
    {
     "data": {
      "text/plain": [
       "  0%|          | 0/3 [00:00<?, ?it/s]"
      ],
      "application/vnd.jupyter.widget-view+json": {
       "version_major": 2,
       "version_minor": 0,
       "model_id": "5c77f3eef0e14b1d8421a55ade12346d"
      }
     },
     "metadata": {},
     "output_type": "display_data"
    },
    {
     "name": "stdout",
     "output_type": "stream",
     "text": [
      "MODEL SAVED\n",
      "\u001B[1m\u001B[92m Epoch 56 Train DiceLoss 0.5905893072485924 Val DiceLoss 0.5380765199661255 Train dice_score 0.4094106927514076 Val dice_score 0.4619234800338745\n"
     ]
    },
    {
     "data": {
      "text/plain": [
       "  0%|          | 0/8 [00:00<?, ?it/s]"
      ],
      "application/vnd.jupyter.widget-view+json": {
       "version_major": 2,
       "version_minor": 0,
       "model_id": "ac59bf807f5b4b89a9a9b6a962c0e4c3"
      }
     },
     "metadata": {},
     "output_type": "display_data"
    },
    {
     "data": {
      "text/plain": [
       "  0%|          | 0/3 [00:00<?, ?it/s]"
      ],
      "application/vnd.jupyter.widget-view+json": {
       "version_major": 2,
       "version_minor": 0,
       "model_id": "76863445a4a44a558863e2ac1cc658f3"
      }
     },
     "metadata": {},
     "output_type": "display_data"
    },
    {
     "name": "stdout",
     "output_type": "stream",
     "text": [
      "\u001B[1m\u001B[92m Epoch 57 Train DiceLoss 0.5809790566563606 Val DiceLoss 0.5893735488255819 Train dice_score 0.4190209433436394 Val dice_score 0.41062645117441815\n"
     ]
    },
    {
     "data": {
      "text/plain": [
       "  0%|          | 0/8 [00:00<?, ?it/s]"
      ],
      "application/vnd.jupyter.widget-view+json": {
       "version_major": 2,
       "version_minor": 0,
       "model_id": "04c5ea537d9b43408369ee32d82b9493"
      }
     },
     "metadata": {},
     "output_type": "display_data"
    },
    {
     "data": {
      "text/plain": [
       "  0%|          | 0/3 [00:00<?, ?it/s]"
      ],
      "application/vnd.jupyter.widget-view+json": {
       "version_major": 2,
       "version_minor": 0,
       "model_id": "94ae52d90c714529a824e4e13cd78dbc"
      }
     },
     "metadata": {},
     "output_type": "display_data"
    },
    {
     "name": "stdout",
     "output_type": "stream",
     "text": [
      "MODEL SAVED\n",
      "\u001B[1m\u001B[92m Epoch 58 Train DiceLoss 0.58205147087574 Val DiceLoss 0.5358132918675741 Train dice_score 0.41794852912425995 Val dice_score 0.46418670813242596\n"
     ]
    },
    {
     "data": {
      "text/plain": [
       "  0%|          | 0/8 [00:00<?, ?it/s]"
      ],
      "application/vnd.jupyter.widget-view+json": {
       "version_major": 2,
       "version_minor": 0,
       "model_id": "8decbf17761d40bf93b534ae21eb67fd"
      }
     },
     "metadata": {},
     "output_type": "display_data"
    },
    {
     "data": {
      "text/plain": [
       "  0%|          | 0/3 [00:00<?, ?it/s]"
      ],
      "application/vnd.jupyter.widget-view+json": {
       "version_major": 2,
       "version_minor": 0,
       "model_id": "72df052228b046a1ae4a292e1a339713"
      }
     },
     "metadata": {},
     "output_type": "display_data"
    },
    {
     "name": "stdout",
     "output_type": "stream",
     "text": [
      "\u001B[1m\u001B[92m Epoch 59 Train DiceLoss 0.5736555233597755 Val DiceLoss 0.5483472347259521 Train dice_score 0.42634447664022446 Val dice_score 0.45165276527404785\n"
     ]
    },
    {
     "data": {
      "text/plain": [
       "  0%|          | 0/8 [00:00<?, ?it/s]"
      ],
      "application/vnd.jupyter.widget-view+json": {
       "version_major": 2,
       "version_minor": 0,
       "model_id": "1ecf799950484c50966c1105b811db8d"
      }
     },
     "metadata": {},
     "output_type": "display_data"
    },
    {
     "data": {
      "text/plain": [
       "  0%|          | 0/3 [00:00<?, ?it/s]"
      ],
      "application/vnd.jupyter.widget-view+json": {
       "version_major": 2,
       "version_minor": 0,
       "model_id": "3e2203a0e6104302871e5465ca41fcc5"
      }
     },
     "metadata": {},
     "output_type": "display_data"
    },
    {
     "name": "stdout",
     "output_type": "stream",
     "text": [
      "MODEL SAVED\n",
      "\u001B[1m\u001B[92m Epoch 60 Train DiceLoss 0.5863863006234169 Val DiceLoss 0.5313335259755453 Train dice_score 0.4136136993765831 Val dice_score 0.46866647402445477\n"
     ]
    },
    {
     "data": {
      "text/plain": [
       "  0%|          | 0/8 [00:00<?, ?it/s]"
      ],
      "application/vnd.jupyter.widget-view+json": {
       "version_major": 2,
       "version_minor": 0,
       "model_id": "a620214b97574d8c934d90c59029dcf8"
      }
     },
     "metadata": {},
     "output_type": "display_data"
    },
    {
     "data": {
      "text/plain": [
       "  0%|          | 0/3 [00:00<?, ?it/s]"
      ],
      "application/vnd.jupyter.widget-view+json": {
       "version_major": 2,
       "version_minor": 0,
       "model_id": "5d770bb723bd4f008a8a160e43dcfda7"
      }
     },
     "metadata": {},
     "output_type": "display_data"
    },
    {
     "name": "stdout",
     "output_type": "stream",
     "text": [
      "\u001B[1m\u001B[92m Epoch 61 Train DiceLoss 0.5658502876758575 Val DiceLoss 0.5346277356147766 Train dice_score 0.43414971232414246 Val dice_score 0.4653722643852234\n"
     ]
    },
    {
     "data": {
      "text/plain": [
       "  0%|          | 0/8 [00:00<?, ?it/s]"
      ],
      "application/vnd.jupyter.widget-view+json": {
       "version_major": 2,
       "version_minor": 0,
       "model_id": "4a29fab6ad6e42d98f1b6e6d7bdc72f9"
      }
     },
     "metadata": {},
     "output_type": "display_data"
    },
    {
     "data": {
      "text/plain": [
       "  0%|          | 0/3 [00:00<?, ?it/s]"
      ],
      "application/vnd.jupyter.widget-view+json": {
       "version_major": 2,
       "version_minor": 0,
       "model_id": "b281a1bb6e8040b0ad54d5697bc4b78c"
      }
     },
     "metadata": {},
     "output_type": "display_data"
    },
    {
     "name": "stdout",
     "output_type": "stream",
     "text": [
      "\u001B[1m\u001B[92m Epoch 62 Train DiceLoss 0.5664823576807976 Val DiceLoss 0.5335288246472677 Train dice_score 0.4335176423192024 Val dice_score 0.46647117535273236\n"
     ]
    },
    {
     "data": {
      "text/plain": [
       "  0%|          | 0/8 [00:00<?, ?it/s]"
      ],
      "application/vnd.jupyter.widget-view+json": {
       "version_major": 2,
       "version_minor": 0,
       "model_id": "be0f01cebeaa4759acc8e0c1ce1b23f7"
      }
     },
     "metadata": {},
     "output_type": "display_data"
    },
    {
     "data": {
      "text/plain": [
       "  0%|          | 0/3 [00:00<?, ?it/s]"
      ],
      "application/vnd.jupyter.widget-view+json": {
       "version_major": 2,
       "version_minor": 0,
       "model_id": "67d517d48d8740309ede5201d45518f8"
      }
     },
     "metadata": {},
     "output_type": "display_data"
    },
    {
     "name": "stdout",
     "output_type": "stream",
     "text": [
      "\u001B[1m\u001B[92m Epoch 63 Train DiceLoss 0.5639723911881447 Val DiceLoss 0.6239415208498637 Train dice_score 0.4360276088118553 Val dice_score 0.3760584791501363\n"
     ]
    },
    {
     "data": {
      "text/plain": [
       "  0%|          | 0/8 [00:00<?, ?it/s]"
      ],
      "application/vnd.jupyter.widget-view+json": {
       "version_major": 2,
       "version_minor": 0,
       "model_id": "7081f08a910f4069b2eddc1dd97bd9c6"
      }
     },
     "metadata": {},
     "output_type": "display_data"
    },
    {
     "data": {
      "text/plain": [
       "  0%|          | 0/3 [00:00<?, ?it/s]"
      ],
      "application/vnd.jupyter.widget-view+json": {
       "version_major": 2,
       "version_minor": 0,
       "model_id": "da71783566f64e7883a57dbd27052edd"
      }
     },
     "metadata": {},
     "output_type": "display_data"
    },
    {
     "name": "stdout",
     "output_type": "stream",
     "text": [
      "\u001B[1m\u001B[92m Epoch 64 Train DiceLoss 0.5698573589324951 Val DiceLoss 0.5772741238276163 Train dice_score 0.4301426410675049 Val dice_score 0.4227258761723836\n"
     ]
    },
    {
     "data": {
      "text/plain": [
       "  0%|          | 0/8 [00:00<?, ?it/s]"
      ],
      "application/vnd.jupyter.widget-view+json": {
       "version_major": 2,
       "version_minor": 0,
       "model_id": "9378c9ad7e314562862a6c4df27348ed"
      }
     },
     "metadata": {},
     "output_type": "display_data"
    },
    {
     "data": {
      "text/plain": [
       "  0%|          | 0/3 [00:00<?, ?it/s]"
      ],
      "application/vnd.jupyter.widget-view+json": {
       "version_major": 2,
       "version_minor": 0,
       "model_id": "218d1fe53a6e43cc8912a7c524b47773"
      }
     },
     "metadata": {},
     "output_type": "display_data"
    },
    {
     "name": "stdout",
     "output_type": "stream",
     "text": [
      "MODEL SAVED\n",
      "\u001B[1m\u001B[92m Epoch 65 Train DiceLoss 0.5577928796410561 Val DiceLoss 0.5199317534764608 Train dice_score 0.44220712035894394 Val dice_score 0.48006824652353924\n"
     ]
    },
    {
     "data": {
      "text/plain": [
       "  0%|          | 0/8 [00:00<?, ?it/s]"
      ],
      "application/vnd.jupyter.widget-view+json": {
       "version_major": 2,
       "version_minor": 0,
       "model_id": "b06d5dbdb2b34c51a151f504e77e67a7"
      }
     },
     "metadata": {},
     "output_type": "display_data"
    },
    {
     "data": {
      "text/plain": [
       "  0%|          | 0/3 [00:00<?, ?it/s]"
      ],
      "application/vnd.jupyter.widget-view+json": {
       "version_major": 2,
       "version_minor": 0,
       "model_id": "7c461bbf12cd47e3a42057b524679fd2"
      }
     },
     "metadata": {},
     "output_type": "display_data"
    },
    {
     "name": "stdout",
     "output_type": "stream",
     "text": [
      "\u001B[1m\u001B[92m Epoch 66 Train DiceLoss 0.5552748814225197 Val DiceLoss 0.5575149257977804 Train dice_score 0.4447251185774803 Val dice_score 0.44248507420221966\n"
     ]
    },
    {
     "data": {
      "text/plain": [
       "  0%|          | 0/8 [00:00<?, ?it/s]"
      ],
      "application/vnd.jupyter.widget-view+json": {
       "version_major": 2,
       "version_minor": 0,
       "model_id": "1d8b1ec365f4419fbadbea521b45b767"
      }
     },
     "metadata": {},
     "output_type": "display_data"
    },
    {
     "data": {
      "text/plain": [
       "  0%|          | 0/3 [00:00<?, ?it/s]"
      ],
      "application/vnd.jupyter.widget-view+json": {
       "version_major": 2,
       "version_minor": 0,
       "model_id": "53885ed30a534d62a98bafb65f7dbfce"
      }
     },
     "metadata": {},
     "output_type": "display_data"
    },
    {
     "name": "stdout",
     "output_type": "stream",
     "text": [
      "\u001B[1m\u001B[92m Epoch 67 Train DiceLoss 0.564284048974514 Val DiceLoss 0.5401080648104349 Train dice_score 0.435715951025486 Val dice_score 0.459891935189565\n"
     ]
    },
    {
     "data": {
      "text/plain": [
       "  0%|          | 0/8 [00:00<?, ?it/s]"
      ],
      "application/vnd.jupyter.widget-view+json": {
       "version_major": 2,
       "version_minor": 0,
       "model_id": "5747199682a64ec3a2c553649c44567a"
      }
     },
     "metadata": {},
     "output_type": "display_data"
    },
    {
     "data": {
      "text/plain": [
       "  0%|          | 0/3 [00:00<?, ?it/s]"
      ],
      "application/vnd.jupyter.widget-view+json": {
       "version_major": 2,
       "version_minor": 0,
       "model_id": "39fce1496298440b920901650e7b6d80"
      }
     },
     "metadata": {},
     "output_type": "display_data"
    },
    {
     "name": "stdout",
     "output_type": "stream",
     "text": [
      "\u001B[1m\u001B[92m Epoch 68 Train DiceLoss 0.5464402884244919 Val DiceLoss 0.5315477649370829 Train dice_score 0.4535597115755081 Val dice_score 0.46845223506291706\n"
     ]
    },
    {
     "data": {
      "text/plain": [
       "  0%|          | 0/8 [00:00<?, ?it/s]"
      ],
      "application/vnd.jupyter.widget-view+json": {
       "version_major": 2,
       "version_minor": 0,
       "model_id": "17f55b91c70f400cbd2d0f4434537c2a"
      }
     },
     "metadata": {},
     "output_type": "display_data"
    },
    {
     "data": {
      "text/plain": [
       "  0%|          | 0/3 [00:00<?, ?it/s]"
      ],
      "application/vnd.jupyter.widget-view+json": {
       "version_major": 2,
       "version_minor": 0,
       "model_id": "d657f3a76092482582be30bbb8c9c975"
      }
     },
     "metadata": {},
     "output_type": "display_data"
    },
    {
     "name": "stdout",
     "output_type": "stream",
     "text": [
      "MODEL SAVED\n",
      "\u001B[1m\u001B[92m Epoch 69 Train DiceLoss 0.5527543947100639 Val DiceLoss 0.5080970724423727 Train dice_score 0.44724560528993607 Val dice_score 0.4919029275576274\n"
     ]
    },
    {
     "data": {
      "text/plain": [
       "  0%|          | 0/8 [00:00<?, ?it/s]"
      ],
      "application/vnd.jupyter.widget-view+json": {
       "version_major": 2,
       "version_minor": 0,
       "model_id": "461ca80c39e941ccabe10b421744cda3"
      }
     },
     "metadata": {},
     "output_type": "display_data"
    },
    {
     "data": {
      "text/plain": [
       "  0%|          | 0/3 [00:00<?, ?it/s]"
      ],
      "application/vnd.jupyter.widget-view+json": {
       "version_major": 2,
       "version_minor": 0,
       "model_id": "b2e2c08e140b49c99b3655e3b7d6a0d9"
      }
     },
     "metadata": {},
     "output_type": "display_data"
    },
    {
     "name": "stdout",
     "output_type": "stream",
     "text": [
      "MODEL SAVED\n",
      "\u001B[1m\u001B[92m Epoch 70 Train DiceLoss 0.5484209805727005 Val DiceLoss 0.504366546869278 Train dice_score 0.4515790194272995 Val dice_score 0.49563344319661456\n"
     ]
    },
    {
     "data": {
      "text/plain": [
       "  0%|          | 0/8 [00:00<?, ?it/s]"
      ],
      "application/vnd.jupyter.widget-view+json": {
       "version_major": 2,
       "version_minor": 0,
       "model_id": "e388981a7b534504af63f1a1fbe5392f"
      }
     },
     "metadata": {},
     "output_type": "display_data"
    },
    {
     "data": {
      "text/plain": [
       "  0%|          | 0/3 [00:00<?, ?it/s]"
      ],
      "application/vnd.jupyter.widget-view+json": {
       "version_major": 2,
       "version_minor": 0,
       "model_id": "e64de0d651ba4c98b6b8d3f3146ca1a4"
      }
     },
     "metadata": {},
     "output_type": "display_data"
    },
    {
     "name": "stdout",
     "output_type": "stream",
     "text": [
      "\u001B[1m\u001B[92m Epoch 71 Train DiceLoss 0.5411683991551399 Val DiceLoss 0.5455200870831808 Train dice_score 0.4588316008448601 Val dice_score 0.4544799129168193\n"
     ]
    },
    {
     "data": {
      "text/plain": [
       "  0%|          | 0/8 [00:00<?, ?it/s]"
      ],
      "application/vnd.jupyter.widget-view+json": {
       "version_major": 2,
       "version_minor": 0,
       "model_id": "a34c9490468742278dc2871a2ced0dbb"
      }
     },
     "metadata": {},
     "output_type": "display_data"
    },
    {
     "data": {
      "text/plain": [
       "  0%|          | 0/3 [00:00<?, ?it/s]"
      ],
      "application/vnd.jupyter.widget-view+json": {
       "version_major": 2,
       "version_minor": 0,
       "model_id": "d697f1a76f504e15b1c16313319112d5"
      }
     },
     "metadata": {},
     "output_type": "display_data"
    },
    {
     "name": "stdout",
     "output_type": "stream",
     "text": [
      "MODEL SAVED\n",
      "\u001B[1m\u001B[92m Epoch 72 Train DiceLoss 0.5449478775262833 Val DiceLoss 0.49821534752845764 Train dice_score 0.45505212247371674 Val dice_score 0.5017846425374349\n"
     ]
    },
    {
     "data": {
      "text/plain": [
       "  0%|          | 0/8 [00:00<?, ?it/s]"
      ],
      "application/vnd.jupyter.widget-view+json": {
       "version_major": 2,
       "version_minor": 0,
       "model_id": "aa482fe4b3754b4fa00b87d336313c79"
      }
     },
     "metadata": {},
     "output_type": "display_data"
    },
    {
     "data": {
      "text/plain": [
       "  0%|          | 0/3 [00:00<?, ?it/s]"
      ],
      "application/vnd.jupyter.widget-view+json": {
       "version_major": 2,
       "version_minor": 0,
       "model_id": "943ba2897c8d4879a5eb9f56dc85470b"
      }
     },
     "metadata": {},
     "output_type": "display_data"
    },
    {
     "name": "stdout",
     "output_type": "stream",
     "text": [
      "\u001B[1m\u001B[92m Epoch 73 Train DiceLoss 0.5363627597689629 Val DiceLoss 0.5257590611775717 Train dice_score 0.46363724023103714 Val dice_score 0.4742409388224284\n"
     ]
    },
    {
     "data": {
      "text/plain": [
       "  0%|          | 0/8 [00:00<?, ?it/s]"
      ],
      "application/vnd.jupyter.widget-view+json": {
       "version_major": 2,
       "version_minor": 0,
       "model_id": "6b66f84effbf46d3b300bcad80581101"
      }
     },
     "metadata": {},
     "output_type": "display_data"
    },
    {
     "data": {
      "text/plain": [
       "  0%|          | 0/3 [00:00<?, ?it/s]"
      ],
      "application/vnd.jupyter.widget-view+json": {
       "version_major": 2,
       "version_minor": 0,
       "model_id": "9a3dfaa26b0a4d81a57b8e52804b1a09"
      }
     },
     "metadata": {},
     "output_type": "display_data"
    },
    {
     "name": "stdout",
     "output_type": "stream",
     "text": [
      "\u001B[1m\u001B[92m Epoch 74 Train DiceLoss 0.5336170569062233 Val DiceLoss 0.5264742573102316 Train dice_score 0.4663829430937767 Val dice_score 0.4735257426897685\n"
     ]
    },
    {
     "data": {
      "text/plain": [
       "  0%|          | 0/8 [00:00<?, ?it/s]"
      ],
      "application/vnd.jupyter.widget-view+json": {
       "version_major": 2,
       "version_minor": 0,
       "model_id": "167d195736cd443c9e24f25bd5fa9ed7"
      }
     },
     "metadata": {},
     "output_type": "display_data"
    },
    {
     "data": {
      "text/plain": [
       "  0%|          | 0/3 [00:00<?, ?it/s]"
      ],
      "application/vnd.jupyter.widget-view+json": {
       "version_major": 2,
       "version_minor": 0,
       "model_id": "4c8416081dc54899bec6f7e39501f96b"
      }
     },
     "metadata": {},
     "output_type": "display_data"
    },
    {
     "name": "stdout",
     "output_type": "stream",
     "text": [
      "MODEL SAVED\n",
      "\u001B[1m\u001B[92m Epoch 75 Train DiceLoss 0.5243200436234474 Val DiceLoss 0.49180126190185547 Train dice_score 0.4756799563765526 Val dice_score 0.5081987182299296\n"
     ]
    },
    {
     "data": {
      "text/plain": [
       "  0%|          | 0/8 [00:00<?, ?it/s]"
      ],
      "application/vnd.jupyter.widget-view+json": {
       "version_major": 2,
       "version_minor": 0,
       "model_id": "b12e9eb1e1ec4948a1b090d37cec45b2"
      }
     },
     "metadata": {},
     "output_type": "display_data"
    },
    {
     "data": {
      "text/plain": [
       "  0%|          | 0/3 [00:00<?, ?it/s]"
      ],
      "application/vnd.jupyter.widget-view+json": {
       "version_major": 2,
       "version_minor": 0,
       "model_id": "5a1de00b82dd40f781b4a4482e6bb809"
      }
     },
     "metadata": {},
     "output_type": "display_data"
    },
    {
     "name": "stdout",
     "output_type": "stream",
     "text": [
      "\u001B[1m\u001B[92m Epoch 76 Train DiceLoss 0.5343409925699234 Val DiceLoss 0.49471593896547955 Train dice_score 0.4656590074300766 Val dice_score 0.5052840709686279\n"
     ]
    },
    {
     "data": {
      "text/plain": [
       "  0%|          | 0/8 [00:00<?, ?it/s]"
      ],
      "application/vnd.jupyter.widget-view+json": {
       "version_major": 2,
       "version_minor": 0,
       "model_id": "5d469ed300db4d3a8926e9dfa75b31d9"
      }
     },
     "metadata": {},
     "output_type": "display_data"
    },
    {
     "data": {
      "text/plain": [
       "  0%|          | 0/3 [00:00<?, ?it/s]"
      ],
      "application/vnd.jupyter.widget-view+json": {
       "version_major": 2,
       "version_minor": 0,
       "model_id": "2cdb558a4af54f439468a90f6f097def"
      }
     },
     "metadata": {},
     "output_type": "display_data"
    },
    {
     "name": "stdout",
     "output_type": "stream",
     "text": [
      "\u001B[1m\u001B[92m Epoch 77 Train DiceLoss 0.5240035951137543 Val DiceLoss 0.4924460748831431 Train dice_score 0.4759964048862457 Val dice_score 0.5075539350509644\n"
     ]
    },
    {
     "data": {
      "text/plain": [
       "  0%|          | 0/8 [00:00<?, ?it/s]"
      ],
      "application/vnd.jupyter.widget-view+json": {
       "version_major": 2,
       "version_minor": 0,
       "model_id": "b3bdbc8d77f24768a642e87e7d1c135b"
      }
     },
     "metadata": {},
     "output_type": "display_data"
    },
    {
     "data": {
      "text/plain": [
       "  0%|          | 0/3 [00:00<?, ?it/s]"
      ],
      "application/vnd.jupyter.widget-view+json": {
       "version_major": 2,
       "version_minor": 0,
       "model_id": "c68f679dda4940b29b02095f67a117fc"
      }
     },
     "metadata": {},
     "output_type": "display_data"
    },
    {
     "name": "stdout",
     "output_type": "stream",
     "text": [
      "\u001B[1m\u001B[92m Epoch 78 Train DiceLoss 0.5256757289171219 Val DiceLoss 0.5045052170753479 Train dice_score 0.4743242710828781 Val dice_score 0.4954947829246521\n"
     ]
    },
    {
     "data": {
      "text/plain": [
       "  0%|          | 0/8 [00:00<?, ?it/s]"
      ],
      "application/vnd.jupyter.widget-view+json": {
       "version_major": 2,
       "version_minor": 0,
       "model_id": "f804365d626c41ba8307147580456692"
      }
     },
     "metadata": {},
     "output_type": "display_data"
    },
    {
     "data": {
      "text/plain": [
       "  0%|          | 0/3 [00:00<?, ?it/s]"
      ],
      "application/vnd.jupyter.widget-view+json": {
       "version_major": 2,
       "version_minor": 0,
       "model_id": "c7f3a5b01d364b0588ebf947b9c24217"
      }
     },
     "metadata": {},
     "output_type": "display_data"
    },
    {
     "name": "stdout",
     "output_type": "stream",
     "text": [
      "MODEL SAVED\n",
      "\u001B[1m\u001B[92m Epoch 79 Train DiceLoss 0.5104002207517624 Val DiceLoss 0.47958727677663165 Train dice_score 0.4895997792482376 Val dice_score 0.5204127232233683\n"
     ]
    },
    {
     "data": {
      "text/plain": [
       "  0%|          | 0/8 [00:00<?, ?it/s]"
      ],
      "application/vnd.jupyter.widget-view+json": {
       "version_major": 2,
       "version_minor": 0,
       "model_id": "5e1810dfdd6745079ac2131b161fdcd3"
      }
     },
     "metadata": {},
     "output_type": "display_data"
    },
    {
     "data": {
      "text/plain": [
       "  0%|          | 0/3 [00:00<?, ?it/s]"
      ],
      "application/vnd.jupyter.widget-view+json": {
       "version_major": 2,
       "version_minor": 0,
       "model_id": "e233ef75d484475bad9dad10ce019a17"
      }
     },
     "metadata": {},
     "output_type": "display_data"
    },
    {
     "name": "stdout",
     "output_type": "stream",
     "text": [
      "MODEL SAVED\n",
      "\u001B[1m\u001B[92m Epoch 80 Train DiceLoss 0.5144800767302513 Val DiceLoss 0.47697149713834125 Train dice_score 0.4855199232697487 Val dice_score 0.5230284929275513\n"
     ]
    },
    {
     "data": {
      "text/plain": [
       "  0%|          | 0/8 [00:00<?, ?it/s]"
      ],
      "application/vnd.jupyter.widget-view+json": {
       "version_major": 2,
       "version_minor": 0,
       "model_id": "d4768de3e0d9405c978c73db13513845"
      }
     },
     "metadata": {},
     "output_type": "display_data"
    },
    {
     "data": {
      "text/plain": [
       "  0%|          | 0/3 [00:00<?, ?it/s]"
      ],
      "application/vnd.jupyter.widget-view+json": {
       "version_major": 2,
       "version_minor": 0,
       "model_id": "d017c64b49154daabd7ee7e6eedb538e"
      }
     },
     "metadata": {},
     "output_type": "display_data"
    },
    {
     "name": "stdout",
     "output_type": "stream",
     "text": [
      "\u001B[1m\u001B[92m Epoch 81 Train DiceLoss 0.5068522915244102 Val DiceLoss 0.5307990511258444 Train dice_score 0.49314770847558975 Val dice_score 0.4692009488741557\n"
     ]
    },
    {
     "data": {
      "text/plain": [
       "  0%|          | 0/8 [00:00<?, ?it/s]"
      ],
      "application/vnd.jupyter.widget-view+json": {
       "version_major": 2,
       "version_minor": 0,
       "model_id": "71abe2250b44428295d18a7939ef4dae"
      }
     },
     "metadata": {},
     "output_type": "display_data"
    },
    {
     "data": {
      "text/plain": [
       "  0%|          | 0/3 [00:00<?, ?it/s]"
      ],
      "application/vnd.jupyter.widget-view+json": {
       "version_major": 2,
       "version_minor": 0,
       "model_id": "de70bd4f2b9e4bf6bd791d44d5324cb4"
      }
     },
     "metadata": {},
     "output_type": "display_data"
    },
    {
     "name": "stdout",
     "output_type": "stream",
     "text": [
      "\u001B[1m\u001B[92m Epoch 82 Train DiceLoss 0.5069385282695293 Val DiceLoss 0.4953670799732208 Train dice_score 0.49306146800518036 Val dice_score 0.5046329299608866\n"
     ]
    },
    {
     "data": {
      "text/plain": [
       "  0%|          | 0/8 [00:00<?, ?it/s]"
      ],
      "application/vnd.jupyter.widget-view+json": {
       "version_major": 2,
       "version_minor": 0,
       "model_id": "cd55767dd05746a1a5ed1691a4ebae2f"
      }
     },
     "metadata": {},
     "output_type": "display_data"
    },
    {
     "data": {
      "text/plain": [
       "  0%|          | 0/3 [00:00<?, ?it/s]"
      ],
      "application/vnd.jupyter.widget-view+json": {
       "version_major": 2,
       "version_minor": 0,
       "model_id": "c6bfd38d45c240f8bbee7bacddba474e"
      }
     },
     "metadata": {},
     "output_type": "display_data"
    },
    {
     "name": "stdout",
     "output_type": "stream",
     "text": [
      "MODEL SAVED\n",
      "\u001B[1m\u001B[92m Epoch 83 Train DiceLoss 0.5108578279614449 Val DiceLoss 0.4734679659207662 Train dice_score 0.48914216458797455 Val dice_score 0.5265320340792338\n"
     ]
    },
    {
     "data": {
      "text/plain": [
       "  0%|          | 0/8 [00:00<?, ?it/s]"
      ],
      "application/vnd.jupyter.widget-view+json": {
       "version_major": 2,
       "version_minor": 0,
       "model_id": "e1b81904347441ca9097cec52f5b5801"
      }
     },
     "metadata": {},
     "output_type": "display_data"
    },
    {
     "data": {
      "text/plain": [
       "  0%|          | 0/3 [00:00<?, ?it/s]"
      ],
      "application/vnd.jupyter.widget-view+json": {
       "version_major": 2,
       "version_minor": 0,
       "model_id": "c6c1572fe65b479bb880745c1ca9bfd9"
      }
     },
     "metadata": {},
     "output_type": "display_data"
    },
    {
     "name": "stdout",
     "output_type": "stream",
     "text": [
      "\u001B[1m\u001B[92m Epoch 84 Train DiceLoss 0.4979095831513405 Val DiceLoss 0.47401417295138043 Train dice_score 0.5020904168486595 Val dice_score 0.525985836982727\n"
     ]
    },
    {
     "data": {
      "text/plain": [
       "  0%|          | 0/8 [00:00<?, ?it/s]"
      ],
      "application/vnd.jupyter.widget-view+json": {
       "version_major": 2,
       "version_minor": 0,
       "model_id": "05607f8db04c4bcdbe7dc36c8aafc285"
      }
     },
     "metadata": {},
     "output_type": "display_data"
    },
    {
     "data": {
      "text/plain": [
       "  0%|          | 0/3 [00:00<?, ?it/s]"
      ],
      "application/vnd.jupyter.widget-view+json": {
       "version_major": 2,
       "version_minor": 0,
       "model_id": "e5b9c88527ea4d54b83518ca4048a129"
      }
     },
     "metadata": {},
     "output_type": "display_data"
    },
    {
     "name": "stdout",
     "output_type": "stream",
     "text": [
      "MODEL SAVED\n",
      "\u001B[1m\u001B[92m Epoch 85 Train DiceLoss 0.4904208965599537 Val DiceLoss 0.47104839483896893 Train dice_score 0.509579099714756 Val dice_score 0.5289516051610311\n"
     ]
    },
    {
     "data": {
      "text/plain": [
       "  0%|          | 0/8 [00:00<?, ?it/s]"
      ],
      "application/vnd.jupyter.widget-view+json": {
       "version_major": 2,
       "version_minor": 0,
       "model_id": "dd315ee3d0ec4a72b8eb7fbfd8942c03"
      }
     },
     "metadata": {},
     "output_type": "display_data"
    },
    {
     "data": {
      "text/plain": [
       "  0%|          | 0/3 [00:00<?, ?it/s]"
      ],
      "application/vnd.jupyter.widget-view+json": {
       "version_major": 2,
       "version_minor": 0,
       "model_id": "e86a72735505457ea5e51a1339c67c4f"
      }
     },
     "metadata": {},
     "output_type": "display_data"
    },
    {
     "name": "stdout",
     "output_type": "stream",
     "text": [
      "\u001B[1m\u001B[92m Epoch 86 Train DiceLoss 0.48738259077072144 Val DiceLoss 0.4748414655526479 Train dice_score 0.5126174166798592 Val dice_score 0.5251585642496744\n"
     ]
    },
    {
     "data": {
      "text/plain": [
       "  0%|          | 0/8 [00:00<?, ?it/s]"
      ],
      "application/vnd.jupyter.widget-view+json": {
       "version_major": 2,
       "version_minor": 0,
       "model_id": "29667f881c2a4b34bb2c265eb8fa0661"
      }
     },
     "metadata": {},
     "output_type": "display_data"
    },
    {
     "data": {
      "text/plain": [
       "  0%|          | 0/3 [00:00<?, ?it/s]"
      ],
      "application/vnd.jupyter.widget-view+json": {
       "version_major": 2,
       "version_minor": 0,
       "model_id": "781e4d7c086341b6bc0f71edd6a10e69"
      }
     },
     "metadata": {},
     "output_type": "display_data"
    },
    {
     "name": "stdout",
     "output_type": "stream",
     "text": [
      "\u001B[1m\u001B[92m Epoch 87 Train DiceLoss 0.47928638756275177 Val DiceLoss 0.48778703808784485 Train dice_score 0.5207136198878288 Val dice_score 0.5122129519780477\n"
     ]
    },
    {
     "data": {
      "text/plain": [
       "  0%|          | 0/8 [00:00<?, ?it/s]"
      ],
      "application/vnd.jupyter.widget-view+json": {
       "version_major": 2,
       "version_minor": 0,
       "model_id": "2ee0d9bfd3334e2d8a690ecccdf79150"
      }
     },
     "metadata": {},
     "output_type": "display_data"
    },
    {
     "data": {
      "text/plain": [
       "  0%|          | 0/3 [00:00<?, ?it/s]"
      ],
      "application/vnd.jupyter.widget-view+json": {
       "version_major": 2,
       "version_minor": 0,
       "model_id": "f4fad0abcb904afab5180ab65d79a2f2"
      }
     },
     "metadata": {},
     "output_type": "display_data"
    },
    {
     "name": "stdout",
     "output_type": "stream",
     "text": [
      "MODEL SAVED\n",
      "\u001B[1m\u001B[92m Epoch 88 Train DiceLoss 0.4790141433477402 Val DiceLoss 0.44548940658569336 Train dice_score 0.5209858566522598 Val dice_score 0.5545106132825216\n"
     ]
    },
    {
     "data": {
      "text/plain": [
       "  0%|          | 0/8 [00:00<?, ?it/s]"
      ],
      "application/vnd.jupyter.widget-view+json": {
       "version_major": 2,
       "version_minor": 0,
       "model_id": "7084edcfa42744999c921fc9c6f9ea27"
      }
     },
     "metadata": {},
     "output_type": "display_data"
    },
    {
     "data": {
      "text/plain": [
       "  0%|          | 0/3 [00:00<?, ?it/s]"
      ],
      "application/vnd.jupyter.widget-view+json": {
       "version_major": 2,
       "version_minor": 0,
       "model_id": "a647b8e5ac21407e8f0a3ffbc44eb32c"
      }
     },
     "metadata": {},
     "output_type": "display_data"
    },
    {
     "name": "stdout",
     "output_type": "stream",
     "text": [
      "MODEL SAVED\n",
      "\u001B[1m\u001B[92m Epoch 89 Train DiceLoss 0.4807819463312626 Val DiceLoss 0.4311491350332896 Train dice_score 0.5192180573940277 Val dice_score 0.5688508749008179\n"
     ]
    },
    {
     "data": {
      "text/plain": [
       "  0%|          | 0/8 [00:00<?, ?it/s]"
      ],
      "application/vnd.jupyter.widget-view+json": {
       "version_major": 2,
       "version_minor": 0,
       "model_id": "1607427e1130472aadd30f109e85673a"
      }
     },
     "metadata": {},
     "output_type": "display_data"
    },
    {
     "data": {
      "text/plain": [
       "  0%|          | 0/3 [00:00<?, ?it/s]"
      ],
      "application/vnd.jupyter.widget-view+json": {
       "version_major": 2,
       "version_minor": 0,
       "model_id": "096ecd3ca9d74c8185db1a933b52526a"
      }
     },
     "metadata": {},
     "output_type": "display_data"
    },
    {
     "name": "stdout",
     "output_type": "stream",
     "text": [
      "\u001B[1m\u001B[92m Epoch 90 Train DiceLoss 0.4771519750356674 Val DiceLoss 0.4419449468453725 Train dice_score 0.5228480249643326 Val dice_score 0.55805504322052\n"
     ]
    },
    {
     "data": {
      "text/plain": [
       "  0%|          | 0/8 [00:00<?, ?it/s]"
      ],
      "application/vnd.jupyter.widget-view+json": {
       "version_major": 2,
       "version_minor": 0,
       "model_id": "020cf899a8e945b9a187fb131abfaef6"
      }
     },
     "metadata": {},
     "output_type": "display_data"
    },
    {
     "data": {
      "text/plain": [
       "  0%|          | 0/3 [00:00<?, ?it/s]"
      ],
      "application/vnd.jupyter.widget-view+json": {
       "version_major": 2,
       "version_minor": 0,
       "model_id": "79ddbfdea3314789ad4c52b4532d51b2"
      }
     },
     "metadata": {},
     "output_type": "display_data"
    },
    {
     "name": "stdout",
     "output_type": "stream",
     "text": [
      "\u001B[1m\u001B[92m Epoch 91 Train DiceLoss 0.4732929579913616 Val DiceLoss 0.46094614267349243 Train dice_score 0.5267070382833481 Val dice_score 0.5390538771947225\n"
     ]
    },
    {
     "data": {
      "text/plain": [
       "  0%|          | 0/8 [00:00<?, ?it/s]"
      ],
      "application/vnd.jupyter.widget-view+json": {
       "version_major": 2,
       "version_minor": 0,
       "model_id": "c3bef6ae3de34f34907c5df93a63bfd8"
      }
     },
     "metadata": {},
     "output_type": "display_data"
    },
    {
     "data": {
      "text/plain": [
       "  0%|          | 0/3 [00:00<?, ?it/s]"
      ],
      "application/vnd.jupyter.widget-view+json": {
       "version_major": 2,
       "version_minor": 0,
       "model_id": "6c4a55f1d876455580dfe25a1449875d"
      }
     },
     "metadata": {},
     "output_type": "display_data"
    },
    {
     "name": "stdout",
     "output_type": "stream",
     "text": [
      "\u001B[1m\u001B[92m Epoch 92 Train DiceLoss 0.4807056561112404 Val DiceLoss 0.45013582706451416 Train dice_score 0.5192943513393402 Val dice_score 0.5498641928037008\n"
     ]
    },
    {
     "data": {
      "text/plain": [
       "  0%|          | 0/8 [00:00<?, ?it/s]"
      ],
      "application/vnd.jupyter.widget-view+json": {
       "version_major": 2,
       "version_minor": 0,
       "model_id": "16c9695c267445b7a0ce46493124d227"
      }
     },
     "metadata": {},
     "output_type": "display_data"
    },
    {
     "data": {
      "text/plain": [
       "  0%|          | 0/3 [00:00<?, ?it/s]"
      ],
      "application/vnd.jupyter.widget-view+json": {
       "version_major": 2,
       "version_minor": 0,
       "model_id": "6e6e15cd7c374d9da57dee13c4a35d74"
      }
     },
     "metadata": {},
     "output_type": "display_data"
    },
    {
     "name": "stdout",
     "output_type": "stream",
     "text": [
      "\u001B[1m\u001B[92m Epoch 93 Train DiceLoss 0.47216740250587463 Val DiceLoss 0.4406101008256276 Train dice_score 0.527832604944706 Val dice_score 0.5593898892402649\n"
     ]
    },
    {
     "data": {
      "text/plain": [
       "  0%|          | 0/8 [00:00<?, ?it/s]"
      ],
      "application/vnd.jupyter.widget-view+json": {
       "version_major": 2,
       "version_minor": 0,
       "model_id": "c59811537a514bd4b049c53652b5b679"
      }
     },
     "metadata": {},
     "output_type": "display_data"
    },
    {
     "data": {
      "text/plain": [
       "  0%|          | 0/3 [00:00<?, ?it/s]"
      ],
      "application/vnd.jupyter.widget-view+json": {
       "version_major": 2,
       "version_minor": 0,
       "model_id": "bdf7724f109e4fe280248ddfe6cd34f0"
      }
     },
     "metadata": {},
     "output_type": "display_data"
    },
    {
     "name": "stdout",
     "output_type": "stream",
     "text": [
      "MODEL SAVED\n",
      "\u001B[1m\u001B[92m Epoch 94 Train DiceLoss 0.467110525816679 Val DiceLoss 0.4298282365004222 Train dice_score 0.5328894704580307 Val dice_score 0.5701717535654703\n"
     ]
    },
    {
     "data": {
      "text/plain": [
       "  0%|          | 0/8 [00:00<?, ?it/s]"
      ],
      "application/vnd.jupyter.widget-view+json": {
       "version_major": 2,
       "version_minor": 0,
       "model_id": "ca167f06f23b4fee93571f912af0dbfe"
      }
     },
     "metadata": {},
     "output_type": "display_data"
    },
    {
     "data": {
      "text/plain": [
       "  0%|          | 0/3 [00:00<?, ?it/s]"
      ],
      "application/vnd.jupyter.widget-view+json": {
       "version_major": 2,
       "version_minor": 0,
       "model_id": "1a8047f792cf462fafe10dd2478e08f6"
      }
     },
     "metadata": {},
     "output_type": "display_data"
    },
    {
     "name": "stdout",
     "output_type": "stream",
     "text": [
      "\u001B[1m\u001B[92m Epoch 95 Train DiceLoss 0.4612385518848896 Val DiceLoss 0.470077912012736 Train dice_score 0.5387614518404007 Val dice_score 0.529922087987264\n"
     ]
    },
    {
     "data": {
      "text/plain": [
       "  0%|          | 0/8 [00:00<?, ?it/s]"
      ],
      "application/vnd.jupyter.widget-view+json": {
       "version_major": 2,
       "version_minor": 0,
       "model_id": "d857684029b042e6bf81152a22fa147d"
      }
     },
     "metadata": {},
     "output_type": "display_data"
    },
    {
     "data": {
      "text/plain": [
       "  0%|          | 0/3 [00:00<?, ?it/s]"
      ],
      "application/vnd.jupyter.widget-view+json": {
       "version_major": 2,
       "version_minor": 0,
       "model_id": "1124cd061b4a4ed7b5995d2f77b049a0"
      }
     },
     "metadata": {},
     "output_type": "display_data"
    },
    {
     "name": "stdout",
     "output_type": "stream",
     "text": [
      "MODEL SAVED\n",
      "\u001B[1m\u001B[92m Epoch 96 Train DiceLoss 0.4663013406097889 Val DiceLoss 0.4260637362798055 Train dice_score 0.5336986631155014 Val dice_score 0.5739362835884094\n"
     ]
    },
    {
     "data": {
      "text/plain": [
       "  0%|          | 0/8 [00:00<?, ?it/s]"
      ],
      "application/vnd.jupyter.widget-view+json": {
       "version_major": 2,
       "version_minor": 0,
       "model_id": "0b06e140fe2b466c9c918809d137c51a"
      }
     },
     "metadata": {},
     "output_type": "display_data"
    },
    {
     "data": {
      "text/plain": [
       "  0%|          | 0/3 [00:00<?, ?it/s]"
      ],
      "application/vnd.jupyter.widget-view+json": {
       "version_major": 2,
       "version_minor": 0,
       "model_id": "8a09692599604f269e6c18ce8c30a459"
      }
     },
     "metadata": {},
     "output_type": "display_data"
    },
    {
     "name": "stdout",
     "output_type": "stream",
     "text": [
      "MODEL SAVED\n",
      "\u001B[1m\u001B[92m Epoch 97 Train DiceLoss 0.46741342917084694 Val DiceLoss 0.42061307032903034 Train dice_score 0.5325865671038628 Val dice_score 0.5793869296709696\n"
     ]
    },
    {
     "data": {
      "text/plain": [
       "  0%|          | 0/8 [00:00<?, ?it/s]"
      ],
      "application/vnd.jupyter.widget-view+json": {
       "version_major": 2,
       "version_minor": 0,
       "model_id": "b47dec1935a34662b2ac0d91a66d7c5b"
      }
     },
     "metadata": {},
     "output_type": "display_data"
    },
    {
     "data": {
      "text/plain": [
       "  0%|          | 0/3 [00:00<?, ?it/s]"
      ],
      "application/vnd.jupyter.widget-view+json": {
       "version_major": 2,
       "version_minor": 0,
       "model_id": "ad6da3bfdbc1481cb3f376065aa94f31"
      }
     },
     "metadata": {},
     "output_type": "display_data"
    },
    {
     "name": "stdout",
     "output_type": "stream",
     "text": [
      "\u001B[1m\u001B[92m Epoch 98 Train DiceLoss 0.45578552037477493 Val DiceLoss 0.43271424372990924 Train dice_score 0.5442144796252251 Val dice_score 0.5672857364018759\n"
     ]
    },
    {
     "data": {
      "text/plain": [
       "  0%|          | 0/8 [00:00<?, ?it/s]"
      ],
      "application/vnd.jupyter.widget-view+json": {
       "version_major": 2,
       "version_minor": 0,
       "model_id": "65f2b8673da545bf813fcbdfc5a5bd5f"
      }
     },
     "metadata": {},
     "output_type": "display_data"
    },
    {
     "data": {
      "text/plain": [
       "  0%|          | 0/3 [00:00<?, ?it/s]"
      ],
      "application/vnd.jupyter.widget-view+json": {
       "version_major": 2,
       "version_minor": 0,
       "model_id": "4e16ed50fb2c433195970cff84fa5b34"
      }
     },
     "metadata": {},
     "output_type": "display_data"
    },
    {
     "name": "stdout",
     "output_type": "stream",
     "text": [
      "MODEL SAVED\n",
      "\u001B[1m\u001B[92m Epoch 99 Train DiceLoss 0.4509456492960453 Val DiceLoss 0.41727718710899353 Train dice_score 0.5490543618798256 Val dice_score 0.5827227830886841\n"
     ]
    },
    {
     "data": {
      "text/plain": [
       "  0%|          | 0/8 [00:00<?, ?it/s]"
      ],
      "application/vnd.jupyter.widget-view+json": {
       "version_major": 2,
       "version_minor": 0,
       "model_id": "99a4786c264e43789717d7da9d30cab4"
      }
     },
     "metadata": {},
     "output_type": "display_data"
    },
    {
     "data": {
      "text/plain": [
       "  0%|          | 0/3 [00:00<?, ?it/s]"
      ],
      "application/vnd.jupyter.widget-view+json": {
       "version_major": 2,
       "version_minor": 0,
       "model_id": "e1e9a8ab1b834c2783f69e10160cff8f"
      }
     },
     "metadata": {},
     "output_type": "display_data"
    },
    {
     "name": "stdout",
     "output_type": "stream",
     "text": [
      "\u001B[1m\u001B[92m Epoch 100 Train DiceLoss 0.447144515812397 Val DiceLoss 0.42824774980545044 Train dice_score 0.5528554916381836 Val dice_score 0.5717522700627645\n"
     ]
    },
    {
     "data": {
      "text/plain": [
       "  0%|          | 0/8 [00:00<?, ?it/s]"
      ],
      "application/vnd.jupyter.widget-view+json": {
       "version_major": 2,
       "version_minor": 0,
       "model_id": "5b6e143ab3474870b15bd5634ec8c4d3"
      }
     },
     "metadata": {},
     "output_type": "display_data"
    },
    {
     "data": {
      "text/plain": [
       "  0%|          | 0/3 [00:00<?, ?it/s]"
      ],
      "application/vnd.jupyter.widget-view+json": {
       "version_major": 2,
       "version_minor": 0,
       "model_id": "6d14af5ff8c34d579036fe564c9b56b6"
      }
     },
     "metadata": {},
     "output_type": "display_data"
    },
    {
     "name": "stdout",
     "output_type": "stream",
     "text": [
      "\u001B[1m\u001B[92m Epoch 101 Train DiceLoss 0.4686748720705509 Val DiceLoss 0.4231109917163849 Train dice_score 0.5313251316547394 Val dice_score 0.5768890380859375\n"
     ]
    },
    {
     "data": {
      "text/plain": [
       "  0%|          | 0/8 [00:00<?, ?it/s]"
      ],
      "application/vnd.jupyter.widget-view+json": {
       "version_major": 2,
       "version_minor": 0,
       "model_id": "e1105611bde4456f9b3cd83d3eb6dab1"
      }
     },
     "metadata": {},
     "output_type": "display_data"
    },
    {
     "data": {
      "text/plain": [
       "  0%|          | 0/3 [00:00<?, ?it/s]"
      ],
      "application/vnd.jupyter.widget-view+json": {
       "version_major": 2,
       "version_minor": 0,
       "model_id": "b7f234099e1c4857a45223c88f52f266"
      }
     },
     "metadata": {},
     "output_type": "display_data"
    },
    {
     "name": "stdout",
     "output_type": "stream",
     "text": [
      "MODEL SAVED\n",
      "\u001B[1m\u001B[92m Epoch 102 Train DiceLoss 0.44609224423766136 Val DiceLoss 0.41534950335820514 Train dice_score 0.5539077669382095 Val dice_score 0.5846504966417948\n"
     ]
    },
    {
     "data": {
      "text/plain": [
       "  0%|          | 0/8 [00:00<?, ?it/s]"
      ],
      "application/vnd.jupyter.widget-view+json": {
       "version_major": 2,
       "version_minor": 0,
       "model_id": "e2eca30177534145935e9a25d0e31bb0"
      }
     },
     "metadata": {},
     "output_type": "display_data"
    },
    {
     "data": {
      "text/plain": [
       "  0%|          | 0/3 [00:00<?, ?it/s]"
      ],
      "application/vnd.jupyter.widget-view+json": {
       "version_major": 2,
       "version_minor": 0,
       "model_id": "be7083ed0c744045a1ccaf2edbbcb617"
      }
     },
     "metadata": {},
     "output_type": "display_data"
    },
    {
     "name": "stdout",
     "output_type": "stream",
     "text": [
      "MODEL SAVED\n",
      "\u001B[1m\u001B[92m Epoch 103 Train DiceLoss 0.4381650239229202 Val DiceLoss 0.4066886107126872 Train dice_score 0.5618349686264992 Val dice_score 0.5933114091555277\n"
     ]
    },
    {
     "data": {
      "text/plain": [
       "  0%|          | 0/8 [00:00<?, ?it/s]"
      ],
      "application/vnd.jupyter.widget-view+json": {
       "version_major": 2,
       "version_minor": 0,
       "model_id": "b35234fa404e460fb36ab7de3c8e1c15"
      }
     },
     "metadata": {},
     "output_type": "display_data"
    },
    {
     "data": {
      "text/plain": [
       "  0%|          | 0/3 [00:00<?, ?it/s]"
      ],
      "application/vnd.jupyter.widget-view+json": {
       "version_major": 2,
       "version_minor": 0,
       "model_id": "0aaa895949784819b950a61cc9568011"
      }
     },
     "metadata": {},
     "output_type": "display_data"
    },
    {
     "name": "stdout",
     "output_type": "stream",
     "text": [
      "MODEL SAVED\n",
      "\u001B[1m\u001B[92m Epoch 104 Train DiceLoss 0.4563765972852707 Val DiceLoss 0.40517253677050274 Train dice_score 0.5436234176158905 Val dice_score 0.5948274532953898\n"
     ]
    },
    {
     "data": {
      "text/plain": [
       "  0%|          | 0/8 [00:00<?, ?it/s]"
      ],
      "application/vnd.jupyter.widget-view+json": {
       "version_major": 2,
       "version_minor": 0,
       "model_id": "a00ab564deaf4cbdbc44959a9795c0dd"
      }
     },
     "metadata": {},
     "output_type": "display_data"
    },
    {
     "data": {
      "text/plain": [
       "  0%|          | 0/3 [00:00<?, ?it/s]"
      ],
      "application/vnd.jupyter.widget-view+json": {
       "version_major": 2,
       "version_minor": 0,
       "model_id": "3b70fd423e5440b1bda699c58d9a88b0"
      }
     },
     "metadata": {},
     "output_type": "display_data"
    },
    {
     "name": "stdout",
     "output_type": "stream",
     "text": [
      "\u001B[1m\u001B[92m Epoch 105 Train DiceLoss 0.4369637705385685 Val DiceLoss 0.45267465710639954 Train dice_score 0.5630362331867218 Val dice_score 0.5473253528277079\n"
     ]
    },
    {
     "data": {
      "text/plain": [
       "  0%|          | 0/8 [00:00<?, ?it/s]"
      ],
      "application/vnd.jupyter.widget-view+json": {
       "version_major": 2,
       "version_minor": 0,
       "model_id": "0c1243335ed243988678d8c7b60c0bce"
      }
     },
     "metadata": {},
     "output_type": "display_data"
    },
    {
     "data": {
      "text/plain": [
       "  0%|          | 0/3 [00:00<?, ?it/s]"
      ],
      "application/vnd.jupyter.widget-view+json": {
       "version_major": 2,
       "version_minor": 0,
       "model_id": "76f41cd1387f44bfa82f6147353c16bd"
      }
     },
     "metadata": {},
     "output_type": "display_data"
    },
    {
     "name": "stdout",
     "output_type": "stream",
     "text": [
      "\u001B[1m\u001B[92m Epoch 106 Train DiceLoss 0.4505315534770489 Val DiceLoss 0.4084557096163432 Train dice_score 0.5494684427976608 Val dice_score 0.5915442903836569\n"
     ]
    },
    {
     "data": {
      "text/plain": [
       "  0%|          | 0/8 [00:00<?, ?it/s]"
      ],
      "application/vnd.jupyter.widget-view+json": {
       "version_major": 2,
       "version_minor": 0,
       "model_id": "2b25850021614bc9989a30ddc18999be"
      }
     },
     "metadata": {},
     "output_type": "display_data"
    },
    {
     "data": {
      "text/plain": [
       "  0%|          | 0/3 [00:00<?, ?it/s]"
      ],
      "application/vnd.jupyter.widget-view+json": {
       "version_major": 2,
       "version_minor": 0,
       "model_id": "64e49a36c58a4b4887ac0b8ef0657f22"
      }
     },
     "metadata": {},
     "output_type": "display_data"
    },
    {
     "name": "stdout",
     "output_type": "stream",
     "text": [
      "MODEL SAVED\n",
      "\u001B[1m\u001B[92m Epoch 107 Train DiceLoss 0.4374804198741913 Val DiceLoss 0.40262097120285034 Train dice_score 0.5625195875763893 Val dice_score 0.5973790089289347\n"
     ]
    },
    {
     "data": {
      "text/plain": [
       "  0%|          | 0/8 [00:00<?, ?it/s]"
      ],
      "application/vnd.jupyter.widget-view+json": {
       "version_major": 2,
       "version_minor": 0,
       "model_id": "f1522d5174f5422b9f8188fbb20c7cc0"
      }
     },
     "metadata": {},
     "output_type": "display_data"
    },
    {
     "data": {
      "text/plain": [
       "  0%|          | 0/3 [00:00<?, ?it/s]"
      ],
      "application/vnd.jupyter.widget-view+json": {
       "version_major": 2,
       "version_minor": 0,
       "model_id": "3163700579b14b6f8ffce723050ab079"
      }
     },
     "metadata": {},
     "output_type": "display_data"
    },
    {
     "name": "stdout",
     "output_type": "stream",
     "text": [
      "\u001B[1m\u001B[92m Epoch 108 Train DiceLoss 0.4527900665998459 Val DiceLoss 0.41561204195022583 Train dice_score 0.5472099334001541 Val dice_score 0.5843879580497742\n"
     ]
    },
    {
     "data": {
      "text/plain": [
       "  0%|          | 0/8 [00:00<?, ?it/s]"
      ],
      "application/vnd.jupyter.widget-view+json": {
       "version_major": 2,
       "version_minor": 0,
       "model_id": "a4db2da30e634b98947edbf518a5aa50"
      }
     },
     "metadata": {},
     "output_type": "display_data"
    },
    {
     "data": {
      "text/plain": [
       "  0%|          | 0/3 [00:00<?, ?it/s]"
      ],
      "application/vnd.jupyter.widget-view+json": {
       "version_major": 2,
       "version_minor": 0,
       "model_id": "74fc81f5ac3c4ce9a5637c78f92d0a76"
      }
     },
     "metadata": {},
     "output_type": "display_data"
    },
    {
     "name": "stdout",
     "output_type": "stream",
     "text": [
      "\u001B[1m\u001B[92m Epoch 109 Train DiceLoss 0.4499034769833088 Val DiceLoss 0.41458094120025635 Train dice_score 0.5500965192914009 Val dice_score 0.5854190786679586\n"
     ]
    },
    {
     "data": {
      "text/plain": [
       "  0%|          | 0/8 [00:00<?, ?it/s]"
      ],
      "application/vnd.jupyter.widget-view+json": {
       "version_major": 2,
       "version_minor": 0,
       "model_id": "8ed582cc8a914bf7b4c248f24f40925a"
      }
     },
     "metadata": {},
     "output_type": "display_data"
    },
    {
     "data": {
      "text/plain": [
       "  0%|          | 0/3 [00:00<?, ?it/s]"
      ],
      "application/vnd.jupyter.widget-view+json": {
       "version_major": 2,
       "version_minor": 0,
       "model_id": "0653f92cfeeb45729fde8cfd51e9a075"
      }
     },
     "metadata": {},
     "output_type": "display_data"
    },
    {
     "name": "stdout",
     "output_type": "stream",
     "text": [
      "\u001B[1m\u001B[92m Epoch 110 Train DiceLoss 0.44179122895002365 Val DiceLoss 0.4104413489500682 Train dice_score 0.5582087859511375 Val dice_score 0.5895586609840393\n"
     ]
    },
    {
     "data": {
      "text/plain": [
       "  0%|          | 0/8 [00:00<?, ?it/s]"
      ],
      "application/vnd.jupyter.widget-view+json": {
       "version_major": 2,
       "version_minor": 0,
       "model_id": "9ee9c7243fc54222aa183a2317825c7d"
      }
     },
     "metadata": {},
     "output_type": "display_data"
    },
    {
     "data": {
      "text/plain": [
       "  0%|          | 0/3 [00:00<?, ?it/s]"
      ],
      "application/vnd.jupyter.widget-view+json": {
       "version_major": 2,
       "version_minor": 0,
       "model_id": "4888786bf83349099389309a3857e540"
      }
     },
     "metadata": {},
     "output_type": "display_data"
    },
    {
     "name": "stdout",
     "output_type": "stream",
     "text": [
      "\u001B[1m\u001B[92m Epoch 111 Train DiceLoss 0.4329284653067589 Val DiceLoss 0.4080287317434947 Train dice_score 0.5670715272426605 Val dice_score 0.5919712781906128\n"
     ]
    },
    {
     "data": {
      "text/plain": [
       "  0%|          | 0/8 [00:00<?, ?it/s]"
      ],
      "application/vnd.jupyter.widget-view+json": {
       "version_major": 2,
       "version_minor": 0,
       "model_id": "ad45171646424865ae6278f9875e46a2"
      }
     },
     "metadata": {},
     "output_type": "display_data"
    },
    {
     "data": {
      "text/plain": [
       "  0%|          | 0/3 [00:00<?, ?it/s]"
      ],
      "application/vnd.jupyter.widget-view+json": {
       "version_major": 2,
       "version_minor": 0,
       "model_id": "bd49844143044605a53135fee82c67e1"
      }
     },
     "metadata": {},
     "output_type": "display_data"
    },
    {
     "name": "stdout",
     "output_type": "stream",
     "text": [
      "\u001B[1m\u001B[92m Epoch 112 Train DiceLoss 0.44177281111478806 Val DiceLoss 0.407223920027415 Train dice_score 0.558227188885212 Val dice_score 0.5927760799725851\n"
     ]
    },
    {
     "data": {
      "text/plain": [
       "  0%|          | 0/8 [00:00<?, ?it/s]"
      ],
      "application/vnd.jupyter.widget-view+json": {
       "version_major": 2,
       "version_minor": 0,
       "model_id": "db71c6e5a37d42ac8cf4d56764288bf0"
      }
     },
     "metadata": {},
     "output_type": "display_data"
    },
    {
     "data": {
      "text/plain": [
       "  0%|          | 0/3 [00:00<?, ?it/s]"
      ],
      "application/vnd.jupyter.widget-view+json": {
       "version_major": 2,
       "version_minor": 0,
       "model_id": "c89fc92aad534eb79402c604be1fe0c8"
      }
     },
     "metadata": {},
     "output_type": "display_data"
    },
    {
     "name": "stdout",
     "output_type": "stream",
     "text": [
      "MODEL SAVED\n",
      "\u001B[1m\u001B[92m Epoch 113 Train DiceLoss 0.4272945709526539 Val DiceLoss 0.39760105808575946 Train dice_score 0.5727054327726364 Val dice_score 0.602398951848348\n"
     ]
    },
    {
     "data": {
      "text/plain": [
       "  0%|          | 0/8 [00:00<?, ?it/s]"
      ],
      "application/vnd.jupyter.widget-view+json": {
       "version_major": 2,
       "version_minor": 0,
       "model_id": "a6201be5428645d0a9463f024431d5eb"
      }
     },
     "metadata": {},
     "output_type": "display_data"
    },
    {
     "data": {
      "text/plain": [
       "  0%|          | 0/3 [00:00<?, ?it/s]"
      ],
      "application/vnd.jupyter.widget-view+json": {
       "version_major": 2,
       "version_minor": 0,
       "model_id": "7cb74ce12a3a4e69b5e1357b09c81741"
      }
     },
     "metadata": {},
     "output_type": "display_data"
    },
    {
     "name": "stdout",
     "output_type": "stream",
     "text": [
      "MODEL SAVED\n",
      "\u001B[1m\u001B[92m Epoch 114 Train DiceLoss 0.43811772018671036 Val DiceLoss 0.39549408356348675 Train dice_score 0.5618822798132896 Val dice_score 0.6045059363047282\n"
     ]
    },
    {
     "data": {
      "text/plain": [
       "  0%|          | 0/8 [00:00<?, ?it/s]"
      ],
      "application/vnd.jupyter.widget-view+json": {
       "version_major": 2,
       "version_minor": 0,
       "model_id": "ee040c9cf1544cec8bdaa4b8c45e8dc8"
      }
     },
     "metadata": {},
     "output_type": "display_data"
    },
    {
     "data": {
      "text/plain": [
       "  0%|          | 0/3 [00:00<?, ?it/s]"
      ],
      "application/vnd.jupyter.widget-view+json": {
       "version_major": 2,
       "version_minor": 0,
       "model_id": "d8c503ed63244635ad430ab04e23bded"
      }
     },
     "metadata": {},
     "output_type": "display_data"
    },
    {
     "name": "stdout",
     "output_type": "stream",
     "text": [
      "\u001B[1m\u001B[92m Epoch 115 Train DiceLoss 0.43471938371658325 Val DiceLoss 0.41269062956174213 Train dice_score 0.5652806088328362 Val dice_score 0.5873093803723654\n"
     ]
    },
    {
     "data": {
      "text/plain": [
       "  0%|          | 0/8 [00:00<?, ?it/s]"
      ],
      "application/vnd.jupyter.widget-view+json": {
       "version_major": 2,
       "version_minor": 0,
       "model_id": "b661ca8195644ceaa11f82d2887dd178"
      }
     },
     "metadata": {},
     "output_type": "display_data"
    },
    {
     "data": {
      "text/plain": [
       "  0%|          | 0/3 [00:00<?, ?it/s]"
      ],
      "application/vnd.jupyter.widget-view+json": {
       "version_major": 2,
       "version_minor": 0,
       "model_id": "139bdf6a0597485fbce3b3c68002c7af"
      }
     },
     "metadata": {},
     "output_type": "display_data"
    },
    {
     "name": "stdout",
     "output_type": "stream",
     "text": [
      "\u001B[1m\u001B[92m Epoch 116 Train DiceLoss 0.42682651057839394 Val DiceLoss 0.41120563944180805 Train dice_score 0.573173500597477 Val dice_score 0.5887943704922994\n"
     ]
    },
    {
     "data": {
      "text/plain": [
       "  0%|          | 0/8 [00:00<?, ?it/s]"
      ],
      "application/vnd.jupyter.widget-view+json": {
       "version_major": 2,
       "version_minor": 0,
       "model_id": "575604c2da0b4214ab5c3ef38c4163d5"
      }
     },
     "metadata": {},
     "output_type": "display_data"
    },
    {
     "data": {
      "text/plain": [
       "  0%|          | 0/3 [00:00<?, ?it/s]"
      ],
      "application/vnd.jupyter.widget-view+json": {
       "version_major": 2,
       "version_minor": 0,
       "model_id": "6cf43ebe0e4c4baa9b7bf3c767fb7d8e"
      }
     },
     "metadata": {},
     "output_type": "display_data"
    },
    {
     "name": "stdout",
     "output_type": "stream",
     "text": [
      "\u001B[1m\u001B[92m Epoch 117 Train DiceLoss 0.42568739876151085 Val DiceLoss 0.3960883418718974 Train dice_score 0.5743125975131989 Val dice_score 0.6039116581281027\n"
     ]
    },
    {
     "data": {
      "text/plain": [
       "  0%|          | 0/8 [00:00<?, ?it/s]"
      ],
      "application/vnd.jupyter.widget-view+json": {
       "version_major": 2,
       "version_minor": 0,
       "model_id": "f2cbf3d70da042ac8d9bfbdcdb0d4d79"
      }
     },
     "metadata": {},
     "output_type": "display_data"
    },
    {
     "data": {
      "text/plain": [
       "  0%|          | 0/3 [00:00<?, ?it/s]"
      ],
      "application/vnd.jupyter.widget-view+json": {
       "version_major": 2,
       "version_minor": 0,
       "model_id": "a5fd3c7021c3455e9fd089d90aded9d0"
      }
     },
     "metadata": {},
     "output_type": "display_data"
    },
    {
     "name": "stdout",
     "output_type": "stream",
     "text": [
      "\u001B[1m\u001B[92m Epoch 118 Train DiceLoss 0.42814477533102036 Val DiceLoss 0.3968961238861084 Train dice_score 0.5718552395701408 Val dice_score 0.6031038562456766\n"
     ]
    },
    {
     "data": {
      "text/plain": [
       "  0%|          | 0/8 [00:00<?, ?it/s]"
      ],
      "application/vnd.jupyter.widget-view+json": {
       "version_major": 2,
       "version_minor": 0,
       "model_id": "97e871981a00418aab853c06f2250978"
      }
     },
     "metadata": {},
     "output_type": "display_data"
    },
    {
     "data": {
      "text/plain": [
       "  0%|          | 0/3 [00:00<?, ?it/s]"
      ],
      "application/vnd.jupyter.widget-view+json": {
       "version_major": 2,
       "version_minor": 0,
       "model_id": "b1e4262d598442edae7a252e6bda2e2a"
      }
     },
     "metadata": {},
     "output_type": "display_data"
    },
    {
     "name": "stdout",
     "output_type": "stream",
     "text": [
      "\u001B[1m\u001B[92m Epoch 119 Train DiceLoss 0.4312006048858166 Val DiceLoss 0.4004432161649068 Train dice_score 0.5687993988394737 Val dice_score 0.5995567838350931\n"
     ]
    },
    {
     "data": {
      "text/plain": [
       "  0%|          | 0/8 [00:00<?, ?it/s]"
      ],
      "application/vnd.jupyter.widget-view+json": {
       "version_major": 2,
       "version_minor": 0,
       "model_id": "109dc0a106d241dfa0e751ae2c62ee55"
      }
     },
     "metadata": {},
     "output_type": "display_data"
    },
    {
     "data": {
      "text/plain": [
       "  0%|          | 0/3 [00:00<?, ?it/s]"
      ],
      "application/vnd.jupyter.widget-view+json": {
       "version_major": 2,
       "version_minor": 0,
       "model_id": "d4f17edd2738442cb7b6d3e2c0e15411"
      }
     },
     "metadata": {},
     "output_type": "display_data"
    },
    {
     "name": "stdout",
     "output_type": "stream",
     "text": [
      "\u001B[1m\u001B[92m Epoch 120 Train DiceLoss 0.4203649051487446 Val DiceLoss 0.405300239721934 Train dice_score 0.5796350985765457 Val dice_score 0.594699760278066\n"
     ]
    },
    {
     "data": {
      "text/plain": [
       "  0%|          | 0/8 [00:00<?, ?it/s]"
      ],
      "application/vnd.jupyter.widget-view+json": {
       "version_major": 2,
       "version_minor": 0,
       "model_id": "88782e23abf14b699bf8ecbd53ef1571"
      }
     },
     "metadata": {},
     "output_type": "display_data"
    },
    {
     "data": {
      "text/plain": [
       "  0%|          | 0/3 [00:00<?, ?it/s]"
      ],
      "application/vnd.jupyter.widget-view+json": {
       "version_major": 2,
       "version_minor": 0,
       "model_id": "10a0b40094754456abfa9114e46b6fb7"
      }
     },
     "metadata": {},
     "output_type": "display_data"
    },
    {
     "name": "stdout",
     "output_type": "stream",
     "text": [
      "\u001B[1m\u001B[92m Epoch 121 Train DiceLoss 0.4205351546406746 Val DiceLoss 0.4011882543563843 Train dice_score 0.5794648453593254 Val dice_score 0.5988117456436157\n"
     ]
    },
    {
     "data": {
      "text/plain": [
       "  0%|          | 0/8 [00:00<?, ?it/s]"
      ],
      "application/vnd.jupyter.widget-view+json": {
       "version_major": 2,
       "version_minor": 0,
       "model_id": "982de7b109a54202b60ff09b52d28893"
      }
     },
     "metadata": {},
     "output_type": "display_data"
    },
    {
     "data": {
      "text/plain": [
       "  0%|          | 0/3 [00:00<?, ?it/s]"
      ],
      "application/vnd.jupyter.widget-view+json": {
       "version_major": 2,
       "version_minor": 0,
       "model_id": "594b3b38414e45058d09034413972cb1"
      }
     },
     "metadata": {},
     "output_type": "display_data"
    },
    {
     "name": "stdout",
     "output_type": "stream",
     "text": [
      "\u001B[1m\u001B[92m Epoch 122 Train DiceLoss 0.42028819397091866 Val DiceLoss 0.41848860184351605 Train dice_score 0.5797118097543716 Val dice_score 0.581511398156484\n"
     ]
    },
    {
     "data": {
      "text/plain": [
       "  0%|          | 0/8 [00:00<?, ?it/s]"
      ],
      "application/vnd.jupyter.widget-view+json": {
       "version_major": 2,
       "version_minor": 0,
       "model_id": "18ad5df70d574d8583d0428bd798b22a"
      }
     },
     "metadata": {},
     "output_type": "display_data"
    },
    {
     "data": {
      "text/plain": [
       "  0%|          | 0/3 [00:00<?, ?it/s]"
      ],
      "application/vnd.jupyter.widget-view+json": {
       "version_major": 2,
       "version_minor": 0,
       "model_id": "9ad97e5a462345e4a3b34614e94f33a5"
      }
     },
     "metadata": {},
     "output_type": "display_data"
    },
    {
     "name": "stdout",
     "output_type": "stream",
     "text": [
      "\u001B[1m\u001B[92m Epoch 123 Train DiceLoss 0.42175140604376793 Val DiceLoss 0.4047636290391286 Train dice_score 0.5782485902309418 Val dice_score 0.5952363610267639\n"
     ]
    },
    {
     "data": {
      "text/plain": [
       "  0%|          | 0/8 [00:00<?, ?it/s]"
      ],
      "application/vnd.jupyter.widget-view+json": {
       "version_major": 2,
       "version_minor": 0,
       "model_id": "4ebabcc369614f429f2d9d35c8be427c"
      }
     },
     "metadata": {},
     "output_type": "display_data"
    },
    {
     "data": {
      "text/plain": [
       "  0%|          | 0/3 [00:00<?, ?it/s]"
      ],
      "application/vnd.jupyter.widget-view+json": {
       "version_major": 2,
       "version_minor": 0,
       "model_id": "615d210ce5b44941a3fc1add033b8a04"
      }
     },
     "metadata": {},
     "output_type": "display_data"
    },
    {
     "name": "stdout",
     "output_type": "stream",
     "text": [
      "\u001B[1m\u001B[92m Epoch 124 Train DiceLoss 0.4272848218679428 Val DiceLoss 0.4029421905676524 Train dice_score 0.5727151781320572 Val dice_score 0.5970577994982401\n"
     ]
    },
    {
     "data": {
      "text/plain": [
       "  0%|          | 0/8 [00:00<?, ?it/s]"
      ],
      "application/vnd.jupyter.widget-view+json": {
       "version_major": 2,
       "version_minor": 0,
       "model_id": "9ac09e5414ad453a950c3bd75176de14"
      }
     },
     "metadata": {},
     "output_type": "display_data"
    },
    {
     "data": {
      "text/plain": [
       "  0%|          | 0/3 [00:00<?, ?it/s]"
      ],
      "application/vnd.jupyter.widget-view+json": {
       "version_major": 2,
       "version_minor": 0,
       "model_id": "3da813cfc614482b8e7a6fad04918156"
      }
     },
     "metadata": {},
     "output_type": "display_data"
    },
    {
     "name": "stdout",
     "output_type": "stream",
     "text": [
      "MODEL SAVED\n",
      "\u001B[1m\u001B[92m Epoch 125 Train DiceLoss 0.42471953108906746 Val DiceLoss 0.38760144511858624 Train dice_score 0.5752804651856422 Val dice_score 0.6123985449473063\n"
     ]
    },
    {
     "data": {
      "text/plain": [
       "  0%|          | 0/8 [00:00<?, ?it/s]"
      ],
      "application/vnd.jupyter.widget-view+json": {
       "version_major": 2,
       "version_minor": 0,
       "model_id": "a2ff2d0532aa446697617bb0af75fca9"
      }
     },
     "metadata": {},
     "output_type": "display_data"
    },
    {
     "data": {
      "text/plain": [
       "  0%|          | 0/3 [00:00<?, ?it/s]"
      ],
      "application/vnd.jupyter.widget-view+json": {
       "version_major": 2,
       "version_minor": 0,
       "model_id": "45b958883fc5452fbe254e56d2cb8140"
      }
     },
     "metadata": {},
     "output_type": "display_data"
    },
    {
     "name": "stdout",
     "output_type": "stream",
     "text": [
      "\u001B[1m\u001B[92m Epoch 126 Train DiceLoss 0.4159416891634464 Val DiceLoss 0.39669211705525714 Train dice_score 0.5840583220124245 Val dice_score 0.6033078829447428\n"
     ]
    },
    {
     "data": {
      "text/plain": [
       "  0%|          | 0/8 [00:00<?, ?it/s]"
      ],
      "application/vnd.jupyter.widget-view+json": {
       "version_major": 2,
       "version_minor": 0,
       "model_id": "7948a84cdc0542f890cb65c582d1915b"
      }
     },
     "metadata": {},
     "output_type": "display_data"
    },
    {
     "data": {
      "text/plain": [
       "  0%|          | 0/3 [00:00<?, ?it/s]"
      ],
      "application/vnd.jupyter.widget-view+json": {
       "version_major": 2,
       "version_minor": 0,
       "model_id": "a4a3faff90e14a11bb6f70b068bab1af"
      }
     },
     "metadata": {},
     "output_type": "display_data"
    },
    {
     "name": "stdout",
     "output_type": "stream",
     "text": [
      "\u001B[1m\u001B[92m Epoch 127 Train DiceLoss 0.4189064987003803 Val DiceLoss 0.4027961194515228 Train dice_score 0.5810934975743294 Val dice_score 0.5972038904825846\n"
     ]
    },
    {
     "data": {
      "text/plain": [
       "  0%|          | 0/8 [00:00<?, ?it/s]"
      ],
      "application/vnd.jupyter.widget-view+json": {
       "version_major": 2,
       "version_minor": 0,
       "model_id": "b0d43d633f2340dc9c8dbca93b5b88b1"
      }
     },
     "metadata": {},
     "output_type": "display_data"
    },
    {
     "data": {
      "text/plain": [
       "  0%|          | 0/3 [00:00<?, ?it/s]"
      ],
      "application/vnd.jupyter.widget-view+json": {
       "version_major": 2,
       "version_minor": 0,
       "model_id": "c553aec390e74989af7ef7829aa0e10f"
      }
     },
     "metadata": {},
     "output_type": "display_data"
    },
    {
     "name": "stdout",
     "output_type": "stream",
     "text": [
      "\u001B[1m\u001B[92m Epoch 128 Train DiceLoss 0.4215475991368294 Val DiceLoss 0.4078812897205353 Train dice_score 0.5784524083137512 Val dice_score 0.5921187003453573\n"
     ]
    },
    {
     "data": {
      "text/plain": [
       "  0%|          | 0/8 [00:00<?, ?it/s]"
      ],
      "application/vnd.jupyter.widget-view+json": {
       "version_major": 2,
       "version_minor": 0,
       "model_id": "3c5e168517ee4db8b8ffaaf7fda9824c"
      }
     },
     "metadata": {},
     "output_type": "display_data"
    },
    {
     "data": {
      "text/plain": [
       "  0%|          | 0/3 [00:00<?, ?it/s]"
      ],
      "application/vnd.jupyter.widget-view+json": {
       "version_major": 2,
       "version_minor": 0,
       "model_id": "cb866da0919947ccbd71047d67443538"
      }
     },
     "metadata": {},
     "output_type": "display_data"
    },
    {
     "name": "stdout",
     "output_type": "stream",
     "text": [
      "\u001B[1m\u001B[92m Epoch 129 Train DiceLoss 0.4215729236602783 Val DiceLoss 0.3931848506132762 Train dice_score 0.5784270614385605 Val dice_score 0.6068151394526163\n"
     ]
    },
    {
     "data": {
      "text/plain": [
       "  0%|          | 0/8 [00:00<?, ?it/s]"
      ],
      "application/vnd.jupyter.widget-view+json": {
       "version_major": 2,
       "version_minor": 0,
       "model_id": "b9ba1bb9ca5548d191d8a3e6633985eb"
      }
     },
     "metadata": {},
     "output_type": "display_data"
    },
    {
     "data": {
      "text/plain": [
       "  0%|          | 0/3 [00:00<?, ?it/s]"
      ],
      "application/vnd.jupyter.widget-view+json": {
       "version_major": 2,
       "version_minor": 0,
       "model_id": "dcdde12c27b6479ca5f5eb211c677165"
      }
     },
     "metadata": {},
     "output_type": "display_data"
    },
    {
     "name": "stdout",
     "output_type": "stream",
     "text": [
      "\u001B[1m\u001B[92m Epoch 130 Train DiceLoss 0.4130629934370518 Val DiceLoss 0.3917686939239502 Train dice_score 0.5869370028376579 Val dice_score 0.6082313259442648\n"
     ]
    },
    {
     "data": {
      "text/plain": [
       "  0%|          | 0/8 [00:00<?, ?it/s]"
      ],
      "application/vnd.jupyter.widget-view+json": {
       "version_major": 2,
       "version_minor": 0,
       "model_id": "28fabbe09ed141d4ae7dfe480b867cf9"
      }
     },
     "metadata": {},
     "output_type": "display_data"
    },
    {
     "data": {
      "text/plain": [
       "  0%|          | 0/3 [00:00<?, ?it/s]"
      ],
      "application/vnd.jupyter.widget-view+json": {
       "version_major": 2,
       "version_minor": 0,
       "model_id": "cdcb152aae6b45009cf86b67bbb3da25"
      }
     },
     "metadata": {},
     "output_type": "display_data"
    },
    {
     "name": "stdout",
     "output_type": "stream",
     "text": [
      "\u001B[1m\u001B[92m Epoch 131 Train DiceLoss 0.41800930351018906 Val DiceLoss 0.40737393498420715 Train dice_score 0.5819907039403915 Val dice_score 0.5926260550816854\n"
     ]
    },
    {
     "data": {
      "text/plain": [
       "  0%|          | 0/8 [00:00<?, ?it/s]"
      ],
      "application/vnd.jupyter.widget-view+json": {
       "version_major": 2,
       "version_minor": 0,
       "model_id": "e2283db2bb2e4ceda51dd29cb5025884"
      }
     },
     "metadata": {},
     "output_type": "display_data"
    },
    {
     "data": {
      "text/plain": [
       "  0%|          | 0/3 [00:00<?, ?it/s]"
      ],
      "application/vnd.jupyter.widget-view+json": {
       "version_major": 2,
       "version_minor": 0,
       "model_id": "784e6c0e47d24f8bbc967304fa24a602"
      }
     },
     "metadata": {},
     "output_type": "display_data"
    },
    {
     "name": "stdout",
     "output_type": "stream",
     "text": [
      "MODEL SAVED\n",
      "\u001B[1m\u001B[92m Epoch 132 Train DiceLoss 0.42073920741677284 Val DiceLoss 0.3858605722586314 Train dice_score 0.5792607963085175 Val dice_score 0.6141394178072611\n"
     ]
    },
    {
     "data": {
      "text/plain": [
       "  0%|          | 0/8 [00:00<?, ?it/s]"
      ],
      "application/vnd.jupyter.widget-view+json": {
       "version_major": 2,
       "version_minor": 0,
       "model_id": "90e7283b7e5a4d02840d9629e6d1f392"
      }
     },
     "metadata": {},
     "output_type": "display_data"
    },
    {
     "data": {
      "text/plain": [
       "  0%|          | 0/3 [00:00<?, ?it/s]"
      ],
      "application/vnd.jupyter.widget-view+json": {
       "version_major": 2,
       "version_minor": 0,
       "model_id": "7a5a3cb7ed914b488f9505faf0b5ed78"
      }
     },
     "metadata": {},
     "output_type": "display_data"
    },
    {
     "name": "stdout",
     "output_type": "stream",
     "text": [
      "\u001B[1m\u001B[92m Epoch 133 Train DiceLoss 0.40970900654792786 Val DiceLoss 0.3872671226660411 Train dice_score 0.5902910009026527 Val dice_score 0.6127328872680664\n"
     ]
    },
    {
     "data": {
      "text/plain": [
       "  0%|          | 0/8 [00:00<?, ?it/s]"
      ],
      "application/vnd.jupyter.widget-view+json": {
       "version_major": 2,
       "version_minor": 0,
       "model_id": "5a64973211764c919892120850e3ad75"
      }
     },
     "metadata": {},
     "output_type": "display_data"
    },
    {
     "data": {
      "text/plain": [
       "  0%|          | 0/3 [00:00<?, ?it/s]"
      ],
      "application/vnd.jupyter.widget-view+json": {
       "version_major": 2,
       "version_minor": 0,
       "model_id": "a55e4ea7ee1449c891e821edd8eded6b"
      }
     },
     "metadata": {},
     "output_type": "display_data"
    },
    {
     "name": "stdout",
     "output_type": "stream",
     "text": [
      "\u001B[1m\u001B[92m Epoch 134 Train DiceLoss 0.41067035496234894 Val DiceLoss 0.401431679725647 Train dice_score 0.5893296524882317 Val dice_score 0.598568320274353\n"
     ]
    },
    {
     "data": {
      "text/plain": [
       "  0%|          | 0/8 [00:00<?, ?it/s]"
      ],
      "application/vnd.jupyter.widget-view+json": {
       "version_major": 2,
       "version_minor": 0,
       "model_id": "5c390df22e07416fbef59fe15c1ce2a2"
      }
     },
     "metadata": {},
     "output_type": "display_data"
    },
    {
     "data": {
      "text/plain": [
       "  0%|          | 0/3 [00:00<?, ?it/s]"
      ],
      "application/vnd.jupyter.widget-view+json": {
       "version_major": 2,
       "version_minor": 0,
       "model_id": "6803fec478e84ab98169d1bbef8e3256"
      }
     },
     "metadata": {},
     "output_type": "display_data"
    },
    {
     "name": "stdout",
     "output_type": "stream",
     "text": [
      "\u001B[1m\u001B[92m Epoch 135 Train DiceLoss 0.41649483516812325 Val DiceLoss 0.3874325454235077 Train dice_score 0.583505168557167 Val dice_score 0.6125674247741699\n"
     ]
    },
    {
     "data": {
      "text/plain": [
       "  0%|          | 0/8 [00:00<?, ?it/s]"
      ],
      "application/vnd.jupyter.widget-view+json": {
       "version_major": 2,
       "version_minor": 0,
       "model_id": "fa26c36720344478b5b2921697f364f9"
      }
     },
     "metadata": {},
     "output_type": "display_data"
    },
    {
     "data": {
      "text/plain": [
       "  0%|          | 0/3 [00:00<?, ?it/s]"
      ],
      "application/vnd.jupyter.widget-view+json": {
       "version_major": 2,
       "version_minor": 0,
       "model_id": "6bf70ed2cb2a4ce2865edf5cd486c557"
      }
     },
     "metadata": {},
     "output_type": "display_data"
    },
    {
     "name": "stdout",
     "output_type": "stream",
     "text": [
      "\u001B[1m\u001B[92m Epoch 136 Train DiceLoss 0.41232142969965935 Val DiceLoss 0.3956434528032939 Train dice_score 0.587678574025631 Val dice_score 0.6043565471967062\n"
     ]
    },
    {
     "data": {
      "text/plain": [
       "  0%|          | 0/8 [00:00<?, ?it/s]"
      ],
      "application/vnd.jupyter.widget-view+json": {
       "version_major": 2,
       "version_minor": 0,
       "model_id": "0b3bc76b47c246a0b3a66f4e665ed436"
      }
     },
     "metadata": {},
     "output_type": "display_data"
    },
    {
     "data": {
      "text/plain": [
       "  0%|          | 0/3 [00:00<?, ?it/s]"
      ],
      "application/vnd.jupyter.widget-view+json": {
       "version_major": 2,
       "version_minor": 0,
       "model_id": "6867ec6f12c144eeb3dd0e5a0a11a182"
      }
     },
     "metadata": {},
     "output_type": "display_data"
    },
    {
     "name": "stdout",
     "output_type": "stream",
     "text": [
      "\u001B[1m\u001B[92m Epoch 137 Train DiceLoss 0.4167990945279598 Val DiceLoss 0.40306920806566876 Train dice_score 0.5832009240984917 Val dice_score 0.5969307820002238\n"
     ]
    },
    {
     "data": {
      "text/plain": [
       "  0%|          | 0/8 [00:00<?, ?it/s]"
      ],
      "application/vnd.jupyter.widget-view+json": {
       "version_major": 2,
       "version_minor": 0,
       "model_id": "70c6458c6cb74772a4a91b976e6cebed"
      }
     },
     "metadata": {},
     "output_type": "display_data"
    },
    {
     "data": {
      "text/plain": [
       "  0%|          | 0/3 [00:00<?, ?it/s]"
      ],
      "application/vnd.jupyter.widget-view+json": {
       "version_major": 2,
       "version_minor": 0,
       "model_id": "e0c1ee1d9c7c455d9c01b58e73f261d5"
      }
     },
     "metadata": {},
     "output_type": "display_data"
    },
    {
     "name": "stdout",
     "output_type": "stream",
     "text": [
      "\u001B[1m\u001B[92m Epoch 138 Train DiceLoss 0.41497860848903656 Val DiceLoss 0.4007808367411296 Train dice_score 0.585021398961544 Val dice_score 0.5992191433906555\n"
     ]
    },
    {
     "data": {
      "text/plain": [
       "  0%|          | 0/8 [00:00<?, ?it/s]"
      ],
      "application/vnd.jupyter.widget-view+json": {
       "version_major": 2,
       "version_minor": 0,
       "model_id": "b2b635afdd6342f0b0105fc5a6ba524f"
      }
     },
     "metadata": {},
     "output_type": "display_data"
    },
    {
     "data": {
      "text/plain": [
       "  0%|          | 0/3 [00:00<?, ?it/s]"
      ],
      "application/vnd.jupyter.widget-view+json": {
       "version_major": 2,
       "version_minor": 0,
       "model_id": "be41c92b36954adba10f1d40708b8b0e"
      }
     },
     "metadata": {},
     "output_type": "display_data"
    },
    {
     "name": "stdout",
     "output_type": "stream",
     "text": [
      "MODEL SAVED\n",
      "\u001B[1m\u001B[92m Epoch 139 Train DiceLoss 0.4112464487552643 Val DiceLoss 0.38465895255406696 Train dice_score 0.5887535661458969 Val dice_score 0.615341067314148\n"
     ]
    },
    {
     "data": {
      "text/plain": [
       "  0%|          | 0/8 [00:00<?, ?it/s]"
      ],
      "application/vnd.jupyter.widget-view+json": {
       "version_major": 2,
       "version_minor": 0,
       "model_id": "6295ba7a87d44d14b083c5b73b0f9cb3"
      }
     },
     "metadata": {},
     "output_type": "display_data"
    },
    {
     "data": {
      "text/plain": [
       "  0%|          | 0/3 [00:00<?, ?it/s]"
      ],
      "application/vnd.jupyter.widget-view+json": {
       "version_major": 2,
       "version_minor": 0,
       "model_id": "c39706fb454947e19dfc00b140115b26"
      }
     },
     "metadata": {},
     "output_type": "display_data"
    },
    {
     "name": "stdout",
     "output_type": "stream",
     "text": [
      "\u001B[1m\u001B[92m Epoch 140 Train DiceLoss 0.40603165701031685 Val DiceLoss 0.40614792704582214 Train dice_score 0.5939683392643929 Val dice_score 0.5938520630200704\n"
     ]
    },
    {
     "data": {
      "text/plain": [
       "  0%|          | 0/8 [00:00<?, ?it/s]"
      ],
      "application/vnd.jupyter.widget-view+json": {
       "version_major": 2,
       "version_minor": 0,
       "model_id": "43f166e8484d40d0a6fb8482af1f4a19"
      }
     },
     "metadata": {},
     "output_type": "display_data"
    },
    {
     "data": {
      "text/plain": [
       "  0%|          | 0/3 [00:00<?, ?it/s]"
      ],
      "application/vnd.jupyter.widget-view+json": {
       "version_major": 2,
       "version_minor": 0,
       "model_id": "d797166264e04d6680259ca55e94eba5"
      }
     },
     "metadata": {},
     "output_type": "display_data"
    },
    {
     "name": "stdout",
     "output_type": "stream",
     "text": [
      "MODEL SAVED\n",
      "\u001B[1m\u001B[92m Epoch 141 Train DiceLoss 0.41170332953333855 Val DiceLoss 0.3786422808965047 Train dice_score 0.5882966667413712 Val dice_score 0.6213576992352804\n"
     ]
    },
    {
     "data": {
      "text/plain": [
       "  0%|          | 0/8 [00:00<?, ?it/s]"
      ],
      "application/vnd.jupyter.widget-view+json": {
       "version_major": 2,
       "version_minor": 0,
       "model_id": "09939307295d47a894ca2e205cd86711"
      }
     },
     "metadata": {},
     "output_type": "display_data"
    },
    {
     "data": {
      "text/plain": [
       "  0%|          | 0/3 [00:00<?, ?it/s]"
      ],
      "application/vnd.jupyter.widget-view+json": {
       "version_major": 2,
       "version_minor": 0,
       "model_id": "0decf6ba4ce345dd87df3cf2e76e2aa4"
      }
     },
     "metadata": {},
     "output_type": "display_data"
    },
    {
     "name": "stdout",
     "output_type": "stream",
     "text": [
      "\u001B[1m\u001B[92m Epoch 142 Train DiceLoss 0.4057030826807022 Val DiceLoss 0.388640820980072 Train dice_score 0.5942969173192978 Val dice_score 0.6113591988881429\n"
     ]
    },
    {
     "data": {
      "text/plain": [
       "  0%|          | 0/8 [00:00<?, ?it/s]"
      ],
      "application/vnd.jupyter.widget-view+json": {
       "version_major": 2,
       "version_minor": 0,
       "model_id": "cebc8087da914672b19532e87e021ff9"
      }
     },
     "metadata": {},
     "output_type": "display_data"
    },
    {
     "data": {
      "text/plain": [
       "  0%|          | 0/3 [00:00<?, ?it/s]"
      ],
      "application/vnd.jupyter.widget-view+json": {
       "version_major": 2,
       "version_minor": 0,
       "model_id": "a44fe96a0cb94aad82ec89f7716242dd"
      }
     },
     "metadata": {},
     "output_type": "display_data"
    },
    {
     "name": "stdout",
     "output_type": "stream",
     "text": [
      "\u001B[1m\u001B[92m Epoch 143 Train DiceLoss 0.40685785934329033 Val DiceLoss 0.41566463311513263 Train dice_score 0.5931421294808388 Val dice_score 0.5843353668848673\n"
     ]
    },
    {
     "data": {
      "text/plain": [
       "  0%|          | 0/8 [00:00<?, ?it/s]"
      ],
      "application/vnd.jupyter.widget-view+json": {
       "version_major": 2,
       "version_minor": 0,
       "model_id": "8899faca5bc84886a87a3bd2e633bebf"
      }
     },
     "metadata": {},
     "output_type": "display_data"
    },
    {
     "data": {
      "text/plain": [
       "  0%|          | 0/3 [00:00<?, ?it/s]"
      ],
      "application/vnd.jupyter.widget-view+json": {
       "version_major": 2,
       "version_minor": 0,
       "model_id": "2aa6016aacb44798b33980a2a5070a70"
      }
     },
     "metadata": {},
     "output_type": "display_data"
    },
    {
     "name": "stdout",
     "output_type": "stream",
     "text": [
      "\u001B[1m\u001B[92m Epoch 144 Train DiceLoss 0.4088190197944641 Val DiceLoss 0.3809244732062022 Train dice_score 0.5911809727549553 Val dice_score 0.6190755367279053\n"
     ]
    },
    {
     "data": {
      "text/plain": [
       "  0%|          | 0/8 [00:00<?, ?it/s]"
      ],
      "application/vnd.jupyter.widget-view+json": {
       "version_major": 2,
       "version_minor": 0,
       "model_id": "a29c026e34724c5c92eaadcb53b893bf"
      }
     },
     "metadata": {},
     "output_type": "display_data"
    },
    {
     "data": {
      "text/plain": [
       "  0%|          | 0/3 [00:00<?, ?it/s]"
      ],
      "application/vnd.jupyter.widget-view+json": {
       "version_major": 2,
       "version_minor": 0,
       "model_id": "2ec2acedd88e4f9996bc208d997a6b60"
      }
     },
     "metadata": {},
     "output_type": "display_data"
    },
    {
     "name": "stdout",
     "output_type": "stream",
     "text": [
      "\u001B[1m\u001B[92m Epoch 145 Train DiceLoss 0.4120751917362213 Val DiceLoss 0.41725430885950726 Train dice_score 0.5879248157143593 Val dice_score 0.5827457110087076\n"
     ]
    },
    {
     "data": {
      "text/plain": [
       "  0%|          | 0/8 [00:00<?, ?it/s]"
      ],
      "application/vnd.jupyter.widget-view+json": {
       "version_major": 2,
       "version_minor": 0,
       "model_id": "bbcf4998583d4fe9a620ed1e3d3d2c00"
      }
     },
     "metadata": {},
     "output_type": "display_data"
    },
    {
     "data": {
      "text/plain": [
       "  0%|          | 0/3 [00:00<?, ?it/s]"
      ],
      "application/vnd.jupyter.widget-view+json": {
       "version_major": 2,
       "version_minor": 0,
       "model_id": "5c36bb473a5b4b83b6b38138a6e6f71c"
      }
     },
     "metadata": {},
     "output_type": "display_data"
    },
    {
     "name": "stdout",
     "output_type": "stream",
     "text": [
      "\u001B[1m\u001B[92m Epoch 146 Train DiceLoss 0.4122791178524494 Val DiceLoss 0.3812706073125203 Train dice_score 0.5877208784222603 Val dice_score 0.6187293728192648\n"
     ]
    },
    {
     "data": {
      "text/plain": [
       "  0%|          | 0/8 [00:00<?, ?it/s]"
      ],
      "application/vnd.jupyter.widget-view+json": {
       "version_major": 2,
       "version_minor": 0,
       "model_id": "a39e7205e5f641adbdc0bb46b246d940"
      }
     },
     "metadata": {},
     "output_type": "display_data"
    },
    {
     "data": {
      "text/plain": [
       "  0%|          | 0/3 [00:00<?, ?it/s]"
      ],
      "application/vnd.jupyter.widget-view+json": {
       "version_major": 2,
       "version_minor": 0,
       "model_id": "20b4b406dc9a4140b1cda18438059b26"
      }
     },
     "metadata": {},
     "output_type": "display_data"
    },
    {
     "name": "stdout",
     "output_type": "stream",
     "text": [
      "\u001B[1m\u001B[92m Epoch 147 Train DiceLoss 0.3986775428056717 Val DiceLoss 0.39276214440663654 Train dice_score 0.6013224571943283 Val dice_score 0.6072378555933634\n"
     ]
    },
    {
     "data": {
      "text/plain": [
       "  0%|          | 0/8 [00:00<?, ?it/s]"
      ],
      "application/vnd.jupyter.widget-view+json": {
       "version_major": 2,
       "version_minor": 0,
       "model_id": "e327881684fd49589a1d946e3ffc9382"
      }
     },
     "metadata": {},
     "output_type": "display_data"
    },
    {
     "data": {
      "text/plain": [
       "  0%|          | 0/3 [00:00<?, ?it/s]"
      ],
      "application/vnd.jupyter.widget-view+json": {
       "version_major": 2,
       "version_minor": 0,
       "model_id": "61c0e5038ba74846be347138a4519994"
      }
     },
     "metadata": {},
     "output_type": "display_data"
    },
    {
     "name": "stdout",
     "output_type": "stream",
     "text": [
      "\u001B[1m\u001B[92m Epoch 148 Train DiceLoss 0.4079527296125889 Val DiceLoss 0.406936635573705 Train dice_score 0.592047281563282 Val dice_score 0.5930633743604025\n"
     ]
    },
    {
     "data": {
      "text/plain": [
       "  0%|          | 0/8 [00:00<?, ?it/s]"
      ],
      "application/vnd.jupyter.widget-view+json": {
       "version_major": 2,
       "version_minor": 0,
       "model_id": "7a9abd208c3c4885a4dfa701cd63bda5"
      }
     },
     "metadata": {},
     "output_type": "display_data"
    },
    {
     "data": {
      "text/plain": [
       "  0%|          | 0/3 [00:00<?, ?it/s]"
      ],
      "application/vnd.jupyter.widget-view+json": {
       "version_major": 2,
       "version_minor": 0,
       "model_id": "7cd289f4ea1d4235ad116534e08c9764"
      }
     },
     "metadata": {},
     "output_type": "display_data"
    },
    {
     "name": "stdout",
     "output_type": "stream",
     "text": [
      "\u001B[1m\u001B[92m Epoch 149 Train DiceLoss 0.40540943294763565 Val DiceLoss 0.38516973455746967 Train dice_score 0.594590574502945 Val dice_score 0.6148302555084229\n"
     ]
    },
    {
     "data": {
      "text/plain": [
       "  0%|          | 0/8 [00:00<?, ?it/s]"
      ],
      "application/vnd.jupyter.widget-view+json": {
       "version_major": 2,
       "version_minor": 0,
       "model_id": "7afad7efd9eb478093f938f37aebc32f"
      }
     },
     "metadata": {},
     "output_type": "display_data"
    },
    {
     "data": {
      "text/plain": [
       "  0%|          | 0/3 [00:00<?, ?it/s]"
      ],
      "application/vnd.jupyter.widget-view+json": {
       "version_major": 2,
       "version_minor": 0,
       "model_id": "0e089c29658245d6a04e54cb64ddf54e"
      }
     },
     "metadata": {},
     "output_type": "display_data"
    },
    {
     "name": "stdout",
     "output_type": "stream",
     "text": [
      "\u001B[1m\u001B[92m Epoch 150 Train DiceLoss 0.3959081694483757 Val DiceLoss 0.3842650055885315 Train dice_score 0.6040918305516243 Val dice_score 0.6157350142796835\n"
     ]
    },
    {
     "data": {
      "text/plain": [
       "  0%|          | 0/8 [00:00<?, ?it/s]"
      ],
      "application/vnd.jupyter.widget-view+json": {
       "version_major": 2,
       "version_minor": 0,
       "model_id": "aee5dbf0907e4215a12d98e38f4d4ec5"
      }
     },
     "metadata": {},
     "output_type": "display_data"
    },
    {
     "data": {
      "text/plain": [
       "  0%|          | 0/3 [00:00<?, ?it/s]"
      ],
      "application/vnd.jupyter.widget-view+json": {
       "version_major": 2,
       "version_minor": 0,
       "model_id": "d5349c2fba8e4f8cb49131148712157f"
      }
     },
     "metadata": {},
     "output_type": "display_data"
    },
    {
     "name": "stdout",
     "output_type": "stream",
     "text": [
      "\u001B[1m\u001B[92m Epoch 151 Train DiceLoss 0.400385569781065 Val DiceLoss 0.38363218307495117 Train dice_score 0.5996144413948059 Val dice_score 0.6163678169250488\n"
     ]
    },
    {
     "data": {
      "text/plain": [
       "  0%|          | 0/8 [00:00<?, ?it/s]"
      ],
      "application/vnd.jupyter.widget-view+json": {
       "version_major": 2,
       "version_minor": 0,
       "model_id": "ba4c48de1b6e4621b1b46c96a15cd699"
      }
     },
     "metadata": {},
     "output_type": "display_data"
    },
    {
     "data": {
      "text/plain": [
       "  0%|          | 0/3 [00:00<?, ?it/s]"
      ],
      "application/vnd.jupyter.widget-view+json": {
       "version_major": 2,
       "version_minor": 0,
       "model_id": "6b1c6e7f938f4e5388f4e5292e7a79c8"
      }
     },
     "metadata": {},
     "output_type": "display_data"
    },
    {
     "name": "stdout",
     "output_type": "stream",
     "text": [
      "\u001B[1m\u001B[92m Epoch 152 Train DiceLoss 0.3935459330677986 Val DiceLoss 0.38728562990824383 Train dice_score 0.6064540818333626 Val dice_score 0.6127143899599711\n"
     ]
    },
    {
     "data": {
      "text/plain": [
       "  0%|          | 0/8 [00:00<?, ?it/s]"
      ],
      "application/vnd.jupyter.widget-view+json": {
       "version_major": 2,
       "version_minor": 0,
       "model_id": "3c913311096f4cb6a180ea4dbd9f3930"
      }
     },
     "metadata": {},
     "output_type": "display_data"
    },
    {
     "data": {
      "text/plain": [
       "  0%|          | 0/3 [00:00<?, ?it/s]"
      ],
      "application/vnd.jupyter.widget-view+json": {
       "version_major": 2,
       "version_minor": 0,
       "model_id": "e2045dd6650543d2bd70886a610253b7"
      }
     },
     "metadata": {},
     "output_type": "display_data"
    },
    {
     "name": "stdout",
     "output_type": "stream",
     "text": [
      "\u001B[1m\u001B[92m Epoch 153 Train DiceLoss 0.402396984398365 Val DiceLoss 0.40854304035504657 Train dice_score 0.5976030081510544 Val dice_score 0.5914569695790609\n"
     ]
    },
    {
     "data": {
      "text/plain": [
       "  0%|          | 0/8 [00:00<?, ?it/s]"
      ],
      "application/vnd.jupyter.widget-view+json": {
       "version_major": 2,
       "version_minor": 0,
       "model_id": "3d3f5a72eec649e8819210f85568f712"
      }
     },
     "metadata": {},
     "output_type": "display_data"
    },
    {
     "data": {
      "text/plain": [
       "  0%|          | 0/3 [00:00<?, ?it/s]"
      ],
      "application/vnd.jupyter.widget-view+json": {
       "version_major": 2,
       "version_minor": 0,
       "model_id": "6977ed0c3b454b06a3be5036baf1e901"
      }
     },
     "metadata": {},
     "output_type": "display_data"
    },
    {
     "name": "stdout",
     "output_type": "stream",
     "text": [
      "MODEL SAVED\n",
      "\u001B[1m\u001B[92m Epoch 154 Train DiceLoss 0.40420378744602203 Val DiceLoss 0.3710424204667409 Train dice_score 0.595796212553978 Val dice_score 0.6289575894673666\n"
     ]
    },
    {
     "data": {
      "text/plain": [
       "  0%|          | 0/8 [00:00<?, ?it/s]"
      ],
      "application/vnd.jupyter.widget-view+json": {
       "version_major": 2,
       "version_minor": 0,
       "model_id": "6848061c6f0644c9a85b909a274d63c8"
      }
     },
     "metadata": {},
     "output_type": "display_data"
    },
    {
     "data": {
      "text/plain": [
       "  0%|          | 0/3 [00:00<?, ?it/s]"
      ],
      "application/vnd.jupyter.widget-view+json": {
       "version_major": 2,
       "version_minor": 0,
       "model_id": "13d22de77cc4482993c5bfe878a3ba49"
      }
     },
     "metadata": {},
     "output_type": "display_data"
    },
    {
     "name": "stdout",
     "output_type": "stream",
     "text": [
      "\u001B[1m\u001B[92m Epoch 155 Train DiceLoss 0.4112415611743927 Val DiceLoss 0.3825334111849467 Train dice_score 0.5887584313750267 Val dice_score 0.6174666086832682\n"
     ]
    },
    {
     "data": {
      "text/plain": [
       "  0%|          | 0/8 [00:00<?, ?it/s]"
      ],
      "application/vnd.jupyter.widget-view+json": {
       "version_major": 2,
       "version_minor": 0,
       "model_id": "c8e4bed4de944b4d9a5e6bb903581d78"
      }
     },
     "metadata": {},
     "output_type": "display_data"
    },
    {
     "data": {
      "text/plain": [
       "  0%|          | 0/3 [00:00<?, ?it/s]"
      ],
      "application/vnd.jupyter.widget-view+json": {
       "version_major": 2,
       "version_minor": 0,
       "model_id": "7b2ec75d97bf4531905761ed7be10d35"
      }
     },
     "metadata": {},
     "output_type": "display_data"
    },
    {
     "name": "stdout",
     "output_type": "stream",
     "text": [
      "\u001B[1m\u001B[92m Epoch 156 Train DiceLoss 0.39653170481324196 Val DiceLoss 0.37508949637413025 Train dice_score 0.6034682914614677 Val dice_score 0.6249105135599772\n"
     ]
    },
    {
     "data": {
      "text/plain": [
       "  0%|          | 0/8 [00:00<?, ?it/s]"
      ],
      "application/vnd.jupyter.widget-view+json": {
       "version_major": 2,
       "version_minor": 0,
       "model_id": "b5dce75aa3514b4c9714b2cce72ef18d"
      }
     },
     "metadata": {},
     "output_type": "display_data"
    },
    {
     "data": {
      "text/plain": [
       "  0%|          | 0/3 [00:00<?, ?it/s]"
      ],
      "application/vnd.jupyter.widget-view+json": {
       "version_major": 2,
       "version_minor": 0,
       "model_id": "2574fdc6e7cb44249f961aa505ae26ab"
      }
     },
     "metadata": {},
     "output_type": "display_data"
    },
    {
     "name": "stdout",
     "output_type": "stream",
     "text": [
      "\u001B[1m\u001B[92m Epoch 157 Train DiceLoss 0.40512198954820633 Val DiceLoss 0.3909871478875478 Train dice_score 0.5948780030012131 Val dice_score 0.6090128620465597\n"
     ]
    },
    {
     "data": {
      "text/plain": [
       "  0%|          | 0/8 [00:00<?, ?it/s]"
      ],
      "application/vnd.jupyter.widget-view+json": {
       "version_major": 2,
       "version_minor": 0,
       "model_id": "baa910e6db85428cacd2e26406965295"
      }
     },
     "metadata": {},
     "output_type": "display_data"
    },
    {
     "data": {
      "text/plain": [
       "  0%|          | 0/3 [00:00<?, ?it/s]"
      ],
      "application/vnd.jupyter.widget-view+json": {
       "version_major": 2,
       "version_minor": 0,
       "model_id": "000ec44dced84d1789d424492fc60ee2"
      }
     },
     "metadata": {},
     "output_type": "display_data"
    },
    {
     "name": "stdout",
     "output_type": "stream",
     "text": [
      "\u001B[1m\u001B[92m Epoch 158 Train DiceLoss 0.39070500805974007 Val DiceLoss 0.39736191431681317 Train dice_score 0.6092950031161308 Val dice_score 0.6026380856831869\n"
     ]
    },
    {
     "data": {
      "text/plain": [
       "  0%|          | 0/8 [00:00<?, ?it/s]"
      ],
      "application/vnd.jupyter.widget-view+json": {
       "version_major": 2,
       "version_minor": 0,
       "model_id": "5065779367944b2497dad1957a4ce810"
      }
     },
     "metadata": {},
     "output_type": "display_data"
    },
    {
     "data": {
      "text/plain": [
       "  0%|          | 0/3 [00:00<?, ?it/s]"
      ],
      "application/vnd.jupyter.widget-view+json": {
       "version_major": 2,
       "version_minor": 0,
       "model_id": "7c5c3a2b31e5470ca73432d9f99d1ff6"
      }
     },
     "metadata": {},
     "output_type": "display_data"
    },
    {
     "name": "stdout",
     "output_type": "stream",
     "text": [
      "\u001B[1m\u001B[92m Epoch 159 Train DiceLoss 0.4017508402466774 Val DiceLoss 0.37120774388313293 Train dice_score 0.5982491672039032 Val dice_score 0.6287922461827596\n"
     ]
    },
    {
     "data": {
      "text/plain": [
       "  0%|          | 0/8 [00:00<?, ?it/s]"
      ],
      "application/vnd.jupyter.widget-view+json": {
       "version_major": 2,
       "version_minor": 0,
       "model_id": "7633e7dfea204d939a3e795cb6f4a98e"
      }
     },
     "metadata": {},
     "output_type": "display_data"
    },
    {
     "data": {
      "text/plain": [
       "  0%|          | 0/3 [00:00<?, ?it/s]"
      ],
      "application/vnd.jupyter.widget-view+json": {
       "version_major": 2,
       "version_minor": 0,
       "model_id": "0fad016a4e3b49b188bbc94b1a48153f"
      }
     },
     "metadata": {},
     "output_type": "display_data"
    },
    {
     "name": "stdout",
     "output_type": "stream",
     "text": [
      "\u001B[1m\u001B[92m Epoch 160 Train DiceLoss 0.4086080677807331 Val DiceLoss 0.392268439133962 Train dice_score 0.5913919433951378 Val dice_score 0.607731560866038\n"
     ]
    },
    {
     "data": {
      "text/plain": [
       "  0%|          | 0/8 [00:00<?, ?it/s]"
      ],
      "application/vnd.jupyter.widget-view+json": {
       "version_major": 2,
       "version_minor": 0,
       "model_id": "b398c5adad874e2997d36459e1f6495f"
      }
     },
     "metadata": {},
     "output_type": "display_data"
    },
    {
     "data": {
      "text/plain": [
       "  0%|          | 0/3 [00:00<?, ?it/s]"
      ],
      "application/vnd.jupyter.widget-view+json": {
       "version_major": 2,
       "version_minor": 0,
       "model_id": "9bd6f0fb416e46d8adef0e13b004a7e5"
      }
     },
     "metadata": {},
     "output_type": "display_data"
    },
    {
     "name": "stdout",
     "output_type": "stream",
     "text": [
      "\u001B[1m\u001B[92m Epoch 161 Train DiceLoss 0.393585704267025 Val DiceLoss 0.3810440003871918 Train dice_score 0.606414295732975 Val dice_score 0.6189560095469157\n"
     ]
    },
    {
     "data": {
      "text/plain": [
       "  0%|          | 0/8 [00:00<?, ?it/s]"
      ],
      "application/vnd.jupyter.widget-view+json": {
       "version_major": 2,
       "version_minor": 0,
       "model_id": "6fc0701f835c4048a3a9711a93e8c817"
      }
     },
     "metadata": {},
     "output_type": "display_data"
    },
    {
     "data": {
      "text/plain": [
       "  0%|          | 0/3 [00:00<?, ?it/s]"
      ],
      "application/vnd.jupyter.widget-view+json": {
       "version_major": 2,
       "version_minor": 0,
       "model_id": "4ff7ff65f7b04d4386312dd5a934e2e8"
      }
     },
     "metadata": {},
     "output_type": "display_data"
    },
    {
     "name": "stdout",
     "output_type": "stream",
     "text": [
      "\u001B[1m\u001B[92m Epoch 162 Train DiceLoss 0.392769418656826 Val DiceLoss 0.4036302864551544 Train dice_score 0.6072305887937546 Val dice_score 0.596369723478953\n"
     ]
    },
    {
     "data": {
      "text/plain": [
       "  0%|          | 0/8 [00:00<?, ?it/s]"
      ],
      "application/vnd.jupyter.widget-view+json": {
       "version_major": 2,
       "version_minor": 0,
       "model_id": "8a54d9cac2c343248a5f922532e37fef"
      }
     },
     "metadata": {},
     "output_type": "display_data"
    },
    {
     "data": {
      "text/plain": [
       "  0%|          | 0/3 [00:00<?, ?it/s]"
      ],
      "application/vnd.jupyter.widget-view+json": {
       "version_major": 2,
       "version_minor": 0,
       "model_id": "89f2e0ec43b4479f9934bbe3f9ff70d2"
      }
     },
     "metadata": {},
     "output_type": "display_data"
    },
    {
     "name": "stdout",
     "output_type": "stream",
     "text": [
      "\u001B[1m\u001B[92m Epoch 163 Train DiceLoss 0.3951921761035919 Val DiceLoss 0.37301475803057355 Train dice_score 0.6048078238964081 Val dice_score 0.626985232035319\n"
     ]
    },
    {
     "data": {
      "text/plain": [
       "  0%|          | 0/8 [00:00<?, ?it/s]"
      ],
      "application/vnd.jupyter.widget-view+json": {
       "version_major": 2,
       "version_minor": 0,
       "model_id": "9f88e157433f4c4fa69b6679f67e030c"
      }
     },
     "metadata": {},
     "output_type": "display_data"
    },
    {
     "data": {
      "text/plain": [
       "  0%|          | 0/3 [00:00<?, ?it/s]"
      ],
      "application/vnd.jupyter.widget-view+json": {
       "version_major": 2,
       "version_minor": 0,
       "model_id": "26d60b2f0ef3475aa8f85ddb6cc7d3bb"
      }
     },
     "metadata": {},
     "output_type": "display_data"
    },
    {
     "name": "stdout",
     "output_type": "stream",
     "text": [
      "\u001B[1m\u001B[92m Epoch 164 Train DiceLoss 0.3929658383131027 Val DiceLoss 0.3787622849146525 Train dice_score 0.6070341616868973 Val dice_score 0.6212376952171326\n"
     ]
    },
    {
     "data": {
      "text/plain": [
       "  0%|          | 0/8 [00:00<?, ?it/s]"
      ],
      "application/vnd.jupyter.widget-view+json": {
       "version_major": 2,
       "version_minor": 0,
       "model_id": "52de534c59694521a6c9ae2a73f1c52e"
      }
     },
     "metadata": {},
     "output_type": "display_data"
    },
    {
     "data": {
      "text/plain": [
       "  0%|          | 0/3 [00:00<?, ?it/s]"
      ],
      "application/vnd.jupyter.widget-view+json": {
       "version_major": 2,
       "version_minor": 0,
       "model_id": "ea8cd2e356ad4ec5bc4b0639eb60f725"
      }
     },
     "metadata": {},
     "output_type": "display_data"
    },
    {
     "name": "stdout",
     "output_type": "stream",
     "text": [
      "\u001B[1m\u001B[92m Epoch 165 Train DiceLoss 0.3857967369258404 Val DiceLoss 0.37762048840522766 Train dice_score 0.6142032593488693 Val dice_score 0.6223795016606649\n"
     ]
    },
    {
     "data": {
      "text/plain": [
       "  0%|          | 0/8 [00:00<?, ?it/s]"
      ],
      "application/vnd.jupyter.widget-view+json": {
       "version_major": 2,
       "version_minor": 0,
       "model_id": "a57b5658a02a43099a34f4301c331ccb"
      }
     },
     "metadata": {},
     "output_type": "display_data"
    },
    {
     "data": {
      "text/plain": [
       "  0%|          | 0/3 [00:00<?, ?it/s]"
      ],
      "application/vnd.jupyter.widget-view+json": {
       "version_major": 2,
       "version_minor": 0,
       "model_id": "79fbde8995d54c18a20681ba975b48dc"
      }
     },
     "metadata": {},
     "output_type": "display_data"
    },
    {
     "name": "stdout",
     "output_type": "stream",
     "text": [
      "\u001B[1m\u001B[92m Epoch 166 Train DiceLoss 0.396101001650095 Val DiceLoss 0.40383509794871014 Train dice_score 0.6038990095257759 Val dice_score 0.596164882183075\n"
     ]
    },
    {
     "data": {
      "text/plain": [
       "  0%|          | 0/8 [00:00<?, ?it/s]"
      ],
      "application/vnd.jupyter.widget-view+json": {
       "version_major": 2,
       "version_minor": 0,
       "model_id": "6912f58e71d0426e8df6144ed1953064"
      }
     },
     "metadata": {},
     "output_type": "display_data"
    },
    {
     "data": {
      "text/plain": [
       "  0%|          | 0/3 [00:00<?, ?it/s]"
      ],
      "application/vnd.jupyter.widget-view+json": {
       "version_major": 2,
       "version_minor": 0,
       "model_id": "8c69d7051cd0485e925145579661ca16"
      }
     },
     "metadata": {},
     "output_type": "display_data"
    },
    {
     "name": "stdout",
     "output_type": "stream",
     "text": [
      "\u001B[1m\u001B[92m Epoch 167 Train DiceLoss 0.39904503896832466 Val DiceLoss 0.38991135358810425 Train dice_score 0.6009549796581268 Val dice_score 0.6100886464118958\n"
     ]
    },
    {
     "data": {
      "text/plain": [
       "  0%|          | 0/8 [00:00<?, ?it/s]"
      ],
      "application/vnd.jupyter.widget-view+json": {
       "version_major": 2,
       "version_minor": 0,
       "model_id": "7a1d359691434ad7bb34a29a83190ee1"
      }
     },
     "metadata": {},
     "output_type": "display_data"
    },
    {
     "data": {
      "text/plain": [
       "  0%|          | 0/3 [00:00<?, ?it/s]"
      ],
      "application/vnd.jupyter.widget-view+json": {
       "version_major": 2,
       "version_minor": 0,
       "model_id": "72271cb5cc714f958d9fdb77a9532052"
      }
     },
     "metadata": {},
     "output_type": "display_data"
    },
    {
     "name": "stdout",
     "output_type": "stream",
     "text": [
      "MODEL SAVED\n",
      "\u001B[1m\u001B[92m Epoch 168 Train DiceLoss 0.39251402765512466 Val DiceLoss 0.36250818769137066 Train dice_score 0.6074859797954559 Val dice_score 0.6374918222427368\n"
     ]
    },
    {
     "data": {
      "text/plain": [
       "  0%|          | 0/8 [00:00<?, ?it/s]"
      ],
      "application/vnd.jupyter.widget-view+json": {
       "version_major": 2,
       "version_minor": 0,
       "model_id": "d979550be6b141d3b317acd038f318df"
      }
     },
     "metadata": {},
     "output_type": "display_data"
    },
    {
     "data": {
      "text/plain": [
       "  0%|          | 0/3 [00:00<?, ?it/s]"
      ],
      "application/vnd.jupyter.widget-view+json": {
       "version_major": 2,
       "version_minor": 0,
       "model_id": "d605c9f17a1d4f18897abea140dff2ab"
      }
     },
     "metadata": {},
     "output_type": "display_data"
    },
    {
     "name": "stdout",
     "output_type": "stream",
     "text": [
      "\u001B[1m\u001B[92m Epoch 169 Train DiceLoss 0.3941756971180439 Val DiceLoss 0.37662385900815326 Train dice_score 0.605824314057827 Val dice_score 0.6233761707941691\n"
     ]
    },
    {
     "data": {
      "text/plain": [
       "  0%|          | 0/8 [00:00<?, ?it/s]"
      ],
      "application/vnd.jupyter.widget-view+json": {
       "version_major": 2,
       "version_minor": 0,
       "model_id": "817c08a280be4243832e63f1db9d7e19"
      }
     },
     "metadata": {},
     "output_type": "display_data"
    },
    {
     "data": {
      "text/plain": [
       "  0%|          | 0/3 [00:00<?, ?it/s]"
      ],
      "application/vnd.jupyter.widget-view+json": {
       "version_major": 2,
       "version_minor": 0,
       "model_id": "b9a4b10d59244453963a2448eab2490a"
      }
     },
     "metadata": {},
     "output_type": "display_data"
    },
    {
     "name": "stdout",
     "output_type": "stream",
     "text": [
      "\u001B[1m\u001B[92m Epoch 170 Train DiceLoss 0.38848520442843437 Val DiceLoss 0.40420396129290265 Train dice_score 0.6115147992968559 Val dice_score 0.5957960486412048\n"
     ]
    },
    {
     "data": {
      "text/plain": [
       "  0%|          | 0/8 [00:00<?, ?it/s]"
      ],
      "application/vnd.jupyter.widget-view+json": {
       "version_major": 2,
       "version_minor": 0,
       "model_id": "a218df1996c04ab58bdbb4a45281aa04"
      }
     },
     "metadata": {},
     "output_type": "display_data"
    },
    {
     "data": {
      "text/plain": [
       "  0%|          | 0/3 [00:00<?, ?it/s]"
      ],
      "application/vnd.jupyter.widget-view+json": {
       "version_major": 2,
       "version_minor": 0,
       "model_id": "a24944ca121546b3a0c0d0b8487a5184"
      }
     },
     "metadata": {},
     "output_type": "display_data"
    },
    {
     "name": "stdout",
     "output_type": "stream",
     "text": [
      "\u001B[1m\u001B[92m Epoch 171 Train DiceLoss 0.3971557095646858 Val DiceLoss 0.36853331327438354 Train dice_score 0.6028442904353142 Val dice_score 0.6314666867256165\n"
     ]
    },
    {
     "data": {
      "text/plain": [
       "  0%|          | 0/8 [00:00<?, ?it/s]"
      ],
      "application/vnd.jupyter.widget-view+json": {
       "version_major": 2,
       "version_minor": 0,
       "model_id": "430cb75d92da4f1b96cfb43305c4cea4"
      }
     },
     "metadata": {},
     "output_type": "display_data"
    },
    {
     "data": {
      "text/plain": [
       "  0%|          | 0/3 [00:00<?, ?it/s]"
      ],
      "application/vnd.jupyter.widget-view+json": {
       "version_major": 2,
       "version_minor": 0,
       "model_id": "412ac0089891497b9e235ac20e1de716"
      }
     },
     "metadata": {},
     "output_type": "display_data"
    },
    {
     "name": "stdout",
     "output_type": "stream",
     "text": [
      "\u001B[1m\u001B[92m Epoch 172 Train DiceLoss 0.3892466872930527 Val DiceLoss 0.36365439494450885 Train dice_score 0.6107533201575279 Val dice_score 0.6363456050554911\n"
     ]
    },
    {
     "data": {
      "text/plain": [
       "  0%|          | 0/8 [00:00<?, ?it/s]"
      ],
      "application/vnd.jupyter.widget-view+json": {
       "version_major": 2,
       "version_minor": 0,
       "model_id": "6f86125ea347423ea69731d3a49fcc2f"
      }
     },
     "metadata": {},
     "output_type": "display_data"
    },
    {
     "data": {
      "text/plain": [
       "  0%|          | 0/3 [00:00<?, ?it/s]"
      ],
      "application/vnd.jupyter.widget-view+json": {
       "version_major": 2,
       "version_minor": 0,
       "model_id": "fc73599f04424cc48e45d0ebc1d445ec"
      }
     },
     "metadata": {},
     "output_type": "display_data"
    },
    {
     "name": "stdout",
     "output_type": "stream",
     "text": [
      "\u001B[1m\u001B[92m Epoch 173 Train DiceLoss 0.38173065334558487 Val DiceLoss 0.37043758233388263 Train dice_score 0.6182693541049957 Val dice_score 0.6295624176661173\n"
     ]
    },
    {
     "data": {
      "text/plain": [
       "  0%|          | 0/8 [00:00<?, ?it/s]"
      ],
      "application/vnd.jupyter.widget-view+json": {
       "version_major": 2,
       "version_minor": 0,
       "model_id": "658c91434e184c2fa01cd0112b503a53"
      }
     },
     "metadata": {},
     "output_type": "display_data"
    },
    {
     "data": {
      "text/plain": [
       "  0%|          | 0/3 [00:00<?, ?it/s]"
      ],
      "application/vnd.jupyter.widget-view+json": {
       "version_major": 2,
       "version_minor": 0,
       "model_id": "890e9367500d461cb538643de93e5b48"
      }
     },
     "metadata": {},
     "output_type": "display_data"
    },
    {
     "name": "stdout",
     "output_type": "stream",
     "text": [
      "\u001B[1m\u001B[92m Epoch 174 Train DiceLoss 0.3865877762436867 Val DiceLoss 0.3777134617169698 Train dice_score 0.6134122312068939 Val dice_score 0.6222865581512451\n"
     ]
    },
    {
     "data": {
      "text/plain": [
       "  0%|          | 0/8 [00:00<?, ?it/s]"
      ],
      "application/vnd.jupyter.widget-view+json": {
       "version_major": 2,
       "version_minor": 0,
       "model_id": "9403ca14a5674f2abbd19e6be4242fa7"
      }
     },
     "metadata": {},
     "output_type": "display_data"
    },
    {
     "data": {
      "text/plain": [
       "  0%|          | 0/3 [00:00<?, ?it/s]"
      ],
      "application/vnd.jupyter.widget-view+json": {
       "version_major": 2,
       "version_minor": 0,
       "model_id": "1e617a856c7c40ccb1d9459655dd85ef"
      }
     },
     "metadata": {},
     "output_type": "display_data"
    },
    {
     "name": "stdout",
     "output_type": "stream",
     "text": [
      "\u001B[1m\u001B[92m Epoch 175 Train DiceLoss 0.38761483132839203 Val DiceLoss 0.3890548845132192 Train dice_score 0.6123851761221886 Val dice_score 0.6109451055526733\n"
     ]
    },
    {
     "data": {
      "text/plain": [
       "  0%|          | 0/8 [00:00<?, ?it/s]"
      ],
      "application/vnd.jupyter.widget-view+json": {
       "version_major": 2,
       "version_minor": 0,
       "model_id": "681ade4c0edd4bcdbafd4e365e636eee"
      }
     },
     "metadata": {},
     "output_type": "display_data"
    },
    {
     "data": {
      "text/plain": [
       "  0%|          | 0/3 [00:00<?, ?it/s]"
      ],
      "application/vnd.jupyter.widget-view+json": {
       "version_major": 2,
       "version_minor": 0,
       "model_id": "214718c3c0a845109857f57f828cec4e"
      }
     },
     "metadata": {},
     "output_type": "display_data"
    },
    {
     "name": "stdout",
     "output_type": "stream",
     "text": [
      "\u001B[1m\u001B[92m Epoch 176 Train DiceLoss 0.3845486268401146 Val DiceLoss 0.37152668833732605 Train dice_score 0.615451380610466 Val dice_score 0.6284733215967814\n"
     ]
    },
    {
     "data": {
      "text/plain": [
       "  0%|          | 0/8 [00:00<?, ?it/s]"
      ],
      "application/vnd.jupyter.widget-view+json": {
       "version_major": 2,
       "version_minor": 0,
       "model_id": "dfe2a1715bb64185be43ee2aac8d4789"
      }
     },
     "metadata": {},
     "output_type": "display_data"
    },
    {
     "data": {
      "text/plain": [
       "  0%|          | 0/3 [00:00<?, ?it/s]"
      ],
      "application/vnd.jupyter.widget-view+json": {
       "version_major": 2,
       "version_minor": 0,
       "model_id": "5e7e091356064223b4d30150471079b4"
      }
     },
     "metadata": {},
     "output_type": "display_data"
    },
    {
     "name": "stdout",
     "output_type": "stream",
     "text": [
      "\u001B[1m\u001B[92m Epoch 177 Train DiceLoss 0.38103193417191505 Val DiceLoss 0.3751207689444224 Train dice_score 0.618968054652214 Val dice_score 0.6248792211214701\n"
     ]
    },
    {
     "data": {
      "text/plain": [
       "  0%|          | 0/8 [00:00<?, ?it/s]"
      ],
      "application/vnd.jupyter.widget-view+json": {
       "version_major": 2,
       "version_minor": 0,
       "model_id": "5e65c270d3804fc2a138a21025fb9cc3"
      }
     },
     "metadata": {},
     "output_type": "display_data"
    },
    {
     "data": {
      "text/plain": [
       "  0%|          | 0/3 [00:00<?, ?it/s]"
      ],
      "application/vnd.jupyter.widget-view+json": {
       "version_major": 2,
       "version_minor": 0,
       "model_id": "5636f3c35754441fb074adabbc12adc1"
      }
     },
     "metadata": {},
     "output_type": "display_data"
    },
    {
     "name": "stdout",
     "output_type": "stream",
     "text": [
      "\u001B[1m\u001B[92m Epoch 178 Train DiceLoss 0.40113626420497894 Val DiceLoss 0.37084046999613446 Train dice_score 0.5988637432456017 Val dice_score 0.6291595498720804\n"
     ]
    },
    {
     "data": {
      "text/plain": [
       "  0%|          | 0/8 [00:00<?, ?it/s]"
      ],
      "application/vnd.jupyter.widget-view+json": {
       "version_major": 2,
       "version_minor": 0,
       "model_id": "031958ba7b9a427d8ad32c15a550f698"
      }
     },
     "metadata": {},
     "output_type": "display_data"
    },
    {
     "data": {
      "text/plain": [
       "  0%|          | 0/3 [00:00<?, ?it/s]"
      ],
      "application/vnd.jupyter.widget-view+json": {
       "version_major": 2,
       "version_minor": 0,
       "model_id": "e87a7c773c594ee1b52104ab7dbf133f"
      }
     },
     "metadata": {},
     "output_type": "display_data"
    },
    {
     "name": "stdout",
     "output_type": "stream",
     "text": [
      "\u001B[1m\u001B[92m Epoch 179 Train DiceLoss 0.3806222006678581 Val DiceLoss 0.3675963580608368 Train dice_score 0.6193777993321419 Val dice_score 0.6324036320050558\n"
     ]
    },
    {
     "data": {
      "text/plain": [
       "  0%|          | 0/8 [00:00<?, ?it/s]"
      ],
      "application/vnd.jupyter.widget-view+json": {
       "version_major": 2,
       "version_minor": 0,
       "model_id": "66fbcd95231748f3a0c16bb73be1b4e2"
      }
     },
     "metadata": {},
     "output_type": "display_data"
    },
    {
     "data": {
      "text/plain": [
       "  0%|          | 0/3 [00:00<?, ?it/s]"
      ],
      "application/vnd.jupyter.widget-view+json": {
       "version_major": 2,
       "version_minor": 0,
       "model_id": "4230aa77db38462eb52090d597b34b3a"
      }
     },
     "metadata": {},
     "output_type": "display_data"
    },
    {
     "name": "stdout",
     "output_type": "stream",
     "text": [
      "MODEL SAVED\n",
      "\u001B[1m\u001B[92m Epoch 180 Train DiceLoss 0.37688078358769417 Val DiceLoss 0.34720203280448914 Train dice_score 0.6231192275881767 Val dice_score 0.6527979572614034\n"
     ]
    },
    {
     "data": {
      "text/plain": [
       "  0%|          | 0/8 [00:00<?, ?it/s]"
      ],
      "application/vnd.jupyter.widget-view+json": {
       "version_major": 2,
       "version_minor": 0,
       "model_id": "ad9fd3bcd33948bc94006e799f020c72"
      }
     },
     "metadata": {},
     "output_type": "display_data"
    },
    {
     "data": {
      "text/plain": [
       "  0%|          | 0/3 [00:00<?, ?it/s]"
      ],
      "application/vnd.jupyter.widget-view+json": {
       "version_major": 2,
       "version_minor": 0,
       "model_id": "9dbc2a55c8144a3fb846d2bb2d3b5f0a"
      }
     },
     "metadata": {},
     "output_type": "display_data"
    },
    {
     "name": "stdout",
     "output_type": "stream",
     "text": [
      "MODEL SAVED\n",
      "\u001B[1m\u001B[92m Epoch 181 Train DiceLoss 0.3692522831261158 Val DiceLoss 0.3454022904237111 Train dice_score 0.6307477056980133 Val dice_score 0.6545976797739664\n"
     ]
    },
    {
     "data": {
      "text/plain": [
       "  0%|          | 0/8 [00:00<?, ?it/s]"
      ],
      "application/vnd.jupyter.widget-view+json": {
       "version_major": 2,
       "version_minor": 0,
       "model_id": "ffcf98ec8a42483ba6800e22d546f0bf"
      }
     },
     "metadata": {},
     "output_type": "display_data"
    },
    {
     "data": {
      "text/plain": [
       "  0%|          | 0/3 [00:00<?, ?it/s]"
      ],
      "application/vnd.jupyter.widget-view+json": {
       "version_major": 2,
       "version_minor": 0,
       "model_id": "1bacdb144443411db8449cc298a27bef"
      }
     },
     "metadata": {},
     "output_type": "display_data"
    },
    {
     "name": "stdout",
     "output_type": "stream",
     "text": [
      "MODEL SAVED\n",
      "\u001B[1m\u001B[92m Epoch 182 Train DiceLoss 0.36060284823179245 Val DiceLoss 0.32946187257766724 Train dice_score 0.6393971517682076 Val dice_score 0.6705381472905477\n"
     ]
    },
    {
     "data": {
      "text/plain": [
       "  0%|          | 0/8 [00:00<?, ?it/s]"
      ],
      "application/vnd.jupyter.widget-view+json": {
       "version_major": 2,
       "version_minor": 0,
       "model_id": "adc50f5f5f46466d842a57ca9ff0ee19"
      }
     },
     "metadata": {},
     "output_type": "display_data"
    },
    {
     "data": {
      "text/plain": [
       "  0%|          | 0/3 [00:00<?, ?it/s]"
      ],
      "application/vnd.jupyter.widget-view+json": {
       "version_major": 2,
       "version_minor": 0,
       "model_id": "51f12aee0e3b4845b24b90634b018013"
      }
     },
     "metadata": {},
     "output_type": "display_data"
    },
    {
     "name": "stdout",
     "output_type": "stream",
     "text": [
      "MODEL SAVED\n",
      "\u001B[1m\u001B[92m Epoch 183 Train DiceLoss 0.33981041610240936 Val DiceLoss 0.30093971888224286 Train dice_score 0.6601895913481712 Val dice_score 0.6990602811177572\n"
     ]
    },
    {
     "data": {
      "text/plain": [
       "  0%|          | 0/8 [00:00<?, ?it/s]"
      ],
      "application/vnd.jupyter.widget-view+json": {
       "version_major": 2,
       "version_minor": 0,
       "model_id": "de045dc8f1c44c3e8810949a485ff8f3"
      }
     },
     "metadata": {},
     "output_type": "display_data"
    },
    {
     "data": {
      "text/plain": [
       "  0%|          | 0/3 [00:00<?, ?it/s]"
      ],
      "application/vnd.jupyter.widget-view+json": {
       "version_major": 2,
       "version_minor": 0,
       "model_id": "423e771801d34173beffb5b23c5939e6"
      }
     },
     "metadata": {},
     "output_type": "display_data"
    },
    {
     "name": "stdout",
     "output_type": "stream",
     "text": [
      "\u001B[1m\u001B[92m Epoch 184 Train DiceLoss 0.32131247594952583 Val DiceLoss 0.30232980847358704 Train dice_score 0.6786875203251839 Val dice_score 0.6976701815923055\n"
     ]
    },
    {
     "data": {
      "text/plain": [
       "  0%|          | 0/8 [00:00<?, ?it/s]"
      ],
      "application/vnd.jupyter.widget-view+json": {
       "version_major": 2,
       "version_minor": 0,
       "model_id": "537b41cb580540e1af5bbd0f814ecf92"
      }
     },
     "metadata": {},
     "output_type": "display_data"
    },
    {
     "data": {
      "text/plain": [
       "  0%|          | 0/3 [00:00<?, ?it/s]"
      ],
      "application/vnd.jupyter.widget-view+json": {
       "version_major": 2,
       "version_minor": 0,
       "model_id": "6ed52cb7b78e4ec693ca442dd8475bed"
      }
     },
     "metadata": {},
     "output_type": "display_data"
    },
    {
     "name": "stdout",
     "output_type": "stream",
     "text": [
      "\u001B[1m\u001B[92m Epoch 185 Train DiceLoss 0.3244614005088806 Val DiceLoss 0.333479384581248 Train dice_score 0.6755385994911194 Val dice_score 0.6665205955505371\n"
     ]
    },
    {
     "data": {
      "text/plain": [
       "  0%|          | 0/8 [00:00<?, ?it/s]"
      ],
      "application/vnd.jupyter.widget-view+json": {
       "version_major": 2,
       "version_minor": 0,
       "model_id": "6d02d858290246b78b5be48833b256ed"
      }
     },
     "metadata": {},
     "output_type": "display_data"
    },
    {
     "data": {
      "text/plain": [
       "  0%|          | 0/3 [00:00<?, ?it/s]"
      ],
      "application/vnd.jupyter.widget-view+json": {
       "version_major": 2,
       "version_minor": 0,
       "model_id": "d8d92ab59d344170988d0e98f6fd857d"
      }
     },
     "metadata": {},
     "output_type": "display_data"
    },
    {
     "name": "stdout",
     "output_type": "stream",
     "text": [
      "MODEL SAVED\n",
      "\u001B[1m\u001B[92m Epoch 186 Train DiceLoss 0.31292352080345154 Val DiceLoss 0.2780700922012329 Train dice_score 0.6870764866471291 Val dice_score 0.7219299077987671\n"
     ]
    },
    {
     "data": {
      "text/plain": [
       "  0%|          | 0/8 [00:00<?, ?it/s]"
      ],
      "application/vnd.jupyter.widget-view+json": {
       "version_major": 2,
       "version_minor": 0,
       "model_id": "5b923b20be0e4e128daaa653b76f4db1"
      }
     },
     "metadata": {},
     "output_type": "display_data"
    },
    {
     "data": {
      "text/plain": [
       "  0%|          | 0/3 [00:00<?, ?it/s]"
      ],
      "application/vnd.jupyter.widget-view+json": {
       "version_major": 2,
       "version_minor": 0,
       "model_id": "bfd721e71f624938beb4ac7407273483"
      }
     },
     "metadata": {},
     "output_type": "display_data"
    },
    {
     "name": "stdout",
     "output_type": "stream",
     "text": [
      "MODEL SAVED\n",
      "\u001B[1m\u001B[92m Epoch 187 Train DiceLoss 0.3060144782066345 Val DiceLoss 0.27664509415626526 Train dice_score 0.6939855217933655 Val dice_score 0.7233549157778422\n"
     ]
    },
    {
     "data": {
      "text/plain": [
       "  0%|          | 0/8 [00:00<?, ?it/s]"
      ],
      "application/vnd.jupyter.widget-view+json": {
       "version_major": 2,
       "version_minor": 0,
       "model_id": "c9d8f4e73fdb4a1c93b62413b2a6a900"
      }
     },
     "metadata": {},
     "output_type": "display_data"
    },
    {
     "data": {
      "text/plain": [
       "  0%|          | 0/3 [00:00<?, ?it/s]"
      ],
      "application/vnd.jupyter.widget-view+json": {
       "version_major": 2,
       "version_minor": 0,
       "model_id": "f8fff4ae27a346eda991a7825eaaf27f"
      }
     },
     "metadata": {},
     "output_type": "display_data"
    },
    {
     "name": "stdout",
     "output_type": "stream",
     "text": [
      "\u001B[1m\u001B[92m Epoch 188 Train DiceLoss 0.3066934533417225 Val DiceLoss 0.2796277105808258 Train dice_score 0.6933065429329872 Val dice_score 0.7203722794850668\n"
     ]
    },
    {
     "data": {
      "text/plain": [
       "  0%|          | 0/8 [00:00<?, ?it/s]"
      ],
      "application/vnd.jupyter.widget-view+json": {
       "version_major": 2,
       "version_minor": 0,
       "model_id": "b7d24bd8663748ff9c6cc31ff66b84be"
      }
     },
     "metadata": {},
     "output_type": "display_data"
    },
    {
     "data": {
      "text/plain": [
       "  0%|          | 0/3 [00:00<?, ?it/s]"
      ],
      "application/vnd.jupyter.widget-view+json": {
       "version_major": 2,
       "version_minor": 0,
       "model_id": "6678f37889ef4d2ab977863752a45ed0"
      }
     },
     "metadata": {},
     "output_type": "display_data"
    },
    {
     "name": "stdout",
     "output_type": "stream",
     "text": [
      "MODEL SAVED\n",
      "\u001B[1m\u001B[92m Epoch 189 Train DiceLoss 0.2999196834862232 Val DiceLoss 0.2649926443894704 Train dice_score 0.7000803202390671 Val dice_score 0.7350073655446371\n"
     ]
    },
    {
     "data": {
      "text/plain": [
       "  0%|          | 0/8 [00:00<?, ?it/s]"
      ],
      "application/vnd.jupyter.widget-view+json": {
       "version_major": 2,
       "version_minor": 0,
       "model_id": "d718f50ec2ab47aeac0bf1d7fce17bec"
      }
     },
     "metadata": {},
     "output_type": "display_data"
    },
    {
     "data": {
      "text/plain": [
       "  0%|          | 0/3 [00:00<?, ?it/s]"
      ],
      "application/vnd.jupyter.widget-view+json": {
       "version_major": 2,
       "version_minor": 0,
       "model_id": "f2217a7b385c4f91b8a6ab591e2970da"
      }
     },
     "metadata": {},
     "output_type": "display_data"
    },
    {
     "name": "stdout",
     "output_type": "stream",
     "text": [
      "\u001B[1m\u001B[92m Epoch 190 Train DiceLoss 0.29046061262488365 Val DiceLoss 0.2890225946903229 Train dice_score 0.7095393985509872 Val dice_score 0.7109773953755697\n"
     ]
    },
    {
     "data": {
      "text/plain": [
       "  0%|          | 0/8 [00:00<?, ?it/s]"
      ],
      "application/vnd.jupyter.widget-view+json": {
       "version_major": 2,
       "version_minor": 0,
       "model_id": "497eb2f6b4e746de9a857a5e0f73f780"
      }
     },
     "metadata": {},
     "output_type": "display_data"
    },
    {
     "data": {
      "text/plain": [
       "  0%|          | 0/3 [00:00<?, ?it/s]"
      ],
      "application/vnd.jupyter.widget-view+json": {
       "version_major": 2,
       "version_minor": 0,
       "model_id": "47c2f12de6f840d783c407b4aa1ab8f3"
      }
     },
     "metadata": {},
     "output_type": "display_data"
    },
    {
     "name": "stdout",
     "output_type": "stream",
     "text": [
      "MODEL SAVED\n",
      "\u001B[1m\u001B[92m Epoch 191 Train DiceLoss 0.28399406000971794 Val DiceLoss 0.2624116738637288 Train dice_score 0.7160059437155724 Val dice_score 0.7375883460044861\n"
     ]
    },
    {
     "data": {
      "text/plain": [
       "  0%|          | 0/8 [00:00<?, ?it/s]"
      ],
      "application/vnd.jupyter.widget-view+json": {
       "version_major": 2,
       "version_minor": 0,
       "model_id": "a55369b3e8674f728646c19b0618b7c9"
      }
     },
     "metadata": {},
     "output_type": "display_data"
    },
    {
     "data": {
      "text/plain": [
       "  0%|          | 0/3 [00:00<?, ?it/s]"
      ],
      "application/vnd.jupyter.widget-view+json": {
       "version_major": 2,
       "version_minor": 0,
       "model_id": "a0df1758e6ab4a0091836bf7b372d2a0"
      }
     },
     "metadata": {},
     "output_type": "display_data"
    },
    {
     "name": "stdout",
     "output_type": "stream",
     "text": [
      "\u001B[1m\u001B[92m Epoch 192 Train DiceLoss 0.2936606891453266 Val DiceLoss 0.26524803042411804 Train dice_score 0.7063393071293831 Val dice_score 0.7347519795099894\n"
     ]
    },
    {
     "data": {
      "text/plain": [
       "  0%|          | 0/8 [00:00<?, ?it/s]"
      ],
      "application/vnd.jupyter.widget-view+json": {
       "version_major": 2,
       "version_minor": 0,
       "model_id": "db1d39049ef04a46aaf4e94a18d13029"
      }
     },
     "metadata": {},
     "output_type": "display_data"
    },
    {
     "data": {
      "text/plain": [
       "  0%|          | 0/3 [00:00<?, ?it/s]"
      ],
      "application/vnd.jupyter.widget-view+json": {
       "version_major": 2,
       "version_minor": 0,
       "model_id": "fca07eae2c9148edad41f819cc1f10cf"
      }
     },
     "metadata": {},
     "output_type": "display_data"
    },
    {
     "name": "stdout",
     "output_type": "stream",
     "text": [
      "MODEL SAVED\n",
      "\u001B[1m\u001B[92m Epoch 193 Train DiceLoss 0.2829330936074257 Val DiceLoss 0.24753932654857635 Train dice_score 0.7170668989419937 Val dice_score 0.7524606784184774\n"
     ]
    },
    {
     "data": {
      "text/plain": [
       "  0%|          | 0/8 [00:00<?, ?it/s]"
      ],
      "application/vnd.jupyter.widget-view+json": {
       "version_major": 2,
       "version_minor": 0,
       "model_id": "cbf30d2c0e414bbf8b8615ab8d595cda"
      }
     },
     "metadata": {},
     "output_type": "display_data"
    },
    {
     "data": {
      "text/plain": [
       "  0%|          | 0/3 [00:00<?, ?it/s]"
      ],
      "application/vnd.jupyter.widget-view+json": {
       "version_major": 2,
       "version_minor": 0,
       "model_id": "ad90732725c240ef98c01d7b18d7c257"
      }
     },
     "metadata": {},
     "output_type": "display_data"
    },
    {
     "name": "stdout",
     "output_type": "stream",
     "text": [
      "\u001B[1m\u001B[92m Epoch 194 Train DiceLoss 0.27477941662073135 Val DiceLoss 0.2507037917772929 Train dice_score 0.7252205908298492 Val dice_score 0.7492961883544922\n"
     ]
    },
    {
     "data": {
      "text/plain": [
       "  0%|          | 0/8 [00:00<?, ?it/s]"
      ],
      "application/vnd.jupyter.widget-view+json": {
       "version_major": 2,
       "version_minor": 0,
       "model_id": "06dc2428894c4da7856f3e0cc10af9f8"
      }
     },
     "metadata": {},
     "output_type": "display_data"
    },
    {
     "data": {
      "text/plain": [
       "  0%|          | 0/3 [00:00<?, ?it/s]"
      ],
      "application/vnd.jupyter.widget-view+json": {
       "version_major": 2,
       "version_minor": 0,
       "model_id": "414af0f9e28b4a5b979e5e1b477621d1"
      }
     },
     "metadata": {},
     "output_type": "display_data"
    },
    {
     "name": "stdout",
     "output_type": "stream",
     "text": [
      "\u001B[1m\u001B[92m Epoch 195 Train DiceLoss 0.29012227430939674 Val DiceLoss 0.253339226047198 Train dice_score 0.709877721965313 Val dice_score 0.7466607888539633\n"
     ]
    },
    {
     "data": {
      "text/plain": [
       "  0%|          | 0/8 [00:00<?, ?it/s]"
      ],
      "application/vnd.jupyter.widget-view+json": {
       "version_major": 2,
       "version_minor": 0,
       "model_id": "91fb892d6b674d4b97321bbc48ed7a18"
      }
     },
     "metadata": {},
     "output_type": "display_data"
    },
    {
     "data": {
      "text/plain": [
       "  0%|          | 0/3 [00:00<?, ?it/s]"
      ],
      "application/vnd.jupyter.widget-view+json": {
       "version_major": 2,
       "version_minor": 0,
       "model_id": "4187f6327c3f4aab86b130647f3dff37"
      }
     },
     "metadata": {},
     "output_type": "display_data"
    },
    {
     "name": "stdout",
     "output_type": "stream",
     "text": [
      "\u001B[1m\u001B[92m Epoch 196 Train DiceLoss 0.2808513008058071 Val DiceLoss 0.2697869539260864 Train dice_score 0.7191486954689026 Val dice_score 0.7302130262056986\n"
     ]
    },
    {
     "data": {
      "text/plain": [
       "  0%|          | 0/8 [00:00<?, ?it/s]"
      ],
      "application/vnd.jupyter.widget-view+json": {
       "version_major": 2,
       "version_minor": 0,
       "model_id": "46ccd3c093644d31abaaccef8c3ddab4"
      }
     },
     "metadata": {},
     "output_type": "display_data"
    },
    {
     "data": {
      "text/plain": [
       "  0%|          | 0/3 [00:00<?, ?it/s]"
      ],
      "application/vnd.jupyter.widget-view+json": {
       "version_major": 2,
       "version_minor": 0,
       "model_id": "79e6385187fc4823b843e2a6f376989b"
      }
     },
     "metadata": {},
     "output_type": "display_data"
    },
    {
     "name": "stdout",
     "output_type": "stream",
     "text": [
      "\u001B[1m\u001B[92m Epoch 197 Train DiceLoss 0.2873155362904072 Val DiceLoss 0.2582034965356191 Train dice_score 0.7126844599843025 Val dice_score 0.7417965133984884\n"
     ]
    },
    {
     "data": {
      "text/plain": [
       "  0%|          | 0/8 [00:00<?, ?it/s]"
      ],
      "application/vnd.jupyter.widget-view+json": {
       "version_major": 2,
       "version_minor": 0,
       "model_id": "cfd0b55dd43c47d08f788378ac2e8949"
      }
     },
     "metadata": {},
     "output_type": "display_data"
    },
    {
     "data": {
      "text/plain": [
       "  0%|          | 0/3 [00:00<?, ?it/s]"
      ],
      "application/vnd.jupyter.widget-view+json": {
       "version_major": 2,
       "version_minor": 0,
       "model_id": "7fc5f6184f074740b21928a3a204008b"
      }
     },
     "metadata": {},
     "output_type": "display_data"
    },
    {
     "name": "stdout",
     "output_type": "stream",
     "text": [
      "\u001B[1m\u001B[92m Epoch 198 Train DiceLoss 0.2723607048392296 Val DiceLoss 0.2554844717184703 Train dice_score 0.727639302611351 Val dice_score 0.7445155382156372\n"
     ]
    },
    {
     "data": {
      "text/plain": [
       "  0%|          | 0/8 [00:00<?, ?it/s]"
      ],
      "application/vnd.jupyter.widget-view+json": {
       "version_major": 2,
       "version_minor": 0,
       "model_id": "1e03b73b7ad44176b363a76fb8df11fc"
      }
     },
     "metadata": {},
     "output_type": "display_data"
    },
    {
     "data": {
      "text/plain": [
       "  0%|          | 0/3 [00:00<?, ?it/s]"
      ],
      "application/vnd.jupyter.widget-view+json": {
       "version_major": 2,
       "version_minor": 0,
       "model_id": "97c74aef33fb4ca7b4ce3d322a20109e"
      }
     },
     "metadata": {},
     "output_type": "display_data"
    },
    {
     "name": "stdout",
     "output_type": "stream",
     "text": [
      "\u001B[1m\u001B[92m Epoch 199 Train DiceLoss 0.2764270566403866 Val DiceLoss 0.24866686761379242 Train dice_score 0.7235729396343231 Val dice_score 0.7513331373532613\n"
     ]
    },
    {
     "data": {
      "text/plain": [
       "  0%|          | 0/8 [00:00<?, ?it/s]"
      ],
      "application/vnd.jupyter.widget-view+json": {
       "version_major": 2,
       "version_minor": 0,
       "model_id": "1ca9937621b3475b9cb0755345755104"
      }
     },
     "metadata": {},
     "output_type": "display_data"
    },
    {
     "data": {
      "text/plain": [
       "  0%|          | 0/3 [00:00<?, ?it/s]"
      ],
      "application/vnd.jupyter.widget-view+json": {
       "version_major": 2,
       "version_minor": 0,
       "model_id": "45e76e2947e8481f8e00d3534ff9d61f"
      }
     },
     "metadata": {},
     "output_type": "display_data"
    },
    {
     "name": "stdout",
     "output_type": "stream",
     "text": [
      "\u001B[1m\u001B[92m Epoch 200 Train DiceLoss 0.2716459557414055 Val DiceLoss 0.27749403317769367 Train dice_score 0.7283540368080139 Val dice_score 0.7225059866905212\n"
     ]
    },
    {
     "data": {
      "text/plain": [
       "  0%|          | 0/8 [00:00<?, ?it/s]"
      ],
      "application/vnd.jupyter.widget-view+json": {
       "version_major": 2,
       "version_minor": 0,
       "model_id": "7d61422cd55e4676826b9a38b298bea0"
      }
     },
     "metadata": {},
     "output_type": "display_data"
    },
    {
     "data": {
      "text/plain": [
       "  0%|          | 0/3 [00:00<?, ?it/s]"
      ],
      "application/vnd.jupyter.widget-view+json": {
       "version_major": 2,
       "version_minor": 0,
       "model_id": "5516d63ef0d241a4948532aa579c1163"
      }
     },
     "metadata": {},
     "output_type": "display_data"
    },
    {
     "name": "stdout",
     "output_type": "stream",
     "text": [
      "\u001B[1m\u001B[92m Epoch 201 Train DiceLoss 0.2807167172431946 Val DiceLoss 0.25413748621940613 Train dice_score 0.719283290207386 Val dice_score 0.7458625237147013\n"
     ]
    },
    {
     "data": {
      "text/plain": [
       "  0%|          | 0/8 [00:00<?, ?it/s]"
      ],
      "application/vnd.jupyter.widget-view+json": {
       "version_major": 2,
       "version_minor": 0,
       "model_id": "e554462e641841c9beaed4b208c8b3f3"
      }
     },
     "metadata": {},
     "output_type": "display_data"
    },
    {
     "data": {
      "text/plain": [
       "  0%|          | 0/3 [00:00<?, ?it/s]"
      ],
      "application/vnd.jupyter.widget-view+json": {
       "version_major": 2,
       "version_minor": 0,
       "model_id": "f09fd6e0c527408fafeca8de917433a2"
      }
     },
     "metadata": {},
     "output_type": "display_data"
    },
    {
     "name": "stdout",
     "output_type": "stream",
     "text": [
      "MODEL SAVED\n",
      "\u001B[1m\u001B[92m Epoch 202 Train DiceLoss 0.2718089781701565 Val DiceLoss 0.24330066641171774 Train dice_score 0.7281910255551338 Val dice_score 0.7566993236541748\n"
     ]
    },
    {
     "data": {
      "text/plain": [
       "  0%|          | 0/8 [00:00<?, ?it/s]"
      ],
      "application/vnd.jupyter.widget-view+json": {
       "version_major": 2,
       "version_minor": 0,
       "model_id": "3316639f6a4540848eb20ccae57c703c"
      }
     },
     "metadata": {},
     "output_type": "display_data"
    },
    {
     "data": {
      "text/plain": [
       "  0%|          | 0/3 [00:00<?, ?it/s]"
      ],
      "application/vnd.jupyter.widget-view+json": {
       "version_major": 2,
       "version_minor": 0,
       "model_id": "01a5b940d50b4c6ab5967db3cbe3cfe4"
      }
     },
     "metadata": {},
     "output_type": "display_data"
    },
    {
     "name": "stdout",
     "output_type": "stream",
     "text": [
      "\u001B[1m\u001B[92m Epoch 203 Train DiceLoss 0.268692247569561 Val DiceLoss 0.2452418009440104 Train dice_score 0.7313077598810196 Val dice_score 0.7547581990559896\n"
     ]
    },
    {
     "data": {
      "text/plain": [
       "  0%|          | 0/8 [00:00<?, ?it/s]"
      ],
      "application/vnd.jupyter.widget-view+json": {
       "version_major": 2,
       "version_minor": 0,
       "model_id": "67350ea88d80440a8055e7e4ff4f87fc"
      }
     },
     "metadata": {},
     "output_type": "display_data"
    },
    {
     "data": {
      "text/plain": [
       "  0%|          | 0/3 [00:00<?, ?it/s]"
      ],
      "application/vnd.jupyter.widget-view+json": {
       "version_major": 2,
       "version_minor": 0,
       "model_id": "28bc8e6cf7e1460c8da49fa3c8b9ebd4"
      }
     },
     "metadata": {},
     "output_type": "display_data"
    },
    {
     "name": "stdout",
     "output_type": "stream",
     "text": [
      "\u001B[1m\u001B[92m Epoch 204 Train DiceLoss 0.2711529955267906 Val DiceLoss 0.24698567390441895 Train dice_score 0.7288470044732094 Val dice_score 0.753014326095581\n"
     ]
    },
    {
     "data": {
      "text/plain": [
       "  0%|          | 0/8 [00:00<?, ?it/s]"
      ],
      "application/vnd.jupyter.widget-view+json": {
       "version_major": 2,
       "version_minor": 0,
       "model_id": "1b256714b09f434a9cceccead8747ca1"
      }
     },
     "metadata": {},
     "output_type": "display_data"
    },
    {
     "data": {
      "text/plain": [
       "  0%|          | 0/3 [00:00<?, ?it/s]"
      ],
      "application/vnd.jupyter.widget-view+json": {
       "version_major": 2,
       "version_minor": 0,
       "model_id": "c5aa19aa2b3e4e3694f98f2b086b90f0"
      }
     },
     "metadata": {},
     "output_type": "display_data"
    },
    {
     "name": "stdout",
     "output_type": "stream",
     "text": [
      "\u001B[1m\u001B[92m Epoch 205 Train DiceLoss 0.26474229246377945 Val DiceLoss 0.2503846039374669 Train dice_score 0.7352577298879623 Val dice_score 0.7496153910954794\n"
     ]
    },
    {
     "data": {
      "text/plain": [
       "  0%|          | 0/8 [00:00<?, ?it/s]"
      ],
      "application/vnd.jupyter.widget-view+json": {
       "version_major": 2,
       "version_minor": 0,
       "model_id": "d560ffc8f010482bab639fb83294abe5"
      }
     },
     "metadata": {},
     "output_type": "display_data"
    },
    {
     "data": {
      "text/plain": [
       "  0%|          | 0/3 [00:00<?, ?it/s]"
      ],
      "application/vnd.jupyter.widget-view+json": {
       "version_major": 2,
       "version_minor": 0,
       "model_id": "7293204dd236497591ddd572ecf22df4"
      }
     },
     "metadata": {},
     "output_type": "display_data"
    },
    {
     "name": "stdout",
     "output_type": "stream",
     "text": [
      "\u001B[1m\u001B[92m Epoch 206 Train DiceLoss 0.2801215425133705 Val DiceLoss 0.2676222225030263 Train dice_score 0.7198784574866295 Val dice_score 0.7323777675628662\n"
     ]
    },
    {
     "data": {
      "text/plain": [
       "  0%|          | 0/8 [00:00<?, ?it/s]"
      ],
      "application/vnd.jupyter.widget-view+json": {
       "version_major": 2,
       "version_minor": 0,
       "model_id": "b9787655a5cf47898a6762beff6cb698"
      }
     },
     "metadata": {},
     "output_type": "display_data"
    },
    {
     "data": {
      "text/plain": [
       "  0%|          | 0/3 [00:00<?, ?it/s]"
      ],
      "application/vnd.jupyter.widget-view+json": {
       "version_major": 2,
       "version_minor": 0,
       "model_id": "3f85cbd0c3c24f9f9f07c34227352fdc"
      }
     },
     "metadata": {},
     "output_type": "display_data"
    },
    {
     "name": "stdout",
     "output_type": "stream",
     "text": [
      "\u001B[1m\u001B[92m Epoch 207 Train DiceLoss 0.269976656883955 Val DiceLoss 0.2624718248844147 Train dice_score 0.7300233393907547 Val dice_score 0.7375281651814779\n"
     ]
    },
    {
     "data": {
      "text/plain": [
       "  0%|          | 0/8 [00:00<?, ?it/s]"
      ],
      "application/vnd.jupyter.widget-view+json": {
       "version_major": 2,
       "version_minor": 0,
       "model_id": "b483d983a026473ca6c307bf6b8f46d6"
      }
     },
     "metadata": {},
     "output_type": "display_data"
    },
    {
     "data": {
      "text/plain": [
       "  0%|          | 0/3 [00:00<?, ?it/s]"
      ],
      "application/vnd.jupyter.widget-view+json": {
       "version_major": 2,
       "version_minor": 0,
       "model_id": "2f5e66cb984b4c73a12b8a00bff8d706"
      }
     },
     "metadata": {},
     "output_type": "display_data"
    },
    {
     "name": "stdout",
     "output_type": "stream",
     "text": [
      "\u001B[1m\u001B[92m Epoch 208 Train DiceLoss 0.26461123675107956 Val DiceLoss 0.27011006077130634 Train dice_score 0.7353887781500816 Val dice_score 0.7298899491628011\n"
     ]
    },
    {
     "data": {
      "text/plain": [
       "  0%|          | 0/8 [00:00<?, ?it/s]"
      ],
      "application/vnd.jupyter.widget-view+json": {
       "version_major": 2,
       "version_minor": 0,
       "model_id": "bb7016ad922d4a14ba095c350574da19"
      }
     },
     "metadata": {},
     "output_type": "display_data"
    },
    {
     "data": {
      "text/plain": [
       "  0%|          | 0/3 [00:00<?, ?it/s]"
      ],
      "application/vnd.jupyter.widget-view+json": {
       "version_major": 2,
       "version_minor": 0,
       "model_id": "566e3e74a9f0450fb335ad3ce0a6b629"
      }
     },
     "metadata": {},
     "output_type": "display_data"
    },
    {
     "name": "stdout",
     "output_type": "stream",
     "text": [
      "MODEL SAVED\n",
      "\u001B[1m\u001B[92m Epoch 209 Train DiceLoss 0.27582039311528206 Val DiceLoss 0.2401602417230606 Train dice_score 0.7241796255111694 Val dice_score 0.7598397334416708\n"
     ]
    },
    {
     "data": {
      "text/plain": [
       "  0%|          | 0/8 [00:00<?, ?it/s]"
      ],
      "application/vnd.jupyter.widget-view+json": {
       "version_major": 2,
       "version_minor": 0,
       "model_id": "e66a1fc01c534bad9ee4452921e5d73a"
      }
     },
     "metadata": {},
     "output_type": "display_data"
    },
    {
     "data": {
      "text/plain": [
       "  0%|          | 0/3 [00:00<?, ?it/s]"
      ],
      "application/vnd.jupyter.widget-view+json": {
       "version_major": 2,
       "version_minor": 0,
       "model_id": "d9d4f7664cfd462fb1c943ea12356e80"
      }
     },
     "metadata": {},
     "output_type": "display_data"
    },
    {
     "name": "stdout",
     "output_type": "stream",
     "text": [
      "\u001B[1m\u001B[92m Epoch 210 Train DiceLoss 0.2650373950600624 Val DiceLoss 0.2515887717405955 Train dice_score 0.7349626049399376 Val dice_score 0.748411218325297\n"
     ]
    },
    {
     "data": {
      "text/plain": [
       "  0%|          | 0/8 [00:00<?, ?it/s]"
      ],
      "application/vnd.jupyter.widget-view+json": {
       "version_major": 2,
       "version_minor": 0,
       "model_id": "e81f3ca97c424f5eba6835da72bf697a"
      }
     },
     "metadata": {},
     "output_type": "display_data"
    },
    {
     "data": {
      "text/plain": [
       "  0%|          | 0/3 [00:00<?, ?it/s]"
      ],
      "application/vnd.jupyter.widget-view+json": {
       "version_major": 2,
       "version_minor": 0,
       "model_id": "bc1417083eab45e7863f0fdbee847559"
      }
     },
     "metadata": {},
     "output_type": "display_data"
    },
    {
     "name": "stdout",
     "output_type": "stream",
     "text": [
      "MODEL SAVED\n",
      "\u001B[1m\u001B[92m Epoch 211 Train DiceLoss 0.2731035389006138 Val DiceLoss 0.23863459626833597 Train dice_score 0.7268964573740959 Val dice_score 0.7613654136657715\n"
     ]
    },
    {
     "data": {
      "text/plain": [
       "  0%|          | 0/8 [00:00<?, ?it/s]"
      ],
      "application/vnd.jupyter.widget-view+json": {
       "version_major": 2,
       "version_minor": 0,
       "model_id": "2d4d1fe78b6a4cdd9eb071fba82c8907"
      }
     },
     "metadata": {},
     "output_type": "display_data"
    },
    {
     "data": {
      "text/plain": [
       "  0%|          | 0/3 [00:00<?, ?it/s]"
      ],
      "application/vnd.jupyter.widget-view+json": {
       "version_major": 2,
       "version_minor": 0,
       "model_id": "4fd53a2220b44923bda223ca48102b1b"
      }
     },
     "metadata": {},
     "output_type": "display_data"
    },
    {
     "name": "stdout",
     "output_type": "stream",
     "text": [
      "\u001B[1m\u001B[92m Epoch 212 Train DiceLoss 0.259306563064456 Val DiceLoss 0.3234702746073405 Train dice_score 0.7406934425234795 Val dice_score 0.6765297253926595\n"
     ]
    },
    {
     "data": {
      "text/plain": [
       "  0%|          | 0/8 [00:00<?, ?it/s]"
      ],
      "application/vnd.jupyter.widget-view+json": {
       "version_major": 2,
       "version_minor": 0,
       "model_id": "3c75066628ff4eebadc7f665b5787d7e"
      }
     },
     "metadata": {},
     "output_type": "display_data"
    },
    {
     "data": {
      "text/plain": [
       "  0%|          | 0/3 [00:00<?, ?it/s]"
      ],
      "application/vnd.jupyter.widget-view+json": {
       "version_major": 2,
       "version_minor": 0,
       "model_id": "3d038ff815ca462a8172761b3f2f0bee"
      }
     },
     "metadata": {},
     "output_type": "display_data"
    },
    {
     "name": "stdout",
     "output_type": "stream",
     "text": [
      "\u001B[1m\u001B[92m Epoch 213 Train DiceLoss 0.27168402075767517 Val DiceLoss 0.23972462117671967 Train dice_score 0.7283159866929054 Val dice_score 0.7602753837903341\n"
     ]
    },
    {
     "data": {
      "text/plain": [
       "  0%|          | 0/8 [00:00<?, ?it/s]"
      ],
      "application/vnd.jupyter.widget-view+json": {
       "version_major": 2,
       "version_minor": 0,
       "model_id": "45745a2d4d9e4729abc83f63c33e6ae7"
      }
     },
     "metadata": {},
     "output_type": "display_data"
    },
    {
     "data": {
      "text/plain": [
       "  0%|          | 0/3 [00:00<?, ?it/s]"
      ],
      "application/vnd.jupyter.widget-view+json": {
       "version_major": 2,
       "version_minor": 0,
       "model_id": "a70827000c2a4ebea5bc4ddfe8c93af4"
      }
     },
     "metadata": {},
     "output_type": "display_data"
    },
    {
     "name": "stdout",
     "output_type": "stream",
     "text": [
      "\u001B[1m\u001B[92m Epoch 214 Train DiceLoss 0.25394701212644577 Val DiceLoss 0.25172214210033417 Train dice_score 0.7460529804229736 Val dice_score 0.7482778628667196\n"
     ]
    },
    {
     "data": {
      "text/plain": [
       "  0%|          | 0/8 [00:00<?, ?it/s]"
      ],
      "application/vnd.jupyter.widget-view+json": {
       "version_major": 2,
       "version_minor": 0,
       "model_id": "51d80b17e960429582010cbfe3887a45"
      }
     },
     "metadata": {},
     "output_type": "display_data"
    },
    {
     "data": {
      "text/plain": [
       "  0%|          | 0/3 [00:00<?, ?it/s]"
      ],
      "application/vnd.jupyter.widget-view+json": {
       "version_major": 2,
       "version_minor": 0,
       "model_id": "c7a83924cc2f40d78b42876e0ae56c9a"
      }
     },
     "metadata": {},
     "output_type": "display_data"
    },
    {
     "name": "stdout",
     "output_type": "stream",
     "text": [
      "\u001B[1m\u001B[92m Epoch 215 Train DiceLoss 0.2590360529720783 Val DiceLoss 0.2502351701259613 Train dice_score 0.740963950753212 Val dice_score 0.7497648199399313\n"
     ]
    },
    {
     "data": {
      "text/plain": [
       "  0%|          | 0/8 [00:00<?, ?it/s]"
      ],
      "application/vnd.jupyter.widget-view+json": {
       "version_major": 2,
       "version_minor": 0,
       "model_id": "c6ebf6a790a145e19de8a1882f2a33ae"
      }
     },
     "metadata": {},
     "output_type": "display_data"
    },
    {
     "data": {
      "text/plain": [
       "  0%|          | 0/3 [00:00<?, ?it/s]"
      ],
      "application/vnd.jupyter.widget-view+json": {
       "version_major": 2,
       "version_minor": 0,
       "model_id": "6d86bbff62e94079974d7baa90178b1f"
      }
     },
     "metadata": {},
     "output_type": "display_data"
    },
    {
     "name": "stdout",
     "output_type": "stream",
     "text": [
      "\u001B[1m\u001B[92m Epoch 216 Train DiceLoss 0.2676263079047203 Val DiceLoss 0.25861482818921405 Train dice_score 0.7323737069964409 Val dice_score 0.7413851817448934\n"
     ]
    },
    {
     "data": {
      "text/plain": [
       "  0%|          | 0/8 [00:00<?, ?it/s]"
      ],
      "application/vnd.jupyter.widget-view+json": {
       "version_major": 2,
       "version_minor": 0,
       "model_id": "9ec178f4698d4cb6864dc4331e91b9c1"
      }
     },
     "metadata": {},
     "output_type": "display_data"
    },
    {
     "data": {
      "text/plain": [
       "  0%|          | 0/3 [00:00<?, ?it/s]"
      ],
      "application/vnd.jupyter.widget-view+json": {
       "version_major": 2,
       "version_minor": 0,
       "model_id": "beaafc1649434d57b252dfcc3595c097"
      }
     },
     "metadata": {},
     "output_type": "display_data"
    },
    {
     "name": "stdout",
     "output_type": "stream",
     "text": [
      "\u001B[1m\u001B[92m Epoch 217 Train DiceLoss 0.268196914345026 Val DiceLoss 0.2394907126824061 Train dice_score 0.7318030819296837 Val dice_score 0.7605092724164327\n"
     ]
    },
    {
     "data": {
      "text/plain": [
       "  0%|          | 0/8 [00:00<?, ?it/s]"
      ],
      "application/vnd.jupyter.widget-view+json": {
       "version_major": 2,
       "version_minor": 0,
       "model_id": "a715396eeebc4223a665ebe69a1d26da"
      }
     },
     "metadata": {},
     "output_type": "display_data"
    },
    {
     "data": {
      "text/plain": [
       "  0%|          | 0/3 [00:00<?, ?it/s]"
      ],
      "application/vnd.jupyter.widget-view+json": {
       "version_major": 2,
       "version_minor": 0,
       "model_id": "f09d0d4772d04aa39797b42b2cafa7d4"
      }
     },
     "metadata": {},
     "output_type": "display_data"
    },
    {
     "name": "stdout",
     "output_type": "stream",
     "text": [
      "\u001B[1m\u001B[92m Epoch 218 Train DiceLoss 0.2566295452415943 Val DiceLoss 0.25248439113299054 Train dice_score 0.743370458483696 Val dice_score 0.747515598932902\n"
     ]
    },
    {
     "data": {
      "text/plain": [
       "  0%|          | 0/8 [00:00<?, ?it/s]"
      ],
      "application/vnd.jupyter.widget-view+json": {
       "version_major": 2,
       "version_minor": 0,
       "model_id": "1fe2e9c7b8ee46eb9bfe5cc072fa33e5"
      }
     },
     "metadata": {},
     "output_type": "display_data"
    },
    {
     "data": {
      "text/plain": [
       "  0%|          | 0/3 [00:00<?, ?it/s]"
      ],
      "application/vnd.jupyter.widget-view+json": {
       "version_major": 2,
       "version_minor": 0,
       "model_id": "9e547afd23e84269ac447cea6d4e146f"
      }
     },
     "metadata": {},
     "output_type": "display_data"
    },
    {
     "name": "stdout",
     "output_type": "stream",
     "text": [
      "\u001B[1m\u001B[92m Epoch 219 Train DiceLoss 0.26800713688135147 Val DiceLoss 0.2523273229598999 Train dice_score 0.7319928631186485 Val dice_score 0.7476726770401001\n"
     ]
    },
    {
     "data": {
      "text/plain": [
       "  0%|          | 0/8 [00:00<?, ?it/s]"
      ],
      "application/vnd.jupyter.widget-view+json": {
       "version_major": 2,
       "version_minor": 0,
       "model_id": "adca350419f44b0d9aa7423f584fce20"
      }
     },
     "metadata": {},
     "output_type": "display_data"
    },
    {
     "data": {
      "text/plain": [
       "  0%|          | 0/3 [00:00<?, ?it/s]"
      ],
      "application/vnd.jupyter.widget-view+json": {
       "version_major": 2,
       "version_minor": 0,
       "model_id": "4aa87604f2bd4f5180fa77125d417664"
      }
     },
     "metadata": {},
     "output_type": "display_data"
    },
    {
     "name": "stdout",
     "output_type": "stream",
     "text": [
      "\u001B[1m\u001B[92m Epoch 220 Train DiceLoss 0.26001580990850925 Val DiceLoss 0.24304489294687906 Train dice_score 0.7399841919541359 Val dice_score 0.756955107053121\n"
     ]
    },
    {
     "data": {
      "text/plain": [
       "  0%|          | 0/8 [00:00<?, ?it/s]"
      ],
      "application/vnd.jupyter.widget-view+json": {
       "version_major": 2,
       "version_minor": 0,
       "model_id": "884dd0a1d373471b88625820160d01bf"
      }
     },
     "metadata": {},
     "output_type": "display_data"
    },
    {
     "data": {
      "text/plain": [
       "  0%|          | 0/3 [00:00<?, ?it/s]"
      ],
      "application/vnd.jupyter.widget-view+json": {
       "version_major": 2,
       "version_minor": 0,
       "model_id": "ac7df6680f104113a077da34e17ae769"
      }
     },
     "metadata": {},
     "output_type": "display_data"
    },
    {
     "name": "stdout",
     "output_type": "stream",
     "text": [
      "MODEL SAVED\n",
      "\u001B[1m\u001B[92m Epoch 221 Train DiceLoss 0.2614735085517168 Val DiceLoss 0.2371846338113149 Train dice_score 0.7385264933109283 Val dice_score 0.7628153761227926\n"
     ]
    },
    {
     "data": {
      "text/plain": [
       "  0%|          | 0/8 [00:00<?, ?it/s]"
      ],
      "application/vnd.jupyter.widget-view+json": {
       "version_major": 2,
       "version_minor": 0,
       "model_id": "1bb28d13a2f5473aaba98b5802b5b00f"
      }
     },
     "metadata": {},
     "output_type": "display_data"
    },
    {
     "data": {
      "text/plain": [
       "  0%|          | 0/3 [00:00<?, ?it/s]"
      ],
      "application/vnd.jupyter.widget-view+json": {
       "version_major": 2,
       "version_minor": 0,
       "model_id": "848212ece6cd430c89c6f663a4f58da7"
      }
     },
     "metadata": {},
     "output_type": "display_data"
    },
    {
     "name": "stdout",
     "output_type": "stream",
     "text": [
      "MODEL SAVED\n",
      "\u001B[1m\u001B[92m Epoch 222 Train DiceLoss 0.25445161387324333 Val DiceLoss 0.23455526431401572 Train dice_score 0.7455483824014664 Val dice_score 0.7654447356859843\n"
     ]
    },
    {
     "data": {
      "text/plain": [
       "  0%|          | 0/8 [00:00<?, ?it/s]"
      ],
      "application/vnd.jupyter.widget-view+json": {
       "version_major": 2,
       "version_minor": 0,
       "model_id": "2c8b97e2c64346f485e10a62d881abec"
      }
     },
     "metadata": {},
     "output_type": "display_data"
    },
    {
     "data": {
      "text/plain": [
       "  0%|          | 0/3 [00:00<?, ?it/s]"
      ],
      "application/vnd.jupyter.widget-view+json": {
       "version_major": 2,
       "version_minor": 0,
       "model_id": "9877a4b3eedd458d9fece935eaf7f9de"
      }
     },
     "metadata": {},
     "output_type": "display_data"
    },
    {
     "name": "stdout",
     "output_type": "stream",
     "text": [
      "\u001B[1m\u001B[92m Epoch 223 Train DiceLoss 0.2630106918513775 Val DiceLoss 0.24039682745933533 Train dice_score 0.7369893044233322 Val dice_score 0.7596031824747721\n"
     ]
    },
    {
     "data": {
      "text/plain": [
       "  0%|          | 0/8 [00:00<?, ?it/s]"
      ],
      "application/vnd.jupyter.widget-view+json": {
       "version_major": 2,
       "version_minor": 0,
       "model_id": "f2d1615271c445daafe63712a15b893e"
      }
     },
     "metadata": {},
     "output_type": "display_data"
    },
    {
     "data": {
      "text/plain": [
       "  0%|          | 0/3 [00:00<?, ?it/s]"
      ],
      "application/vnd.jupyter.widget-view+json": {
       "version_major": 2,
       "version_minor": 0,
       "model_id": "1ba13ff3357043d0a2ad4b1f8cae085f"
      }
     },
     "metadata": {},
     "output_type": "display_data"
    },
    {
     "name": "stdout",
     "output_type": "stream",
     "text": [
      "\u001B[1m\u001B[92m Epoch 224 Train DiceLoss 0.2544274665415287 Val DiceLoss 0.24423021574815115 Train dice_score 0.7455725222826004 Val dice_score 0.7557698090871176\n"
     ]
    },
    {
     "data": {
      "text/plain": [
       "  0%|          | 0/8 [00:00<?, ?it/s]"
      ],
      "application/vnd.jupyter.widget-view+json": {
       "version_major": 2,
       "version_minor": 0,
       "model_id": "a388c4d29974456a9190c2fb87158e48"
      }
     },
     "metadata": {},
     "output_type": "display_data"
    },
    {
     "data": {
      "text/plain": [
       "  0%|          | 0/3 [00:00<?, ?it/s]"
      ],
      "application/vnd.jupyter.widget-view+json": {
       "version_major": 2,
       "version_minor": 0,
       "model_id": "4424670014e142e48ddce77eaa0f37c5"
      }
     },
     "metadata": {},
     "output_type": "display_data"
    },
    {
     "name": "stdout",
     "output_type": "stream",
     "text": [
      "\u001B[1m\u001B[92m Epoch 225 Train DiceLoss 0.2577077466994524 Val DiceLoss 0.2560783227284749 Train dice_score 0.7422922626137733 Val dice_score 0.743921677271525\n"
     ]
    },
    {
     "data": {
      "text/plain": [
       "  0%|          | 0/8 [00:00<?, ?it/s]"
      ],
      "application/vnd.jupyter.widget-view+json": {
       "version_major": 2,
       "version_minor": 0,
       "model_id": "c2ab0b07e7a4403c93bcb51c21abd5fa"
      }
     },
     "metadata": {},
     "output_type": "display_data"
    },
    {
     "data": {
      "text/plain": [
       "  0%|          | 0/3 [00:00<?, ?it/s]"
      ],
      "application/vnd.jupyter.widget-view+json": {
       "version_major": 2,
       "version_minor": 0,
       "model_id": "e36efc3441974bfc9c57df27f313a143"
      }
     },
     "metadata": {},
     "output_type": "display_data"
    },
    {
     "name": "stdout",
     "output_type": "stream",
     "text": [
      "\u001B[1m\u001B[92m Epoch 226 Train DiceLoss 0.2591265495866537 Val DiceLoss 0.25031369427839917 Train dice_score 0.7408734560012817 Val dice_score 0.7496863007545471\n"
     ]
    },
    {
     "data": {
      "text/plain": [
       "  0%|          | 0/8 [00:00<?, ?it/s]"
      ],
      "application/vnd.jupyter.widget-view+json": {
       "version_major": 2,
       "version_minor": 0,
       "model_id": "2dc991d2ece44d2abdf6eba19390b889"
      }
     },
     "metadata": {},
     "output_type": "display_data"
    },
    {
     "data": {
      "text/plain": [
       "  0%|          | 0/3 [00:00<?, ?it/s]"
      ],
      "application/vnd.jupyter.widget-view+json": {
       "version_major": 2,
       "version_minor": 0,
       "model_id": "55281c60437842609f7d7f676bc9a907"
      }
     },
     "metadata": {},
     "output_type": "display_data"
    },
    {
     "name": "stdout",
     "output_type": "stream",
     "text": [
      "MODEL SAVED\n",
      "\u001B[1m\u001B[92m Epoch 227 Train DiceLoss 0.2569526359438896 Val DiceLoss 0.22815408806006113 Train dice_score 0.7430473789572716 Val dice_score 0.7718459169069926\n"
     ]
    },
    {
     "data": {
      "text/plain": [
       "  0%|          | 0/8 [00:00<?, ?it/s]"
      ],
      "application/vnd.jupyter.widget-view+json": {
       "version_major": 2,
       "version_minor": 0,
       "model_id": "1f3d3abd4e604a3dad7d05a0db5cad5a"
      }
     },
     "metadata": {},
     "output_type": "display_data"
    },
    {
     "data": {
      "text/plain": [
       "  0%|          | 0/3 [00:00<?, ?it/s]"
      ],
      "application/vnd.jupyter.widget-view+json": {
       "version_major": 2,
       "version_minor": 0,
       "model_id": "998686722ef24202b42e34bfcf3ac816"
      }
     },
     "metadata": {},
     "output_type": "display_data"
    },
    {
     "name": "stdout",
     "output_type": "stream",
     "text": [
      "\u001B[1m\u001B[92m Epoch 228 Train DiceLoss 0.2615631129592657 Val DiceLoss 0.2422486593325933 Train dice_score 0.7384368926286697 Val dice_score 0.7577513456344604\n"
     ]
    },
    {
     "data": {
      "text/plain": [
       "  0%|          | 0/8 [00:00<?, ?it/s]"
      ],
      "application/vnd.jupyter.widget-view+json": {
       "version_major": 2,
       "version_minor": 0,
       "model_id": "81cd6fa1c4db4bf7bc5fcb072a2d00c4"
      }
     },
     "metadata": {},
     "output_type": "display_data"
    },
    {
     "data": {
      "text/plain": [
       "  0%|          | 0/3 [00:00<?, ?it/s]"
      ],
      "application/vnd.jupyter.widget-view+json": {
       "version_major": 2,
       "version_minor": 0,
       "model_id": "4320a5d393454f5e9b148e1d02c3f105"
      }
     },
     "metadata": {},
     "output_type": "display_data"
    },
    {
     "name": "stdout",
     "output_type": "stream",
     "text": [
      "\u001B[1m\u001B[92m Epoch 229 Train DiceLoss 0.2616665009409189 Val DiceLoss 0.24041886627674103 Train dice_score 0.738333486020565 Val dice_score 0.7595811287562052\n"
     ]
    },
    {
     "data": {
      "text/plain": [
       "  0%|          | 0/8 [00:00<?, ?it/s]"
      ],
      "application/vnd.jupyter.widget-view+json": {
       "version_major": 2,
       "version_minor": 0,
       "model_id": "08bd931042c545ebb34dbc61b286a954"
      }
     },
     "metadata": {},
     "output_type": "display_data"
    },
    {
     "data": {
      "text/plain": [
       "  0%|          | 0/3 [00:00<?, ?it/s]"
      ],
      "application/vnd.jupyter.widget-view+json": {
       "version_major": 2,
       "version_minor": 0,
       "model_id": "971c68db22344f35a945eac3689006de"
      }
     },
     "metadata": {},
     "output_type": "display_data"
    },
    {
     "name": "stdout",
     "output_type": "stream",
     "text": [
      "\u001B[1m\u001B[92m Epoch 230 Train DiceLoss 0.2509616632014513 Val DiceLoss 0.24433073898156485 Train dice_score 0.7490383312106133 Val dice_score 0.7556692759195963\n"
     ]
    },
    {
     "data": {
      "text/plain": [
       "  0%|          | 0/8 [00:00<?, ?it/s]"
      ],
      "application/vnd.jupyter.widget-view+json": {
       "version_major": 2,
       "version_minor": 0,
       "model_id": "00302c133cde4b9eb6c2c0307e457bd2"
      }
     },
     "metadata": {},
     "output_type": "display_data"
    },
    {
     "data": {
      "text/plain": [
       "  0%|          | 0/3 [00:00<?, ?it/s]"
      ],
      "application/vnd.jupyter.widget-view+json": {
       "version_major": 2,
       "version_minor": 0,
       "model_id": "de0d8590aba54ffdbf982e2c9ce5455e"
      }
     },
     "metadata": {},
     "output_type": "display_data"
    },
    {
     "name": "stdout",
     "output_type": "stream",
     "text": [
      "\u001B[1m\u001B[92m Epoch 231 Train DiceLoss 0.24981663934886456 Val DiceLoss 0.23688966035842896 Train dice_score 0.7501833811402321 Val dice_score 0.763110339641571\n"
     ]
    },
    {
     "data": {
      "text/plain": [
       "  0%|          | 0/8 [00:00<?, ?it/s]"
      ],
      "application/vnd.jupyter.widget-view+json": {
       "version_major": 2,
       "version_minor": 0,
       "model_id": "ec55fa1b926241d6918db4957fde10e5"
      }
     },
     "metadata": {},
     "output_type": "display_data"
    },
    {
     "data": {
      "text/plain": [
       "  0%|          | 0/3 [00:00<?, ?it/s]"
      ],
      "application/vnd.jupyter.widget-view+json": {
       "version_major": 2,
       "version_minor": 0,
       "model_id": "8689e3a096984383a4aff2b46b889e40"
      }
     },
     "metadata": {},
     "output_type": "display_data"
    },
    {
     "name": "stdout",
     "output_type": "stream",
     "text": [
      "\u001B[1m\u001B[92m Epoch 232 Train DiceLoss 0.25612725131213665 Val DiceLoss 0.24439465006192526 Train dice_score 0.7438727617263794 Val dice_score 0.7556053400039673\n"
     ]
    },
    {
     "data": {
      "text/plain": [
       "  0%|          | 0/8 [00:00<?, ?it/s]"
      ],
      "application/vnd.jupyter.widget-view+json": {
       "version_major": 2,
       "version_minor": 0,
       "model_id": "5afde3d44b2d4644b549395018ba9eea"
      }
     },
     "metadata": {},
     "output_type": "display_data"
    },
    {
     "data": {
      "text/plain": [
       "  0%|          | 0/3 [00:00<?, ?it/s]"
      ],
      "application/vnd.jupyter.widget-view+json": {
       "version_major": 2,
       "version_minor": 0,
       "model_id": "7239dd98a82b484ca3f4934e63c68fd1"
      }
     },
     "metadata": {},
     "output_type": "display_data"
    },
    {
     "name": "stdout",
     "output_type": "stream",
     "text": [
      "\u001B[1m\u001B[92m Epoch 233 Train DiceLoss 0.24728606455028057 Val DiceLoss 0.24905594686667124 Train dice_score 0.7527139335870743 Val dice_score 0.7509440779685974\n"
     ]
    },
    {
     "data": {
      "text/plain": [
       "  0%|          | 0/8 [00:00<?, ?it/s]"
      ],
      "application/vnd.jupyter.widget-view+json": {
       "version_major": 2,
       "version_minor": 0,
       "model_id": "fdfafa6fa7254d1d88f958f3fc78902a"
      }
     },
     "metadata": {},
     "output_type": "display_data"
    },
    {
     "data": {
      "text/plain": [
       "  0%|          | 0/3 [00:00<?, ?it/s]"
      ],
      "application/vnd.jupyter.widget-view+json": {
       "version_major": 2,
       "version_minor": 0,
       "model_id": "3206256fc8be4df199fc9624ded4abd8"
      }
     },
     "metadata": {},
     "output_type": "display_data"
    },
    {
     "name": "stdout",
     "output_type": "stream",
     "text": [
      "\u001B[1m\u001B[92m Epoch 234 Train DiceLoss 0.26213791221380234 Val DiceLoss 0.23898417750994363 Train dice_score 0.7378620803356171 Val dice_score 0.7610158125559489\n"
     ]
    },
    {
     "data": {
      "text/plain": [
       "  0%|          | 0/8 [00:00<?, ?it/s]"
      ],
      "application/vnd.jupyter.widget-view+json": {
       "version_major": 2,
       "version_minor": 0,
       "model_id": "0157826fe8c944e7ad847e96743348e0"
      }
     },
     "metadata": {},
     "output_type": "display_data"
    },
    {
     "data": {
      "text/plain": [
       "  0%|          | 0/3 [00:00<?, ?it/s]"
      ],
      "application/vnd.jupyter.widget-view+json": {
       "version_major": 2,
       "version_minor": 0,
       "model_id": "1bb670b68e404d9d83e7e730c7af02e9"
      }
     },
     "metadata": {},
     "output_type": "display_data"
    },
    {
     "name": "stdout",
     "output_type": "stream",
     "text": [
      "\u001B[1m\u001B[92m Epoch 235 Train DiceLoss 0.24569075927138329 Val DiceLoss 0.23188734551270804 Train dice_score 0.7543092519044876 Val dice_score 0.7681126594543457\n"
     ]
    },
    {
     "data": {
      "text/plain": [
       "  0%|          | 0/8 [00:00<?, ?it/s]"
      ],
      "application/vnd.jupyter.widget-view+json": {
       "version_major": 2,
       "version_minor": 0,
       "model_id": "51a0f20082a9444f8f66709f1e1d7179"
      }
     },
     "metadata": {},
     "output_type": "display_data"
    },
    {
     "data": {
      "text/plain": [
       "  0%|          | 0/3 [00:00<?, ?it/s]"
      ],
      "application/vnd.jupyter.widget-view+json": {
       "version_major": 2,
       "version_minor": 0,
       "model_id": "e9e048e1adba4581824c3a15d711626e"
      }
     },
     "metadata": {},
     "output_type": "display_data"
    },
    {
     "name": "stdout",
     "output_type": "stream",
     "text": [
      "\u001B[1m\u001B[92m Epoch 236 Train DiceLoss 0.25101722963154316 Val DiceLoss 0.23173537850379944 Train dice_score 0.7489827647805214 Val dice_score 0.768264631430308\n"
     ]
    },
    {
     "data": {
      "text/plain": [
       "  0%|          | 0/8 [00:00<?, ?it/s]"
      ],
      "application/vnd.jupyter.widget-view+json": {
       "version_major": 2,
       "version_minor": 0,
       "model_id": "fc1e8022579c4d9a9b6327937910e4e8"
      }
     },
     "metadata": {},
     "output_type": "display_data"
    },
    {
     "data": {
      "text/plain": [
       "  0%|          | 0/3 [00:00<?, ?it/s]"
      ],
      "application/vnd.jupyter.widget-view+json": {
       "version_major": 2,
       "version_minor": 0,
       "model_id": "b6cd8fb9d9c3496ab059757fd54d243e"
      }
     },
     "metadata": {},
     "output_type": "display_data"
    },
    {
     "name": "stdout",
     "output_type": "stream",
     "text": [
      "\u001B[1m\u001B[92m Epoch 237 Train DiceLoss 0.24790152348577976 Val DiceLoss 0.24534007410208383 Train dice_score 0.7520984709262848 Val dice_score 0.7546599507331848\n"
     ]
    },
    {
     "data": {
      "text/plain": [
       "  0%|          | 0/8 [00:00<?, ?it/s]"
      ],
      "application/vnd.jupyter.widget-view+json": {
       "version_major": 2,
       "version_minor": 0,
       "model_id": "e2f9f0fdef994fd9925c15af8abedb63"
      }
     },
     "metadata": {},
     "output_type": "display_data"
    },
    {
     "data": {
      "text/plain": [
       "  0%|          | 0/3 [00:00<?, ?it/s]"
      ],
      "application/vnd.jupyter.widget-view+json": {
       "version_major": 2,
       "version_minor": 0,
       "model_id": "f601547c409343f2b8574bdd5b8fc623"
      }
     },
     "metadata": {},
     "output_type": "display_data"
    },
    {
     "name": "stdout",
     "output_type": "stream",
     "text": [
      "\u001B[1m\u001B[92m Epoch 238 Train DiceLoss 0.2525414489209652 Val DiceLoss 0.26005298395951587 Train dice_score 0.7474585697054863 Val dice_score 0.7399470408757528\n"
     ]
    },
    {
     "data": {
      "text/plain": [
       "  0%|          | 0/8 [00:00<?, ?it/s]"
      ],
      "application/vnd.jupyter.widget-view+json": {
       "version_major": 2,
       "version_minor": 0,
       "model_id": "8838789b090c45b4a9d380bfe64290db"
      }
     },
     "metadata": {},
     "output_type": "display_data"
    },
    {
     "data": {
      "text/plain": [
       "  0%|          | 0/3 [00:00<?, ?it/s]"
      ],
      "application/vnd.jupyter.widget-view+json": {
       "version_major": 2,
       "version_minor": 0,
       "model_id": "e03cc12fb3df4e3cad9de9b6deace6f9"
      }
     },
     "metadata": {},
     "output_type": "display_data"
    },
    {
     "name": "stdout",
     "output_type": "stream",
     "text": [
      "MODEL SAVED\n",
      "\u001B[1m\u001B[92m Epoch 239 Train DiceLoss 0.253080727532506 Val DiceLoss 0.22591791053613028 Train dice_score 0.7469192668795586 Val dice_score 0.774082084496816\n"
     ]
    },
    {
     "data": {
      "text/plain": [
       "  0%|          | 0/8 [00:00<?, ?it/s]"
      ],
      "application/vnd.jupyter.widget-view+json": {
       "version_major": 2,
       "version_minor": 0,
       "model_id": "8b505b1320a94da492db72d12e2038f8"
      }
     },
     "metadata": {},
     "output_type": "display_data"
    },
    {
     "data": {
      "text/plain": [
       "  0%|          | 0/3 [00:00<?, ?it/s]"
      ],
      "application/vnd.jupyter.widget-view+json": {
       "version_major": 2,
       "version_minor": 0,
       "model_id": "4428311753794ac0b647ae01b12a0cdf"
      }
     },
     "metadata": {},
     "output_type": "display_data"
    },
    {
     "name": "stdout",
     "output_type": "stream",
     "text": [
      "\u001B[1m\u001B[92m Epoch 240 Train DiceLoss 0.24270342849195004 Val DiceLoss 0.23032726347446442 Train dice_score 0.7572965770959854 Val dice_score 0.7696727315584818\n"
     ]
    },
    {
     "data": {
      "text/plain": [
       "  0%|          | 0/8 [00:00<?, ?it/s]"
      ],
      "application/vnd.jupyter.widget-view+json": {
       "version_major": 2,
       "version_minor": 0,
       "model_id": "2138fe23a5de4ef189135e7070f1de3f"
      }
     },
     "metadata": {},
     "output_type": "display_data"
    },
    {
     "data": {
      "text/plain": [
       "  0%|          | 0/3 [00:00<?, ?it/s]"
      ],
      "application/vnd.jupyter.widget-view+json": {
       "version_major": 2,
       "version_minor": 0,
       "model_id": "81179435daad4f6a931e21220dd01b51"
      }
     },
     "metadata": {},
     "output_type": "display_data"
    },
    {
     "name": "stdout",
     "output_type": "stream",
     "text": [
      "\u001B[1m\u001B[92m Epoch 241 Train DiceLoss 0.24154831655323505 Val DiceLoss 0.22724139193693796 Train dice_score 0.7584516853094101 Val dice_score 0.7727586229642233\n"
     ]
    },
    {
     "data": {
      "text/plain": [
       "  0%|          | 0/8 [00:00<?, ?it/s]"
      ],
      "application/vnd.jupyter.widget-view+json": {
       "version_major": 2,
       "version_minor": 0,
       "model_id": "b162c2962f804faf806562633a6b01ae"
      }
     },
     "metadata": {},
     "output_type": "display_data"
    },
    {
     "data": {
      "text/plain": [
       "  0%|          | 0/3 [00:00<?, ?it/s]"
      ],
      "application/vnd.jupyter.widget-view+json": {
       "version_major": 2,
       "version_minor": 0,
       "model_id": "5c9024c5efc742bdb0767175781d1e2b"
      }
     },
     "metadata": {},
     "output_type": "display_data"
    },
    {
     "name": "stdout",
     "output_type": "stream",
     "text": [
      "\u001B[1m\u001B[92m Epoch 242 Train DiceLoss 0.24510087259113789 Val DiceLoss 0.2476321111122767 Train dice_score 0.7548991218209267 Val dice_score 0.7523678739865621\n"
     ]
    },
    {
     "data": {
      "text/plain": [
       "  0%|          | 0/8 [00:00<?, ?it/s]"
      ],
      "application/vnd.jupyter.widget-view+json": {
       "version_major": 2,
       "version_minor": 0,
       "model_id": "1fa0252741f94763a3b61af3c0d79594"
      }
     },
     "metadata": {},
     "output_type": "display_data"
    },
    {
     "data": {
      "text/plain": [
       "  0%|          | 0/3 [00:00<?, ?it/s]"
      ],
      "application/vnd.jupyter.widget-view+json": {
       "version_major": 2,
       "version_minor": 0,
       "model_id": "023fa451573c4906b950fe88b06dd80b"
      }
     },
     "metadata": {},
     "output_type": "display_data"
    },
    {
     "name": "stdout",
     "output_type": "stream",
     "text": [
      "MODEL SAVED\n",
      "\u001B[1m\u001B[92m Epoch 243 Train DiceLoss 0.24786576814949512 Val DiceLoss 0.22475447754065195 Train dice_score 0.75213423371315 Val dice_score 0.7752455274264017\n"
     ]
    },
    {
     "data": {
      "text/plain": [
       "  0%|          | 0/8 [00:00<?, ?it/s]"
      ],
      "application/vnd.jupyter.widget-view+json": {
       "version_major": 2,
       "version_minor": 0,
       "model_id": "736bb3c984064c57ba39f379d532d769"
      }
     },
     "metadata": {},
     "output_type": "display_data"
    },
    {
     "data": {
      "text/plain": [
       "  0%|          | 0/3 [00:00<?, ?it/s]"
      ],
      "application/vnd.jupyter.widget-view+json": {
       "version_major": 2,
       "version_minor": 0,
       "model_id": "791153054316416ab0de76b1201faced"
      }
     },
     "metadata": {},
     "output_type": "display_data"
    },
    {
     "name": "stdout",
     "output_type": "stream",
     "text": [
      "\u001B[1m\u001B[92m Epoch 244 Train DiceLoss 0.2462415099143982 Val DiceLoss 0.22517482936382294 Train dice_score 0.7537584900856018 Val dice_score 0.7748251756032308\n"
     ]
    },
    {
     "data": {
      "text/plain": [
       "  0%|          | 0/8 [00:00<?, ?it/s]"
      ],
      "application/vnd.jupyter.widget-view+json": {
       "version_major": 2,
       "version_minor": 0,
       "model_id": "381c4242faa5450fa311128265f4fb54"
      }
     },
     "metadata": {},
     "output_type": "display_data"
    },
    {
     "data": {
      "text/plain": [
       "  0%|          | 0/3 [00:00<?, ?it/s]"
      ],
      "application/vnd.jupyter.widget-view+json": {
       "version_major": 2,
       "version_minor": 0,
       "model_id": "bc808630da1b48beb9069ad44c2ccd46"
      }
     },
     "metadata": {},
     "output_type": "display_data"
    },
    {
     "name": "stdout",
     "output_type": "stream",
     "text": [
      "\u001B[1m\u001B[92m Epoch 245 Train DiceLoss 0.24860906973481178 Val DiceLoss 0.22517222662766775 Train dice_score 0.7513909190893173 Val dice_score 0.774827778339386\n"
     ]
    },
    {
     "data": {
      "text/plain": [
       "  0%|          | 0/8 [00:00<?, ?it/s]"
      ],
      "application/vnd.jupyter.widget-view+json": {
       "version_major": 2,
       "version_minor": 0,
       "model_id": "10ce92ff7a6147cfa913e02a39931d20"
      }
     },
     "metadata": {},
     "output_type": "display_data"
    },
    {
     "data": {
      "text/plain": [
       "  0%|          | 0/3 [00:00<?, ?it/s]"
      ],
      "application/vnd.jupyter.widget-view+json": {
       "version_major": 2,
       "version_minor": 0,
       "model_id": "60a0500ed8d14377879ace18b38c7660"
      }
     },
     "metadata": {},
     "output_type": "display_data"
    },
    {
     "name": "stdout",
     "output_type": "stream",
     "text": [
      "MODEL SAVED\n",
      "\u001B[1m\u001B[92m Epoch 246 Train DiceLoss 0.24107635766267776 Val DiceLoss 0.22145586709181467 Train dice_score 0.7589236423373222 Val dice_score 0.7785441279411316\n"
     ]
    },
    {
     "data": {
      "text/plain": [
       "  0%|          | 0/8 [00:00<?, ?it/s]"
      ],
      "application/vnd.jupyter.widget-view+json": {
       "version_major": 2,
       "version_minor": 0,
       "model_id": "5dff7a6aaf10432f9207e4ce2adb84a3"
      }
     },
     "metadata": {},
     "output_type": "display_data"
    },
    {
     "data": {
      "text/plain": [
       "  0%|          | 0/3 [00:00<?, ?it/s]"
      ],
      "application/vnd.jupyter.widget-view+json": {
       "version_major": 2,
       "version_minor": 0,
       "model_id": "a70237f7ca214f5d96a9695c8e3df1ae"
      }
     },
     "metadata": {},
     "output_type": "display_data"
    },
    {
     "name": "stdout",
     "output_type": "stream",
     "text": [
      "\u001B[1m\u001B[92m Epoch 247 Train DiceLoss 0.24660447798669338 Val DiceLoss 0.22274506588776907 Train dice_score 0.7533955276012421 Val dice_score 0.7772549589474996\n"
     ]
    },
    {
     "data": {
      "text/plain": [
       "  0%|          | 0/8 [00:00<?, ?it/s]"
      ],
      "application/vnd.jupyter.widget-view+json": {
       "version_major": 2,
       "version_minor": 0,
       "model_id": "4dc66a4a37734433a1932d15409080a6"
      }
     },
     "metadata": {},
     "output_type": "display_data"
    },
    {
     "data": {
      "text/plain": [
       "  0%|          | 0/3 [00:00<?, ?it/s]"
      ],
      "application/vnd.jupyter.widget-view+json": {
       "version_major": 2,
       "version_minor": 0,
       "model_id": "c867dcc3bee44cdf99d6f8c7f3af7b5c"
      }
     },
     "metadata": {},
     "output_type": "display_data"
    },
    {
     "name": "stdout",
     "output_type": "stream",
     "text": [
      "MODEL SAVED\n",
      "\u001B[1m\u001B[92m Epoch 248 Train DiceLoss 0.24802495911717415 Val DiceLoss 0.22010608514149985 Train dice_score 0.7519750371575356 Val dice_score 0.7798939148585001\n"
     ]
    },
    {
     "data": {
      "text/plain": [
       "  0%|          | 0/8 [00:00<?, ?it/s]"
      ],
      "application/vnd.jupyter.widget-view+json": {
       "version_major": 2,
       "version_minor": 0,
       "model_id": "cf4a3ca9e2be4ddd86c8403ff7866c9d"
      }
     },
     "metadata": {},
     "output_type": "display_data"
    },
    {
     "data": {
      "text/plain": [
       "  0%|          | 0/3 [00:00<?, ?it/s]"
      ],
      "application/vnd.jupyter.widget-view+json": {
       "version_major": 2,
       "version_minor": 0,
       "model_id": "b58f1fd0fdfd402ba7c09e8103d3da77"
      }
     },
     "metadata": {},
     "output_type": "display_data"
    },
    {
     "name": "stdout",
     "output_type": "stream",
     "text": [
      "MODEL SAVED\n",
      "\u001B[1m\u001B[92m Epoch 249 Train DiceLoss 0.23567825369536877 Val DiceLoss 0.2177661657333374 Train dice_score 0.7643217444419861 Val dice_score 0.7822338541348776\n"
     ]
    },
    {
     "data": {
      "text/plain": [
       "  0%|          | 0/8 [00:00<?, ?it/s]"
      ],
      "application/vnd.jupyter.widget-view+json": {
       "version_major": 2,
       "version_minor": 0,
       "model_id": "3f7cf6f2dd604b29a8af95ac8dd897a2"
      }
     },
     "metadata": {},
     "output_type": "display_data"
    },
    {
     "data": {
      "text/plain": [
       "  0%|          | 0/3 [00:00<?, ?it/s]"
      ],
      "application/vnd.jupyter.widget-view+json": {
       "version_major": 2,
       "version_minor": 0,
       "model_id": "fa6ece7d4fbc4ee08cb7746de8107fa6"
      }
     },
     "metadata": {},
     "output_type": "display_data"
    },
    {
     "name": "stdout",
     "output_type": "stream",
     "text": [
      "\u001B[1m\u001B[92m Epoch 250 Train DiceLoss 0.24956324882805347 Val DiceLoss 0.23136727015177408 Train dice_score 0.7504367604851723 Val dice_score 0.768632729848226\n"
     ]
    },
    {
     "data": {
      "text/plain": [
       "  0%|          | 0/8 [00:00<?, ?it/s]"
      ],
      "application/vnd.jupyter.widget-view+json": {
       "version_major": 2,
       "version_minor": 0,
       "model_id": "add1b1d8fd0f4b999dd22af70b44fdad"
      }
     },
     "metadata": {},
     "output_type": "display_data"
    },
    {
     "data": {
      "text/plain": [
       "  0%|          | 0/3 [00:00<?, ?it/s]"
      ],
      "application/vnd.jupyter.widget-view+json": {
       "version_major": 2,
       "version_minor": 0,
       "model_id": "aca716fcc56049ab93ee0bdb5ff25105"
      }
     },
     "metadata": {},
     "output_type": "display_data"
    },
    {
     "name": "stdout",
     "output_type": "stream",
     "text": [
      "\u001B[1m\u001B[92m Epoch 251 Train DiceLoss 0.2471142914146185 Val DiceLoss 0.24765569468339285 Train dice_score 0.752885714173317 Val dice_score 0.7523443102836609\n"
     ]
    },
    {
     "data": {
      "text/plain": [
       "  0%|          | 0/8 [00:00<?, ?it/s]"
      ],
      "application/vnd.jupyter.widget-view+json": {
       "version_major": 2,
       "version_minor": 0,
       "model_id": "f9ac9b7bbd564a09839f0dcc75729ca9"
      }
     },
     "metadata": {},
     "output_type": "display_data"
    },
    {
     "data": {
      "text/plain": [
       "  0%|          | 0/3 [00:00<?, ?it/s]"
      ],
      "application/vnd.jupyter.widget-view+json": {
       "version_major": 2,
       "version_minor": 0,
       "model_id": "cc03d8cac10a404f9c8937aa345a26df"
      }
     },
     "metadata": {},
     "output_type": "display_data"
    },
    {
     "name": "stdout",
     "output_type": "stream",
     "text": [
      "\u001B[1m\u001B[92m Epoch 252 Train DiceLoss 0.24094495736062527 Val DiceLoss 0.22547459105650583 Train dice_score 0.7590550482273102 Val dice_score 0.7745254039764404\n"
     ]
    },
    {
     "data": {
      "text/plain": [
       "  0%|          | 0/8 [00:00<?, ?it/s]"
      ],
      "application/vnd.jupyter.widget-view+json": {
       "version_major": 2,
       "version_minor": 0,
       "model_id": "2f449076d93a4571b3190128055ced1c"
      }
     },
     "metadata": {},
     "output_type": "display_data"
    },
    {
     "data": {
      "text/plain": [
       "  0%|          | 0/3 [00:00<?, ?it/s]"
      ],
      "application/vnd.jupyter.widget-view+json": {
       "version_major": 2,
       "version_minor": 0,
       "model_id": "dabc708125d44e2eb60c7af2b8def8a8"
      }
     },
     "metadata": {},
     "output_type": "display_data"
    },
    {
     "name": "stdout",
     "output_type": "stream",
     "text": [
      "\u001B[1m\u001B[92m Epoch 253 Train DiceLoss 0.23933497816324234 Val DiceLoss 0.2226723333199819 Train dice_score 0.7606650292873383 Val dice_score 0.7773276766141256\n"
     ]
    },
    {
     "data": {
      "text/plain": [
       "  0%|          | 0/8 [00:00<?, ?it/s]"
      ],
      "application/vnd.jupyter.widget-view+json": {
       "version_major": 2,
       "version_minor": 0,
       "model_id": "a85ef67a5d8d4f84b670bedfe1b1f981"
      }
     },
     "metadata": {},
     "output_type": "display_data"
    },
    {
     "data": {
      "text/plain": [
       "  0%|          | 0/3 [00:00<?, ?it/s]"
      ],
      "application/vnd.jupyter.widget-view+json": {
       "version_major": 2,
       "version_minor": 0,
       "model_id": "50a9fbdd3d0a4f9fa5adbb0be6531509"
      }
     },
     "metadata": {},
     "output_type": "display_data"
    },
    {
     "name": "stdout",
     "output_type": "stream",
     "text": [
      "\u001B[1m\u001B[92m Epoch 254 Train DiceLoss 0.2422961462289095 Val DiceLoss 0.2484682301680247 Train dice_score 0.7577038556337357 Val dice_score 0.7515317797660828\n"
     ]
    },
    {
     "data": {
      "text/plain": [
       "  0%|          | 0/8 [00:00<?, ?it/s]"
      ],
      "application/vnd.jupyter.widget-view+json": {
       "version_major": 2,
       "version_minor": 0,
       "model_id": "1af3b71c50d64a739ff12f54df63065f"
      }
     },
     "metadata": {},
     "output_type": "display_data"
    },
    {
     "data": {
      "text/plain": [
       "  0%|          | 0/3 [00:00<?, ?it/s]"
      ],
      "application/vnd.jupyter.widget-view+json": {
       "version_major": 2,
       "version_minor": 0,
       "model_id": "40a7105e059040df83a692012d80aff6"
      }
     },
     "metadata": {},
     "output_type": "display_data"
    },
    {
     "name": "stdout",
     "output_type": "stream",
     "text": [
      "\u001B[1m\u001B[92m Epoch 255 Train DiceLoss 0.2550862841308117 Val DiceLoss 0.22354992230733237 Train dice_score 0.7449137195944786 Val dice_score 0.7764500776926676\n"
     ]
    },
    {
     "data": {
      "text/plain": [
       "  0%|          | 0/8 [00:00<?, ?it/s]"
      ],
      "application/vnd.jupyter.widget-view+json": {
       "version_major": 2,
       "version_minor": 0,
       "model_id": "ae2d6739686148f1ac52ae595e5de726"
      }
     },
     "metadata": {},
     "output_type": "display_data"
    },
    {
     "data": {
      "text/plain": [
       "  0%|          | 0/3 [00:00<?, ?it/s]"
      ],
      "application/vnd.jupyter.widget-view+json": {
       "version_major": 2,
       "version_minor": 0,
       "model_id": "68a96c18f92f445cbbcd683d0f5f31a6"
      }
     },
     "metadata": {},
     "output_type": "display_data"
    },
    {
     "name": "stdout",
     "output_type": "stream",
     "text": [
      "\u001B[1m\u001B[92m Epoch 256 Train DiceLoss 0.2372762244194746 Val DiceLoss 0.22358688215414682 Train dice_score 0.7627237886190414 Val dice_score 0.776413102944692\n"
     ]
    },
    {
     "data": {
      "text/plain": [
       "  0%|          | 0/8 [00:00<?, ?it/s]"
      ],
      "application/vnd.jupyter.widget-view+json": {
       "version_major": 2,
       "version_minor": 0,
       "model_id": "d260e72465824107abf86b6551b1fbbc"
      }
     },
     "metadata": {},
     "output_type": "display_data"
    },
    {
     "data": {
      "text/plain": [
       "  0%|          | 0/3 [00:00<?, ?it/s]"
      ],
      "application/vnd.jupyter.widget-view+json": {
       "version_major": 2,
       "version_minor": 0,
       "model_id": "651c5ec898934d91834b7bea95e36109"
      }
     },
     "metadata": {},
     "output_type": "display_data"
    },
    {
     "name": "stdout",
     "output_type": "stream",
     "text": [
      "\u001B[1m\u001B[92m Epoch 257 Train DiceLoss 0.24178740195930004 Val DiceLoss 0.24743862946828207 Train dice_score 0.7582126036286354 Val dice_score 0.7525613705317179\n"
     ]
    },
    {
     "data": {
      "text/plain": [
       "  0%|          | 0/8 [00:00<?, ?it/s]"
      ],
      "application/vnd.jupyter.widget-view+json": {
       "version_major": 2,
       "version_minor": 0,
       "model_id": "5ed1351d41744f3daab70ed371468799"
      }
     },
     "metadata": {},
     "output_type": "display_data"
    },
    {
     "data": {
      "text/plain": [
       "  0%|          | 0/3 [00:00<?, ?it/s]"
      ],
      "application/vnd.jupyter.widget-view+json": {
       "version_major": 2,
       "version_minor": 0,
       "model_id": "88b9d9c8471b4d61a2ae7af04d6091b8"
      }
     },
     "metadata": {},
     "output_type": "display_data"
    },
    {
     "name": "stdout",
     "output_type": "stream",
     "text": [
      "\u001B[1m\u001B[92m Epoch 258 Train DiceLoss 0.23484890535473824 Val DiceLoss 0.22269311050573984 Train dice_score 0.7651511058211327 Val dice_score 0.7773068944613138\n"
     ]
    },
    {
     "data": {
      "text/plain": [
       "  0%|          | 0/8 [00:00<?, ?it/s]"
      ],
      "application/vnd.jupyter.widget-view+json": {
       "version_major": 2,
       "version_minor": 0,
       "model_id": "2692151043ee46e792e6605730987fe1"
      }
     },
     "metadata": {},
     "output_type": "display_data"
    },
    {
     "data": {
      "text/plain": [
       "  0%|          | 0/3 [00:00<?, ?it/s]"
      ],
      "application/vnd.jupyter.widget-view+json": {
       "version_major": 2,
       "version_minor": 0,
       "model_id": "8871a0e5ef4c4433a903fbf05d65e085"
      }
     },
     "metadata": {},
     "output_type": "display_data"
    },
    {
     "name": "stdout",
     "output_type": "stream",
     "text": [
      "\u001B[1m\u001B[92m Epoch 259 Train DiceLoss 0.2477323915809393 Val DiceLoss 0.21904856463273367 Train dice_score 0.7522676214575768 Val dice_score 0.7809514403343201\n"
     ]
    },
    {
     "data": {
      "text/plain": [
       "  0%|          | 0/8 [00:00<?, ?it/s]"
      ],
      "application/vnd.jupyter.widget-view+json": {
       "version_major": 2,
       "version_minor": 0,
       "model_id": "a747088c5b7e47d0b3e087f864a410ca"
      }
     },
     "metadata": {},
     "output_type": "display_data"
    },
    {
     "data": {
      "text/plain": [
       "  0%|          | 0/3 [00:00<?, ?it/s]"
      ],
      "application/vnd.jupyter.widget-view+json": {
       "version_major": 2,
       "version_minor": 0,
       "model_id": "c22131350b8741aab4901550f196cd38"
      }
     },
     "metadata": {},
     "output_type": "display_data"
    },
    {
     "name": "stdout",
     "output_type": "stream",
     "text": [
      "\u001B[1m\u001B[92m Epoch 260 Train DiceLoss 0.2387665268033743 Val DiceLoss 0.22701253493626913 Train dice_score 0.7612334638834 Val dice_score 0.7729874650637308\n"
     ]
    },
    {
     "data": {
      "text/plain": [
       "  0%|          | 0/8 [00:00<?, ?it/s]"
      ],
      "application/vnd.jupyter.widget-view+json": {
       "version_major": 2,
       "version_minor": 0,
       "model_id": "3298f4f6e49342bfbaca6fa9b9911e6c"
      }
     },
     "metadata": {},
     "output_type": "display_data"
    },
    {
     "data": {
      "text/plain": [
       "  0%|          | 0/3 [00:00<?, ?it/s]"
      ],
      "application/vnd.jupyter.widget-view+json": {
       "version_major": 2,
       "version_minor": 0,
       "model_id": "9ed26cc0a73c4fae873ed27ec6b5308e"
      }
     },
     "metadata": {},
     "output_type": "display_data"
    },
    {
     "name": "stdout",
     "output_type": "stream",
     "text": [
      "\u001B[1m\u001B[92m Epoch 261 Train DiceLoss 0.2333081290125847 Val DiceLoss 0.2441768397887548 Train dice_score 0.7666918709874153 Val dice_score 0.7558231751124064\n"
     ]
    },
    {
     "data": {
      "text/plain": [
       "  0%|          | 0/8 [00:00<?, ?it/s]"
      ],
      "application/vnd.jupyter.widget-view+json": {
       "version_major": 2,
       "version_minor": 0,
       "model_id": "fa7476d459a04888b940b214cd49f608"
      }
     },
     "metadata": {},
     "output_type": "display_data"
    },
    {
     "data": {
      "text/plain": [
       "  0%|          | 0/3 [00:00<?, ?it/s]"
      ],
      "application/vnd.jupyter.widget-view+json": {
       "version_major": 2,
       "version_minor": 0,
       "model_id": "1d59bfef39844eceb10417e9068a649c"
      }
     },
     "metadata": {},
     "output_type": "display_data"
    },
    {
     "name": "stdout",
     "output_type": "stream",
     "text": [
      "\u001B[1m\u001B[92m Epoch 262 Train DiceLoss 0.23807671666145325 Val DiceLoss 0.24059939881165823 Train dice_score 0.7619232833385468 Val dice_score 0.7594006061553955\n"
     ]
    },
    {
     "data": {
      "text/plain": [
       "  0%|          | 0/8 [00:00<?, ?it/s]"
      ],
      "application/vnd.jupyter.widget-view+json": {
       "version_major": 2,
       "version_minor": 0,
       "model_id": "1df4745937574afc8db2e44d07f84cce"
      }
     },
     "metadata": {},
     "output_type": "display_data"
    },
    {
     "data": {
      "text/plain": [
       "  0%|          | 0/3 [00:00<?, ?it/s]"
      ],
      "application/vnd.jupyter.widget-view+json": {
       "version_major": 2,
       "version_minor": 0,
       "model_id": "5466b2d704c146f7bc899f691c166a72"
      }
     },
     "metadata": {},
     "output_type": "display_data"
    },
    {
     "name": "stdout",
     "output_type": "stream",
     "text": [
      "MODEL SAVED\n",
      "\u001B[1m\u001B[92m Epoch 263 Train DiceLoss 0.23975786939263344 Val DiceLoss 0.21123173832893372 Train dice_score 0.7602421343326569 Val dice_score 0.7887682716051737\n"
     ]
    },
    {
     "data": {
      "text/plain": [
       "  0%|          | 0/8 [00:00<?, ?it/s]"
      ],
      "application/vnd.jupyter.widget-view+json": {
       "version_major": 2,
       "version_minor": 0,
       "model_id": "41418b8c2ca142d9baf3c42181d00e55"
      }
     },
     "metadata": {},
     "output_type": "display_data"
    },
    {
     "data": {
      "text/plain": [
       "  0%|          | 0/3 [00:00<?, ?it/s]"
      ],
      "application/vnd.jupyter.widget-view+json": {
       "version_major": 2,
       "version_minor": 0,
       "model_id": "056d5ebb89314da7b96ab65460a9e435"
      }
     },
     "metadata": {},
     "output_type": "display_data"
    },
    {
     "name": "stdout",
     "output_type": "stream",
     "text": [
      "\u001B[1m\u001B[92m Epoch 264 Train DiceLoss 0.23501431196928024 Val DiceLoss 0.25047391653060913 Train dice_score 0.7649856731295586 Val dice_score 0.7495261033376058\n"
     ]
    },
    {
     "data": {
      "text/plain": [
       "  0%|          | 0/8 [00:00<?, ?it/s]"
      ],
      "application/vnd.jupyter.widget-view+json": {
       "version_major": 2,
       "version_minor": 0,
       "model_id": "96b3ce7505464446a75fbe3990ca2e38"
      }
     },
     "metadata": {},
     "output_type": "display_data"
    },
    {
     "data": {
      "text/plain": [
       "  0%|          | 0/3 [00:00<?, ?it/s]"
      ],
      "application/vnd.jupyter.widget-view+json": {
       "version_major": 2,
       "version_minor": 0,
       "model_id": "39c9dfc3e4ce4d75939925800aeb9bc4"
      }
     },
     "metadata": {},
     "output_type": "display_data"
    },
    {
     "name": "stdout",
     "output_type": "stream",
     "text": [
      "\u001B[1m\u001B[92m Epoch 265 Train DiceLoss 0.24378292635083199 Val DiceLoss 0.2505803455909093 Train dice_score 0.7562170699238777 Val dice_score 0.7494196693102518\n"
     ]
    },
    {
     "data": {
      "text/plain": [
       "  0%|          | 0/8 [00:00<?, ?it/s]"
      ],
      "application/vnd.jupyter.widget-view+json": {
       "version_major": 2,
       "version_minor": 0,
       "model_id": "1fd16ca2d4b84aab9527e01fbb9f0303"
      }
     },
     "metadata": {},
     "output_type": "display_data"
    },
    {
     "data": {
      "text/plain": [
       "  0%|          | 0/3 [00:00<?, ?it/s]"
      ],
      "application/vnd.jupyter.widget-view+json": {
       "version_major": 2,
       "version_minor": 0,
       "model_id": "ee15f5fab88d476586dd9778bec30372"
      }
     },
     "metadata": {},
     "output_type": "display_data"
    },
    {
     "name": "stdout",
     "output_type": "stream",
     "text": [
      "\u001B[1m\u001B[92m Epoch 266 Train DiceLoss 0.23164275661110878 Val DiceLoss 0.22412091990311941 Train dice_score 0.7683572396636009 Val dice_score 0.7758790850639343\n"
     ]
    },
    {
     "data": {
      "text/plain": [
       "  0%|          | 0/8 [00:00<?, ?it/s]"
      ],
      "application/vnd.jupyter.widget-view+json": {
       "version_major": 2,
       "version_minor": 0,
       "model_id": "422ff55ab134461b95748f6798f361cd"
      }
     },
     "metadata": {},
     "output_type": "display_data"
    },
    {
     "data": {
      "text/plain": [
       "  0%|          | 0/3 [00:00<?, ?it/s]"
      ],
      "application/vnd.jupyter.widget-view+json": {
       "version_major": 2,
       "version_minor": 0,
       "model_id": "f60a705346114853bb09cebcfda25c2e"
      }
     },
     "metadata": {},
     "output_type": "display_data"
    },
    {
     "name": "stdout",
     "output_type": "stream",
     "text": [
      "\u001B[1m\u001B[92m Epoch 267 Train DiceLoss 0.23951061815023422 Val DiceLoss 0.22795245548089346 Train dice_score 0.7604893818497658 Val dice_score 0.7720475594202677\n"
     ]
    },
    {
     "data": {
      "text/plain": [
       "  0%|          | 0/8 [00:00<?, ?it/s]"
      ],
      "application/vnd.jupyter.widget-view+json": {
       "version_major": 2,
       "version_minor": 0,
       "model_id": "5937b6ebba7145d798e2c3254530a246"
      }
     },
     "metadata": {},
     "output_type": "display_data"
    },
    {
     "data": {
      "text/plain": [
       "  0%|          | 0/3 [00:00<?, ?it/s]"
      ],
      "application/vnd.jupyter.widget-view+json": {
       "version_major": 2,
       "version_minor": 0,
       "model_id": "a58bb589b73b4579b1632ee587572d58"
      }
     },
     "metadata": {},
     "output_type": "display_data"
    },
    {
     "name": "stdout",
     "output_type": "stream",
     "text": [
      "\u001B[1m\u001B[92m Epoch 268 Train DiceLoss 0.24569748155772686 Val DiceLoss 0.22143212457497916 Train dice_score 0.754302516579628 Val dice_score 0.7785678704579672\n"
     ]
    },
    {
     "data": {
      "text/plain": [
       "  0%|          | 0/8 [00:00<?, ?it/s]"
      ],
      "application/vnd.jupyter.widget-view+json": {
       "version_major": 2,
       "version_minor": 0,
       "model_id": "7e7ae4aa7c854531bfa26bb79f05651f"
      }
     },
     "metadata": {},
     "output_type": "display_data"
    },
    {
     "data": {
      "text/plain": [
       "  0%|          | 0/3 [00:00<?, ?it/s]"
      ],
      "application/vnd.jupyter.widget-view+json": {
       "version_major": 2,
       "version_minor": 0,
       "model_id": "36e55a002e404e608a711d864f278f17"
      }
     },
     "metadata": {},
     "output_type": "display_data"
    },
    {
     "name": "stdout",
     "output_type": "stream",
     "text": [
      "\u001B[1m\u001B[92m Epoch 269 Train DiceLoss 0.22731386870145798 Val DiceLoss 0.22232435643672943 Train dice_score 0.772686131298542 Val dice_score 0.7776756683985392\n"
     ]
    },
    {
     "data": {
      "text/plain": [
       "  0%|          | 0/8 [00:00<?, ?it/s]"
      ],
      "application/vnd.jupyter.widget-view+json": {
       "version_major": 2,
       "version_minor": 0,
       "model_id": "bd9416c8776c4e2996a1d6ee0796a0f3"
      }
     },
     "metadata": {},
     "output_type": "display_data"
    },
    {
     "data": {
      "text/plain": [
       "  0%|          | 0/3 [00:00<?, ?it/s]"
      ],
      "application/vnd.jupyter.widget-view+json": {
       "version_major": 2,
       "version_minor": 0,
       "model_id": "00d52ea4e0ad489e854cb3ecbc80d668"
      }
     },
     "metadata": {},
     "output_type": "display_data"
    },
    {
     "name": "stdout",
     "output_type": "stream",
     "text": [
      "\u001B[1m\u001B[92m Epoch 270 Train DiceLoss 0.23414097726345062 Val DiceLoss 0.22405646244684854 Train dice_score 0.76585903018713 Val dice_score 0.7759435375531515\n"
     ]
    },
    {
     "data": {
      "text/plain": [
       "  0%|          | 0/8 [00:00<?, ?it/s]"
      ],
      "application/vnd.jupyter.widget-view+json": {
       "version_major": 2,
       "version_minor": 0,
       "model_id": "cb36ac5f847b4e02a1941dd44ead75cb"
      }
     },
     "metadata": {},
     "output_type": "display_data"
    },
    {
     "data": {
      "text/plain": [
       "  0%|          | 0/3 [00:00<?, ?it/s]"
      ],
      "application/vnd.jupyter.widget-view+json": {
       "version_major": 2,
       "version_minor": 0,
       "model_id": "9ab42f2cb5614f3ebdf93d100fcce28e"
      }
     },
     "metadata": {},
     "output_type": "display_data"
    },
    {
     "name": "stdout",
     "output_type": "stream",
     "text": [
      "MODEL SAVED\n",
      "\u001B[1m\u001B[92m Epoch 271 Train DiceLoss 0.23874326795339584 Val DiceLoss 0.20936914285024008 Train dice_score 0.7612567394971848 Val dice_score 0.790630837281545\n"
     ]
    },
    {
     "data": {
      "text/plain": [
       "  0%|          | 0/8 [00:00<?, ?it/s]"
      ],
      "application/vnd.jupyter.widget-view+json": {
       "version_major": 2,
       "version_minor": 0,
       "model_id": "08a05b6e0e3142299c15e1b8464e908e"
      }
     },
     "metadata": {},
     "output_type": "display_data"
    },
    {
     "data": {
      "text/plain": [
       "  0%|          | 0/3 [00:00<?, ?it/s]"
      ],
      "application/vnd.jupyter.widget-view+json": {
       "version_major": 2,
       "version_minor": 0,
       "model_id": "b6928890cb2a49c290f71888f978304b"
      }
     },
     "metadata": {},
     "output_type": "display_data"
    },
    {
     "name": "stdout",
     "output_type": "stream",
     "text": [
      "MODEL SAVED\n",
      "\u001B[1m\u001B[92m Epoch 272 Train DiceLoss 0.22588356770575047 Val DiceLoss 0.20829705893993378 Train dice_score 0.7741164416074753 Val dice_score 0.791702926158905\n"
     ]
    },
    {
     "data": {
      "text/plain": [
       "  0%|          | 0/8 [00:00<?, ?it/s]"
      ],
      "application/vnd.jupyter.widget-view+json": {
       "version_major": 2,
       "version_minor": 0,
       "model_id": "07e2892751aa4b229bd17227bdb1ed63"
      }
     },
     "metadata": {},
     "output_type": "display_data"
    },
    {
     "data": {
      "text/plain": [
       "  0%|          | 0/3 [00:00<?, ?it/s]"
      ],
      "application/vnd.jupyter.widget-view+json": {
       "version_major": 2,
       "version_minor": 0,
       "model_id": "ed13885eb6d24f31a029a79d9c411ec8"
      }
     },
     "metadata": {},
     "output_type": "display_data"
    },
    {
     "name": "stdout",
     "output_type": "stream",
     "text": [
      "\u001B[1m\u001B[92m Epoch 273 Train DiceLoss 0.22839219868183136 Val DiceLoss 0.21666768689950308 Train dice_score 0.7716078087687492 Val dice_score 0.7833323081334432\n"
     ]
    },
    {
     "data": {
      "text/plain": [
       "  0%|          | 0/8 [00:00<?, ?it/s]"
      ],
      "application/vnd.jupyter.widget-view+json": {
       "version_major": 2,
       "version_minor": 0,
       "model_id": "67b07bfc9ac54f688393b97e3ad96a46"
      }
     },
     "metadata": {},
     "output_type": "display_data"
    },
    {
     "data": {
      "text/plain": [
       "  0%|          | 0/3 [00:00<?, ?it/s]"
      ],
      "application/vnd.jupyter.widget-view+json": {
       "version_major": 2,
       "version_minor": 0,
       "model_id": "dba49d09b12e4dbc98f08afccad6de20"
      }
     },
     "metadata": {},
     "output_type": "display_data"
    },
    {
     "name": "stdout",
     "output_type": "stream",
     "text": [
      "\u001B[1m\u001B[92m Epoch 274 Train DiceLoss 0.2352349106222391 Val DiceLoss 0.2626722455024719 Train dice_score 0.7647650837898254 Val dice_score 0.7373277544975281\n"
     ]
    },
    {
     "data": {
      "text/plain": [
       "  0%|          | 0/8 [00:00<?, ?it/s]"
      ],
      "application/vnd.jupyter.widget-view+json": {
       "version_major": 2,
       "version_minor": 0,
       "model_id": "e55a7ada7d6f4a34900bce6f5771ec01"
      }
     },
     "metadata": {},
     "output_type": "display_data"
    },
    {
     "data": {
      "text/plain": [
       "  0%|          | 0/3 [00:00<?, ?it/s]"
      ],
      "application/vnd.jupyter.widget-view+json": {
       "version_major": 2,
       "version_minor": 0,
       "model_id": "ee545ac2f7124930ae54149afde0c7fc"
      }
     },
     "metadata": {},
     "output_type": "display_data"
    },
    {
     "name": "stdout",
     "output_type": "stream",
     "text": [
      "MODEL SAVED\n",
      "\u001B[1m\u001B[92m Epoch 275 Train DiceLoss 0.23596563003957272 Val DiceLoss 0.20808453857898712 Train dice_score 0.7640343606472015 Val dice_score 0.7919154564539591\n"
     ]
    },
    {
     "data": {
      "text/plain": [
       "  0%|          | 0/8 [00:00<?, ?it/s]"
      ],
      "application/vnd.jupyter.widget-view+json": {
       "version_major": 2,
       "version_minor": 0,
       "model_id": "9e1caf0297264ed0a232eb945600dd12"
      }
     },
     "metadata": {},
     "output_type": "display_data"
    },
    {
     "data": {
      "text/plain": [
       "  0%|          | 0/3 [00:00<?, ?it/s]"
      ],
      "application/vnd.jupyter.widget-view+json": {
       "version_major": 2,
       "version_minor": 0,
       "model_id": "058df78f6c3149968fc7e92dc7551a87"
      }
     },
     "metadata": {},
     "output_type": "display_data"
    },
    {
     "name": "stdout",
     "output_type": "stream",
     "text": [
      "\u001B[1m\u001B[92m Epoch 276 Train DiceLoss 0.22750603593885899 Val DiceLoss 0.21852925916512808 Train dice_score 0.7724939659237862 Val dice_score 0.7814707358678182\n"
     ]
    },
    {
     "data": {
      "text/plain": [
       "  0%|          | 0/8 [00:00<?, ?it/s]"
      ],
      "application/vnd.jupyter.widget-view+json": {
       "version_major": 2,
       "version_minor": 0,
       "model_id": "ad62e7a883234b7fb5906da8fe9a5660"
      }
     },
     "metadata": {},
     "output_type": "display_data"
    },
    {
     "data": {
      "text/plain": [
       "  0%|          | 0/3 [00:00<?, ?it/s]"
      ],
      "application/vnd.jupyter.widget-view+json": {
       "version_major": 2,
       "version_minor": 0,
       "model_id": "6f818247ea94496e98bb9c2d0f59597a"
      }
     },
     "metadata": {},
     "output_type": "display_data"
    },
    {
     "name": "stdout",
     "output_type": "stream",
     "text": [
      "\u001B[1m\u001B[92m Epoch 277 Train DiceLoss 0.23095140419900417 Val DiceLoss 0.21927036345005035 Train dice_score 0.7690486013889313 Val dice_score 0.7807296514511108\n"
     ]
    },
    {
     "data": {
      "text/plain": [
       "  0%|          | 0/8 [00:00<?, ?it/s]"
      ],
      "application/vnd.jupyter.widget-view+json": {
       "version_major": 2,
       "version_minor": 0,
       "model_id": "161c5cf91a9b4a3ebdff20dc221572d2"
      }
     },
     "metadata": {},
     "output_type": "display_data"
    },
    {
     "data": {
      "text/plain": [
       "  0%|          | 0/3 [00:00<?, ?it/s]"
      ],
      "application/vnd.jupyter.widget-view+json": {
       "version_major": 2,
       "version_minor": 0,
       "model_id": "e77ebcccc92e431dbbeee841639af771"
      }
     },
     "metadata": {},
     "output_type": "display_data"
    },
    {
     "name": "stdout",
     "output_type": "stream",
     "text": [
      "\u001B[1m\u001B[92m Epoch 278 Train DiceLoss 0.22683876752853394 Val DiceLoss 0.21145910521348318 Train dice_score 0.7731612250208855 Val dice_score 0.7885408997535706\n"
     ]
    },
    {
     "data": {
      "text/plain": [
       "  0%|          | 0/8 [00:00<?, ?it/s]"
      ],
      "application/vnd.jupyter.widget-view+json": {
       "version_major": 2,
       "version_minor": 0,
       "model_id": "38d59e12f9f342b580a52ebd2032f2f8"
      }
     },
     "metadata": {},
     "output_type": "display_data"
    },
    {
     "data": {
      "text/plain": [
       "  0%|          | 0/3 [00:00<?, ?it/s]"
      ],
      "application/vnd.jupyter.widget-view+json": {
       "version_major": 2,
       "version_minor": 0,
       "model_id": "0e74bac5a33149de8f13ffb246566fb5"
      }
     },
     "metadata": {},
     "output_type": "display_data"
    },
    {
     "name": "stdout",
     "output_type": "stream",
     "text": [
      "\u001B[1m\u001B[92m Epoch 279 Train DiceLoss 0.2302894052118063 Val DiceLoss 0.2165998568137487 Train dice_score 0.7697105780243874 Val dice_score 0.7834001382191976\n"
     ]
    },
    {
     "data": {
      "text/plain": [
       "  0%|          | 0/8 [00:00<?, ?it/s]"
      ],
      "application/vnd.jupyter.widget-view+json": {
       "version_major": 2,
       "version_minor": 0,
       "model_id": "946bf3ba0a6b45bab4f40158c10f22e8"
      }
     },
     "metadata": {},
     "output_type": "display_data"
    },
    {
     "data": {
      "text/plain": [
       "  0%|          | 0/3 [00:00<?, ?it/s]"
      ],
      "application/vnd.jupyter.widget-view+json": {
       "version_major": 2,
       "version_minor": 0,
       "model_id": "31919560c9af447c9a2eeb43e5d04836"
      }
     },
     "metadata": {},
     "output_type": "display_data"
    },
    {
     "name": "stdout",
     "output_type": "stream",
     "text": [
      "\u001B[1m\u001B[92m Epoch 280 Train DiceLoss 0.23324159905314445 Val DiceLoss 0.2129142383734385 Train dice_score 0.7667584046721458 Val dice_score 0.787085771560669\n"
     ]
    },
    {
     "data": {
      "text/plain": [
       "  0%|          | 0/8 [00:00<?, ?it/s]"
      ],
      "application/vnd.jupyter.widget-view+json": {
       "version_major": 2,
       "version_minor": 0,
       "model_id": "11199af5b8144d88a54b0dc42ea03058"
      }
     },
     "metadata": {},
     "output_type": "display_data"
    },
    {
     "data": {
      "text/plain": [
       "  0%|          | 0/3 [00:00<?, ?it/s]"
      ],
      "application/vnd.jupyter.widget-view+json": {
       "version_major": 2,
       "version_minor": 0,
       "model_id": "c1b5a8deeb81482d8b764f01444b3271"
      }
     },
     "metadata": {},
     "output_type": "display_data"
    },
    {
     "name": "stdout",
     "output_type": "stream",
     "text": [
      "MODEL SAVED\n",
      "\u001B[1m\u001B[92m Epoch 281 Train DiceLoss 0.21584735438227654 Val DiceLoss 0.18966239194075266 Train dice_score 0.7841526567935944 Val dice_score 0.8103376229604086\n"
     ]
    },
    {
     "data": {
      "text/plain": [
       "  0%|          | 0/8 [00:00<?, ?it/s]"
      ],
      "application/vnd.jupyter.widget-view+json": {
       "version_major": 2,
       "version_minor": 0,
       "model_id": "3de016cad85f432e91dc38db37ab86a0"
      }
     },
     "metadata": {},
     "output_type": "display_data"
    },
    {
     "data": {
      "text/plain": [
       "  0%|          | 0/3 [00:00<?, ?it/s]"
      ],
      "application/vnd.jupyter.widget-view+json": {
       "version_major": 2,
       "version_minor": 0,
       "model_id": "453266c6268a424e96b79b396d70fc77"
      }
     },
     "metadata": {},
     "output_type": "display_data"
    },
    {
     "name": "stdout",
     "output_type": "stream",
     "text": [
      "MODEL SAVED\n",
      "\u001B[1m\u001B[92m Epoch 282 Train DiceLoss 0.2099599540233612 Val DiceLoss 0.18705137073993683 Train dice_score 0.7900400534272194 Val dice_score 0.8129486242930094\n"
     ]
    },
    {
     "data": {
      "text/plain": [
       "  0%|          | 0/8 [00:00<?, ?it/s]"
      ],
      "application/vnd.jupyter.widget-view+json": {
       "version_major": 2,
       "version_minor": 0,
       "model_id": "da69b4e2bc8b47da941be6aaf07d413b"
      }
     },
     "metadata": {},
     "output_type": "display_data"
    },
    {
     "data": {
      "text/plain": [
       "  0%|          | 0/3 [00:00<?, ?it/s]"
      ],
      "application/vnd.jupyter.widget-view+json": {
       "version_major": 2,
       "version_minor": 0,
       "model_id": "bec048e89a85488d8436e4591f1cb4b4"
      }
     },
     "metadata": {},
     "output_type": "display_data"
    },
    {
     "name": "stdout",
     "output_type": "stream",
     "text": [
      "\u001B[1m\u001B[92m Epoch 283 Train DiceLoss 0.22019735909998417 Val DiceLoss 0.20150171220302582 Train dice_score 0.779802642762661 Val dice_score 0.798498292764028\n"
     ]
    },
    {
     "data": {
      "text/plain": [
       "  0%|          | 0/8 [00:00<?, ?it/s]"
      ],
      "application/vnd.jupyter.widget-view+json": {
       "version_major": 2,
       "version_minor": 0,
       "model_id": "bc2ae9380f874094a21c34539393fad3"
      }
     },
     "metadata": {},
     "output_type": "display_data"
    },
    {
     "data": {
      "text/plain": [
       "  0%|          | 0/3 [00:00<?, ?it/s]"
      ],
      "application/vnd.jupyter.widget-view+json": {
       "version_major": 2,
       "version_minor": 0,
       "model_id": "8d39b9ba085b4686a38c7a9235b0a814"
      }
     },
     "metadata": {},
     "output_type": "display_data"
    },
    {
     "name": "stdout",
     "output_type": "stream",
     "text": [
      "\u001B[1m\u001B[92m Epoch 284 Train DiceLoss 0.21793327666819096 Val DiceLoss 0.2147457997004191 Train dice_score 0.7820667326450348 Val dice_score 0.7852542002995809\n"
     ]
    },
    {
     "data": {
      "text/plain": [
       "  0%|          | 0/8 [00:00<?, ?it/s]"
      ],
      "application/vnd.jupyter.widget-view+json": {
       "version_major": 2,
       "version_minor": 0,
       "model_id": "90dbaabbb29e4a4391e01cc4c0d1539f"
      }
     },
     "metadata": {},
     "output_type": "display_data"
    },
    {
     "data": {
      "text/plain": [
       "  0%|          | 0/3 [00:00<?, ?it/s]"
      ],
      "application/vnd.jupyter.widget-view+json": {
       "version_major": 2,
       "version_minor": 0,
       "model_id": "41e399132b4a45e6b8db20878c630689"
      }
     },
     "metadata": {},
     "output_type": "display_data"
    },
    {
     "name": "stdout",
     "output_type": "stream",
     "text": [
      "MODEL SAVED\n",
      "\u001B[1m\u001B[92m Epoch 285 Train DiceLoss 0.21515100821852684 Val DiceLoss 0.1821946750084559 Train dice_score 0.784849002957344 Val dice_score 0.8178053299585978\n"
     ]
    },
    {
     "data": {
      "text/plain": [
       "  0%|          | 0/8 [00:00<?, ?it/s]"
      ],
      "application/vnd.jupyter.widget-view+json": {
       "version_major": 2,
       "version_minor": 0,
       "model_id": "1c6d2d2a1c474eb8ac04ba8f806ede72"
      }
     },
     "metadata": {},
     "output_type": "display_data"
    },
    {
     "data": {
      "text/plain": [
       "  0%|          | 0/3 [00:00<?, ?it/s]"
      ],
      "application/vnd.jupyter.widget-view+json": {
       "version_major": 2,
       "version_minor": 0,
       "model_id": "2bfba2957d504a0a9918d357e99835ad"
      }
     },
     "metadata": {},
     "output_type": "display_data"
    },
    {
     "name": "stdout",
     "output_type": "stream",
     "text": [
      "\u001B[1m\u001B[92m Epoch 286 Train DiceLoss 0.20981363952159882 Val DiceLoss 0.18259471158186594 Train dice_score 0.7901863604784012 Val dice_score 0.8174053033192953\n"
     ]
    },
    {
     "data": {
      "text/plain": [
       "  0%|          | 0/8 [00:00<?, ?it/s]"
      ],
      "application/vnd.jupyter.widget-view+json": {
       "version_major": 2,
       "version_minor": 0,
       "model_id": "f35e55a7bf204fa0995a688059f7fbe3"
      }
     },
     "metadata": {},
     "output_type": "display_data"
    },
    {
     "data": {
      "text/plain": [
       "  0%|          | 0/3 [00:00<?, ?it/s]"
      ],
      "application/vnd.jupyter.widget-view+json": {
       "version_major": 2,
       "version_minor": 0,
       "model_id": "8280b5ac440645c48e25a51921613718"
      }
     },
     "metadata": {},
     "output_type": "display_data"
    },
    {
     "name": "stdout",
     "output_type": "stream",
     "text": [
      "MODEL SAVED\n",
      "\u001B[1m\u001B[92m Epoch 287 Train DiceLoss 0.2050115019083023 Val DiceLoss 0.17026586333910623 Train dice_score 0.7949885055422783 Val dice_score 0.8297341465950012\n"
     ]
    },
    {
     "data": {
      "text/plain": [
       "  0%|          | 0/8 [00:00<?, ?it/s]"
      ],
      "application/vnd.jupyter.widget-view+json": {
       "version_major": 2,
       "version_minor": 0,
       "model_id": "d1416130ef9d4082adf562da10fa5f50"
      }
     },
     "metadata": {},
     "output_type": "display_data"
    },
    {
     "data": {
      "text/plain": [
       "  0%|          | 0/3 [00:00<?, ?it/s]"
      ],
      "application/vnd.jupyter.widget-view+json": {
       "version_major": 2,
       "version_minor": 0,
       "model_id": "f84c122556304602b839e9aef0def45b"
      }
     },
     "metadata": {},
     "output_type": "display_data"
    },
    {
     "name": "stdout",
     "output_type": "stream",
     "text": [
      "\u001B[1m\u001B[92m Epoch 288 Train DiceLoss 0.20014886371791363 Val DiceLoss 0.19344659646352133 Train dice_score 0.7998511418700218 Val dice_score 0.8065534035364786\n"
     ]
    },
    {
     "data": {
      "text/plain": [
       "  0%|          | 0/8 [00:00<?, ?it/s]"
      ],
      "application/vnd.jupyter.widget-view+json": {
       "version_major": 2,
       "version_minor": 0,
       "model_id": "bc9c70c687674c26b711ee68db26d16c"
      }
     },
     "metadata": {},
     "output_type": "display_data"
    },
    {
     "data": {
      "text/plain": [
       "  0%|          | 0/3 [00:00<?, ?it/s]"
      ],
      "application/vnd.jupyter.widget-view+json": {
       "version_major": 2,
       "version_minor": 0,
       "model_id": "2455d60b821b4c25a0c595b3c5543a00"
      }
     },
     "metadata": {},
     "output_type": "display_data"
    },
    {
     "name": "stdout",
     "output_type": "stream",
     "text": [
      "\u001B[1m\u001B[92m Epoch 289 Train DiceLoss 0.20301804319024086 Val DiceLoss 0.17812344431877136 Train dice_score 0.7969819605350494 Val dice_score 0.8218765656153361\n"
     ]
    },
    {
     "data": {
      "text/plain": [
       "  0%|          | 0/8 [00:00<?, ?it/s]"
      ],
      "application/vnd.jupyter.widget-view+json": {
       "version_major": 2,
       "version_minor": 0,
       "model_id": "8fbc046caa554f7098230fda38ddefe8"
      }
     },
     "metadata": {},
     "output_type": "display_data"
    },
    {
     "data": {
      "text/plain": [
       "  0%|          | 0/3 [00:00<?, ?it/s]"
      ],
      "application/vnd.jupyter.widget-view+json": {
       "version_major": 2,
       "version_minor": 0,
       "model_id": "de8369877c0b476a926caa3143ca8512"
      }
     },
     "metadata": {},
     "output_type": "display_data"
    },
    {
     "name": "stdout",
     "output_type": "stream",
     "text": [
      "\u001B[1m\u001B[92m Epoch 290 Train DiceLoss 0.2094267699867487 Val DiceLoss 0.17979198197523752 Train dice_score 0.7905732318758965 Val dice_score 0.8202080130577087\n"
     ]
    },
    {
     "data": {
      "text/plain": [
       "  0%|          | 0/8 [00:00<?, ?it/s]"
      ],
      "application/vnd.jupyter.widget-view+json": {
       "version_major": 2,
       "version_minor": 0,
       "model_id": "9c5f69f8230e477b8fdce085a0ce58d6"
      }
     },
     "metadata": {},
     "output_type": "display_data"
    },
    {
     "data": {
      "text/plain": [
       "  0%|          | 0/3 [00:00<?, ?it/s]"
      ],
      "application/vnd.jupyter.widget-view+json": {
       "version_major": 2,
       "version_minor": 0,
       "model_id": "2393caa7dabb4decae756827ecbc7726"
      }
     },
     "metadata": {},
     "output_type": "display_data"
    },
    {
     "name": "stdout",
     "output_type": "stream",
     "text": [
      "\u001B[1m\u001B[92m Epoch 291 Train DiceLoss 0.2025943249464035 Val DiceLoss 0.1835405876239141 Train dice_score 0.7974056750535965 Val dice_score 0.8164593974749247\n"
     ]
    },
    {
     "data": {
      "text/plain": [
       "  0%|          | 0/8 [00:00<?, ?it/s]"
      ],
      "application/vnd.jupyter.widget-view+json": {
       "version_major": 2,
       "version_minor": 0,
       "model_id": "c50c5b4260b44274b2544badd789b473"
      }
     },
     "metadata": {},
     "output_type": "display_data"
    },
    {
     "data": {
      "text/plain": [
       "  0%|          | 0/3 [00:00<?, ?it/s]"
      ],
      "application/vnd.jupyter.widget-view+json": {
       "version_major": 2,
       "version_minor": 0,
       "model_id": "267d23e911b4462db0dc7831627e0375"
      }
     },
     "metadata": {},
     "output_type": "display_data"
    },
    {
     "name": "stdout",
     "output_type": "stream",
     "text": [
      "\u001B[1m\u001B[92m Epoch 292 Train DiceLoss 0.19753705151379108 Val DiceLoss 0.1964992235104243 Train dice_score 0.8024629428982735 Val dice_score 0.803500771522522\n"
     ]
    },
    {
     "data": {
      "text/plain": [
       "  0%|          | 0/8 [00:00<?, ?it/s]"
      ],
      "application/vnd.jupyter.widget-view+json": {
       "version_major": 2,
       "version_minor": 0,
       "model_id": "b1eb20c537084352a49933698418b471"
      }
     },
     "metadata": {},
     "output_type": "display_data"
    },
    {
     "data": {
      "text/plain": [
       "  0%|          | 0/3 [00:00<?, ?it/s]"
      ],
      "application/vnd.jupyter.widget-view+json": {
       "version_major": 2,
       "version_minor": 0,
       "model_id": "57645572c0ba4661a536536729ff6426"
      }
     },
     "metadata": {},
     "output_type": "display_data"
    },
    {
     "name": "stdout",
     "output_type": "stream",
     "text": [
      "\u001B[1m\u001B[92m Epoch 293 Train DiceLoss 0.20503179728984833 Val DiceLoss 0.17277707159519196 Train dice_score 0.7949682027101517 Val dice_score 0.8272229234377543\n"
     ]
    },
    {
     "data": {
      "text/plain": [
       "  0%|          | 0/8 [00:00<?, ?it/s]"
      ],
      "application/vnd.jupyter.widget-view+json": {
       "version_major": 2,
       "version_minor": 0,
       "model_id": "ca5bf64ad86a436eb7ca9317a984ad86"
      }
     },
     "metadata": {},
     "output_type": "display_data"
    },
    {
     "data": {
      "text/plain": [
       "  0%|          | 0/3 [00:00<?, ?it/s]"
      ],
      "application/vnd.jupyter.widget-view+json": {
       "version_major": 2,
       "version_minor": 0,
       "model_id": "e3032203739e4d6aa7b1b0f94b1193df"
      }
     },
     "metadata": {},
     "output_type": "display_data"
    },
    {
     "name": "stdout",
     "output_type": "stream",
     "text": [
      "\u001B[1m\u001B[92m Epoch 294 Train DiceLoss 0.1965443715453148 Val DiceLoss 0.17099175850550333 Train dice_score 0.8034556284546852 Val dice_score 0.8290082216262817\n"
     ]
    },
    {
     "data": {
      "text/plain": [
       "  0%|          | 0/8 [00:00<?, ?it/s]"
      ],
      "application/vnd.jupyter.widget-view+json": {
       "version_major": 2,
       "version_minor": 0,
       "model_id": "b5c83a1bd8794476846536463daa5bde"
      }
     },
     "metadata": {},
     "output_type": "display_data"
    },
    {
     "data": {
      "text/plain": [
       "  0%|          | 0/3 [00:00<?, ?it/s]"
      ],
      "application/vnd.jupyter.widget-view+json": {
       "version_major": 2,
       "version_minor": 0,
       "model_id": "1879d841105a409db7d9bda03781843d"
      }
     },
     "metadata": {},
     "output_type": "display_data"
    },
    {
     "name": "stdout",
     "output_type": "stream",
     "text": [
      "\u001B[1m\u001B[92m Epoch 295 Train DiceLoss 0.1927885115146637 Val DiceLoss 0.1853978087504705 Train dice_score 0.8072114810347557 Val dice_score 0.8146021962165833\n"
     ]
    },
    {
     "data": {
      "text/plain": [
       "  0%|          | 0/8 [00:00<?, ?it/s]"
      ],
      "application/vnd.jupyter.widget-view+json": {
       "version_major": 2,
       "version_minor": 0,
       "model_id": "c64f78aef3694f6ca46a4614d119410d"
      }
     },
     "metadata": {},
     "output_type": "display_data"
    },
    {
     "data": {
      "text/plain": [
       "  0%|          | 0/3 [00:00<?, ?it/s]"
      ],
      "application/vnd.jupyter.widget-view+json": {
       "version_major": 2,
       "version_minor": 0,
       "model_id": "8199c8242ab84648a3743403a4bb88f0"
      }
     },
     "metadata": {},
     "output_type": "display_data"
    },
    {
     "name": "stdout",
     "output_type": "stream",
     "text": [
      "\u001B[1m\u001B[92m Epoch 296 Train DiceLoss 0.19264032132923603 Val DiceLoss 0.1918726066748301 Train dice_score 0.8073596805334091 Val dice_score 0.8081273833910624\n"
     ]
    },
    {
     "data": {
      "text/plain": [
       "  0%|          | 0/8 [00:00<?, ?it/s]"
      ],
      "application/vnd.jupyter.widget-view+json": {
       "version_major": 2,
       "version_minor": 0,
       "model_id": "4509bee5674f403b93e046a463376fed"
      }
     },
     "metadata": {},
     "output_type": "display_data"
    },
    {
     "data": {
      "text/plain": [
       "  0%|          | 0/3 [00:00<?, ?it/s]"
      ],
      "application/vnd.jupyter.widget-view+json": {
       "version_major": 2,
       "version_minor": 0,
       "model_id": "b2025d2ad74d41b3b9548c38d91aef70"
      }
     },
     "metadata": {},
     "output_type": "display_data"
    },
    {
     "name": "stdout",
     "output_type": "stream",
     "text": [
      "\u001B[1m\u001B[92m Epoch 297 Train DiceLoss 0.19321342185139656 Val DiceLoss 0.18071863055229187 Train dice_score 0.8067865818738937 Val dice_score 0.8192813793818156\n"
     ]
    },
    {
     "data": {
      "text/plain": [
       "  0%|          | 0/8 [00:00<?, ?it/s]"
      ],
      "application/vnd.jupyter.widget-view+json": {
       "version_major": 2,
       "version_minor": 0,
       "model_id": "0c8c4d46b3644f0a9e705339006be25f"
      }
     },
     "metadata": {},
     "output_type": "display_data"
    },
    {
     "data": {
      "text/plain": [
       "  0%|          | 0/3 [00:00<?, ?it/s]"
      ],
      "application/vnd.jupyter.widget-view+json": {
       "version_major": 2,
       "version_minor": 0,
       "model_id": "74196cdd2f5c422bba3b0c3ec36a0758"
      }
     },
     "metadata": {},
     "output_type": "display_data"
    },
    {
     "name": "stdout",
     "output_type": "stream",
     "text": [
      "\u001B[1m\u001B[92m Epoch 298 Train DiceLoss 0.19244588166475296 Val DiceLoss 0.17239928742249808 Train dice_score 0.807554118335247 Val dice_score 0.8276006976763407\n"
     ]
    },
    {
     "data": {
      "text/plain": [
       "  0%|          | 0/8 [00:00<?, ?it/s]"
      ],
      "application/vnd.jupyter.widget-view+json": {
       "version_major": 2,
       "version_minor": 0,
       "model_id": "ad639c8e14af4a6a90017f1a6183b1bf"
      }
     },
     "metadata": {},
     "output_type": "display_data"
    },
    {
     "data": {
      "text/plain": [
       "  0%|          | 0/3 [00:00<?, ?it/s]"
      ],
      "application/vnd.jupyter.widget-view+json": {
       "version_major": 2,
       "version_minor": 0,
       "model_id": "edc8fc217b76414ba2ee67d08fb33371"
      }
     },
     "metadata": {},
     "output_type": "display_data"
    },
    {
     "name": "stdout",
     "output_type": "stream",
     "text": [
      "\u001B[1m\u001B[92m Epoch 299 Train DiceLoss 0.1955816801637411 Val DiceLoss 0.17451526721318564 Train dice_score 0.8044183328747749 Val dice_score 0.8254847129185995\n"
     ]
    },
    {
     "data": {
      "text/plain": [
       "  0%|          | 0/8 [00:00<?, ?it/s]"
      ],
      "application/vnd.jupyter.widget-view+json": {
       "version_major": 2,
       "version_minor": 0,
       "model_id": "9440d57d1230459d80200148938681d2"
      }
     },
     "metadata": {},
     "output_type": "display_data"
    },
    {
     "data": {
      "text/plain": [
       "  0%|          | 0/3 [00:00<?, ?it/s]"
      ],
      "application/vnd.jupyter.widget-view+json": {
       "version_major": 2,
       "version_minor": 0,
       "model_id": "ab84bd2907c84d73b5cd985946f1b554"
      }
     },
     "metadata": {},
     "output_type": "display_data"
    },
    {
     "name": "stdout",
     "output_type": "stream",
     "text": [
      "\u001B[1m\u001B[92m Epoch 300 Train DiceLoss 0.20798082649707794 Val DiceLoss 0.1947387307882309 Train dice_score 0.7920191809535027 Val dice_score 0.8052612741788229\n"
     ]
    },
    {
     "data": {
      "text/plain": [
       "  0%|          | 0/8 [00:00<?, ?it/s]"
      ],
      "application/vnd.jupyter.widget-view+json": {
       "version_major": 2,
       "version_minor": 0,
       "model_id": "f4e9f434e0524231bc8071e56bed4e97"
      }
     },
     "metadata": {},
     "output_type": "display_data"
    },
    {
     "data": {
      "text/plain": [
       "  0%|          | 0/3 [00:00<?, ?it/s]"
      ],
      "application/vnd.jupyter.widget-view+json": {
       "version_major": 2,
       "version_minor": 0,
       "model_id": "342ddfaecaee40f2ba4b18ea176920ce"
      }
     },
     "metadata": {},
     "output_type": "display_data"
    },
    {
     "name": "stdout",
     "output_type": "stream",
     "text": [
      "\u001B[1m\u001B[92m Epoch 301 Train DiceLoss 0.19887465611100197 Val DiceLoss 0.17569729189078012 Train dice_score 0.8011253401637077 Val dice_score 0.8243027130762736\n"
     ]
    },
    {
     "data": {
      "text/plain": [
       "  0%|          | 0/8 [00:00<?, ?it/s]"
      ],
      "application/vnd.jupyter.widget-view+json": {
       "version_major": 2,
       "version_minor": 0,
       "model_id": "77b5204ba9234e718d6d0150900199df"
      }
     },
     "metadata": {},
     "output_type": "display_data"
    },
    {
     "data": {
      "text/plain": [
       "  0%|          | 0/3 [00:00<?, ?it/s]"
      ],
      "application/vnd.jupyter.widget-view+json": {
       "version_major": 2,
       "version_minor": 0,
       "model_id": "8dc492037c3243f19d45a82f3270ac04"
      }
     },
     "metadata": {},
     "output_type": "display_data"
    },
    {
     "name": "stdout",
     "output_type": "stream",
     "text": [
      "\u001B[1m\u001B[92m Epoch 302 Train DiceLoss 0.1984412595629692 Val DiceLoss 0.19675453503926596 Train dice_score 0.801558755338192 Val dice_score 0.8032454450925192\n"
     ]
    },
    {
     "data": {
      "text/plain": [
       "  0%|          | 0/8 [00:00<?, ?it/s]"
      ],
      "application/vnd.jupyter.widget-view+json": {
       "version_major": 2,
       "version_minor": 0,
       "model_id": "c5e853cdb3a4456882b80d352eda0e3e"
      }
     },
     "metadata": {},
     "output_type": "display_data"
    },
    {
     "data": {
      "text/plain": [
       "  0%|          | 0/3 [00:00<?, ?it/s]"
      ],
      "application/vnd.jupyter.widget-view+json": {
       "version_major": 2,
       "version_minor": 0,
       "model_id": "d995e764b5dd41e9bfe26a304f6354f5"
      }
     },
     "metadata": {},
     "output_type": "display_data"
    },
    {
     "name": "stdout",
     "output_type": "stream",
     "text": [
      "\u001B[1m\u001B[92m Epoch 303 Train DiceLoss 0.18916373327374458 Val DiceLoss 0.1794892946879069 Train dice_score 0.8108362630009651 Val dice_score 0.8205106854438782\n"
     ]
    },
    {
     "data": {
      "text/plain": [
       "  0%|          | 0/8 [00:00<?, ?it/s]"
      ],
      "application/vnd.jupyter.widget-view+json": {
       "version_major": 2,
       "version_minor": 0,
       "model_id": "c46cc50963624be7a6d1f8cec5eb034a"
      }
     },
     "metadata": {},
     "output_type": "display_data"
    },
    {
     "data": {
      "text/plain": [
       "  0%|          | 0/3 [00:00<?, ?it/s]"
      ],
      "application/vnd.jupyter.widget-view+json": {
       "version_major": 2,
       "version_minor": 0,
       "model_id": "8b450005378444d8ac4eeac0880e7128"
      }
     },
     "metadata": {},
     "output_type": "display_data"
    },
    {
     "name": "stdout",
     "output_type": "stream",
     "text": [
      "\u001B[1m\u001B[92m Epoch 304 Train DiceLoss 0.20485321804881096 Val DiceLoss 0.17651382088661194 Train dice_score 0.7951467856764793 Val dice_score 0.8234861890474955\n"
     ]
    },
    {
     "data": {
      "text/plain": [
       "  0%|          | 0/8 [00:00<?, ?it/s]"
      ],
      "application/vnd.jupyter.widget-view+json": {
       "version_major": 2,
       "version_minor": 0,
       "model_id": "dd16bf7369ee4e1aaa55d8c8526c2368"
      }
     },
     "metadata": {},
     "output_type": "display_data"
    },
    {
     "data": {
      "text/plain": [
       "  0%|          | 0/3 [00:00<?, ?it/s]"
      ],
      "application/vnd.jupyter.widget-view+json": {
       "version_major": 2,
       "version_minor": 0,
       "model_id": "24fff79c6b0e4d80a134f8e20bbe2f96"
      }
     },
     "metadata": {},
     "output_type": "display_data"
    },
    {
     "name": "stdout",
     "output_type": "stream",
     "text": [
      "\u001B[1m\u001B[92m Epoch 305 Train DiceLoss 0.19303949549794197 Val DiceLoss 0.1785284330447515 Train dice_score 0.8069605082273483 Val dice_score 0.8214715917905172\n"
     ]
    },
    {
     "data": {
      "text/plain": [
       "  0%|          | 0/8 [00:00<?, ?it/s]"
      ],
      "application/vnd.jupyter.widget-view+json": {
       "version_major": 2,
       "version_minor": 0,
       "model_id": "1fe60ca655ec45e797215282750fd904"
      }
     },
     "metadata": {},
     "output_type": "display_data"
    },
    {
     "data": {
      "text/plain": [
       "  0%|          | 0/3 [00:00<?, ?it/s]"
      ],
      "application/vnd.jupyter.widget-view+json": {
       "version_major": 2,
       "version_minor": 0,
       "model_id": "0ab7c689b9b9420a938e580b248ebc29"
      }
     },
     "metadata": {},
     "output_type": "display_data"
    },
    {
     "name": "stdout",
     "output_type": "stream",
     "text": [
      "\u001B[1m\u001B[92m Epoch 306 Train DiceLoss 0.19556626118719578 Val DiceLoss 0.19968867798646292 Train dice_score 0.8044337332248688 Val dice_score 0.8003113269805908\n"
     ]
    },
    {
     "data": {
      "text/plain": [
       "  0%|          | 0/8 [00:00<?, ?it/s]"
      ],
      "application/vnd.jupyter.widget-view+json": {
       "version_major": 2,
       "version_minor": 0,
       "model_id": "3b19e072b71e48de9e1ba1befc33607f"
      }
     },
     "metadata": {},
     "output_type": "display_data"
    },
    {
     "data": {
      "text/plain": [
       "  0%|          | 0/3 [00:00<?, ?it/s]"
      ],
      "application/vnd.jupyter.widget-view+json": {
       "version_major": 2,
       "version_minor": 0,
       "model_id": "d1f9336f06614915b5696e2fd301aaed"
      }
     },
     "metadata": {},
     "output_type": "display_data"
    },
    {
     "name": "stdout",
     "output_type": "stream",
     "text": [
      "\u001B[1m\u001B[92m Epoch 307 Train DiceLoss 0.19226996414363384 Val DiceLoss 0.17166301608085632 Train dice_score 0.8077300265431404 Val dice_score 0.8283369739850363\n"
     ]
    },
    {
     "data": {
      "text/plain": [
       "  0%|          | 0/8 [00:00<?, ?it/s]"
      ],
      "application/vnd.jupyter.widget-view+json": {
       "version_major": 2,
       "version_minor": 0,
       "model_id": "d3cd112f85cb453b9a0ce9b2fbbfbe7c"
      }
     },
     "metadata": {},
     "output_type": "display_data"
    },
    {
     "data": {
      "text/plain": [
       "  0%|          | 0/3 [00:00<?, ?it/s]"
      ],
      "application/vnd.jupyter.widget-view+json": {
       "version_major": 2,
       "version_minor": 0,
       "model_id": "b5d025f304e44719b17dfeef7b7ab2aa"
      }
     },
     "metadata": {},
     "output_type": "display_data"
    },
    {
     "name": "stdout",
     "output_type": "stream",
     "text": [
      "\u001B[1m\u001B[92m Epoch 308 Train DiceLoss 0.19521761126816273 Val DiceLoss 0.18975456555684408 Train dice_score 0.8047823905944824 Val dice_score 0.8102454344431559\n"
     ]
    },
    {
     "data": {
      "text/plain": [
       "  0%|          | 0/8 [00:00<?, ?it/s]"
      ],
      "application/vnd.jupyter.widget-view+json": {
       "version_major": 2,
       "version_minor": 0,
       "model_id": "f5739e8423d7436ab85e1f2f0c70f762"
      }
     },
     "metadata": {},
     "output_type": "display_data"
    },
    {
     "data": {
      "text/plain": [
       "  0%|          | 0/3 [00:00<?, ?it/s]"
      ],
      "application/vnd.jupyter.widget-view+json": {
       "version_major": 2,
       "version_minor": 0,
       "model_id": "feaca04f861b42f88add56e6f18050d9"
      }
     },
     "metadata": {},
     "output_type": "display_data"
    },
    {
     "name": "stdout",
     "output_type": "stream",
     "text": [
      "\u001B[1m\u001B[92m Epoch 309 Train DiceLoss 0.1866906713694334 Val DiceLoss 0.19008648892243704 Train dice_score 0.813309334218502 Val dice_score 0.8099134961764017\n"
     ]
    },
    {
     "data": {
      "text/plain": [
       "  0%|          | 0/8 [00:00<?, ?it/s]"
      ],
      "application/vnd.jupyter.widget-view+json": {
       "version_major": 2,
       "version_minor": 0,
       "model_id": "e48892274166435ebd25e32407dbb425"
      }
     },
     "metadata": {},
     "output_type": "display_data"
    },
    {
     "data": {
      "text/plain": [
       "  0%|          | 0/3 [00:00<?, ?it/s]"
      ],
      "application/vnd.jupyter.widget-view+json": {
       "version_major": 2,
       "version_minor": 0,
       "model_id": "8ab3fc4c39064628baa9f2431fe9483b"
      }
     },
     "metadata": {},
     "output_type": "display_data"
    },
    {
     "name": "stdout",
     "output_type": "stream",
     "text": [
      "\u001B[1m\u001B[92m Epoch 310 Train DiceLoss 0.19471095502376556 Val DiceLoss 0.19681383172671 Train dice_score 0.805289052426815 Val dice_score 0.8031861782073975\n"
     ]
    },
    {
     "data": {
      "text/plain": [
       "  0%|          | 0/8 [00:00<?, ?it/s]"
      ],
      "application/vnd.jupyter.widget-view+json": {
       "version_major": 2,
       "version_minor": 0,
       "model_id": "0e90b35b192148e296afc2c72680b39e"
      }
     },
     "metadata": {},
     "output_type": "display_data"
    },
    {
     "data": {
      "text/plain": [
       "  0%|          | 0/3 [00:00<?, ?it/s]"
      ],
      "application/vnd.jupyter.widget-view+json": {
       "version_major": 2,
       "version_minor": 0,
       "model_id": "5f50d182b85c4a7bab71df018a92ab5f"
      }
     },
     "metadata": {},
     "output_type": "display_data"
    },
    {
     "name": "stdout",
     "output_type": "stream",
     "text": [
      "\u001B[1m\u001B[92m Epoch 311 Train DiceLoss 0.18542309664189816 Val DiceLoss 0.17087982098261514 Train dice_score 0.8145769163966179 Val dice_score 0.8291201591491699\n"
     ]
    },
    {
     "data": {
      "text/plain": [
       "  0%|          | 0/8 [00:00<?, ?it/s]"
      ],
      "application/vnd.jupyter.widget-view+json": {
       "version_major": 2,
       "version_minor": 0,
       "model_id": "94ce37a7303048c197df0ad950c8690a"
      }
     },
     "metadata": {},
     "output_type": "display_data"
    },
    {
     "data": {
      "text/plain": [
       "  0%|          | 0/3 [00:00<?, ?it/s]"
      ],
      "application/vnd.jupyter.widget-view+json": {
       "version_major": 2,
       "version_minor": 0,
       "model_id": "93dace7d84284248a13c4d4a56479472"
      }
     },
     "metadata": {},
     "output_type": "display_data"
    },
    {
     "name": "stdout",
     "output_type": "stream",
     "text": [
      "MODEL SAVED\n",
      "\u001B[1m\u001B[92m Epoch 312 Train DiceLoss 0.18610753677785397 Val DiceLoss 0.16927331686019897 Train dice_score 0.8138924688100815 Val dice_score 0.830726683139801\n"
     ]
    },
    {
     "data": {
      "text/plain": [
       "  0%|          | 0/8 [00:00<?, ?it/s]"
      ],
      "application/vnd.jupyter.widget-view+json": {
       "version_major": 2,
       "version_minor": 0,
       "model_id": "84e21fb2861b4953853bd40a02faaa0d"
      }
     },
     "metadata": {},
     "output_type": "display_data"
    },
    {
     "data": {
      "text/plain": [
       "  0%|          | 0/3 [00:00<?, ?it/s]"
      ],
      "application/vnd.jupyter.widget-view+json": {
       "version_major": 2,
       "version_minor": 0,
       "model_id": "d5739b68f8314404914d28bc691e865c"
      }
     },
     "metadata": {},
     "output_type": "display_data"
    },
    {
     "name": "stdout",
     "output_type": "stream",
     "text": [
      "\u001B[1m\u001B[92m Epoch 313 Train DiceLoss 0.19636112824082375 Val DiceLoss 0.19675963620344797 Train dice_score 0.8036388829350471 Val dice_score 0.8032403786977133\n"
     ]
    },
    {
     "data": {
      "text/plain": [
       "  0%|          | 0/8 [00:00<?, ?it/s]"
      ],
      "application/vnd.jupyter.widget-view+json": {
       "version_major": 2,
       "version_minor": 0,
       "model_id": "d0165d426a8848d280f704b1fdd816c8"
      }
     },
     "metadata": {},
     "output_type": "display_data"
    },
    {
     "data": {
      "text/plain": [
       "  0%|          | 0/3 [00:00<?, ?it/s]"
      ],
      "application/vnd.jupyter.widget-view+json": {
       "version_major": 2,
       "version_minor": 0,
       "model_id": "46152a22188847a5b878f0ee317b9a80"
      }
     },
     "metadata": {},
     "output_type": "display_data"
    },
    {
     "name": "stdout",
     "output_type": "stream",
     "text": [
      "MODEL SAVED\n",
      "\u001B[1m\u001B[92m Epoch 314 Train DiceLoss 0.191200515255332 Val DiceLoss 0.16747562090555826 Train dice_score 0.8087994903326035 Val dice_score 0.8325243790944418\n"
     ]
    },
    {
     "data": {
      "text/plain": [
       "  0%|          | 0/8 [00:00<?, ?it/s]"
      ],
      "application/vnd.jupyter.widget-view+json": {
       "version_major": 2,
       "version_minor": 0,
       "model_id": "fa3955c3c03f4358924f3b6e963a50f5"
      }
     },
     "metadata": {},
     "output_type": "display_data"
    },
    {
     "data": {
      "text/plain": [
       "  0%|          | 0/3 [00:00<?, ?it/s]"
      ],
      "application/vnd.jupyter.widget-view+json": {
       "version_major": 2,
       "version_minor": 0,
       "model_id": "0e3809cc5bc54db2ba0cd48776c7a16c"
      }
     },
     "metadata": {},
     "output_type": "display_data"
    },
    {
     "name": "stdout",
     "output_type": "stream",
     "text": [
      "\u001B[1m\u001B[92m Epoch 315 Train DiceLoss 0.18676121532917023 Val DiceLoss 0.19484385351339975 Train dice_score 0.8132387921214104 Val dice_score 0.8051561514536539\n"
     ]
    },
    {
     "data": {
      "text/plain": [
       "  0%|          | 0/8 [00:00<?, ?it/s]"
      ],
      "application/vnd.jupyter.widget-view+json": {
       "version_major": 2,
       "version_minor": 0,
       "model_id": "0c41d77d9add44b4bd1f09840154b38b"
      }
     },
     "metadata": {},
     "output_type": "display_data"
    },
    {
     "data": {
      "text/plain": [
       "  0%|          | 0/3 [00:00<?, ?it/s]"
      ],
      "application/vnd.jupyter.widget-view+json": {
       "version_major": 2,
       "version_minor": 0,
       "model_id": "d724fc9a4d7e429085695d991b7a121a"
      }
     },
     "metadata": {},
     "output_type": "display_data"
    },
    {
     "name": "stdout",
     "output_type": "stream",
     "text": [
      "\u001B[1m\u001B[92m Epoch 316 Train DiceLoss 0.18820973113179207 Val DiceLoss 0.18220273156960806 Train dice_score 0.8117902725934982 Val dice_score 0.8177972833315531\n"
     ]
    },
    {
     "data": {
      "text/plain": [
       "  0%|          | 0/8 [00:00<?, ?it/s]"
      ],
      "application/vnd.jupyter.widget-view+json": {
       "version_major": 2,
       "version_minor": 0,
       "model_id": "57f53f8a1454496c8c0c0c9f92706442"
      }
     },
     "metadata": {},
     "output_type": "display_data"
    },
    {
     "data": {
      "text/plain": [
       "  0%|          | 0/3 [00:00<?, ?it/s]"
      ],
      "application/vnd.jupyter.widget-view+json": {
       "version_major": 2,
       "version_minor": 0,
       "model_id": "42d80f80622c4feeb5e2a0e39ca93122"
      }
     },
     "metadata": {},
     "output_type": "display_data"
    },
    {
     "name": "stdout",
     "output_type": "stream",
     "text": [
      "\u001B[1m\u001B[92m Epoch 317 Train DiceLoss 0.1921043060719967 Val DiceLoss 0.1679052859544754 Train dice_score 0.8078956976532936 Val dice_score 0.8320947289466858\n"
     ]
    },
    {
     "data": {
      "text/plain": [
       "  0%|          | 0/8 [00:00<?, ?it/s]"
      ],
      "application/vnd.jupyter.widget-view+json": {
       "version_major": 2,
       "version_minor": 0,
       "model_id": "48e66f4ade374d87aa872410f444e824"
      }
     },
     "metadata": {},
     "output_type": "display_data"
    },
    {
     "data": {
      "text/plain": [
       "  0%|          | 0/3 [00:00<?, ?it/s]"
      ],
      "application/vnd.jupyter.widget-view+json": {
       "version_major": 2,
       "version_minor": 0,
       "model_id": "87a836ba2f714f8b82875e21f39fd5ca"
      }
     },
     "metadata": {},
     "output_type": "display_data"
    },
    {
     "name": "stdout",
     "output_type": "stream",
     "text": [
      "\u001B[1m\u001B[92m Epoch 318 Train DiceLoss 0.180845458060503 Val DiceLoss 0.17150563498338064 Train dice_score 0.8191545531153679 Val dice_score 0.8284943699836731\n"
     ]
    },
    {
     "data": {
      "text/plain": [
       "  0%|          | 0/8 [00:00<?, ?it/s]"
      ],
      "application/vnd.jupyter.widget-view+json": {
       "version_major": 2,
       "version_minor": 0,
       "model_id": "61567d2bb019427a8ac94b90b34af73c"
      }
     },
     "metadata": {},
     "output_type": "display_data"
    },
    {
     "data": {
      "text/plain": [
       "  0%|          | 0/3 [00:00<?, ?it/s]"
      ],
      "application/vnd.jupyter.widget-view+json": {
       "version_major": 2,
       "version_minor": 0,
       "model_id": "7cf386cf95f9466182535db990884ec2"
      }
     },
     "metadata": {},
     "output_type": "display_data"
    },
    {
     "name": "stdout",
     "output_type": "stream",
     "text": [
      "\u001B[1m\u001B[92m Epoch 319 Train DiceLoss 0.18526685424149036 Val DiceLoss 0.19516727328300476 Train dice_score 0.8147331476211548 Val dice_score 0.8048327366511027\n"
     ]
    },
    {
     "data": {
      "text/plain": [
       "  0%|          | 0/8 [00:00<?, ?it/s]"
      ],
      "application/vnd.jupyter.widget-view+json": {
       "version_major": 2,
       "version_minor": 0,
       "model_id": "df709af35f2244a9a87bd6f675b7f066"
      }
     },
     "metadata": {},
     "output_type": "display_data"
    },
    {
     "data": {
      "text/plain": [
       "  0%|          | 0/3 [00:00<?, ?it/s]"
      ],
      "application/vnd.jupyter.widget-view+json": {
       "version_major": 2,
       "version_minor": 0,
       "model_id": "9aafb1d2ee9e4e10b543fb8a0363935a"
      }
     },
     "metadata": {},
     "output_type": "display_data"
    },
    {
     "name": "stdout",
     "output_type": "stream",
     "text": [
      "\u001B[1m\u001B[92m Epoch 320 Train DiceLoss 0.1845700666308403 Val DiceLoss 0.18413525819778442 Train dice_score 0.8154299333691597 Val dice_score 0.8158647219340006\n"
     ]
    },
    {
     "data": {
      "text/plain": [
       "  0%|          | 0/8 [00:00<?, ?it/s]"
      ],
      "application/vnd.jupyter.widget-view+json": {
       "version_major": 2,
       "version_minor": 0,
       "model_id": "6ee46f30679d468e8fa80ee3c38cb2fc"
      }
     },
     "metadata": {},
     "output_type": "display_data"
    },
    {
     "data": {
      "text/plain": [
       "  0%|          | 0/3 [00:00<?, ?it/s]"
      ],
      "application/vnd.jupyter.widget-view+json": {
       "version_major": 2,
       "version_minor": 0,
       "model_id": "71e89201f3f14dd8bb9d2c4003e4b019"
      }
     },
     "metadata": {},
     "output_type": "display_data"
    },
    {
     "name": "stdout",
     "output_type": "stream",
     "text": [
      "\u001B[1m\u001B[92m Epoch 321 Train DiceLoss 0.1846469435840845 Val DiceLoss 0.1763946215311686 Train dice_score 0.8153530582785606 Val dice_score 0.8236053784688314\n"
     ]
    },
    {
     "data": {
      "text/plain": [
       "  0%|          | 0/8 [00:00<?, ?it/s]"
      ],
      "application/vnd.jupyter.widget-view+json": {
       "version_major": 2,
       "version_minor": 0,
       "model_id": "9eddae7673134d2086b18e7257bf232a"
      }
     },
     "metadata": {},
     "output_type": "display_data"
    },
    {
     "data": {
      "text/plain": [
       "  0%|          | 0/3 [00:00<?, ?it/s]"
      ],
      "application/vnd.jupyter.widget-view+json": {
       "version_major": 2,
       "version_minor": 0,
       "model_id": "1be8aab1fd674ffbb5c3ab7b62910221"
      }
     },
     "metadata": {},
     "output_type": "display_data"
    },
    {
     "name": "stdout",
     "output_type": "stream",
     "text": [
      "MODEL SAVED\n",
      "\u001B[1m\u001B[92m Epoch 322 Train DiceLoss 0.1925371252000332 Val DiceLoss 0.16388880213101706 Train dice_score 0.8074628785252571 Val dice_score 0.8361112078030905\n"
     ]
    },
    {
     "data": {
      "text/plain": [
       "  0%|          | 0/8 [00:00<?, ?it/s]"
      ],
      "application/vnd.jupyter.widget-view+json": {
       "version_major": 2,
       "version_minor": 0,
       "model_id": "6aa79c0a114e433b9f2c0c2d17e440f0"
      }
     },
     "metadata": {},
     "output_type": "display_data"
    },
    {
     "data": {
      "text/plain": [
       "  0%|          | 0/3 [00:00<?, ?it/s]"
      ],
      "application/vnd.jupyter.widget-view+json": {
       "version_major": 2,
       "version_minor": 0,
       "model_id": "bc2a80ff9e274031902f18b6d2520296"
      }
     },
     "metadata": {},
     "output_type": "display_data"
    },
    {
     "name": "stdout",
     "output_type": "stream",
     "text": [
      "\u001B[1m\u001B[92m Epoch 323 Train DiceLoss 0.1783283893018961 Val DiceLoss 0.1747351586818695 Train dice_score 0.821671612560749 Val dice_score 0.8252648512522379\n"
     ]
    },
    {
     "data": {
      "text/plain": [
       "  0%|          | 0/8 [00:00<?, ?it/s]"
      ],
      "application/vnd.jupyter.widget-view+json": {
       "version_major": 2,
       "version_minor": 0,
       "model_id": "d0262525b4e048e89237c570cc42da63"
      }
     },
     "metadata": {},
     "output_type": "display_data"
    },
    {
     "data": {
      "text/plain": [
       "  0%|          | 0/3 [00:00<?, ?it/s]"
      ],
      "application/vnd.jupyter.widget-view+json": {
       "version_major": 2,
       "version_minor": 0,
       "model_id": "a4642f9b42334c499c64e86e4210fc97"
      }
     },
     "metadata": {},
     "output_type": "display_data"
    },
    {
     "name": "stdout",
     "output_type": "stream",
     "text": [
      "\u001B[1m\u001B[92m Epoch 324 Train DiceLoss 0.19034082256257534 Val DiceLoss 0.1736989418665568 Train dice_score 0.8096591830253601 Val dice_score 0.8263010581334432\n"
     ]
    },
    {
     "data": {
      "text/plain": [
       "  0%|          | 0/8 [00:00<?, ?it/s]"
      ],
      "application/vnd.jupyter.widget-view+json": {
       "version_major": 2,
       "version_minor": 0,
       "model_id": "5b9dc1e6a6ef4416b050ce16de400bc1"
      }
     },
     "metadata": {},
     "output_type": "display_data"
    },
    {
     "data": {
      "text/plain": [
       "  0%|          | 0/3 [00:00<?, ?it/s]"
      ],
      "application/vnd.jupyter.widget-view+json": {
       "version_major": 2,
       "version_minor": 0,
       "model_id": "0881721bb1154e8dbfd7cdaaf8c2ccd6"
      }
     },
     "metadata": {},
     "output_type": "display_data"
    },
    {
     "name": "stdout",
     "output_type": "stream",
     "text": [
      "\u001B[1m\u001B[92m Epoch 325 Train DiceLoss 0.1926700659096241 Val DiceLoss 0.1736928770939509 Train dice_score 0.807329922914505 Val dice_score 0.8263071378072103\n"
     ]
    },
    {
     "data": {
      "text/plain": [
       "  0%|          | 0/8 [00:00<?, ?it/s]"
      ],
      "application/vnd.jupyter.widget-view+json": {
       "version_major": 2,
       "version_minor": 0,
       "model_id": "50b14cc97ab04b5d821bd72e7685e9ab"
      }
     },
     "metadata": {},
     "output_type": "display_data"
    },
    {
     "data": {
      "text/plain": [
       "  0%|          | 0/3 [00:00<?, ?it/s]"
      ],
      "application/vnd.jupyter.widget-view+json": {
       "version_major": 2,
       "version_minor": 0,
       "model_id": "807ac2d9090441119b5a7afb608ab1f8"
      }
     },
     "metadata": {},
     "output_type": "display_data"
    },
    {
     "name": "stdout",
     "output_type": "stream",
     "text": [
      "\u001B[1m\u001B[92m Epoch 326 Train DiceLoss 0.1824018992483616 Val DiceLoss 0.1804374506076177 Train dice_score 0.8175980970263481 Val dice_score 0.819562554359436\n"
     ]
    },
    {
     "data": {
      "text/plain": [
       "  0%|          | 0/8 [00:00<?, ?it/s]"
      ],
      "application/vnd.jupyter.widget-view+json": {
       "version_major": 2,
       "version_minor": 0,
       "model_id": "22de3d538fc64deda9e2acb7429c22ed"
      }
     },
     "metadata": {},
     "output_type": "display_data"
    },
    {
     "data": {
      "text/plain": [
       "  0%|          | 0/3 [00:00<?, ?it/s]"
      ],
      "application/vnd.jupyter.widget-view+json": {
       "version_major": 2,
       "version_minor": 0,
       "model_id": "e2ccdc671bb0476095de2b3033c2d163"
      }
     },
     "metadata": {},
     "output_type": "display_data"
    },
    {
     "name": "stdout",
     "output_type": "stream",
     "text": [
      "\u001B[1m\u001B[92m Epoch 327 Train DiceLoss 0.18222329579293728 Val DiceLoss 0.20365687708059946 Train dice_score 0.8177767023444176 Val dice_score 0.7963431278864542\n"
     ]
    },
    {
     "data": {
      "text/plain": [
       "  0%|          | 0/8 [00:00<?, ?it/s]"
      ],
      "application/vnd.jupyter.widget-view+json": {
       "version_major": 2,
       "version_minor": 0,
       "model_id": "b4dc293e7a5e4badb205248d34b7db44"
      }
     },
     "metadata": {},
     "output_type": "display_data"
    },
    {
     "data": {
      "text/plain": [
       "  0%|          | 0/3 [00:00<?, ?it/s]"
      ],
      "application/vnd.jupyter.widget-view+json": {
       "version_major": 2,
       "version_minor": 0,
       "model_id": "4fb53fa0a09f4286bfaaac14e2462af4"
      }
     },
     "metadata": {},
     "output_type": "display_data"
    },
    {
     "name": "stdout",
     "output_type": "stream",
     "text": [
      "\u001B[1m\u001B[92m Epoch 328 Train DiceLoss 0.18283016793429852 Val DiceLoss 0.1812854160865148 Train dice_score 0.8171698376536369 Val dice_score 0.8187145789464315\n"
     ]
    },
    {
     "data": {
      "text/plain": [
       "  0%|          | 0/8 [00:00<?, ?it/s]"
      ],
      "application/vnd.jupyter.widget-view+json": {
       "version_major": 2,
       "version_minor": 0,
       "model_id": "a31428b685cc457c98a2ee3ee9580e0a"
      }
     },
     "metadata": {},
     "output_type": "display_data"
    },
    {
     "data": {
      "text/plain": [
       "  0%|          | 0/3 [00:00<?, ?it/s]"
      ],
      "application/vnd.jupyter.widget-view+json": {
       "version_major": 2,
       "version_minor": 0,
       "model_id": "0728a7cda97848bba8aea6314afe800f"
      }
     },
     "metadata": {},
     "output_type": "display_data"
    },
    {
     "name": "stdout",
     "output_type": "stream",
     "text": [
      "\u001B[1m\u001B[92m Epoch 329 Train DiceLoss 0.19052639044821262 Val DiceLoss 0.18525789181391397 Train dice_score 0.8094736114144325 Val dice_score 0.8147421081860861\n"
     ]
    },
    {
     "data": {
      "text/plain": [
       "  0%|          | 0/8 [00:00<?, ?it/s]"
      ],
      "application/vnd.jupyter.widget-view+json": {
       "version_major": 2,
       "version_minor": 0,
       "model_id": "ca87887ee00e4bbb968024bf8f265938"
      }
     },
     "metadata": {},
     "output_type": "display_data"
    },
    {
     "data": {
      "text/plain": [
       "  0%|          | 0/3 [00:00<?, ?it/s]"
      ],
      "application/vnd.jupyter.widget-view+json": {
       "version_major": 2,
       "version_minor": 0,
       "model_id": "fdd09caddd7c4a7e863a18e85f278689"
      }
     },
     "metadata": {},
     "output_type": "display_data"
    },
    {
     "name": "stdout",
     "output_type": "stream",
     "text": [
      "\u001B[1m\u001B[92m Epoch 330 Train DiceLoss 0.18464566953480244 Val DiceLoss 0.16984489063421884 Train dice_score 0.8153543248772621 Val dice_score 0.8301551143328348\n"
     ]
    },
    {
     "data": {
      "text/plain": [
       "  0%|          | 0/8 [00:00<?, ?it/s]"
      ],
      "application/vnd.jupyter.widget-view+json": {
       "version_major": 2,
       "version_minor": 0,
       "model_id": "c55e350ea4ea4ddb97e7e798df02b5a4"
      }
     },
     "metadata": {},
     "output_type": "display_data"
    },
    {
     "data": {
      "text/plain": [
       "  0%|          | 0/3 [00:00<?, ?it/s]"
      ],
      "application/vnd.jupyter.widget-view+json": {
       "version_major": 2,
       "version_minor": 0,
       "model_id": "7a6e570c333a4ee8b40816d62d76dabe"
      }
     },
     "metadata": {},
     "output_type": "display_data"
    },
    {
     "name": "stdout",
     "output_type": "stream",
     "text": [
      "\u001B[1m\u001B[92m Epoch 331 Train DiceLoss 0.1830429583787918 Val DiceLoss 0.16652457416057587 Train dice_score 0.8169570416212082 Val dice_score 0.8334754109382629\n"
     ]
    },
    {
     "data": {
      "text/plain": [
       "  0%|          | 0/8 [00:00<?, ?it/s]"
      ],
      "application/vnd.jupyter.widget-view+json": {
       "version_major": 2,
       "version_minor": 0,
       "model_id": "2326411d5c2f4f96824a56a54bfc41a3"
      }
     },
     "metadata": {},
     "output_type": "display_data"
    },
    {
     "data": {
      "text/plain": [
       "  0%|          | 0/3 [00:00<?, ?it/s]"
      ],
      "application/vnd.jupyter.widget-view+json": {
       "version_major": 2,
       "version_minor": 0,
       "model_id": "b52fd1ce7ac840bda2195d443e58510a"
      }
     },
     "metadata": {},
     "output_type": "display_data"
    },
    {
     "name": "stdout",
     "output_type": "stream",
     "text": [
      "\u001B[1m\u001B[92m Epoch 332 Train DiceLoss 0.17437266930937767 Val DiceLoss 0.1896664947271347 Train dice_score 0.8256273344159126 Val dice_score 0.8103335102399191\n"
     ]
    },
    {
     "data": {
      "text/plain": [
       "  0%|          | 0/8 [00:00<?, ?it/s]"
      ],
      "application/vnd.jupyter.widget-view+json": {
       "version_major": 2,
       "version_minor": 0,
       "model_id": "e8dc82b8341e4e2fa13da90aeb4b07be"
      }
     },
     "metadata": {},
     "output_type": "display_data"
    },
    {
     "data": {
      "text/plain": [
       "  0%|          | 0/3 [00:00<?, ?it/s]"
      ],
      "application/vnd.jupyter.widget-view+json": {
       "version_major": 2,
       "version_minor": 0,
       "model_id": "e944949067324796a205c76e59d5dfc7"
      }
     },
     "metadata": {},
     "output_type": "display_data"
    },
    {
     "name": "stdout",
     "output_type": "stream",
     "text": [
      "\u001B[1m\u001B[92m Epoch 333 Train DiceLoss 0.18319367617368698 Val DiceLoss 0.16984413067499796 Train dice_score 0.8168063312768936 Val dice_score 0.8301558693250021\n"
     ]
    },
    {
     "data": {
      "text/plain": [
       "  0%|          | 0/8 [00:00<?, ?it/s]"
      ],
      "application/vnd.jupyter.widget-view+json": {
       "version_major": 2,
       "version_minor": 0,
       "model_id": "91b36b412ce54485aeb0a98f83ce7f31"
      }
     },
     "metadata": {},
     "output_type": "display_data"
    },
    {
     "data": {
      "text/plain": [
       "  0%|          | 0/3 [00:00<?, ?it/s]"
      ],
      "application/vnd.jupyter.widget-view+json": {
       "version_major": 2,
       "version_minor": 0,
       "model_id": "eed8fa550c8442c3ac73e4edeb3b878c"
      }
     },
     "metadata": {},
     "output_type": "display_data"
    },
    {
     "name": "stdout",
     "output_type": "stream",
     "text": [
      "\u001B[1m\u001B[92m Epoch 334 Train DiceLoss 0.18014851212501526 Val DiceLoss 0.19127056002616882 Train dice_score 0.8198515027761459 Val dice_score 0.8087294499079386\n"
     ]
    },
    {
     "data": {
      "text/plain": [
       "  0%|          | 0/8 [00:00<?, ?it/s]"
      ],
      "application/vnd.jupyter.widget-view+json": {
       "version_major": 2,
       "version_minor": 0,
       "model_id": "637d353abead4a03a9ca938e2071217b"
      }
     },
     "metadata": {},
     "output_type": "display_data"
    },
    {
     "data": {
      "text/plain": [
       "  0%|          | 0/3 [00:00<?, ?it/s]"
      ],
      "application/vnd.jupyter.widget-view+json": {
       "version_major": 2,
       "version_minor": 0,
       "model_id": "843c310a4d3948e38f4ef52dea39c3fe"
      }
     },
     "metadata": {},
     "output_type": "display_data"
    },
    {
     "name": "stdout",
     "output_type": "stream",
     "text": [
      "\u001B[1m\u001B[92m Epoch 335 Train DiceLoss 0.18468325957655907 Val DiceLoss 0.1717292219400406 Train dice_score 0.8153167441487312 Val dice_score 0.8282707929611206\n"
     ]
    },
    {
     "data": {
      "text/plain": [
       "  0%|          | 0/8 [00:00<?, ?it/s]"
      ],
      "application/vnd.jupyter.widget-view+json": {
       "version_major": 2,
       "version_minor": 0,
       "model_id": "82ecae3481fd454a98fc35d1ad64f3b4"
      }
     },
     "metadata": {},
     "output_type": "display_data"
    },
    {
     "data": {
      "text/plain": [
       "  0%|          | 0/3 [00:00<?, ?it/s]"
      ],
      "application/vnd.jupyter.widget-view+json": {
       "version_major": 2,
       "version_minor": 0,
       "model_id": "6883bcb72e744d60946d3392b127ffea"
      }
     },
     "metadata": {},
     "output_type": "display_data"
    },
    {
     "name": "stdout",
     "output_type": "stream",
     "text": [
      "\u001B[1m\u001B[92m Epoch 336 Train DiceLoss 0.17291806265711784 Val DiceLoss 0.18792634705702463 Train dice_score 0.8270819410681725 Val dice_score 0.8120736479759216\n"
     ]
    },
    {
     "data": {
      "text/plain": [
       "  0%|          | 0/8 [00:00<?, ?it/s]"
      ],
      "application/vnd.jupyter.widget-view+json": {
       "version_major": 2,
       "version_minor": 0,
       "model_id": "10d7b36a1b4a4cd4b47b35e67c83763d"
      }
     },
     "metadata": {},
     "output_type": "display_data"
    },
    {
     "data": {
      "text/plain": [
       "  0%|          | 0/3 [00:00<?, ?it/s]"
      ],
      "application/vnd.jupyter.widget-view+json": {
       "version_major": 2,
       "version_minor": 0,
       "model_id": "cfb3ca8b30db4239bf29621807829eb7"
      }
     },
     "metadata": {},
     "output_type": "display_data"
    },
    {
     "name": "stdout",
     "output_type": "stream",
     "text": [
      "\u001B[1m\u001B[92m Epoch 337 Train DiceLoss 0.17834830097854137 Val DiceLoss 0.17243851721286774 Train dice_score 0.8216517046093941 Val dice_score 0.8275614778200785\n"
     ]
    },
    {
     "data": {
      "text/plain": [
       "  0%|          | 0/8 [00:00<?, ?it/s]"
      ],
      "application/vnd.jupyter.widget-view+json": {
       "version_major": 2,
       "version_minor": 0,
       "model_id": "3694529ef6794088885627e0c78814cc"
      }
     },
     "metadata": {},
     "output_type": "display_data"
    },
    {
     "data": {
      "text/plain": [
       "  0%|          | 0/3 [00:00<?, ?it/s]"
      ],
      "application/vnd.jupyter.widget-view+json": {
       "version_major": 2,
       "version_minor": 0,
       "model_id": "e2409462da804d7681373d586856471d"
      }
     },
     "metadata": {},
     "output_type": "display_data"
    },
    {
     "name": "stdout",
     "output_type": "stream",
     "text": [
      "\u001B[1m\u001B[92m Epoch 338 Train DiceLoss 0.18438228406012058 Val DiceLoss 0.17600081861019135 Train dice_score 0.8156177178025246 Val dice_score 0.8239991863568624\n"
     ]
    },
    {
     "data": {
      "text/plain": [
       "  0%|          | 0/8 [00:00<?, ?it/s]"
      ],
      "application/vnd.jupyter.widget-view+json": {
       "version_major": 2,
       "version_minor": 0,
       "model_id": "39ab25914b6d4435b5ad707be5fcdcf2"
      }
     },
     "metadata": {},
     "output_type": "display_data"
    },
    {
     "data": {
      "text/plain": [
       "  0%|          | 0/3 [00:00<?, ?it/s]"
      ],
      "application/vnd.jupyter.widget-view+json": {
       "version_major": 2,
       "version_minor": 0,
       "model_id": "49c053ffc8e14134865c7f1a7b574a42"
      }
     },
     "metadata": {},
     "output_type": "display_data"
    },
    {
     "name": "stdout",
     "output_type": "stream",
     "text": [
      "\u001B[1m\u001B[92m Epoch 339 Train DiceLoss 0.17926800809800625 Val DiceLoss 0.1703058977921804 Train dice_score 0.8207319900393486 Val dice_score 0.8296941121419271\n"
     ]
    },
    {
     "data": {
      "text/plain": [
       "  0%|          | 0/8 [00:00<?, ?it/s]"
      ],
      "application/vnd.jupyter.widget-view+json": {
       "version_major": 2,
       "version_minor": 0,
       "model_id": "417f23bda3394ed685dd447a1fdd56e6"
      }
     },
     "metadata": {},
     "output_type": "display_data"
    },
    {
     "data": {
      "text/plain": [
       "  0%|          | 0/3 [00:00<?, ?it/s]"
      ],
      "application/vnd.jupyter.widget-view+json": {
       "version_major": 2,
       "version_minor": 0,
       "model_id": "f043f4bf193240d8bef2915f3677f64c"
      }
     },
     "metadata": {},
     "output_type": "display_data"
    },
    {
     "name": "stdout",
     "output_type": "stream",
     "text": [
      "\u001B[1m\u001B[92m Epoch 340 Train DiceLoss 0.18073546327650547 Val DiceLoss 0.17421462138493857 Train dice_score 0.8192645460367203 Val dice_score 0.8257853786150614\n"
     ]
    },
    {
     "data": {
      "text/plain": [
       "  0%|          | 0/8 [00:00<?, ?it/s]"
      ],
      "application/vnd.jupyter.widget-view+json": {
       "version_major": 2,
       "version_minor": 0,
       "model_id": "97865ee629d04a7abcd4eeed17cf46d9"
      }
     },
     "metadata": {},
     "output_type": "display_data"
    },
    {
     "data": {
      "text/plain": [
       "  0%|          | 0/3 [00:00<?, ?it/s]"
      ],
      "application/vnd.jupyter.widget-view+json": {
       "version_major": 2,
       "version_minor": 0,
       "model_id": "69dee9ac98f84047a57d6369af33c609"
      }
     },
     "metadata": {},
     "output_type": "display_data"
    },
    {
     "name": "stdout",
     "output_type": "stream",
     "text": [
      "\u001B[1m\u001B[92m Epoch 341 Train DiceLoss 0.18234420754015446 Val DiceLoss 0.16558039685090384 Train dice_score 0.8176557943224907 Val dice_score 0.8344195882479349\n"
     ]
    },
    {
     "data": {
      "text/plain": [
       "  0%|          | 0/8 [00:00<?, ?it/s]"
      ],
      "application/vnd.jupyter.widget-view+json": {
       "version_major": 2,
       "version_minor": 0,
       "model_id": "f79c9fa32598414bb2db14640e012dc5"
      }
     },
     "metadata": {},
     "output_type": "display_data"
    },
    {
     "data": {
      "text/plain": [
       "  0%|          | 0/3 [00:00<?, ?it/s]"
      ],
      "application/vnd.jupyter.widget-view+json": {
       "version_major": 2,
       "version_minor": 0,
       "model_id": "bc886ccddc3f42708857bae1060bfa6d"
      }
     },
     "metadata": {},
     "output_type": "display_data"
    },
    {
     "name": "stdout",
     "output_type": "stream",
     "text": [
      "\u001B[1m\u001B[92m Epoch 342 Train DiceLoss 0.1820990890264511 Val DiceLoss 0.17241571843624115 Train dice_score 0.8179009109735489 Val dice_score 0.8275842865308126\n"
     ]
    },
    {
     "data": {
      "text/plain": [
       "  0%|          | 0/8 [00:00<?, ?it/s]"
      ],
      "application/vnd.jupyter.widget-view+json": {
       "version_major": 2,
       "version_minor": 0,
       "model_id": "4a8a79fcbfba457d8cf8ed3a41f3c1bb"
      }
     },
     "metadata": {},
     "output_type": "display_data"
    },
    {
     "data": {
      "text/plain": [
       "  0%|          | 0/3 [00:00<?, ?it/s]"
      ],
      "application/vnd.jupyter.widget-view+json": {
       "version_major": 2,
       "version_minor": 0,
       "model_id": "0acb970db5144e00ba31855e0b0b8fa0"
      }
     },
     "metadata": {},
     "output_type": "display_data"
    },
    {
     "name": "stdout",
     "output_type": "stream",
     "text": [
      "\u001B[1m\u001B[92m Epoch 343 Train DiceLoss 0.1801824364811182 Val DiceLoss 0.1744026392698288 Train dice_score 0.819817565381527 Val dice_score 0.825597365697225\n"
     ]
    },
    {
     "data": {
      "text/plain": [
       "  0%|          | 0/8 [00:00<?, ?it/s]"
      ],
      "application/vnd.jupyter.widget-view+json": {
       "version_major": 2,
       "version_minor": 0,
       "model_id": "7a47f25d2b264e45b21cbd1e4f5c68ba"
      }
     },
     "metadata": {},
     "output_type": "display_data"
    },
    {
     "data": {
      "text/plain": [
       "  0%|          | 0/3 [00:00<?, ?it/s]"
      ],
      "application/vnd.jupyter.widget-view+json": {
       "version_major": 2,
       "version_minor": 0,
       "model_id": "c191285c4a55460b89dfe6a9fa5cdea0"
      }
     },
     "metadata": {},
     "output_type": "display_data"
    },
    {
     "name": "stdout",
     "output_type": "stream",
     "text": [
      "\u001B[1m\u001B[92m Epoch 344 Train DiceLoss 0.1788629163056612 Val DiceLoss 0.17051576574643454 Train dice_score 0.821137085556984 Val dice_score 0.829484244187673\n"
     ]
    },
    {
     "data": {
      "text/plain": [
       "  0%|          | 0/8 [00:00<?, ?it/s]"
      ],
      "application/vnd.jupyter.widget-view+json": {
       "version_major": 2,
       "version_minor": 0,
       "model_id": "37ba8554bd2d4af39c9e9bb1c12b7bdd"
      }
     },
     "metadata": {},
     "output_type": "display_data"
    },
    {
     "data": {
      "text/plain": [
       "  0%|          | 0/3 [00:00<?, ?it/s]"
      ],
      "application/vnd.jupyter.widget-view+json": {
       "version_major": 2,
       "version_minor": 0,
       "model_id": "7b187d8b59f041b3948ebdad1d21d585"
      }
     },
     "metadata": {},
     "output_type": "display_data"
    },
    {
     "name": "stdout",
     "output_type": "stream",
     "text": [
      "\u001B[1m\u001B[92m Epoch 345 Train DiceLoss 0.17639812640845776 Val DiceLoss 0.18080768982569376 Train dice_score 0.8236018717288971 Val dice_score 0.8191923101743063\n"
     ]
    },
    {
     "data": {
      "text/plain": [
       "  0%|          | 0/8 [00:00<?, ?it/s]"
      ],
      "application/vnd.jupyter.widget-view+json": {
       "version_major": 2,
       "version_minor": 0,
       "model_id": "2c9b29827bf74dffa901adb905194cf0"
      }
     },
     "metadata": {},
     "output_type": "display_data"
    },
    {
     "data": {
      "text/plain": [
       "  0%|          | 0/3 [00:00<?, ?it/s]"
      ],
      "application/vnd.jupyter.widget-view+json": {
       "version_major": 2,
       "version_minor": 0,
       "model_id": "9970b6985a8040b7b28b30d1af261cc1"
      }
     },
     "metadata": {},
     "output_type": "display_data"
    },
    {
     "name": "stdout",
     "output_type": "stream",
     "text": [
      "\u001B[1m\u001B[92m Epoch 346 Train DiceLoss 0.18755176477134228 Val DiceLoss 0.1864380935827891 Train dice_score 0.8124482408165932 Val dice_score 0.8135619163513184\n"
     ]
    },
    {
     "data": {
      "text/plain": [
       "  0%|          | 0/8 [00:00<?, ?it/s]"
      ],
      "application/vnd.jupyter.widget-view+json": {
       "version_major": 2,
       "version_minor": 0,
       "model_id": "5071b3a43cc8481aa35debd7b547bc03"
      }
     },
     "metadata": {},
     "output_type": "display_data"
    },
    {
     "data": {
      "text/plain": [
       "  0%|          | 0/3 [00:00<?, ?it/s]"
      ],
      "application/vnd.jupyter.widget-view+json": {
       "version_major": 2,
       "version_minor": 0,
       "model_id": "7b9b8b049fd543f183a4dd6c7e6456b4"
      }
     },
     "metadata": {},
     "output_type": "display_data"
    },
    {
     "name": "stdout",
     "output_type": "stream",
     "text": [
      "MODEL SAVED\n",
      "\u001B[1m\u001B[92m Epoch 347 Train DiceLoss 0.18011610582470894 Val DiceLoss 0.16340671479701996 Train dice_score 0.819883905351162 Val dice_score 0.8365932703018188\n"
     ]
    },
    {
     "data": {
      "text/plain": [
       "  0%|          | 0/8 [00:00<?, ?it/s]"
      ],
      "application/vnd.jupyter.widget-view+json": {
       "version_major": 2,
       "version_minor": 0,
       "model_id": "fb927abfbbaf487b8a0a30a910c47bee"
      }
     },
     "metadata": {},
     "output_type": "display_data"
    },
    {
     "data": {
      "text/plain": [
       "  0%|          | 0/3 [00:00<?, ?it/s]"
      ],
      "application/vnd.jupyter.widget-view+json": {
       "version_major": 2,
       "version_minor": 0,
       "model_id": "cdd55f9c232049c6bbc50db6394a5f91"
      }
     },
     "metadata": {},
     "output_type": "display_data"
    },
    {
     "name": "stdout",
     "output_type": "stream",
     "text": [
      "MODEL SAVED\n",
      "\u001B[1m\u001B[92m Epoch 348 Train DiceLoss 0.17644383944571018 Val DiceLoss 0.1616058647632599 Train dice_score 0.8235561549663544 Val dice_score 0.8383941253026327\n"
     ]
    },
    {
     "data": {
      "text/plain": [
       "  0%|          | 0/8 [00:00<?, ?it/s]"
      ],
      "application/vnd.jupyter.widget-view+json": {
       "version_major": 2,
       "version_minor": 0,
       "model_id": "dff8a8c0b107483a835112242f5cb232"
      }
     },
     "metadata": {},
     "output_type": "display_data"
    },
    {
     "data": {
      "text/plain": [
       "  0%|          | 0/3 [00:00<?, ?it/s]"
      ],
      "application/vnd.jupyter.widget-view+json": {
       "version_major": 2,
       "version_minor": 0,
       "model_id": "17b323f5bf1140b7b4c9b2d33634c551"
      }
     },
     "metadata": {},
     "output_type": "display_data"
    },
    {
     "name": "stdout",
     "output_type": "stream",
     "text": [
      "\u001B[1m\u001B[92m Epoch 349 Train DiceLoss 0.17224380746483803 Val DiceLoss 0.17228983839352927 Train dice_score 0.8277561962604523 Val dice_score 0.8277101516723633\n"
     ]
    },
    {
     "data": {
      "text/plain": [
       "  0%|          | 0/8 [00:00<?, ?it/s]"
      ],
      "application/vnd.jupyter.widget-view+json": {
       "version_major": 2,
       "version_minor": 0,
       "model_id": "82ba9bceef264b1296af1e340df95127"
      }
     },
     "metadata": {},
     "output_type": "display_data"
    },
    {
     "data": {
      "text/plain": [
       "  0%|          | 0/3 [00:00<?, ?it/s]"
      ],
      "application/vnd.jupyter.widget-view+json": {
       "version_major": 2,
       "version_minor": 0,
       "model_id": "82bb2ba6183f46db9111c58d883129b4"
      }
     },
     "metadata": {},
     "output_type": "display_data"
    },
    {
     "name": "stdout",
     "output_type": "stream",
     "text": [
      "\u001B[1m\u001B[92m Epoch 350 Train DiceLoss 0.17131490260362625 Val DiceLoss 0.16494464377562204 Train dice_score 0.8286851048469543 Val dice_score 0.8350553711255392\n"
     ]
    },
    {
     "data": {
      "text/plain": [
       "  0%|          | 0/8 [00:00<?, ?it/s]"
      ],
      "application/vnd.jupyter.widget-view+json": {
       "version_major": 2,
       "version_minor": 0,
       "model_id": "deffc56248fd487da5188433273fdea8"
      }
     },
     "metadata": {},
     "output_type": "display_data"
    },
    {
     "data": {
      "text/plain": [
       "  0%|          | 0/3 [00:00<?, ?it/s]"
      ],
      "application/vnd.jupyter.widget-view+json": {
       "version_major": 2,
       "version_minor": 0,
       "model_id": "db3bfd8c7f5841428af4ee5e09ef8f31"
      }
     },
     "metadata": {},
     "output_type": "display_data"
    },
    {
     "name": "stdout",
     "output_type": "stream",
     "text": [
      "\u001B[1m\u001B[92m Epoch 351 Train DiceLoss 0.1776104774326086 Val DiceLoss 0.18091930449008942 Train dice_score 0.8223895281553268 Val dice_score 0.8190806905428568\n"
     ]
    },
    {
     "data": {
      "text/plain": [
       "  0%|          | 0/8 [00:00<?, ?it/s]"
      ],
      "application/vnd.jupyter.widget-view+json": {
       "version_major": 2,
       "version_minor": 0,
       "model_id": "f77df7a173bf45aaacddba821bd92cba"
      }
     },
     "metadata": {},
     "output_type": "display_data"
    },
    {
     "data": {
      "text/plain": [
       "  0%|          | 0/3 [00:00<?, ?it/s]"
      ],
      "application/vnd.jupyter.widget-view+json": {
       "version_major": 2,
       "version_minor": 0,
       "model_id": "fc8c56dd338f4f65af82aae527743e22"
      }
     },
     "metadata": {},
     "output_type": "display_data"
    },
    {
     "name": "stdout",
     "output_type": "stream",
     "text": [
      "\u001B[1m\u001B[92m Epoch 352 Train DiceLoss 0.1769882384687662 Val DiceLoss 0.17215419312318167 Train dice_score 0.8230117782950401 Val dice_score 0.8278458118438721\n"
     ]
    },
    {
     "data": {
      "text/plain": [
       "  0%|          | 0/8 [00:00<?, ?it/s]"
      ],
      "application/vnd.jupyter.widget-view+json": {
       "version_major": 2,
       "version_minor": 0,
       "model_id": "e6bae2794f8148cda9ea083f9f137fed"
      }
     },
     "metadata": {},
     "output_type": "display_data"
    },
    {
     "data": {
      "text/plain": [
       "  0%|          | 0/3 [00:00<?, ?it/s]"
      ],
      "application/vnd.jupyter.widget-view+json": {
       "version_major": 2,
       "version_minor": 0,
       "model_id": "0dca9545691d496f8a6cde8991a72801"
      }
     },
     "metadata": {},
     "output_type": "display_data"
    },
    {
     "name": "stdout",
     "output_type": "stream",
     "text": [
      "\u001B[1m\u001B[92m Epoch 353 Train DiceLoss 0.17669148929417133 Val DiceLoss 0.16992494960625967 Train dice_score 0.8233085125684738 Val dice_score 0.8300750652949015\n"
     ]
    },
    {
     "data": {
      "text/plain": [
       "  0%|          | 0/8 [00:00<?, ?it/s]"
      ],
      "application/vnd.jupyter.widget-view+json": {
       "version_major": 2,
       "version_minor": 0,
       "model_id": "579b50707a8c4b4cbfd8b65c006a4fcb"
      }
     },
     "metadata": {},
     "output_type": "display_data"
    },
    {
     "data": {
      "text/plain": [
       "  0%|          | 0/3 [00:00<?, ?it/s]"
      ],
      "application/vnd.jupyter.widget-view+json": {
       "version_major": 2,
       "version_minor": 0,
       "model_id": "7496cb63e5704874a3f153e5191abe57"
      }
     },
     "metadata": {},
     "output_type": "display_data"
    },
    {
     "name": "stdout",
     "output_type": "stream",
     "text": [
      "\u001B[1m\u001B[92m Epoch 354 Train DiceLoss 0.17374122329056263 Val DiceLoss 0.19654053449630737 Train dice_score 0.8262587711215019 Val dice_score 0.8034594853719076\n"
     ]
    },
    {
     "data": {
      "text/plain": [
       "  0%|          | 0/8 [00:00<?, ?it/s]"
      ],
      "application/vnd.jupyter.widget-view+json": {
       "version_major": 2,
       "version_minor": 0,
       "model_id": "20e15a0fb9904b2ab26256c0080c1971"
      }
     },
     "metadata": {},
     "output_type": "display_data"
    },
    {
     "data": {
      "text/plain": [
       "  0%|          | 0/3 [00:00<?, ?it/s]"
      ],
      "application/vnd.jupyter.widget-view+json": {
       "version_major": 2,
       "version_minor": 0,
       "model_id": "3f6478d6a25a4c26bf733ee3c17910e5"
      }
     },
     "metadata": {},
     "output_type": "display_data"
    },
    {
     "name": "stdout",
     "output_type": "stream",
     "text": [
      "\u001B[1m\u001B[92m Epoch 355 Train DiceLoss 0.17724579200148582 Val DiceLoss 0.17195633053779602 Train dice_score 0.8227542042732239 Val dice_score 0.8280436595280966\n"
     ]
    },
    {
     "data": {
      "text/plain": [
       "  0%|          | 0/8 [00:00<?, ?it/s]"
      ],
      "application/vnd.jupyter.widget-view+json": {
       "version_major": 2,
       "version_minor": 0,
       "model_id": "61a010830670458397bb5f66e6c2e4f5"
      }
     },
     "metadata": {},
     "output_type": "display_data"
    },
    {
     "data": {
      "text/plain": [
       "  0%|          | 0/3 [00:00<?, ?it/s]"
      ],
      "application/vnd.jupyter.widget-view+json": {
       "version_major": 2,
       "version_minor": 0,
       "model_id": "fe62db9f31c74e8ea64335c1f72abdf3"
      }
     },
     "metadata": {},
     "output_type": "display_data"
    },
    {
     "name": "stdout",
     "output_type": "stream",
     "text": [
      "\u001B[1m\u001B[92m Epoch 356 Train DiceLoss 0.17439337074756622 Val DiceLoss 0.16168089707692465 Train dice_score 0.8256066367030144 Val dice_score 0.8383191227912903\n"
     ]
    },
    {
     "data": {
      "text/plain": [
       "  0%|          | 0/8 [00:00<?, ?it/s]"
      ],
      "application/vnd.jupyter.widget-view+json": {
       "version_major": 2,
       "version_minor": 0,
       "model_id": "13cb19c225ec4779a3c4c1f5fd25f9a7"
      }
     },
     "metadata": {},
     "output_type": "display_data"
    },
    {
     "data": {
      "text/plain": [
       "  0%|          | 0/3 [00:00<?, ?it/s]"
      ],
      "application/vnd.jupyter.widget-view+json": {
       "version_major": 2,
       "version_minor": 0,
       "model_id": "f13e54bdbcf14d8fafee6ccbf1d5b21a"
      }
     },
     "metadata": {},
     "output_type": "display_data"
    },
    {
     "name": "stdout",
     "output_type": "stream",
     "text": [
      "\u001B[1m\u001B[92m Epoch 357 Train DiceLoss 0.1676493790000677 Val DiceLoss 0.17624658842881522 Train dice_score 0.8323506340384483 Val dice_score 0.8237534165382385\n"
     ]
    },
    {
     "data": {
      "text/plain": [
       "  0%|          | 0/8 [00:00<?, ?it/s]"
      ],
      "application/vnd.jupyter.widget-view+json": {
       "version_major": 2,
       "version_minor": 0,
       "model_id": "2691174b5647457dab5cdb02af0a09de"
      }
     },
     "metadata": {},
     "output_type": "display_data"
    },
    {
     "data": {
      "text/plain": [
       "  0%|          | 0/3 [00:00<?, ?it/s]"
      ],
      "application/vnd.jupyter.widget-view+json": {
       "version_major": 2,
       "version_minor": 0,
       "model_id": "d2af4704fb834f5f871090f0cf8c3227"
      }
     },
     "metadata": {},
     "output_type": "display_data"
    },
    {
     "name": "stdout",
     "output_type": "stream",
     "text": [
      "\u001B[1m\u001B[92m Epoch 358 Train DiceLoss 0.1804173942655325 Val DiceLoss 0.18836162984371185 Train dice_score 0.819582611322403 Val dice_score 0.8116383751233419\n"
     ]
    },
    {
     "data": {
      "text/plain": [
       "  0%|          | 0/8 [00:00<?, ?it/s]"
      ],
      "application/vnd.jupyter.widget-view+json": {
       "version_major": 2,
       "version_minor": 0,
       "model_id": "a852711f7810406ca05335436d40452d"
      }
     },
     "metadata": {},
     "output_type": "display_data"
    },
    {
     "data": {
      "text/plain": [
       "  0%|          | 0/3 [00:00<?, ?it/s]"
      ],
      "application/vnd.jupyter.widget-view+json": {
       "version_major": 2,
       "version_minor": 0,
       "model_id": "83ef8a127a344e968fc5c2709772b761"
      }
     },
     "metadata": {},
     "output_type": "display_data"
    },
    {
     "name": "stdout",
     "output_type": "stream",
     "text": [
      "\u001B[1m\u001B[92m Epoch 359 Train DiceLoss 0.17978405952453613 Val DiceLoss 0.16859185695648193 Train dice_score 0.8202159404754639 Val dice_score 0.8314081231753031\n"
     ]
    },
    {
     "data": {
      "text/plain": [
       "  0%|          | 0/8 [00:00<?, ?it/s]"
      ],
      "application/vnd.jupyter.widget-view+json": {
       "version_major": 2,
       "version_minor": 0,
       "model_id": "f6b8dfe241684753b65249255fae930a"
      }
     },
     "metadata": {},
     "output_type": "display_data"
    },
    {
     "data": {
      "text/plain": [
       "  0%|          | 0/3 [00:00<?, ?it/s]"
      ],
      "application/vnd.jupyter.widget-view+json": {
       "version_major": 2,
       "version_minor": 0,
       "model_id": "3acdf78d885e4b0fb48d497cdc21cebd"
      }
     },
     "metadata": {},
     "output_type": "display_data"
    },
    {
     "name": "stdout",
     "output_type": "stream",
     "text": [
      "\u001B[1m\u001B[92m Epoch 360 Train DiceLoss 0.17976076155900955 Val DiceLoss 0.17068053781986237 Train dice_score 0.820239245891571 Val dice_score 0.8293194572130839\n"
     ]
    },
    {
     "data": {
      "text/plain": [
       "  0%|          | 0/8 [00:00<?, ?it/s]"
      ],
      "application/vnd.jupyter.widget-view+json": {
       "version_major": 2,
       "version_minor": 0,
       "model_id": "91780e0025f345d58e7289e2f571ea1a"
      }
     },
     "metadata": {},
     "output_type": "display_data"
    },
    {
     "data": {
      "text/plain": [
       "  0%|          | 0/3 [00:00<?, ?it/s]"
      ],
      "application/vnd.jupyter.widget-view+json": {
       "version_major": 2,
       "version_minor": 0,
       "model_id": "049fcfed5cf0480cb268b67c00a3162a"
      }
     },
     "metadata": {},
     "output_type": "display_data"
    },
    {
     "name": "stdout",
     "output_type": "stream",
     "text": [
      "\u001B[1m\u001B[92m Epoch 361 Train DiceLoss 0.17709825187921524 Val DiceLoss 0.16427714129288992 Train dice_score 0.8229017481207848 Val dice_score 0.8357228636741638\n"
     ]
    },
    {
     "data": {
      "text/plain": [
       "  0%|          | 0/8 [00:00<?, ?it/s]"
      ],
      "application/vnd.jupyter.widget-view+json": {
       "version_major": 2,
       "version_minor": 0,
       "model_id": "6486ce7277a54ce1812d2e313cb44996"
      }
     },
     "metadata": {},
     "output_type": "display_data"
    },
    {
     "data": {
      "text/plain": [
       "  0%|          | 0/3 [00:00<?, ?it/s]"
      ],
      "application/vnd.jupyter.widget-view+json": {
       "version_major": 2,
       "version_minor": 0,
       "model_id": "2a7de5cf20304092b5a0fbdae660a6af"
      }
     },
     "metadata": {},
     "output_type": "display_data"
    },
    {
     "name": "stdout",
     "output_type": "stream",
     "text": [
      "\u001B[1m\u001B[92m Epoch 362 Train DiceLoss 0.16956917196512222 Val DiceLoss 0.17454058428605398 Train dice_score 0.8304308205842972 Val dice_score 0.8254594008127848\n"
     ]
    },
    {
     "data": {
      "text/plain": [
       "  0%|          | 0/8 [00:00<?, ?it/s]"
      ],
      "application/vnd.jupyter.widget-view+json": {
       "version_major": 2,
       "version_minor": 0,
       "model_id": "bb732648641f44e2b019dd55f4059942"
      }
     },
     "metadata": {},
     "output_type": "display_data"
    },
    {
     "data": {
      "text/plain": [
       "  0%|          | 0/3 [00:00<?, ?it/s]"
      ],
      "application/vnd.jupyter.widget-view+json": {
       "version_major": 2,
       "version_minor": 0,
       "model_id": "ca09903bc12b4b1a86a280c7681e1e0e"
      }
     },
     "metadata": {},
     "output_type": "display_data"
    },
    {
     "name": "stdout",
     "output_type": "stream",
     "text": [
      "\u001B[1m\u001B[92m Epoch 363 Train DiceLoss 0.18549539521336555 Val DiceLoss 0.1845442553361257 Train dice_score 0.8145046085119247 Val dice_score 0.8154557347297668\n"
     ]
    },
    {
     "data": {
      "text/plain": [
       "  0%|          | 0/8 [00:00<?, ?it/s]"
      ],
      "application/vnd.jupyter.widget-view+json": {
       "version_major": 2,
       "version_minor": 0,
       "model_id": "2b7d98dbbdef4e50b81f3e481746a05a"
      }
     },
     "metadata": {},
     "output_type": "display_data"
    },
    {
     "data": {
      "text/plain": [
       "  0%|          | 0/3 [00:00<?, ?it/s]"
      ],
      "application/vnd.jupyter.widget-view+json": {
       "version_major": 2,
       "version_minor": 0,
       "model_id": "e6fe94f420f44dcfa199dc432d121658"
      }
     },
     "metadata": {},
     "output_type": "display_data"
    },
    {
     "name": "stdout",
     "output_type": "stream",
     "text": [
      "\u001B[1m\u001B[92m Epoch 364 Train DiceLoss 0.1712939813733101 Val DiceLoss 0.1624083568652471 Train dice_score 0.8287060335278511 Val dice_score 0.8375916282335917\n"
     ]
    },
    {
     "data": {
      "text/plain": [
       "  0%|          | 0/8 [00:00<?, ?it/s]"
      ],
      "application/vnd.jupyter.widget-view+json": {
       "version_major": 2,
       "version_minor": 0,
       "model_id": "3bfd175c26df44f9b73f9244f1eae2b2"
      }
     },
     "metadata": {},
     "output_type": "display_data"
    },
    {
     "data": {
      "text/plain": [
       "  0%|          | 0/3 [00:00<?, ?it/s]"
      ],
      "application/vnd.jupyter.widget-view+json": {
       "version_major": 2,
       "version_minor": 0,
       "model_id": "a2d3293e73304266908f6506ffe6e9b2"
      }
     },
     "metadata": {},
     "output_type": "display_data"
    },
    {
     "name": "stdout",
     "output_type": "stream",
     "text": [
      "\u001B[1m\u001B[92m Epoch 365 Train DiceLoss 0.18554981797933578 Val DiceLoss 0.17358225087324777 Train dice_score 0.8144501820206642 Val dice_score 0.8264177441596985\n"
     ]
    },
    {
     "data": {
      "text/plain": [
       "  0%|          | 0/8 [00:00<?, ?it/s]"
      ],
      "application/vnd.jupyter.widget-view+json": {
       "version_major": 2,
       "version_minor": 0,
       "model_id": "e46d018044494f4580bcfd1b6aa1fe32"
      }
     },
     "metadata": {},
     "output_type": "display_data"
    },
    {
     "data": {
      "text/plain": [
       "  0%|          | 0/3 [00:00<?, ?it/s]"
      ],
      "application/vnd.jupyter.widget-view+json": {
       "version_major": 2,
       "version_minor": 0,
       "model_id": "7d18dafa7f70430fbe1e82ccc655c1d1"
      }
     },
     "metadata": {},
     "output_type": "display_data"
    },
    {
     "name": "stdout",
     "output_type": "stream",
     "text": [
      "\u001B[1m\u001B[92m Epoch 366 Train DiceLoss 0.1712384931743145 Val DiceLoss 0.16883419454097748 Train dice_score 0.8287615031003952 Val dice_score 0.8311658104260763\n"
     ]
    },
    {
     "data": {
      "text/plain": [
       "  0%|          | 0/8 [00:00<?, ?it/s]"
      ],
      "application/vnd.jupyter.widget-view+json": {
       "version_major": 2,
       "version_minor": 0,
       "model_id": "13938440e9f6424683e6ddbbddc7b3a3"
      }
     },
     "metadata": {},
     "output_type": "display_data"
    },
    {
     "data": {
      "text/plain": [
       "  0%|          | 0/3 [00:00<?, ?it/s]"
      ],
      "application/vnd.jupyter.widget-view+json": {
       "version_major": 2,
       "version_minor": 0,
       "model_id": "413215ffc2474629bb395ef98b2ba4db"
      }
     },
     "metadata": {},
     "output_type": "display_data"
    },
    {
     "name": "stdout",
     "output_type": "stream",
     "text": [
      "\u001B[1m\u001B[92m Epoch 367 Train DiceLoss 0.1766333095729351 Val DiceLoss 0.17923898994922638 Train dice_score 0.8233666941523552 Val dice_score 0.8207610050837199\n"
     ]
    },
    {
     "data": {
      "text/plain": [
       "  0%|          | 0/8 [00:00<?, ?it/s]"
      ],
      "application/vnd.jupyter.widget-view+json": {
       "version_major": 2,
       "version_minor": 0,
       "model_id": "df1cd3156628492c9f325d38cac17876"
      }
     },
     "metadata": {},
     "output_type": "display_data"
    },
    {
     "data": {
      "text/plain": [
       "  0%|          | 0/3 [00:00<?, ?it/s]"
      ],
      "application/vnd.jupyter.widget-view+json": {
       "version_major": 2,
       "version_minor": 0,
       "model_id": "88a3413b7f684af285e272c26470171d"
      }
     },
     "metadata": {},
     "output_type": "display_data"
    },
    {
     "name": "stdout",
     "output_type": "stream",
     "text": [
      "\u001B[1m\u001B[92m Epoch 368 Train DiceLoss 0.17358313873410225 Val DiceLoss 0.16917113463083902 Train dice_score 0.826416864991188 Val dice_score 0.830828845500946\n"
     ]
    },
    {
     "data": {
      "text/plain": [
       "  0%|          | 0/8 [00:00<?, ?it/s]"
      ],
      "application/vnd.jupyter.widget-view+json": {
       "version_major": 2,
       "version_minor": 0,
       "model_id": "f54d5290423b40b0a8f277c3a3944568"
      }
     },
     "metadata": {},
     "output_type": "display_data"
    },
    {
     "data": {
      "text/plain": [
       "  0%|          | 0/3 [00:00<?, ?it/s]"
      ],
      "application/vnd.jupyter.widget-view+json": {
       "version_major": 2,
       "version_minor": 0,
       "model_id": "650ab6e3f90e47f5af1668a5fc8dce09"
      }
     },
     "metadata": {},
     "output_type": "display_data"
    },
    {
     "name": "stdout",
     "output_type": "stream",
     "text": [
      "\u001B[1m\u001B[92m Epoch 369 Train DiceLoss 0.16372011601924896 Val DiceLoss 0.17749324440956116 Train dice_score 0.8362798914313316 Val dice_score 0.8225067655245463\n"
     ]
    },
    {
     "data": {
      "text/plain": [
       "  0%|          | 0/8 [00:00<?, ?it/s]"
      ],
      "application/vnd.jupyter.widget-view+json": {
       "version_major": 2,
       "version_minor": 0,
       "model_id": "acd519eaa9d9453fa92a9d64af771279"
      }
     },
     "metadata": {},
     "output_type": "display_data"
    },
    {
     "data": {
      "text/plain": [
       "  0%|          | 0/3 [00:00<?, ?it/s]"
      ],
      "application/vnd.jupyter.widget-view+json": {
       "version_major": 2,
       "version_minor": 0,
       "model_id": "b2b223cb553a4c9d94c80734f7d9bb97"
      }
     },
     "metadata": {},
     "output_type": "display_data"
    },
    {
     "name": "stdout",
     "output_type": "stream",
     "text": [
      "\u001B[1m\u001B[92m Epoch 370 Train DiceLoss 0.17286662198603153 Val DiceLoss 0.17772305011749268 Train dice_score 0.8271333649754524 Val dice_score 0.8222769300142924\n"
     ]
    },
    {
     "data": {
      "text/plain": [
       "  0%|          | 0/8 [00:00<?, ?it/s]"
      ],
      "application/vnd.jupyter.widget-view+json": {
       "version_major": 2,
       "version_minor": 0,
       "model_id": "1e46d94827df4bf1a3f31b70eccedc8d"
      }
     },
     "metadata": {},
     "output_type": "display_data"
    },
    {
     "data": {
      "text/plain": [
       "  0%|          | 0/3 [00:00<?, ?it/s]"
      ],
      "application/vnd.jupyter.widget-view+json": {
       "version_major": 2,
       "version_minor": 0,
       "model_id": "20e334be576a4683966f99c5a0e784c7"
      }
     },
     "metadata": {},
     "output_type": "display_data"
    },
    {
     "name": "stdout",
     "output_type": "stream",
     "text": [
      "\u001B[1m\u001B[92m Epoch 371 Train DiceLoss 0.1706942655146122 Val DiceLoss 0.16720442473888397 Train dice_score 0.8293057382106781 Val dice_score 0.8327955802281698\n"
     ]
    },
    {
     "data": {
      "text/plain": [
       "  0%|          | 0/8 [00:00<?, ?it/s]"
      ],
      "application/vnd.jupyter.widget-view+json": {
       "version_major": 2,
       "version_minor": 0,
       "model_id": "9da61634a48d474e9c07357699eecbe0"
      }
     },
     "metadata": {},
     "output_type": "display_data"
    },
    {
     "data": {
      "text/plain": [
       "  0%|          | 0/3 [00:00<?, ?it/s]"
      ],
      "application/vnd.jupyter.widget-view+json": {
       "version_major": 2,
       "version_minor": 0,
       "model_id": "afe43c093d304bb2931961f5b901de21"
      }
     },
     "metadata": {},
     "output_type": "display_data"
    },
    {
     "name": "stdout",
     "output_type": "stream",
     "text": [
      "\u001B[1m\u001B[92m Epoch 372 Train DiceLoss 0.1739761158823967 Val DiceLoss 0.17748652895291647 Train dice_score 0.8260238915681839 Val dice_score 0.8225134611129761\n"
     ]
    },
    {
     "data": {
      "text/plain": [
       "  0%|          | 0/8 [00:00<?, ?it/s]"
      ],
      "application/vnd.jupyter.widget-view+json": {
       "version_major": 2,
       "version_minor": 0,
       "model_id": "273f40dc490947739a04c16f8903eb1a"
      }
     },
     "metadata": {},
     "output_type": "display_data"
    },
    {
     "data": {
      "text/plain": [
       "  0%|          | 0/3 [00:00<?, ?it/s]"
      ],
      "application/vnd.jupyter.widget-view+json": {
       "version_major": 2,
       "version_minor": 0,
       "model_id": "dafff9d4fd7948328c9a9e8d4c99b128"
      }
     },
     "metadata": {},
     "output_type": "display_data"
    },
    {
     "name": "stdout",
     "output_type": "stream",
     "text": [
      "\u001B[1m\u001B[92m Epoch 373 Train DiceLoss 0.17200283333659172 Val DiceLoss 0.16863005856672922 Train dice_score 0.8279971703886986 Val dice_score 0.831369956334432\n"
     ]
    },
    {
     "data": {
      "text/plain": [
       "  0%|          | 0/8 [00:00<?, ?it/s]"
      ],
      "application/vnd.jupyter.widget-view+json": {
       "version_major": 2,
       "version_minor": 0,
       "model_id": "18761f5ba38f4ebb9a7d28e1d6677207"
      }
     },
     "metadata": {},
     "output_type": "display_data"
    },
    {
     "data": {
      "text/plain": [
       "  0%|          | 0/3 [00:00<?, ?it/s]"
      ],
      "application/vnd.jupyter.widget-view+json": {
       "version_major": 2,
       "version_minor": 0,
       "model_id": "7aabddc18e954420a394a5ba39707824"
      }
     },
     "metadata": {},
     "output_type": "display_data"
    },
    {
     "name": "stdout",
     "output_type": "stream",
     "text": [
      "\u001B[1m\u001B[92m Epoch 374 Train DiceLoss 0.17309017106890678 Val DiceLoss 0.18492728471755981 Train dice_score 0.8269098252058029 Val dice_score 0.8150727152824402\n"
     ]
    },
    {
     "data": {
      "text/plain": [
       "  0%|          | 0/8 [00:00<?, ?it/s]"
      ],
      "application/vnd.jupyter.widget-view+json": {
       "version_major": 2,
       "version_minor": 0,
       "model_id": "99c7e51e160d4e1cbe8ee49ab5cd61d1"
      }
     },
     "metadata": {},
     "output_type": "display_data"
    },
    {
     "data": {
      "text/plain": [
       "  0%|          | 0/3 [00:00<?, ?it/s]"
      ],
      "application/vnd.jupyter.widget-view+json": {
       "version_major": 2,
       "version_minor": 0,
       "model_id": "75e930cdb50e404eb7d13d05500928e4"
      }
     },
     "metadata": {},
     "output_type": "display_data"
    },
    {
     "name": "stdout",
     "output_type": "stream",
     "text": [
      "\u001B[1m\u001B[92m Epoch 375 Train DiceLoss 0.17565863393247128 Val DiceLoss 0.18120584388573965 Train dice_score 0.8243413642048836 Val dice_score 0.8187941511472067\n"
     ]
    },
    {
     "data": {
      "text/plain": [
       "  0%|          | 0/8 [00:00<?, ?it/s]"
      ],
      "application/vnd.jupyter.widget-view+json": {
       "version_major": 2,
       "version_minor": 0,
       "model_id": "4fd8604ab4d741d39d4bf7ed459eb32c"
      }
     },
     "metadata": {},
     "output_type": "display_data"
    },
    {
     "data": {
      "text/plain": [
       "  0%|          | 0/3 [00:00<?, ?it/s]"
      ],
      "application/vnd.jupyter.widget-view+json": {
       "version_major": 2,
       "version_minor": 0,
       "model_id": "3bb0060c3f824520b0f1db9cd34753c3"
      }
     },
     "metadata": {},
     "output_type": "display_data"
    },
    {
     "name": "stdout",
     "output_type": "stream",
     "text": [
      "\u001B[1m\u001B[92m Epoch 376 Train DiceLoss 0.17097705230116844 Val DiceLoss 0.17102424303690592 Train dice_score 0.8290229514241219 Val dice_score 0.8289757569630941\n"
     ]
    },
    {
     "data": {
      "text/plain": [
       "  0%|          | 0/8 [00:00<?, ?it/s]"
      ],
      "application/vnd.jupyter.widget-view+json": {
       "version_major": 2,
       "version_minor": 0,
       "model_id": "1640cf895f7e4657a7f51d0c170a23ed"
      }
     },
     "metadata": {},
     "output_type": "display_data"
    },
    {
     "data": {
      "text/plain": [
       "  0%|          | 0/3 [00:00<?, ?it/s]"
      ],
      "application/vnd.jupyter.widget-view+json": {
       "version_major": 2,
       "version_minor": 0,
       "model_id": "ef18081af4c442d59a11523b389e7741"
      }
     },
     "metadata": {},
     "output_type": "display_data"
    },
    {
     "name": "stdout",
     "output_type": "stream",
     "text": [
      "\u001B[1m\u001B[92m Epoch 377 Train DiceLoss 0.16893352009356022 Val DiceLoss 0.16336667040983835 Train dice_score 0.8310664817690849 Val dice_score 0.8366333246231079\n"
     ]
    },
    {
     "data": {
      "text/plain": [
       "  0%|          | 0/8 [00:00<?, ?it/s]"
      ],
      "application/vnd.jupyter.widget-view+json": {
       "version_major": 2,
       "version_minor": 0,
       "model_id": "c1a468d7f4024f1a8d86c0b58608d101"
      }
     },
     "metadata": {},
     "output_type": "display_data"
    },
    {
     "data": {
      "text/plain": [
       "  0%|          | 0/3 [00:00<?, ?it/s]"
      ],
      "application/vnd.jupyter.widget-view+json": {
       "version_major": 2,
       "version_minor": 0,
       "model_id": "e3c37a607a4b4f63a7f74fd7d62eeaed"
      }
     },
     "metadata": {},
     "output_type": "display_data"
    },
    {
     "name": "stdout",
     "output_type": "stream",
     "text": [
      "\u001B[1m\u001B[92m Epoch 378 Train DiceLoss 0.16825971938669682 Val DiceLoss 0.17103653152783713 Train dice_score 0.8317402899265289 Val dice_score 0.8289634585380554\n"
     ]
    },
    {
     "data": {
      "text/plain": [
       "  0%|          | 0/8 [00:00<?, ?it/s]"
      ],
      "application/vnd.jupyter.widget-view+json": {
       "version_major": 2,
       "version_minor": 0,
       "model_id": "b65b6ac9967143b0b36eb0329c5d5060"
      }
     },
     "metadata": {},
     "output_type": "display_data"
    },
    {
     "data": {
      "text/plain": [
       "  0%|          | 0/3 [00:00<?, ?it/s]"
      ],
      "application/vnd.jupyter.widget-view+json": {
       "version_major": 2,
       "version_minor": 0,
       "model_id": "abe9ff1d830d4e1297e5afb226a7fbc2"
      }
     },
     "metadata": {},
     "output_type": "display_data"
    },
    {
     "name": "stdout",
     "output_type": "stream",
     "text": [
      "\u001B[1m\u001B[92m Epoch 379 Train DiceLoss 0.1775241158902645 Val DiceLoss 0.17026720941066742 Train dice_score 0.8224758878350258 Val dice_score 0.8297327756881714\n"
     ]
    },
    {
     "data": {
      "text/plain": [
       "  0%|          | 0/8 [00:00<?, ?it/s]"
      ],
      "application/vnd.jupyter.widget-view+json": {
       "version_major": 2,
       "version_minor": 0,
       "model_id": "48c35e1f7ae44512aa0385d39265231b"
      }
     },
     "metadata": {},
     "output_type": "display_data"
    },
    {
     "data": {
      "text/plain": [
       "  0%|          | 0/3 [00:00<?, ?it/s]"
      ],
      "application/vnd.jupyter.widget-view+json": {
       "version_major": 2,
       "version_minor": 0,
       "model_id": "86b69bb9931c4d1789c6db00756ec4f2"
      }
     },
     "metadata": {},
     "output_type": "display_data"
    },
    {
     "name": "stdout",
     "output_type": "stream",
     "text": [
      "\u001B[1m\u001B[92m Epoch 380 Train DiceLoss 0.17012490145862103 Val DiceLoss 0.16777840753396353 Train dice_score 0.8298751041293144 Val dice_score 0.8322216073671976\n"
     ]
    },
    {
     "data": {
      "text/plain": [
       "  0%|          | 0/8 [00:00<?, ?it/s]"
      ],
      "application/vnd.jupyter.widget-view+json": {
       "version_major": 2,
       "version_minor": 0,
       "model_id": "c9c9990b09f14331bd9c4b9d07b357b3"
      }
     },
     "metadata": {},
     "output_type": "display_data"
    },
    {
     "data": {
      "text/plain": [
       "  0%|          | 0/3 [00:00<?, ?it/s]"
      ],
      "application/vnd.jupyter.widget-view+json": {
       "version_major": 2,
       "version_minor": 0,
       "model_id": "636c8571891541aa9254b499094d1a80"
      }
     },
     "metadata": {},
     "output_type": "display_data"
    },
    {
     "name": "stdout",
     "output_type": "stream",
     "text": [
      "\u001B[1m\u001B[92m Epoch 381 Train DiceLoss 0.1682501621544361 Val DiceLoss 0.16994808614253998 Train dice_score 0.8317498415708542 Val dice_score 0.8300519386927286\n"
     ]
    },
    {
     "data": {
      "text/plain": [
       "  0%|          | 0/8 [00:00<?, ?it/s]"
      ],
      "application/vnd.jupyter.widget-view+json": {
       "version_major": 2,
       "version_minor": 0,
       "model_id": "877c55e1b7e747b6857dfbd86c40aff7"
      }
     },
     "metadata": {},
     "output_type": "display_data"
    },
    {
     "data": {
      "text/plain": [
       "  0%|          | 0/3 [00:00<?, ?it/s]"
      ],
      "application/vnd.jupyter.widget-view+json": {
       "version_major": 2,
       "version_minor": 0,
       "model_id": "a5b2bb0ec1af4d3eb1567d942ff7a00f"
      }
     },
     "metadata": {},
     "output_type": "display_data"
    },
    {
     "name": "stdout",
     "output_type": "stream",
     "text": [
      "\u001B[1m\u001B[92m Epoch 382 Train DiceLoss 0.1749404314905405 Val DiceLoss 0.1797085851430893 Train dice_score 0.8250595778226852 Val dice_score 0.8202913999557495\n"
     ]
    },
    {
     "data": {
      "text/plain": [
       "  0%|          | 0/8 [00:00<?, ?it/s]"
      ],
      "application/vnd.jupyter.widget-view+json": {
       "version_major": 2,
       "version_minor": 0,
       "model_id": "277ce6ff28b546ec83a77c58c8629202"
      }
     },
     "metadata": {},
     "output_type": "display_data"
    },
    {
     "data": {
      "text/plain": [
       "  0%|          | 0/3 [00:00<?, ?it/s]"
      ],
      "application/vnd.jupyter.widget-view+json": {
       "version_major": 2,
       "version_minor": 0,
       "model_id": "438fb303c9e448b7bf5efe0d299154ca"
      }
     },
     "metadata": {},
     "output_type": "display_data"
    },
    {
     "name": "stdout",
     "output_type": "stream",
     "text": [
      "\u001B[1m\u001B[92m Epoch 383 Train DiceLoss 0.16887979954481125 Val DiceLoss 0.1759712795416514 Train dice_score 0.8311202079057693 Val dice_score 0.824028730392456\n"
     ]
    },
    {
     "data": {
      "text/plain": [
       "  0%|          | 0/8 [00:00<?, ?it/s]"
      ],
      "application/vnd.jupyter.widget-view+json": {
       "version_major": 2,
       "version_minor": 0,
       "model_id": "41fda0e56ad4491ab3df9bcc10409cfa"
      }
     },
     "metadata": {},
     "output_type": "display_data"
    },
    {
     "data": {
      "text/plain": [
       "  0%|          | 0/3 [00:00<?, ?it/s]"
      ],
      "application/vnd.jupyter.widget-view+json": {
       "version_major": 2,
       "version_minor": 0,
       "model_id": "655de8eb65304a00ae87422e9992dfbb"
      }
     },
     "metadata": {},
     "output_type": "display_data"
    },
    {
     "name": "stdout",
     "output_type": "stream",
     "text": [
      "\u001B[1m\u001B[92m Epoch 384 Train DiceLoss 0.16918768920004368 Val DiceLoss 0.17572298645973206 Train dice_score 0.8308123126626015 Val dice_score 0.8242770234743754\n"
     ]
    },
    {
     "data": {
      "text/plain": [
       "  0%|          | 0/8 [00:00<?, ?it/s]"
      ],
      "application/vnd.jupyter.widget-view+json": {
       "version_major": 2,
       "version_minor": 0,
       "model_id": "11ac92d9af28416da2d59187a56324ef"
      }
     },
     "metadata": {},
     "output_type": "display_data"
    },
    {
     "data": {
      "text/plain": [
       "  0%|          | 0/3 [00:00<?, ?it/s]"
      ],
      "application/vnd.jupyter.widget-view+json": {
       "version_major": 2,
       "version_minor": 0,
       "model_id": "18765bd1a3b84a35b57889eaf030e112"
      }
     },
     "metadata": {},
     "output_type": "display_data"
    },
    {
     "name": "stdout",
     "output_type": "stream",
     "text": [
      "MODEL SAVED\n",
      "\u001B[1m\u001B[92m Epoch 385 Train DiceLoss 0.17044886387884617 Val DiceLoss 0.1615335096915563 Train dice_score 0.8295511305332184 Val dice_score 0.8384665052096049\n"
     ]
    },
    {
     "data": {
      "text/plain": [
       "  0%|          | 0/8 [00:00<?, ?it/s]"
      ],
      "application/vnd.jupyter.widget-view+json": {
       "version_major": 2,
       "version_minor": 0,
       "model_id": "e0a02d6d96294668b0ceeda337e5ee9a"
      }
     },
     "metadata": {},
     "output_type": "display_data"
    },
    {
     "data": {
      "text/plain": [
       "  0%|          | 0/3 [00:00<?, ?it/s]"
      ],
      "application/vnd.jupyter.widget-view+json": {
       "version_major": 2,
       "version_minor": 0,
       "model_id": "e94ce70ef0994586af1e826d71e5918f"
      }
     },
     "metadata": {},
     "output_type": "display_data"
    },
    {
     "name": "stdout",
     "output_type": "stream",
     "text": [
      "MODEL SAVED\n",
      "\u001B[1m\u001B[92m Epoch 386 Train DiceLoss 0.16577322222292423 Val DiceLoss 0.16092674434185028 Train dice_score 0.8342267721891403 Val dice_score 0.8390732606252035\n"
     ]
    },
    {
     "data": {
      "text/plain": [
       "  0%|          | 0/8 [00:00<?, ?it/s]"
      ],
      "application/vnd.jupyter.widget-view+json": {
       "version_major": 2,
       "version_minor": 0,
       "model_id": "c96845c5b291465b98627ccd1633872f"
      }
     },
     "metadata": {},
     "output_type": "display_data"
    },
    {
     "data": {
      "text/plain": [
       "  0%|          | 0/3 [00:00<?, ?it/s]"
      ],
      "application/vnd.jupyter.widget-view+json": {
       "version_major": 2,
       "version_minor": 0,
       "model_id": "4a0e352a0af642a59f2f3c52e9e393e6"
      }
     },
     "metadata": {},
     "output_type": "display_data"
    },
    {
     "name": "stdout",
     "output_type": "stream",
     "text": [
      "\u001B[1m\u001B[92m Epoch 387 Train DiceLoss 0.16993959248065948 Val DiceLoss 0.1955757588148117 Train dice_score 0.8300604075193405 Val dice_score 0.8044242461522421\n"
     ]
    },
    {
     "data": {
      "text/plain": [
       "  0%|          | 0/8 [00:00<?, ?it/s]"
      ],
      "application/vnd.jupyter.widget-view+json": {
       "version_major": 2,
       "version_minor": 0,
       "model_id": "615530d0ba9c4260bd0810811e3db16a"
      }
     },
     "metadata": {},
     "output_type": "display_data"
    },
    {
     "data": {
      "text/plain": [
       "  0%|          | 0/3 [00:00<?, ?it/s]"
      ],
      "application/vnd.jupyter.widget-view+json": {
       "version_major": 2,
       "version_minor": 0,
       "model_id": "9cbf24407c0a4ddfa8120d5f2e00afbf"
      }
     },
     "metadata": {},
     "output_type": "display_data"
    },
    {
     "name": "stdout",
     "output_type": "stream",
     "text": [
      "\u001B[1m\u001B[92m Epoch 388 Train DiceLoss 0.17108180560171604 Val DiceLoss 0.16726553936799368 Train dice_score 0.8289181962609291 Val dice_score 0.8327344655990601\n"
     ]
    },
    {
     "data": {
      "text/plain": [
       "  0%|          | 0/8 [00:00<?, ?it/s]"
      ],
      "application/vnd.jupyter.widget-view+json": {
       "version_major": 2,
       "version_minor": 0,
       "model_id": "199a616832f647a28d3a61f26b198d7c"
      }
     },
     "metadata": {},
     "output_type": "display_data"
    },
    {
     "data": {
      "text/plain": [
       "  0%|          | 0/3 [00:00<?, ?it/s]"
      ],
      "application/vnd.jupyter.widget-view+json": {
       "version_major": 2,
       "version_minor": 0,
       "model_id": "350b12d9f2be4480bf6c84148f9fca44"
      }
     },
     "metadata": {},
     "output_type": "display_data"
    },
    {
     "name": "stdout",
     "output_type": "stream",
     "text": [
      "\u001B[1m\u001B[92m Epoch 389 Train DiceLoss 0.16242698580026627 Val DiceLoss 0.17701135575771332 Train dice_score 0.8375730067491531 Val dice_score 0.8229886492093405\n"
     ]
    },
    {
     "data": {
      "text/plain": [
       "  0%|          | 0/8 [00:00<?, ?it/s]"
      ],
      "application/vnd.jupyter.widget-view+json": {
       "version_major": 2,
       "version_minor": 0,
       "model_id": "ad329a15969240588e838aee68bb85ea"
      }
     },
     "metadata": {},
     "output_type": "display_data"
    },
    {
     "data": {
      "text/plain": [
       "  0%|          | 0/3 [00:00<?, ?it/s]"
      ],
      "application/vnd.jupyter.widget-view+json": {
       "version_major": 2,
       "version_minor": 0,
       "model_id": "7f5c90f361264d61ae70e4842951710d"
      }
     },
     "metadata": {},
     "output_type": "display_data"
    },
    {
     "name": "stdout",
     "output_type": "stream",
     "text": [
      "\u001B[1m\u001B[92m Epoch 390 Train DiceLoss 0.16727693006396294 Val DiceLoss 0.16245468457539877 Train dice_score 0.832723081111908 Val dice_score 0.8375453154246012\n"
     ]
    },
    {
     "data": {
      "text/plain": [
       "  0%|          | 0/8 [00:00<?, ?it/s]"
      ],
      "application/vnd.jupyter.widget-view+json": {
       "version_major": 2,
       "version_minor": 0,
       "model_id": "623a773ae2fa4174910adb1a524ec85c"
      }
     },
     "metadata": {},
     "output_type": "display_data"
    },
    {
     "data": {
      "text/plain": [
       "  0%|          | 0/3 [00:00<?, ?it/s]"
      ],
      "application/vnd.jupyter.widget-view+json": {
       "version_major": 2,
       "version_minor": 0,
       "model_id": "66b44f7ca9c343b6afd7326ce9a558c8"
      }
     },
     "metadata": {},
     "output_type": "display_data"
    },
    {
     "name": "stdout",
     "output_type": "stream",
     "text": [
      "\u001B[1m\u001B[92m Epoch 391 Train DiceLoss 0.16155614890158176 Val DiceLoss 0.18517675002415976 Train dice_score 0.8384438529610634 Val dice_score 0.8148232301076254\n"
     ]
    },
    {
     "data": {
      "text/plain": [
       "  0%|          | 0/8 [00:00<?, ?it/s]"
      ],
      "application/vnd.jupyter.widget-view+json": {
       "version_major": 2,
       "version_minor": 0,
       "model_id": "de58ac072e0646f5bb7b8b1934b9f5db"
      }
     },
     "metadata": {},
     "output_type": "display_data"
    },
    {
     "data": {
      "text/plain": [
       "  0%|          | 0/3 [00:00<?, ?it/s]"
      ],
      "application/vnd.jupyter.widget-view+json": {
       "version_major": 2,
       "version_minor": 0,
       "model_id": "b885a4cd39d2459bbd3f591cac5af022"
      }
     },
     "metadata": {},
     "output_type": "display_data"
    },
    {
     "name": "stdout",
     "output_type": "stream",
     "text": [
      "\u001B[1m\u001B[92m Epoch 392 Train DiceLoss 0.16781462356448174 Val DiceLoss 0.18521094818909964 Train dice_score 0.8321853950619698 Val dice_score 0.8147890567779541\n"
     ]
    },
    {
     "data": {
      "text/plain": [
       "  0%|          | 0/8 [00:00<?, ?it/s]"
      ],
      "application/vnd.jupyter.widget-view+json": {
       "version_major": 2,
       "version_minor": 0,
       "model_id": "47793f2d32e540aba720f7c1b2dbd7d1"
      }
     },
     "metadata": {},
     "output_type": "display_data"
    },
    {
     "data": {
      "text/plain": [
       "  0%|          | 0/3 [00:00<?, ?it/s]"
      ],
      "application/vnd.jupyter.widget-view+json": {
       "version_major": 2,
       "version_minor": 0,
       "model_id": "3f2e85761bda40cc857b36d77a58d261"
      }
     },
     "metadata": {},
     "output_type": "display_data"
    },
    {
     "name": "stdout",
     "output_type": "stream",
     "text": [
      "\u001B[1m\u001B[92m Epoch 393 Train DiceLoss 0.1774955503642559 Val DiceLoss 0.183044895529747 Train dice_score 0.8225044459104538 Val dice_score 0.8169551094373068\n"
     ]
    },
    {
     "data": {
      "text/plain": [
       "  0%|          | 0/8 [00:00<?, ?it/s]"
      ],
      "application/vnd.jupyter.widget-view+json": {
       "version_major": 2,
       "version_minor": 0,
       "model_id": "f0871f8201a54fb882cbd0794b4fa0f8"
      }
     },
     "metadata": {},
     "output_type": "display_data"
    },
    {
     "data": {
      "text/plain": [
       "  0%|          | 0/3 [00:00<?, ?it/s]"
      ],
      "application/vnd.jupyter.widget-view+json": {
       "version_major": 2,
       "version_minor": 0,
       "model_id": "6ceac59c628643baa68317271664330c"
      }
     },
     "metadata": {},
     "output_type": "display_data"
    },
    {
     "name": "stdout",
     "output_type": "stream",
     "text": [
      "\u001B[1m\u001B[92m Epoch 394 Train DiceLoss 0.17736516520380974 Val DiceLoss 0.1703927218914032 Train dice_score 0.8226348385214806 Val dice_score 0.8296072681744894\n"
     ]
    },
    {
     "data": {
      "text/plain": [
       "  0%|          | 0/8 [00:00<?, ?it/s]"
      ],
      "application/vnd.jupyter.widget-view+json": {
       "version_major": 2,
       "version_minor": 0,
       "model_id": "6275dc1dc42242bea19a9313bbddeeb3"
      }
     },
     "metadata": {},
     "output_type": "display_data"
    },
    {
     "data": {
      "text/plain": [
       "  0%|          | 0/3 [00:00<?, ?it/s]"
      ],
      "application/vnd.jupyter.widget-view+json": {
       "version_major": 2,
       "version_minor": 0,
       "model_id": "3ef11e3dc4d54d06ab9f260d3690a6a9"
      }
     },
     "metadata": {},
     "output_type": "display_data"
    },
    {
     "name": "stdout",
     "output_type": "stream",
     "text": [
      "\u001B[1m\u001B[92m Epoch 395 Train DiceLoss 0.16792179644107819 Val DiceLoss 0.17947170635064444 Train dice_score 0.8320782035589218 Val dice_score 0.8205283085505167\n"
     ]
    },
    {
     "data": {
      "text/plain": [
       "  0%|          | 0/8 [00:00<?, ?it/s]"
      ],
      "application/vnd.jupyter.widget-view+json": {
       "version_major": 2,
       "version_minor": 0,
       "model_id": "ff63f7b1ba8845899b8ee9af02862070"
      }
     },
     "metadata": {},
     "output_type": "display_data"
    },
    {
     "data": {
      "text/plain": [
       "  0%|          | 0/3 [00:00<?, ?it/s]"
      ],
      "application/vnd.jupyter.widget-view+json": {
       "version_major": 2,
       "version_minor": 0,
       "model_id": "9e64390bd3714a68b591845b6811a6a7"
      }
     },
     "metadata": {},
     "output_type": "display_data"
    },
    {
     "name": "stdout",
     "output_type": "stream",
     "text": [
      "\u001B[1m\u001B[92m Epoch 396 Train DiceLoss 0.16402274556457996 Val DiceLoss 0.16185595095157623 Train dice_score 0.8359772711992264 Val dice_score 0.83814404408137\n"
     ]
    },
    {
     "data": {
      "text/plain": [
       "  0%|          | 0/8 [00:00<?, ?it/s]"
      ],
      "application/vnd.jupyter.widget-view+json": {
       "version_major": 2,
       "version_minor": 0,
       "model_id": "314683a31e7a4e538f6962ffe5c93071"
      }
     },
     "metadata": {},
     "output_type": "display_data"
    },
    {
     "data": {
      "text/plain": [
       "  0%|          | 0/3 [00:00<?, ?it/s]"
      ],
      "application/vnd.jupyter.widget-view+json": {
       "version_major": 2,
       "version_minor": 0,
       "model_id": "6827585d4f8b40a2989ad58593d9578e"
      }
     },
     "metadata": {},
     "output_type": "display_data"
    },
    {
     "name": "stdout",
     "output_type": "stream",
     "text": [
      "\u001B[1m\u001B[92m Epoch 397 Train DiceLoss 0.1626794319599867 Val DiceLoss 0.17219781875610352 Train dice_score 0.8373205810785294 Val dice_score 0.8278021613756815\n"
     ]
    },
    {
     "data": {
      "text/plain": [
       "  0%|          | 0/8 [00:00<?, ?it/s]"
      ],
      "application/vnd.jupyter.widget-view+json": {
       "version_major": 2,
       "version_minor": 0,
       "model_id": "4fec8ba5fdf145c5bf6d5f3db25b6080"
      }
     },
     "metadata": {},
     "output_type": "display_data"
    },
    {
     "data": {
      "text/plain": [
       "  0%|          | 0/3 [00:00<?, ?it/s]"
      ],
      "application/vnd.jupyter.widget-view+json": {
       "version_major": 2,
       "version_minor": 0,
       "model_id": "8945be554ec748539c96ce51c4438831"
      }
     },
     "metadata": {},
     "output_type": "display_data"
    },
    {
     "name": "stdout",
     "output_type": "stream",
     "text": [
      "\u001B[1m\u001B[92m Epoch 398 Train DiceLoss 0.1781629715114832 Val DiceLoss 0.1648848901192347 Train dice_score 0.8218370378017426 Val dice_score 0.835115114847819\n"
     ]
    },
    {
     "data": {
      "text/plain": [
       "  0%|          | 0/8 [00:00<?, ?it/s]"
      ],
      "application/vnd.jupyter.widget-view+json": {
       "version_major": 2,
       "version_minor": 0,
       "model_id": "fcc48fe4845e44418d3b1a6e76b7eb3c"
      }
     },
     "metadata": {},
     "output_type": "display_data"
    },
    {
     "data": {
      "text/plain": [
       "  0%|          | 0/3 [00:00<?, ?it/s]"
      ],
      "application/vnd.jupyter.widget-view+json": {
       "version_major": 2,
       "version_minor": 0,
       "model_id": "d5f4c2feb11b45c4a92fa798eadec205"
      }
     },
     "metadata": {},
     "output_type": "display_data"
    },
    {
     "name": "stdout",
     "output_type": "stream",
     "text": [
      "\u001B[1m\u001B[92m Epoch 399 Train DiceLoss 0.16105765476822853 Val DiceLoss 0.163736492395401 Train dice_score 0.8389423415064812 Val dice_score 0.8362635175387064\n"
     ]
    }
   ],
   "execution_count": 44
  },
  {
   "cell_type": "code",
   "source": [
    "torch.save(model.state_dict(), f'Clean_DiceLoss_SD_{p}.pt')\n",
    "torch.save(model, f'Clean_DiceLoss_{p}.pt')"
   ],
   "metadata": {
    "execution": {
     "iopub.status.busy": "2024-09-30T10:27:08.940622Z",
     "iopub.status.idle": "2024-09-30T10:27:08.941083Z",
     "shell.execute_reply.started": "2024-09-30T10:27:08.940826Z",
     "shell.execute_reply": "2024-09-30T10:27:08.940850Z"
    },
    "trusted": true,
    "ExecuteTime": {
     "end_time": "2024-12-19T14:52:39.537716Z",
     "start_time": "2024-12-19T14:52:39.490105Z"
    }
   },
   "outputs": [],
   "execution_count": 45
  },
  {
   "metadata": {
    "ExecuteTime": {
     "end_time": "2024-12-03T17:05:30.158991Z",
     "start_time": "2024-12-03T17:05:30.148954Z"
    }
   },
   "cell_type": "code",
   "source": "",
   "outputs": [],
   "execution_count": 24
  }
 ]
}
