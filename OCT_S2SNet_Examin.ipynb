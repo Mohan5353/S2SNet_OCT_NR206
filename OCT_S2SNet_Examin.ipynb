{
 "cells": [
  {
   "cell_type": "code",
   "metadata": {
    "executionInfo": {
     "elapsed": 16566,
     "status": "ok",
     "timestamp": 1728373828962,
     "user": {
      "displayName": "N200125 MANEPALLI MOHAN KUMAR",
      "userId": "06002478530075659548"
     },
     "user_tz": -330
    },
    "id": "Q-WnFT84DKIS"
   },
   "source": [
    "from warnings import filterwarnings\n",
    "\n",
    "filterwarnings(\"ignore\")\n",
    "\n",
    "import numpy as np\n",
    "import pandas as pd\n",
    "import matplotlib.pyplot as plt\n",
    "\n",
    "import torch\n",
    "from torch import nn\n",
    "import os\n",
    "import gc\n",
    "import random\n",
    "\n",
    "from tqdm.auto import tqdm\n",
    "import torch.nn.functional as F\n",
    "from tensorflow.keras.preprocessing.image import load_img\n",
    "from keras.utils import to_categorical\n",
    "from sklearn.preprocessing import LabelEncoder\n",
    "from torch.utils.data import Dataset\n",
    "from torch.utils.data import DataLoader"
   ],
   "outputs": [],
   "execution_count": null
  },
  {
   "cell_type": "code",
   "metadata": {
    "executionInfo": {
     "elapsed": 10,
     "status": "ok",
     "timestamp": 1728373828963,
     "user": {
      "displayName": "N200125 MANEPALLI MOHAN KUMAR",
      "userId": "06002478530075659548"
     },
     "user_tz": -330
    },
    "id": "V_F1XlrRD_8M"
   },
   "source": [
    "def seed_everything(seed=100):\n",
    "    random.seed(seed)\n",
    "    os.environ['PYTHONHASHSEED'] = str(seed)\n",
    "    np.random.seed(seed)\n",
    "    torch.manual_seed(seed)\n",
    "    torch.backends.cudnn.deterministic = True\n",
    "    torch.backends.cudnn.benchmark = False\n",
    "\n",
    "\n",
    "seed_everything()"
   ],
   "outputs": [],
   "execution_count": null
  },
  {
   "cell_type": "code",
   "metadata": {
    "executionInfo": {
     "elapsed": 9,
     "status": "ok",
     "timestamp": 1728373828963,
     "user": {
      "displayName": "N200125 MANEPALLI MOHAN KUMAR",
      "userId": "06002478530075659548"
     },
     "user_tz": -330
    },
    "id": "iunByzipEGhB"
   },
   "source": [
    "DEVICE = torch.device(\"cuda:0\" if torch.cuda.is_available() else \"cpu\")\n",
    "\n",
    "IMG_SIZE = 192\n",
    "BATCH_SIZE = 16"
   ],
   "outputs": [],
   "execution_count": null
  },
  {
   "cell_type": "code",
   "metadata": {
    "executionInfo": {
     "elapsed": 9,
     "status": "ok",
     "timestamp": 1728373828963,
     "user": {
      "displayName": "N200125 MANEPALLI MOHAN KUMAR",
      "userId": "06002478530075659548"
     },
     "user_tz": -330
    },
    "id": "2N8AjmJpEPRb"
   },
   "source": [
    "def encode_labels(masks):\n",
    "    labelencoder = LabelEncoder()\n",
    "    masks_reshaped = masks.reshape(-1)\n",
    "    masks_encoded = labelencoder.fit_transform(masks_reshaped)\n",
    "    del masks_reshaped, labelencoder\n",
    "    return masks_encoded.reshape(masks.shape)"
   ],
   "outputs": [],
   "execution_count": null
  },
  {
   "cell_type": "code",
   "metadata": {
    "executionInfo": {
     "elapsed": 9,
     "status": "ok",
     "timestamp": 1728373828963,
     "user": {
      "displayName": "N200125 MANEPALLI MOHAN KUMAR",
      "userId": "06002478530075659548"
     },
     "user_tz": -330
    },
    "id": "Kn9xmiDLEQuH"
   },
   "source": [
    "classes = 9\n",
    "\n",
    "\n",
    "class SegmentationDataset(Dataset):\n",
    "    def __init__(self, df):\n",
    "        self.df = df\n",
    "        images = []\n",
    "        masks = []\n",
    "        for idx in range(len(self.df)):\n",
    "            sample = self.df.iloc[idx]\n",
    "            images.append(load_img(sample.images, color_mode='grayscale', target_size=(IMG_SIZE, IMG_SIZE)))\n",
    "            masks.append(load_img(sample.masks, color_mode='grayscale', target_size=(IMG_SIZE, IMG_SIZE)))\n",
    "        images = np.array(images)\n",
    "        masks = np.array(masks)\n",
    "        n_classes = classes  #len(np.unique(masks))\n",
    "        masks_encoded = encode_labels(masks)\n",
    "        self.masks_cat_dum = to_categorical(masks_encoded, num_classes=n_classes)\n",
    "        self.masks_cat = self.masks_cat_dum.copy()\n",
    "        self.images = np.expand_dims(images, axis=-1) / 255.0\n",
    "        print(self.masks_cat.shape)\n",
    "        self.masks_cat[:, :, :, 7], self.masks_cat[:, :, :, 4], self.masks_cat[:, :, :, 1], self.masks_cat[:, :, :,\n",
    "                                                                                            8], self.masks_cat[:, :, :,\n",
    "                                                                                                2], self.masks_cat[:, :,\n",
    "                                                                                                    :,\n",
    "                                                                                                    5], self.masks_cat[\n",
    "                                                                                                        :, :, :,\n",
    "                                                                                                        6], self.masks_cat[\n",
    "                                                                                                            :, :, :,\n",
    "                                                                                                            3] = self.masks_cat_dum[\n",
    "                                                                                                                 :, :,\n",
    "                                                                                                                 :,\n",
    "                                                                                                                 1], self.masks_cat_dum[\n",
    "                                                                                                                     :,\n",
    "                                                                                                                     :,\n",
    "                                                                                                                     :,\n",
    "                                                                                                                     2], self.masks_cat_dum[\n",
    "                                                                                                                         :,\n",
    "                                                                                                                         :,\n",
    "                                                                                                                         :,\n",
    "                                                                                                                         3], self.masks_cat_dum[\n",
    "                                                                                                                             :,\n",
    "                                                                                                                             :,\n",
    "                                                                                                                             :,\n",
    "                                                                                                                             4], self.masks_cat_dum[\n",
    "                                                                                                                                 :,\n",
    "                                                                                                                                 :,\n",
    "                                                                                                                                 :,\n",
    "                                                                                                                                 5], self.masks_cat_dum[\n",
    "                                                                                                                                     :,\n",
    "                                                                                                                                     :,\n",
    "                                                                                                                                     :,\n",
    "                                                                                                                                     6], self.masks_cat_dum[\n",
    "                                                                                                                                         :,\n",
    "                                                                                                                                         :,\n",
    "                                                                                                                                         :,\n",
    "                                                                                                                                         7], self.masks_cat_dum[\n",
    "                                                                                                                                             :,\n",
    "                                                                                                                                             :,\n",
    "                                                                                                                                             :,\n",
    "                                                                                                                                             8]\n",
    "        del masks_encoded, images, masks, n_classes, self.masks_cat_dum\n",
    "\n",
    "    def __len__(self):\n",
    "        return len(self.df)\n",
    "\n",
    "    def __getitem__(self, idx):\n",
    "        image =torch.from_numpy(np.transpose(self.images[idx], (2, 0, 1))).float()\n",
    "        mask = torch.from_numpy(np.transpose(self.masks_cat[idx], (2, 0, 1))).float()\n",
    "        return image, mask"
   ],
   "outputs": [],
   "execution_count": null
  },
  {
   "cell_type": "code",
   "metadata": {
    "colab": {
     "base_uri": "https://localhost:8080/",
     "height": 224
    },
    "executionInfo": {
     "elapsed": 4,
     "status": "ok",
     "timestamp": 1728373832837,
     "user": {
      "displayName": "N200125 MANEPALLI MOHAN KUMAR",
      "userId": "06002478530075659548"
     },
     "user_tz": -330
    },
    "id": "6Gf34nqbEL7a",
    "outputId": "11ce171b-86e5-4c87-986c-fbe9ed901848"
   },
   "source": [
    "images = os.listdir(\"Cleaned_DataSet/test\")\n",
    "masks = os.listdir(\"Cleaned_DataSet/test_labels\")\n",
    "test_df = pd.DataFrame({\"images\": map(lambda x: os.path.join(r\"Cleaned_DataSet/test\", x), images),\n",
    "                        \"masks\": map(lambda x: os.path.join(\"Cleaned_DataSet/test_labels\", x), masks)})\n",
    "print(test_df.shape)\n",
    "del images, masks\n",
    "test_df.head()"
   ],
   "outputs": [],
   "execution_count": null
  },
  {
   "cell_type": "code",
   "metadata": {
    "executionInfo": {
     "elapsed": 150299,
     "status": "ok",
     "timestamp": 1728373983133,
     "user": {
      "displayName": "N200125 MANEPALLI MOHAN KUMAR",
      "userId": "06002478530075659548"
     },
     "user_tz": -330
    },
    "id": "D-HBjywYEM9e"
   },
   "source": "test_data = SegmentationDataset(test_df)",
   "outputs": [],
   "execution_count": null
  },
  {
   "cell_type": "code",
   "metadata": {
    "executionInfo": {
     "elapsed": 10,
     "status": "ok",
     "timestamp": 1728373983133,
     "user": {
      "displayName": "N200125 MANEPALLI MOHAN KUMAR",
      "userId": "06002478530075659548"
     },
     "user_tz": -330
    },
    "id": "WVVAINGFEXe_"
   },
   "source": "testloader_c = DataLoader(test_data, batch_size=1, shuffle=False)",
   "outputs": [],
   "execution_count": null
  },
  {
   "cell_type": "code",
   "metadata": {},
   "source": "del test_data, test_df",
   "outputs": [],
   "execution_count": null
  },
  {
   "cell_type": "code",
   "metadata": {
    "colab": {
     "base_uri": "https://localhost:8080/"
    },
    "executionInfo": {
     "elapsed": 3,
     "status": "ok",
     "timestamp": 1728373983133,
     "user": {
      "displayName": "N200125 MANEPALLI MOHAN KUMAR",
      "userId": "06002478530075659548"
     },
     "user_tz": -330
    },
    "id": "8vuUuWCzEbhO",
    "outputId": "0e60d5e1-b429-44b6-ca0b-61fc057340f1"
   },
   "source": [
    "for image, mask in testloader_c:\n",
    "    print(f\"Size of one batch of images: {image.shape}\")\n",
    "    print(f\"Size of one batch of masks: {mask.shape}\")\n",
    "    break"
   ],
   "outputs": [],
   "execution_count": null
  },
  {
   "cell_type": "code",
   "metadata": {
    "colab": {
     "base_uri": "https://localhost:8080/",
     "height": 224
    },
    "executionInfo": {
     "elapsed": 5,
     "status": "ok",
     "timestamp": 1728373985364,
     "user": {
      "displayName": "N200125 MANEPALLI MOHAN KUMAR",
      "userId": "06002478530075659548"
     },
     "user_tz": -330
    },
    "id": "X0fkHI10ElbV",
    "outputId": "fe01f8aa-3010-4e4c-c6ab-b7b2412ebc0c"
   },
   "source": [
    "images = os.listdir(\"NR206/test\")\n",
    "masks = os.listdir(\"NR206/test_labels\")\n",
    "test_df = pd.DataFrame({\"images\": map(lambda x: os.path.join(\"NR206/test\", x), images),\n",
    "                        \"masks\": map(lambda x: os.path.join(\"NR206/test_labels\", x), masks)})\n",
    "print(test_df.shape)\n",
    "del images, masks\n",
    "test_df.head()"
   ],
   "outputs": [],
   "execution_count": null
  },
  {
   "cell_type": "code",
   "metadata": {
    "executionInfo": {
     "elapsed": 157248,
     "status": "ok",
     "timestamp": 1728374142608,
     "user": {
      "displayName": "N200125 MANEPALLI MOHAN KUMAR",
      "userId": "06002478530075659548"
     },
     "user_tz": -330
    },
    "id": "7acPBUB2EoMr"
   },
   "source": "test_data = SegmentationDataset(test_df)",
   "outputs": [],
   "execution_count": null
  },
  {
   "cell_type": "code",
   "metadata": {
    "colab": {
     "base_uri": "https://localhost:8080/"
    },
    "executionInfo": {
     "elapsed": 12,
     "status": "ok",
     "timestamp": 1728374142608,
     "user": {
      "displayName": "N200125 MANEPALLI MOHAN KUMAR",
      "userId": "06002478530075659548"
     },
     "user_tz": -330
    },
    "id": "hNJdp3N-Eqal",
    "outputId": "c2997cbe-ec3a-405f-baeb-3e5ee585ba36"
   },
   "source": [
    "testloader_n = DataLoader(test_data, batch_size=1, shuffle=False)\n",
    "\n",
    "print(f\"Total number of batches in Val Loader: {len(testloader_n)}\")"
   ],
   "outputs": [],
   "execution_count": null
  },
  {
   "cell_type": "code",
   "metadata": {},
   "source": "del test_data, test_df",
   "outputs": [],
   "execution_count": null
  },
  {
   "cell_type": "code",
   "metadata": {
    "colab": {
     "base_uri": "https://localhost:8080/"
    },
    "executionInfo": {
     "elapsed": 3,
     "status": "ok",
     "timestamp": 1728374142608,
     "user": {
      "displayName": "N200125 MANEPALLI MOHAN KUMAR",
      "userId": "06002478530075659548"
     },
     "user_tz": -330
    },
    "id": "__U9aqRKE1VN",
    "outputId": "40ffc926-32ee-4c9e-a60b-7dd759a5cb43"
   },
   "source": [
    "for image, mask in testloader_n:\n",
    "    print(f\"Size of one batch of images: {image.shape}\")\n",
    "    print(f\"Size of one batch of masks: {mask.shape}\")\n",
    "    break"
   ],
   "outputs": [],
   "execution_count": null
  },
  {
   "cell_type": "code",
   "metadata": {},
   "source": [
    "plt.figure(figsize=(50, 5))\n",
    "for l in range(9):\n",
    "    plt.subplot(1, 9, l + 1)\n",
    "    plt.imshow(mask.squeeze().numpy()[l, :, :])\n",
    "    plt.grid(False)\n",
    "    plt.title(f\"Layer {l + 1}\")\n",
    "plt.show()"
   ],
   "outputs": [],
   "execution_count": null
  },
  {
   "metadata": {},
   "cell_type": "code",
   "source": [
    "class UNet(nn.Module):\n",
    "    def __init__(self, n_classes=9, img_channels=1):\n",
    "        super(UNet, self).__init__()\n",
    "\n",
    "        # Contraction path\n",
    "        self.conv1 = self.double_conv(img_channels, 16)\n",
    "        self.pool1 = nn.MaxPool2d(2)\n",
    "\n",
    "        self.conv2 = self.double_conv(16, 32)\n",
    "        self.pool2 = nn.MaxPool2d(2)\n",
    "\n",
    "        self.conv3 = self.double_conv(32, 64)\n",
    "        self.pool3 = nn.MaxPool2d(2)\n",
    "\n",
    "        self.conv4 = self.double_conv(64, 128)\n",
    "        self.pool4 = nn.MaxPool2d(2)\n",
    "\n",
    "        self.conv5 = self.double_conv(128, 256)\n",
    "\n",
    "        # Expansive path\n",
    "        self.up6 = nn.ConvTranspose2d(256, 128, kernel_size=2, stride=2)\n",
    "        self.conv6 = self.double_conv(256, 128)\n",
    "\n",
    "        self.up7 = nn.ConvTranspose2d(128, 64, kernel_size=2, stride=2)\n",
    "        self.conv7 = self.double_conv(128, 64)\n",
    "\n",
    "        self.up8 = nn.ConvTranspose2d(64, 32, kernel_size=2, stride=2)\n",
    "        self.conv8 = self.double_conv(64, 32)\n",
    "\n",
    "        self.up9 = nn.ConvTranspose2d(32, 16, kernel_size=2, stride=2)\n",
    "        self.conv9 = self.double_conv(32, 16)\n",
    "\n",
    "        self.out_conv = nn.Conv2d(16, n_classes, kernel_size=1)\n",
    "\n",
    "    def double_conv(self, in_channels, out_channels):\n",
    "        return nn.Sequential(\n",
    "            nn.Conv2d(in_channels, out_channels, kernel_size=3, padding=1, bias=False),\n",
    "            nn.ReLU(inplace=True),\n",
    "            nn.Dropout(0.3),\n",
    "            nn.Conv2d(out_channels, out_channels, kernel_size=3, padding=1, bias=False),\n",
    "            nn.ReLU(inplace=True)\n",
    "        )\n",
    "\n",
    "    def forward(self, x):\n",
    "        # Contraction path\n",
    "        c1 = self.conv1(x)\n",
    "        p1 = self.pool1(c1)\n",
    "\n",
    "        c2 = self.conv2(p1)\n",
    "        p2 = self.pool2(c2)\n",
    "\n",
    "        c3 = self.conv3(p2)\n",
    "        p3 = self.pool3(c3)\n",
    "\n",
    "        c4 = self.conv4(p3)\n",
    "        p4 = self.pool4(c4)\n",
    "\n",
    "        c5 = self.conv5(p4)\n",
    "\n",
    "        # Expansive path\n",
    "        u6 = self.up6(c5)\n",
    "        u6 = torch.cat([u6, c4], dim=1)\n",
    "        c6 = self.conv6(u6)\n",
    "\n",
    "        u7 = self.up7(c6)\n",
    "        u7 = torch.cat([u7, c3], dim=1)\n",
    "        c7 = self.conv7(u7)\n",
    "\n",
    "        u8 = self.up8(c7)\n",
    "        u8 = torch.cat([u8, c2], dim=1)\n",
    "        c8 = self.conv8(u8)\n",
    "\n",
    "        u9 = self.up9(c8)\n",
    "        u9 = torch.cat([u9, c1], dim=1)\n",
    "        c9 = self.conv9(u9)\n",
    "\n",
    "        outputs = self.out_conv(c9)\n",
    "        return outputs"
   ],
   "outputs": [],
   "execution_count": null
  },
  {
   "cell_type": "code",
   "metadata": {
    "executionInfo": {
     "elapsed": 12889,
     "status": "ok",
     "timestamp": 1728374155495,
     "user": {
      "displayName": "N200125 MANEPALLI MOHAN KUMAR",
      "userId": "06002478530075659548"
     },
     "user_tz": -330
    },
    "id": "yy_9q8n5FU9e"
   },
   "source": "cm = torch.load('./Clean_DiceLoss_0.3.pt', map_location=DEVICE)",
   "outputs": [],
   "execution_count": null
  },
  {
   "cell_type": "code",
   "metadata": {
    "executionInfo": {
     "elapsed": 5247,
     "status": "ok",
     "timestamp": 1728374160735,
     "user": {
      "displayName": "N200125 MANEPALLI MOHAN KUMAR",
      "userId": "06002478530075659548"
     },
     "user_tz": -330
    },
    "id": "DAp0Br0HFYMn"
   },
   "source": "nm = torch.load('./Noise_DiceLoss_0.3.pt', map_location=DEVICE)",
   "outputs": [],
   "execution_count": null
  },
  {
   "cell_type": "code",
   "metadata": {
    "colab": {
     "base_uri": "https://localhost:8080/"
    },
    "executionInfo": {
     "elapsed": 13,
     "status": "ok",
     "timestamp": 1728374160735,
     "user": {
      "displayName": "N200125 MANEPALLI MOHAN KUMAR",
      "userId": "06002478530075659548"
     },
     "user_tz": -330
    },
    "id": "mRUMeMmeFYlx",
    "outputId": "4e8f1571-eab9-43b0-c4af-676f94fabcfc"
   },
   "source": [
    "gc.collect()"
   ],
   "outputs": [],
   "execution_count": null
  },
  {
   "cell_type": "code",
   "metadata": {
    "colab": {
     "base_uri": "https://localhost:8080/"
    },
    "executionInfo": {
     "elapsed": 12,
     "status": "ok",
     "timestamp": 1728374160735,
     "user": {
      "displayName": "N200125 MANEPALLI MOHAN KUMAR",
      "userId": "06002478530075659548"
     },
     "user_tz": -330
    },
    "id": "BplvP_UyGaYL",
    "outputId": "60228540-4746-4f9d-f6ae-9b3ac47af5b4"
   },
   "source": [
    "DEVICE"
   ],
   "outputs": [],
   "execution_count": null
  },
  {
   "cell_type": "code",
   "metadata": {
    "colab": {
     "base_uri": "https://localhost:8080/",
     "height": 49,
     "referenced_widgets": [
      "de8d66f0e5024b21850449f8d04fdf46",
      "26f758f08756463fbc74c1321b86ab77",
      "f4d83d8ab5d7464890d5f6c4c062ae84",
      "b762c5de93e146bf877cb0f97a3936b7",
      "cc4999bb910a45b8a91e8f3b07a76687",
      "531985ad00ce47308226301dd7d04f0b",
      "c5c61f47168e4e2f947c74ec17a70d66",
      "5fc058b1334046769b01ae05e11b91dd",
      "44ac2326f0864a488fc256e6efa4b8a7",
      "0e51f3b65980481e8f94ca43733d0396",
      "4bcadc2fec444153ad0d8ee3e5a5736b"
     ]
    },
    "executionInfo": {
     "elapsed": 49180,
     "status": "ok",
     "timestamp": 1728374209911,
     "user": {
      "displayName": "N200125 MANEPALLI MOHAN KUMAR",
      "userId": "06002478530075659548"
     },
     "user_tz": -330
    },
    "id": "3Sa6qsF7Fawm",
    "outputId": "0bb22efb-9869-4340-dd11-484c0c00efb0"
   },
   "source": [
    "preds_mean = []\n",
    "preds_std = []\n",
    "preds_var = []\n",
    "trues = []\n",
    "c_preds = []\n",
    "cm.train()\n",
    "for i, (image, mask) in tqdm(enumerate(testloader_c)):\n",
    "    image = image.to(DEVICE)\n",
    "    _pred = []\n",
    "    true = []\n",
    "    with torch.no_grad():\n",
    "        for _ in range(50):\n",
    "            _pred.append(F.sigmoid(cm(image)).cpu().detach().numpy())\n",
    "            true.append(mask.detach().numpy())\n",
    "    c_preds.append(_pred)\n",
    "    trues.append(true)\n",
    "    preds_mean.append(np.transpose(np.array(_pred).mean(axis=0), (1, 2, 0)))\n",
    "    preds_std.append(np.transpose(np.array(_pred).std(axis=0), (1, 2, 0)))\n",
    "    preds_var.append(np.transpose(np.array(_pred).var(axis=0), (1, 2, 0)))\n",
    "c_preds_mean = torch.Tensor(preds_mean).to(DEVICE)\n",
    "c_preds_std = torch.Tensor(preds_std).to(DEVICE)\n",
    "c_preds_var = torch.Tensor(preds_var).to(DEVICE)\n",
    "c_trues = torch.Tensor(trues).to(DEVICE)\n",
    "c_preds = torch.Tensor(c_preds).to(DEVICE)\n",
    "del preds_mean, preds_std, preds_var, trues"
   ],
   "outputs": [],
   "execution_count": null
  },
  {
   "cell_type": "code",
   "metadata": {
    "colab": {
     "base_uri": "https://localhost:8080/"
    },
    "executionInfo": {
     "elapsed": 4,
     "status": "ok",
     "timestamp": 1728374209911,
     "user": {
      "displayName": "N200125 MANEPALLI MOHAN KUMAR",
      "userId": "06002478530075659548"
     },
     "user_tz": -330
    },
    "id": "zktmUOhVF9DW",
    "outputId": "dd25938d-21c2-4e88-e328-b288e95804c3"
   },
   "source": "gc.collect()",
   "outputs": [],
   "execution_count": null
  },
  {
   "cell_type": "code",
   "metadata": {
    "colab": {
     "base_uri": "https://localhost:8080/",
     "height": 49,
     "referenced_widgets": [
      "87a04ac240d448c99e95304bd604c266",
      "8d355c975a6e4a5d93a21f92b7caef12",
      "0f0194c7440c49c9921d397426fd2fad",
      "a06982d167134f7496b113d78efd3ea5",
      "20dd96a5aea34cefb98dcf223aa0abe9",
      "eafd3e72a0bb42ad8a0690e6779956e7",
      "f1d53998c453480a8b4c47849b422043",
      "04f9911fa0cc49b7953f1fe0ff41f8c5",
      "91ac2576234040c1a8d72da20f8390ec",
      "394fe0b40f7c46cbabb192ea35a6c83c",
      "3631625a20a744c5bd6d4e5d904f21a5"
     ]
    },
    "id": "hqC1_V7gFfOI",
    "outputId": "f4a80aa5-ed26-439b-bcff-80bfe401dfc9"
   },
   "source": [
    "preds_mean = []\n",
    "preds_std = []\n",
    "preds_var = []\n",
    "trues = []\n",
    "n_preds = []\n",
    "nm.train()\n",
    "for i, (image, mask) in tqdm(enumerate(testloader_n)):\n",
    "    image = image.to(DEVICE)\n",
    "    _pred = []\n",
    "    true = []\n",
    "    with torch.no_grad():\n",
    "        for _ in range(50):\n",
    "            _pred.append(F.sigmoid(nm(image)).cpu().detach().numpy())\n",
    "            true.append(mask.detach().numpy())\n",
    "    n_preds.append(_pred)\n",
    "    trues.append(true)\n",
    "    preds_mean.append(np.transpose(np.stack(_pred).mean(axis=0), (1, 2, 0)))\n",
    "    preds_std.append(np.transpose(np.stack(_pred).std(axis=0), (1, 2, 0)))\n",
    "    preds_var.append(np.transpose(np.stack(_pred).var(axis=0), (1, 2, 0)))\n",
    "n_preds_mean = torch.Tensor(preds_mean).to(DEVICE)\n",
    "n_preds_std = torch.Tensor(preds_std).to(DEVICE)\n",
    "n_preds_var = torch.Tensor(preds_var).to(DEVICE)\n",
    "n_trues = torch.Tensor(trues).to(DEVICE)\n",
    "n_preds = torch.Tensor(n_preds).to(DEVICE)\n",
    "del preds_mean, preds_std, preds_var, trues"
   ],
   "outputs": [],
   "execution_count": null
  },
  {
   "metadata": {},
   "cell_type": "code",
   "source": "n_trues, c_trues = n_trues.squeeze(), c_trues.squeeze()",
   "outputs": [],
   "execution_count": null
  },
  {
   "metadata": {},
   "cell_type": "code",
   "source": "n_preds.shape, n_trues.shape, c_preds.shape, c_trues.shape",
   "outputs": [],
   "execution_count": null
  },
  {
   "metadata": {},
   "cell_type": "code",
   "source": [
    "torch.save(n_preds, \"n_preds_gn.pt\"), torch.save(c_preds, \"c_preds_gn.pt\"), torch.save(n_trues, \"n_trues_gn.pt\"), torch.save(\n",
    "    c_trues, \"c_trues_gn.pt\")"
   ],
   "outputs": [],
   "execution_count": null
  },
  {
   "metadata": {},
   "cell_type": "markdown",
   "source": "# Start Here"
  },
  {
   "metadata": {},
   "cell_type": "code",
   "source": [
    "from warnings import filterwarnings\n",
    "\n",
    "filterwarnings(\"ignore\")\n",
    "import torch\n",
    "import numpy as np\n",
    "import matplotlib.pyplot as plt\n",
    "import gc"
   ],
   "outputs": [],
   "execution_count": null
  },
  {
   "metadata": {},
   "cell_type": "code",
   "source": [
    "n_preds=torch.load(\"./n_preds.pt\").squeeze()\n",
    "n_trues=torch.load(\"./n_trues.pt\").squeeze()\n",
    "c_preds=torch.load(\"./c_preds.pt\").squeeze()\n",
    "c_trues=torch.load(\"./c_trues.pt\").squeeze()"
   ],
   "outputs": [],
   "execution_count": null
  },
  {
   "metadata": {},
   "cell_type": "code",
   "source": "n_preds.shape, n_trues.shape, c_preds.shape, c_trues.shape",
   "outputs": [],
   "execution_count": null
  },
  {
   "metadata": {},
   "cell_type": "code",
   "source": [
    "def layer_mul(x, y) -> np.array:\n",
    "    res = []\n",
    "    mask_max = 1.0 - torch.max(x, dim=1).values\n",
    "    for i in range(50):\n",
    "        layer = []\n",
    "        for j in range(9):\n",
    "            layer.append(torch.mul(mask_max[i], y[i, j]).cpu().detach().numpy())\n",
    "        res.append(layer)\n",
    "    return np.array(res)"
   ],
   "outputs": [],
   "execution_count": null
  },
  {
   "metadata": {},
   "cell_type": "code",
   "source": "gc.collect()",
   "outputs": [],
   "execution_count": null
  },
  {
   "cell_type": "code",
   "metadata": {
    "id": "8dhCa6akFtj7"
   },
   "source": [
    "c_layer_uc_var = np.array(\n",
    "    [np.transpose((layer_mul(x, y)).var(axis=0), (1, 2, 0)) for x, y in zip(c_preds, c_trues)])\n",
    "\n",
    "c_layer_uc_mean = np.array(\n",
    "    [np.transpose(layer_mul(x, y).mean(axis=0), (1, 2, 0)) for x, y in zip(c_preds, c_trues)])\n",
    "\n",
    "c_layer_prob_var = np.array([np.transpose(x.var(axis=0).cpu().detach().numpy(), (1, 2, 0)) for x in c_preds])\n",
    "\n",
    "c_layer_prob_mean = np.array([np.transpose(x.mean(axis=0).cpu().detach().numpy(), (1, 2, 0)) for x in c_preds])\n",
    "\n",
    "c_layer_uc_var.shape, c_layer_uc_mean.shape, c_layer_prob_var.shape, c_layer_prob_mean.shape"
   ],
   "outputs": [],
   "execution_count": null
  },
  {
   "cell_type": "code",
   "metadata": {
    "id": "XjCmDIC7F4QQ"
   },
   "source": [
    "n_layer_uc_var = np.array(\n",
    "    [np.transpose(layer_mul(x, y).var(axis=0), (1, 2, 0)) for x, y in zip(n_preds, n_trues)])\n",
    "\n",
    "n_layer_uc_mean = np.array(\n",
    "    [np.transpose(layer_mul(x, y).mean(axis=0), (1, 2, 0)) for x, y in zip(n_preds, n_trues)])\n",
    "\n",
    "n_layer_prob_var = np.array([np.transpose(x.var(axis=0).cpu().detach().numpy(), (1, 2, 0)) for x in n_preds])\n",
    "\n",
    "n_layer_prob_mean = np.array([np.transpose(x.mean(axis=0).cpu().detach().numpy(), (1, 2, 0)) for x in n_preds])\n",
    "\n",
    "n_layer_uc_var.shape, n_layer_uc_mean.shape, n_layer_prob_var.shape, n_layer_prob_mean.shape"
   ],
   "outputs": [],
   "execution_count": null
  },
  {
   "cell_type": "code",
   "metadata": {},
   "source": [
    "def pcolor_plot(max_val):\n",
    "    # struct=[(0,191),(60,85),(60,90),(70,95),(75,90),(75,100),(75,100),(80,100),(85,105)]\n",
    "    struct=[(0,191),(0,191),(0,191),(0,191),(0,191),(0,191),(0,191),(0,191),(0,191)]\n",
    "    for i, (\n",
    "            c_img_mean, c_img_var, n_img_mean, n_img_var, c_img_p_mean, n_img_p_mean, c_img_p_var,\n",
    "            n_img_p_var) in enumerate(\n",
    "        zip(c_layer_uc_mean, c_layer_uc_var, n_layer_uc_mean, n_layer_uc_var, c_layer_prob_mean, n_layer_prob_mean,\n",
    "            c_layer_prob_var, n_layer_prob_var)):\n",
    "        if i==0:\n",
    "            plt.figure(figsize=(50, 5))\n",
    "            for l in range(9):\n",
    "                img=c_img_mean[struct[l][0]:struct[l][1],:, l]\n",
    "                plt.subplot(1, 9, l + 1)\n",
    "                plt.imshow(img, vmin=0, vmax=0.05, cmap=\"jet\")\n",
    "                if l%3==0:\n",
    "                    plt.colorbar()\n",
    "                plt.grid(False)\n",
    "                plt.title(f\"Denoised Mean of Uncertainty Layer {l + 1}\")\n",
    "            plt.show()\n",
    "    \n",
    "            plt.figure(figsize=(50, 5))\n",
    "            for l in range(9):\n",
    "                img=n_img_mean[struct[l][0]:struct[l][1],:, l]\n",
    "                plt.subplot(1, 9, l + 1)\n",
    "                plt.imshow(img, vmin=0, vmax=0.05, cmap=\"jet\")\n",
    "                if l%3==0:\n",
    "                    plt.colorbar()\n",
    "                plt.grid(False)\n",
    "                plt.title(f\"Noisy Mean of Uncertainty Layer {l + 1}\")\n",
    "            plt.show()\n",
    "            break\n",
    "            \n",
    "            plt.figure(figsize=(50, 5))\n",
    "            for l in range(9):\n",
    "                plt.subplot(1, 9, l + 1)\n",
    "                plt.imshow(c_img_var[:, :, l], vmin=0, vmax=0.1, cmap=\"jet\")\n",
    "                plt.title(f\"Denoised Variance of Uncertainty Layer {l + 1}\")\n",
    "                plt.colorbar()\n",
    "                plt.grid(False)\n",
    "            plt.show()\n",
    "    \n",
    "            plt.figure(figsize=(50, 5))\n",
    "            for l in range(9):\n",
    "                plt.subplot(1, 9, l + 1)\n",
    "                plt.imshow(n_img_var[:, :, l], vmin=0, vmax=0.1, cmap=\"jet\")\n",
    "                plt.title(f\"Noisy Variance of Uncertainty Layer {l + 1}\")\n",
    "                plt.colorbar()\n",
    "                plt.grid(False)\n",
    "            plt.show()\n",
    "    \n",
    "            plt.figure(figsize=(50, 5))\n",
    "            for l in range(9):\n",
    "                plt.subplot(1, 9, l + 1)\n",
    "                plt.imshow(c_img_p_mean[:, :, l], vmax=1, vmin=0, cmap=\"jet\")\n",
    "                plt.colorbar()\n",
    "                plt.grid(False)\n",
    "            plt.title(\"Denoised Mean of Probability\")\n",
    "            plt.show()\n",
    "    \n",
    "            plt.figure(figsize=(50, 5))\n",
    "            for l in range(9):\n",
    "                plt.subplot(1, 9, l + 1)\n",
    "                plt.imshow(n_img_p_mean[:, :, l], vmin=0, vmax=1, cmap=\"jet\")\n",
    "                plt.grid(False)\n",
    "                plt.colorbar()\n",
    "            plt.title(\"Noisy Mean of Probability\")\n",
    "            plt.show()\n",
    "    \n",
    "            plt.figure(figsize=(50, 5))\n",
    "            for l in range(9):\n",
    "                plt.subplot(1, 9, l + 1)\n",
    "                plt.imshow(c_img_p_var[:, :, l], vmin=0, vmax=0.07, cmap=\"jet\")\n",
    "                plt.colorbar()\n",
    "                plt.grid(False)\n",
    "            plt.title(\"Denoised var of Probability\")\n",
    "            plt.show()\n",
    "    \n",
    "            plt.figure(figsize=(50, 5))\n",
    "            for l in range(9):\n",
    "                plt.subplot(1, 9, l + 1)\n",
    "                plt.imshow(n_img_p_var[:, :, l], vmin=0, vmax=0.07, cmap=\"jet\")\n",
    "                plt.grid(False)\n",
    "                plt.colorbar()\n",
    "            plt.title(\"Noisy var of Probability\")\n",
    "            plt.show()\n",
    "            break"
   ],
   "outputs": [],
   "execution_count": null
  },
  {
   "cell_type": "code",
   "metadata": {},
   "source": [
    "pcolor_plot(1)"
   ],
   "outputs": [],
   "execution_count": null
  },
  {
   "cell_type": "code",
   "metadata": {},
   "source": [
    "# interact(pcolor_plot, max_val=widgets.FloatSlider(min=1, max=10, step=0.5, value=10))"
   ],
   "outputs": [],
   "execution_count": null
  },
  {
   "cell_type": "code",
   "metadata": {},
   "source": [
    "n_preds.shape"
   ],
   "outputs": [],
   "execution_count": null
  },
  {
   "cell_type": "code",
   "metadata": {},
   "source": [
    "plt.figure(figsize=(50, 5))\n",
    "for l in range(9):\n",
    "    plt.subplot(1, 9, l + 1)\n",
    "    plt.plot(range(n_preds_var.shape[0]), n_preds_var[:, :, l].var(axis=(1, 2)).cpu().detach().numpy(),\n",
    "             marker='o', linestyle='-', color='orange')\n",
    "    plt.plot(range(c_preds_var.shape[0]), c_preds_var[:, :, l].var(axis=(1, 2)).cpu().detach().numpy(),\n",
    "             marker='o', linestyle='-', color='green')\n",
    "    plt.title(f\"Layer {l + 1}\")\n",
    "    plt.grid(True)\n",
    "    plt.legend([\"Noisy\", \"Denoised\"])\n",
    "plt.show()"
   ],
   "outputs": [],
   "execution_count": null
  },
  {
   "cell_type": "code",
   "metadata": {},
   "source": [
    "plt.figure(figsize=(50, 5))\n",
    "for l in range(9):\n",
    "    plt.subplot(1, 9, l + 1)\n",
    "    plt.plot(range(n_preds_var.shape[0]), n_preds_mean[:, :, l].mean(axis=(1, 2)).cpu().detach().numpy(),\n",
    "             marker='o', linestyle='-', color='orange')\n",
    "    plt.plot(range(c_preds_var.shape[0]), c_preds_mean[:, :, l].mean(axis=(1, 2)).cpu().detach().numpy(),\n",
    "             marker='o', linestyle='-', color='green')\n",
    "    plt.title(f\"Layer {l + 1}\")\n",
    "    plt.grid(True)\n",
    "    plt.legend([\"Noisy\", \"Denoised\"])\n",
    "plt.show()"
   ],
   "outputs": [],
   "execution_count": null
  },
  {
   "cell_type": "code",
   "metadata": {},
   "source": "n_layer_uc_var.shape, c_layer_uc_var.shape",
   "outputs": [],
   "execution_count": null
  },
  {
   "cell_type": "code",
   "metadata": {},
   "source": [
    "plt.figure(figsize=(12, 6))\n",
    "plt.plot(range(c_layer_uc_var.shape[0]),\n",
    "         np.array([1.0 - torch.max(c_preds,dim=2).values.cpu().detach().numpy()]).squeeze().std(axis=(1, 2, 3)), marker='o', linestyle='-',\n",
    "         color='green')\n",
    "\n",
    "plt.plot(range(c_layer_uc_mean.shape[0]),\n",
    "         np.array([1.0 - torch.max(n_preds,dim=2).values.cpu().detach().numpy()]).squeeze().std(axis=(1, 2, 3)), marker='o', linestyle='-',\n",
    "         color='orange')\n",
    "\n",
    "plt.grid(True)\n",
    "plt.title(\"STD Uncertainty per Image\")\n",
    "plt.legend([\"Denoised\", \"Noisy\"])\n",
    "\n",
    "plt.show()"
   ],
   "outputs": [],
   "execution_count": null
  },
  {
   "cell_type": "code",
   "metadata": {},
   "source": [
    "plt.figure(figsize=(12, 6))\n",
    "plt.plot(range(n_layer_uc_var.shape[0]),\n",
    "         np.array([1.0 - torch.max(c_preds,dim=2).values.cpu().detach().numpy()]).squeeze().mean(axis=(1, 2, 3)), marker='o',\n",
    "         linestyle='-', color='green')\n",
    "\n",
    "plt.plot(range(c_layer_uc_mean.shape[0]),\n",
    "         np.array([1.0 - torch.max(n_preds,dim=2).values.cpu().detach().numpy()]).squeeze().mean(axis=(1, 2, 3)), marker='o',\n",
    "         linestyle='-', color='orange')\n",
    "\n",
    "plt.grid(True)\n",
    "plt.title(\"Mean Uncertainty per Image\")\n",
    "plt.legend([\"Denoised\", \"Noisy\"])\n",
    "\n",
    "plt.show()"
   ],
   "outputs": [],
   "execution_count": null
  },
  {
   "metadata": {},
   "cell_type": "markdown",
   "source": [
    "plt.plot(range(50), np.max(c_preds[0, :, :, :, :], axis=1)[:, 100, 100], marker='o', color=\"orange\")\n",
    "plt.plot(range(50), np.max(n_preds[0, :, :, :, :], axis=1)[:, 100, 100], marker='o', color=\"g\")\n",
    "plt.title(\"Overall Probability\")\n",
    "plt.legend([\"Denoised\", \"Noisy\"])\n",
    "plt.show()"
   ]
  },
  {
   "metadata": {},
   "cell_type": "markdown",
   "source": [
    "plt.subplot(1, 2, 1)\n",
    "plt.hist(np.max(c_preds[4, :, :, :, :], axis=1)[:, 100, 100], color=\"g\")\n",
    "plt.subplot(1, 2, 2)\n",
    "plt.hist(np.max(n_preds[4, :, :, :, :], axis=1)[:, 100, 100], color=\"b\")\n",
    "plt.show()"
   ]
  },
  {
   "metadata": {},
   "cell_type": "markdown",
   "source": "np.mean(1.0 - np.max(c_preds, axis=2)[:, :, 100, 100], axis=1).shape"
  },
  {
   "metadata": {},
   "cell_type": "markdown",
   "source": [
    "plt.figure(figsize=(12, 6))\n",
    "plt.plot(range(40), np.mean(1.0 - np.max(c_preds, axis=2)[:, :, 100, 100], axis=1), marker=\"o\")\n",
    "plt.plot(range(40), np.mean(1.0 - np.max(n_preds, axis=2)[:, :, 100, 100], axis=1), marker=\"o\")\n",
    "plt.legend([\"Denoised\", \"Noisy\"])\n",
    "plt.title(\"Mean at (100,100)\")\n",
    "plt.show()"
   ]
  },
  {
   "metadata": {},
   "cell_type": "markdown",
   "source": [
    "plt.figure(figsize=(12, 6))\n",
    "plt.plot(range(40), np.std(1.0 - np.max(c_preds, axis=2)[:, :, 100, 100], axis=1), marker=\"o\")\n",
    "plt.plot(range(40), np.std(1.0 - np.max(n_preds, axis=2)[:, :, 100, 100], axis=1), marker=\"o\")\n",
    "plt.legend([\"Denoised\", \"Noisy\"])\n",
    "plt.title(\"Std at (100,100)\")\n",
    "plt.show()"
   ]
  },
  {
   "metadata": {},
   "cell_type": "markdown",
   "source": "n_preds[4, :, :, :, :][0, :, 100, 100]"
  },
  {
   "metadata": {},
   "cell_type": "markdown",
   "source": "np.max(n_preds[4, :, :, :, :], axis=1)[:, 100, 100]"
  },
  {
   "metadata": {},
   "cell_type": "markdown",
   "source": "n_preds[3, :, :, :, :][:, :, 100, 100]"
  },
  {
   "metadata": {},
   "cell_type": "markdown",
   "source": "c_preds[3, :, :, :, :][:, :, 100, 100]"
  },
  {
   "metadata": {},
   "cell_type": "markdown",
   "source": [
    "for i, (c_img_mean, c_img_var, n_img_mean, n_img_var, c_img_p_mean, n_img_p_mean, c_img_p_var,\n",
    "        n_img_p_var) in enumerate(\n",
    "    zip(c_layer_uc_mean, c_layer_uc_var, n_layer_uc_mean, n_layer_uc_var, c_layer_prob_mean, n_layer_prob_mean,\n",
    "        c_layer_prob_var, n_layer_prob_var)):\n",
    "    print(c_img_mean)\n",
    "    break"
   ]
  },
  {
   "metadata": {},
   "cell_type": "markdown",
   "source": "print(np.transpose(c_preds[0].mean(axis=0), (1, 2, 0))[65, 65, :])"
  },
  {
   "metadata": {},
   "cell_type": "code",
   "source": "c_img, n_img = c_preds[4], n_preds[4]",
   "outputs": [],
   "execution_count": null
  },
  {
   "metadata": {},
   "cell_type": "code",
   "source": "c_img_gt, n_img_gt = c_trues[4,0], n_trues[4,0]",
   "outputs": [],
   "execution_count": null
  },
  {
   "metadata": {},
   "cell_type": "code",
   "source": "c_img.shape, n_img.shape, c_img_gt.shape, n_img_gt.shape",
   "outputs": [],
   "execution_count": null
  },
  {
   "metadata": {},
   "cell_type": "code",
   "source": [
    "for i in range(9):\n",
    "    print('\\t',torch.mean((1.0-torch.max(c_img,dim=1).values)*c_img_gt[i]),torch.std((1.0-torch.max(c_img,dim=1).values)*c_img_gt[i]),torch.mean((1.0-torch.max(n_img,dim=1).values)*n_img_gt[i]),torch.std((1.0-torch.max(n_img,dim=1).values)*n_img_gt[i]),\"\\n\")"
   ],
   "outputs": [],
   "execution_count": null
  },
  {
   "metadata": {},
   "cell_type": "code",
   "source": [
    "layers=[]\n",
    "for i in range(9):\n",
    "    layers.append((np.mean((torch.mean((1.0-torch.max(c_img,dim=1).values))*c_img_gt[i]).cpu().detach().numpy()),np.std((torch.mean((1.0-torch.max(c_img,dim=1).values))*c_img_gt[i]).cpu().detach().numpy())))\n",
    "pd.DataFrame(np.array(layers)).to_csv(\"clean.csv\")\n",
    "del layers"
   ],
   "outputs": [],
   "execution_count": null
  },
  {
   "metadata": {},
   "cell_type": "code",
   "source": [
    "layers=[]\n",
    "for i in range(9):\n",
    "    layers.append((np.mean((torch.mean((1.0-torch.max(n_img,dim=1).values))*n_img_gt[i]).cpu().detach().numpy()),np.std((torch.mean((1.0-torch.max(n_img,dim=1).values))*n_img_gt[i]).cpu().detach().numpy())))\n",
    "pd.DataFrame(np.array(layers)).to_csv(\"noisy.csv\")\n",
    "del layers"
   ],
   "outputs": [],
   "execution_count": null
  },
  {
   "metadata": {},
   "cell_type": "code",
   "source": "((1.0-torch.max(c_img,dim=1).values)*c_img_gt[0]).std()",
   "outputs": [],
   "execution_count": null
  },
  {
   "metadata": {},
   "cell_type": "code",
   "source": "((1.0-torch.max(n_img,dim=1).values)*n_img_gt[0]).std()",
   "outputs": [],
   "execution_count": null
  },
  {
   "metadata": {},
   "cell_type": "code",
   "source": "c_img.shape",
   "outputs": [],
   "execution_count": null
  },
  {
   "metadata": {},
   "cell_type": "code",
   "source": "np.std(1.0-np.max(c_img.cpu().detach().numpy(),axis=1)),np.std(1.0-np.max(n_img.cpu().detach().numpy(),axis=1))",
   "outputs": [],
   "execution_count": null
  },
  {
   "metadata": {},
   "cell_type": "code",
   "source": "import matplotlib.pyplot as plt",
   "outputs": [],
   "execution_count": null
  },
  {
   "metadata": {},
   "cell_type": "code",
   "source": "import cv2",
   "outputs": [],
   "execution_count": null
  },
  {
   "metadata": {},
   "cell_type": "code",
   "source": "img=cv2.imread(r\"D:\\Academics\\IT\\Python\\Pytorch_ML\\Shivlal_Sir\\Self2SelfPlus_1\\Cleaned_DataSet\\test\\NORMAL3.png\")",
   "outputs": [],
   "execution_count": null
  },
  {
   "metadata": {},
   "cell_type": "code",
   "source": "img=cv2.resize(cv2.cvtColor(img,cv2.COLOR_BGR2RGB),(192,192))\n",
   "outputs": [],
   "execution_count": null
  },
  {
   "metadata": {},
   "cell_type": "code",
   "source": [
    "plt.imshow(img)\n",
    "plt.grid(False)"
   ],
   "outputs": [],
   "execution_count": null
  },
  {
   "metadata": {},
   "cell_type": "code",
   "source": "",
   "outputs": [],
   "execution_count": null
  }
 ],
 "metadata": {
  "accelerator": "GPU",
  "colab": {
   "authorship_tag": "ABX9TyOuyZ/yt1UnnONpFy1thBKG",
   "gpuType": "T4",
   "mount_file_id": "1KtesB-KDCPupkNH5aaQ12Ghslpjelo8a",
   "provenance": []
  },
  "kaggle": {
   "accelerator": "gpu",
   "dataSources": [
    {
     "datasetId": 5835960,
     "sourceId": 9573688,
     "sourceType": "datasetVersion"
    }
   ],
   "dockerImageVersionId": 30787,
   "isGpuEnabled": true,
   "isInternetEnabled": true,
   "language": "python",
   "sourceType": "notebook"
  },
  "kernelspec": {
   "display_name": "Python 3 (ipykernel)",
   "language": "python",
   "name": "python3"
  },
  "language_info": {
   "codemirror_mode": {
    "name": "ipython",
    "version": 3
   },
   "file_extension": ".py",
   "mimetype": "text/x-python",
   "name": "python",
   "nbconvert_exporter": "python",
   "pygments_lexer": "ipython3",
   "version": "3.9.0"
  },
  "widgets": {
   "application/vnd.jupyter.widget-state+json": {
    "04f9911fa0cc49b7953f1fe0ff41f8c5": {
     "model_module": "@jupyter-widgets/base",
     "model_module_version": "1.2.0",
     "model_name": "LayoutModel",
     "state": {
      "_model_module": "@jupyter-widgets/base",
      "_model_module_version": "1.2.0",
      "_model_name": "LayoutModel",
      "_view_count": null,
      "_view_module": "@jupyter-widgets/base",
      "_view_module_version": "1.2.0",
      "_view_name": "LayoutView",
      "align_content": null,
      "align_items": null,
      "align_self": null,
      "border": null,
      "bottom": null,
      "display": null,
      "flex": null,
      "flex_flow": null,
      "grid_area": null,
      "grid_auto_columns": null,
      "grid_auto_flow": null,
      "grid_auto_rows": null,
      "grid_column": null,
      "grid_gap": null,
      "grid_row": null,
      "grid_template_areas": null,
      "grid_template_columns": null,
      "grid_template_rows": null,
      "height": null,
      "justify_content": null,
      "justify_items": null,
      "left": null,
      "margin": null,
      "max_height": null,
      "max_width": null,
      "min_height": null,
      "min_width": null,
      "object_fit": null,
      "object_position": null,
      "order": null,
      "overflow": null,
      "overflow_x": null,
      "overflow_y": null,
      "padding": null,
      "right": null,
      "top": null,
      "visibility": null,
      "width": "20px"
     }
    },
    "0e51f3b65980481e8f94ca43733d0396": {
     "model_module": "@jupyter-widgets/base",
     "model_module_version": "1.2.0",
     "model_name": "LayoutModel",
     "state": {
      "_model_module": "@jupyter-widgets/base",
      "_model_module_version": "1.2.0",
      "_model_name": "LayoutModel",
      "_view_count": null,
      "_view_module": "@jupyter-widgets/base",
      "_view_module_version": "1.2.0",
      "_view_name": "LayoutView",
      "align_content": null,
      "align_items": null,
      "align_self": null,
      "border": null,
      "bottom": null,
      "display": null,
      "flex": null,
      "flex_flow": null,
      "grid_area": null,
      "grid_auto_columns": null,
      "grid_auto_flow": null,
      "grid_auto_rows": null,
      "grid_column": null,
      "grid_gap": null,
      "grid_row": null,
      "grid_template_areas": null,
      "grid_template_columns": null,
      "grid_template_rows": null,
      "height": null,
      "justify_content": null,
      "justify_items": null,
      "left": null,
      "margin": null,
      "max_height": null,
      "max_width": null,
      "min_height": null,
      "min_width": null,
      "object_fit": null,
      "object_position": null,
      "order": null,
      "overflow": null,
      "overflow_x": null,
      "overflow_y": null,
      "padding": null,
      "right": null,
      "top": null,
      "visibility": null,
      "width": null
     }
    },
    "0f0194c7440c49c9921d397426fd2fad": {
     "model_module": "@jupyter-widgets/controls",
     "model_module_version": "1.5.0",
     "model_name": "FloatProgressModel",
     "state": {
      "_dom_classes": [],
      "_model_module": "@jupyter-widgets/controls",
      "_model_module_version": "1.5.0",
      "_model_name": "FloatProgressModel",
      "_view_count": null,
      "_view_module": "@jupyter-widgets/controls",
      "_view_module_version": "1.5.0",
      "_view_name": "ProgressView",
      "bar_style": "success",
      "description": "",
      "description_tooltip": null,
      "layout": "IPY_MODEL_04f9911fa0cc49b7953f1fe0ff41f8c5",
      "max": 1,
      "min": 0,
      "orientation": "horizontal",
      "style": "IPY_MODEL_91ac2576234040c1a8d72da20f8390ec",
      "value": 1
     }
    },
    "20dd96a5aea34cefb98dcf223aa0abe9": {
     "model_module": "@jupyter-widgets/base",
     "model_module_version": "1.2.0",
     "model_name": "LayoutModel",
     "state": {
      "_model_module": "@jupyter-widgets/base",
      "_model_module_version": "1.2.0",
      "_model_name": "LayoutModel",
      "_view_count": null,
      "_view_module": "@jupyter-widgets/base",
      "_view_module_version": "1.2.0",
      "_view_name": "LayoutView",
      "align_content": null,
      "align_items": null,
      "align_self": null,
      "border": null,
      "bottom": null,
      "display": null,
      "flex": null,
      "flex_flow": null,
      "grid_area": null,
      "grid_auto_columns": null,
      "grid_auto_flow": null,
      "grid_auto_rows": null,
      "grid_column": null,
      "grid_gap": null,
      "grid_row": null,
      "grid_template_areas": null,
      "grid_template_columns": null,
      "grid_template_rows": null,
      "height": null,
      "justify_content": null,
      "justify_items": null,
      "left": null,
      "margin": null,
      "max_height": null,
      "max_width": null,
      "min_height": null,
      "min_width": null,
      "object_fit": null,
      "object_position": null,
      "order": null,
      "overflow": null,
      "overflow_x": null,
      "overflow_y": null,
      "padding": null,
      "right": null,
      "top": null,
      "visibility": null,
      "width": null
     }
    },
    "26f758f08756463fbc74c1321b86ab77": {
     "model_module": "@jupyter-widgets/controls",
     "model_module_version": "1.5.0",
     "model_name": "HTMLModel",
     "state": {
      "_dom_classes": [],
      "_model_module": "@jupyter-widgets/controls",
      "_model_module_version": "1.5.0",
      "_model_name": "HTMLModel",
      "_view_count": null,
      "_view_module": "@jupyter-widgets/controls",
      "_view_module_version": "1.5.0",
      "_view_name": "HTMLView",
      "description": "",
      "description_tooltip": null,
      "layout": "IPY_MODEL_531985ad00ce47308226301dd7d04f0b",
      "placeholder": "​",
      "style": "IPY_MODEL_c5c61f47168e4e2f947c74ec17a70d66",
      "value": ""
     }
    },
    "3631625a20a744c5bd6d4e5d904f21a5": {
     "model_module": "@jupyter-widgets/controls",
     "model_module_version": "1.5.0",
     "model_name": "DescriptionStyleModel",
     "state": {
      "_model_module": "@jupyter-widgets/controls",
      "_model_module_version": "1.5.0",
      "_model_name": "DescriptionStyleModel",
      "_view_count": null,
      "_view_module": "@jupyter-widgets/base",
      "_view_module_version": "1.2.0",
      "_view_name": "StyleView",
      "description_width": ""
     }
    },
    "394fe0b40f7c46cbabb192ea35a6c83c": {
     "model_module": "@jupyter-widgets/base",
     "model_module_version": "1.2.0",
     "model_name": "LayoutModel",
     "state": {
      "_model_module": "@jupyter-widgets/base",
      "_model_module_version": "1.2.0",
      "_model_name": "LayoutModel",
      "_view_count": null,
      "_view_module": "@jupyter-widgets/base",
      "_view_module_version": "1.2.0",
      "_view_name": "LayoutView",
      "align_content": null,
      "align_items": null,
      "align_self": null,
      "border": null,
      "bottom": null,
      "display": null,
      "flex": null,
      "flex_flow": null,
      "grid_area": null,
      "grid_auto_columns": null,
      "grid_auto_flow": null,
      "grid_auto_rows": null,
      "grid_column": null,
      "grid_gap": null,
      "grid_row": null,
      "grid_template_areas": null,
      "grid_template_columns": null,
      "grid_template_rows": null,
      "height": null,
      "justify_content": null,
      "justify_items": null,
      "left": null,
      "margin": null,
      "max_height": null,
      "max_width": null,
      "min_height": null,
      "min_width": null,
      "object_fit": null,
      "object_position": null,
      "order": null,
      "overflow": null,
      "overflow_x": null,
      "overflow_y": null,
      "padding": null,
      "right": null,
      "top": null,
      "visibility": null,
      "width": null
     }
    },
    "44ac2326f0864a488fc256e6efa4b8a7": {
     "model_module": "@jupyter-widgets/controls",
     "model_module_version": "1.5.0",
     "model_name": "ProgressStyleModel",
     "state": {
      "_model_module": "@jupyter-widgets/controls",
      "_model_module_version": "1.5.0",
      "_model_name": "ProgressStyleModel",
      "_view_count": null,
      "_view_module": "@jupyter-widgets/base",
      "_view_module_version": "1.2.0",
      "_view_name": "StyleView",
      "bar_color": null,
      "description_width": ""
     }
    },
    "4bcadc2fec444153ad0d8ee3e5a5736b": {
     "model_module": "@jupyter-widgets/controls",
     "model_module_version": "1.5.0",
     "model_name": "DescriptionStyleModel",
     "state": {
      "_model_module": "@jupyter-widgets/controls",
      "_model_module_version": "1.5.0",
      "_model_name": "DescriptionStyleModel",
      "_view_count": null,
      "_view_module": "@jupyter-widgets/base",
      "_view_module_version": "1.2.0",
      "_view_name": "StyleView",
      "description_width": ""
     }
    },
    "531985ad00ce47308226301dd7d04f0b": {
     "model_module": "@jupyter-widgets/base",
     "model_module_version": "1.2.0",
     "model_name": "LayoutModel",
     "state": {
      "_model_module": "@jupyter-widgets/base",
      "_model_module_version": "1.2.0",
      "_model_name": "LayoutModel",
      "_view_count": null,
      "_view_module": "@jupyter-widgets/base",
      "_view_module_version": "1.2.0",
      "_view_name": "LayoutView",
      "align_content": null,
      "align_items": null,
      "align_self": null,
      "border": null,
      "bottom": null,
      "display": null,
      "flex": null,
      "flex_flow": null,
      "grid_area": null,
      "grid_auto_columns": null,
      "grid_auto_flow": null,
      "grid_auto_rows": null,
      "grid_column": null,
      "grid_gap": null,
      "grid_row": null,
      "grid_template_areas": null,
      "grid_template_columns": null,
      "grid_template_rows": null,
      "height": null,
      "justify_content": null,
      "justify_items": null,
      "left": null,
      "margin": null,
      "max_height": null,
      "max_width": null,
      "min_height": null,
      "min_width": null,
      "object_fit": null,
      "object_position": null,
      "order": null,
      "overflow": null,
      "overflow_x": null,
      "overflow_y": null,
      "padding": null,
      "right": null,
      "top": null,
      "visibility": null,
      "width": null
     }
    },
    "5fc058b1334046769b01ae05e11b91dd": {
     "model_module": "@jupyter-widgets/base",
     "model_module_version": "1.2.0",
     "model_name": "LayoutModel",
     "state": {
      "_model_module": "@jupyter-widgets/base",
      "_model_module_version": "1.2.0",
      "_model_name": "LayoutModel",
      "_view_count": null,
      "_view_module": "@jupyter-widgets/base",
      "_view_module_version": "1.2.0",
      "_view_name": "LayoutView",
      "align_content": null,
      "align_items": null,
      "align_self": null,
      "border": null,
      "bottom": null,
      "display": null,
      "flex": null,
      "flex_flow": null,
      "grid_area": null,
      "grid_auto_columns": null,
      "grid_auto_flow": null,
      "grid_auto_rows": null,
      "grid_column": null,
      "grid_gap": null,
      "grid_row": null,
      "grid_template_areas": null,
      "grid_template_columns": null,
      "grid_template_rows": null,
      "height": null,
      "justify_content": null,
      "justify_items": null,
      "left": null,
      "margin": null,
      "max_height": null,
      "max_width": null,
      "min_height": null,
      "min_width": null,
      "object_fit": null,
      "object_position": null,
      "order": null,
      "overflow": null,
      "overflow_x": null,
      "overflow_y": null,
      "padding": null,
      "right": null,
      "top": null,
      "visibility": null,
      "width": "20px"
     }
    },
    "87a04ac240d448c99e95304bd604c266": {
     "model_module": "@jupyter-widgets/controls",
     "model_module_version": "1.5.0",
     "model_name": "HBoxModel",
     "state": {
      "_dom_classes": [],
      "_model_module": "@jupyter-widgets/controls",
      "_model_module_version": "1.5.0",
      "_model_name": "HBoxModel",
      "_view_count": null,
      "_view_module": "@jupyter-widgets/controls",
      "_view_module_version": "1.5.0",
      "_view_name": "HBoxView",
      "box_style": "",
      "children": [
       "IPY_MODEL_8d355c975a6e4a5d93a21f92b7caef12",
       "IPY_MODEL_0f0194c7440c49c9921d397426fd2fad",
       "IPY_MODEL_a06982d167134f7496b113d78efd3ea5"
      ],
      "layout": "IPY_MODEL_20dd96a5aea34cefb98dcf223aa0abe9"
     }
    },
    "8d355c975a6e4a5d93a21f92b7caef12": {
     "model_module": "@jupyter-widgets/controls",
     "model_module_version": "1.5.0",
     "model_name": "HTMLModel",
     "state": {
      "_dom_classes": [],
      "_model_module": "@jupyter-widgets/controls",
      "_model_module_version": "1.5.0",
      "_model_name": "HTMLModel",
      "_view_count": null,
      "_view_module": "@jupyter-widgets/controls",
      "_view_module_version": "1.5.0",
      "_view_name": "HTMLView",
      "description": "",
      "description_tooltip": null,
      "layout": "IPY_MODEL_eafd3e72a0bb42ad8a0690e6779956e7",
      "placeholder": "​",
      "style": "IPY_MODEL_f1d53998c453480a8b4c47849b422043",
      "value": ""
     }
    },
    "91ac2576234040c1a8d72da20f8390ec": {
     "model_module": "@jupyter-widgets/controls",
     "model_module_version": "1.5.0",
     "model_name": "ProgressStyleModel",
     "state": {
      "_model_module": "@jupyter-widgets/controls",
      "_model_module_version": "1.5.0",
      "_model_name": "ProgressStyleModel",
      "_view_count": null,
      "_view_module": "@jupyter-widgets/base",
      "_view_module_version": "1.2.0",
      "_view_name": "StyleView",
      "bar_color": null,
      "description_width": ""
     }
    },
    "a06982d167134f7496b113d78efd3ea5": {
     "model_module": "@jupyter-widgets/controls",
     "model_module_version": "1.5.0",
     "model_name": "HTMLModel",
     "state": {
      "_dom_classes": [],
      "_model_module": "@jupyter-widgets/controls",
      "_model_module_version": "1.5.0",
      "_model_name": "HTMLModel",
      "_view_count": null,
      "_view_module": "@jupyter-widgets/controls",
      "_view_module_version": "1.5.0",
      "_view_name": "HTMLView",
      "description": "",
      "description_tooltip": null,
      "layout": "IPY_MODEL_394fe0b40f7c46cbabb192ea35a6c83c",
      "placeholder": "​",
      "style": "IPY_MODEL_3631625a20a744c5bd6d4e5d904f21a5",
      "value": " 40/? [00:36&lt;00:00,  1.08it/s]"
     }
    },
    "b762c5de93e146bf877cb0f97a3936b7": {
     "model_module": "@jupyter-widgets/controls",
     "model_module_version": "1.5.0",
     "model_name": "HTMLModel",
     "state": {
      "_dom_classes": [],
      "_model_module": "@jupyter-widgets/controls",
      "_model_module_version": "1.5.0",
      "_model_name": "HTMLModel",
      "_view_count": null,
      "_view_module": "@jupyter-widgets/controls",
      "_view_module_version": "1.5.0",
      "_view_name": "HTMLView",
      "description": "",
      "description_tooltip": null,
      "layout": "IPY_MODEL_0e51f3b65980481e8f94ca43733d0396",
      "placeholder": "​",
      "style": "IPY_MODEL_4bcadc2fec444153ad0d8ee3e5a5736b",
      "value": " 40/? [00:40&lt;00:00,  1.02it/s]"
     }
    },
    "c5c61f47168e4e2f947c74ec17a70d66": {
     "model_module": "@jupyter-widgets/controls",
     "model_module_version": "1.5.0",
     "model_name": "DescriptionStyleModel",
     "state": {
      "_model_module": "@jupyter-widgets/controls",
      "_model_module_version": "1.5.0",
      "_model_name": "DescriptionStyleModel",
      "_view_count": null,
      "_view_module": "@jupyter-widgets/base",
      "_view_module_version": "1.2.0",
      "_view_name": "StyleView",
      "description_width": ""
     }
    },
    "cc4999bb910a45b8a91e8f3b07a76687": {
     "model_module": "@jupyter-widgets/base",
     "model_module_version": "1.2.0",
     "model_name": "LayoutModel",
     "state": {
      "_model_module": "@jupyter-widgets/base",
      "_model_module_version": "1.2.0",
      "_model_name": "LayoutModel",
      "_view_count": null,
      "_view_module": "@jupyter-widgets/base",
      "_view_module_version": "1.2.0",
      "_view_name": "LayoutView",
      "align_content": null,
      "align_items": null,
      "align_self": null,
      "border": null,
      "bottom": null,
      "display": null,
      "flex": null,
      "flex_flow": null,
      "grid_area": null,
      "grid_auto_columns": null,
      "grid_auto_flow": null,
      "grid_auto_rows": null,
      "grid_column": null,
      "grid_gap": null,
      "grid_row": null,
      "grid_template_areas": null,
      "grid_template_columns": null,
      "grid_template_rows": null,
      "height": null,
      "justify_content": null,
      "justify_items": null,
      "left": null,
      "margin": null,
      "max_height": null,
      "max_width": null,
      "min_height": null,
      "min_width": null,
      "object_fit": null,
      "object_position": null,
      "order": null,
      "overflow": null,
      "overflow_x": null,
      "overflow_y": null,
      "padding": null,
      "right": null,
      "top": null,
      "visibility": null,
      "width": null
     }
    },
    "de8d66f0e5024b21850449f8d04fdf46": {
     "model_module": "@jupyter-widgets/controls",
     "model_module_version": "1.5.0",
     "model_name": "HBoxModel",
     "state": {
      "_dom_classes": [],
      "_model_module": "@jupyter-widgets/controls",
      "_model_module_version": "1.5.0",
      "_model_name": "HBoxModel",
      "_view_count": null,
      "_view_module": "@jupyter-widgets/controls",
      "_view_module_version": "1.5.0",
      "_view_name": "HBoxView",
      "box_style": "",
      "children": [
       "IPY_MODEL_26f758f08756463fbc74c1321b86ab77",
       "IPY_MODEL_f4d83d8ab5d7464890d5f6c4c062ae84",
       "IPY_MODEL_b762c5de93e146bf877cb0f97a3936b7"
      ],
      "layout": "IPY_MODEL_cc4999bb910a45b8a91e8f3b07a76687"
     }
    },
    "eafd3e72a0bb42ad8a0690e6779956e7": {
     "model_module": "@jupyter-widgets/base",
     "model_module_version": "1.2.0",
     "model_name": "LayoutModel",
     "state": {
      "_model_module": "@jupyter-widgets/base",
      "_model_module_version": "1.2.0",
      "_model_name": "LayoutModel",
      "_view_count": null,
      "_view_module": "@jupyter-widgets/base",
      "_view_module_version": "1.2.0",
      "_view_name": "LayoutView",
      "align_content": null,
      "align_items": null,
      "align_self": null,
      "border": null,
      "bottom": null,
      "display": null,
      "flex": null,
      "flex_flow": null,
      "grid_area": null,
      "grid_auto_columns": null,
      "grid_auto_flow": null,
      "grid_auto_rows": null,
      "grid_column": null,
      "grid_gap": null,
      "grid_row": null,
      "grid_template_areas": null,
      "grid_template_columns": null,
      "grid_template_rows": null,
      "height": null,
      "justify_content": null,
      "justify_items": null,
      "left": null,
      "margin": null,
      "max_height": null,
      "max_width": null,
      "min_height": null,
      "min_width": null,
      "object_fit": null,
      "object_position": null,
      "order": null,
      "overflow": null,
      "overflow_x": null,
      "overflow_y": null,
      "padding": null,
      "right": null,
      "top": null,
      "visibility": null,
      "width": null
     }
    },
    "f1d53998c453480a8b4c47849b422043": {
     "model_module": "@jupyter-widgets/controls",
     "model_module_version": "1.5.0",
     "model_name": "DescriptionStyleModel",
     "state": {
      "_model_module": "@jupyter-widgets/controls",
      "_model_module_version": "1.5.0",
      "_model_name": "DescriptionStyleModel",
      "_view_count": null,
      "_view_module": "@jupyter-widgets/base",
      "_view_module_version": "1.2.0",
      "_view_name": "StyleView",
      "description_width": ""
     }
    },
    "f4d83d8ab5d7464890d5f6c4c062ae84": {
     "model_module": "@jupyter-widgets/controls",
     "model_module_version": "1.5.0",
     "model_name": "FloatProgressModel",
     "state": {
      "_dom_classes": [],
      "_model_module": "@jupyter-widgets/controls",
      "_model_module_version": "1.5.0",
      "_model_name": "FloatProgressModel",
      "_view_count": null,
      "_view_module": "@jupyter-widgets/controls",
      "_view_module_version": "1.5.0",
      "_view_name": "ProgressView",
      "bar_style": "success",
      "description": "",
      "description_tooltip": null,
      "layout": "IPY_MODEL_5fc058b1334046769b01ae05e11b91dd",
      "max": 1,
      "min": 0,
      "orientation": "horizontal",
      "style": "IPY_MODEL_44ac2326f0864a488fc256e6efa4b8a7",
      "value": 1
     }
    }
   }
  }
 },
 "nbformat": 4,
 "nbformat_minor": 4
}
