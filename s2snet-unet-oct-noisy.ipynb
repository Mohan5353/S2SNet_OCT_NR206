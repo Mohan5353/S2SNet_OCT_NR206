{
 "metadata": {
  "accelerator": "GPU",
  "colab": {
   "gpuType": "T4",
   "provenance": []
  },
  "kaggle": {
   "accelerator": "gpu",
   "dataSources": [
    {
     "sourceId": 9363711,
     "sourceType": "datasetVersion",
     "datasetId": 5677800
    },
    {
     "sourceId": 9367126,
     "sourceType": "datasetVersion",
     "datasetId": 5680456
    }
   ],
   "isInternetEnabled": true,
   "language": "python",
   "sourceType": "notebook",
   "isGpuEnabled": true
  },
  "kernelspec": {
   "display_name": "Python 3",
   "language": "python",
   "name": "python3"
  },
  "language_info": {
   "name": "python",
   "version": "3.10.14",
   "mimetype": "text/x-python",
   "codemirror_mode": {
    "name": "ipython",
    "version": 3
   },
   "pygments_lexer": "ipython3",
   "nbconvert_exporter": "python",
   "file_extension": ".py"
  }
 },
 "nbformat_minor": 4,
 "nbformat": 4,
 "cells": [
  {
   "cell_type": "code",
   "source": [
    "import numpy as np\n",
    "import pandas as pd\n",
    "\n",
    "import torch\n",
    "from torch import nn\n",
    "import os\n",
    "import gc\n",
    "import random\n",
    "\n",
    "from tqdm.auto import tqdm\n",
    "import torch.nn.functional as F\n",
    "from tensorflow.keras.preprocessing.image import load_img\n",
    "from keras.utils import to_categorical\n",
    "from sklearn.preprocessing import LabelEncoder\n",
    "from torch.utils.data import Dataset\n",
    "from torch.utils.tensorboard import SummaryWriter\n",
    "from segmentation_models_pytorch.losses import DiceLoss"
   ],
   "metadata": {
    "id": "unlikely-winner",
    "execution": {
     "iopub.status.busy": "2024-09-28T11:26:29.985446Z",
     "iopub.execute_input": "2024-09-28T11:26:29.986007Z",
     "iopub.status.idle": "2024-09-28T11:26:50.709027Z",
     "shell.execute_reply.started": "2024-09-28T11:26:29.985961Z",
     "shell.execute_reply": "2024-09-28T11:26:50.708030Z"
    },
    "trusted": true,
    "ExecuteTime": {
     "end_time": "2024-12-19T14:12:23.838193Z",
     "start_time": "2024-12-19T14:12:06.837192Z"
    }
   },
   "outputs": [],
   "execution_count": 1
  },
  {
   "cell_type": "code",
   "source": [
    "def seed_everything(seed=100):\n",
    "    random.seed(seed)\n",
    "    os.environ['PYTHONHASHSEED'] = str(seed)\n",
    "    np.random.seed(seed)\n",
    "    torch.manual_seed(seed)\n",
    "    torch.backends.cudnn.deterministic = True\n",
    "    torch.backends.cudnn.benchmark = False\n",
    "\n",
    "\n",
    "seed_everything()"
   ],
   "metadata": {
    "execution": {
     "iopub.status.busy": "2024-09-28T11:26:50.710290Z",
     "iopub.execute_input": "2024-09-28T11:26:50.710586Z",
     "iopub.status.idle": "2024-09-28T11:26:50.722548Z",
     "shell.execute_reply.started": "2024-09-28T11:26:50.710555Z",
     "shell.execute_reply": "2024-09-28T11:26:50.721776Z"
    },
    "trusted": true,
    "ExecuteTime": {
     "end_time": "2024-12-19T14:12:23.861915Z",
     "start_time": "2024-12-19T14:12:23.838193Z"
    }
   },
   "outputs": [],
   "execution_count": 2
  },
  {
   "cell_type": "code",
   "source": [
    "# Select the device to train on\n",
    "DEVICE = torch.device(\"cuda:0\" if torch.cuda.is_available() else \"cpu\")\n",
    "\n",
    "# Define hyperparameters\n",
    "EPOCHS = 400\n",
    "LR = 1e-4\n",
    "p = 0.3\n",
    "IMG_SIZE = 192\n",
    "BATCH_SIZE = 16"
   ],
   "metadata": {
    "id": "interim-grant",
    "execution": {
     "iopub.status.busy": "2024-09-28T11:26:50.726467Z",
     "iopub.execute_input": "2024-09-28T11:26:50.726760Z",
     "iopub.status.idle": "2024-09-28T11:26:50.756148Z",
     "shell.execute_reply.started": "2024-09-28T11:26:50.726730Z",
     "shell.execute_reply": "2024-09-28T11:26:50.755191Z"
    },
    "trusted": true,
    "ExecuteTime": {
     "end_time": "2024-12-19T14:34:31.482057Z",
     "start_time": "2024-12-19T14:34:31.450833Z"
    }
   },
   "outputs": [],
   "execution_count": 57
  },
  {
   "cell_type": "code",
   "source": [
    "images = os.listdir(\"NR206/train\")\n",
    "masks = os.listdir(\"NR206/train_labels\")\n",
    "train_df = pd.DataFrame({\"images\": map(lambda x: os.path.join(\"NR206/train\", x), images),\n",
    "                         \"masks\": map(lambda x: os.path.join(\"NR206/train_labels\", x), masks)})\n",
    "print(train_df.shape)\n",
    "del images, masks\n",
    "train_df.head()"
   ],
   "metadata": {
    "id": "cooked-stranger",
    "outputId": "25fbf51d-bdac-4057-cb1b-a1649c7c81c2",
    "execution": {
     "iopub.status.busy": "2024-09-28T11:26:50.757362Z",
     "iopub.execute_input": "2024-09-28T11:26:50.757725Z",
     "iopub.status.idle": "2024-09-28T11:26:50.846924Z",
     "shell.execute_reply.started": "2024-09-28T11:26:50.757691Z",
     "shell.execute_reply": "2024-09-28T11:26:50.846041Z"
    },
    "trusted": true,
    "ExecuteTime": {
     "end_time": "2024-12-19T14:12:25.707497Z",
     "start_time": "2024-12-19T14:12:25.660622Z"
    }
   },
   "outputs": [
    {
     "name": "stdout",
     "output_type": "stream",
     "text": [
      "(126, 2)\n"
     ]
    },
    {
     "data": {
      "text/plain": [
       "                      images                             masks\n",
       "0    NR206/train\\NORMAL1.png    NR206/train_labels\\NORMAL1.png\n",
       "1   NR206/train\\NORMAL10.png   NR206/train_labels\\NORMAL10.png\n",
       "2  NR206/train\\NORMAL100.png  NR206/train_labels\\NORMAL100.png\n",
       "3  NR206/train\\NORMAL101.png  NR206/train_labels\\NORMAL101.png\n",
       "4  NR206/train\\NORMAL102.png  NR206/train_labels\\NORMAL102.png"
      ],
      "text/html": [
       "<div>\n",
       "<style scoped>\n",
       "    .dataframe tbody tr th:only-of-type {\n",
       "        vertical-align: middle;\n",
       "    }\n",
       "\n",
       "    .dataframe tbody tr th {\n",
       "        vertical-align: top;\n",
       "    }\n",
       "\n",
       "    .dataframe thead th {\n",
       "        text-align: right;\n",
       "    }\n",
       "</style>\n",
       "<table border=\"1\" class=\"dataframe\">\n",
       "  <thead>\n",
       "    <tr style=\"text-align: right;\">\n",
       "      <th></th>\n",
       "      <th>images</th>\n",
       "      <th>masks</th>\n",
       "    </tr>\n",
       "  </thead>\n",
       "  <tbody>\n",
       "    <tr>\n",
       "      <th>0</th>\n",
       "      <td>NR206/train\\NORMAL1.png</td>\n",
       "      <td>NR206/train_labels\\NORMAL1.png</td>\n",
       "    </tr>\n",
       "    <tr>\n",
       "      <th>1</th>\n",
       "      <td>NR206/train\\NORMAL10.png</td>\n",
       "      <td>NR206/train_labels\\NORMAL10.png</td>\n",
       "    </tr>\n",
       "    <tr>\n",
       "      <th>2</th>\n",
       "      <td>NR206/train\\NORMAL100.png</td>\n",
       "      <td>NR206/train_labels\\NORMAL100.png</td>\n",
       "    </tr>\n",
       "    <tr>\n",
       "      <th>3</th>\n",
       "      <td>NR206/train\\NORMAL101.png</td>\n",
       "      <td>NR206/train_labels\\NORMAL101.png</td>\n",
       "    </tr>\n",
       "    <tr>\n",
       "      <th>4</th>\n",
       "      <td>NR206/train\\NORMAL102.png</td>\n",
       "      <td>NR206/train_labels\\NORMAL102.png</td>\n",
       "    </tr>\n",
       "  </tbody>\n",
       "</table>\n",
       "</div>"
      ]
     },
     "execution_count": 4,
     "metadata": {},
     "output_type": "execute_result"
    }
   ],
   "execution_count": 4
  },
  {
   "cell_type": "code",
   "source": [
    "images = os.listdir(\"NR206/val\")\n",
    "masks = os.listdir(\"NR206/val_labels\")\n",
    "val_df = pd.DataFrame({\"images\": map(lambda x: os.path.join(\"NR206/val\", x), images),\n",
    "                       \"masks\": map(lambda x: os.path.join(\"NR206/val_labels\", x), masks)})\n",
    "print(val_df.shape)\n",
    "del images, masks\n",
    "val_df.head()"
   ],
   "metadata": {
    "execution": {
     "iopub.status.busy": "2024-09-28T11:26:50.848201Z",
     "iopub.execute_input": "2024-09-28T11:26:50.848542Z",
     "iopub.status.idle": "2024-09-28T11:26:50.874954Z",
     "shell.execute_reply.started": "2024-09-28T11:26:50.848510Z",
     "shell.execute_reply": "2024-09-28T11:26:50.874046Z"
    },
    "trusted": true,
    "ExecuteTime": {
     "end_time": "2024-12-19T14:12:25.745492Z",
     "start_time": "2024-12-19T14:12:25.707497Z"
    }
   },
   "outputs": [
    {
     "name": "stdout",
     "output_type": "stream",
     "text": [
      "(40, 2)\n"
     ]
    },
    {
     "data": {
      "text/plain": [
       "                    images                           masks\n",
       "0  NR206/val\\NORMAL129.png  NR206/val_labels\\NORMAL129.png\n",
       "1  NR206/val\\NORMAL131.png  NR206/val_labels\\NORMAL131.png\n",
       "2  NR206/val\\NORMAL133.png  NR206/val_labels\\NORMAL133.png\n",
       "3  NR206/val\\NORMAL135.png  NR206/val_labels\\NORMAL135.png\n",
       "4  NR206/val\\NORMAL137.png  NR206/val_labels\\NORMAL137.png"
      ],
      "text/html": [
       "<div>\n",
       "<style scoped>\n",
       "    .dataframe tbody tr th:only-of-type {\n",
       "        vertical-align: middle;\n",
       "    }\n",
       "\n",
       "    .dataframe tbody tr th {\n",
       "        vertical-align: top;\n",
       "    }\n",
       "\n",
       "    .dataframe thead th {\n",
       "        text-align: right;\n",
       "    }\n",
       "</style>\n",
       "<table border=\"1\" class=\"dataframe\">\n",
       "  <thead>\n",
       "    <tr style=\"text-align: right;\">\n",
       "      <th></th>\n",
       "      <th>images</th>\n",
       "      <th>masks</th>\n",
       "    </tr>\n",
       "  </thead>\n",
       "  <tbody>\n",
       "    <tr>\n",
       "      <th>0</th>\n",
       "      <td>NR206/val\\NORMAL129.png</td>\n",
       "      <td>NR206/val_labels\\NORMAL129.png</td>\n",
       "    </tr>\n",
       "    <tr>\n",
       "      <th>1</th>\n",
       "      <td>NR206/val\\NORMAL131.png</td>\n",
       "      <td>NR206/val_labels\\NORMAL131.png</td>\n",
       "    </tr>\n",
       "    <tr>\n",
       "      <th>2</th>\n",
       "      <td>NR206/val\\NORMAL133.png</td>\n",
       "      <td>NR206/val_labels\\NORMAL133.png</td>\n",
       "    </tr>\n",
       "    <tr>\n",
       "      <th>3</th>\n",
       "      <td>NR206/val\\NORMAL135.png</td>\n",
       "      <td>NR206/val_labels\\NORMAL135.png</td>\n",
       "    </tr>\n",
       "    <tr>\n",
       "      <th>4</th>\n",
       "      <td>NR206/val\\NORMAL137.png</td>\n",
       "      <td>NR206/val_labels\\NORMAL137.png</td>\n",
       "    </tr>\n",
       "  </tbody>\n",
       "</table>\n",
       "</div>"
      ]
     },
     "execution_count": 5,
     "metadata": {},
     "output_type": "execute_result"
    }
   ],
   "execution_count": 5
  },
  {
   "cell_type": "code",
   "source": [
    "images = os.listdir(\"NR206/test\")\n",
    "masks = os.listdir(\"NR206/test_labels\")\n",
    "test_df = pd.DataFrame({\"images\": map(lambda x: os.path.join(\"NR206/test\", x), images),\n",
    "                        \"masks\": map(lambda x: os.path.join(\"NR206/test_labels\", x), masks)})\n",
    "print(test_df.shape)\n",
    "del images, masks\n",
    "test_df.head()"
   ],
   "metadata": {
    "execution": {
     "iopub.status.busy": "2024-09-28T11:26:50.876270Z",
     "iopub.execute_input": "2024-09-28T11:26:50.876649Z",
     "iopub.status.idle": "2024-09-28T11:26:50.906175Z",
     "shell.execute_reply.started": "2024-09-28T11:26:50.876607Z",
     "shell.execute_reply": "2024-09-28T11:26:50.905307Z"
    },
    "trusted": true,
    "ExecuteTime": {
     "end_time": "2024-12-19T14:12:25.761138Z",
     "start_time": "2024-12-19T14:12:25.745492Z"
    }
   },
   "outputs": [
    {
     "name": "stdout",
     "output_type": "stream",
     "text": [
      "(40, 2)\n"
     ]
    },
    {
     "data": {
      "text/plain": [
       "                     images                            masks\n",
       "0  NR206/test\\NORMAL112.png  NR206/test_labels\\NORMAL112.png\n",
       "1  NR206/test\\NORMAL121.png  NR206/test_labels\\NORMAL121.png\n",
       "2  NR206/test\\NORMAL125.png  NR206/test_labels\\NORMAL125.png\n",
       "3   NR206/test\\NORMAL14.png   NR206/test_labels\\NORMAL14.png\n",
       "4   NR206/test\\NORMAL15.png   NR206/test_labels\\NORMAL15.png"
      ],
      "text/html": [
       "<div>\n",
       "<style scoped>\n",
       "    .dataframe tbody tr th:only-of-type {\n",
       "        vertical-align: middle;\n",
       "    }\n",
       "\n",
       "    .dataframe tbody tr th {\n",
       "        vertical-align: top;\n",
       "    }\n",
       "\n",
       "    .dataframe thead th {\n",
       "        text-align: right;\n",
       "    }\n",
       "</style>\n",
       "<table border=\"1\" class=\"dataframe\">\n",
       "  <thead>\n",
       "    <tr style=\"text-align: right;\">\n",
       "      <th></th>\n",
       "      <th>images</th>\n",
       "      <th>masks</th>\n",
       "    </tr>\n",
       "  </thead>\n",
       "  <tbody>\n",
       "    <tr>\n",
       "      <th>0</th>\n",
       "      <td>NR206/test\\NORMAL112.png</td>\n",
       "      <td>NR206/test_labels\\NORMAL112.png</td>\n",
       "    </tr>\n",
       "    <tr>\n",
       "      <th>1</th>\n",
       "      <td>NR206/test\\NORMAL121.png</td>\n",
       "      <td>NR206/test_labels\\NORMAL121.png</td>\n",
       "    </tr>\n",
       "    <tr>\n",
       "      <th>2</th>\n",
       "      <td>NR206/test\\NORMAL125.png</td>\n",
       "      <td>NR206/test_labels\\NORMAL125.png</td>\n",
       "    </tr>\n",
       "    <tr>\n",
       "      <th>3</th>\n",
       "      <td>NR206/test\\NORMAL14.png</td>\n",
       "      <td>NR206/test_labels\\NORMAL14.png</td>\n",
       "    </tr>\n",
       "    <tr>\n",
       "      <th>4</th>\n",
       "      <td>NR206/test\\NORMAL15.png</td>\n",
       "      <td>NR206/test_labels\\NORMAL15.png</td>\n",
       "    </tr>\n",
       "  </tbody>\n",
       "</table>\n",
       "</div>"
      ]
     },
     "execution_count": 6,
     "metadata": {},
     "output_type": "execute_result"
    }
   ],
   "execution_count": 6
  },
  {
   "cell_type": "code",
   "source": "def encode_labels(masks):\n    labelencoder = LabelEncoder()\n    masks_reshaped = masks.reshape(-1)\n    masks_encoded = labelencoder.fit_transform(masks_reshaped)\n    del masks_reshaped, labelencoder\n    return masks_encoded.reshape(masks.shape)",
   "metadata": {
    "execution": {
     "iopub.status.busy": "2024-09-28T11:26:50.907363Z",
     "iopub.execute_input": "2024-09-28T11:26:50.907724Z",
     "iopub.status.idle": "2024-09-28T11:26:50.913118Z",
     "shell.execute_reply.started": "2024-09-28T11:26:50.907681Z",
     "shell.execute_reply": "2024-09-28T11:26:50.912172Z"
    },
    "trusted": true,
    "ExecuteTime": {
     "end_time": "2024-12-19T14:12:25.776765Z",
     "start_time": "2024-12-19T14:12:25.761138Z"
    }
   },
   "outputs": [],
   "execution_count": 7
  },
  {
   "cell_type": "code",
   "source": [
    "# Create a custom dataset class\n",
    "classes = 9\n",
    "\n",
    "\n",
    "class SegmentationDataset(Dataset):\n",
    "    def __init__(self, df):\n",
    "        self.df = df\n",
    "        images = []\n",
    "        masks = []\n",
    "        for idx in range(len(self.df)):\n",
    "            sample = self.df.iloc[idx]\n",
    "            images.append(np.array(load_img(sample.images, color_mode='grayscale', target_size=(IMG_SIZE, IMG_SIZE))))\n",
    "            masks.append(np.array(load_img(sample.masks, color_mode='grayscale', target_size=(IMG_SIZE, IMG_SIZE))))\n",
    "        images = np.array(images)\n",
    "        masks = np.array(masks)\n",
    "        n_classes = classes  #len(np.unique(masks))\n",
    "        masks_encoded = encode_labels(masks)\n",
    "        self.masks_cat = to_categorical(masks_encoded, num_classes=n_classes)\n",
    "        self.images = np.expand_dims(images, axis=-1) / 255.0\n",
    "        del masks_encoded, images, masks, n_classes\n",
    "\n",
    "    def __len__(self):\n",
    "        return len(self.df)\n",
    "\n",
    "    def __getitem__(self, idx):\n",
    "        image = torch.from_numpy(np.transpose(self.images[idx], (2, 0, 1))).float()\n",
    "        mask = torch.from_numpy(np.transpose(self.masks_cat[idx], (2, 0, 1))).float()\n",
    "        return image, mask"
   ],
   "metadata": {
    "id": "rubber-humanitarian",
    "execution": {
     "iopub.status.busy": "2024-09-28T11:26:50.914438Z",
     "iopub.execute_input": "2024-09-28T11:26:50.914804Z",
     "iopub.status.idle": "2024-09-28T11:26:50.925859Z",
     "shell.execute_reply.started": "2024-09-28T11:26:50.914751Z",
     "shell.execute_reply": "2024-09-28T11:26:50.925133Z"
    },
    "trusted": true,
    "ExecuteTime": {
     "end_time": "2024-12-19T14:12:25.792388Z",
     "start_time": "2024-12-19T14:12:25.776765Z"
    }
   },
   "outputs": [],
   "execution_count": 8
  },
  {
   "cell_type": "code",
   "source": "# Processed train and validation sets\ntrain_data = SegmentationDataset(train_df)\nval_data = SegmentationDataset(val_df)\ntest_data = SegmentationDataset(test_df)",
   "metadata": {
    "id": "looking-lightning",
    "execution": {
     "iopub.status.busy": "2024-09-28T11:26:50.929568Z",
     "iopub.execute_input": "2024-09-28T11:26:50.929883Z",
     "iopub.status.idle": "2024-09-28T11:26:56.588831Z",
     "shell.execute_reply.started": "2024-09-28T11:26:50.929839Z",
     "shell.execute_reply": "2024-09-28T11:26:56.588041Z"
    },
    "trusted": true,
    "ExecuteTime": {
     "end_time": "2024-12-19T14:12:29.014750Z",
     "start_time": "2024-12-19T14:12:25.792388Z"
    }
   },
   "outputs": [],
   "execution_count": 9
  },
  {
   "cell_type": "code",
   "source": "print(f\"Size of Trainset : {len(train_data)}\")\nprint(f\"Size of Validset : {len(val_data)}\")",
   "metadata": {
    "id": "gothic-extreme",
    "outputId": "4fff5759-5042-4547-d17a-5f625f590eec",
    "execution": {
     "iopub.status.busy": "2024-09-28T11:26:56.589960Z",
     "iopub.execute_input": "2024-09-28T11:26:56.590290Z",
     "iopub.status.idle": "2024-09-28T11:26:56.595389Z",
     "shell.execute_reply.started": "2024-09-28T11:26:56.590257Z",
     "shell.execute_reply": "2024-09-28T11:26:56.594409Z"
    },
    "trusted": true,
    "ExecuteTime": {
     "end_time": "2024-12-19T14:12:29.030362Z",
     "start_time": "2024-12-19T14:12:29.014750Z"
    }
   },
   "outputs": [
    {
     "name": "stdout",
     "output_type": "stream",
     "text": [
      "Size of Trainset : 126\n",
      "Size of Validset : 40\n"
     ]
    }
   ],
   "execution_count": 10
  },
  {
   "cell_type": "code",
   "source": "from torch.utils.data import DataLoader",
   "metadata": {
    "id": "honey-paraguay",
    "execution": {
     "iopub.status.busy": "2024-09-28T11:26:56.596572Z",
     "iopub.execute_input": "2024-09-28T11:26:56.596878Z",
     "iopub.status.idle": "2024-09-28T11:26:56.610169Z",
     "shell.execute_reply.started": "2024-09-28T11:26:56.596847Z",
     "shell.execute_reply": "2024-09-28T11:26:56.609384Z"
    },
    "trusted": true,
    "ExecuteTime": {
     "end_time": "2024-12-19T14:12:29.045999Z",
     "start_time": "2024-12-19T14:12:29.030362Z"
    }
   },
   "outputs": [],
   "execution_count": 11
  },
  {
   "cell_type": "code",
   "source": "trainloader = DataLoader(train_data, batch_size=BATCH_SIZE, shuffle=True)\nvalloader = DataLoader(val_data, batch_size=BATCH_SIZE, shuffle=False)\ntestloader = DataLoader(test_data, batch_size=1, shuffle=False)\n\nprint(f\"Total number of batches in Train Loader: {len(trainloader)}\")\nprint(f\"Total number of batches in Val Loader: {len(valloader)}\")",
   "metadata": {
    "id": "lesbian-terror",
    "outputId": "0a26c06d-fc4e-41e4-ed78-d941e05f9e79",
    "execution": {
     "iopub.status.busy": "2024-09-28T11:26:56.611170Z",
     "iopub.execute_input": "2024-09-28T11:26:56.611451Z",
     "iopub.status.idle": "2024-09-28T11:26:56.625366Z",
     "shell.execute_reply.started": "2024-09-28T11:26:56.611421Z",
     "shell.execute_reply": "2024-09-28T11:26:56.624513Z"
    },
    "trusted": true,
    "ExecuteTime": {
     "end_time": "2024-12-19T14:12:29.077594Z",
     "start_time": "2024-12-19T14:12:29.045999Z"
    }
   },
   "outputs": [
    {
     "name": "stdout",
     "output_type": "stream",
     "text": [
      "Total number of batches in Train Loader: 8\n",
      "Total number of batches in Val Loader: 3\n"
     ]
    }
   ],
   "execution_count": 12
  },
  {
   "cell_type": "code",
   "source": "for image, mask in trainloader:\n    print(f\"Size of one batch of images: {image.shape}\")\n    print(f\"Size of one batch of masks: {mask.shape}\")\n    break",
   "metadata": {
    "id": "saved-blend",
    "outputId": "dfcd8c6f-bb22-4611-f35e-e70d1f270fc8",
    "execution": {
     "iopub.status.busy": "2024-09-28T11:26:56.626476Z",
     "iopub.execute_input": "2024-09-28T11:26:56.626792Z",
     "iopub.status.idle": "2024-09-28T11:26:56.681128Z",
     "shell.execute_reply.started": "2024-09-28T11:26:56.626760Z",
     "shell.execute_reply": "2024-09-28T11:26:56.680161Z"
    },
    "trusted": true,
    "ExecuteTime": {
     "end_time": "2024-12-19T14:12:29.233841Z",
     "start_time": "2024-12-19T14:12:29.077594Z"
    }
   },
   "outputs": [
    {
     "name": "stdout",
     "output_type": "stream",
     "text": [
      "Size of one batch of images: torch.Size([16, 1, 192, 192])\n",
      "Size of one batch of masks: torch.Size([16, 9, 192, 192])\n"
     ]
    }
   ],
   "execution_count": 13
  },
  {
   "cell_type": "code",
   "source": [
    "dice_loss = DiceLoss(mode=\"multilabel\", classes=9)\n",
    "\n",
    "\n",
    "def dice_score(y_true, y_pred):\n",
    "    return 1.0 - dice_loss(y_true, y_pred)"
   ],
   "metadata": {
    "execution": {
     "iopub.status.busy": "2024-09-28T11:26:56.682471Z",
     "iopub.execute_input": "2024-09-28T11:26:56.682824Z",
     "iopub.status.idle": "2024-09-28T11:26:56.687755Z",
     "shell.execute_reply.started": "2024-09-28T11:26:56.682788Z",
     "shell.execute_reply": "2024-09-28T11:26:56.686788Z"
    },
    "trusted": true,
    "ExecuteTime": {
     "end_time": "2024-12-19T14:12:29.249461Z",
     "start_time": "2024-12-19T14:12:29.233841Z"
    }
   },
   "outputs": [],
   "execution_count": 14
  },
  {
   "metadata": {
    "ExecuteTime": {
     "end_time": "2024-12-19T14:35:16.275959Z",
     "start_time": "2024-12-19T14:35:16.260330Z"
    }
   },
   "cell_type": "code",
   "source": [
    "class UNet(nn.Module):\n",
    "    def __init__(self, n_classes=9, img_channels=1):\n",
    "        super(UNet, self).__init__()\n",
    "\n",
    "        self.conv1 = self.double_conv(img_channels, 16)\n",
    "        self.pool1 = nn.MaxPool2d(2)\n",
    "\n",
    "        self.conv2 = self.double_conv(16, 32)\n",
    "        self.pool2 = nn.MaxPool2d(2)\n",
    "\n",
    "        self.conv3 = self.double_conv(32, 64)\n",
    "        self.pool3 = nn.MaxPool2d(2)\n",
    "\n",
    "        self.conv4 = self.double_conv(64, 128)\n",
    "        self.pool4 = nn.MaxPool2d(2)\n",
    "\n",
    "        self.conv5 = self.double_conv(128, 256)\n",
    "\n",
    "        self.up6 = nn.ConvTranspose2d(256, 128, kernel_size=2, stride=2)\n",
    "        self.conv6 = self.double_conv(256, 128)\n",
    "\n",
    "        self.up7 = nn.ConvTranspose2d(128, 64, kernel_size=2, stride=2)\n",
    "        self.conv7 = self.double_conv(128, 64)\n",
    "\n",
    "        self.up8 = nn.ConvTranspose2d(64, 32, kernel_size=2, stride=2)\n",
    "        self.conv8 = self.double_conv(64, 32)\n",
    "\n",
    "        self.up9 = nn.ConvTranspose2d(32, 16, kernel_size=2, stride=2)\n",
    "        self.conv9 = self.double_conv(32, 16)\n",
    "\n",
    "        self.out_conv = nn.Conv2d(16, n_classes, kernel_size=1)\n",
    "\n",
    "    def double_conv(self, in_channels, out_channels):\n",
    "        return nn.Sequential(\n",
    "            nn.Conv2d(in_channels, out_channels, kernel_size=3, padding=1, bias=False),\n",
    "            nn.ReLU(inplace=True),\n",
    "            nn.Dropout(p),\n",
    "            nn.Conv2d(out_channels, out_channels, kernel_size=3, padding=1, bias=False),\n",
    "            nn.ReLU(inplace=True)\n",
    "        )\n",
    "\n",
    "    def forward(self, x):\n",
    "        c1 = self.conv1(x)\n",
    "        p1 = self.pool1(c1)\n",
    "\n",
    "        c2 = self.conv2(p1)\n",
    "        p2 = self.pool2(c2)\n",
    "\n",
    "        c3 = self.conv3(p2)\n",
    "        p3 = self.pool3(c3)\n",
    "\n",
    "        c4 = self.conv4(p3)\n",
    "        p4 = self.pool4(c4)\n",
    "\n",
    "        c5 = self.conv5(p4)\n",
    "\n",
    "        u6 = self.up6(c5)\n",
    "        u6 = torch.cat([u6, c4], dim=1)\n",
    "        c6 = self.conv6(u6)\n",
    "\n",
    "        u7 = self.up7(c6)\n",
    "        u7 = torch.cat([u7, c3], dim=1)\n",
    "        c7 = self.conv7(u7)\n",
    "\n",
    "        u8 = self.up8(c7)\n",
    "        u8 = torch.cat([u8, c2], dim=1)\n",
    "        c8 = self.conv8(u8)\n",
    "\n",
    "        u9 = self.up9(c8)\n",
    "        u9 = torch.cat([u9, c1], dim=1)\n",
    "        c9 = self.conv9(u9)\n",
    "\n",
    "        outputs = self.out_conv(c9)\n",
    "        return outputs"
   ],
   "outputs": [],
   "execution_count": 58
  },
  {
   "cell_type": "code",
   "source": [
    "model = UNet()\n",
    "model.to(DEVICE);"
   ],
   "metadata": {
    "id": "MuB5lh5k2WQh",
    "outputId": "307ba63c-7a26-4326-813e-9b255486068f",
    "execution": {
     "iopub.status.busy": "2024-09-28T11:26:56.720388Z",
     "iopub.execute_input": "2024-09-28T11:26:56.720666Z",
     "iopub.status.idle": "2024-09-28T11:26:57.174885Z",
     "shell.execute_reply.started": "2024-09-28T11:26:56.720636Z",
     "shell.execute_reply": "2024-09-28T11:26:57.173833Z"
    },
    "trusted": true,
    "ExecuteTime": {
     "end_time": "2024-12-19T14:35:16.553706Z",
     "start_time": "2024-12-19T14:35:16.522456Z"
    }
   },
   "outputs": [],
   "execution_count": 59
  },
  {
   "cell_type": "code",
   "source": [
    "def train_model(data_loader, model, optimizer):\n",
    "    total_loss = 0.0\n",
    "    total_score = 0.0\n",
    "    model.train()\n",
    "\n",
    "    for images, masks in tqdm(data_loader):\n",
    "        images = images.to(DEVICE)\n",
    "        masks = masks.to(DEVICE)\n",
    "\n",
    "        optimizer.zero_grad()\n",
    "        logits = model(images)\n",
    "\n",
    "        loss = dice_loss(logits, masks)\n",
    "        score = dice_score(logits, masks)\n",
    "\n",
    "        loss.backward()\n",
    "        optimizer.step()\n",
    "        total_score += score.item()\n",
    "        total_loss += loss.item()\n",
    "\n",
    "    return total_loss / len(data_loader), total_score / len(data_loader)"
   ],
   "metadata": {
    "id": "alone-voltage",
    "execution": {
     "iopub.status.busy": "2024-09-28T11:26:57.176021Z",
     "iopub.execute_input": "2024-09-28T11:26:57.176339Z",
     "iopub.status.idle": "2024-09-28T11:26:57.183052Z",
     "shell.execute_reply.started": "2024-09-28T11:26:57.176306Z",
     "shell.execute_reply": "2024-09-28T11:26:57.182164Z"
    },
    "trusted": true,
    "ExecuteTime": {
     "end_time": "2024-12-19T14:35:16.789026Z",
     "start_time": "2024-12-19T14:35:16.757775Z"
    }
   },
   "outputs": [],
   "execution_count": 60
  },
  {
   "cell_type": "code",
   "source": [
    "def eval_model(data_loader, model):\n",
    "    total_loss = 0.0\n",
    "    total_score = 0.0\n",
    "    model.eval()\n",
    "\n",
    "    with torch.no_grad():\n",
    "        for images, masks in tqdm(data_loader):\n",
    "            images = images.to(DEVICE)\n",
    "            masks = masks.to(DEVICE)\n",
    "\n",
    "            logits = model(images)\n",
    "\n",
    "            loss = dice_loss(logits, masks)\n",
    "            score = dice_score(logits, masks)\n",
    "\n",
    "            total_score += score.item()\n",
    "            total_loss += loss.item()\n",
    "\n",
    "        return total_loss / len(data_loader), total_score / len(data_loader)"
   ],
   "metadata": {
    "id": "whole-musician",
    "execution": {
     "iopub.status.busy": "2024-09-28T11:26:57.184246Z",
     "iopub.execute_input": "2024-09-28T11:26:57.184590Z",
     "iopub.status.idle": "2024-09-28T11:26:57.196892Z",
     "shell.execute_reply.started": "2024-09-28T11:26:57.184544Z",
     "shell.execute_reply": "2024-09-28T11:26:57.196189Z"
    },
    "trusted": true,
    "ExecuteTime": {
     "end_time": "2024-12-19T14:35:17.051902Z",
     "start_time": "2024-12-19T14:35:17.032820Z"
    }
   },
   "outputs": [],
   "execution_count": 61
  },
  {
   "cell_type": "code",
   "source": "optimizer = torch.optim.RMSprop(model.parameters(), lr=LR)",
   "metadata": {
    "id": "floral-france",
    "execution": {
     "iopub.status.busy": "2024-09-28T11:26:57.197853Z",
     "iopub.execute_input": "2024-09-28T11:26:57.198151Z",
     "iopub.status.idle": "2024-09-28T11:26:57.206731Z",
     "shell.execute_reply.started": "2024-09-28T11:26:57.198121Z",
     "shell.execute_reply": "2024-09-28T11:26:57.206039Z"
    },
    "trusted": true,
    "ExecuteTime": {
     "end_time": "2024-12-19T14:35:17.246328Z",
     "start_time": "2024-12-19T14:35:17.230701Z"
    }
   },
   "outputs": [],
   "execution_count": 62
  },
  {
   "cell_type": "code",
   "source": "gc.collect()",
   "metadata": {
    "execution": {
     "iopub.status.busy": "2024-09-28T11:26:57.208888Z",
     "iopub.execute_input": "2024-09-28T11:26:57.209228Z",
     "iopub.status.idle": "2024-09-28T11:26:57.522502Z",
     "shell.execute_reply.started": "2024-09-28T11:26:57.209189Z",
     "shell.execute_reply": "2024-09-28T11:26:57.521527Z"
    },
    "trusted": true,
    "ExecuteTime": {
     "end_time": "2024-12-19T14:35:17.789543Z",
     "start_time": "2024-12-19T14:35:17.589930Z"
    }
   },
   "outputs": [
    {
     "data": {
      "text/plain": [
       "761"
      ]
     },
     "execution_count": 63,
     "metadata": {},
     "output_type": "execute_result"
    }
   ],
   "execution_count": 63
  },
  {
   "cell_type": "code",
   "source": [
    "best_val_loss = 1e9\n",
    "writer = SummaryWriter(f\"runs/noisy_{p}\")\n",
    "for i in range(EPOCHS):\n",
    "    train_loss, train_score = train_model(trainloader, model, optimizer)\n",
    "    val_loss, val_score = eval_model(valloader, model)\n",
    "\n",
    "    if val_loss < best_val_loss:\n",
    "        print(\"MODEL SAVED\")\n",
    "\n",
    "        best_val_loss = val_loss\n",
    "    writer.add_scalar(\"Loss/train\", train_loss, i)\n",
    "    writer.add_scalar(\"Loss/val\", val_loss, i)\n",
    "    writer.add_scalar(\"Score/train\", train_score, i)\n",
    "    writer.add_scalar(\"Score/val\", val_score, i)\n",
    "    writer.flush()\n",
    "    print(\n",
    "        f\"\\033[1m\\033[92m Epoch {i} Train DiceLoss {train_loss} Val DiceLoss {val_loss} Train dice_score {train_score} Val dice_score {val_score}\")\n",
    "writer.close()"
   ],
   "metadata": {
    "id": "mounted-sword",
    "outputId": "23c56e95-90f6-4ab4-de45-53c9b7561db1",
    "scrolled": true,
    "execution": {
     "iopub.status.busy": "2024-09-28T11:26:57.523823Z",
     "iopub.execute_input": "2024-09-28T11:26:57.524217Z",
     "iopub.status.idle": "2024-09-28T11:39:56.859250Z",
     "shell.execute_reply.started": "2024-09-28T11:26:57.524173Z",
     "shell.execute_reply": "2024-09-28T11:39:56.858321Z"
    },
    "trusted": true,
    "ExecuteTime": {
     "end_time": "2024-12-19T14:39:38.367329Z",
     "start_time": "2024-12-19T14:35:18.376703Z"
    }
   },
   "outputs": [
    {
     "data": {
      "text/plain": [
       "  0%|          | 0/8 [00:00<?, ?it/s]"
      ],
      "application/vnd.jupyter.widget-view+json": {
       "version_major": 2,
       "version_minor": 0,
       "model_id": "ae66aef515144487a4e6beae98392e1a"
      }
     },
     "metadata": {},
     "output_type": "display_data"
    },
    {
     "data": {
      "text/plain": [
       "  0%|          | 0/3 [00:00<?, ?it/s]"
      ],
      "application/vnd.jupyter.widget-view+json": {
       "version_major": 2,
       "version_minor": 0,
       "model_id": "7908eeab7b094392ae02e31ac29b143b"
      }
     },
     "metadata": {},
     "output_type": "display_data"
    },
    {
     "name": "stdout",
     "output_type": "stream",
     "text": [
      "MODEL SAVED\n",
      "\u001B[1m\u001B[92m Epoch 0 Train DiceLoss 0.898029699921608 Val DiceLoss 0.8963162104288737 Train dice_score 0.10197030007839203 Val dice_score 0.1036837895711263\n"
     ]
    },
    {
     "data": {
      "text/plain": [
       "  0%|          | 0/8 [00:00<?, ?it/s]"
      ],
      "application/vnd.jupyter.widget-view+json": {
       "version_major": 2,
       "version_minor": 0,
       "model_id": "a732b33a77a74c42aa290eaf236c939e"
      }
     },
     "metadata": {},
     "output_type": "display_data"
    },
    {
     "data": {
      "text/plain": [
       "  0%|          | 0/3 [00:00<?, ?it/s]"
      ],
      "application/vnd.jupyter.widget-view+json": {
       "version_major": 2,
       "version_minor": 0,
       "model_id": "c3d512cefc5c4fa5985614bde16aa292"
      }
     },
     "metadata": {},
     "output_type": "display_data"
    },
    {
     "name": "stdout",
     "output_type": "stream",
     "text": [
      "MODEL SAVED\n",
      "\u001B[1m\u001B[92m Epoch 1 Train DiceLoss 0.8849950805306435 Val DiceLoss 0.8662537336349487 Train dice_score 0.11500491946935654 Val dice_score 0.13374626636505127\n"
     ]
    },
    {
     "data": {
      "text/plain": [
       "  0%|          | 0/8 [00:00<?, ?it/s]"
      ],
      "application/vnd.jupyter.widget-view+json": {
       "version_major": 2,
       "version_minor": 0,
       "model_id": "12a1b7c4f2c34c9d9cea87ba90293020"
      }
     },
     "metadata": {},
     "output_type": "display_data"
    },
    {
     "data": {
      "text/plain": [
       "  0%|          | 0/3 [00:00<?, ?it/s]"
      ],
      "application/vnd.jupyter.widget-view+json": {
       "version_major": 2,
       "version_minor": 0,
       "model_id": "f2a5a58c8c404eddb8d83898df8cf2cb"
      }
     },
     "metadata": {},
     "output_type": "display_data"
    },
    {
     "name": "stdout",
     "output_type": "stream",
     "text": [
      "MODEL SAVED\n",
      "\u001B[1m\u001B[92m Epoch 2 Train DiceLoss 0.8655993938446045 Val DiceLoss 0.8639005819956461 Train dice_score 0.1344006061553955 Val dice_score 0.13609941800435385\n"
     ]
    },
    {
     "data": {
      "text/plain": [
       "  0%|          | 0/8 [00:00<?, ?it/s]"
      ],
      "application/vnd.jupyter.widget-view+json": {
       "version_major": 2,
       "version_minor": 0,
       "model_id": "029fd2745bd74c2780c3a972add35d5c"
      }
     },
     "metadata": {},
     "output_type": "display_data"
    },
    {
     "data": {
      "text/plain": [
       "  0%|          | 0/3 [00:00<?, ?it/s]"
      ],
      "application/vnd.jupyter.widget-view+json": {
       "version_major": 2,
       "version_minor": 0,
       "model_id": "a65f1427e56c4fbbaac1b10a3ce46acb"
      }
     },
     "metadata": {},
     "output_type": "display_data"
    },
    {
     "name": "stdout",
     "output_type": "stream",
     "text": [
      "MODEL SAVED\n",
      "\u001B[1m\u001B[92m Epoch 3 Train DiceLoss 0.8643574491143227 Val DiceLoss 0.8629075884819031 Train dice_score 0.13564255088567734 Val dice_score 0.13709241151809692\n"
     ]
    },
    {
     "data": {
      "text/plain": [
       "  0%|          | 0/8 [00:00<?, ?it/s]"
      ],
      "application/vnd.jupyter.widget-view+json": {
       "version_major": 2,
       "version_minor": 0,
       "model_id": "b5216ad0e99c476782ac4d6d76adbdf2"
      }
     },
     "metadata": {},
     "output_type": "display_data"
    },
    {
     "data": {
      "text/plain": [
       "  0%|          | 0/3 [00:00<?, ?it/s]"
      ],
      "application/vnd.jupyter.widget-view+json": {
       "version_major": 2,
       "version_minor": 0,
       "model_id": "40ba28c65fbb4bd48d8f3264abf970af"
      }
     },
     "metadata": {},
     "output_type": "display_data"
    },
    {
     "name": "stdout",
     "output_type": "stream",
     "text": [
      "MODEL SAVED\n",
      "\u001B[1m\u001B[92m Epoch 4 Train DiceLoss 0.8637634292244911 Val DiceLoss 0.862678607304891 Train dice_score 0.13623657077550888 Val dice_score 0.13732139269510904\n"
     ]
    },
    {
     "data": {
      "text/plain": [
       "  0%|          | 0/8 [00:00<?, ?it/s]"
      ],
      "application/vnd.jupyter.widget-view+json": {
       "version_major": 2,
       "version_minor": 0,
       "model_id": "fa4ae5bec8a24049825b80db0614a7aa"
      }
     },
     "metadata": {},
     "output_type": "display_data"
    },
    {
     "data": {
      "text/plain": [
       "  0%|          | 0/3 [00:00<?, ?it/s]"
      ],
      "application/vnd.jupyter.widget-view+json": {
       "version_major": 2,
       "version_minor": 0,
       "model_id": "5f056a52a2c24f3b8f2aff92637f7f50"
      }
     },
     "metadata": {},
     "output_type": "display_data"
    },
    {
     "name": "stdout",
     "output_type": "stream",
     "text": [
      "MODEL SAVED\n",
      "\u001B[1m\u001B[92m Epoch 5 Train DiceLoss 0.8629736229777336 Val DiceLoss 0.8610018690427145 Train dice_score 0.1370263770222664 Val dice_score 0.13899813095728555\n"
     ]
    },
    {
     "data": {
      "text/plain": [
       "  0%|          | 0/8 [00:00<?, ?it/s]"
      ],
      "application/vnd.jupyter.widget-view+json": {
       "version_major": 2,
       "version_minor": 0,
       "model_id": "98ac6e18f4204d009c2d22d8828cec41"
      }
     },
     "metadata": {},
     "output_type": "display_data"
    },
    {
     "data": {
      "text/plain": [
       "  0%|          | 0/3 [00:00<?, ?it/s]"
      ],
      "application/vnd.jupyter.widget-view+json": {
       "version_major": 2,
       "version_minor": 0,
       "model_id": "3641427dfaf64cd4a6d330628b7c8f0c"
      }
     },
     "metadata": {},
     "output_type": "display_data"
    },
    {
     "name": "stdout",
     "output_type": "stream",
     "text": [
      "MODEL SAVED\n",
      "\u001B[1m\u001B[92m Epoch 6 Train DiceLoss 0.8619098737835884 Val DiceLoss 0.8597555160522461 Train dice_score 0.1380901262164116 Val dice_score 0.1402444839477539\n"
     ]
    },
    {
     "data": {
      "text/plain": [
       "  0%|          | 0/8 [00:00<?, ?it/s]"
      ],
      "application/vnd.jupyter.widget-view+json": {
       "version_major": 2,
       "version_minor": 0,
       "model_id": "7d5995da9ead4403ad4b0525bda4d3c4"
      }
     },
     "metadata": {},
     "output_type": "display_data"
    },
    {
     "data": {
      "text/plain": [
       "  0%|          | 0/3 [00:00<?, ?it/s]"
      ],
      "application/vnd.jupyter.widget-view+json": {
       "version_major": 2,
       "version_minor": 0,
       "model_id": "25f5b723120a4e8b8fc70a1130b5f035"
      }
     },
     "metadata": {},
     "output_type": "display_data"
    },
    {
     "name": "stdout",
     "output_type": "stream",
     "text": [
      "MODEL SAVED\n",
      "\u001B[1m\u001B[92m Epoch 7 Train DiceLoss 0.8601456955075264 Val DiceLoss 0.858785351117452 Train dice_score 0.1398543044924736 Val dice_score 0.141214648882548\n"
     ]
    },
    {
     "data": {
      "text/plain": [
       "  0%|          | 0/8 [00:00<?, ?it/s]"
      ],
      "application/vnd.jupyter.widget-view+json": {
       "version_major": 2,
       "version_minor": 0,
       "model_id": "c8ec09db5315421c940bc6e7de187df4"
      }
     },
     "metadata": {},
     "output_type": "display_data"
    },
    {
     "data": {
      "text/plain": [
       "  0%|          | 0/3 [00:00<?, ?it/s]"
      ],
      "application/vnd.jupyter.widget-view+json": {
       "version_major": 2,
       "version_minor": 0,
       "model_id": "671f3978813d4b23a105df9b599c194c"
      }
     },
     "metadata": {},
     "output_type": "display_data"
    },
    {
     "name": "stdout",
     "output_type": "stream",
     "text": [
      "MODEL SAVED\n",
      "\u001B[1m\u001B[92m Epoch 8 Train DiceLoss 0.858846552670002 Val DiceLoss 0.8565917412439982 Train dice_score 0.14115344732999802 Val dice_score 0.1434082587560018\n"
     ]
    },
    {
     "data": {
      "text/plain": [
       "  0%|          | 0/8 [00:00<?, ?it/s]"
      ],
      "application/vnd.jupyter.widget-view+json": {
       "version_major": 2,
       "version_minor": 0,
       "model_id": "3e16100468eb467bafec677d5d2252fa"
      }
     },
     "metadata": {},
     "output_type": "display_data"
    },
    {
     "data": {
      "text/plain": [
       "  0%|          | 0/3 [00:00<?, ?it/s]"
      ],
      "application/vnd.jupyter.widget-view+json": {
       "version_major": 2,
       "version_minor": 0,
       "model_id": "b9f7eb45c1a047fc8c734f0ada5c93ed"
      }
     },
     "metadata": {},
     "output_type": "display_data"
    },
    {
     "name": "stdout",
     "output_type": "stream",
     "text": [
      "MODEL SAVED\n",
      "\u001B[1m\u001B[92m Epoch 9 Train DiceLoss 0.8578089773654938 Val DiceLoss 0.8555661837259928 Train dice_score 0.14219102263450623 Val dice_score 0.14443381627400717\n"
     ]
    },
    {
     "data": {
      "text/plain": [
       "  0%|          | 0/8 [00:00<?, ?it/s]"
      ],
      "application/vnd.jupyter.widget-view+json": {
       "version_major": 2,
       "version_minor": 0,
       "model_id": "92b694149e19466eb76d2bd88b0e6b36"
      }
     },
     "metadata": {},
     "output_type": "display_data"
    },
    {
     "data": {
      "text/plain": [
       "  0%|          | 0/3 [00:00<?, ?it/s]"
      ],
      "application/vnd.jupyter.widget-view+json": {
       "version_major": 2,
       "version_minor": 0,
       "model_id": "57ce686e129e433b8ea0b02a143d0d3a"
      }
     },
     "metadata": {},
     "output_type": "display_data"
    },
    {
     "name": "stdout",
     "output_type": "stream",
     "text": [
      "MODEL SAVED\n",
      "\u001B[1m\u001B[92m Epoch 10 Train DiceLoss 0.8569946363568306 Val DiceLoss 0.8552788893381754 Train dice_score 0.1430053636431694 Val dice_score 0.14472111066182455\n"
     ]
    },
    {
     "data": {
      "text/plain": [
       "  0%|          | 0/8 [00:00<?, ?it/s]"
      ],
      "application/vnd.jupyter.widget-view+json": {
       "version_major": 2,
       "version_minor": 0,
       "model_id": "71b55fecab2645c1b373f8cfb898672b"
      }
     },
     "metadata": {},
     "output_type": "display_data"
    },
    {
     "data": {
      "text/plain": [
       "  0%|          | 0/3 [00:00<?, ?it/s]"
      ],
      "application/vnd.jupyter.widget-view+json": {
       "version_major": 2,
       "version_minor": 0,
       "model_id": "86ad32fa38c443b78970ca7032b1f24c"
      }
     },
     "metadata": {},
     "output_type": "display_data"
    },
    {
     "name": "stdout",
     "output_type": "stream",
     "text": [
      "MODEL SAVED\n",
      "\u001B[1m\u001B[92m Epoch 11 Train DiceLoss 0.8560933619737625 Val DiceLoss 0.8542777299880981 Train dice_score 0.1439066380262375 Val dice_score 0.14572227001190186\n"
     ]
    },
    {
     "data": {
      "text/plain": [
       "  0%|          | 0/8 [00:00<?, ?it/s]"
      ],
      "application/vnd.jupyter.widget-view+json": {
       "version_major": 2,
       "version_minor": 0,
       "model_id": "a8bbe5236dce41dabf0a96f8e0ec7438"
      }
     },
     "metadata": {},
     "output_type": "display_data"
    },
    {
     "data": {
      "text/plain": [
       "  0%|          | 0/3 [00:00<?, ?it/s]"
      ],
      "application/vnd.jupyter.widget-view+json": {
       "version_major": 2,
       "version_minor": 0,
       "model_id": "05c3a54fdf4a4532a7ceb7ea60b3088a"
      }
     },
     "metadata": {},
     "output_type": "display_data"
    },
    {
     "name": "stdout",
     "output_type": "stream",
     "text": [
      "MODEL SAVED\n",
      "\u001B[1m\u001B[92m Epoch 12 Train DiceLoss 0.8556527495384216 Val DiceLoss 0.8540340264638265 Train dice_score 0.14434725046157837 Val dice_score 0.1459659735361735\n"
     ]
    },
    {
     "data": {
      "text/plain": [
       "  0%|          | 0/8 [00:00<?, ?it/s]"
      ],
      "application/vnd.jupyter.widget-view+json": {
       "version_major": 2,
       "version_minor": 0,
       "model_id": "e1920ac30fce4fce9e6c732b87850574"
      }
     },
     "metadata": {},
     "output_type": "display_data"
    },
    {
     "data": {
      "text/plain": [
       "  0%|          | 0/3 [00:00<?, ?it/s]"
      ],
      "application/vnd.jupyter.widget-view+json": {
       "version_major": 2,
       "version_minor": 0,
       "model_id": "7cc576fda24c4abba20457f4406a60f9"
      }
     },
     "metadata": {},
     "output_type": "display_data"
    },
    {
     "name": "stdout",
     "output_type": "stream",
     "text": [
      "MODEL SAVED\n",
      "\u001B[1m\u001B[92m Epoch 13 Train DiceLoss 0.8544461876153946 Val DiceLoss 0.8524850408236185 Train dice_score 0.1455538123846054 Val dice_score 0.14751495917638144\n"
     ]
    },
    {
     "data": {
      "text/plain": [
       "  0%|          | 0/8 [00:00<?, ?it/s]"
      ],
      "application/vnd.jupyter.widget-view+json": {
       "version_major": 2,
       "version_minor": 0,
       "model_id": "01af6ed30f854d0592e0b3de1488ffb6"
      }
     },
     "metadata": {},
     "output_type": "display_data"
    },
    {
     "data": {
      "text/plain": [
       "  0%|          | 0/3 [00:00<?, ?it/s]"
      ],
      "application/vnd.jupyter.widget-view+json": {
       "version_major": 2,
       "version_minor": 0,
       "model_id": "ec542ecd2cb84badabc4ba50d44fd860"
      }
     },
     "metadata": {},
     "output_type": "display_data"
    },
    {
     "name": "stdout",
     "output_type": "stream",
     "text": [
      "MODEL SAVED\n",
      "\u001B[1m\u001B[92m Epoch 14 Train DiceLoss 0.8536291867494583 Val DiceLoss 0.8510524233182272 Train dice_score 0.1463708132505417 Val dice_score 0.14894757668177286\n"
     ]
    },
    {
     "data": {
      "text/plain": [
       "  0%|          | 0/8 [00:00<?, ?it/s]"
      ],
      "application/vnd.jupyter.widget-view+json": {
       "version_major": 2,
       "version_minor": 0,
       "model_id": "c09a967ed9b1418b8302bbda3f69de3b"
      }
     },
     "metadata": {},
     "output_type": "display_data"
    },
    {
     "data": {
      "text/plain": [
       "  0%|          | 0/3 [00:00<?, ?it/s]"
      ],
      "application/vnd.jupyter.widget-view+json": {
       "version_major": 2,
       "version_minor": 0,
       "model_id": "4955ba20d6154c95a1eec46b3ed69756"
      }
     },
     "metadata": {},
     "output_type": "display_data"
    },
    {
     "name": "stdout",
     "output_type": "stream",
     "text": [
      "MODEL SAVED\n",
      "\u001B[1m\u001B[92m Epoch 15 Train DiceLoss 0.8523640111088753 Val DiceLoss 0.850072960058848 Train dice_score 0.14763598889112473 Val dice_score 0.14992703994115195\n"
     ]
    },
    {
     "data": {
      "text/plain": [
       "  0%|          | 0/8 [00:00<?, ?it/s]"
      ],
      "application/vnd.jupyter.widget-view+json": {
       "version_major": 2,
       "version_minor": 0,
       "model_id": "b1186c485f2b44398be81859ad253131"
      }
     },
     "metadata": {},
     "output_type": "display_data"
    },
    {
     "data": {
      "text/plain": [
       "  0%|          | 0/3 [00:00<?, ?it/s]"
      ],
      "application/vnd.jupyter.widget-view+json": {
       "version_major": 2,
       "version_minor": 0,
       "model_id": "0ac3dc4617ee45768d02f91f66703dcd"
      }
     },
     "metadata": {},
     "output_type": "display_data"
    },
    {
     "name": "stdout",
     "output_type": "stream",
     "text": [
      "\u001B[1m\u001B[92m Epoch 16 Train DiceLoss 0.8495738282799721 Val DiceLoss 0.8533567388852438 Train dice_score 0.15042617172002792 Val dice_score 0.14664326111475626\n"
     ]
    },
    {
     "data": {
      "text/plain": [
       "  0%|          | 0/8 [00:00<?, ?it/s]"
      ],
      "application/vnd.jupyter.widget-view+json": {
       "version_major": 2,
       "version_minor": 0,
       "model_id": "5a0c13cf181f42658b3a069582a96282"
      }
     },
     "metadata": {},
     "output_type": "display_data"
    },
    {
     "data": {
      "text/plain": [
       "  0%|          | 0/3 [00:00<?, ?it/s]"
      ],
      "application/vnd.jupyter.widget-view+json": {
       "version_major": 2,
       "version_minor": 0,
       "model_id": "c05bddd4102b400082b00598c67e5cda"
      }
     },
     "metadata": {},
     "output_type": "display_data"
    },
    {
     "name": "stdout",
     "output_type": "stream",
     "text": [
      "\u001B[1m\u001B[92m Epoch 17 Train DiceLoss 0.8455654606223106 Val DiceLoss 0.85926353931427 Train dice_score 0.15443453937768936 Val dice_score 0.14073646068572998\n"
     ]
    },
    {
     "data": {
      "text/plain": [
       "  0%|          | 0/8 [00:00<?, ?it/s]"
      ],
      "application/vnd.jupyter.widget-view+json": {
       "version_major": 2,
       "version_minor": 0,
       "model_id": "e0bd1e2259244d4084e46096d4023cd7"
      }
     },
     "metadata": {},
     "output_type": "display_data"
    },
    {
     "data": {
      "text/plain": [
       "  0%|          | 0/3 [00:00<?, ?it/s]"
      ],
      "application/vnd.jupyter.widget-view+json": {
       "version_major": 2,
       "version_minor": 0,
       "model_id": "f14d239409894c4e8ce65a1bf6ad7cce"
      }
     },
     "metadata": {},
     "output_type": "display_data"
    },
    {
     "name": "stdout",
     "output_type": "stream",
     "text": [
      "\u001B[1m\u001B[92m Epoch 18 Train DiceLoss 0.8580579310655594 Val DiceLoss 0.8726287881533304 Train dice_score 0.1419420689344406 Val dice_score 0.12737121184666952\n"
     ]
    },
    {
     "data": {
      "text/plain": [
       "  0%|          | 0/8 [00:00<?, ?it/s]"
      ],
      "application/vnd.jupyter.widget-view+json": {
       "version_major": 2,
       "version_minor": 0,
       "model_id": "40e856f74e964766947a22bda454d125"
      }
     },
     "metadata": {},
     "output_type": "display_data"
    },
    {
     "data": {
      "text/plain": [
       "  0%|          | 0/3 [00:00<?, ?it/s]"
      ],
      "application/vnd.jupyter.widget-view+json": {
       "version_major": 2,
       "version_minor": 0,
       "model_id": "21b51366a8604e88b927b18fada796f5"
      }
     },
     "metadata": {},
     "output_type": "display_data"
    },
    {
     "name": "stdout",
     "output_type": "stream",
     "text": [
      "MODEL SAVED\n",
      "\u001B[1m\u001B[92m Epoch 19 Train DiceLoss 0.8420312777161598 Val DiceLoss 0.8478537797927856 Train dice_score 0.15796872228384018 Val dice_score 0.15214622020721436\n"
     ]
    },
    {
     "data": {
      "text/plain": [
       "  0%|          | 0/8 [00:00<?, ?it/s]"
      ],
      "application/vnd.jupyter.widget-view+json": {
       "version_major": 2,
       "version_minor": 0,
       "model_id": "a5d01dc6554a471c837533e5add12cdf"
      }
     },
     "metadata": {},
     "output_type": "display_data"
    },
    {
     "data": {
      "text/plain": [
       "  0%|          | 0/3 [00:00<?, ?it/s]"
      ],
      "application/vnd.jupyter.widget-view+json": {
       "version_major": 2,
       "version_minor": 0,
       "model_id": "11f532625fb041ed8c47c44565a9adaa"
      }
     },
     "metadata": {},
     "output_type": "display_data"
    },
    {
     "name": "stdout",
     "output_type": "stream",
     "text": [
      "MODEL SAVED\n",
      "\u001B[1m\u001B[92m Epoch 20 Train DiceLoss 0.8023155555129051 Val DiceLoss 0.7394803762435913 Train dice_score 0.19768444448709488 Val dice_score 0.2605196237564087\n"
     ]
    },
    {
     "data": {
      "text/plain": [
       "  0%|          | 0/8 [00:00<?, ?it/s]"
      ],
      "application/vnd.jupyter.widget-view+json": {
       "version_major": 2,
       "version_minor": 0,
       "model_id": "b17f25e256d34e969e445f4dd41ed61f"
      }
     },
     "metadata": {},
     "output_type": "display_data"
    },
    {
     "data": {
      "text/plain": [
       "  0%|          | 0/3 [00:00<?, ?it/s]"
      ],
      "application/vnd.jupyter.widget-view+json": {
       "version_major": 2,
       "version_minor": 0,
       "model_id": "7868f12d7c634e42a93f14f409e2210c"
      }
     },
     "metadata": {},
     "output_type": "display_data"
    },
    {
     "name": "stdout",
     "output_type": "stream",
     "text": [
      "\u001B[1m\u001B[92m Epoch 21 Train DiceLoss 0.7806675434112549 Val DiceLoss 0.7968471050262451 Train dice_score 0.21933245658874512 Val dice_score 0.20315289497375488\n"
     ]
    },
    {
     "data": {
      "text/plain": [
       "  0%|          | 0/8 [00:00<?, ?it/s]"
      ],
      "application/vnd.jupyter.widget-view+json": {
       "version_major": 2,
       "version_minor": 0,
       "model_id": "519679bab85148eeb357c15c53b7e1c0"
      }
     },
     "metadata": {},
     "output_type": "display_data"
    },
    {
     "data": {
      "text/plain": [
       "  0%|          | 0/3 [00:00<?, ?it/s]"
      ],
      "application/vnd.jupyter.widget-view+json": {
       "version_major": 2,
       "version_minor": 0,
       "model_id": "a36a88722e754fda94550594160e4970"
      }
     },
     "metadata": {},
     "output_type": "display_data"
    },
    {
     "name": "stdout",
     "output_type": "stream",
     "text": [
      "\u001B[1m\u001B[92m Epoch 22 Train DiceLoss 0.766899585723877 Val DiceLoss 0.7480727036794027 Train dice_score 0.23310041427612305 Val dice_score 0.25192729632059735\n"
     ]
    },
    {
     "data": {
      "text/plain": [
       "  0%|          | 0/8 [00:00<?, ?it/s]"
      ],
      "application/vnd.jupyter.widget-view+json": {
       "version_major": 2,
       "version_minor": 0,
       "model_id": "c99f6c4e154a4620954c56fc56e8aa5b"
      }
     },
     "metadata": {},
     "output_type": "display_data"
    },
    {
     "data": {
      "text/plain": [
       "  0%|          | 0/3 [00:00<?, ?it/s]"
      ],
      "application/vnd.jupyter.widget-view+json": {
       "version_major": 2,
       "version_minor": 0,
       "model_id": "a6ca935bd2a04f058d9ca65c08d56b58"
      }
     },
     "metadata": {},
     "output_type": "display_data"
    },
    {
     "name": "stdout",
     "output_type": "stream",
     "text": [
      "MODEL SAVED\n",
      "\u001B[1m\u001B[92m Epoch 23 Train DiceLoss 0.7487547844648361 Val DiceLoss 0.7265783349672953 Train dice_score 0.2512452155351639 Val dice_score 0.27342166503270465\n"
     ]
    },
    {
     "data": {
      "text/plain": [
       "  0%|          | 0/8 [00:00<?, ?it/s]"
      ],
      "application/vnd.jupyter.widget-view+json": {
       "version_major": 2,
       "version_minor": 0,
       "model_id": "ee5d230aa3064561886ba66c28f718bc"
      }
     },
     "metadata": {},
     "output_type": "display_data"
    },
    {
     "data": {
      "text/plain": [
       "  0%|          | 0/3 [00:00<?, ?it/s]"
      ],
      "application/vnd.jupyter.widget-view+json": {
       "version_major": 2,
       "version_minor": 0,
       "model_id": "e037704967ce418ca5af25aeddf3a8f0"
      }
     },
     "metadata": {},
     "output_type": "display_data"
    },
    {
     "name": "stdout",
     "output_type": "stream",
     "text": [
      "\u001B[1m\u001B[92m Epoch 24 Train DiceLoss 0.7370814234018326 Val DiceLoss 0.7326045036315918 Train dice_score 0.2629185765981674 Val dice_score 0.2673954963684082\n"
     ]
    },
    {
     "data": {
      "text/plain": [
       "  0%|          | 0/8 [00:00<?, ?it/s]"
      ],
      "application/vnd.jupyter.widget-view+json": {
       "version_major": 2,
       "version_minor": 0,
       "model_id": "23dc304be6cc41b7849794916460908b"
      }
     },
     "metadata": {},
     "output_type": "display_data"
    },
    {
     "data": {
      "text/plain": [
       "  0%|          | 0/3 [00:00<?, ?it/s]"
      ],
      "application/vnd.jupyter.widget-view+json": {
       "version_major": 2,
       "version_minor": 0,
       "model_id": "5a78bad61bb34137927400c0bae3b8e3"
      }
     },
     "metadata": {},
     "output_type": "display_data"
    },
    {
     "name": "stdout",
     "output_type": "stream",
     "text": [
      "MODEL SAVED\n",
      "\u001B[1m\u001B[92m Epoch 25 Train DiceLoss 0.7225532680749893 Val DiceLoss 0.7039704124132792 Train dice_score 0.2774467319250107 Val dice_score 0.29602958758672077\n"
     ]
    },
    {
     "data": {
      "text/plain": [
       "  0%|          | 0/8 [00:00<?, ?it/s]"
      ],
      "application/vnd.jupyter.widget-view+json": {
       "version_major": 2,
       "version_minor": 0,
       "model_id": "2fc4b20c3f124be59879ed7504ab861b"
      }
     },
     "metadata": {},
     "output_type": "display_data"
    },
    {
     "data": {
      "text/plain": [
       "  0%|          | 0/3 [00:00<?, ?it/s]"
      ],
      "application/vnd.jupyter.widget-view+json": {
       "version_major": 2,
       "version_minor": 0,
       "model_id": "4588797be37741aaafca24d5a21a0135"
      }
     },
     "metadata": {},
     "output_type": "display_data"
    },
    {
     "name": "stdout",
     "output_type": "stream",
     "text": [
      "MODEL SAVED\n",
      "\u001B[1m\u001B[92m Epoch 26 Train DiceLoss 0.7148942574858665 Val DiceLoss 0.6998712221781412 Train dice_score 0.28510574251413345 Val dice_score 0.3001287778218587\n"
     ]
    },
    {
     "data": {
      "text/plain": [
       "  0%|          | 0/8 [00:00<?, ?it/s]"
      ],
      "application/vnd.jupyter.widget-view+json": {
       "version_major": 2,
       "version_minor": 0,
       "model_id": "bd53416644bb47678fda24878050df3c"
      }
     },
     "metadata": {},
     "output_type": "display_data"
    },
    {
     "data": {
      "text/plain": [
       "  0%|          | 0/3 [00:00<?, ?it/s]"
      ],
      "application/vnd.jupyter.widget-view+json": {
       "version_major": 2,
       "version_minor": 0,
       "model_id": "6e0d88f85878426181329b103fb382dc"
      }
     },
     "metadata": {},
     "output_type": "display_data"
    },
    {
     "name": "stdout",
     "output_type": "stream",
     "text": [
      "MODEL SAVED\n",
      "\u001B[1m\u001B[92m Epoch 27 Train DiceLoss 0.6910035833716393 Val DiceLoss 0.6708674629529318 Train dice_score 0.30899641662836075 Val dice_score 0.3291325370470683\n"
     ]
    },
    {
     "data": {
      "text/plain": [
       "  0%|          | 0/8 [00:00<?, ?it/s]"
      ],
      "application/vnd.jupyter.widget-view+json": {
       "version_major": 2,
       "version_minor": 0,
       "model_id": "0a0e2e7cefcd46e38135633c61c94d62"
      }
     },
     "metadata": {},
     "output_type": "display_data"
    },
    {
     "data": {
      "text/plain": [
       "  0%|          | 0/3 [00:00<?, ?it/s]"
      ],
      "application/vnd.jupyter.widget-view+json": {
       "version_major": 2,
       "version_minor": 0,
       "model_id": "0b4b3d88d6b7465680ca1c191efb5df6"
      }
     },
     "metadata": {},
     "output_type": "display_data"
    },
    {
     "name": "stdout",
     "output_type": "stream",
     "text": [
      "MODEL SAVED\n",
      "\u001B[1m\u001B[92m Epoch 28 Train DiceLoss 0.6831056028604507 Val DiceLoss 0.667777419090271 Train dice_score 0.31689439713954926 Val dice_score 0.332222580909729\n"
     ]
    },
    {
     "data": {
      "text/plain": [
       "  0%|          | 0/8 [00:00<?, ?it/s]"
      ],
      "application/vnd.jupyter.widget-view+json": {
       "version_major": 2,
       "version_minor": 0,
       "model_id": "4aef16fe03574ac695b9a813c768ee45"
      }
     },
     "metadata": {},
     "output_type": "display_data"
    },
    {
     "data": {
      "text/plain": [
       "  0%|          | 0/3 [00:00<?, ?it/s]"
      ],
      "application/vnd.jupyter.widget-view+json": {
       "version_major": 2,
       "version_minor": 0,
       "model_id": "57f5fa1332054430960e1f7dd07be889"
      }
     },
     "metadata": {},
     "output_type": "display_data"
    },
    {
     "name": "stdout",
     "output_type": "stream",
     "text": [
      "\u001B[1m\u001B[92m Epoch 29 Train DiceLoss 0.6743162646889687 Val DiceLoss 0.6776573657989502 Train dice_score 0.32568373531103134 Val dice_score 0.3223426342010498\n"
     ]
    },
    {
     "data": {
      "text/plain": [
       "  0%|          | 0/8 [00:00<?, ?it/s]"
      ],
      "application/vnd.jupyter.widget-view+json": {
       "version_major": 2,
       "version_minor": 0,
       "model_id": "793e746521104e5f92d1158115ac295c"
      }
     },
     "metadata": {},
     "output_type": "display_data"
    },
    {
     "data": {
      "text/plain": [
       "  0%|          | 0/3 [00:00<?, ?it/s]"
      ],
      "application/vnd.jupyter.widget-view+json": {
       "version_major": 2,
       "version_minor": 0,
       "model_id": "bb3110070711412599589e5f506461f5"
      }
     },
     "metadata": {},
     "output_type": "display_data"
    },
    {
     "name": "stdout",
     "output_type": "stream",
     "text": [
      "MODEL SAVED\n",
      "\u001B[1m\u001B[92m Epoch 30 Train DiceLoss 0.6805743724107742 Val DiceLoss 0.6337109009424845 Train dice_score 0.31942562758922577 Val dice_score 0.36628909905751544\n"
     ]
    },
    {
     "data": {
      "text/plain": [
       "  0%|          | 0/8 [00:00<?, ?it/s]"
      ],
      "application/vnd.jupyter.widget-view+json": {
       "version_major": 2,
       "version_minor": 0,
       "model_id": "840bf10f4248429ca9f9c32344c67f83"
      }
     },
     "metadata": {},
     "output_type": "display_data"
    },
    {
     "data": {
      "text/plain": [
       "  0%|          | 0/3 [00:00<?, ?it/s]"
      ],
      "application/vnd.jupyter.widget-view+json": {
       "version_major": 2,
       "version_minor": 0,
       "model_id": "d3719a02acf440db8806b7a7f99b0b7c"
      }
     },
     "metadata": {},
     "output_type": "display_data"
    },
    {
     "name": "stdout",
     "output_type": "stream",
     "text": [
      "MODEL SAVED\n",
      "\u001B[1m\u001B[92m Epoch 31 Train DiceLoss 0.6526415720582008 Val DiceLoss 0.6271701653798422 Train dice_score 0.34735842794179916 Val dice_score 0.3728298346201579\n"
     ]
    },
    {
     "data": {
      "text/plain": [
       "  0%|          | 0/8 [00:00<?, ?it/s]"
      ],
      "application/vnd.jupyter.widget-view+json": {
       "version_major": 2,
       "version_minor": 0,
       "model_id": "0542b48f52cf4625897a86a819326ad7"
      }
     },
     "metadata": {},
     "output_type": "display_data"
    },
    {
     "data": {
      "text/plain": [
       "  0%|          | 0/3 [00:00<?, ?it/s]"
      ],
      "application/vnd.jupyter.widget-view+json": {
       "version_major": 2,
       "version_minor": 0,
       "model_id": "20bc6d271c9145c597ef5a8bb17d1852"
      }
     },
     "metadata": {},
     "output_type": "display_data"
    },
    {
     "name": "stdout",
     "output_type": "stream",
     "text": [
      "\u001B[1m\u001B[92m Epoch 32 Train DiceLoss 0.6443049684166908 Val DiceLoss 0.628471295038859 Train dice_score 0.3556950315833092 Val dice_score 0.37152870496114093\n"
     ]
    },
    {
     "data": {
      "text/plain": [
       "  0%|          | 0/8 [00:00<?, ?it/s]"
      ],
      "application/vnd.jupyter.widget-view+json": {
       "version_major": 2,
       "version_minor": 0,
       "model_id": "d3145e674d824d1aacc154f71fd564ae"
      }
     },
     "metadata": {},
     "output_type": "display_data"
    },
    {
     "data": {
      "text/plain": [
       "  0%|          | 0/3 [00:00<?, ?it/s]"
      ],
      "application/vnd.jupyter.widget-view+json": {
       "version_major": 2,
       "version_minor": 0,
       "model_id": "61d9a8f366664260898b285ff061dff8"
      }
     },
     "metadata": {},
     "output_type": "display_data"
    },
    {
     "name": "stdout",
     "output_type": "stream",
     "text": [
      "\u001B[1m\u001B[92m Epoch 33 Train DiceLoss 0.635189451277256 Val DiceLoss 0.6542901992797852 Train dice_score 0.364810548722744 Val dice_score 0.34570980072021484\n"
     ]
    },
    {
     "data": {
      "text/plain": [
       "  0%|          | 0/8 [00:00<?, ?it/s]"
      ],
      "application/vnd.jupyter.widget-view+json": {
       "version_major": 2,
       "version_minor": 0,
       "model_id": "93c36576949247ef8ef0aba4c444e0b5"
      }
     },
     "metadata": {},
     "output_type": "display_data"
    },
    {
     "data": {
      "text/plain": [
       "  0%|          | 0/3 [00:00<?, ?it/s]"
      ],
      "application/vnd.jupyter.widget-view+json": {
       "version_major": 2,
       "version_minor": 0,
       "model_id": "13a2b1e1505d4332b5210890ac6858ee"
      }
     },
     "metadata": {},
     "output_type": "display_data"
    },
    {
     "name": "stdout",
     "output_type": "stream",
     "text": [
      "MODEL SAVED\n",
      "\u001B[1m\u001B[92m Epoch 34 Train DiceLoss 0.6276222318410873 Val DiceLoss 0.612845222155253 Train dice_score 0.37237776815891266 Val dice_score 0.3871547778447469\n"
     ]
    },
    {
     "data": {
      "text/plain": [
       "  0%|          | 0/8 [00:00<?, ?it/s]"
      ],
      "application/vnd.jupyter.widget-view+json": {
       "version_major": 2,
       "version_minor": 0,
       "model_id": "633631ba32004ea5919cb70e355b19e1"
      }
     },
     "metadata": {},
     "output_type": "display_data"
    },
    {
     "data": {
      "text/plain": [
       "  0%|          | 0/3 [00:00<?, ?it/s]"
      ],
      "application/vnd.jupyter.widget-view+json": {
       "version_major": 2,
       "version_minor": 0,
       "model_id": "158544827a314725b66b73554f42f062"
      }
     },
     "metadata": {},
     "output_type": "display_data"
    },
    {
     "name": "stdout",
     "output_type": "stream",
     "text": [
      "MODEL SAVED\n",
      "\u001B[1m\u001B[92m Epoch 35 Train DiceLoss 0.6171388030052185 Val DiceLoss 0.5960563619931539 Train dice_score 0.3828611969947815 Val dice_score 0.40394363800684613\n"
     ]
    },
    {
     "data": {
      "text/plain": [
       "  0%|          | 0/8 [00:00<?, ?it/s]"
      ],
      "application/vnd.jupyter.widget-view+json": {
       "version_major": 2,
       "version_minor": 0,
       "model_id": "1723ec40ccc84b5fbc312c4e7c6bc349"
      }
     },
     "metadata": {},
     "output_type": "display_data"
    },
    {
     "data": {
      "text/plain": [
       "  0%|          | 0/3 [00:00<?, ?it/s]"
      ],
      "application/vnd.jupyter.widget-view+json": {
       "version_major": 2,
       "version_minor": 0,
       "model_id": "6de2c5bde82c49f08874d01ab831f7b3"
      }
     },
     "metadata": {},
     "output_type": "display_data"
    },
    {
     "name": "stdout",
     "output_type": "stream",
     "text": [
      "\u001B[1m\u001B[92m Epoch 36 Train DiceLoss 0.6229632645845413 Val DiceLoss 0.6019631028175354 Train dice_score 0.3770367354154587 Val dice_score 0.3980368971824646\n"
     ]
    },
    {
     "data": {
      "text/plain": [
       "  0%|          | 0/8 [00:00<?, ?it/s]"
      ],
      "application/vnd.jupyter.widget-view+json": {
       "version_major": 2,
       "version_minor": 0,
       "model_id": "6d158d64e1334b668c8228b6b33f7450"
      }
     },
     "metadata": {},
     "output_type": "display_data"
    },
    {
     "data": {
      "text/plain": [
       "  0%|          | 0/3 [00:00<?, ?it/s]"
      ],
      "application/vnd.jupyter.widget-view+json": {
       "version_major": 2,
       "version_minor": 0,
       "model_id": "dfca5af4abd34dd0800b20f700263396"
      }
     },
     "metadata": {},
     "output_type": "display_data"
    },
    {
     "name": "stdout",
     "output_type": "stream",
     "text": [
      "MODEL SAVED\n",
      "\u001B[1m\u001B[92m Epoch 37 Train DiceLoss 0.6077529191970825 Val DiceLoss 0.5898411273956299 Train dice_score 0.3922470808029175 Val dice_score 0.4101588726043701\n"
     ]
    },
    {
     "data": {
      "text/plain": [
       "  0%|          | 0/8 [00:00<?, ?it/s]"
      ],
      "application/vnd.jupyter.widget-view+json": {
       "version_major": 2,
       "version_minor": 0,
       "model_id": "eb36bb2656c245a3ad284dd7bd017e26"
      }
     },
     "metadata": {},
     "output_type": "display_data"
    },
    {
     "data": {
      "text/plain": [
       "  0%|          | 0/3 [00:00<?, ?it/s]"
      ],
      "application/vnd.jupyter.widget-view+json": {
       "version_major": 2,
       "version_minor": 0,
       "model_id": "fa255a629726471896ab345305814496"
      }
     },
     "metadata": {},
     "output_type": "display_data"
    },
    {
     "name": "stdout",
     "output_type": "stream",
     "text": [
      "\u001B[1m\u001B[92m Epoch 38 Train DiceLoss 0.6099485978484154 Val DiceLoss 0.5903151432673136 Train dice_score 0.3900514021515846 Val dice_score 0.40968485673268634\n"
     ]
    },
    {
     "data": {
      "text/plain": [
       "  0%|          | 0/8 [00:00<?, ?it/s]"
      ],
      "application/vnd.jupyter.widget-view+json": {
       "version_major": 2,
       "version_minor": 0,
       "model_id": "b70f02cf345d4699b02e148f20fde0f4"
      }
     },
     "metadata": {},
     "output_type": "display_data"
    },
    {
     "data": {
      "text/plain": [
       "  0%|          | 0/3 [00:00<?, ?it/s]"
      ],
      "application/vnd.jupyter.widget-view+json": {
       "version_major": 2,
       "version_minor": 0,
       "model_id": "e24f656278844ca7a59de2dcf1e640c8"
      }
     },
     "metadata": {},
     "output_type": "display_data"
    },
    {
     "name": "stdout",
     "output_type": "stream",
     "text": [
      "MODEL SAVED\n",
      "\u001B[1m\u001B[92m Epoch 39 Train DiceLoss 0.5986225455999374 Val DiceLoss 0.5869982838630676 Train dice_score 0.40137745440006256 Val dice_score 0.4130017161369324\n"
     ]
    },
    {
     "data": {
      "text/plain": [
       "  0%|          | 0/8 [00:00<?, ?it/s]"
      ],
      "application/vnd.jupyter.widget-view+json": {
       "version_major": 2,
       "version_minor": 0,
       "model_id": "4dc03fb7344c484b8dda2cf957818f32"
      }
     },
     "metadata": {},
     "output_type": "display_data"
    },
    {
     "data": {
      "text/plain": [
       "  0%|          | 0/3 [00:00<?, ?it/s]"
      ],
      "application/vnd.jupyter.widget-view+json": {
       "version_major": 2,
       "version_minor": 0,
       "model_id": "ebc598f2e5e74445989b5c7c92a69836"
      }
     },
     "metadata": {},
     "output_type": "display_data"
    },
    {
     "name": "stdout",
     "output_type": "stream",
     "text": [
      "\u001B[1m\u001B[92m Epoch 40 Train DiceLoss 0.6016548946499825 Val DiceLoss 0.6173035502433777 Train dice_score 0.39834510535001755 Val dice_score 0.3826964497566223\n"
     ]
    },
    {
     "data": {
      "text/plain": [
       "  0%|          | 0/8 [00:00<?, ?it/s]"
      ],
      "application/vnd.jupyter.widget-view+json": {
       "version_major": 2,
       "version_minor": 0,
       "model_id": "f898dfade8094402b09534a339fdd3ab"
      }
     },
     "metadata": {},
     "output_type": "display_data"
    },
    {
     "data": {
      "text/plain": [
       "  0%|          | 0/3 [00:00<?, ?it/s]"
      ],
      "application/vnd.jupyter.widget-view+json": {
       "version_major": 2,
       "version_minor": 0,
       "model_id": "0f75e27d3e9a4534b10e6552afdd598c"
      }
     },
     "metadata": {},
     "output_type": "display_data"
    },
    {
     "name": "stdout",
     "output_type": "stream",
     "text": [
      "MODEL SAVED\n",
      "\u001B[1m\u001B[92m Epoch 41 Train DiceLoss 0.5982890129089355 Val DiceLoss 0.5729792316754659 Train dice_score 0.40171098709106445 Val dice_score 0.4270207683245341\n"
     ]
    },
    {
     "data": {
      "text/plain": [
       "  0%|          | 0/8 [00:00<?, ?it/s]"
      ],
      "application/vnd.jupyter.widget-view+json": {
       "version_major": 2,
       "version_minor": 0,
       "model_id": "4d794b660a8a4b10acc15a4bd7de4909"
      }
     },
     "metadata": {},
     "output_type": "display_data"
    },
    {
     "data": {
      "text/plain": [
       "  0%|          | 0/3 [00:00<?, ?it/s]"
      ],
      "application/vnd.jupyter.widget-view+json": {
       "version_major": 2,
       "version_minor": 0,
       "model_id": "dfddea0d25bd4938871d02131c562f94"
      }
     },
     "metadata": {},
     "output_type": "display_data"
    },
    {
     "name": "stdout",
     "output_type": "stream",
     "text": [
      "\u001B[1m\u001B[92m Epoch 42 Train DiceLoss 0.5963790714740753 Val DiceLoss 0.6013909975687662 Train dice_score 0.4036209285259247 Val dice_score 0.3986090024312337\n"
     ]
    },
    {
     "data": {
      "text/plain": [
       "  0%|          | 0/8 [00:00<?, ?it/s]"
      ],
      "application/vnd.jupyter.widget-view+json": {
       "version_major": 2,
       "version_minor": 0,
       "model_id": "d0684e038277425988124f0c455b0248"
      }
     },
     "metadata": {},
     "output_type": "display_data"
    },
    {
     "data": {
      "text/plain": [
       "  0%|          | 0/3 [00:00<?, ?it/s]"
      ],
      "application/vnd.jupyter.widget-view+json": {
       "version_major": 2,
       "version_minor": 0,
       "model_id": "e03acc93706c4ca79cfeaffb4dd5be08"
      }
     },
     "metadata": {},
     "output_type": "display_data"
    },
    {
     "name": "stdout",
     "output_type": "stream",
     "text": [
      "MODEL SAVED\n",
      "\u001B[1m\u001B[92m Epoch 43 Train DiceLoss 0.5897402316331863 Val DiceLoss 0.5691129565238953 Train dice_score 0.41025976836681366 Val dice_score 0.43088704347610474\n"
     ]
    },
    {
     "data": {
      "text/plain": [
       "  0%|          | 0/8 [00:00<?, ?it/s]"
      ],
      "application/vnd.jupyter.widget-view+json": {
       "version_major": 2,
       "version_minor": 0,
       "model_id": "60fc48e5bdd14c9e8ced1ed6c7ca6ce5"
      }
     },
     "metadata": {},
     "output_type": "display_data"
    },
    {
     "data": {
      "text/plain": [
       "  0%|          | 0/3 [00:00<?, ?it/s]"
      ],
      "application/vnd.jupyter.widget-view+json": {
       "version_major": 2,
       "version_minor": 0,
       "model_id": "966b5760b3084080b1b3452515a1ecbf"
      }
     },
     "metadata": {},
     "output_type": "display_data"
    },
    {
     "name": "stdout",
     "output_type": "stream",
     "text": [
      "MODEL SAVED\n",
      "\u001B[1m\u001B[92m Epoch 44 Train DiceLoss 0.5834846049547195 Val DiceLoss 0.5659584204355875 Train dice_score 0.41651539504528046 Val dice_score 0.4340415795644124\n"
     ]
    },
    {
     "data": {
      "text/plain": [
       "  0%|          | 0/8 [00:00<?, ?it/s]"
      ],
      "application/vnd.jupyter.widget-view+json": {
       "version_major": 2,
       "version_minor": 0,
       "model_id": "5637aca3a3a24e97a99734225d0b1df0"
      }
     },
     "metadata": {},
     "output_type": "display_data"
    },
    {
     "data": {
      "text/plain": [
       "  0%|          | 0/3 [00:00<?, ?it/s]"
      ],
      "application/vnd.jupyter.widget-view+json": {
       "version_major": 2,
       "version_minor": 0,
       "model_id": "5f2e0f45dc38494588cb33bb40885584"
      }
     },
     "metadata": {},
     "output_type": "display_data"
    },
    {
     "name": "stdout",
     "output_type": "stream",
     "text": [
      "\u001B[1m\u001B[92m Epoch 45 Train DiceLoss 0.585869237780571 Val DiceLoss 0.5712417165438334 Train dice_score 0.414130762219429 Val dice_score 0.42875828345616657\n"
     ]
    },
    {
     "data": {
      "text/plain": [
       "  0%|          | 0/8 [00:00<?, ?it/s]"
      ],
      "application/vnd.jupyter.widget-view+json": {
       "version_major": 2,
       "version_minor": 0,
       "model_id": "c87f88f5ec0f4698aca4a88a6119d39b"
      }
     },
     "metadata": {},
     "output_type": "display_data"
    },
    {
     "data": {
      "text/plain": [
       "  0%|          | 0/3 [00:00<?, ?it/s]"
      ],
      "application/vnd.jupyter.widget-view+json": {
       "version_major": 2,
       "version_minor": 0,
       "model_id": "7bb2446f04254a28b6034db7500bee89"
      }
     },
     "metadata": {},
     "output_type": "display_data"
    },
    {
     "name": "stdout",
     "output_type": "stream",
     "text": [
      "\u001B[1m\u001B[92m Epoch 46 Train DiceLoss 0.580830417573452 Val DiceLoss 0.5795180598894755 Train dice_score 0.419169582426548 Val dice_score 0.4204819401105245\n"
     ]
    },
    {
     "data": {
      "text/plain": [
       "  0%|          | 0/8 [00:00<?, ?it/s]"
      ],
      "application/vnd.jupyter.widget-view+json": {
       "version_major": 2,
       "version_minor": 0,
       "model_id": "2aaf7284e1c648589db479b62eb12c8a"
      }
     },
     "metadata": {},
     "output_type": "display_data"
    },
    {
     "data": {
      "text/plain": [
       "  0%|          | 0/3 [00:00<?, ?it/s]"
      ],
      "application/vnd.jupyter.widget-view+json": {
       "version_major": 2,
       "version_minor": 0,
       "model_id": "3a2d548b2e964d0da6acc5cbbd534aa3"
      }
     },
     "metadata": {},
     "output_type": "display_data"
    },
    {
     "name": "stdout",
     "output_type": "stream",
     "text": [
      "MODEL SAVED\n",
      "\u001B[1m\u001B[92m Epoch 47 Train DiceLoss 0.5831401869654655 Val DiceLoss 0.5631705522537231 Train dice_score 0.41685981303453445 Val dice_score 0.43682944774627686\n"
     ]
    },
    {
     "data": {
      "text/plain": [
       "  0%|          | 0/8 [00:00<?, ?it/s]"
      ],
      "application/vnd.jupyter.widget-view+json": {
       "version_major": 2,
       "version_minor": 0,
       "model_id": "b12fc6e8f84641fcbfdea2f330187db1"
      }
     },
     "metadata": {},
     "output_type": "display_data"
    },
    {
     "data": {
      "text/plain": [
       "  0%|          | 0/3 [00:00<?, ?it/s]"
      ],
      "application/vnd.jupyter.widget-view+json": {
       "version_major": 2,
       "version_minor": 0,
       "model_id": "00ff7dc5133c4f7c88b8a3ba94f00e6c"
      }
     },
     "metadata": {},
     "output_type": "display_data"
    },
    {
     "name": "stdout",
     "output_type": "stream",
     "text": [
      "MODEL SAVED\n",
      "\u001B[1m\u001B[92m Epoch 48 Train DiceLoss 0.5656005144119263 Val DiceLoss 0.5379361311594645 Train dice_score 0.43439948558807373 Val dice_score 0.46206386884053546\n"
     ]
    },
    {
     "data": {
      "text/plain": [
       "  0%|          | 0/8 [00:00<?, ?it/s]"
      ],
      "application/vnd.jupyter.widget-view+json": {
       "version_major": 2,
       "version_minor": 0,
       "model_id": "927e686eb37f461cb0bc886c5a77eca0"
      }
     },
     "metadata": {},
     "output_type": "display_data"
    },
    {
     "data": {
      "text/plain": [
       "  0%|          | 0/3 [00:00<?, ?it/s]"
      ],
      "application/vnd.jupyter.widget-view+json": {
       "version_major": 2,
       "version_minor": 0,
       "model_id": "b2d81fd4ccf3459ba5a9aa4420997d08"
      }
     },
     "metadata": {},
     "output_type": "display_data"
    },
    {
     "name": "stdout",
     "output_type": "stream",
     "text": [
      "\u001B[1m\u001B[92m Epoch 49 Train DiceLoss 0.5582735911011696 Val DiceLoss 0.5431404908498129 Train dice_score 0.4417264088988304 Val dice_score 0.4568595091501872\n"
     ]
    },
    {
     "data": {
      "text/plain": [
       "  0%|          | 0/8 [00:00<?, ?it/s]"
      ],
      "application/vnd.jupyter.widget-view+json": {
       "version_major": 2,
       "version_minor": 0,
       "model_id": "67486a7c72c746399f203b0c4f417355"
      }
     },
     "metadata": {},
     "output_type": "display_data"
    },
    {
     "data": {
      "text/plain": [
       "  0%|          | 0/3 [00:00<?, ?it/s]"
      ],
      "application/vnd.jupyter.widget-view+json": {
       "version_major": 2,
       "version_minor": 0,
       "model_id": "669457de94fd425e9cc2e5cead190672"
      }
     },
     "metadata": {},
     "output_type": "display_data"
    },
    {
     "name": "stdout",
     "output_type": "stream",
     "text": [
      "MODEL SAVED\n",
      "\u001B[1m\u001B[92m Epoch 50 Train DiceLoss 0.5534872636198997 Val DiceLoss 0.5263682802518209 Train dice_score 0.44651273638010025 Val dice_score 0.47363171974817914\n"
     ]
    },
    {
     "data": {
      "text/plain": [
       "  0%|          | 0/8 [00:00<?, ?it/s]"
      ],
      "application/vnd.jupyter.widget-view+json": {
       "version_major": 2,
       "version_minor": 0,
       "model_id": "01b51d6a9c5449c883fc0c7f50fa2261"
      }
     },
     "metadata": {},
     "output_type": "display_data"
    },
    {
     "data": {
      "text/plain": [
       "  0%|          | 0/3 [00:00<?, ?it/s]"
      ],
      "application/vnd.jupyter.widget-view+json": {
       "version_major": 2,
       "version_minor": 0,
       "model_id": "7c74f8f74a384d4685b4e7e06c095cfd"
      }
     },
     "metadata": {},
     "output_type": "display_data"
    },
    {
     "name": "stdout",
     "output_type": "stream",
     "text": [
      "\u001B[1m\u001B[92m Epoch 51 Train DiceLoss 0.5454257652163506 Val DiceLoss 0.527588685353597 Train dice_score 0.45457423478364944 Val dice_score 0.472411314646403\n"
     ]
    },
    {
     "data": {
      "text/plain": [
       "  0%|          | 0/8 [00:00<?, ?it/s]"
      ],
      "application/vnd.jupyter.widget-view+json": {
       "version_major": 2,
       "version_minor": 0,
       "model_id": "8bf1460b98d64351bca7bcafb6af89a2"
      }
     },
     "metadata": {},
     "output_type": "display_data"
    },
    {
     "data": {
      "text/plain": [
       "  0%|          | 0/3 [00:00<?, ?it/s]"
      ],
      "application/vnd.jupyter.widget-view+json": {
       "version_major": 2,
       "version_minor": 0,
       "model_id": "06aee39ac9b74e34a9e025c4ab56a82e"
      }
     },
     "metadata": {},
     "output_type": "display_data"
    },
    {
     "name": "stdout",
     "output_type": "stream",
     "text": [
      "MODEL SAVED\n",
      "\u001B[1m\u001B[92m Epoch 52 Train DiceLoss 0.5386420860886574 Val DiceLoss 0.5175546209017435 Train dice_score 0.4613579139113426 Val dice_score 0.4824453790982564\n"
     ]
    },
    {
     "data": {
      "text/plain": [
       "  0%|          | 0/8 [00:00<?, ?it/s]"
      ],
      "application/vnd.jupyter.widget-view+json": {
       "version_major": 2,
       "version_minor": 0,
       "model_id": "365689dc647040deae1efbabd17c4382"
      }
     },
     "metadata": {},
     "output_type": "display_data"
    },
    {
     "data": {
      "text/plain": [
       "  0%|          | 0/3 [00:00<?, ?it/s]"
      ],
      "application/vnd.jupyter.widget-view+json": {
       "version_major": 2,
       "version_minor": 0,
       "model_id": "7b2fdf787ca84010a6ecc1d28b55edc1"
      }
     },
     "metadata": {},
     "output_type": "display_data"
    },
    {
     "name": "stdout",
     "output_type": "stream",
     "text": [
      "\u001B[1m\u001B[92m Epoch 53 Train DiceLoss 0.5336050018668175 Val DiceLoss 0.5255648493766785 Train dice_score 0.4663949981331825 Val dice_score 0.47443515062332153\n"
     ]
    },
    {
     "data": {
      "text/plain": [
       "  0%|          | 0/8 [00:00<?, ?it/s]"
      ],
      "application/vnd.jupyter.widget-view+json": {
       "version_major": 2,
       "version_minor": 0,
       "model_id": "966ed6bcbd644d7a99dad04177c5628d"
      }
     },
     "metadata": {},
     "output_type": "display_data"
    },
    {
     "data": {
      "text/plain": [
       "  0%|          | 0/3 [00:00<?, ?it/s]"
      ],
      "application/vnd.jupyter.widget-view+json": {
       "version_major": 2,
       "version_minor": 0,
       "model_id": "47c45f5e0369435a99a58cabab49ca3a"
      }
     },
     "metadata": {},
     "output_type": "display_data"
    },
    {
     "name": "stdout",
     "output_type": "stream",
     "text": [
      "MODEL SAVED\n",
      "\u001B[1m\u001B[92m Epoch 54 Train DiceLoss 0.5301323980093002 Val DiceLoss 0.5105001330375671 Train dice_score 0.46986760199069977 Val dice_score 0.48949986696243286\n"
     ]
    },
    {
     "data": {
      "text/plain": [
       "  0%|          | 0/8 [00:00<?, ?it/s]"
      ],
      "application/vnd.jupyter.widget-view+json": {
       "version_major": 2,
       "version_minor": 0,
       "model_id": "c3d8a5c6cb304f9a98c9d2ae3a5a76e2"
      }
     },
     "metadata": {},
     "output_type": "display_data"
    },
    {
     "data": {
      "text/plain": [
       "  0%|          | 0/3 [00:00<?, ?it/s]"
      ],
      "application/vnd.jupyter.widget-view+json": {
       "version_major": 2,
       "version_minor": 0,
       "model_id": "4578e57e08524fb2ab13a897b63a17cf"
      }
     },
     "metadata": {},
     "output_type": "display_data"
    },
    {
     "name": "stdout",
     "output_type": "stream",
     "text": [
      "MODEL SAVED\n",
      "\u001B[1m\u001B[92m Epoch 55 Train DiceLoss 0.5284614711999893 Val DiceLoss 0.5072217782338461 Train dice_score 0.4715385288000107 Val dice_score 0.492778221766154\n"
     ]
    },
    {
     "data": {
      "text/plain": [
       "  0%|          | 0/8 [00:00<?, ?it/s]"
      ],
      "application/vnd.jupyter.widget-view+json": {
       "version_major": 2,
       "version_minor": 0,
       "model_id": "d2f79b0965794cd4bca45c638cc32c79"
      }
     },
     "metadata": {},
     "output_type": "display_data"
    },
    {
     "data": {
      "text/plain": [
       "  0%|          | 0/3 [00:00<?, ?it/s]"
      ],
      "application/vnd.jupyter.widget-view+json": {
       "version_major": 2,
       "version_minor": 0,
       "model_id": "fdf3b842189f4ca386f804312b6210f3"
      }
     },
     "metadata": {},
     "output_type": "display_data"
    },
    {
     "name": "stdout",
     "output_type": "stream",
     "text": [
      "MODEL SAVED\n",
      "\u001B[1m\u001B[92m Epoch 56 Train DiceLoss 0.5297919511795044 Val DiceLoss 0.5049631198247274 Train dice_score 0.4702080488204956 Val dice_score 0.49503688017527264\n"
     ]
    },
    {
     "data": {
      "text/plain": [
       "  0%|          | 0/8 [00:00<?, ?it/s]"
      ],
      "application/vnd.jupyter.widget-view+json": {
       "version_major": 2,
       "version_minor": 0,
       "model_id": "493fdea574f743e39c530e73cb1468d3"
      }
     },
     "metadata": {},
     "output_type": "display_data"
    },
    {
     "data": {
      "text/plain": [
       "  0%|          | 0/3 [00:00<?, ?it/s]"
      ],
      "application/vnd.jupyter.widget-view+json": {
       "version_major": 2,
       "version_minor": 0,
       "model_id": "ab3c2a24aaad427cb41e0e2a8eb04b03"
      }
     },
     "metadata": {},
     "output_type": "display_data"
    },
    {
     "name": "stdout",
     "output_type": "stream",
     "text": [
      "MODEL SAVED\n",
      "\u001B[1m\u001B[92m Epoch 57 Train DiceLoss 0.5180215016007423 Val DiceLoss 0.4925398329893748 Train dice_score 0.48197849839925766 Val dice_score 0.5074601570765177\n"
     ]
    },
    {
     "data": {
      "text/plain": [
       "  0%|          | 0/8 [00:00<?, ?it/s]"
      ],
      "application/vnd.jupyter.widget-view+json": {
       "version_major": 2,
       "version_minor": 0,
       "model_id": "66584d09b20345b38cadab64f11f1095"
      }
     },
     "metadata": {},
     "output_type": "display_data"
    },
    {
     "data": {
      "text/plain": [
       "  0%|          | 0/3 [00:00<?, ?it/s]"
      ],
      "application/vnd.jupyter.widget-view+json": {
       "version_major": 2,
       "version_minor": 0,
       "model_id": "63d30519d51c426b89fe9cd8be7af8b7"
      }
     },
     "metadata": {},
     "output_type": "display_data"
    },
    {
     "name": "stdout",
     "output_type": "stream",
     "text": [
      "\u001B[1m\u001B[92m Epoch 58 Train DiceLoss 0.5139164254069328 Val DiceLoss 0.5091185967127482 Train dice_score 0.48608357459306717 Val dice_score 0.49088140328725177\n"
     ]
    },
    {
     "data": {
      "text/plain": [
       "  0%|          | 0/8 [00:00<?, ?it/s]"
      ],
      "application/vnd.jupyter.widget-view+json": {
       "version_major": 2,
       "version_minor": 0,
       "model_id": "c582bfd571a6482b89716fd61b3140a0"
      }
     },
     "metadata": {},
     "output_type": "display_data"
    },
    {
     "data": {
      "text/plain": [
       "  0%|          | 0/3 [00:00<?, ?it/s]"
      ],
      "application/vnd.jupyter.widget-view+json": {
       "version_major": 2,
       "version_minor": 0,
       "model_id": "9489d4dfa67a4dfbbf522c3af5074904"
      }
     },
     "metadata": {},
     "output_type": "display_data"
    },
    {
     "name": "stdout",
     "output_type": "stream",
     "text": [
      "MODEL SAVED\n",
      "\u001B[1m\u001B[92m Epoch 59 Train DiceLoss 0.5161330923438072 Val DiceLoss 0.4909407397111257 Train dice_score 0.4838669076561928 Val dice_score 0.5090592702229818\n"
     ]
    },
    {
     "data": {
      "text/plain": [
       "  0%|          | 0/8 [00:00<?, ?it/s]"
      ],
      "application/vnd.jupyter.widget-view+json": {
       "version_major": 2,
       "version_minor": 0,
       "model_id": "7a8088f157484407b044f9997fa54dd4"
      }
     },
     "metadata": {},
     "output_type": "display_data"
    },
    {
     "data": {
      "text/plain": [
       "  0%|          | 0/3 [00:00<?, ?it/s]"
      ],
      "application/vnd.jupyter.widget-view+json": {
       "version_major": 2,
       "version_minor": 0,
       "model_id": "790a124cecc74c5fbce50128f6fc36a0"
      }
     },
     "metadata": {},
     "output_type": "display_data"
    },
    {
     "name": "stdout",
     "output_type": "stream",
     "text": [
      "\u001B[1m\u001B[92m Epoch 60 Train DiceLoss 0.5100397206842899 Val DiceLoss 0.5083403388659159 Train dice_score 0.48996028304100037 Val dice_score 0.49165966113408405\n"
     ]
    },
    {
     "data": {
      "text/plain": [
       "  0%|          | 0/8 [00:00<?, ?it/s]"
      ],
      "application/vnd.jupyter.widget-view+json": {
       "version_major": 2,
       "version_minor": 0,
       "model_id": "667f2b48f2714f0eae8c5f6accb930a9"
      }
     },
     "metadata": {},
     "output_type": "display_data"
    },
    {
     "data": {
      "text/plain": [
       "  0%|          | 0/3 [00:00<?, ?it/s]"
      ],
      "application/vnd.jupyter.widget-view+json": {
       "version_major": 2,
       "version_minor": 0,
       "model_id": "13d5b4352d104491a3afa77d8405def6"
      }
     },
     "metadata": {},
     "output_type": "display_data"
    },
    {
     "name": "stdout",
     "output_type": "stream",
     "text": [
      "\u001B[1m\u001B[92m Epoch 61 Train DiceLoss 0.5127820000052452 Val DiceLoss 0.5041803419589996 Train dice_score 0.4872179999947548 Val dice_score 0.49581966797510785\n"
     ]
    },
    {
     "data": {
      "text/plain": [
       "  0%|          | 0/8 [00:00<?, ?it/s]"
      ],
      "application/vnd.jupyter.widget-view+json": {
       "version_major": 2,
       "version_minor": 0,
       "model_id": "7686038705f840c0a866a37f086bae88"
      }
     },
     "metadata": {},
     "output_type": "display_data"
    },
    {
     "data": {
      "text/plain": [
       "  0%|          | 0/3 [00:00<?, ?it/s]"
      ],
      "application/vnd.jupyter.widget-view+json": {
       "version_major": 2,
       "version_minor": 0,
       "model_id": "a72e50daad644cc4ade9795e5bffe83a"
      }
     },
     "metadata": {},
     "output_type": "display_data"
    },
    {
     "name": "stdout",
     "output_type": "stream",
     "text": [
      "MODEL SAVED\n",
      "\u001B[1m\u001B[92m Epoch 62 Train DiceLoss 0.5037044994533062 Val DiceLoss 0.48474395275115967 Train dice_score 0.4962955042719841 Val dice_score 0.5152560671170553\n"
     ]
    },
    {
     "data": {
      "text/plain": [
       "  0%|          | 0/8 [00:00<?, ?it/s]"
      ],
      "application/vnd.jupyter.widget-view+json": {
       "version_major": 2,
       "version_minor": 0,
       "model_id": "a2b5e042be58405f9232c322d644855a"
      }
     },
     "metadata": {},
     "output_type": "display_data"
    },
    {
     "data": {
      "text/plain": [
       "  0%|          | 0/3 [00:00<?, ?it/s]"
      ],
      "application/vnd.jupyter.widget-view+json": {
       "version_major": 2,
       "version_minor": 0,
       "model_id": "648ce1c1d6754542a1efd07224432c20"
      }
     },
     "metadata": {},
     "output_type": "display_data"
    },
    {
     "name": "stdout",
     "output_type": "stream",
     "text": [
      "MODEL SAVED\n",
      "\u001B[1m\u001B[92m Epoch 63 Train DiceLoss 0.4981362819671631 Val DiceLoss 0.4727942844231923 Train dice_score 0.5018637329339981 Val dice_score 0.5272057255109152\n"
     ]
    },
    {
     "data": {
      "text/plain": [
       "  0%|          | 0/8 [00:00<?, ?it/s]"
      ],
      "application/vnd.jupyter.widget-view+json": {
       "version_major": 2,
       "version_minor": 0,
       "model_id": "db128dc3d20d4c9d9c84f833a8e16dd4"
      }
     },
     "metadata": {},
     "output_type": "display_data"
    },
    {
     "data": {
      "text/plain": [
       "  0%|          | 0/3 [00:00<?, ?it/s]"
      ],
      "application/vnd.jupyter.widget-view+json": {
       "version_major": 2,
       "version_minor": 0,
       "model_id": "800d7cacd97743cb8dd19c63bffd0e92"
      }
     },
     "metadata": {},
     "output_type": "display_data"
    },
    {
     "name": "stdout",
     "output_type": "stream",
     "text": [
      "\u001B[1m\u001B[92m Epoch 64 Train DiceLoss 0.49703139811754227 Val DiceLoss 0.4803304473559062 Train dice_score 0.5029685944318771 Val dice_score 0.5196695526440939\n"
     ]
    },
    {
     "data": {
      "text/plain": [
       "  0%|          | 0/8 [00:00<?, ?it/s]"
      ],
      "application/vnd.jupyter.widget-view+json": {
       "version_major": 2,
       "version_minor": 0,
       "model_id": "494dca69b87f401189c007c98d2ca990"
      }
     },
     "metadata": {},
     "output_type": "display_data"
    },
    {
     "data": {
      "text/plain": [
       "  0%|          | 0/3 [00:00<?, ?it/s]"
      ],
      "application/vnd.jupyter.widget-view+json": {
       "version_major": 2,
       "version_minor": 0,
       "model_id": "f7ff8b96bbf74553bbb17fc94b9ff6dc"
      }
     },
     "metadata": {},
     "output_type": "display_data"
    },
    {
     "name": "stdout",
     "output_type": "stream",
     "text": [
      "\u001B[1m\u001B[92m Epoch 65 Train DiceLoss 0.4955269694328308 Val DiceLoss 0.4977910916010539 Train dice_score 0.5044730454683304 Val dice_score 0.5022089083989462\n"
     ]
    },
    {
     "data": {
      "text/plain": [
       "  0%|          | 0/8 [00:00<?, ?it/s]"
      ],
      "application/vnd.jupyter.widget-view+json": {
       "version_major": 2,
       "version_minor": 0,
       "model_id": "ebab6ac5ccbc420584336813ce2bc5a8"
      }
     },
     "metadata": {},
     "output_type": "display_data"
    },
    {
     "data": {
      "text/plain": [
       "  0%|          | 0/3 [00:00<?, ?it/s]"
      ],
      "application/vnd.jupyter.widget-view+json": {
       "version_major": 2,
       "version_minor": 0,
       "model_id": "8cbefc8ae3964e34a08a21c6493589b2"
      }
     },
     "metadata": {},
     "output_type": "display_data"
    },
    {
     "name": "stdout",
     "output_type": "stream",
     "text": [
      "MODEL SAVED\n",
      "\u001B[1m\u001B[92m Epoch 66 Train DiceLoss 0.48507897928357124 Val DiceLoss 0.4663274983565013 Train dice_score 0.5149210393428802 Val dice_score 0.5336724917093912\n"
     ]
    },
    {
     "data": {
      "text/plain": [
       "  0%|          | 0/8 [00:00<?, ?it/s]"
      ],
      "application/vnd.jupyter.widget-view+json": {
       "version_major": 2,
       "version_minor": 0,
       "model_id": "790f60e729044012b842a6521d15b6f9"
      }
     },
     "metadata": {},
     "output_type": "display_data"
    },
    {
     "data": {
      "text/plain": [
       "  0%|          | 0/3 [00:00<?, ?it/s]"
      ],
      "application/vnd.jupyter.widget-view+json": {
       "version_major": 2,
       "version_minor": 0,
       "model_id": "6f15a937d62f4813b251e686e8fb861f"
      }
     },
     "metadata": {},
     "output_type": "display_data"
    },
    {
     "name": "stdout",
     "output_type": "stream",
     "text": [
      "MODEL SAVED\n",
      "\u001B[1m\u001B[92m Epoch 67 Train DiceLoss 0.48806657642126083 Val DiceLoss 0.46551617980003357 Train dice_score 0.5119334384799004 Val dice_score 0.5344838301340739\n"
     ]
    },
    {
     "data": {
      "text/plain": [
       "  0%|          | 0/8 [00:00<?, ?it/s]"
      ],
      "application/vnd.jupyter.widget-view+json": {
       "version_major": 2,
       "version_minor": 0,
       "model_id": "94a7e539ab9f49f685070fc28be32f39"
      }
     },
     "metadata": {},
     "output_type": "display_data"
    },
    {
     "data": {
      "text/plain": [
       "  0%|          | 0/3 [00:00<?, ?it/s]"
      ],
      "application/vnd.jupyter.widget-view+json": {
       "version_major": 2,
       "version_minor": 0,
       "model_id": "ea6649413672409ba0f948566221d3a6"
      }
     },
     "metadata": {},
     "output_type": "display_data"
    },
    {
     "name": "stdout",
     "output_type": "stream",
     "text": [
      "\u001B[1m\u001B[92m Epoch 68 Train DiceLoss 0.4794165939092636 Val DiceLoss 0.473295122385025 Train dice_score 0.5205833911895752 Val dice_score 0.5267048875490824\n"
     ]
    },
    {
     "data": {
      "text/plain": [
       "  0%|          | 0/8 [00:00<?, ?it/s]"
      ],
      "application/vnd.jupyter.widget-view+json": {
       "version_major": 2,
       "version_minor": 0,
       "model_id": "473e980ff42842e696c3df73de6a52e2"
      }
     },
     "metadata": {},
     "output_type": "display_data"
    },
    {
     "data": {
      "text/plain": [
       "  0%|          | 0/3 [00:00<?, ?it/s]"
      ],
      "application/vnd.jupyter.widget-view+json": {
       "version_major": 2,
       "version_minor": 0,
       "model_id": "9ab79179906345b8bfe86edc9f194a8c"
      }
     },
     "metadata": {},
     "output_type": "display_data"
    },
    {
     "name": "stdout",
     "output_type": "stream",
     "text": [
      "MODEL SAVED\n",
      "\u001B[1m\u001B[92m Epoch 69 Train DiceLoss 0.47788140177726746 Val DiceLoss 0.44340725739796955 Train dice_score 0.5221185982227325 Val dice_score 0.5565927426020304\n"
     ]
    },
    {
     "data": {
      "text/plain": [
       "  0%|          | 0/8 [00:00<?, ?it/s]"
      ],
      "application/vnd.jupyter.widget-view+json": {
       "version_major": 2,
       "version_minor": 0,
       "model_id": "f15685aabba940fd84412f414c090c3c"
      }
     },
     "metadata": {},
     "output_type": "display_data"
    },
    {
     "data": {
      "text/plain": [
       "  0%|          | 0/3 [00:00<?, ?it/s]"
      ],
      "application/vnd.jupyter.widget-view+json": {
       "version_major": 2,
       "version_minor": 0,
       "model_id": "dee12c2cf8fb4d5a81a20bc9acc93953"
      }
     },
     "metadata": {},
     "output_type": "display_data"
    },
    {
     "name": "stdout",
     "output_type": "stream",
     "text": [
      "MODEL SAVED\n",
      "\u001B[1m\u001B[92m Epoch 70 Train DiceLoss 0.47376226261258125 Val DiceLoss 0.44172104199727374 Train dice_score 0.5262377560138702 Val dice_score 0.5582789778709412\n"
     ]
    },
    {
     "data": {
      "text/plain": [
       "  0%|          | 0/8 [00:00<?, ?it/s]"
      ],
      "application/vnd.jupyter.widget-view+json": {
       "version_major": 2,
       "version_minor": 0,
       "model_id": "011c4dd33cd54ebdb02ace2af845ec67"
      }
     },
     "metadata": {},
     "output_type": "display_data"
    },
    {
     "data": {
      "text/plain": [
       "  0%|          | 0/3 [00:00<?, ?it/s]"
      ],
      "application/vnd.jupyter.widget-view+json": {
       "version_major": 2,
       "version_minor": 0,
       "model_id": "75d343d4f5c94e5faad1945fd6544450"
      }
     },
     "metadata": {},
     "output_type": "display_data"
    },
    {
     "name": "stdout",
     "output_type": "stream",
     "text": [
      "MODEL SAVED\n",
      "\u001B[1m\u001B[92m Epoch 71 Train DiceLoss 0.4694873057305813 Val DiceLoss 0.43547073006629944 Train dice_score 0.5305126905441284 Val dice_score 0.564529279867808\n"
     ]
    },
    {
     "data": {
      "text/plain": [
       "  0%|          | 0/8 [00:00<?, ?it/s]"
      ],
      "application/vnd.jupyter.widget-view+json": {
       "version_major": 2,
       "version_minor": 0,
       "model_id": "6b01a4df8b814bf187960481d8d6249c"
      }
     },
     "metadata": {},
     "output_type": "display_data"
    },
    {
     "data": {
      "text/plain": [
       "  0%|          | 0/3 [00:00<?, ?it/s]"
      ],
      "application/vnd.jupyter.widget-view+json": {
       "version_major": 2,
       "version_minor": 0,
       "model_id": "0aa7db4aecca48c6971c364b9a7fb6d1"
      }
     },
     "metadata": {},
     "output_type": "display_data"
    },
    {
     "name": "stdout",
     "output_type": "stream",
     "text": [
      "\u001B[1m\u001B[92m Epoch 72 Train DiceLoss 0.4646132029592991 Val DiceLoss 0.4465789298216502 Train dice_score 0.53538678586483 Val dice_score 0.5534210602442423\n"
     ]
    },
    {
     "data": {
      "text/plain": [
       "  0%|          | 0/8 [00:00<?, ?it/s]"
      ],
      "application/vnd.jupyter.widget-view+json": {
       "version_major": 2,
       "version_minor": 0,
       "model_id": "ebd42236c8ff4b91b4108a8b753338fb"
      }
     },
     "metadata": {},
     "output_type": "display_data"
    },
    {
     "data": {
      "text/plain": [
       "  0%|          | 0/3 [00:00<?, ?it/s]"
      ],
      "application/vnd.jupyter.widget-view+json": {
       "version_major": 2,
       "version_minor": 0,
       "model_id": "70ae5fe916db49728c1a82ef006c74ce"
      }
     },
     "metadata": {},
     "output_type": "display_data"
    },
    {
     "name": "stdout",
     "output_type": "stream",
     "text": [
      "\u001B[1m\u001B[92m Epoch 73 Train DiceLoss 0.46924860775470734 Val DiceLoss 0.4602040847142537 Train dice_score 0.5307513996958733 Val dice_score 0.5397958954175314\n"
     ]
    },
    {
     "data": {
      "text/plain": [
       "  0%|          | 0/8 [00:00<?, ?it/s]"
      ],
      "application/vnd.jupyter.widget-view+json": {
       "version_major": 2,
       "version_minor": 0,
       "model_id": "1655d63159ae45548abfa52983179850"
      }
     },
     "metadata": {},
     "output_type": "display_data"
    },
    {
     "data": {
      "text/plain": [
       "  0%|          | 0/3 [00:00<?, ?it/s]"
      ],
      "application/vnd.jupyter.widget-view+json": {
       "version_major": 2,
       "version_minor": 0,
       "model_id": "2cfb25918f6b45919f5a188dfec44a32"
      }
     },
     "metadata": {},
     "output_type": "display_data"
    },
    {
     "name": "stdout",
     "output_type": "stream",
     "text": [
      "\u001B[1m\u001B[92m Epoch 74 Train DiceLoss 0.46546032652258873 Val DiceLoss 0.44386879603068036 Train dice_score 0.5345396772027016 Val dice_score 0.5561311841011047\n"
     ]
    },
    {
     "data": {
      "text/plain": [
       "  0%|          | 0/8 [00:00<?, ?it/s]"
      ],
      "application/vnd.jupyter.widget-view+json": {
       "version_major": 2,
       "version_minor": 0,
       "model_id": "e9f917ed65364b8da7903c590cd6d2df"
      }
     },
     "metadata": {},
     "output_type": "display_data"
    },
    {
     "data": {
      "text/plain": [
       "  0%|          | 0/3 [00:00<?, ?it/s]"
      ],
      "application/vnd.jupyter.widget-view+json": {
       "version_major": 2,
       "version_minor": 0,
       "model_id": "3eaaa2a41a5447d5bc8056bf6ee5ae19"
      }
     },
     "metadata": {},
     "output_type": "display_data"
    },
    {
     "name": "stdout",
     "output_type": "stream",
     "text": [
      "\u001B[1m\u001B[92m Epoch 75 Train DiceLoss 0.4525779187679291 Val DiceLoss 0.43734310070673627 Train dice_score 0.5474220886826515 Val dice_score 0.5626568992932638\n"
     ]
    },
    {
     "data": {
      "text/plain": [
       "  0%|          | 0/8 [00:00<?, ?it/s]"
      ],
      "application/vnd.jupyter.widget-view+json": {
       "version_major": 2,
       "version_minor": 0,
       "model_id": "8526a6ab1e9e412b97adb99566fd1001"
      }
     },
     "metadata": {},
     "output_type": "display_data"
    },
    {
     "data": {
      "text/plain": [
       "  0%|          | 0/3 [00:00<?, ?it/s]"
      ],
      "application/vnd.jupyter.widget-view+json": {
       "version_major": 2,
       "version_minor": 0,
       "model_id": "1bfec436306e45ff9d5fa3f8c31bba35"
      }
     },
     "metadata": {},
     "output_type": "display_data"
    },
    {
     "name": "stdout",
     "output_type": "stream",
     "text": [
      "MODEL SAVED\n",
      "\u001B[1m\u001B[92m Epoch 76 Train DiceLoss 0.456903550773859 Val DiceLoss 0.4345308144887288 Train dice_score 0.5430964380502701 Val dice_score 0.5654691855112711\n"
     ]
    },
    {
     "data": {
      "text/plain": [
       "  0%|          | 0/8 [00:00<?, ?it/s]"
      ],
      "application/vnd.jupyter.widget-view+json": {
       "version_major": 2,
       "version_minor": 0,
       "model_id": "b03abf43ae2247fcb6efebd8c77e9c20"
      }
     },
     "metadata": {},
     "output_type": "display_data"
    },
    {
     "data": {
      "text/plain": [
       "  0%|          | 0/3 [00:00<?, ?it/s]"
      ],
      "application/vnd.jupyter.widget-view+json": {
       "version_major": 2,
       "version_minor": 0,
       "model_id": "083311ee608b49f98bd8482c93acdada"
      }
     },
     "metadata": {},
     "output_type": "display_data"
    },
    {
     "name": "stdout",
     "output_type": "stream",
     "text": [
      "MODEL SAVED\n",
      "\u001B[1m\u001B[92m Epoch 77 Train DiceLoss 0.4562954604625702 Val DiceLoss 0.42382699251174927 Train dice_score 0.5437045395374298 Val dice_score 0.5761730074882507\n"
     ]
    },
    {
     "data": {
      "text/plain": [
       "  0%|          | 0/8 [00:00<?, ?it/s]"
      ],
      "application/vnd.jupyter.widget-view+json": {
       "version_major": 2,
       "version_minor": 0,
       "model_id": "bdc5d8f689a44a38ab1b6cf9b3e8f745"
      }
     },
     "metadata": {},
     "output_type": "display_data"
    },
    {
     "data": {
      "text/plain": [
       "  0%|          | 0/3 [00:00<?, ?it/s]"
      ],
      "application/vnd.jupyter.widget-view+json": {
       "version_major": 2,
       "version_minor": 0,
       "model_id": "66a9a34d9dbe4f52bf8d14fc793bbaf0"
      }
     },
     "metadata": {},
     "output_type": "display_data"
    },
    {
     "name": "stdout",
     "output_type": "stream",
     "text": [
      "\u001B[1m\u001B[92m Epoch 78 Train DiceLoss 0.44658325612545013 Val DiceLoss 0.43841302394866943 Train dice_score 0.5534167587757111 Val dice_score 0.5615869760513306\n"
     ]
    },
    {
     "data": {
      "text/plain": [
       "  0%|          | 0/8 [00:00<?, ?it/s]"
      ],
      "application/vnd.jupyter.widget-view+json": {
       "version_major": 2,
       "version_minor": 0,
       "model_id": "049595cff3d0451bbea6855f1c3042e5"
      }
     },
     "metadata": {},
     "output_type": "display_data"
    },
    {
     "data": {
      "text/plain": [
       "  0%|          | 0/3 [00:00<?, ?it/s]"
      ],
      "application/vnd.jupyter.widget-view+json": {
       "version_major": 2,
       "version_minor": 0,
       "model_id": "9fb1f40130f24f7ca9fa04c6b744d6f8"
      }
     },
     "metadata": {},
     "output_type": "display_data"
    },
    {
     "name": "stdout",
     "output_type": "stream",
     "text": [
      "\u001B[1m\u001B[92m Epoch 79 Train DiceLoss 0.4465505890548229 Val DiceLoss 0.42553508281707764 Train dice_score 0.5534494146704674 Val dice_score 0.5744649171829224\n"
     ]
    },
    {
     "data": {
      "text/plain": [
       "  0%|          | 0/8 [00:00<?, ?it/s]"
      ],
      "application/vnd.jupyter.widget-view+json": {
       "version_major": 2,
       "version_minor": 0,
       "model_id": "9be77d18c9e44247959704178de44d75"
      }
     },
     "metadata": {},
     "output_type": "display_data"
    },
    {
     "data": {
      "text/plain": [
       "  0%|          | 0/3 [00:00<?, ?it/s]"
      ],
      "application/vnd.jupyter.widget-view+json": {
       "version_major": 2,
       "version_minor": 0,
       "model_id": "3bbacc10f04a4e0fa540e7dc78f9343a"
      }
     },
     "metadata": {},
     "output_type": "display_data"
    },
    {
     "name": "stdout",
     "output_type": "stream",
     "text": [
      "\u001B[1m\u001B[92m Epoch 80 Train DiceLoss 0.44893504679203033 Val DiceLoss 0.4336708088715871 Train dice_score 0.5510649606585503 Val dice_score 0.5663291811943054\n"
     ]
    },
    {
     "data": {
      "text/plain": [
       "  0%|          | 0/8 [00:00<?, ?it/s]"
      ],
      "application/vnd.jupyter.widget-view+json": {
       "version_major": 2,
       "version_minor": 0,
       "model_id": "f9594251b6544ed19b5a4f8908302515"
      }
     },
     "metadata": {},
     "output_type": "display_data"
    },
    {
     "data": {
      "text/plain": [
       "  0%|          | 0/3 [00:00<?, ?it/s]"
      ],
      "application/vnd.jupyter.widget-view+json": {
       "version_major": 2,
       "version_minor": 0,
       "model_id": "57e4dff9caea4ba19bb5f8ebb191e307"
      }
     },
     "metadata": {},
     "output_type": "display_data"
    },
    {
     "name": "stdout",
     "output_type": "stream",
     "text": [
      "MODEL SAVED\n",
      "\u001B[1m\u001B[92m Epoch 81 Train DiceLoss 0.44099871441721916 Val DiceLoss 0.4189656972885132 Train dice_score 0.5590012744069099 Val dice_score 0.5810343027114868\n"
     ]
    },
    {
     "data": {
      "text/plain": [
       "  0%|          | 0/8 [00:00<?, ?it/s]"
      ],
      "application/vnd.jupyter.widget-view+json": {
       "version_major": 2,
       "version_minor": 0,
       "model_id": "93c1bf4e6c6d44ae847cb8f44e6ae981"
      }
     },
     "metadata": {},
     "output_type": "display_data"
    },
    {
     "data": {
      "text/plain": [
       "  0%|          | 0/3 [00:00<?, ?it/s]"
      ],
      "application/vnd.jupyter.widget-view+json": {
       "version_major": 2,
       "version_minor": 0,
       "model_id": "f6ba7b4796d6473daa52dc35c60ca4d2"
      }
     },
     "metadata": {},
     "output_type": "display_data"
    },
    {
     "name": "stdout",
     "output_type": "stream",
     "text": [
      "MODEL SAVED\n",
      "\u001B[1m\u001B[92m Epoch 82 Train DiceLoss 0.4401760995388031 Val DiceLoss 0.40885881582895917 Train dice_score 0.5598239079117775 Val dice_score 0.5911411841710409\n"
     ]
    },
    {
     "data": {
      "text/plain": [
       "  0%|          | 0/8 [00:00<?, ?it/s]"
      ],
      "application/vnd.jupyter.widget-view+json": {
       "version_major": 2,
       "version_minor": 0,
       "model_id": "8fee39414a6442738da1d15db1236cec"
      }
     },
     "metadata": {},
     "output_type": "display_data"
    },
    {
     "data": {
      "text/plain": [
       "  0%|          | 0/3 [00:00<?, ?it/s]"
      ],
      "application/vnd.jupyter.widget-view+json": {
       "version_major": 2,
       "version_minor": 0,
       "model_id": "eb22288114a749f596ff1726f2d0aa56"
      }
     },
     "metadata": {},
     "output_type": "display_data"
    },
    {
     "name": "stdout",
     "output_type": "stream",
     "text": [
      "\u001B[1m\u001B[92m Epoch 83 Train DiceLoss 0.4461105205118656 Val DiceLoss 0.4229948620001475 Train dice_score 0.5538894832134247 Val dice_score 0.57700514793396\n"
     ]
    },
    {
     "data": {
      "text/plain": [
       "  0%|          | 0/8 [00:00<?, ?it/s]"
      ],
      "application/vnd.jupyter.widget-view+json": {
       "version_major": 2,
       "version_minor": 0,
       "model_id": "325bfe2ad8f94ef6af647c077750e570"
      }
     },
     "metadata": {},
     "output_type": "display_data"
    },
    {
     "data": {
      "text/plain": [
       "  0%|          | 0/3 [00:00<?, ?it/s]"
      ],
      "application/vnd.jupyter.widget-view+json": {
       "version_major": 2,
       "version_minor": 0,
       "model_id": "4c844eb42b71491794d0f303936eb9d2"
      }
     },
     "metadata": {},
     "output_type": "display_data"
    },
    {
     "name": "stdout",
     "output_type": "stream",
     "text": [
      "MODEL SAVED\n",
      "\u001B[1m\u001B[92m Epoch 84 Train DiceLoss 0.43892478570342064 Val DiceLoss 0.40678439537684125 Train dice_score 0.5610752329230309 Val dice_score 0.5932156046231588\n"
     ]
    },
    {
     "data": {
      "text/plain": [
       "  0%|          | 0/8 [00:00<?, ?it/s]"
      ],
      "application/vnd.jupyter.widget-view+json": {
       "version_major": 2,
       "version_minor": 0,
       "model_id": "a9a075aa77b84e6faeb388e2d3213855"
      }
     },
     "metadata": {},
     "output_type": "display_data"
    },
    {
     "data": {
      "text/plain": [
       "  0%|          | 0/3 [00:00<?, ?it/s]"
      ],
      "application/vnd.jupyter.widget-view+json": {
       "version_major": 2,
       "version_minor": 0,
       "model_id": "e0270de76b6a4f2fbf201e7ea41081b7"
      }
     },
     "metadata": {},
     "output_type": "display_data"
    },
    {
     "name": "stdout",
     "output_type": "stream",
     "text": [
      "\u001B[1m\u001B[92m Epoch 85 Train DiceLoss 0.4327555410563946 Val DiceLoss 0.41075244545936584 Train dice_score 0.5672444701194763 Val dice_score 0.5892475644747416\n"
     ]
    },
    {
     "data": {
      "text/plain": [
       "  0%|          | 0/8 [00:00<?, ?it/s]"
      ],
      "application/vnd.jupyter.widget-view+json": {
       "version_major": 2,
       "version_minor": 0,
       "model_id": "234da59568bf4069871103610ae6a0da"
      }
     },
     "metadata": {},
     "output_type": "display_data"
    },
    {
     "data": {
      "text/plain": [
       "  0%|          | 0/3 [00:00<?, ?it/s]"
      ],
      "application/vnd.jupyter.widget-view+json": {
       "version_major": 2,
       "version_minor": 0,
       "model_id": "7fc31387485246f185a87116980f7227"
      }
     },
     "metadata": {},
     "output_type": "display_data"
    },
    {
     "name": "stdout",
     "output_type": "stream",
     "text": [
      "\u001B[1m\u001B[92m Epoch 86 Train DiceLoss 0.4361569434404373 Val DiceLoss 0.41262569030125934 Train dice_score 0.5638430714607239 Val dice_score 0.5873743096987406\n"
     ]
    },
    {
     "data": {
      "text/plain": [
       "  0%|          | 0/8 [00:00<?, ?it/s]"
      ],
      "application/vnd.jupyter.widget-view+json": {
       "version_major": 2,
       "version_minor": 0,
       "model_id": "fd76f8f3908d468ba23ae39bcdc21fe1"
      }
     },
     "metadata": {},
     "output_type": "display_data"
    },
    {
     "data": {
      "text/plain": [
       "  0%|          | 0/3 [00:00<?, ?it/s]"
      ],
      "application/vnd.jupyter.widget-view+json": {
       "version_major": 2,
       "version_minor": 0,
       "model_id": "a9930125a3c34f94b16dc5ea39cd790e"
      }
     },
     "metadata": {},
     "output_type": "display_data"
    },
    {
     "name": "stdout",
     "output_type": "stream",
     "text": [
      "\u001B[1m\u001B[92m Epoch 87 Train DiceLoss 0.43476660549640656 Val DiceLoss 0.40727922320365906 Train dice_score 0.5652333870530128 Val dice_score 0.5927207867304484\n"
     ]
    },
    {
     "data": {
      "text/plain": [
       "  0%|          | 0/8 [00:00<?, ?it/s]"
      ],
      "application/vnd.jupyter.widget-view+json": {
       "version_major": 2,
       "version_minor": 0,
       "model_id": "58cf32ad14aa479bb1fdd075c04ef069"
      }
     },
     "metadata": {},
     "output_type": "display_data"
    },
    {
     "data": {
      "text/plain": [
       "  0%|          | 0/3 [00:00<?, ?it/s]"
      ],
      "application/vnd.jupyter.widget-view+json": {
       "version_major": 2,
       "version_minor": 0,
       "model_id": "73394c73789f44dca814c8ce075b752c"
      }
     },
     "metadata": {},
     "output_type": "display_data"
    },
    {
     "name": "stdout",
     "output_type": "stream",
     "text": [
      "MODEL SAVED\n",
      "\u001B[1m\u001B[92m Epoch 88 Train DiceLoss 0.4308299161493778 Val DiceLoss 0.4027217626571655 Train dice_score 0.5691700801253319 Val dice_score 0.5972782174746195\n"
     ]
    },
    {
     "data": {
      "text/plain": [
       "  0%|          | 0/8 [00:00<?, ?it/s]"
      ],
      "application/vnd.jupyter.widget-view+json": {
       "version_major": 2,
       "version_minor": 0,
       "model_id": "fb610e31a24e439798ff50c11e1c8088"
      }
     },
     "metadata": {},
     "output_type": "display_data"
    },
    {
     "data": {
      "text/plain": [
       "  0%|          | 0/3 [00:00<?, ?it/s]"
      ],
      "application/vnd.jupyter.widget-view+json": {
       "version_major": 2,
       "version_minor": 0,
       "model_id": "82147d18cdcf49d8bc350c9f25be6552"
      }
     },
     "metadata": {},
     "output_type": "display_data"
    },
    {
     "name": "stdout",
     "output_type": "stream",
     "text": [
      "\u001B[1m\u001B[92m Epoch 89 Train DiceLoss 0.4282502457499504 Val DiceLoss 0.42344804604848224 Train dice_score 0.571749746799469 Val dice_score 0.5765519539515177\n"
     ]
    },
    {
     "data": {
      "text/plain": [
       "  0%|          | 0/8 [00:00<?, ?it/s]"
      ],
      "application/vnd.jupyter.widget-view+json": {
       "version_major": 2,
       "version_minor": 0,
       "model_id": "a0c5cbb2417c4b95bde105dd43576beb"
      }
     },
     "metadata": {},
     "output_type": "display_data"
    },
    {
     "data": {
      "text/plain": [
       "  0%|          | 0/3 [00:00<?, ?it/s]"
      ],
      "application/vnd.jupyter.widget-view+json": {
       "version_major": 2,
       "version_minor": 0,
       "model_id": "49c8b49abcce4bd4b18007decdb2a5f1"
      }
     },
     "metadata": {},
     "output_type": "display_data"
    },
    {
     "name": "stdout",
     "output_type": "stream",
     "text": [
      "MODEL SAVED\n",
      "\u001B[1m\u001B[92m Epoch 90 Train DiceLoss 0.42895473539829254 Val DiceLoss 0.4026695291201274 Train dice_score 0.571045272052288 Val dice_score 0.5973304708798727\n"
     ]
    },
    {
     "data": {
      "text/plain": [
       "  0%|          | 0/8 [00:00<?, ?it/s]"
      ],
      "application/vnd.jupyter.widget-view+json": {
       "version_major": 2,
       "version_minor": 0,
       "model_id": "c7ca98d4bb8243c29a1a47f6bd5eff45"
      }
     },
     "metadata": {},
     "output_type": "display_data"
    },
    {
     "data": {
      "text/plain": [
       "  0%|          | 0/3 [00:00<?, ?it/s]"
      ],
      "application/vnd.jupyter.widget-view+json": {
       "version_major": 2,
       "version_minor": 0,
       "model_id": "cca5e8c00b404c67929da60173093a2c"
      }
     },
     "metadata": {},
     "output_type": "display_data"
    },
    {
     "name": "stdout",
     "output_type": "stream",
     "text": [
      "\u001B[1m\u001B[92m Epoch 91 Train DiceLoss 0.4344148561358452 Val DiceLoss 0.4055889348189036 Train dice_score 0.5655851438641548 Val dice_score 0.5944110751152039\n"
     ]
    },
    {
     "data": {
      "text/plain": [
       "  0%|          | 0/8 [00:00<?, ?it/s]"
      ],
      "application/vnd.jupyter.widget-view+json": {
       "version_major": 2,
       "version_minor": 0,
       "model_id": "7d8deea0a4534d3f9bad176912bbfacd"
      }
     },
     "metadata": {},
     "output_type": "display_data"
    },
    {
     "data": {
      "text/plain": [
       "  0%|          | 0/3 [00:00<?, ?it/s]"
      ],
      "application/vnd.jupyter.widget-view+json": {
       "version_major": 2,
       "version_minor": 0,
       "model_id": "ab2c0ed4e9974483b4fdd5ec45307e69"
      }
     },
     "metadata": {},
     "output_type": "display_data"
    },
    {
     "name": "stdout",
     "output_type": "stream",
     "text": [
      "MODEL SAVED\n",
      "\u001B[1m\u001B[92m Epoch 92 Train DiceLoss 0.42507242411375046 Val DiceLoss 0.39842669169108075 Train dice_score 0.5749275833368301 Val dice_score 0.6015733281771342\n"
     ]
    },
    {
     "data": {
      "text/plain": [
       "  0%|          | 0/8 [00:00<?, ?it/s]"
      ],
      "application/vnd.jupyter.widget-view+json": {
       "version_major": 2,
       "version_minor": 0,
       "model_id": "f9c21b8a8b594fd5994c3e49d6d7f6a1"
      }
     },
     "metadata": {},
     "output_type": "display_data"
    },
    {
     "data": {
      "text/plain": [
       "  0%|          | 0/3 [00:00<?, ?it/s]"
      ],
      "application/vnd.jupyter.widget-view+json": {
       "version_major": 2,
       "version_minor": 0,
       "model_id": "4a1b69662be64f02bfaf008d7165373b"
      }
     },
     "metadata": {},
     "output_type": "display_data"
    },
    {
     "name": "stdout",
     "output_type": "stream",
     "text": [
      "MODEL SAVED\n",
      "\u001B[1m\u001B[92m Epoch 93 Train DiceLoss 0.4291572906076908 Val DiceLoss 0.3964858452479045 Train dice_score 0.5708427131175995 Val dice_score 0.6035141746203104\n"
     ]
    },
    {
     "data": {
      "text/plain": [
       "  0%|          | 0/8 [00:00<?, ?it/s]"
      ],
      "application/vnd.jupyter.widget-view+json": {
       "version_major": 2,
       "version_minor": 0,
       "model_id": "64f2b09004a944c7abcf5a743fe1ee4f"
      }
     },
     "metadata": {},
     "output_type": "display_data"
    },
    {
     "data": {
      "text/plain": [
       "  0%|          | 0/3 [00:00<?, ?it/s]"
      ],
      "application/vnd.jupyter.widget-view+json": {
       "version_major": 2,
       "version_minor": 0,
       "model_id": "e37019896481417b887360833c51c848"
      }
     },
     "metadata": {},
     "output_type": "display_data"
    },
    {
     "name": "stdout",
     "output_type": "stream",
     "text": [
      "MODEL SAVED\n",
      "\u001B[1m\u001B[92m Epoch 94 Train DiceLoss 0.4205224774777889 Val DiceLoss 0.3931696613629659 Train dice_score 0.579477533698082 Val dice_score 0.6068303386370341\n"
     ]
    },
    {
     "data": {
      "text/plain": [
       "  0%|          | 0/8 [00:00<?, ?it/s]"
      ],
      "application/vnd.jupyter.widget-view+json": {
       "version_major": 2,
       "version_minor": 0,
       "model_id": "9f3bfe76f2774a80928c32ba0278c299"
      }
     },
     "metadata": {},
     "output_type": "display_data"
    },
    {
     "data": {
      "text/plain": [
       "  0%|          | 0/3 [00:00<?, ?it/s]"
      ],
      "application/vnd.jupyter.widget-view+json": {
       "version_major": 2,
       "version_minor": 0,
       "model_id": "a8c5aac975144e888cfcf00fce446623"
      }
     },
     "metadata": {},
     "output_type": "display_data"
    },
    {
     "name": "stdout",
     "output_type": "stream",
     "text": [
      "\u001B[1m\u001B[92m Epoch 95 Train DiceLoss 0.425842747092247 Val DiceLoss 0.395633727312088 Train dice_score 0.574157252907753 Val dice_score 0.6043663024902344\n"
     ]
    },
    {
     "data": {
      "text/plain": [
       "  0%|          | 0/8 [00:00<?, ?it/s]"
      ],
      "application/vnd.jupyter.widget-view+json": {
       "version_major": 2,
       "version_minor": 0,
       "model_id": "a1a8e485328e43378bcbe1a5b1b5ca37"
      }
     },
     "metadata": {},
     "output_type": "display_data"
    },
    {
     "data": {
      "text/plain": [
       "  0%|          | 0/3 [00:00<?, ?it/s]"
      ],
      "application/vnd.jupyter.widget-view+json": {
       "version_major": 2,
       "version_minor": 0,
       "model_id": "f1ed6d27173947c2b2277ac0ae3b083b"
      }
     },
     "metadata": {},
     "output_type": "display_data"
    },
    {
     "name": "stdout",
     "output_type": "stream",
     "text": [
      "\u001B[1m\u001B[92m Epoch 96 Train DiceLoss 0.42703544721007347 Val DiceLoss 0.4158579409122467 Train dice_score 0.5729645565152168 Val dice_score 0.5841420491536459\n"
     ]
    },
    {
     "data": {
      "text/plain": [
       "  0%|          | 0/8 [00:00<?, ?it/s]"
      ],
      "application/vnd.jupyter.widget-view+json": {
       "version_major": 2,
       "version_minor": 0,
       "model_id": "2568750e3a7f456c8fb9238a96116fa7"
      }
     },
     "metadata": {},
     "output_type": "display_data"
    },
    {
     "data": {
      "text/plain": [
       "  0%|          | 0/3 [00:00<?, ?it/s]"
      ],
      "application/vnd.jupyter.widget-view+json": {
       "version_major": 2,
       "version_minor": 0,
       "model_id": "5fd04e9443e54f1abbd7cf1aed5f91d9"
      }
     },
     "metadata": {},
     "output_type": "display_data"
    },
    {
     "name": "stdout",
     "output_type": "stream",
     "text": [
      "\u001B[1m\u001B[92m Epoch 97 Train DiceLoss 0.4166649170219898 Val DiceLoss 0.3963375886281331 Train dice_score 0.5833350941538811 Val dice_score 0.603662391503652\n"
     ]
    },
    {
     "data": {
      "text/plain": [
       "  0%|          | 0/8 [00:00<?, ?it/s]"
      ],
      "application/vnd.jupyter.widget-view+json": {
       "version_major": 2,
       "version_minor": 0,
       "model_id": "a339b5ad71604e1bb04d616b1acca1bb"
      }
     },
     "metadata": {},
     "output_type": "display_data"
    },
    {
     "data": {
      "text/plain": [
       "  0%|          | 0/3 [00:00<?, ?it/s]"
      ],
      "application/vnd.jupyter.widget-view+json": {
       "version_major": 2,
       "version_minor": 0,
       "model_id": "76cca1d237ec490e85fc288a6811609d"
      }
     },
     "metadata": {},
     "output_type": "display_data"
    },
    {
     "name": "stdout",
     "output_type": "stream",
     "text": [
      "\u001B[1m\u001B[92m Epoch 98 Train DiceLoss 0.41912131384015083 Val DiceLoss 0.39421265323956806 Train dice_score 0.5808786973357201 Val dice_score 0.6057873368263245\n"
     ]
    },
    {
     "data": {
      "text/plain": [
       "  0%|          | 0/8 [00:00<?, ?it/s]"
      ],
      "application/vnd.jupyter.widget-view+json": {
       "version_major": 2,
       "version_minor": 0,
       "model_id": "6cd17a669d4643d5b9a332fd7ff23a29"
      }
     },
     "metadata": {},
     "output_type": "display_data"
    },
    {
     "data": {
      "text/plain": [
       "  0%|          | 0/3 [00:00<?, ?it/s]"
      ],
      "application/vnd.jupyter.widget-view+json": {
       "version_major": 2,
       "version_minor": 0,
       "model_id": "67609461f3e24fb7a27eef57abee1be4"
      }
     },
     "metadata": {},
     "output_type": "display_data"
    },
    {
     "name": "stdout",
     "output_type": "stream",
     "text": [
      "\u001B[1m\u001B[92m Epoch 99 Train DiceLoss 0.42714064940810204 Val DiceLoss 0.4129505654176076 Train dice_score 0.5728593543171883 Val dice_score 0.5870494445164999\n"
     ]
    },
    {
     "data": {
      "text/plain": [
       "  0%|          | 0/8 [00:00<?, ?it/s]"
      ],
      "application/vnd.jupyter.widget-view+json": {
       "version_major": 2,
       "version_minor": 0,
       "model_id": "dc7d1d0400a24f55ad848b94db0d1490"
      }
     },
     "metadata": {},
     "output_type": "display_data"
    },
    {
     "data": {
      "text/plain": [
       "  0%|          | 0/3 [00:00<?, ?it/s]"
      ],
      "application/vnd.jupyter.widget-view+json": {
       "version_major": 2,
       "version_minor": 0,
       "model_id": "55496d179d5540aea78f08dd20a2609d"
      }
     },
     "metadata": {},
     "output_type": "display_data"
    },
    {
     "name": "stdout",
     "output_type": "stream",
     "text": [
      "\u001B[1m\u001B[92m Epoch 100 Train DiceLoss 0.4234512038528919 Val DiceLoss 0.3964111308256785 Train dice_score 0.5765487849712372 Val dice_score 0.603588859240214\n"
     ]
    },
    {
     "data": {
      "text/plain": [
       "  0%|          | 0/8 [00:00<?, ?it/s]"
      ],
      "application/vnd.jupyter.widget-view+json": {
       "version_major": 2,
       "version_minor": 0,
       "model_id": "e9c3ec9081bb4e09b54fa7a5c3563029"
      }
     },
     "metadata": {},
     "output_type": "display_data"
    },
    {
     "data": {
      "text/plain": [
       "  0%|          | 0/3 [00:00<?, ?it/s]"
      ],
      "application/vnd.jupyter.widget-view+json": {
       "version_major": 2,
       "version_minor": 0,
       "model_id": "e2de19ac51194ecf9ecae55731eca08d"
      }
     },
     "metadata": {},
     "output_type": "display_data"
    },
    {
     "name": "stdout",
     "output_type": "stream",
     "text": [
      "\u001B[1m\u001B[92m Epoch 101 Train DiceLoss 0.4152696244418621 Val DiceLoss 0.4188551704088847 Train dice_score 0.5847303718328476 Val dice_score 0.5811448295911154\n"
     ]
    },
    {
     "data": {
      "text/plain": [
       "  0%|          | 0/8 [00:00<?, ?it/s]"
      ],
      "application/vnd.jupyter.widget-view+json": {
       "version_major": 2,
       "version_minor": 0,
       "model_id": "c1e193346f934cb6a536708c9d622029"
      }
     },
     "metadata": {},
     "output_type": "display_data"
    },
    {
     "data": {
      "text/plain": [
       "  0%|          | 0/3 [00:00<?, ?it/s]"
      ],
      "application/vnd.jupyter.widget-view+json": {
       "version_major": 2,
       "version_minor": 0,
       "model_id": "c11c1854344c460681218a8a94067139"
      }
     },
     "metadata": {},
     "output_type": "display_data"
    },
    {
     "name": "stdout",
     "output_type": "stream",
     "text": [
      "MODEL SAVED\n",
      "\u001B[1m\u001B[92m Epoch 102 Train DiceLoss 0.41446567699313164 Val DiceLoss 0.391351322333018 Train dice_score 0.5855343267321587 Val dice_score 0.6086486975351969\n"
     ]
    },
    {
     "data": {
      "text/plain": [
       "  0%|          | 0/8 [00:00<?, ?it/s]"
      ],
      "application/vnd.jupyter.widget-view+json": {
       "version_major": 2,
       "version_minor": 0,
       "model_id": "e99b6a075bc74d948d13724fbc5180ef"
      }
     },
     "metadata": {},
     "output_type": "display_data"
    },
    {
     "data": {
      "text/plain": [
       "  0%|          | 0/3 [00:00<?, ?it/s]"
      ],
      "application/vnd.jupyter.widget-view+json": {
       "version_major": 2,
       "version_minor": 0,
       "model_id": "c12f2ae475c840b39681a6738cb19f86"
      }
     },
     "metadata": {},
     "output_type": "display_data"
    },
    {
     "name": "stdout",
     "output_type": "stream",
     "text": [
      "\u001B[1m\u001B[92m Epoch 103 Train DiceLoss 0.41327931731939316 Val DiceLoss 0.39564772446950275 Train dice_score 0.5867206826806068 Val dice_score 0.6043522755304972\n"
     ]
    },
    {
     "data": {
      "text/plain": [
       "  0%|          | 0/8 [00:00<?, ?it/s]"
      ],
      "application/vnd.jupyter.widget-view+json": {
       "version_major": 2,
       "version_minor": 0,
       "model_id": "1efdf340e7024f5bbe296bc1886d8ca1"
      }
     },
     "metadata": {},
     "output_type": "display_data"
    },
    {
     "data": {
      "text/plain": [
       "  0%|          | 0/3 [00:00<?, ?it/s]"
      ],
      "application/vnd.jupyter.widget-view+json": {
       "version_major": 2,
       "version_minor": 0,
       "model_id": "939dac8ce73f4cfc8b85862b71f2a7b1"
      }
     },
     "metadata": {},
     "output_type": "display_data"
    },
    {
     "name": "stdout",
     "output_type": "stream",
     "text": [
      "MODEL SAVED\n",
      "\u001B[1m\u001B[92m Epoch 104 Train DiceLoss 0.4098811708390713 Val DiceLoss 0.3903340895970662 Train dice_score 0.5901188254356384 Val dice_score 0.6096659302711487\n"
     ]
    },
    {
     "data": {
      "text/plain": [
       "  0%|          | 0/8 [00:00<?, ?it/s]"
      ],
      "application/vnd.jupyter.widget-view+json": {
       "version_major": 2,
       "version_minor": 0,
       "model_id": "767795eb071c409093d7dccfaf7655ae"
      }
     },
     "metadata": {},
     "output_type": "display_data"
    },
    {
     "data": {
      "text/plain": [
       "  0%|          | 0/3 [00:00<?, ?it/s]"
      ],
      "application/vnd.jupyter.widget-view+json": {
       "version_major": 2,
       "version_minor": 0,
       "model_id": "08134f16070745b882e11f687d0fbc84"
      }
     },
     "metadata": {},
     "output_type": "display_data"
    },
    {
     "name": "stdout",
     "output_type": "stream",
     "text": [
      "\u001B[1m\u001B[92m Epoch 105 Train DiceLoss 0.4224018305540085 Val DiceLoss 0.3947812020778656 Train dice_score 0.5775981694459915 Val dice_score 0.605218787988027\n"
     ]
    },
    {
     "data": {
      "text/plain": [
       "  0%|          | 0/8 [00:00<?, ?it/s]"
      ],
      "application/vnd.jupyter.widget-view+json": {
       "version_major": 2,
       "version_minor": 0,
       "model_id": "3ee61c7d04404ae0849c295c1f2897c0"
      }
     },
     "metadata": {},
     "output_type": "display_data"
    },
    {
     "data": {
      "text/plain": [
       "  0%|          | 0/3 [00:00<?, ?it/s]"
      ],
      "application/vnd.jupyter.widget-view+json": {
       "version_major": 2,
       "version_minor": 0,
       "model_id": "feeb6abe68434c139502cc99f11a62de"
      }
     },
     "metadata": {},
     "output_type": "display_data"
    },
    {
     "name": "stdout",
     "output_type": "stream",
     "text": [
      "\u001B[1m\u001B[92m Epoch 106 Train DiceLoss 0.4080204367637634 Val DiceLoss 0.3935546974341075 Train dice_score 0.591979555785656 Val dice_score 0.6064453125\n"
     ]
    },
    {
     "data": {
      "text/plain": [
       "  0%|          | 0/8 [00:00<?, ?it/s]"
      ],
      "application/vnd.jupyter.widget-view+json": {
       "version_major": 2,
       "version_minor": 0,
       "model_id": "efb194236b244d0bb454b584a7231d31"
      }
     },
     "metadata": {},
     "output_type": "display_data"
    },
    {
     "data": {
      "text/plain": [
       "  0%|          | 0/3 [00:00<?, ?it/s]"
      ],
      "application/vnd.jupyter.widget-view+json": {
       "version_major": 2,
       "version_minor": 0,
       "model_id": "dddd8b5f1ab5463590751fffc0f7f2c1"
      }
     },
     "metadata": {},
     "output_type": "display_data"
    },
    {
     "name": "stdout",
     "output_type": "stream",
     "text": [
      "MODEL SAVED\n",
      "\u001B[1m\u001B[92m Epoch 107 Train DiceLoss 0.4165446385741234 Val DiceLoss 0.3844881057739258 Train dice_score 0.583455353975296 Val dice_score 0.6155118942260742\n"
     ]
    },
    {
     "data": {
      "text/plain": [
       "  0%|          | 0/8 [00:00<?, ?it/s]"
      ],
      "application/vnd.jupyter.widget-view+json": {
       "version_major": 2,
       "version_minor": 0,
       "model_id": "783946ab0e09493c99469ea7e802a798"
      }
     },
     "metadata": {},
     "output_type": "display_data"
    },
    {
     "data": {
      "text/plain": [
       "  0%|          | 0/3 [00:00<?, ?it/s]"
      ],
      "application/vnd.jupyter.widget-view+json": {
       "version_major": 2,
       "version_minor": 0,
       "model_id": "42008ce64d8a44359751d51531cd651c"
      }
     },
     "metadata": {},
     "output_type": "display_data"
    },
    {
     "name": "stdout",
     "output_type": "stream",
     "text": [
      "MODEL SAVED\n",
      "\u001B[1m\u001B[92m Epoch 108 Train DiceLoss 0.4118456020951271 Val DiceLoss 0.3837819993495941 Train dice_score 0.5881543979048729 Val dice_score 0.6162180105845133\n"
     ]
    },
    {
     "data": {
      "text/plain": [
       "  0%|          | 0/8 [00:00<?, ?it/s]"
      ],
      "application/vnd.jupyter.widget-view+json": {
       "version_major": 2,
       "version_minor": 0,
       "model_id": "4d9361589d0b4ff9815dd3bf36cb1a63"
      }
     },
     "metadata": {},
     "output_type": "display_data"
    },
    {
     "data": {
      "text/plain": [
       "  0%|          | 0/3 [00:00<?, ?it/s]"
      ],
      "application/vnd.jupyter.widget-view+json": {
       "version_major": 2,
       "version_minor": 0,
       "model_id": "535bbb3d7b4e4f129688cf8adc98812e"
      }
     },
     "metadata": {},
     "output_type": "display_data"
    },
    {
     "name": "stdout",
     "output_type": "stream",
     "text": [
      "\u001B[1m\u001B[92m Epoch 109 Train DiceLoss 0.4095796123147011 Val DiceLoss 0.40159184734026593 Train dice_score 0.5904203951358795 Val dice_score 0.5984081427256266\n"
     ]
    },
    {
     "data": {
      "text/plain": [
       "  0%|          | 0/8 [00:00<?, ?it/s]"
      ],
      "application/vnd.jupyter.widget-view+json": {
       "version_major": 2,
       "version_minor": 0,
       "model_id": "652e39130db54bc9aa8ee7a3115a23f6"
      }
     },
     "metadata": {},
     "output_type": "display_data"
    },
    {
     "data": {
      "text/plain": [
       "  0%|          | 0/3 [00:00<?, ?it/s]"
      ],
      "application/vnd.jupyter.widget-view+json": {
       "version_major": 2,
       "version_minor": 0,
       "model_id": "68cc07647bf24cac8ad2811b5390b02a"
      }
     },
     "metadata": {},
     "output_type": "display_data"
    },
    {
     "name": "stdout",
     "output_type": "stream",
     "text": [
      "\u001B[1m\u001B[92m Epoch 110 Train DiceLoss 0.4071273133158684 Val DiceLoss 0.4112619360287984 Train dice_score 0.5928726866841316 Val dice_score 0.5887380441029867\n"
     ]
    },
    {
     "data": {
      "text/plain": [
       "  0%|          | 0/8 [00:00<?, ?it/s]"
      ],
      "application/vnd.jupyter.widget-view+json": {
       "version_major": 2,
       "version_minor": 0,
       "model_id": "5d79160a77874797b74d1230e2144b83"
      }
     },
     "metadata": {},
     "output_type": "display_data"
    },
    {
     "data": {
      "text/plain": [
       "  0%|          | 0/3 [00:00<?, ?it/s]"
      ],
      "application/vnd.jupyter.widget-view+json": {
       "version_major": 2,
       "version_minor": 0,
       "model_id": "b74d3195b0b041d39e4c29a62eb7847f"
      }
     },
     "metadata": {},
     "output_type": "display_data"
    },
    {
     "name": "stdout",
     "output_type": "stream",
     "text": [
      "\u001B[1m\u001B[92m Epoch 111 Train DiceLoss 0.41041744500398636 Val DiceLoss 0.39092432459195453 Train dice_score 0.5895825549960136 Val dice_score 0.609075665473938\n"
     ]
    },
    {
     "data": {
      "text/plain": [
       "  0%|          | 0/8 [00:00<?, ?it/s]"
      ],
      "application/vnd.jupyter.widget-view+json": {
       "version_major": 2,
       "version_minor": 0,
       "model_id": "84e540826f914eb29370cc68d8f4beee"
      }
     },
     "metadata": {},
     "output_type": "display_data"
    },
    {
     "data": {
      "text/plain": [
       "  0%|          | 0/3 [00:00<?, ?it/s]"
      ],
      "application/vnd.jupyter.widget-view+json": {
       "version_major": 2,
       "version_minor": 0,
       "model_id": "1095d0e611cb49f9bb7b72ab2b6e1b5f"
      }
     },
     "metadata": {},
     "output_type": "display_data"
    },
    {
     "name": "stdout",
     "output_type": "stream",
     "text": [
      "\u001B[1m\u001B[92m Epoch 112 Train DiceLoss 0.40426044911146164 Val DiceLoss 0.38431108991305035 Train dice_score 0.595739558339119 Val dice_score 0.6156889200210571\n"
     ]
    },
    {
     "data": {
      "text/plain": [
       "  0%|          | 0/8 [00:00<?, ?it/s]"
      ],
      "application/vnd.jupyter.widget-view+json": {
       "version_major": 2,
       "version_minor": 0,
       "model_id": "3e524ee68dc040d3a886d8c1f6a388e4"
      }
     },
     "metadata": {},
     "output_type": "display_data"
    },
    {
     "data": {
      "text/plain": [
       "  0%|          | 0/3 [00:00<?, ?it/s]"
      ],
      "application/vnd.jupyter.widget-view+json": {
       "version_major": 2,
       "version_minor": 0,
       "model_id": "318ce3eb80024f52823e7829f64ba993"
      }
     },
     "metadata": {},
     "output_type": "display_data"
    },
    {
     "name": "stdout",
     "output_type": "stream",
     "text": [
      "\u001B[1m\u001B[92m Epoch 113 Train DiceLoss 0.40469329059123993 Val DiceLoss 0.3979098399480184 Train dice_score 0.5953067019581795 Val dice_score 0.6020901799201965\n"
     ]
    },
    {
     "data": {
      "text/plain": [
       "  0%|          | 0/8 [00:00<?, ?it/s]"
      ],
      "application/vnd.jupyter.widget-view+json": {
       "version_major": 2,
       "version_minor": 0,
       "model_id": "644e16555d6c4a8482d674edce2dff95"
      }
     },
     "metadata": {},
     "output_type": "display_data"
    },
    {
     "data": {
      "text/plain": [
       "  0%|          | 0/3 [00:00<?, ?it/s]"
      ],
      "application/vnd.jupyter.widget-view+json": {
       "version_major": 2,
       "version_minor": 0,
       "model_id": "8d2bae28fa1c4f7990b51c3e98ea0f09"
      }
     },
     "metadata": {},
     "output_type": "display_data"
    },
    {
     "name": "stdout",
     "output_type": "stream",
     "text": [
      "\u001B[1m\u001B[92m Epoch 114 Train DiceLoss 0.4082973189651966 Val DiceLoss 0.40914132197697956 Train dice_score 0.5917026847600937 Val dice_score 0.5908586978912354\n"
     ]
    },
    {
     "data": {
      "text/plain": [
       "  0%|          | 0/8 [00:00<?, ?it/s]"
      ],
      "application/vnd.jupyter.widget-view+json": {
       "version_major": 2,
       "version_minor": 0,
       "model_id": "3eeb838832bd428fbc79b8abbe7c2c96"
      }
     },
     "metadata": {},
     "output_type": "display_data"
    },
    {
     "data": {
      "text/plain": [
       "  0%|          | 0/3 [00:00<?, ?it/s]"
      ],
      "application/vnd.jupyter.widget-view+json": {
       "version_major": 2,
       "version_minor": 0,
       "model_id": "c32cf80db5844516b2b33a1bd5bf04bf"
      }
     },
     "metadata": {},
     "output_type": "display_data"
    },
    {
     "name": "stdout",
     "output_type": "stream",
     "text": [
      "\u001B[1m\u001B[92m Epoch 115 Train DiceLoss 0.40171004086732864 Val DiceLoss 0.3879908323287964 Train dice_score 0.5982899516820908 Val dice_score 0.6120091875394186\n"
     ]
    },
    {
     "data": {
      "text/plain": [
       "  0%|          | 0/8 [00:00<?, ?it/s]"
      ],
      "application/vnd.jupyter.widget-view+json": {
       "version_major": 2,
       "version_minor": 0,
       "model_id": "75f77a56ff754c2bbe7928793b7cb76d"
      }
     },
     "metadata": {},
     "output_type": "display_data"
    },
    {
     "data": {
      "text/plain": [
       "  0%|          | 0/3 [00:00<?, ?it/s]"
      ],
      "application/vnd.jupyter.widget-view+json": {
       "version_major": 2,
       "version_minor": 0,
       "model_id": "66ff5df798ce4b62b5537ffad19a7585"
      }
     },
     "metadata": {},
     "output_type": "display_data"
    },
    {
     "name": "stdout",
     "output_type": "stream",
     "text": [
      "\u001B[1m\u001B[92m Epoch 116 Train DiceLoss 0.4033926874399185 Val DiceLoss 0.39687541127204895 Train dice_score 0.5966073125600815 Val dice_score 0.6031245787938436\n"
     ]
    },
    {
     "data": {
      "text/plain": [
       "  0%|          | 0/8 [00:00<?, ?it/s]"
      ],
      "application/vnd.jupyter.widget-view+json": {
       "version_major": 2,
       "version_minor": 0,
       "model_id": "9041162721e44653a6833c3b5f3f2ab1"
      }
     },
     "metadata": {},
     "output_type": "display_data"
    },
    {
     "data": {
      "text/plain": [
       "  0%|          | 0/3 [00:00<?, ?it/s]"
      ],
      "application/vnd.jupyter.widget-view+json": {
       "version_major": 2,
       "version_minor": 0,
       "model_id": "b742981b117f4c81a097eecfa0ad90c1"
      }
     },
     "metadata": {},
     "output_type": "display_data"
    },
    {
     "name": "stdout",
     "output_type": "stream",
     "text": [
      "MODEL SAVED\n",
      "\u001B[1m\u001B[92m Epoch 117 Train DiceLoss 0.3998151980340481 Val DiceLoss 0.38192616899808246 Train dice_score 0.6001848131418228 Val dice_score 0.6180738608042399\n"
     ]
    },
    {
     "data": {
      "text/plain": [
       "  0%|          | 0/8 [00:00<?, ?it/s]"
      ],
      "application/vnd.jupyter.widget-view+json": {
       "version_major": 2,
       "version_minor": 0,
       "model_id": "e26f849818f14b678b16081c54f840d2"
      }
     },
     "metadata": {},
     "output_type": "display_data"
    },
    {
     "data": {
      "text/plain": [
       "  0%|          | 0/3 [00:00<?, ?it/s]"
      ],
      "application/vnd.jupyter.widget-view+json": {
       "version_major": 2,
       "version_minor": 0,
       "model_id": "afac0171eaae4eb08820869a559a8287"
      }
     },
     "metadata": {},
     "output_type": "display_data"
    },
    {
     "name": "stdout",
     "output_type": "stream",
     "text": [
      "\u001B[1m\u001B[92m Epoch 118 Train DiceLoss 0.39563126862049103 Val DiceLoss 0.38872525095939636 Train dice_score 0.6043687537312508 Val dice_score 0.6112747589747111\n"
     ]
    },
    {
     "data": {
      "text/plain": [
       "  0%|          | 0/8 [00:00<?, ?it/s]"
      ],
      "application/vnd.jupyter.widget-view+json": {
       "version_major": 2,
       "version_minor": 0,
       "model_id": "93d277fd4b1a42d0b16ff5f2905dca96"
      }
     },
     "metadata": {},
     "output_type": "display_data"
    },
    {
     "data": {
      "text/plain": [
       "  0%|          | 0/3 [00:00<?, ?it/s]"
      ],
      "application/vnd.jupyter.widget-view+json": {
       "version_major": 2,
       "version_minor": 0,
       "model_id": "823729062733469c8704541f945d7116"
      }
     },
     "metadata": {},
     "output_type": "display_data"
    },
    {
     "name": "stdout",
     "output_type": "stream",
     "text": [
      "MODEL SAVED\n",
      "\u001B[1m\u001B[92m Epoch 119 Train DiceLoss 0.3986552283167839 Val DiceLoss 0.3807474970817566 Train dice_score 0.6013447865843773 Val dice_score 0.6192525227864584\n"
     ]
    },
    {
     "data": {
      "text/plain": [
       "  0%|          | 0/8 [00:00<?, ?it/s]"
      ],
      "application/vnd.jupyter.widget-view+json": {
       "version_major": 2,
       "version_minor": 0,
       "model_id": "cc60dfed3df442fb8914aa16909c613c"
      }
     },
     "metadata": {},
     "output_type": "display_data"
    },
    {
     "data": {
      "text/plain": [
       "  0%|          | 0/3 [00:00<?, ?it/s]"
      ],
      "application/vnd.jupyter.widget-view+json": {
       "version_major": 2,
       "version_minor": 0,
       "model_id": "79f88d6a031240d2ab7ec6a78f569428"
      }
     },
     "metadata": {},
     "output_type": "display_data"
    },
    {
     "name": "stdout",
     "output_type": "stream",
     "text": [
      "\u001B[1m\u001B[92m Epoch 120 Train DiceLoss 0.39478638768196106 Val DiceLoss 0.38419151306152344 Train dice_score 0.6052136123180389 Val dice_score 0.6158085068066915\n"
     ]
    },
    {
     "data": {
      "text/plain": [
       "  0%|          | 0/8 [00:00<?, ?it/s]"
      ],
      "application/vnd.jupyter.widget-view+json": {
       "version_major": 2,
       "version_minor": 0,
       "model_id": "c52ed736075544a4bd1862551972d057"
      }
     },
     "metadata": {},
     "output_type": "display_data"
    },
    {
     "data": {
      "text/plain": [
       "  0%|          | 0/3 [00:00<?, ?it/s]"
      ],
      "application/vnd.jupyter.widget-view+json": {
       "version_major": 2,
       "version_minor": 0,
       "model_id": "3b1f341fa3d74678b37a5274318f55c9"
      }
     },
     "metadata": {},
     "output_type": "display_data"
    },
    {
     "name": "stdout",
     "output_type": "stream",
     "text": [
      "\u001B[1m\u001B[92m Epoch 121 Train DiceLoss 0.3962109163403511 Val DiceLoss 0.3863343397776286 Train dice_score 0.6037890762090683 Val dice_score 0.6136656602223715\n"
     ]
    },
    {
     "data": {
      "text/plain": [
       "  0%|          | 0/8 [00:00<?, ?it/s]"
      ],
      "application/vnd.jupyter.widget-view+json": {
       "version_major": 2,
       "version_minor": 0,
       "model_id": "d9701aa874304dc68d6d8e5387bbad57"
      }
     },
     "metadata": {},
     "output_type": "display_data"
    },
    {
     "data": {
      "text/plain": [
       "  0%|          | 0/3 [00:00<?, ?it/s]"
      ],
      "application/vnd.jupyter.widget-view+json": {
       "version_major": 2,
       "version_minor": 0,
       "model_id": "b08fefea942d408786c1bb869a030159"
      }
     },
     "metadata": {},
     "output_type": "display_data"
    },
    {
     "name": "stdout",
     "output_type": "stream",
     "text": [
      "\u001B[1m\u001B[92m Epoch 122 Train DiceLoss 0.40348146855831146 Val DiceLoss 0.3845772047837575 Train dice_score 0.5965185463428497 Val dice_score 0.615422785282135\n"
     ]
    },
    {
     "data": {
      "text/plain": [
       "  0%|          | 0/8 [00:00<?, ?it/s]"
      ],
      "application/vnd.jupyter.widget-view+json": {
       "version_major": 2,
       "version_minor": 0,
       "model_id": "2e4af2c7519a45818f5f6de39e7ddabf"
      }
     },
     "metadata": {},
     "output_type": "display_data"
    },
    {
     "data": {
      "text/plain": [
       "  0%|          | 0/3 [00:00<?, ?it/s]"
      ],
      "application/vnd.jupyter.widget-view+json": {
       "version_major": 2,
       "version_minor": 0,
       "model_id": "e9e42f5c476d4ae3a0bb9961840131b5"
      }
     },
     "metadata": {},
     "output_type": "display_data"
    },
    {
     "name": "stdout",
     "output_type": "stream",
     "text": [
      "MODEL SAVED\n",
      "\u001B[1m\u001B[92m Epoch 123 Train DiceLoss 0.39821407571434975 Val DiceLoss 0.37796205282211304 Train dice_score 0.6017859354615211 Val dice_score 0.622037947177887\n"
     ]
    },
    {
     "data": {
      "text/plain": [
       "  0%|          | 0/8 [00:00<?, ?it/s]"
      ],
      "application/vnd.jupyter.widget-view+json": {
       "version_major": 2,
       "version_minor": 0,
       "model_id": "037c10fee800493ba47e1e16f27d4266"
      }
     },
     "metadata": {},
     "output_type": "display_data"
    },
    {
     "data": {
      "text/plain": [
       "  0%|          | 0/3 [00:00<?, ?it/s]"
      ],
      "application/vnd.jupyter.widget-view+json": {
       "version_major": 2,
       "version_minor": 0,
       "model_id": "71c0e1320fe444f4b33681f6c8db7fbf"
      }
     },
     "metadata": {},
     "output_type": "display_data"
    },
    {
     "name": "stdout",
     "output_type": "stream",
     "text": [
      "\u001B[1m\u001B[92m Epoch 124 Train DiceLoss 0.39775970205664635 Val DiceLoss 0.39143821597099304 Train dice_score 0.602240301668644 Val dice_score 0.6085617939631144\n"
     ]
    },
    {
     "data": {
      "text/plain": [
       "  0%|          | 0/8 [00:00<?, ?it/s]"
      ],
      "application/vnd.jupyter.widget-view+json": {
       "version_major": 2,
       "version_minor": 0,
       "model_id": "8bc59efd068f460d8813ce9497b992b6"
      }
     },
     "metadata": {},
     "output_type": "display_data"
    },
    {
     "data": {
      "text/plain": [
       "  0%|          | 0/3 [00:00<?, ?it/s]"
      ],
      "application/vnd.jupyter.widget-view+json": {
       "version_major": 2,
       "version_minor": 0,
       "model_id": "1f904d19f6eb41a989f131195b89b7b2"
      }
     },
     "metadata": {},
     "output_type": "display_data"
    },
    {
     "name": "stdout",
     "output_type": "stream",
     "text": [
      "\u001B[1m\u001B[92m Epoch 125 Train DiceLoss 0.40278738364577293 Val DiceLoss 0.37996070583661395 Train dice_score 0.597212627530098 Val dice_score 0.6200393040974935\n"
     ]
    },
    {
     "data": {
      "text/plain": [
       "  0%|          | 0/8 [00:00<?, ?it/s]"
      ],
      "application/vnd.jupyter.widget-view+json": {
       "version_major": 2,
       "version_minor": 0,
       "model_id": "2c4c5b27c92c4b47968457bfdd94fcee"
      }
     },
     "metadata": {},
     "output_type": "display_data"
    },
    {
     "data": {
      "text/plain": [
       "  0%|          | 0/3 [00:00<?, ?it/s]"
      ],
      "application/vnd.jupyter.widget-view+json": {
       "version_major": 2,
       "version_minor": 0,
       "model_id": "e3719b146fe64046a827cbb64c1b331c"
      }
     },
     "metadata": {},
     "output_type": "display_data"
    },
    {
     "name": "stdout",
     "output_type": "stream",
     "text": [
      "\u001B[1m\u001B[92m Epoch 126 Train DiceLoss 0.3920893520116806 Val DiceLoss 0.37955742081006366 Train dice_score 0.6079106554389 Val dice_score 0.6204425891240438\n"
     ]
    },
    {
     "data": {
      "text/plain": [
       "  0%|          | 0/8 [00:00<?, ?it/s]"
      ],
      "application/vnd.jupyter.widget-view+json": {
       "version_major": 2,
       "version_minor": 0,
       "model_id": "65541ca84e6e42489392f0f4ffc23db4"
      }
     },
     "metadata": {},
     "output_type": "display_data"
    },
    {
     "data": {
      "text/plain": [
       "  0%|          | 0/3 [00:00<?, ?it/s]"
      ],
      "application/vnd.jupyter.widget-view+json": {
       "version_major": 2,
       "version_minor": 0,
       "model_id": "4e00971e0a194cfd873dcbe9ef29e876"
      }
     },
     "metadata": {},
     "output_type": "display_data"
    },
    {
     "name": "stdout",
     "output_type": "stream",
     "text": [
      "\u001B[1m\u001B[92m Epoch 127 Train DiceLoss 0.3978639431297779 Val DiceLoss 0.3904225428899129 Train dice_score 0.6021360456943512 Val dice_score 0.609577476978302\n"
     ]
    },
    {
     "data": {
      "text/plain": [
       "  0%|          | 0/8 [00:00<?, ?it/s]"
      ],
      "application/vnd.jupyter.widget-view+json": {
       "version_major": 2,
       "version_minor": 0,
       "model_id": "61d05a9b47dc4a75a2ede556d58252a3"
      }
     },
     "metadata": {},
     "output_type": "display_data"
    },
    {
     "data": {
      "text/plain": [
       "  0%|          | 0/3 [00:00<?, ?it/s]"
      ],
      "application/vnd.jupyter.widget-view+json": {
       "version_major": 2,
       "version_minor": 0,
       "model_id": "4c42e062f26d43558ec76409df63b748"
      }
     },
     "metadata": {},
     "output_type": "display_data"
    },
    {
     "name": "stdout",
     "output_type": "stream",
     "text": [
      "MODEL SAVED\n",
      "\u001B[1m\u001B[92m Epoch 128 Train DiceLoss 0.3955172151327133 Val DiceLoss 0.37791959444681805 Train dice_score 0.6044827923178673 Val dice_score 0.622080405553182\n"
     ]
    },
    {
     "data": {
      "text/plain": [
       "  0%|          | 0/8 [00:00<?, ?it/s]"
      ],
      "application/vnd.jupyter.widget-view+json": {
       "version_major": 2,
       "version_minor": 0,
       "model_id": "2b9153150fe24597899540cd5d54d64e"
      }
     },
     "metadata": {},
     "output_type": "display_data"
    },
    {
     "data": {
      "text/plain": [
       "  0%|          | 0/3 [00:00<?, ?it/s]"
      ],
      "application/vnd.jupyter.widget-view+json": {
       "version_major": 2,
       "version_minor": 0,
       "model_id": "d1e3dc3e2a03431baf2c9012e944001f"
      }
     },
     "metadata": {},
     "output_type": "display_data"
    },
    {
     "name": "stdout",
     "output_type": "stream",
     "text": [
      "MODEL SAVED\n",
      "\u001B[1m\u001B[92m Epoch 129 Train DiceLoss 0.3909851014614105 Val DiceLoss 0.37736507256825763 Train dice_score 0.6090148985385895 Val dice_score 0.6226349274317423\n"
     ]
    },
    {
     "data": {
      "text/plain": [
       "  0%|          | 0/8 [00:00<?, ?it/s]"
      ],
      "application/vnd.jupyter.widget-view+json": {
       "version_major": 2,
       "version_minor": 0,
       "model_id": "31ba848995754d0bb528fcdf83ccb8c5"
      }
     },
     "metadata": {},
     "output_type": "display_data"
    },
    {
     "data": {
      "text/plain": [
       "  0%|          | 0/3 [00:00<?, ?it/s]"
      ],
      "application/vnd.jupyter.widget-view+json": {
       "version_major": 2,
       "version_minor": 0,
       "model_id": "2ca9ecb0335b435c8557a7541e922d73"
      }
     },
     "metadata": {},
     "output_type": "display_data"
    },
    {
     "name": "stdout",
     "output_type": "stream",
     "text": [
      "MODEL SAVED\n",
      "\u001B[1m\u001B[92m Epoch 130 Train DiceLoss 0.38782766461372375 Val DiceLoss 0.3749828338623047 Train dice_score 0.6121723428368568 Val dice_score 0.6250171860059103\n"
     ]
    },
    {
     "data": {
      "text/plain": [
       "  0%|          | 0/8 [00:00<?, ?it/s]"
      ],
      "application/vnd.jupyter.widget-view+json": {
       "version_major": 2,
       "version_minor": 0,
       "model_id": "1c0471f26de6418b8d8edc8a2242db17"
      }
     },
     "metadata": {},
     "output_type": "display_data"
    },
    {
     "data": {
      "text/plain": [
       "  0%|          | 0/3 [00:00<?, ?it/s]"
      ],
      "application/vnd.jupyter.widget-view+json": {
       "version_major": 2,
       "version_minor": 0,
       "model_id": "3aa2b5099d27406b8dfbcc08d9250247"
      }
     },
     "metadata": {},
     "output_type": "display_data"
    },
    {
     "name": "stdout",
     "output_type": "stream",
     "text": [
      "\u001B[1m\u001B[92m Epoch 131 Train DiceLoss 0.39508024603128433 Val DiceLoss 0.3871202766895294 Train dice_score 0.6049197539687157 Val dice_score 0.6128797133763632\n"
     ]
    },
    {
     "data": {
      "text/plain": [
       "  0%|          | 0/8 [00:00<?, ?it/s]"
      ],
      "application/vnd.jupyter.widget-view+json": {
       "version_major": 2,
       "version_minor": 0,
       "model_id": "19b5b4d8de2e4b5285a1a79c3058c76e"
      }
     },
     "metadata": {},
     "output_type": "display_data"
    },
    {
     "data": {
      "text/plain": [
       "  0%|          | 0/3 [00:00<?, ?it/s]"
      ],
      "application/vnd.jupyter.widget-view+json": {
       "version_major": 2,
       "version_minor": 0,
       "model_id": "cac66ff7c1f2401a9ba0327a7be79bd5"
      }
     },
     "metadata": {},
     "output_type": "display_data"
    },
    {
     "name": "stdout",
     "output_type": "stream",
     "text": [
      "\u001B[1m\u001B[92m Epoch 132 Train DiceLoss 0.3992871902883053 Val DiceLoss 0.3801829218864441 Train dice_score 0.600712813436985 Val dice_score 0.6198170979817709\n"
     ]
    },
    {
     "data": {
      "text/plain": [
       "  0%|          | 0/8 [00:00<?, ?it/s]"
      ],
      "application/vnd.jupyter.widget-view+json": {
       "version_major": 2,
       "version_minor": 0,
       "model_id": "ae956170f69f4cf187c20384e6452a0c"
      }
     },
     "metadata": {},
     "output_type": "display_data"
    },
    {
     "data": {
      "text/plain": [
       "  0%|          | 0/3 [00:00<?, ?it/s]"
      ],
      "application/vnd.jupyter.widget-view+json": {
       "version_major": 2,
       "version_minor": 0,
       "model_id": "4c20dfb6c7124c2aa9a8ac8891589015"
      }
     },
     "metadata": {},
     "output_type": "display_data"
    },
    {
     "name": "stdout",
     "output_type": "stream",
     "text": [
      "MODEL SAVED\n",
      "\u001B[1m\u001B[92m Epoch 133 Train DiceLoss 0.3917471095919609 Val DiceLoss 0.3684563636779785 Train dice_score 0.6082528978586197 Val dice_score 0.6315436164538065\n"
     ]
    },
    {
     "data": {
      "text/plain": [
       "  0%|          | 0/8 [00:00<?, ?it/s]"
      ],
      "application/vnd.jupyter.widget-view+json": {
       "version_major": 2,
       "version_minor": 0,
       "model_id": "14fb406e480f4f5eb417ce39350f80c2"
      }
     },
     "metadata": {},
     "output_type": "display_data"
    },
    {
     "data": {
      "text/plain": [
       "  0%|          | 0/3 [00:00<?, ?it/s]"
      ],
      "application/vnd.jupyter.widget-view+json": {
       "version_major": 2,
       "version_minor": 0,
       "model_id": "3b00ae3a46334243b9416642bbf8fb02"
      }
     },
     "metadata": {},
     "output_type": "display_data"
    },
    {
     "name": "stdout",
     "output_type": "stream",
     "text": [
      "\u001B[1m\u001B[92m Epoch 134 Train DiceLoss 0.38439975678920746 Val DiceLoss 0.3712857762972514 Train dice_score 0.6156002506613731 Val dice_score 0.6287142237027487\n"
     ]
    },
    {
     "data": {
      "text/plain": [
       "  0%|          | 0/8 [00:00<?, ?it/s]"
      ],
      "application/vnd.jupyter.widget-view+json": {
       "version_major": 2,
       "version_minor": 0,
       "model_id": "9cfe82deec0544759838586c467eada4"
      }
     },
     "metadata": {},
     "output_type": "display_data"
    },
    {
     "data": {
      "text/plain": [
       "  0%|          | 0/3 [00:00<?, ?it/s]"
      ],
      "application/vnd.jupyter.widget-view+json": {
       "version_major": 2,
       "version_minor": 0,
       "model_id": "d3f8efc57ab242118e16c493c19718bf"
      }
     },
     "metadata": {},
     "output_type": "display_data"
    },
    {
     "name": "stdout",
     "output_type": "stream",
     "text": [
      "MODEL SAVED\n",
      "\u001B[1m\u001B[92m Epoch 135 Train DiceLoss 0.39193208515644073 Val DiceLoss 0.36688706278800964 Train dice_score 0.6080679148435593 Val dice_score 0.6331129471460978\n"
     ]
    },
    {
     "data": {
      "text/plain": [
       "  0%|          | 0/8 [00:00<?, ?it/s]"
      ],
      "application/vnd.jupyter.widget-view+json": {
       "version_major": 2,
       "version_minor": 0,
       "model_id": "16c76a45ca9f4844ac4c6985a4701787"
      }
     },
     "metadata": {},
     "output_type": "display_data"
    },
    {
     "data": {
      "text/plain": [
       "  0%|          | 0/3 [00:00<?, ?it/s]"
      ],
      "application/vnd.jupyter.widget-view+json": {
       "version_major": 2,
       "version_minor": 0,
       "model_id": "4848703dd744445ea338e6c4fe473809"
      }
     },
     "metadata": {},
     "output_type": "display_data"
    },
    {
     "name": "stdout",
     "output_type": "stream",
     "text": [
      "\u001B[1m\u001B[92m Epoch 136 Train DiceLoss 0.38819531723856926 Val DiceLoss 0.36857084433237713 Train dice_score 0.611804686486721 Val dice_score 0.6314291556676229\n"
     ]
    },
    {
     "data": {
      "text/plain": [
       "  0%|          | 0/8 [00:00<?, ?it/s]"
      ],
      "application/vnd.jupyter.widget-view+json": {
       "version_major": 2,
       "version_minor": 0,
       "model_id": "1f816f58fa454d21b91bd03c7ebbe1a2"
      }
     },
     "metadata": {},
     "output_type": "display_data"
    },
    {
     "data": {
      "text/plain": [
       "  0%|          | 0/3 [00:00<?, ?it/s]"
      ],
      "application/vnd.jupyter.widget-view+json": {
       "version_major": 2,
       "version_minor": 0,
       "model_id": "4b7b9a608b0f44e8844f674982b216d2"
      }
     },
     "metadata": {},
     "output_type": "display_data"
    },
    {
     "name": "stdout",
     "output_type": "stream",
     "text": [
      "\u001B[1m\u001B[92m Epoch 137 Train DiceLoss 0.38640403747558594 Val DiceLoss 0.3878754178682963 Train dice_score 0.6135959699749947 Val dice_score 0.6121245821317037\n"
     ]
    },
    {
     "data": {
      "text/plain": [
       "  0%|          | 0/8 [00:00<?, ?it/s]"
      ],
      "application/vnd.jupyter.widget-view+json": {
       "version_major": 2,
       "version_minor": 0,
       "model_id": "c902820c49f141188a96d0657dbc60d2"
      }
     },
     "metadata": {},
     "output_type": "display_data"
    },
    {
     "data": {
      "text/plain": [
       "  0%|          | 0/3 [00:00<?, ?it/s]"
      ],
      "application/vnd.jupyter.widget-view+json": {
       "version_major": 2,
       "version_minor": 0,
       "model_id": "37715ddb054748089d61ec903c9ab04a"
      }
     },
     "metadata": {},
     "output_type": "display_data"
    },
    {
     "name": "stdout",
     "output_type": "stream",
     "text": [
      "\u001B[1m\u001B[92m Epoch 138 Train DiceLoss 0.3899049088358879 Val DiceLoss 0.37393422921498615 Train dice_score 0.6100950986146927 Val dice_score 0.6260657707850138\n"
     ]
    },
    {
     "data": {
      "text/plain": [
       "  0%|          | 0/8 [00:00<?, ?it/s]"
      ],
      "application/vnd.jupyter.widget-view+json": {
       "version_major": 2,
       "version_minor": 0,
       "model_id": "8e0d886d90e8484ca23217c4c4712014"
      }
     },
     "metadata": {},
     "output_type": "display_data"
    },
    {
     "data": {
      "text/plain": [
       "  0%|          | 0/3 [00:00<?, ?it/s]"
      ],
      "application/vnd.jupyter.widget-view+json": {
       "version_major": 2,
       "version_minor": 0,
       "model_id": "0930302fd95f469380c67204348e9fd3"
      }
     },
     "metadata": {},
     "output_type": "display_data"
    },
    {
     "name": "stdout",
     "output_type": "stream",
     "text": [
      "\u001B[1m\u001B[92m Epoch 139 Train DiceLoss 0.393290638923645 Val DiceLoss 0.3745545248190562 Train dice_score 0.6067093685269356 Val dice_score 0.6254454851150513\n"
     ]
    },
    {
     "data": {
      "text/plain": [
       "  0%|          | 0/8 [00:00<?, ?it/s]"
      ],
      "application/vnd.jupyter.widget-view+json": {
       "version_major": 2,
       "version_minor": 0,
       "model_id": "17a15170eaad4cce942e96c28679d88b"
      }
     },
     "metadata": {},
     "output_type": "display_data"
    },
    {
     "data": {
      "text/plain": [
       "  0%|          | 0/3 [00:00<?, ?it/s]"
      ],
      "application/vnd.jupyter.widget-view+json": {
       "version_major": 2,
       "version_minor": 0,
       "model_id": "b19e6cd363374423a54b0f017af566c1"
      }
     },
     "metadata": {},
     "output_type": "display_data"
    },
    {
     "name": "stdout",
     "output_type": "stream",
     "text": [
      "\u001B[1m\u001B[92m Epoch 140 Train DiceLoss 0.38319573923945427 Val DiceLoss 0.37498430411020917 Train dice_score 0.616804264485836 Val dice_score 0.6250156958897909\n"
     ]
    },
    {
     "data": {
      "text/plain": [
       "  0%|          | 0/8 [00:00<?, ?it/s]"
      ],
      "application/vnd.jupyter.widget-view+json": {
       "version_major": 2,
       "version_minor": 0,
       "model_id": "f40fff0b8e8a454e90a67781399683cf"
      }
     },
     "metadata": {},
     "output_type": "display_data"
    },
    {
     "data": {
      "text/plain": [
       "  0%|          | 0/3 [00:00<?, ?it/s]"
      ],
      "application/vnd.jupyter.widget-view+json": {
       "version_major": 2,
       "version_minor": 0,
       "model_id": "664b861bcbc544aaa08011603277647c"
      }
     },
     "metadata": {},
     "output_type": "display_data"
    },
    {
     "name": "stdout",
     "output_type": "stream",
     "text": [
      "MODEL SAVED\n",
      "\u001B[1m\u001B[92m Epoch 141 Train DiceLoss 0.3805515728890896 Val DiceLoss 0.36532702048619586 Train dice_score 0.6194484233856201 Val dice_score 0.634672999382019\n"
     ]
    },
    {
     "data": {
      "text/plain": [
       "  0%|          | 0/8 [00:00<?, ?it/s]"
      ],
      "application/vnd.jupyter.widget-view+json": {
       "version_major": 2,
       "version_minor": 0,
       "model_id": "a63eacb9dadb43e093b81d26a0344c67"
      }
     },
     "metadata": {},
     "output_type": "display_data"
    },
    {
     "data": {
      "text/plain": [
       "  0%|          | 0/3 [00:00<?, ?it/s]"
      ],
      "application/vnd.jupyter.widget-view+json": {
       "version_major": 2,
       "version_minor": 0,
       "model_id": "da774a6143e440118f51741363a24f68"
      }
     },
     "metadata": {},
     "output_type": "display_data"
    },
    {
     "name": "stdout",
     "output_type": "stream",
     "text": [
      "MODEL SAVED\n",
      "\u001B[1m\u001B[92m Epoch 142 Train DiceLoss 0.3804878666996956 Val DiceLoss 0.36317187547683716 Train dice_score 0.6195121258497238 Val dice_score 0.6368281443913778\n"
     ]
    },
    {
     "data": {
      "text/plain": [
       "  0%|          | 0/8 [00:00<?, ?it/s]"
      ],
      "application/vnd.jupyter.widget-view+json": {
       "version_major": 2,
       "version_minor": 0,
       "model_id": "1d6421fc5d4847b28a614e2c2001293c"
      }
     },
     "metadata": {},
     "output_type": "display_data"
    },
    {
     "data": {
      "text/plain": [
       "  0%|          | 0/3 [00:00<?, ?it/s]"
      ],
      "application/vnd.jupyter.widget-view+json": {
       "version_major": 2,
       "version_minor": 0,
       "model_id": "91a6a4b6cd3e48348ebda8fd4f8fc17e"
      }
     },
     "metadata": {},
     "output_type": "display_data"
    },
    {
     "name": "stdout",
     "output_type": "stream",
     "text": [
      "\u001B[1m\u001B[92m Epoch 143 Train DiceLoss 0.3862803168594837 Val DiceLoss 0.364977906147639 Train dice_score 0.6137196868658066 Val dice_score 0.6350221037864685\n"
     ]
    },
    {
     "data": {
      "text/plain": [
       "  0%|          | 0/8 [00:00<?, ?it/s]"
      ],
      "application/vnd.jupyter.widget-view+json": {
       "version_major": 2,
       "version_minor": 0,
       "model_id": "dff3559975c9476b9f2a2be8abef9423"
      }
     },
     "metadata": {},
     "output_type": "display_data"
    },
    {
     "data": {
      "text/plain": [
       "  0%|          | 0/3 [00:00<?, ?it/s]"
      ],
      "application/vnd.jupyter.widget-view+json": {
       "version_major": 2,
       "version_minor": 0,
       "model_id": "62da2087664741fc82a698d8e019c67f"
      }
     },
     "metadata": {},
     "output_type": "display_data"
    },
    {
     "name": "stdout",
     "output_type": "stream",
     "text": [
      "\u001B[1m\u001B[92m Epoch 144 Train DiceLoss 0.38421690464019775 Val DiceLoss 0.37854422132174176 Train dice_score 0.6157831028103828 Val dice_score 0.6214557687441508\n"
     ]
    },
    {
     "data": {
      "text/plain": [
       "  0%|          | 0/8 [00:00<?, ?it/s]"
      ],
      "application/vnd.jupyter.widget-view+json": {
       "version_major": 2,
       "version_minor": 0,
       "model_id": "3a50a1fe9f54473cb6b5324f5b67806b"
      }
     },
     "metadata": {},
     "output_type": "display_data"
    },
    {
     "data": {
      "text/plain": [
       "  0%|          | 0/3 [00:00<?, ?it/s]"
      ],
      "application/vnd.jupyter.widget-view+json": {
       "version_major": 2,
       "version_minor": 0,
       "model_id": "29e6d391542e4e2dad7a7177bb8dc252"
      }
     },
     "metadata": {},
     "output_type": "display_data"
    },
    {
     "name": "stdout",
     "output_type": "stream",
     "text": [
      "\u001B[1m\u001B[92m Epoch 145 Train DiceLoss 0.3882727771997452 Val DiceLoss 0.384650856256485 Train dice_score 0.6117272302508354 Val dice_score 0.6153491536776224\n"
     ]
    },
    {
     "data": {
      "text/plain": [
       "  0%|          | 0/8 [00:00<?, ?it/s]"
      ],
      "application/vnd.jupyter.widget-view+json": {
       "version_major": 2,
       "version_minor": 0,
       "model_id": "82ea606d3cf3415982ad5139f52801f6"
      }
     },
     "metadata": {},
     "output_type": "display_data"
    },
    {
     "data": {
      "text/plain": [
       "  0%|          | 0/3 [00:00<?, ?it/s]"
      ],
      "application/vnd.jupyter.widget-view+json": {
       "version_major": 2,
       "version_minor": 0,
       "model_id": "70e0214c821643bda4d9ed39f7dd771b"
      }
     },
     "metadata": {},
     "output_type": "display_data"
    },
    {
     "name": "stdout",
     "output_type": "stream",
     "text": [
      "MODEL SAVED\n",
      "\u001B[1m\u001B[92m Epoch 146 Train DiceLoss 0.3829651288688183 Val DiceLoss 0.3631120522816976 Train dice_score 0.617034874856472 Val dice_score 0.6368879477183024\n"
     ]
    },
    {
     "data": {
      "text/plain": [
       "  0%|          | 0/8 [00:00<?, ?it/s]"
      ],
      "application/vnd.jupyter.widget-view+json": {
       "version_major": 2,
       "version_minor": 0,
       "model_id": "9d89f7ef7e2e4092bd112b60c2230256"
      }
     },
     "metadata": {},
     "output_type": "display_data"
    },
    {
     "data": {
      "text/plain": [
       "  0%|          | 0/3 [00:00<?, ?it/s]"
      ],
      "application/vnd.jupyter.widget-view+json": {
       "version_major": 2,
       "version_minor": 0,
       "model_id": "7b2ff20b62a54b8d9aa655a77db8d8de"
      }
     },
     "metadata": {},
     "output_type": "display_data"
    },
    {
     "name": "stdout",
     "output_type": "stream",
     "text": [
      "\u001B[1m\u001B[92m Epoch 147 Train DiceLoss 0.3763299658894539 Val DiceLoss 0.3661397894223531 Train dice_score 0.6236700266599655 Val dice_score 0.6338602105776469\n"
     ]
    },
    {
     "data": {
      "text/plain": [
       "  0%|          | 0/8 [00:00<?, ?it/s]"
      ],
      "application/vnd.jupyter.widget-view+json": {
       "version_major": 2,
       "version_minor": 0,
       "model_id": "78e5d457c56943f783747c8ee1a206cc"
      }
     },
     "metadata": {},
     "output_type": "display_data"
    },
    {
     "data": {
      "text/plain": [
       "  0%|          | 0/3 [00:00<?, ?it/s]"
      ],
      "application/vnd.jupyter.widget-view+json": {
       "version_major": 2,
       "version_minor": 0,
       "model_id": "42751e1b45d841fe84c8aa30976da70a"
      }
     },
     "metadata": {},
     "output_type": "display_data"
    },
    {
     "name": "stdout",
     "output_type": "stream",
     "text": [
      "\u001B[1m\u001B[92m Epoch 148 Train DiceLoss 0.3797851763665676 Val DiceLoss 0.37489450971285504 Train dice_score 0.6202148273587227 Val dice_score 0.6251055002212524\n"
     ]
    },
    {
     "data": {
      "text/plain": [
       "  0%|          | 0/8 [00:00<?, ?it/s]"
      ],
      "application/vnd.jupyter.widget-view+json": {
       "version_major": 2,
       "version_minor": 0,
       "model_id": "487d205c6d304fa480066381731ef289"
      }
     },
     "metadata": {},
     "output_type": "display_data"
    },
    {
     "data": {
      "text/plain": [
       "  0%|          | 0/3 [00:00<?, ?it/s]"
      ],
      "application/vnd.jupyter.widget-view+json": {
       "version_major": 2,
       "version_minor": 0,
       "model_id": "a06241acedab4bc0952744958b3eab9d"
      }
     },
     "metadata": {},
     "output_type": "display_data"
    },
    {
     "name": "stdout",
     "output_type": "stream",
     "text": [
      "MODEL SAVED\n",
      "\u001B[1m\u001B[92m Epoch 149 Train DiceLoss 0.38047288730740547 Val DiceLoss 0.3604443868001302 Train dice_score 0.6195271238684654 Val dice_score 0.6395556330680847\n"
     ]
    },
    {
     "data": {
      "text/plain": [
       "  0%|          | 0/8 [00:00<?, ?it/s]"
      ],
      "application/vnd.jupyter.widget-view+json": {
       "version_major": 2,
       "version_minor": 0,
       "model_id": "16ea1e872b3e4e2b821db8400fc95c89"
      }
     },
     "metadata": {},
     "output_type": "display_data"
    },
    {
     "data": {
      "text/plain": [
       "  0%|          | 0/3 [00:00<?, ?it/s]"
      ],
      "application/vnd.jupyter.widget-view+json": {
       "version_major": 2,
       "version_minor": 0,
       "model_id": "0e406bb6bc9d416d96387c0b2bf0f7f4"
      }
     },
     "metadata": {},
     "output_type": "display_data"
    },
    {
     "name": "stdout",
     "output_type": "stream",
     "text": [
      "\u001B[1m\u001B[92m Epoch 150 Train DiceLoss 0.379804078489542 Val DiceLoss 0.3693183163801829 Train dice_score 0.6201959177851677 Val dice_score 0.6306816935539246\n"
     ]
    },
    {
     "data": {
      "text/plain": [
       "  0%|          | 0/8 [00:00<?, ?it/s]"
      ],
      "application/vnd.jupyter.widget-view+json": {
       "version_major": 2,
       "version_minor": 0,
       "model_id": "d188443e9fc440d5ab89bd14cff977ee"
      }
     },
     "metadata": {},
     "output_type": "display_data"
    },
    {
     "data": {
      "text/plain": [
       "  0%|          | 0/3 [00:00<?, ?it/s]"
      ],
      "application/vnd.jupyter.widget-view+json": {
       "version_major": 2,
       "version_minor": 0,
       "model_id": "e61438c92872407a9be8b69c745f88e3"
      }
     },
     "metadata": {},
     "output_type": "display_data"
    },
    {
     "name": "stdout",
     "output_type": "stream",
     "text": [
      "\u001B[1m\u001B[92m Epoch 151 Train DiceLoss 0.3736727386713028 Val DiceLoss 0.3649476269880931 Train dice_score 0.6263272687792778 Val dice_score 0.6350523829460144\n"
     ]
    },
    {
     "data": {
      "text/plain": [
       "  0%|          | 0/8 [00:00<?, ?it/s]"
      ],
      "application/vnd.jupyter.widget-view+json": {
       "version_major": 2,
       "version_minor": 0,
       "model_id": "daa4b6486538419889efb8ec2a3b7816"
      }
     },
     "metadata": {},
     "output_type": "display_data"
    },
    {
     "data": {
      "text/plain": [
       "  0%|          | 0/3 [00:00<?, ?it/s]"
      ],
      "application/vnd.jupyter.widget-view+json": {
       "version_major": 2,
       "version_minor": 0,
       "model_id": "b784d644d72c45ea8e3732fb21d7b077"
      }
     },
     "metadata": {},
     "output_type": "display_data"
    },
    {
     "name": "stdout",
     "output_type": "stream",
     "text": [
      "\u001B[1m\u001B[92m Epoch 152 Train DiceLoss 0.37595490738749504 Val DiceLoss 0.3811599314212799 Train dice_score 0.6240451037883759 Val dice_score 0.6188400983810425\n"
     ]
    },
    {
     "data": {
      "text/plain": [
       "  0%|          | 0/8 [00:00<?, ?it/s]"
      ],
      "application/vnd.jupyter.widget-view+json": {
       "version_major": 2,
       "version_minor": 0,
       "model_id": "7ec3d1ed20304920a738c742fb6613ce"
      }
     },
     "metadata": {},
     "output_type": "display_data"
    },
    {
     "data": {
      "text/plain": [
       "  0%|          | 0/3 [00:00<?, ?it/s]"
      ],
      "application/vnd.jupyter.widget-view+json": {
       "version_major": 2,
       "version_minor": 0,
       "model_id": "a5857dc83ff84bdda58fb3e062d1f60d"
      }
     },
     "metadata": {},
     "output_type": "display_data"
    },
    {
     "name": "stdout",
     "output_type": "stream",
     "text": [
      "\u001B[1m\u001B[92m Epoch 153 Train DiceLoss 0.38624299317598343 Val DiceLoss 0.37213563919067383 Train dice_score 0.613756999373436 Val dice_score 0.6278643608093262\n"
     ]
    },
    {
     "data": {
      "text/plain": [
       "  0%|          | 0/8 [00:00<?, ?it/s]"
      ],
      "application/vnd.jupyter.widget-view+json": {
       "version_major": 2,
       "version_minor": 0,
       "model_id": "cc2264c7033c47d4b812fbda914f6527"
      }
     },
     "metadata": {},
     "output_type": "display_data"
    },
    {
     "data": {
      "text/plain": [
       "  0%|          | 0/3 [00:00<?, ?it/s]"
      ],
      "application/vnd.jupyter.widget-view+json": {
       "version_major": 2,
       "version_minor": 0,
       "model_id": "740407501f004445822ec6db33e5d9ab"
      }
     },
     "metadata": {},
     "output_type": "display_data"
    },
    {
     "name": "stdout",
     "output_type": "stream",
     "text": [
      "\u001B[1m\u001B[92m Epoch 154 Train DiceLoss 0.3774430900812149 Val DiceLoss 0.3695027828216553 Train dice_score 0.6225569099187851 Val dice_score 0.6304972171783447\n"
     ]
    },
    {
     "data": {
      "text/plain": [
       "  0%|          | 0/8 [00:00<?, ?it/s]"
      ],
      "application/vnd.jupyter.widget-view+json": {
       "version_major": 2,
       "version_minor": 0,
       "model_id": "bb2a4f7d207d4339ae164fcd7a05394c"
      }
     },
     "metadata": {},
     "output_type": "display_data"
    },
    {
     "data": {
      "text/plain": [
       "  0%|          | 0/3 [00:00<?, ?it/s]"
      ],
      "application/vnd.jupyter.widget-view+json": {
       "version_major": 2,
       "version_minor": 0,
       "model_id": "c4b73cbcf4874604a6850075a870ab91"
      }
     },
     "metadata": {},
     "output_type": "display_data"
    },
    {
     "name": "stdout",
     "output_type": "stream",
     "text": [
      "\u001B[1m\u001B[92m Epoch 155 Train DiceLoss 0.38194263726472855 Val DiceLoss 0.38347424070040387 Train dice_score 0.6180573552846909 Val dice_score 0.6165257692337036\n"
     ]
    },
    {
     "data": {
      "text/plain": [
       "  0%|          | 0/8 [00:00<?, ?it/s]"
      ],
      "application/vnd.jupyter.widget-view+json": {
       "version_major": 2,
       "version_minor": 0,
       "model_id": "e798584ee5a5410cb40836860a1c6112"
      }
     },
     "metadata": {},
     "output_type": "display_data"
    },
    {
     "data": {
      "text/plain": [
       "  0%|          | 0/3 [00:00<?, ?it/s]"
      ],
      "application/vnd.jupyter.widget-view+json": {
       "version_major": 2,
       "version_minor": 0,
       "model_id": "4648783c138c4f89bbcfe7d1ea9a333d"
      }
     },
     "metadata": {},
     "output_type": "display_data"
    },
    {
     "name": "stdout",
     "output_type": "stream",
     "text": [
      "\u001B[1m\u001B[92m Epoch 156 Train DiceLoss 0.38229937478899956 Val DiceLoss 0.36526257793108624 Train dice_score 0.6177006363868713 Val dice_score 0.6347374320030212\n"
     ]
    },
    {
     "data": {
      "text/plain": [
       "  0%|          | 0/8 [00:00<?, ?it/s]"
      ],
      "application/vnd.jupyter.widget-view+json": {
       "version_major": 2,
       "version_minor": 0,
       "model_id": "40825a647d4a4ac986d36e858098883b"
      }
     },
     "metadata": {},
     "output_type": "display_data"
    },
    {
     "data": {
      "text/plain": [
       "  0%|          | 0/3 [00:00<?, ?it/s]"
      ],
      "application/vnd.jupyter.widget-view+json": {
       "version_major": 2,
       "version_minor": 0,
       "model_id": "ba787b755a974a39aebf3315c3a2cf25"
      }
     },
     "metadata": {},
     "output_type": "display_data"
    },
    {
     "name": "stdout",
     "output_type": "stream",
     "text": [
      "\u001B[1m\u001B[92m Epoch 157 Train DiceLoss 0.3760151229798794 Val DiceLoss 0.3738560378551483 Train dice_score 0.6239848658442497 Val dice_score 0.6261439720789591\n"
     ]
    },
    {
     "data": {
      "text/plain": [
       "  0%|          | 0/8 [00:00<?, ?it/s]"
      ],
      "application/vnd.jupyter.widget-view+json": {
       "version_major": 2,
       "version_minor": 0,
       "model_id": "b660791bc09d418bbf06adfdddbee33b"
      }
     },
     "metadata": {},
     "output_type": "display_data"
    },
    {
     "data": {
      "text/plain": [
       "  0%|          | 0/3 [00:00<?, ?it/s]"
      ],
      "application/vnd.jupyter.widget-view+json": {
       "version_major": 2,
       "version_minor": 0,
       "model_id": "b689a695d3504c538ec98c6bf2b00154"
      }
     },
     "metadata": {},
     "output_type": "display_data"
    },
    {
     "name": "stdout",
     "output_type": "stream",
     "text": [
      "\u001B[1m\u001B[92m Epoch 158 Train DiceLoss 0.37683748453855515 Val DiceLoss 0.36702797810236615 Train dice_score 0.6231625229120255 Val dice_score 0.6329720218976339\n"
     ]
    },
    {
     "data": {
      "text/plain": [
       "  0%|          | 0/8 [00:00<?, ?it/s]"
      ],
      "application/vnd.jupyter.widget-view+json": {
       "version_major": 2,
       "version_minor": 0,
       "model_id": "f7d8271396b548ef930eea29c500f5ba"
      }
     },
     "metadata": {},
     "output_type": "display_data"
    },
    {
     "data": {
      "text/plain": [
       "  0%|          | 0/3 [00:00<?, ?it/s]"
      ],
      "application/vnd.jupyter.widget-view+json": {
       "version_major": 2,
       "version_minor": 0,
       "model_id": "3e44304784fd411c8697e4ec879c3323"
      }
     },
     "metadata": {},
     "output_type": "display_data"
    },
    {
     "name": "stdout",
     "output_type": "stream",
     "text": [
      "\u001B[1m\u001B[92m Epoch 159 Train DiceLoss 0.3803224414587021 Val DiceLoss 0.3684377471605937 Train dice_score 0.6196775734424591 Val dice_score 0.6315622528394064\n"
     ]
    },
    {
     "data": {
      "text/plain": [
       "  0%|          | 0/8 [00:00<?, ?it/s]"
      ],
      "application/vnd.jupyter.widget-view+json": {
       "version_major": 2,
       "version_minor": 0,
       "model_id": "cc4e925e677444a08d43619858422727"
      }
     },
     "metadata": {},
     "output_type": "display_data"
    },
    {
     "data": {
      "text/plain": [
       "  0%|          | 0/3 [00:00<?, ?it/s]"
      ],
      "application/vnd.jupyter.widget-view+json": {
       "version_major": 2,
       "version_minor": 0,
       "model_id": "6ba80668c8704428b6d62e301fa2a078"
      }
     },
     "metadata": {},
     "output_type": "display_data"
    },
    {
     "name": "stdout",
     "output_type": "stream",
     "text": [
      "\u001B[1m\u001B[92m Epoch 160 Train DiceLoss 0.3774970583617687 Val DiceLoss 0.39414681990941364 Train dice_score 0.6225029453635216 Val dice_score 0.6058531999588013\n"
     ]
    },
    {
     "data": {
      "text/plain": [
       "  0%|          | 0/8 [00:00<?, ?it/s]"
      ],
      "application/vnd.jupyter.widget-view+json": {
       "version_major": 2,
       "version_minor": 0,
       "model_id": "682514f3626e4b5a9a21105374cf8bee"
      }
     },
     "metadata": {},
     "output_type": "display_data"
    },
    {
     "data": {
      "text/plain": [
       "  0%|          | 0/3 [00:00<?, ?it/s]"
      ],
      "application/vnd.jupyter.widget-view+json": {
       "version_major": 2,
       "version_minor": 0,
       "model_id": "39db1677636e41b2a6dfacedec3ba5f2"
      }
     },
     "metadata": {},
     "output_type": "display_data"
    },
    {
     "name": "stdout",
     "output_type": "stream",
     "text": [
      "MODEL SAVED\n",
      "\u001B[1m\u001B[92m Epoch 161 Train DiceLoss 0.3724577948451042 Val DiceLoss 0.35960209369659424 Train dice_score 0.6275422126054764 Val dice_score 0.6403979261716207\n"
     ]
    },
    {
     "data": {
      "text/plain": [
       "  0%|          | 0/8 [00:00<?, ?it/s]"
      ],
      "application/vnd.jupyter.widget-view+json": {
       "version_major": 2,
       "version_minor": 0,
       "model_id": "01e8b0dc90674e48a14995aeec15591b"
      }
     },
     "metadata": {},
     "output_type": "display_data"
    },
    {
     "data": {
      "text/plain": [
       "  0%|          | 0/3 [00:00<?, ?it/s]"
      ],
      "application/vnd.jupyter.widget-view+json": {
       "version_major": 2,
       "version_minor": 0,
       "model_id": "a09d80ce9bb64611956d70686250813f"
      }
     },
     "metadata": {},
     "output_type": "display_data"
    },
    {
     "name": "stdout",
     "output_type": "stream",
     "text": [
      "MODEL SAVED\n",
      "\u001B[1m\u001B[92m Epoch 162 Train DiceLoss 0.36808429658412933 Val DiceLoss 0.3532252013683319 Train dice_score 0.6319157108664513 Val dice_score 0.6467748085657755\n"
     ]
    },
    {
     "data": {
      "text/plain": [
       "  0%|          | 0/8 [00:00<?, ?it/s]"
      ],
      "application/vnd.jupyter.widget-view+json": {
       "version_major": 2,
       "version_minor": 0,
       "model_id": "4f164323e14f4e0ca577f2fed765cd10"
      }
     },
     "metadata": {},
     "output_type": "display_data"
    },
    {
     "data": {
      "text/plain": [
       "  0%|          | 0/3 [00:00<?, ?it/s]"
      ],
      "application/vnd.jupyter.widget-view+json": {
       "version_major": 2,
       "version_minor": 0,
       "model_id": "f2823903397c4b29896ed0aadd267efe"
      }
     },
     "metadata": {},
     "output_type": "display_data"
    },
    {
     "name": "stdout",
     "output_type": "stream",
     "text": [
      "\u001B[1m\u001B[92m Epoch 163 Train DiceLoss 0.3707028850913048 Val DiceLoss 0.35667871435483295 Train dice_score 0.6292971074581146 Val dice_score 0.6433212955792745\n"
     ]
    },
    {
     "data": {
      "text/plain": [
       "  0%|          | 0/8 [00:00<?, ?it/s]"
      ],
      "application/vnd.jupyter.widget-view+json": {
       "version_major": 2,
       "version_minor": 0,
       "model_id": "14d1fc35cde849779273721effe84727"
      }
     },
     "metadata": {},
     "output_type": "display_data"
    },
    {
     "data": {
      "text/plain": [
       "  0%|          | 0/3 [00:00<?, ?it/s]"
      ],
      "application/vnd.jupyter.widget-view+json": {
       "version_major": 2,
       "version_minor": 0,
       "model_id": "6e278d88b85949e2828a319a80f20aad"
      }
     },
     "metadata": {},
     "output_type": "display_data"
    },
    {
     "name": "stdout",
     "output_type": "stream",
     "text": [
      "\u001B[1m\u001B[92m Epoch 164 Train DiceLoss 0.37102846801280975 Val DiceLoss 0.36631378531455994 Train dice_score 0.6289715319871902 Val dice_score 0.6336862246195475\n"
     ]
    },
    {
     "data": {
      "text/plain": [
       "  0%|          | 0/8 [00:00<?, ?it/s]"
      ],
      "application/vnd.jupyter.widget-view+json": {
       "version_major": 2,
       "version_minor": 0,
       "model_id": "cf873d5d5d1146fd8204b28ff8aa814e"
      }
     },
     "metadata": {},
     "output_type": "display_data"
    },
    {
     "data": {
      "text/plain": [
       "  0%|          | 0/3 [00:00<?, ?it/s]"
      ],
      "application/vnd.jupyter.widget-view+json": {
       "version_major": 2,
       "version_minor": 0,
       "model_id": "086593ad93ca4321a9bb6030fa4fff9d"
      }
     },
     "metadata": {},
     "output_type": "display_data"
    },
    {
     "name": "stdout",
     "output_type": "stream",
     "text": [
      "\u001B[1m\u001B[92m Epoch 165 Train DiceLoss 0.373558197170496 Val DiceLoss 0.36535461743672687 Train dice_score 0.6264418214559555 Val dice_score 0.6346453825632731\n"
     ]
    },
    {
     "data": {
      "text/plain": [
       "  0%|          | 0/8 [00:00<?, ?it/s]"
      ],
      "application/vnd.jupyter.widget-view+json": {
       "version_major": 2,
       "version_minor": 0,
       "model_id": "d8e805cc54654e5fa79b18d3d8ee2e84"
      }
     },
     "metadata": {},
     "output_type": "display_data"
    },
    {
     "data": {
      "text/plain": [
       "  0%|          | 0/3 [00:00<?, ?it/s]"
      ],
      "application/vnd.jupyter.widget-view+json": {
       "version_major": 2,
       "version_minor": 0,
       "model_id": "2c3c2fa5fa494f8cba17447524555418"
      }
     },
     "metadata": {},
     "output_type": "display_data"
    },
    {
     "name": "stdout",
     "output_type": "stream",
     "text": [
      "\u001B[1m\u001B[92m Epoch 166 Train DiceLoss 0.3721076548099518 Val DiceLoss 0.36147074898084003 Train dice_score 0.6278923451900482 Val dice_score 0.6385292609532675\n"
     ]
    },
    {
     "data": {
      "text/plain": [
       "  0%|          | 0/8 [00:00<?, ?it/s]"
      ],
      "application/vnd.jupyter.widget-view+json": {
       "version_major": 2,
       "version_minor": 0,
       "model_id": "03a1da47711f4d8cb6ea18166e9df443"
      }
     },
     "metadata": {},
     "output_type": "display_data"
    },
    {
     "data": {
      "text/plain": [
       "  0%|          | 0/3 [00:00<?, ?it/s]"
      ],
      "application/vnd.jupyter.widget-view+json": {
       "version_major": 2,
       "version_minor": 0,
       "model_id": "2aec3b4798ee44438426224b42a00e75"
      }
     },
     "metadata": {},
     "output_type": "display_data"
    },
    {
     "name": "stdout",
     "output_type": "stream",
     "text": [
      "\u001B[1m\u001B[92m Epoch 167 Train DiceLoss 0.3689331039786339 Val DiceLoss 0.35678261518478394 Train dice_score 0.6310668960213661 Val dice_score 0.6432173848152161\n"
     ]
    },
    {
     "data": {
      "text/plain": [
       "  0%|          | 0/8 [00:00<?, ?it/s]"
      ],
      "application/vnd.jupyter.widget-view+json": {
       "version_major": 2,
       "version_minor": 0,
       "model_id": "e594a6c53f054a7a88e4e77f671de534"
      }
     },
     "metadata": {},
     "output_type": "display_data"
    },
    {
     "data": {
      "text/plain": [
       "  0%|          | 0/3 [00:00<?, ?it/s]"
      ],
      "application/vnd.jupyter.widget-view+json": {
       "version_major": 2,
       "version_minor": 0,
       "model_id": "5048e5cbe3c740688f429c102cd091cd"
      }
     },
     "metadata": {},
     "output_type": "display_data"
    },
    {
     "name": "stdout",
     "output_type": "stream",
     "text": [
      "\u001B[1m\u001B[92m Epoch 168 Train DiceLoss 0.37761838361620903 Val DiceLoss 0.36470847328503925 Train dice_score 0.6223816275596619 Val dice_score 0.6352915366490682\n"
     ]
    },
    {
     "data": {
      "text/plain": [
       "  0%|          | 0/8 [00:00<?, ?it/s]"
      ],
      "application/vnd.jupyter.widget-view+json": {
       "version_major": 2,
       "version_minor": 0,
       "model_id": "2314a73dd1aa48d99c2c5773f4c63c8d"
      }
     },
     "metadata": {},
     "output_type": "display_data"
    },
    {
     "data": {
      "text/plain": [
       "  0%|          | 0/3 [00:00<?, ?it/s]"
      ],
      "application/vnd.jupyter.widget-view+json": {
       "version_major": 2,
       "version_minor": 0,
       "model_id": "cc8e65dfdeaf4582901d015f069037ed"
      }
     },
     "metadata": {},
     "output_type": "display_data"
    },
    {
     "name": "stdout",
     "output_type": "stream",
     "text": [
      "\u001B[1m\u001B[92m Epoch 169 Train DiceLoss 0.36592947691679 Val DiceLoss 0.36035940051078796 Train dice_score 0.6340705305337906 Val dice_score 0.6396406094233195\n"
     ]
    },
    {
     "data": {
      "text/plain": [
       "  0%|          | 0/8 [00:00<?, ?it/s]"
      ],
      "application/vnd.jupyter.widget-view+json": {
       "version_major": 2,
       "version_minor": 0,
       "model_id": "0022069b8aff4356966da4f98244749e"
      }
     },
     "metadata": {},
     "output_type": "display_data"
    },
    {
     "data": {
      "text/plain": [
       "  0%|          | 0/3 [00:00<?, ?it/s]"
      ],
      "application/vnd.jupyter.widget-view+json": {
       "version_major": 2,
       "version_minor": 0,
       "model_id": "eb68fc4f14804281b7e517df7171f160"
      }
     },
     "metadata": {},
     "output_type": "display_data"
    },
    {
     "name": "stdout",
     "output_type": "stream",
     "text": [
      "\u001B[1m\u001B[92m Epoch 170 Train DiceLoss 0.36334284022450447 Val DiceLoss 0.3661620219548543 Train dice_score 0.6366571635007858 Val dice_score 0.6338379581769308\n"
     ]
    },
    {
     "data": {
      "text/plain": [
       "  0%|          | 0/8 [00:00<?, ?it/s]"
      ],
      "application/vnd.jupyter.widget-view+json": {
       "version_major": 2,
       "version_minor": 0,
       "model_id": "adc715045521419f868686f8b68bcf04"
      }
     },
     "metadata": {},
     "output_type": "display_data"
    },
    {
     "data": {
      "text/plain": [
       "  0%|          | 0/3 [00:00<?, ?it/s]"
      ],
      "application/vnd.jupyter.widget-view+json": {
       "version_major": 2,
       "version_minor": 0,
       "model_id": "8c87b32f73174364a19171f14877facc"
      }
     },
     "metadata": {},
     "output_type": "display_data"
    },
    {
     "name": "stdout",
     "output_type": "stream",
     "text": [
      "\u001B[1m\u001B[92m Epoch 171 Train DiceLoss 0.3686661943793297 Val DiceLoss 0.3545142114162445 Train dice_score 0.6313338056206703 Val dice_score 0.6454857786496481\n"
     ]
    },
    {
     "data": {
      "text/plain": [
       "  0%|          | 0/8 [00:00<?, ?it/s]"
      ],
      "application/vnd.jupyter.widget-view+json": {
       "version_major": 2,
       "version_minor": 0,
       "model_id": "ff558e98461b46c29cf96dc93b91f6e3"
      }
     },
     "metadata": {},
     "output_type": "display_data"
    },
    {
     "data": {
      "text/plain": [
       "  0%|          | 0/3 [00:00<?, ?it/s]"
      ],
      "application/vnd.jupyter.widget-view+json": {
       "version_major": 2,
       "version_minor": 0,
       "model_id": "c775a312b7de4003ac4737376ab0f4c4"
      }
     },
     "metadata": {},
     "output_type": "display_data"
    },
    {
     "name": "stdout",
     "output_type": "stream",
     "text": [
      "\u001B[1m\u001B[92m Epoch 172 Train DiceLoss 0.36542245000600815 Val DiceLoss 0.35457246502240497 Train dice_score 0.6345775425434113 Val dice_score 0.6454275250434875\n"
     ]
    },
    {
     "data": {
      "text/plain": [
       "  0%|          | 0/8 [00:00<?, ?it/s]"
      ],
      "application/vnd.jupyter.widget-view+json": {
       "version_major": 2,
       "version_minor": 0,
       "model_id": "6700f881a746452ab04d5c8821e6a576"
      }
     },
     "metadata": {},
     "output_type": "display_data"
    },
    {
     "data": {
      "text/plain": [
       "  0%|          | 0/3 [00:00<?, ?it/s]"
      ],
      "application/vnd.jupyter.widget-view+json": {
       "version_major": 2,
       "version_minor": 0,
       "model_id": "f0094b1d7da54140a3c8396c160baa8e"
      }
     },
     "metadata": {},
     "output_type": "display_data"
    },
    {
     "name": "stdout",
     "output_type": "stream",
     "text": [
      "MODEL SAVED\n",
      "\u001B[1m\u001B[92m Epoch 173 Train DiceLoss 0.3668939545750618 Val DiceLoss 0.35145701964696247 Train dice_score 0.6331060379743576 Val dice_score 0.6485429803530375\n"
     ]
    },
    {
     "data": {
      "text/plain": [
       "  0%|          | 0/8 [00:00<?, ?it/s]"
      ],
      "application/vnd.jupyter.widget-view+json": {
       "version_major": 2,
       "version_minor": 0,
       "model_id": "f499192c538c466dba25e2809d4b1dd2"
      }
     },
     "metadata": {},
     "output_type": "display_data"
    },
    {
     "data": {
      "text/plain": [
       "  0%|          | 0/3 [00:00<?, ?it/s]"
      ],
      "application/vnd.jupyter.widget-view+json": {
       "version_major": 2,
       "version_minor": 0,
       "model_id": "cfabb245f2f64c25b65da8259a7192ec"
      }
     },
     "metadata": {},
     "output_type": "display_data"
    },
    {
     "name": "stdout",
     "output_type": "stream",
     "text": [
      "\u001B[1m\u001B[92m Epoch 174 Train DiceLoss 0.36182378605008125 Val DiceLoss 0.3524090846379598 Train dice_score 0.6381762251257896 Val dice_score 0.6475909153620402\n"
     ]
    },
    {
     "data": {
      "text/plain": [
       "  0%|          | 0/8 [00:00<?, ?it/s]"
      ],
      "application/vnd.jupyter.widget-view+json": {
       "version_major": 2,
       "version_minor": 0,
       "model_id": "443b8af901904a4fa959b39865631c48"
      }
     },
     "metadata": {},
     "output_type": "display_data"
    },
    {
     "data": {
      "text/plain": [
       "  0%|          | 0/3 [00:00<?, ?it/s]"
      ],
      "application/vnd.jupyter.widget-view+json": {
       "version_major": 2,
       "version_minor": 0,
       "model_id": "f6ad9b238c764373bdad76ba9dfda3d9"
      }
     },
     "metadata": {},
     "output_type": "display_data"
    },
    {
     "name": "stdout",
     "output_type": "stream",
     "text": [
      "MODEL SAVED\n",
      "\u001B[1m\u001B[92m Epoch 175 Train DiceLoss 0.36303776502609253 Val DiceLoss 0.3478323717912038 Train dice_score 0.6369622424244881 Val dice_score 0.6521676381429037\n"
     ]
    },
    {
     "data": {
      "text/plain": [
       "  0%|          | 0/8 [00:00<?, ?it/s]"
      ],
      "application/vnd.jupyter.widget-view+json": {
       "version_major": 2,
       "version_minor": 0,
       "model_id": "671f406f46694e1a844eee2618c2cda1"
      }
     },
     "metadata": {},
     "output_type": "display_data"
    },
    {
     "data": {
      "text/plain": [
       "  0%|          | 0/3 [00:00<?, ?it/s]"
      ],
      "application/vnd.jupyter.widget-view+json": {
       "version_major": 2,
       "version_minor": 0,
       "model_id": "2c484752d38449d9b14248b12acf613f"
      }
     },
     "metadata": {},
     "output_type": "display_data"
    },
    {
     "name": "stdout",
     "output_type": "stream",
     "text": [
      "\u001B[1m\u001B[92m Epoch 176 Train DiceLoss 0.36995046213269234 Val DiceLoss 0.38185617327690125 Train dice_score 0.6300495490431786 Val dice_score 0.6181438167889913\n"
     ]
    },
    {
     "data": {
      "text/plain": [
       "  0%|          | 0/8 [00:00<?, ?it/s]"
      ],
      "application/vnd.jupyter.widget-view+json": {
       "version_major": 2,
       "version_minor": 0,
       "model_id": "46bab883efce48db8229060b5f2dbf4a"
      }
     },
     "metadata": {},
     "output_type": "display_data"
    },
    {
     "data": {
      "text/plain": [
       "  0%|          | 0/3 [00:00<?, ?it/s]"
      ],
      "application/vnd.jupyter.widget-view+json": {
       "version_major": 2,
       "version_minor": 0,
       "model_id": "54ade692463d4d5ba35a77d5479626d7"
      }
     },
     "metadata": {},
     "output_type": "display_data"
    },
    {
     "name": "stdout",
     "output_type": "stream",
     "text": [
      "\u001B[1m\u001B[92m Epoch 177 Train DiceLoss 0.3674161992967129 Val DiceLoss 0.3538175622622172 Train dice_score 0.6325838044285774 Val dice_score 0.6461824576059977\n"
     ]
    },
    {
     "data": {
      "text/plain": [
       "  0%|          | 0/8 [00:00<?, ?it/s]"
      ],
      "application/vnd.jupyter.widget-view+json": {
       "version_major": 2,
       "version_minor": 0,
       "model_id": "b7247507e0bd403994bfe1ab2a0ba03a"
      }
     },
     "metadata": {},
     "output_type": "display_data"
    },
    {
     "data": {
      "text/plain": [
       "  0%|          | 0/3 [00:00<?, ?it/s]"
      ],
      "application/vnd.jupyter.widget-view+json": {
       "version_major": 2,
       "version_minor": 0,
       "model_id": "325ae217af724bd18b8152253a2ed7c7"
      }
     },
     "metadata": {},
     "output_type": "display_data"
    },
    {
     "name": "stdout",
     "output_type": "stream",
     "text": [
      "\u001B[1m\u001B[92m Epoch 178 Train DiceLoss 0.35999202355742455 Val DiceLoss 0.3511849343776703 Train dice_score 0.6400079876184464 Val dice_score 0.6488150755564371\n"
     ]
    },
    {
     "data": {
      "text/plain": [
       "  0%|          | 0/8 [00:00<?, ?it/s]"
      ],
      "application/vnd.jupyter.widget-view+json": {
       "version_major": 2,
       "version_minor": 0,
       "model_id": "bfd53685e8fc424791a0b540b41c9a09"
      }
     },
     "metadata": {},
     "output_type": "display_data"
    },
    {
     "data": {
      "text/plain": [
       "  0%|          | 0/3 [00:00<?, ?it/s]"
      ],
      "application/vnd.jupyter.widget-view+json": {
       "version_major": 2,
       "version_minor": 0,
       "model_id": "e01ab1a20f32479eba7bd777eb562bc3"
      }
     },
     "metadata": {},
     "output_type": "display_data"
    },
    {
     "name": "stdout",
     "output_type": "stream",
     "text": [
      "\u001B[1m\u001B[92m Epoch 179 Train DiceLoss 0.3607800714671612 Val DiceLoss 0.3506175676981608 Train dice_score 0.6392199248075485 Val dice_score 0.6493824521700541\n"
     ]
    },
    {
     "data": {
      "text/plain": [
       "  0%|          | 0/8 [00:00<?, ?it/s]"
      ],
      "application/vnd.jupyter.widget-view+json": {
       "version_major": 2,
       "version_minor": 0,
       "model_id": "021685fa3c884be98030289bc15b891c"
      }
     },
     "metadata": {},
     "output_type": "display_data"
    },
    {
     "data": {
      "text/plain": [
       "  0%|          | 0/3 [00:00<?, ?it/s]"
      ],
      "application/vnd.jupyter.widget-view+json": {
       "version_major": 2,
       "version_minor": 0,
       "model_id": "11d9e95a4e044eed80a33392a643358e"
      }
     },
     "metadata": {},
     "output_type": "display_data"
    },
    {
     "name": "stdout",
     "output_type": "stream",
     "text": [
      "\u001B[1m\u001B[92m Epoch 180 Train DiceLoss 0.37454085052013397 Val DiceLoss 0.3589310844739278 Train dice_score 0.6254591569304466 Val dice_score 0.6410689353942871\n"
     ]
    },
    {
     "data": {
      "text/plain": [
       "  0%|          | 0/8 [00:00<?, ?it/s]"
      ],
      "application/vnd.jupyter.widget-view+json": {
       "version_major": 2,
       "version_minor": 0,
       "model_id": "7b2467113cac4cf2bd569b216bc49f6f"
      }
     },
     "metadata": {},
     "output_type": "display_data"
    },
    {
     "data": {
      "text/plain": [
       "  0%|          | 0/3 [00:00<?, ?it/s]"
      ],
      "application/vnd.jupyter.widget-view+json": {
       "version_major": 2,
       "version_minor": 0,
       "model_id": "5feaaf9307874f3a9187bf0a54572003"
      }
     },
     "metadata": {},
     "output_type": "display_data"
    },
    {
     "name": "stdout",
     "output_type": "stream",
     "text": [
      "MODEL SAVED\n",
      "\u001B[1m\u001B[92m Epoch 181 Train DiceLoss 0.3594914898276329 Val DiceLoss 0.34675585230191547 Train dice_score 0.6405085176229477 Val dice_score 0.653244137763977\n"
     ]
    },
    {
     "data": {
      "text/plain": [
       "  0%|          | 0/8 [00:00<?, ?it/s]"
      ],
      "application/vnd.jupyter.widget-view+json": {
       "version_major": 2,
       "version_minor": 0,
       "model_id": "5e0828674eb740e2a57e08bdf472ef00"
      }
     },
     "metadata": {},
     "output_type": "display_data"
    },
    {
     "data": {
      "text/plain": [
       "  0%|          | 0/3 [00:00<?, ?it/s]"
      ],
      "application/vnd.jupyter.widget-view+json": {
       "version_major": 2,
       "version_minor": 0,
       "model_id": "208668ebc50e4ababb7b52aecb3c99a8"
      }
     },
     "metadata": {},
     "output_type": "display_data"
    },
    {
     "name": "stdout",
     "output_type": "stream",
     "text": [
      "\u001B[1m\u001B[92m Epoch 182 Train DiceLoss 0.3690606653690338 Val DiceLoss 0.3504016697406769 Train dice_score 0.6309393420815468 Val dice_score 0.6495983203252157\n"
     ]
    },
    {
     "data": {
      "text/plain": [
       "  0%|          | 0/8 [00:00<?, ?it/s]"
      ],
      "application/vnd.jupyter.widget-view+json": {
       "version_major": 2,
       "version_minor": 0,
       "model_id": "db904b99ebe8402c86aaaab11880f0f1"
      }
     },
     "metadata": {},
     "output_type": "display_data"
    },
    {
     "data": {
      "text/plain": [
       "  0%|          | 0/3 [00:00<?, ?it/s]"
      ],
      "application/vnd.jupyter.widget-view+json": {
       "version_major": 2,
       "version_minor": 0,
       "model_id": "85bc233a71464bc389bbcd117e205898"
      }
     },
     "metadata": {},
     "output_type": "display_data"
    },
    {
     "name": "stdout",
     "output_type": "stream",
     "text": [
      "\u001B[1m\u001B[92m Epoch 183 Train DiceLoss 0.3609137497842312 Val DiceLoss 0.3502110441525777 Train dice_score 0.6390862613916397 Val dice_score 0.6497889757156372\n"
     ]
    },
    {
     "data": {
      "text/plain": [
       "  0%|          | 0/8 [00:00<?, ?it/s]"
      ],
      "application/vnd.jupyter.widget-view+json": {
       "version_major": 2,
       "version_minor": 0,
       "model_id": "5d886a03ef5f4f199dc1742e2cd4e5ac"
      }
     },
     "metadata": {},
     "output_type": "display_data"
    },
    {
     "data": {
      "text/plain": [
       "  0%|          | 0/3 [00:00<?, ?it/s]"
      ],
      "application/vnd.jupyter.widget-view+json": {
       "version_major": 2,
       "version_minor": 0,
       "model_id": "3cd53264e3c9447fb733eb056f7f4390"
      }
     },
     "metadata": {},
     "output_type": "display_data"
    },
    {
     "name": "stdout",
     "output_type": "stream",
     "text": [
      "\u001B[1m\u001B[92m Epoch 184 Train DiceLoss 0.36195382475852966 Val DiceLoss 0.3613673647244771 Train dice_score 0.6380461677908897 Val dice_score 0.6386326352755228\n"
     ]
    },
    {
     "data": {
      "text/plain": [
       "  0%|          | 0/8 [00:00<?, ?it/s]"
      ],
      "application/vnd.jupyter.widget-view+json": {
       "version_major": 2,
       "version_minor": 0,
       "model_id": "af80103805704b4193cb5612a86626e9"
      }
     },
     "metadata": {},
     "output_type": "display_data"
    },
    {
     "data": {
      "text/plain": [
       "  0%|          | 0/3 [00:00<?, ?it/s]"
      ],
      "application/vnd.jupyter.widget-view+json": {
       "version_major": 2,
       "version_minor": 0,
       "model_id": "1df3dacc3e2246c5b7516ce089b70813"
      }
     },
     "metadata": {},
     "output_type": "display_data"
    },
    {
     "name": "stdout",
     "output_type": "stream",
     "text": [
      "\u001B[1m\u001B[92m Epoch 185 Train DiceLoss 0.3586111254990101 Val DiceLoss 0.35111547509829205 Train dice_score 0.6413888707756996 Val dice_score 0.6488845348358154\n"
     ]
    },
    {
     "data": {
      "text/plain": [
       "  0%|          | 0/8 [00:00<?, ?it/s]"
      ],
      "application/vnd.jupyter.widget-view+json": {
       "version_major": 2,
       "version_minor": 0,
       "model_id": "9959fe1c6adc4914bf749470f3e00347"
      }
     },
     "metadata": {},
     "output_type": "display_data"
    },
    {
     "data": {
      "text/plain": [
       "  0%|          | 0/3 [00:00<?, ?it/s]"
      ],
      "application/vnd.jupyter.widget-view+json": {
       "version_major": 2,
       "version_minor": 0,
       "model_id": "22273086483a4be49cb4418458dfa0a9"
      }
     },
     "metadata": {},
     "output_type": "display_data"
    },
    {
     "name": "stdout",
     "output_type": "stream",
     "text": [
      "\u001B[1m\u001B[92m Epoch 186 Train DiceLoss 0.3603186868131161 Val DiceLoss 0.3494808276494344 Train dice_score 0.6396813169121742 Val dice_score 0.6505191922187805\n"
     ]
    },
    {
     "data": {
      "text/plain": [
       "  0%|          | 0/8 [00:00<?, ?it/s]"
      ],
      "application/vnd.jupyter.widget-view+json": {
       "version_major": 2,
       "version_minor": 0,
       "model_id": "61d8bcc8543b4decaf5da765eebb454b"
      }
     },
     "metadata": {},
     "output_type": "display_data"
    },
    {
     "data": {
      "text/plain": [
       "  0%|          | 0/3 [00:00<?, ?it/s]"
      ],
      "application/vnd.jupyter.widget-view+json": {
       "version_major": 2,
       "version_minor": 0,
       "model_id": "48e0d52166164947bbdf5bfe04d44f6a"
      }
     },
     "metadata": {},
     "output_type": "display_data"
    },
    {
     "name": "stdout",
     "output_type": "stream",
     "text": [
      "\u001B[1m\u001B[92m Epoch 187 Train DiceLoss 0.35764000192284584 Val DiceLoss 0.35988571246465045 Train dice_score 0.6423599943518639 Val dice_score 0.6401142875353495\n"
     ]
    },
    {
     "data": {
      "text/plain": [
       "  0%|          | 0/8 [00:00<?, ?it/s]"
      ],
      "application/vnd.jupyter.widget-view+json": {
       "version_major": 2,
       "version_minor": 0,
       "model_id": "1fd8eb1c2b374c348c28cbd29b6cd8b8"
      }
     },
     "metadata": {},
     "output_type": "display_data"
    },
    {
     "data": {
      "text/plain": [
       "  0%|          | 0/3 [00:00<?, ?it/s]"
      ],
      "application/vnd.jupyter.widget-view+json": {
       "version_major": 2,
       "version_minor": 0,
       "model_id": "b3c9a4d094644c6ea66c8baa53824378"
      }
     },
     "metadata": {},
     "output_type": "display_data"
    },
    {
     "name": "stdout",
     "output_type": "stream",
     "text": [
      "\u001B[1m\u001B[92m Epoch 188 Train DiceLoss 0.37358273938298225 Val DiceLoss 0.3556867341200511 Train dice_score 0.6264172568917274 Val dice_score 0.6443132758140564\n"
     ]
    },
    {
     "data": {
      "text/plain": [
       "  0%|          | 0/8 [00:00<?, ?it/s]"
      ],
      "application/vnd.jupyter.widget-view+json": {
       "version_major": 2,
       "version_minor": 0,
       "model_id": "7381d23a1a0d4aaf9bf1d5bb69ee93f4"
      }
     },
     "metadata": {},
     "output_type": "display_data"
    },
    {
     "data": {
      "text/plain": [
       "  0%|          | 0/3 [00:00<?, ?it/s]"
      ],
      "application/vnd.jupyter.widget-view+json": {
       "version_major": 2,
       "version_minor": 0,
       "model_id": "ee843fdf3c474fbdbbdd26e9fbda0338"
      }
     },
     "metadata": {},
     "output_type": "display_data"
    },
    {
     "name": "stdout",
     "output_type": "stream",
     "text": [
      "\u001B[1m\u001B[92m Epoch 189 Train DiceLoss 0.3592158369719982 Val DiceLoss 0.3608554005622864 Train dice_score 0.6407841742038727 Val dice_score 0.6391445795694987\n"
     ]
    },
    {
     "data": {
      "text/plain": [
       "  0%|          | 0/8 [00:00<?, ?it/s]"
      ],
      "application/vnd.jupyter.widget-view+json": {
       "version_major": 2,
       "version_minor": 0,
       "model_id": "b77fe262195149bf8aca95bf971f86ca"
      }
     },
     "metadata": {},
     "output_type": "display_data"
    },
    {
     "data": {
      "text/plain": [
       "  0%|          | 0/3 [00:00<?, ?it/s]"
      ],
      "application/vnd.jupyter.widget-view+json": {
       "version_major": 2,
       "version_minor": 0,
       "model_id": "75f31253d4984a14b0825d0b1f054da5"
      }
     },
     "metadata": {},
     "output_type": "display_data"
    },
    {
     "name": "stdout",
     "output_type": "stream",
     "text": [
      "\u001B[1m\u001B[92m Epoch 190 Train DiceLoss 0.36306631192564964 Val DiceLoss 0.3482353587945302 Train dice_score 0.6369336917996407 Val dice_score 0.6517646312713623\n"
     ]
    },
    {
     "data": {
      "text/plain": [
       "  0%|          | 0/8 [00:00<?, ?it/s]"
      ],
      "application/vnd.jupyter.widget-view+json": {
       "version_major": 2,
       "version_minor": 0,
       "model_id": "d13811d454844929b2b1b7647a922809"
      }
     },
     "metadata": {},
     "output_type": "display_data"
    },
    {
     "data": {
      "text/plain": [
       "  0%|          | 0/3 [00:00<?, ?it/s]"
      ],
      "application/vnd.jupyter.widget-view+json": {
       "version_major": 2,
       "version_minor": 0,
       "model_id": "a625f2afd5d1429f9b2d6cf8ebc11cb9"
      }
     },
     "metadata": {},
     "output_type": "display_data"
    },
    {
     "name": "stdout",
     "output_type": "stream",
     "text": [
      "MODEL SAVED\n",
      "\u001B[1m\u001B[92m Epoch 191 Train DiceLoss 0.3576338291168213 Val DiceLoss 0.33220550417900085 Train dice_score 0.6423661783337593 Val dice_score 0.6677945057551066\n"
     ]
    },
    {
     "data": {
      "text/plain": [
       "  0%|          | 0/8 [00:00<?, ?it/s]"
      ],
      "application/vnd.jupyter.widget-view+json": {
       "version_major": 2,
       "version_minor": 0,
       "model_id": "f2ee3b94db6f4a0199ac0c66b0b416a5"
      }
     },
     "metadata": {},
     "output_type": "display_data"
    },
    {
     "data": {
      "text/plain": [
       "  0%|          | 0/3 [00:00<?, ?it/s]"
      ],
      "application/vnd.jupyter.widget-view+json": {
       "version_major": 2,
       "version_minor": 0,
       "model_id": "5a068c73cb734f25ac9e5a45675445ce"
      }
     },
     "metadata": {},
     "output_type": "display_data"
    },
    {
     "name": "stdout",
     "output_type": "stream",
     "text": [
      "\u001B[1m\u001B[92m Epoch 192 Train DiceLoss 0.34973645955324173 Val DiceLoss 0.33332101504007977 Train dice_score 0.6502635553479195 Val dice_score 0.6666789849599203\n"
     ]
    },
    {
     "data": {
      "text/plain": [
       "  0%|          | 0/8 [00:00<?, ?it/s]"
      ],
      "application/vnd.jupyter.widget-view+json": {
       "version_major": 2,
       "version_minor": 0,
       "model_id": "eb26694658b349d98fff9ae1c661bb65"
      }
     },
     "metadata": {},
     "output_type": "display_data"
    },
    {
     "data": {
      "text/plain": [
       "  0%|          | 0/3 [00:00<?, ?it/s]"
      ],
      "application/vnd.jupyter.widget-view+json": {
       "version_major": 2,
       "version_minor": 0,
       "model_id": "adeb0e7f835a4da6abed17d71d7caedc"
      }
     },
     "metadata": {},
     "output_type": "display_data"
    },
    {
     "name": "stdout",
     "output_type": "stream",
     "text": [
      "\u001B[1m\u001B[92m Epoch 193 Train DiceLoss 0.3514043241739273 Val DiceLoss 0.33566301067670185 Train dice_score 0.6485956758260727 Val dice_score 0.6643369992574056\n"
     ]
    },
    {
     "data": {
      "text/plain": [
       "  0%|          | 0/8 [00:00<?, ?it/s]"
      ],
      "application/vnd.jupyter.widget-view+json": {
       "version_major": 2,
       "version_minor": 0,
       "model_id": "575456d1243a4bd89737d50411d8f4ce"
      }
     },
     "metadata": {},
     "output_type": "display_data"
    },
    {
     "data": {
      "text/plain": [
       "  0%|          | 0/3 [00:00<?, ?it/s]"
      ],
      "application/vnd.jupyter.widget-view+json": {
       "version_major": 2,
       "version_minor": 0,
       "model_id": "998e490f04904859a198fa617259cb82"
      }
     },
     "metadata": {},
     "output_type": "display_data"
    },
    {
     "name": "stdout",
     "output_type": "stream",
     "text": [
      "\u001B[1m\u001B[92m Epoch 194 Train DiceLoss 0.3520228639245033 Val DiceLoss 0.33756359418233234 Train dice_score 0.6479771435260773 Val dice_score 0.6624364058176676\n"
     ]
    },
    {
     "data": {
      "text/plain": [
       "  0%|          | 0/8 [00:00<?, ?it/s]"
      ],
      "application/vnd.jupyter.widget-view+json": {
       "version_major": 2,
       "version_minor": 0,
       "model_id": "abdacbad1002494bb5176ba357cec150"
      }
     },
     "metadata": {},
     "output_type": "display_data"
    },
    {
     "data": {
      "text/plain": [
       "  0%|          | 0/3 [00:00<?, ?it/s]"
      ],
      "application/vnd.jupyter.widget-view+json": {
       "version_major": 2,
       "version_minor": 0,
       "model_id": "77780d91c5344d63939071108e91d55b"
      }
     },
     "metadata": {},
     "output_type": "display_data"
    },
    {
     "name": "stdout",
     "output_type": "stream",
     "text": [
      "\u001B[1m\u001B[92m Epoch 195 Train DiceLoss 0.34053056687116623 Val DiceLoss 0.3366100788116455 Train dice_score 0.6594694405794144 Val dice_score 0.6633899410565695\n"
     ]
    },
    {
     "data": {
      "text/plain": [
       "  0%|          | 0/8 [00:00<?, ?it/s]"
      ],
      "application/vnd.jupyter.widget-view+json": {
       "version_major": 2,
       "version_minor": 0,
       "model_id": "b2c0c76c2e82423d8e007f9797523d42"
      }
     },
     "metadata": {},
     "output_type": "display_data"
    },
    {
     "data": {
      "text/plain": [
       "  0%|          | 0/3 [00:00<?, ?it/s]"
      ],
      "application/vnd.jupyter.widget-view+json": {
       "version_major": 2,
       "version_minor": 0,
       "model_id": "5b2052f02bf14edcb1e72d3af1330b8e"
      }
     },
     "metadata": {},
     "output_type": "display_data"
    },
    {
     "name": "stdout",
     "output_type": "stream",
     "text": [
      "MODEL SAVED\n",
      "\u001B[1m\u001B[92m Epoch 196 Train DiceLoss 0.34521495923399925 Val DiceLoss 0.32493218779563904 Train dice_score 0.654785044491291 Val dice_score 0.6750678221384684\n"
     ]
    },
    {
     "data": {
      "text/plain": [
       "  0%|          | 0/8 [00:00<?, ?it/s]"
      ],
      "application/vnd.jupyter.widget-view+json": {
       "version_major": 2,
       "version_minor": 0,
       "model_id": "c6955977d4b54819bfb0036e49bf8725"
      }
     },
     "metadata": {},
     "output_type": "display_data"
    },
    {
     "data": {
      "text/plain": [
       "  0%|          | 0/3 [00:00<?, ?it/s]"
      ],
      "application/vnd.jupyter.widget-view+json": {
       "version_major": 2,
       "version_minor": 0,
       "model_id": "e04600a4b7ad4628ae43fbe318237570"
      }
     },
     "metadata": {},
     "output_type": "display_data"
    },
    {
     "name": "stdout",
     "output_type": "stream",
     "text": [
      "\u001B[1m\u001B[92m Epoch 197 Train DiceLoss 0.34167978540062904 Val DiceLoss 0.3331426680088043 Train dice_score 0.6583202257752419 Val dice_score 0.6668573419253031\n"
     ]
    },
    {
     "data": {
      "text/plain": [
       "  0%|          | 0/8 [00:00<?, ?it/s]"
      ],
      "application/vnd.jupyter.widget-view+json": {
       "version_major": 2,
       "version_minor": 0,
       "model_id": "856326218e96403396ffc06d0c1c8dab"
      }
     },
     "metadata": {},
     "output_type": "display_data"
    },
    {
     "data": {
      "text/plain": [
       "  0%|          | 0/3 [00:00<?, ?it/s]"
      ],
      "application/vnd.jupyter.widget-view+json": {
       "version_major": 2,
       "version_minor": 0,
       "model_id": "06c60dc610d34645a0d3bda2393eb696"
      }
     },
     "metadata": {},
     "output_type": "display_data"
    },
    {
     "name": "stdout",
     "output_type": "stream",
     "text": [
      "\u001B[1m\u001B[92m Epoch 198 Train DiceLoss 0.33856746926903725 Val DiceLoss 0.32901795705159503 Train dice_score 0.6614325270056725 Val dice_score 0.6709820628166199\n"
     ]
    },
    {
     "data": {
      "text/plain": [
       "  0%|          | 0/8 [00:00<?, ?it/s]"
      ],
      "application/vnd.jupyter.widget-view+json": {
       "version_major": 2,
       "version_minor": 0,
       "model_id": "4a7ce95dbfc448bcb36da347ca5268ca"
      }
     },
     "metadata": {},
     "output_type": "display_data"
    },
    {
     "data": {
      "text/plain": [
       "  0%|          | 0/3 [00:00<?, ?it/s]"
      ],
      "application/vnd.jupyter.widget-view+json": {
       "version_major": 2,
       "version_minor": 0,
       "model_id": "9190217e6c70455d926211c9d84836e9"
      }
     },
     "metadata": {},
     "output_type": "display_data"
    },
    {
     "name": "stdout",
     "output_type": "stream",
     "text": [
      "\u001B[1m\u001B[92m Epoch 199 Train DiceLoss 0.34549154341220856 Val DiceLoss 0.3374234934647878 Train dice_score 0.654508464038372 Val dice_score 0.6625765164693197\n"
     ]
    },
    {
     "data": {
      "text/plain": [
       "  0%|          | 0/8 [00:00<?, ?it/s]"
      ],
      "application/vnd.jupyter.widget-view+json": {
       "version_major": 2,
       "version_minor": 0,
       "model_id": "cbe5c5f2960442f1a32ec47e4a497122"
      }
     },
     "metadata": {},
     "output_type": "display_data"
    },
    {
     "data": {
      "text/plain": [
       "  0%|          | 0/3 [00:00<?, ?it/s]"
      ],
      "application/vnd.jupyter.widget-view+json": {
       "version_major": 2,
       "version_minor": 0,
       "model_id": "74cfa33a597645fc9c61806fedb9cf40"
      }
     },
     "metadata": {},
     "output_type": "display_data"
    },
    {
     "name": "stdout",
     "output_type": "stream",
     "text": [
      "\u001B[1m\u001B[92m Epoch 200 Train DiceLoss 0.3455280475318432 Val DiceLoss 0.33741355935732525 Train dice_score 0.6544719561934471 Val dice_score 0.6625864307085673\n"
     ]
    },
    {
     "data": {
      "text/plain": [
       "  0%|          | 0/8 [00:00<?, ?it/s]"
      ],
      "application/vnd.jupyter.widget-view+json": {
       "version_major": 2,
       "version_minor": 0,
       "model_id": "a4a4b4f4fdac450197ae970f8ee83df6"
      }
     },
     "metadata": {},
     "output_type": "display_data"
    },
    {
     "data": {
      "text/plain": [
       "  0%|          | 0/3 [00:00<?, ?it/s]"
      ],
      "application/vnd.jupyter.widget-view+json": {
       "version_major": 2,
       "version_minor": 0,
       "model_id": "7b08d6577c64469f8164f757b1a26fa9"
      }
     },
     "metadata": {},
     "output_type": "display_data"
    },
    {
     "name": "stdout",
     "output_type": "stream",
     "text": [
      "\u001B[1m\u001B[92m Epoch 201 Train DiceLoss 0.33872169256210327 Val DiceLoss 0.3288528323173523 Train dice_score 0.6612782999873161 Val dice_score 0.6711471676826477\n"
     ]
    },
    {
     "data": {
      "text/plain": [
       "  0%|          | 0/8 [00:00<?, ?it/s]"
      ],
      "application/vnd.jupyter.widget-view+json": {
       "version_major": 2,
       "version_minor": 0,
       "model_id": "a371a3c3b33e492fa2e9413e4d27309f"
      }
     },
     "metadata": {},
     "output_type": "display_data"
    },
    {
     "data": {
      "text/plain": [
       "  0%|          | 0/3 [00:00<?, ?it/s]"
      ],
      "application/vnd.jupyter.widget-view+json": {
       "version_major": 2,
       "version_minor": 0,
       "model_id": "9cc3b4d83cb043b79b714ac34490bcb4"
      }
     },
     "metadata": {},
     "output_type": "display_data"
    },
    {
     "name": "stdout",
     "output_type": "stream",
     "text": [
      "\u001B[1m\u001B[92m Epoch 202 Train DiceLoss 0.335563812404871 Val DiceLoss 0.3291693429152171 Train dice_score 0.6644361913204193 Val dice_score 0.6708306670188904\n"
     ]
    },
    {
     "data": {
      "text/plain": [
       "  0%|          | 0/8 [00:00<?, ?it/s]"
      ],
      "application/vnd.jupyter.widget-view+json": {
       "version_major": 2,
       "version_minor": 0,
       "model_id": "5ffb0f2363dc4cb0be83b0d2ef7d5bc5"
      }
     },
     "metadata": {},
     "output_type": "display_data"
    },
    {
     "data": {
      "text/plain": [
       "  0%|          | 0/3 [00:00<?, ?it/s]"
      ],
      "application/vnd.jupyter.widget-view+json": {
       "version_major": 2,
       "version_minor": 0,
       "model_id": "68275c2586ca410ba48938cb286afcac"
      }
     },
     "metadata": {},
     "output_type": "display_data"
    },
    {
     "name": "stdout",
     "output_type": "stream",
     "text": [
      "\u001B[1m\u001B[92m Epoch 203 Train DiceLoss 0.33534540235996246 Val DiceLoss 0.3282232383886973 Train dice_score 0.6646545976400375 Val dice_score 0.6717767715454102\n"
     ]
    },
    {
     "data": {
      "text/plain": [
       "  0%|          | 0/8 [00:00<?, ?it/s]"
      ],
      "application/vnd.jupyter.widget-view+json": {
       "version_major": 2,
       "version_minor": 0,
       "model_id": "73a6ecb0857f476a841035cb39040214"
      }
     },
     "metadata": {},
     "output_type": "display_data"
    },
    {
     "data": {
      "text/plain": [
       "  0%|          | 0/3 [00:00<?, ?it/s]"
      ],
      "application/vnd.jupyter.widget-view+json": {
       "version_major": 2,
       "version_minor": 0,
       "model_id": "dce83b952e3741d98bc8d552a74e7353"
      }
     },
     "metadata": {},
     "output_type": "display_data"
    },
    {
     "name": "stdout",
     "output_type": "stream",
     "text": [
      "\u001B[1m\u001B[92m Epoch 204 Train DiceLoss 0.34625669196248055 Val DiceLoss 0.33778072396914166 Train dice_score 0.6537433117628098 Val dice_score 0.6622192859649658\n"
     ]
    },
    {
     "data": {
      "text/plain": [
       "  0%|          | 0/8 [00:00<?, ?it/s]"
      ],
      "application/vnd.jupyter.widget-view+json": {
       "version_major": 2,
       "version_minor": 0,
       "model_id": "13db237b155246d7a5725f2819461a49"
      }
     },
     "metadata": {},
     "output_type": "display_data"
    },
    {
     "data": {
      "text/plain": [
       "  0%|          | 0/3 [00:00<?, ?it/s]"
      ],
      "application/vnd.jupyter.widget-view+json": {
       "version_major": 2,
       "version_minor": 0,
       "model_id": "66c599f830eb4acbb9a52de5adf21c03"
      }
     },
     "metadata": {},
     "output_type": "display_data"
    },
    {
     "name": "stdout",
     "output_type": "stream",
     "text": [
      "MODEL SAVED\n",
      "\u001B[1m\u001B[92m Epoch 205 Train DiceLoss 0.3462837040424347 Val DiceLoss 0.32338184118270874 Train dice_score 0.6537163034081459 Val dice_score 0.6766181588172913\n"
     ]
    },
    {
     "data": {
      "text/plain": [
       "  0%|          | 0/8 [00:00<?, ?it/s]"
      ],
      "application/vnd.jupyter.widget-view+json": {
       "version_major": 2,
       "version_minor": 0,
       "model_id": "bb4e5e9e87004fb3816ee82b905011e0"
      }
     },
     "metadata": {},
     "output_type": "display_data"
    },
    {
     "data": {
      "text/plain": [
       "  0%|          | 0/3 [00:00<?, ?it/s]"
      ],
      "application/vnd.jupyter.widget-view+json": {
       "version_major": 2,
       "version_minor": 0,
       "model_id": "25aba0c3d9484a8997288e1e5d180bb6"
      }
     },
     "metadata": {},
     "output_type": "display_data"
    },
    {
     "name": "stdout",
     "output_type": "stream",
     "text": [
      "MODEL SAVED\n",
      "\u001B[1m\u001B[92m Epoch 206 Train DiceLoss 0.33925191685557365 Val DiceLoss 0.3228871822357178 Train dice_score 0.6607480868697166 Val dice_score 0.6771128376324972\n"
     ]
    },
    {
     "data": {
      "text/plain": [
       "  0%|          | 0/8 [00:00<?, ?it/s]"
      ],
      "application/vnd.jupyter.widget-view+json": {
       "version_major": 2,
       "version_minor": 0,
       "model_id": "84dc2f8669314a9790c9a191adbcf4b2"
      }
     },
     "metadata": {},
     "output_type": "display_data"
    },
    {
     "data": {
      "text/plain": [
       "  0%|          | 0/3 [00:00<?, ?it/s]"
      ],
      "application/vnd.jupyter.widget-view+json": {
       "version_major": 2,
       "version_minor": 0,
       "model_id": "fc6d34b50fe343c3a0d89f7a2fe95b53"
      }
     },
     "metadata": {},
     "output_type": "display_data"
    },
    {
     "name": "stdout",
     "output_type": "stream",
     "text": [
      "\u001B[1m\u001B[92m Epoch 207 Train DiceLoss 0.3379152826964855 Val DiceLoss 0.33007194598515827 Train dice_score 0.662084735929966 Val dice_score 0.6699280540148417\n"
     ]
    },
    {
     "data": {
      "text/plain": [
       "  0%|          | 0/8 [00:00<?, ?it/s]"
      ],
      "application/vnd.jupyter.widget-view+json": {
       "version_major": 2,
       "version_minor": 0,
       "model_id": "7da9db3df2ec4278b27026650d9a9b57"
      }
     },
     "metadata": {},
     "output_type": "display_data"
    },
    {
     "data": {
      "text/plain": [
       "  0%|          | 0/3 [00:00<?, ?it/s]"
      ],
      "application/vnd.jupyter.widget-view+json": {
       "version_major": 2,
       "version_minor": 0,
       "model_id": "f798e5cfc453441b96bf8b03abfa259b"
      }
     },
     "metadata": {},
     "output_type": "display_data"
    },
    {
     "name": "stdout",
     "output_type": "stream",
     "text": [
      "\u001B[1m\u001B[92m Epoch 208 Train DiceLoss 0.3357853591442108 Val DiceLoss 0.32804975907007855 Train dice_score 0.6642146557569504 Val dice_score 0.6719502409299215\n"
     ]
    },
    {
     "data": {
      "text/plain": [
       "  0%|          | 0/8 [00:00<?, ?it/s]"
      ],
      "application/vnd.jupyter.widget-view+json": {
       "version_major": 2,
       "version_minor": 0,
       "model_id": "7b24ee7caf7544799f92ab0341bdd9d0"
      }
     },
     "metadata": {},
     "output_type": "display_data"
    },
    {
     "data": {
      "text/plain": [
       "  0%|          | 0/3 [00:00<?, ?it/s]"
      ],
      "application/vnd.jupyter.widget-view+json": {
       "version_major": 2,
       "version_minor": 0,
       "model_id": "30e0350830ac4fefbd487aaaeee88546"
      }
     },
     "metadata": {},
     "output_type": "display_data"
    },
    {
     "name": "stdout",
     "output_type": "stream",
     "text": [
      "\u001B[1m\u001B[92m Epoch 209 Train DiceLoss 0.33222517371177673 Val DiceLoss 0.33831823865572613 Train dice_score 0.6677748337388039 Val dice_score 0.6616817712783813\n"
     ]
    },
    {
     "data": {
      "text/plain": [
       "  0%|          | 0/8 [00:00<?, ?it/s]"
      ],
      "application/vnd.jupyter.widget-view+json": {
       "version_major": 2,
       "version_minor": 0,
       "model_id": "3b3a61b05026427fbac044600233aec6"
      }
     },
     "metadata": {},
     "output_type": "display_data"
    },
    {
     "data": {
      "text/plain": [
       "  0%|          | 0/3 [00:00<?, ?it/s]"
      ],
      "application/vnd.jupyter.widget-view+json": {
       "version_major": 2,
       "version_minor": 0,
       "model_id": "c25a86948d5441598602be51bdd3bb8f"
      }
     },
     "metadata": {},
     "output_type": "display_data"
    },
    {
     "name": "stdout",
     "output_type": "stream",
     "text": [
      "\u001B[1m\u001B[92m Epoch 210 Train DiceLoss 0.33617812767624855 Val DiceLoss 0.3243399163087209 Train dice_score 0.6638218760490417 Val dice_score 0.6756600936253866\n"
     ]
    },
    {
     "data": {
      "text/plain": [
       "  0%|          | 0/8 [00:00<?, ?it/s]"
      ],
      "application/vnd.jupyter.widget-view+json": {
       "version_major": 2,
       "version_minor": 0,
       "model_id": "d3d85b4a2a9b43f6b330bee619f08c43"
      }
     },
     "metadata": {},
     "output_type": "display_data"
    },
    {
     "data": {
      "text/plain": [
       "  0%|          | 0/3 [00:00<?, ?it/s]"
      ],
      "application/vnd.jupyter.widget-view+json": {
       "version_major": 2,
       "version_minor": 0,
       "model_id": "14cc86ea29494defbee38d79bf4e2dc8"
      }
     },
     "metadata": {},
     "output_type": "display_data"
    },
    {
     "name": "stdout",
     "output_type": "stream",
     "text": [
      "\u001B[1m\u001B[92m Epoch 211 Train DiceLoss 0.3308199606835842 Val DiceLoss 0.3278865913550059 Train dice_score 0.6691800355911255 Val dice_score 0.6721133987108866\n"
     ]
    },
    {
     "data": {
      "text/plain": [
       "  0%|          | 0/8 [00:00<?, ?it/s]"
      ],
      "application/vnd.jupyter.widget-view+json": {
       "version_major": 2,
       "version_minor": 0,
       "model_id": "40f03217cc7b4c2f90990f34a04dad42"
      }
     },
     "metadata": {},
     "output_type": "display_data"
    },
    {
     "data": {
      "text/plain": [
       "  0%|          | 0/3 [00:00<?, ?it/s]"
      ],
      "application/vnd.jupyter.widget-view+json": {
       "version_major": 2,
       "version_minor": 0,
       "model_id": "ffc0f72a52bf4c019c7ac731acc6e5d5"
      }
     },
     "metadata": {},
     "output_type": "display_data"
    },
    {
     "name": "stdout",
     "output_type": "stream",
     "text": [
      "\u001B[1m\u001B[92m Epoch 212 Train DiceLoss 0.3437266983091831 Val DiceLoss 0.3312811056772868 Train dice_score 0.6562733128666878 Val dice_score 0.6687188943227133\n"
     ]
    },
    {
     "data": {
      "text/plain": [
       "  0%|          | 0/8 [00:00<?, ?it/s]"
      ],
      "application/vnd.jupyter.widget-view+json": {
       "version_major": 2,
       "version_minor": 0,
       "model_id": "8a8f5fb52038459195703dba8691982b"
      }
     },
     "metadata": {},
     "output_type": "display_data"
    },
    {
     "data": {
      "text/plain": [
       "  0%|          | 0/3 [00:00<?, ?it/s]"
      ],
      "application/vnd.jupyter.widget-view+json": {
       "version_major": 2,
       "version_minor": 0,
       "model_id": "0688feef00a44d198848e0360ca827ba"
      }
     },
     "metadata": {},
     "output_type": "display_data"
    },
    {
     "name": "stdout",
     "output_type": "stream",
     "text": [
      "\u001B[1m\u001B[92m Epoch 213 Train DiceLoss 0.33455753698945045 Val DiceLoss 0.33114656805992126 Train dice_score 0.6654424592852592 Val dice_score 0.6688534220059713\n"
     ]
    },
    {
     "data": {
      "text/plain": [
       "  0%|          | 0/8 [00:00<?, ?it/s]"
      ],
      "application/vnd.jupyter.widget-view+json": {
       "version_major": 2,
       "version_minor": 0,
       "model_id": "bb9f35692e7648edaf58eb955c66cddf"
      }
     },
     "metadata": {},
     "output_type": "display_data"
    },
    {
     "data": {
      "text/plain": [
       "  0%|          | 0/3 [00:00<?, ?it/s]"
      ],
      "application/vnd.jupyter.widget-view+json": {
       "version_major": 2,
       "version_minor": 0,
       "model_id": "bdc3144ab73844f0b542218b20c51743"
      }
     },
     "metadata": {},
     "output_type": "display_data"
    },
    {
     "name": "stdout",
     "output_type": "stream",
     "text": [
      "\u001B[1m\u001B[92m Epoch 214 Train DiceLoss 0.3391542546451092 Val DiceLoss 0.3242023289203644 Train dice_score 0.6608457490801811 Val dice_score 0.675797681013743\n"
     ]
    },
    {
     "data": {
      "text/plain": [
       "  0%|          | 0/8 [00:00<?, ?it/s]"
      ],
      "application/vnd.jupyter.widget-view+json": {
       "version_major": 2,
       "version_minor": 0,
       "model_id": "90adab1e175b4a27b985248284c50682"
      }
     },
     "metadata": {},
     "output_type": "display_data"
    },
    {
     "data": {
      "text/plain": [
       "  0%|          | 0/3 [00:00<?, ?it/s]"
      ],
      "application/vnd.jupyter.widget-view+json": {
       "version_major": 2,
       "version_minor": 0,
       "model_id": "bcd89c8227e441b1a8fdaac4902914fb"
      }
     },
     "metadata": {},
     "output_type": "display_data"
    },
    {
     "name": "stdout",
     "output_type": "stream",
     "text": [
      "\u001B[1m\u001B[92m Epoch 215 Train DiceLoss 0.3326692394912243 Val DiceLoss 0.3234543204307556 Train dice_score 0.6673307567834854 Val dice_score 0.6765456994374593\n"
     ]
    },
    {
     "data": {
      "text/plain": [
       "  0%|          | 0/8 [00:00<?, ?it/s]"
      ],
      "application/vnd.jupyter.widget-view+json": {
       "version_major": 2,
       "version_minor": 0,
       "model_id": "e1ee51d456414a75b70f3286f3ee162b"
      }
     },
     "metadata": {},
     "output_type": "display_data"
    },
    {
     "data": {
      "text/plain": [
       "  0%|          | 0/3 [00:00<?, ?it/s]"
      ],
      "application/vnd.jupyter.widget-view+json": {
       "version_major": 2,
       "version_minor": 0,
       "model_id": "b014f7c65d7148d7bbc841d785e01b27"
      }
     },
     "metadata": {},
     "output_type": "display_data"
    },
    {
     "name": "stdout",
     "output_type": "stream",
     "text": [
      "\u001B[1m\u001B[92m Epoch 216 Train DiceLoss 0.34312643483281136 Val DiceLoss 0.325228879849116 Train dice_score 0.6568735688924789 Val dice_score 0.6747711102167765\n"
     ]
    },
    {
     "data": {
      "text/plain": [
       "  0%|          | 0/8 [00:00<?, ?it/s]"
      ],
      "application/vnd.jupyter.widget-view+json": {
       "version_major": 2,
       "version_minor": 0,
       "model_id": "89833b30f8c248988783e7f3d18fc129"
      }
     },
     "metadata": {},
     "output_type": "display_data"
    },
    {
     "data": {
      "text/plain": [
       "  0%|          | 0/3 [00:00<?, ?it/s]"
      ],
      "application/vnd.jupyter.widget-view+json": {
       "version_major": 2,
       "version_minor": 0,
       "model_id": "23b0ed09a00d497c8583c295079b4c44"
      }
     },
     "metadata": {},
     "output_type": "display_data"
    },
    {
     "name": "stdout",
     "output_type": "stream",
     "text": [
      "\u001B[1m\u001B[92m Epoch 217 Train DiceLoss 0.3363681882619858 Val DiceLoss 0.3259141743183136 Train dice_score 0.6636318117380142 Val dice_score 0.6740858356157938\n"
     ]
    },
    {
     "data": {
      "text/plain": [
       "  0%|          | 0/8 [00:00<?, ?it/s]"
      ],
      "application/vnd.jupyter.widget-view+json": {
       "version_major": 2,
       "version_minor": 0,
       "model_id": "187e286b13784de5a5bc54cb8e96a4e0"
      }
     },
     "metadata": {},
     "output_type": "display_data"
    },
    {
     "data": {
      "text/plain": [
       "  0%|          | 0/3 [00:00<?, ?it/s]"
      ],
      "application/vnd.jupyter.widget-view+json": {
       "version_major": 2,
       "version_minor": 0,
       "model_id": "414ba32ed45c479b92e3ae15158d779a"
      }
     },
     "metadata": {},
     "output_type": "display_data"
    },
    {
     "name": "stdout",
     "output_type": "stream",
     "text": [
      "MODEL SAVED\n",
      "\u001B[1m\u001B[92m Epoch 218 Train DiceLoss 0.3336046449840069 Val DiceLoss 0.3183740973472595 Train dice_score 0.666395366191864 Val dice_score 0.6816259026527405\n"
     ]
    },
    {
     "data": {
      "text/plain": [
       "  0%|          | 0/8 [00:00<?, ?it/s]"
      ],
      "application/vnd.jupyter.widget-view+json": {
       "version_major": 2,
       "version_minor": 0,
       "model_id": "74d40009d5d14f9e885ae6539fde009c"
      }
     },
     "metadata": {},
     "output_type": "display_data"
    },
    {
     "data": {
      "text/plain": [
       "  0%|          | 0/3 [00:00<?, ?it/s]"
      ],
      "application/vnd.jupyter.widget-view+json": {
       "version_major": 2,
       "version_minor": 0,
       "model_id": "f03fde352441436a94836879da8db146"
      }
     },
     "metadata": {},
     "output_type": "display_data"
    },
    {
     "name": "stdout",
     "output_type": "stream",
     "text": [
      "\u001B[1m\u001B[92m Epoch 219 Train DiceLoss 0.33361951261758804 Val DiceLoss 0.33022647102673847 Train dice_score 0.6663804724812508 Val dice_score 0.669773519039154\n"
     ]
    },
    {
     "data": {
      "text/plain": [
       "  0%|          | 0/8 [00:00<?, ?it/s]"
      ],
      "application/vnd.jupyter.widget-view+json": {
       "version_major": 2,
       "version_minor": 0,
       "model_id": "55f4d1792c1f481dbe7612ed5f41dec3"
      }
     },
     "metadata": {},
     "output_type": "display_data"
    },
    {
     "data": {
      "text/plain": [
       "  0%|          | 0/3 [00:00<?, ?it/s]"
      ],
      "application/vnd.jupyter.widget-view+json": {
       "version_major": 2,
       "version_minor": 0,
       "model_id": "8d6fa442df1545a593cb45a2baebef0e"
      }
     },
     "metadata": {},
     "output_type": "display_data"
    },
    {
     "name": "stdout",
     "output_type": "stream",
     "text": [
      "\u001B[1m\u001B[92m Epoch 220 Train DiceLoss 0.3362310864031315 Val DiceLoss 0.32089194655418396 Train dice_score 0.6637689024209976 Val dice_score 0.6791080236434937\n"
     ]
    },
    {
     "data": {
      "text/plain": [
       "  0%|          | 0/8 [00:00<?, ?it/s]"
      ],
      "application/vnd.jupyter.widget-view+json": {
       "version_major": 2,
       "version_minor": 0,
       "model_id": "fe20c41349dd452fb625e83b006ded9b"
      }
     },
     "metadata": {},
     "output_type": "display_data"
    },
    {
     "data": {
      "text/plain": [
       "  0%|          | 0/3 [00:00<?, ?it/s]"
      ],
      "application/vnd.jupyter.widget-view+json": {
       "version_major": 2,
       "version_minor": 0,
       "model_id": "4a4f56ef0dea4f9d84ed91aaabf304db"
      }
     },
     "metadata": {},
     "output_type": "display_data"
    },
    {
     "name": "stdout",
     "output_type": "stream",
     "text": [
      "\u001B[1m\u001B[92m Epoch 221 Train DiceLoss 0.33099792525172234 Val DiceLoss 0.3219946026802063 Train dice_score 0.669002078473568 Val dice_score 0.6780054171880087\n"
     ]
    },
    {
     "data": {
      "text/plain": [
       "  0%|          | 0/8 [00:00<?, ?it/s]"
      ],
      "application/vnd.jupyter.widget-view+json": {
       "version_major": 2,
       "version_minor": 0,
       "model_id": "7b5480be1e08487bb673839ffcef048f"
      }
     },
     "metadata": {},
     "output_type": "display_data"
    },
    {
     "data": {
      "text/plain": [
       "  0%|          | 0/3 [00:00<?, ?it/s]"
      ],
      "application/vnd.jupyter.widget-view+json": {
       "version_major": 2,
       "version_minor": 0,
       "model_id": "0e89fa506ded428ca0d108b70f1a50e3"
      }
     },
     "metadata": {},
     "output_type": "display_data"
    },
    {
     "name": "stdout",
     "output_type": "stream",
     "text": [
      "\u001B[1m\u001B[92m Epoch 222 Train DiceLoss 0.32876092568039894 Val DiceLoss 0.31993281841278076 Train dice_score 0.6712390705943108 Val dice_score 0.6800671815872192\n"
     ]
    },
    {
     "data": {
      "text/plain": [
       "  0%|          | 0/8 [00:00<?, ?it/s]"
      ],
      "application/vnd.jupyter.widget-view+json": {
       "version_major": 2,
       "version_minor": 0,
       "model_id": "db81ec21467c49a597f46f930784943f"
      }
     },
     "metadata": {},
     "output_type": "display_data"
    },
    {
     "data": {
      "text/plain": [
       "  0%|          | 0/3 [00:00<?, ?it/s]"
      ],
      "application/vnd.jupyter.widget-view+json": {
       "version_major": 2,
       "version_minor": 0,
       "model_id": "e01e8d376f7a4125b2f62fee2565f4e3"
      }
     },
     "metadata": {},
     "output_type": "display_data"
    },
    {
     "name": "stdout",
     "output_type": "stream",
     "text": [
      "\u001B[1m\u001B[92m Epoch 223 Train DiceLoss 0.3340102359652519 Val DiceLoss 0.3367347518603007 Train dice_score 0.6659897565841675 Val dice_score 0.6632652282714844\n"
     ]
    },
    {
     "data": {
      "text/plain": [
       "  0%|          | 0/8 [00:00<?, ?it/s]"
      ],
      "application/vnd.jupyter.widget-view+json": {
       "version_major": 2,
       "version_minor": 0,
       "model_id": "abde6a3925c64ca4b11bb35424d7b7d0"
      }
     },
     "metadata": {},
     "output_type": "display_data"
    },
    {
     "data": {
      "text/plain": [
       "  0%|          | 0/3 [00:00<?, ?it/s]"
      ],
      "application/vnd.jupyter.widget-view+json": {
       "version_major": 2,
       "version_minor": 0,
       "model_id": "c50162f924c94fe8b69021e20e04edb3"
      }
     },
     "metadata": {},
     "output_type": "display_data"
    },
    {
     "name": "stdout",
     "output_type": "stream",
     "text": [
      "\u001B[1m\u001B[92m Epoch 224 Train DiceLoss 0.33107325434684753 Val DiceLoss 0.3242747684319814 Train dice_score 0.6689267456531525 Val dice_score 0.6757252216339111\n"
     ]
    },
    {
     "data": {
      "text/plain": [
       "  0%|          | 0/8 [00:00<?, ?it/s]"
      ],
      "application/vnd.jupyter.widget-view+json": {
       "version_major": 2,
       "version_minor": 0,
       "model_id": "6429b8c4580e4f4dbb9dd8f693af13e9"
      }
     },
     "metadata": {},
     "output_type": "display_data"
    },
    {
     "data": {
      "text/plain": [
       "  0%|          | 0/3 [00:00<?, ?it/s]"
      ],
      "application/vnd.jupyter.widget-view+json": {
       "version_major": 2,
       "version_minor": 0,
       "model_id": "50a970720e67478695198e6370a1205c"
      }
     },
     "metadata": {},
     "output_type": "display_data"
    },
    {
     "name": "stdout",
     "output_type": "stream",
     "text": [
      "\u001B[1m\u001B[92m Epoch 225 Train DiceLoss 0.33552689850330353 Val DiceLoss 0.33718570073445636 Train dice_score 0.6644731163978577 Val dice_score 0.6628142992655436\n"
     ]
    },
    {
     "data": {
      "text/plain": [
       "  0%|          | 0/8 [00:00<?, ?it/s]"
      ],
      "application/vnd.jupyter.widget-view+json": {
       "version_major": 2,
       "version_minor": 0,
       "model_id": "c128899ed5554cc8942c43ea491030bc"
      }
     },
     "metadata": {},
     "output_type": "display_data"
    },
    {
     "data": {
      "text/plain": [
       "  0%|          | 0/3 [00:00<?, ?it/s]"
      ],
      "application/vnd.jupyter.widget-view+json": {
       "version_major": 2,
       "version_minor": 0,
       "model_id": "4b95c92c0cc7415dad03ec8abb5a86e8"
      }
     },
     "metadata": {},
     "output_type": "display_data"
    },
    {
     "name": "stdout",
     "output_type": "stream",
     "text": [
      "\u001B[1m\u001B[92m Epoch 226 Train DiceLoss 0.3340309001505375 Val DiceLoss 0.32433528701464337 Train dice_score 0.6659690961241722 Val dice_score 0.6756647030512491\n"
     ]
    },
    {
     "data": {
      "text/plain": [
       "  0%|          | 0/8 [00:00<?, ?it/s]"
      ],
      "application/vnd.jupyter.widget-view+json": {
       "version_major": 2,
       "version_minor": 0,
       "model_id": "20b35d4bbc2a41f39d1ea1d3ff1436c5"
      }
     },
     "metadata": {},
     "output_type": "display_data"
    },
    {
     "data": {
      "text/plain": [
       "  0%|          | 0/3 [00:00<?, ?it/s]"
      ],
      "application/vnd.jupyter.widget-view+json": {
       "version_major": 2,
       "version_minor": 0,
       "model_id": "9fc60adb0c4a4704a966cfaad9ff762d"
      }
     },
     "metadata": {},
     "output_type": "display_data"
    },
    {
     "name": "stdout",
     "output_type": "stream",
     "text": [
      "\u001B[1m\u001B[92m Epoch 227 Train DiceLoss 0.33096933737397194 Val DiceLoss 0.32351837555567425 Train dice_score 0.6690306589007378 Val dice_score 0.6764816244443258\n"
     ]
    },
    {
     "data": {
      "text/plain": [
       "  0%|          | 0/8 [00:00<?, ?it/s]"
      ],
      "application/vnd.jupyter.widget-view+json": {
       "version_major": 2,
       "version_minor": 0,
       "model_id": "65594b43219e4bdf8971458972d99a09"
      }
     },
     "metadata": {},
     "output_type": "display_data"
    },
    {
     "data": {
      "text/plain": [
       "  0%|          | 0/3 [00:00<?, ?it/s]"
      ],
      "application/vnd.jupyter.widget-view+json": {
       "version_major": 2,
       "version_minor": 0,
       "model_id": "966977c5135a4ac383cb55977daae39a"
      }
     },
     "metadata": {},
     "output_type": "display_data"
    },
    {
     "name": "stdout",
     "output_type": "stream",
     "text": [
      "\u001B[1m\u001B[92m Epoch 228 Train DiceLoss 0.3317967467010021 Val DiceLoss 0.33863476912180585 Train dice_score 0.6682032495737076 Val dice_score 0.6613652308781942\n"
     ]
    },
    {
     "data": {
      "text/plain": [
       "  0%|          | 0/8 [00:00<?, ?it/s]"
      ],
      "application/vnd.jupyter.widget-view+json": {
       "version_major": 2,
       "version_minor": 0,
       "model_id": "94a38b8817f845f9b66355f7aab76271"
      }
     },
     "metadata": {},
     "output_type": "display_data"
    },
    {
     "data": {
      "text/plain": [
       "  0%|          | 0/3 [00:00<?, ?it/s]"
      ],
      "application/vnd.jupyter.widget-view+json": {
       "version_major": 2,
       "version_minor": 0,
       "model_id": "a1e3d1fb109e47eba99c69ee5b7fb96b"
      }
     },
     "metadata": {},
     "output_type": "display_data"
    },
    {
     "name": "stdout",
     "output_type": "stream",
     "text": [
      "\u001B[1m\u001B[92m Epoch 229 Train DiceLoss 0.33035457134246826 Val DiceLoss 0.33871211608250934 Train dice_score 0.6696454286575317 Val dice_score 0.6612878839174906\n"
     ]
    },
    {
     "data": {
      "text/plain": [
       "  0%|          | 0/8 [00:00<?, ?it/s]"
      ],
      "application/vnd.jupyter.widget-view+json": {
       "version_major": 2,
       "version_minor": 0,
       "model_id": "dc5d182408de47ec9deb2f2fa9de81fc"
      }
     },
     "metadata": {},
     "output_type": "display_data"
    },
    {
     "data": {
      "text/plain": [
       "  0%|          | 0/3 [00:00<?, ?it/s]"
      ],
      "application/vnd.jupyter.widget-view+json": {
       "version_major": 2,
       "version_minor": 0,
       "model_id": "f77048f009e04e6b9e65cb805f525076"
      }
     },
     "metadata": {},
     "output_type": "display_data"
    },
    {
     "name": "stdout",
     "output_type": "stream",
     "text": [
      "\u001B[1m\u001B[92m Epoch 230 Train DiceLoss 0.32804082706570625 Val DiceLoss 0.3261057635148366 Train dice_score 0.6719591841101646 Val dice_score 0.6738942464192709\n"
     ]
    },
    {
     "data": {
      "text/plain": [
       "  0%|          | 0/8 [00:00<?, ?it/s]"
      ],
      "application/vnd.jupyter.widget-view+json": {
       "version_major": 2,
       "version_minor": 0,
       "model_id": "ee5d94b1a9bd47d78c03478f85b980a5"
      }
     },
     "metadata": {},
     "output_type": "display_data"
    },
    {
     "data": {
      "text/plain": [
       "  0%|          | 0/3 [00:00<?, ?it/s]"
      ],
      "application/vnd.jupyter.widget-view+json": {
       "version_major": 2,
       "version_minor": 0,
       "model_id": "8b5f648c56474bd5ae697bb9f23aa581"
      }
     },
     "metadata": {},
     "output_type": "display_data"
    },
    {
     "name": "stdout",
     "output_type": "stream",
     "text": [
      "\u001B[1m\u001B[92m Epoch 231 Train DiceLoss 0.32657284662127495 Val DiceLoss 0.3239448368549347 Train dice_score 0.6734271496534348 Val dice_score 0.6760551730791727\n"
     ]
    },
    {
     "data": {
      "text/plain": [
       "  0%|          | 0/8 [00:00<?, ?it/s]"
      ],
      "application/vnd.jupyter.widget-view+json": {
       "version_major": 2,
       "version_minor": 0,
       "model_id": "a5c93eab7c1f46d2812b9f8f55a9c376"
      }
     },
     "metadata": {},
     "output_type": "display_data"
    },
    {
     "data": {
      "text/plain": [
       "  0%|          | 0/3 [00:00<?, ?it/s]"
      ],
      "application/vnd.jupyter.widget-view+json": {
       "version_major": 2,
       "version_minor": 0,
       "model_id": "58e33eb871254cffb979bd50ffbab7b0"
      }
     },
     "metadata": {},
     "output_type": "display_data"
    },
    {
     "name": "stdout",
     "output_type": "stream",
     "text": [
      "\u001B[1m\u001B[92m Epoch 232 Train DiceLoss 0.3261592462658882 Val DiceLoss 0.3244999547799428 Train dice_score 0.6738407611846924 Val dice_score 0.6755000551541647\n"
     ]
    },
    {
     "data": {
      "text/plain": [
       "  0%|          | 0/8 [00:00<?, ?it/s]"
      ],
      "application/vnd.jupyter.widget-view+json": {
       "version_major": 2,
       "version_minor": 0,
       "model_id": "c4f64879c37e4ff6bd13dea4c142cd80"
      }
     },
     "metadata": {},
     "output_type": "display_data"
    },
    {
     "data": {
      "text/plain": [
       "  0%|          | 0/3 [00:00<?, ?it/s]"
      ],
      "application/vnd.jupyter.widget-view+json": {
       "version_major": 2,
       "version_minor": 0,
       "model_id": "b923d3b53b18443887f66aa4e85234d2"
      }
     },
     "metadata": {},
     "output_type": "display_data"
    },
    {
     "name": "stdout",
     "output_type": "stream",
     "text": [
      "MODEL SAVED\n",
      "\u001B[1m\u001B[92m Epoch 233 Train DiceLoss 0.3282572776079178 Val DiceLoss 0.3152771095434825 Train dice_score 0.6717427298426628 Val dice_score 0.68472288052241\n"
     ]
    },
    {
     "data": {
      "text/plain": [
       "  0%|          | 0/8 [00:00<?, ?it/s]"
      ],
      "application/vnd.jupyter.widget-view+json": {
       "version_major": 2,
       "version_minor": 0,
       "model_id": "fa29616719564c288eebfdeeca6b3da2"
      }
     },
     "metadata": {},
     "output_type": "display_data"
    },
    {
     "data": {
      "text/plain": [
       "  0%|          | 0/3 [00:00<?, ?it/s]"
      ],
      "application/vnd.jupyter.widget-view+json": {
       "version_major": 2,
       "version_minor": 0,
       "model_id": "9e11e6dc4f63456c9e64b3f5242647bd"
      }
     },
     "metadata": {},
     "output_type": "display_data"
    },
    {
     "name": "stdout",
     "output_type": "stream",
     "text": [
      "\u001B[1m\u001B[92m Epoch 234 Train DiceLoss 0.3260091096162796 Val DiceLoss 0.3381762107213338 Train dice_score 0.6739909052848816 Val dice_score 0.6618238091468811\n"
     ]
    },
    {
     "data": {
      "text/plain": [
       "  0%|          | 0/8 [00:00<?, ?it/s]"
      ],
      "application/vnd.jupyter.widget-view+json": {
       "version_major": 2,
       "version_minor": 0,
       "model_id": "4f41344ba2824105b6712d47877d9351"
      }
     },
     "metadata": {},
     "output_type": "display_data"
    },
    {
     "data": {
      "text/plain": [
       "  0%|          | 0/3 [00:00<?, ?it/s]"
      ],
      "application/vnd.jupyter.widget-view+json": {
       "version_major": 2,
       "version_minor": 0,
       "model_id": "fce1059a88414c1a98318b6c292d7586"
      }
     },
     "metadata": {},
     "output_type": "display_data"
    },
    {
     "name": "stdout",
     "output_type": "stream",
     "text": [
      "\u001B[1m\u001B[92m Epoch 235 Train DiceLoss 0.3287782371044159 Val DiceLoss 0.3222771883010864 Train dice_score 0.6712217628955841 Val dice_score 0.6777228116989136\n"
     ]
    },
    {
     "data": {
      "text/plain": [
       "  0%|          | 0/8 [00:00<?, ?it/s]"
      ],
      "application/vnd.jupyter.widget-view+json": {
       "version_major": 2,
       "version_minor": 0,
       "model_id": "78c8491b8f3e4b16915db08c615371b3"
      }
     },
     "metadata": {},
     "output_type": "display_data"
    },
    {
     "data": {
      "text/plain": [
       "  0%|          | 0/3 [00:00<?, ?it/s]"
      ],
      "application/vnd.jupyter.widget-view+json": {
       "version_major": 2,
       "version_minor": 0,
       "model_id": "abebd33e807547a592c444d1072cfcd5"
      }
     },
     "metadata": {},
     "output_type": "display_data"
    },
    {
     "name": "stdout",
     "output_type": "stream",
     "text": [
      "\u001B[1m\u001B[92m Epoch 236 Train DiceLoss 0.33069736883044243 Val DiceLoss 0.33081603050231934 Train dice_score 0.6693026348948479 Val dice_score 0.6691839694976807\n"
     ]
    },
    {
     "data": {
      "text/plain": [
       "  0%|          | 0/8 [00:00<?, ?it/s]"
      ],
      "application/vnd.jupyter.widget-view+json": {
       "version_major": 2,
       "version_minor": 0,
       "model_id": "1039ffbbdf284932bd8534d93b08e7ba"
      }
     },
     "metadata": {},
     "output_type": "display_data"
    },
    {
     "data": {
      "text/plain": [
       "  0%|          | 0/3 [00:00<?, ?it/s]"
      ],
      "application/vnd.jupyter.widget-view+json": {
       "version_major": 2,
       "version_minor": 0,
       "model_id": "8a21e6c7b4e347869da2adfa7c1e9f8f"
      }
     },
     "metadata": {},
     "output_type": "display_data"
    },
    {
     "name": "stdout",
     "output_type": "stream",
     "text": [
      "\u001B[1m\u001B[92m Epoch 237 Train DiceLoss 0.32565782591700554 Val DiceLoss 0.31907593210538227 Train dice_score 0.6743421778082848 Val dice_score 0.6809240579605103\n"
     ]
    },
    {
     "data": {
      "text/plain": [
       "  0%|          | 0/8 [00:00<?, ?it/s]"
      ],
      "application/vnd.jupyter.widget-view+json": {
       "version_major": 2,
       "version_minor": 0,
       "model_id": "c3d56e1b3cce47678a266a6db3cc3c35"
      }
     },
     "metadata": {},
     "output_type": "display_data"
    },
    {
     "data": {
      "text/plain": [
       "  0%|          | 0/3 [00:00<?, ?it/s]"
      ],
      "application/vnd.jupyter.widget-view+json": {
       "version_major": 2,
       "version_minor": 0,
       "model_id": "559b4a6f13394fcb87eebd37582a54d1"
      }
     },
     "metadata": {},
     "output_type": "display_data"
    },
    {
     "name": "stdout",
     "output_type": "stream",
     "text": [
      "MODEL SAVED\n",
      "\u001B[1m\u001B[92m Epoch 238 Train DiceLoss 0.3358207195997238 Val DiceLoss 0.3151066501935323 Train dice_score 0.6641792804002762 Val dice_score 0.6848933498064677\n"
     ]
    },
    {
     "data": {
      "text/plain": [
       "  0%|          | 0/8 [00:00<?, ?it/s]"
      ],
      "application/vnd.jupyter.widget-view+json": {
       "version_major": 2,
       "version_minor": 0,
       "model_id": "cc918de85a0b44ea8342654504b55c49"
      }
     },
     "metadata": {},
     "output_type": "display_data"
    },
    {
     "data": {
      "text/plain": [
       "  0%|          | 0/3 [00:00<?, ?it/s]"
      ],
      "application/vnd.jupyter.widget-view+json": {
       "version_major": 2,
       "version_minor": 0,
       "model_id": "0f8ebff1d99149dd8aac30dcd27ccbab"
      }
     },
     "metadata": {},
     "output_type": "display_data"
    },
    {
     "name": "stdout",
     "output_type": "stream",
     "text": [
      "\u001B[1m\u001B[92m Epoch 239 Train DiceLoss 0.3271442614495754 Val DiceLoss 0.31863318880399066 Train dice_score 0.6728557422757149 Val dice_score 0.6813668211301168\n"
     ]
    },
    {
     "data": {
      "text/plain": [
       "  0%|          | 0/8 [00:00<?, ?it/s]"
      ],
      "application/vnd.jupyter.widget-view+json": {
       "version_major": 2,
       "version_minor": 0,
       "model_id": "d58c950d6ec24a8e9c99d3d8a7a35227"
      }
     },
     "metadata": {},
     "output_type": "display_data"
    },
    {
     "data": {
      "text/plain": [
       "  0%|          | 0/3 [00:00<?, ?it/s]"
      ],
      "application/vnd.jupyter.widget-view+json": {
       "version_major": 2,
       "version_minor": 0,
       "model_id": "5afedec6a6f84aedbe3b43c61d218fd9"
      }
     },
     "metadata": {},
     "output_type": "display_data"
    },
    {
     "name": "stdout",
     "output_type": "stream",
     "text": [
      "\u001B[1m\u001B[92m Epoch 240 Train DiceLoss 0.3242371045053005 Val DiceLoss 0.3222052752971649 Train dice_score 0.6757628917694092 Val dice_score 0.6777947346369425\n"
     ]
    },
    {
     "data": {
      "text/plain": [
       "  0%|          | 0/8 [00:00<?, ?it/s]"
      ],
      "application/vnd.jupyter.widget-view+json": {
       "version_major": 2,
       "version_minor": 0,
       "model_id": "2110c263df7442b8b40461549e849667"
      }
     },
     "metadata": {},
     "output_type": "display_data"
    },
    {
     "data": {
      "text/plain": [
       "  0%|          | 0/3 [00:00<?, ?it/s]"
      ],
      "application/vnd.jupyter.widget-view+json": {
       "version_major": 2,
       "version_minor": 0,
       "model_id": "02764d7d76374f8c9df9579119ba00b2"
      }
     },
     "metadata": {},
     "output_type": "display_data"
    },
    {
     "name": "stdout",
     "output_type": "stream",
     "text": [
      "\u001B[1m\u001B[92m Epoch 241 Train DiceLoss 0.3224353902041912 Val DiceLoss 0.3199881116549174 Train dice_score 0.6775645986199379 Val dice_score 0.6800119082132975\n"
     ]
    },
    {
     "data": {
      "text/plain": [
       "  0%|          | 0/8 [00:00<?, ?it/s]"
      ],
      "application/vnd.jupyter.widget-view+json": {
       "version_major": 2,
       "version_minor": 0,
       "model_id": "73cc3fcd443d4cb6869a8388dc9c1d1f"
      }
     },
     "metadata": {},
     "output_type": "display_data"
    },
    {
     "data": {
      "text/plain": [
       "  0%|          | 0/3 [00:00<?, ?it/s]"
      ],
      "application/vnd.jupyter.widget-view+json": {
       "version_major": 2,
       "version_minor": 0,
       "model_id": "221ad14891e9492ea34fda7a3a9da3bd"
      }
     },
     "metadata": {},
     "output_type": "display_data"
    },
    {
     "name": "stdout",
     "output_type": "stream",
     "text": [
      "\u001B[1m\u001B[92m Epoch 242 Train DiceLoss 0.3283581770956516 Val DiceLoss 0.32410234212875366 Train dice_score 0.6716418340802193 Val dice_score 0.6758976777394613\n"
     ]
    },
    {
     "data": {
      "text/plain": [
       "  0%|          | 0/8 [00:00<?, ?it/s]"
      ],
      "application/vnd.jupyter.widget-view+json": {
       "version_major": 2,
       "version_minor": 0,
       "model_id": "59a0e8d617e9447f89800d6e5becdc1b"
      }
     },
     "metadata": {},
     "output_type": "display_data"
    },
    {
     "data": {
      "text/plain": [
       "  0%|          | 0/3 [00:00<?, ?it/s]"
      ],
      "application/vnd.jupyter.widget-view+json": {
       "version_major": 2,
       "version_minor": 0,
       "model_id": "4cbb14137a904e968d06fbfb9a7936aa"
      }
     },
     "metadata": {},
     "output_type": "display_data"
    },
    {
     "name": "stdout",
     "output_type": "stream",
     "text": [
      "\u001B[1m\u001B[92m Epoch 243 Train DiceLoss 0.3217748701572418 Val DiceLoss 0.32275734345118207 Train dice_score 0.6782251298427582 Val dice_score 0.677242656548818\n"
     ]
    },
    {
     "data": {
      "text/plain": [
       "  0%|          | 0/8 [00:00<?, ?it/s]"
      ],
      "application/vnd.jupyter.widget-view+json": {
       "version_major": 2,
       "version_minor": 0,
       "model_id": "ad3515be3aea41e9b1b673fae2f2211e"
      }
     },
     "metadata": {},
     "output_type": "display_data"
    },
    {
     "data": {
      "text/plain": [
       "  0%|          | 0/3 [00:00<?, ?it/s]"
      ],
      "application/vnd.jupyter.widget-view+json": {
       "version_major": 2,
       "version_minor": 0,
       "model_id": "30a5bb27b45847d9b233558512790051"
      }
     },
     "metadata": {},
     "output_type": "display_data"
    },
    {
     "name": "stdout",
     "output_type": "stream",
     "text": [
      "\u001B[1m\u001B[92m Epoch 244 Train DiceLoss 0.3277530036866665 Val DiceLoss 0.3188207944234212 Train dice_score 0.6722470074892044 Val dice_score 0.6811792254447937\n"
     ]
    },
    {
     "data": {
      "text/plain": [
       "  0%|          | 0/8 [00:00<?, ?it/s]"
      ],
      "application/vnd.jupyter.widget-view+json": {
       "version_major": 2,
       "version_minor": 0,
       "model_id": "804cf8ddb27848f9b0afda6aa955c441"
      }
     },
     "metadata": {},
     "output_type": "display_data"
    },
    {
     "data": {
      "text/plain": [
       "  0%|          | 0/3 [00:00<?, ?it/s]"
      ],
      "application/vnd.jupyter.widget-view+json": {
       "version_major": 2,
       "version_minor": 0,
       "model_id": "01f5d28050a74232a9951950b736eb3a"
      }
     },
     "metadata": {},
     "output_type": "display_data"
    },
    {
     "name": "stdout",
     "output_type": "stream",
     "text": [
      "\u001B[1m\u001B[92m Epoch 245 Train DiceLoss 0.3252769038081169 Val DiceLoss 0.32140002648035687 Train dice_score 0.6747230961918831 Val dice_score 0.678599993387858\n"
     ]
    },
    {
     "data": {
      "text/plain": [
       "  0%|          | 0/8 [00:00<?, ?it/s]"
      ],
      "application/vnd.jupyter.widget-view+json": {
       "version_major": 2,
       "version_minor": 0,
       "model_id": "08dd07d610c84ba6a8b440679a224ddc"
      }
     },
     "metadata": {},
     "output_type": "display_data"
    },
    {
     "data": {
      "text/plain": [
       "  0%|          | 0/3 [00:00<?, ?it/s]"
      ],
      "application/vnd.jupyter.widget-view+json": {
       "version_major": 2,
       "version_minor": 0,
       "model_id": "3ee21ed7b63a44959f6cfd54219acba9"
      }
     },
     "metadata": {},
     "output_type": "display_data"
    },
    {
     "name": "stdout",
     "output_type": "stream",
     "text": [
      "\u001B[1m\u001B[92m Epoch 246 Train DiceLoss 0.3256092928349972 Val DiceLoss 0.33260029554367065 Train dice_score 0.6743907108902931 Val dice_score 0.6673997044563293\n"
     ]
    },
    {
     "data": {
      "text/plain": [
       "  0%|          | 0/8 [00:00<?, ?it/s]"
      ],
      "application/vnd.jupyter.widget-view+json": {
       "version_major": 2,
       "version_minor": 0,
       "model_id": "f565620f6ec5469a8036628fdb589f40"
      }
     },
     "metadata": {},
     "output_type": "display_data"
    },
    {
     "data": {
      "text/plain": [
       "  0%|          | 0/3 [00:00<?, ?it/s]"
      ],
      "application/vnd.jupyter.widget-view+json": {
       "version_major": 2,
       "version_minor": 0,
       "model_id": "ea67c7b777ba4177987fe4bc9b67ab3b"
      }
     },
     "metadata": {},
     "output_type": "display_data"
    },
    {
     "name": "stdout",
     "output_type": "stream",
     "text": [
      "\u001B[1m\u001B[92m Epoch 247 Train DiceLoss 0.3205709010362625 Val DiceLoss 0.3211868604024251 Train dice_score 0.6794290915131569 Val dice_score 0.6788131594657898\n"
     ]
    },
    {
     "data": {
      "text/plain": [
       "  0%|          | 0/8 [00:00<?, ?it/s]"
      ],
      "application/vnd.jupyter.widget-view+json": {
       "version_major": 2,
       "version_minor": 0,
       "model_id": "f2f63b903c3a4ef9ad007ee2c297fe1d"
      }
     },
     "metadata": {},
     "output_type": "display_data"
    },
    {
     "data": {
      "text/plain": [
       "  0%|          | 0/3 [00:00<?, ?it/s]"
      ],
      "application/vnd.jupyter.widget-view+json": {
       "version_major": 2,
       "version_minor": 0,
       "model_id": "91c37a43227f4b1fbf8c13d36ddd4486"
      }
     },
     "metadata": {},
     "output_type": "display_data"
    },
    {
     "name": "stdout",
     "output_type": "stream",
     "text": [
      "MODEL SAVED\n",
      "\u001B[1m\u001B[92m Epoch 248 Train DiceLoss 0.3240133263170719 Val DiceLoss 0.3124517500400543 Train dice_score 0.6759866774082184 Val dice_score 0.6875482400258383\n"
     ]
    },
    {
     "data": {
      "text/plain": [
       "  0%|          | 0/8 [00:00<?, ?it/s]"
      ],
      "application/vnd.jupyter.widget-view+json": {
       "version_major": 2,
       "version_minor": 0,
       "model_id": "1e706f1ce2b64820bc961d464c836e1c"
      }
     },
     "metadata": {},
     "output_type": "display_data"
    },
    {
     "data": {
      "text/plain": [
       "  0%|          | 0/3 [00:00<?, ?it/s]"
      ],
      "application/vnd.jupyter.widget-view+json": {
       "version_major": 2,
       "version_minor": 0,
       "model_id": "1f5f96af70554f8ebd462efce0c015d4"
      }
     },
     "metadata": {},
     "output_type": "display_data"
    },
    {
     "name": "stdout",
     "output_type": "stream",
     "text": [
      "\u001B[1m\u001B[92m Epoch 249 Train DiceLoss 0.3287370949983597 Val DiceLoss 0.31332136193911236 Train dice_score 0.6712629050016403 Val dice_score 0.6866786281267802\n"
     ]
    },
    {
     "data": {
      "text/plain": [
       "  0%|          | 0/8 [00:00<?, ?it/s]"
      ],
      "application/vnd.jupyter.widget-view+json": {
       "version_major": 2,
       "version_minor": 0,
       "model_id": "49d644575663463e88fdd6daf0b7040e"
      }
     },
     "metadata": {},
     "output_type": "display_data"
    },
    {
     "data": {
      "text/plain": [
       "  0%|          | 0/3 [00:00<?, ?it/s]"
      ],
      "application/vnd.jupyter.widget-view+json": {
       "version_major": 2,
       "version_minor": 0,
       "model_id": "5f451dca0eb94d778bdbd229ec2c7120"
      }
     },
     "metadata": {},
     "output_type": "display_data"
    },
    {
     "name": "stdout",
     "output_type": "stream",
     "text": [
      "\u001B[1m\u001B[92m Epoch 250 Train DiceLoss 0.3257716931402683 Val DiceLoss 0.3237919906775157 Train dice_score 0.674228310585022 Val dice_score 0.6762080192565918\n"
     ]
    },
    {
     "data": {
      "text/plain": [
       "  0%|          | 0/8 [00:00<?, ?it/s]"
      ],
      "application/vnd.jupyter.widget-view+json": {
       "version_major": 2,
       "version_minor": 0,
       "model_id": "6b8b59b451d34c08bf51a07e646673cd"
      }
     },
     "metadata": {},
     "output_type": "display_data"
    },
    {
     "data": {
      "text/plain": [
       "  0%|          | 0/3 [00:00<?, ?it/s]"
      ],
      "application/vnd.jupyter.widget-view+json": {
       "version_major": 2,
       "version_minor": 0,
       "model_id": "d4da26bf9fdc4e2080f13d2999952f3a"
      }
     },
     "metadata": {},
     "output_type": "display_data"
    },
    {
     "name": "stdout",
     "output_type": "stream",
     "text": [
      "\u001B[1m\u001B[92m Epoch 251 Train DiceLoss 0.3345448523759842 Val DiceLoss 0.3191623389720917 Train dice_score 0.6654551476240158 Val dice_score 0.6808376312255859\n"
     ]
    },
    {
     "data": {
      "text/plain": [
       "  0%|          | 0/8 [00:00<?, ?it/s]"
      ],
      "application/vnd.jupyter.widget-view+json": {
       "version_major": 2,
       "version_minor": 0,
       "model_id": "cddfe586713b4f1192e81104a0a9cff4"
      }
     },
     "metadata": {},
     "output_type": "display_data"
    },
    {
     "data": {
      "text/plain": [
       "  0%|          | 0/3 [00:00<?, ?it/s]"
      ],
      "application/vnd.jupyter.widget-view+json": {
       "version_major": 2,
       "version_minor": 0,
       "model_id": "6656386ef061454e9cf061bd492940b4"
      }
     },
     "metadata": {},
     "output_type": "display_data"
    },
    {
     "name": "stdout",
     "output_type": "stream",
     "text": [
      "\u001B[1m\u001B[92m Epoch 252 Train DiceLoss 0.32155727967619896 Val DiceLoss 0.3236842155456543 Train dice_score 0.6784427314996719 Val dice_score 0.6763157645861307\n"
     ]
    },
    {
     "data": {
      "text/plain": [
       "  0%|          | 0/8 [00:00<?, ?it/s]"
      ],
      "application/vnd.jupyter.widget-view+json": {
       "version_major": 2,
       "version_minor": 0,
       "model_id": "450e00a6dca64cadaf4be3c9f446a10b"
      }
     },
     "metadata": {},
     "output_type": "display_data"
    },
    {
     "data": {
      "text/plain": [
       "  0%|          | 0/3 [00:00<?, ?it/s]"
      ],
      "application/vnd.jupyter.widget-view+json": {
       "version_major": 2,
       "version_minor": 0,
       "model_id": "48ea09f8b7ce44bc9317f77cfd42f7f4"
      }
     },
     "metadata": {},
     "output_type": "display_data"
    },
    {
     "name": "stdout",
     "output_type": "stream",
     "text": [
      "\u001B[1m\u001B[92m Epoch 253 Train DiceLoss 0.3292366899549961 Val DiceLoss 0.3210609356562297 Train dice_score 0.6707633137702942 Val dice_score 0.6789390643437704\n"
     ]
    },
    {
     "data": {
      "text/plain": [
       "  0%|          | 0/8 [00:00<?, ?it/s]"
      ],
      "application/vnd.jupyter.widget-view+json": {
       "version_major": 2,
       "version_minor": 0,
       "model_id": "26220c1faee043edbad103519596de01"
      }
     },
     "metadata": {},
     "output_type": "display_data"
    },
    {
     "data": {
      "text/plain": [
       "  0%|          | 0/3 [00:00<?, ?it/s]"
      ],
      "application/vnd.jupyter.widget-view+json": {
       "version_major": 2,
       "version_minor": 0,
       "model_id": "f56cc884dba34d2f9d7291b6ccfcc7a8"
      }
     },
     "metadata": {},
     "output_type": "display_data"
    },
    {
     "name": "stdout",
     "output_type": "stream",
     "text": [
      "\u001B[1m\u001B[92m Epoch 254 Train DiceLoss 0.3221898153424263 Val DiceLoss 0.3188713292280833 Train dice_score 0.6778101921081543 Val dice_score 0.6811286807060242\n"
     ]
    },
    {
     "data": {
      "text/plain": [
       "  0%|          | 0/8 [00:00<?, ?it/s]"
      ],
      "application/vnd.jupyter.widget-view+json": {
       "version_major": 2,
       "version_minor": 0,
       "model_id": "8e69474fbeb543438ef43a8955fe913d"
      }
     },
     "metadata": {},
     "output_type": "display_data"
    },
    {
     "data": {
      "text/plain": [
       "  0%|          | 0/3 [00:00<?, ?it/s]"
      ],
      "application/vnd.jupyter.widget-view+json": {
       "version_major": 2,
       "version_minor": 0,
       "model_id": "ada658896e05419e98b9089b09d0e849"
      }
     },
     "metadata": {},
     "output_type": "display_data"
    },
    {
     "name": "stdout",
     "output_type": "stream",
     "text": [
      "MODEL SAVED\n",
      "\u001B[1m\u001B[92m Epoch 255 Train DiceLoss 0.3198728524148464 Val DiceLoss 0.30972076455752057 Train dice_score 0.6801271513104439 Val dice_score 0.6902792453765869\n"
     ]
    },
    {
     "data": {
      "text/plain": [
       "  0%|          | 0/8 [00:00<?, ?it/s]"
      ],
      "application/vnd.jupyter.widget-view+json": {
       "version_major": 2,
       "version_minor": 0,
       "model_id": "2b0f097be3084870b25c0c50007b4eb9"
      }
     },
     "metadata": {},
     "output_type": "display_data"
    },
    {
     "data": {
      "text/plain": [
       "  0%|          | 0/3 [00:00<?, ?it/s]"
      ],
      "application/vnd.jupyter.widget-view+json": {
       "version_major": 2,
       "version_minor": 0,
       "model_id": "3e43007a5d8c40ba81a88869f450ed4f"
      }
     },
     "metadata": {},
     "output_type": "display_data"
    },
    {
     "name": "stdout",
     "output_type": "stream",
     "text": [
      "\u001B[1m\u001B[92m Epoch 256 Train DiceLoss 0.32506823912262917 Val DiceLoss 0.3166748384634654 Train dice_score 0.6749317720532417 Val dice_score 0.6833251516024271\n"
     ]
    },
    {
     "data": {
      "text/plain": [
       "  0%|          | 0/8 [00:00<?, ?it/s]"
      ],
      "application/vnd.jupyter.widget-view+json": {
       "version_major": 2,
       "version_minor": 0,
       "model_id": "fc6aff73965949908baf6554d72b626c"
      }
     },
     "metadata": {},
     "output_type": "display_data"
    },
    {
     "data": {
      "text/plain": [
       "  0%|          | 0/3 [00:00<?, ?it/s]"
      ],
      "application/vnd.jupyter.widget-view+json": {
       "version_major": 2,
       "version_minor": 0,
       "model_id": "95a3338b07d74a599d2ab0606aae1e86"
      }
     },
     "metadata": {},
     "output_type": "display_data"
    },
    {
     "name": "stdout",
     "output_type": "stream",
     "text": [
      "\u001B[1m\u001B[92m Epoch 257 Train DiceLoss 0.32340676337480545 Val DiceLoss 0.3249282439549764 Train dice_score 0.6765932366251945 Val dice_score 0.6750717560450236\n"
     ]
    },
    {
     "data": {
      "text/plain": [
       "  0%|          | 0/8 [00:00<?, ?it/s]"
      ],
      "application/vnd.jupyter.widget-view+json": {
       "version_major": 2,
       "version_minor": 0,
       "model_id": "f55218896f6a4286aedab7c1c7647569"
      }
     },
     "metadata": {},
     "output_type": "display_data"
    },
    {
     "data": {
      "text/plain": [
       "  0%|          | 0/3 [00:00<?, ?it/s]"
      ],
      "application/vnd.jupyter.widget-view+json": {
       "version_major": 2,
       "version_minor": 0,
       "model_id": "b271b2ab5102437c9665e9474afce2eb"
      }
     },
     "metadata": {},
     "output_type": "display_data"
    },
    {
     "name": "stdout",
     "output_type": "stream",
     "text": [
      "\u001B[1m\u001B[92m Epoch 258 Train DiceLoss 0.3208095207810402 Val DiceLoss 0.3191760778427124 Train dice_score 0.6791904792189598 Val dice_score 0.6808239221572876\n"
     ]
    },
    {
     "data": {
      "text/plain": [
       "  0%|          | 0/8 [00:00<?, ?it/s]"
      ],
      "application/vnd.jupyter.widget-view+json": {
       "version_major": 2,
       "version_minor": 0,
       "model_id": "233e54ea5c364379b45ce100c1f0cf81"
      }
     },
     "metadata": {},
     "output_type": "display_data"
    },
    {
     "data": {
      "text/plain": [
       "  0%|          | 0/3 [00:00<?, ?it/s]"
      ],
      "application/vnd.jupyter.widget-view+json": {
       "version_major": 2,
       "version_minor": 0,
       "model_id": "5a20fe41df894321a26bc7debf26c515"
      }
     },
     "metadata": {},
     "output_type": "display_data"
    },
    {
     "name": "stdout",
     "output_type": "stream",
     "text": [
      "\u001B[1m\u001B[92m Epoch 259 Train DiceLoss 0.3226119726896286 Val DiceLoss 0.31551259756088257 Train dice_score 0.6773880198597908 Val dice_score 0.6844874024391174\n"
     ]
    },
    {
     "data": {
      "text/plain": [
       "  0%|          | 0/8 [00:00<?, ?it/s]"
      ],
      "application/vnd.jupyter.widget-view+json": {
       "version_major": 2,
       "version_minor": 0,
       "model_id": "b8b75f87bc0e4a4fbb29fa9f909ac8e4"
      }
     },
     "metadata": {},
     "output_type": "display_data"
    },
    {
     "data": {
      "text/plain": [
       "  0%|          | 0/3 [00:00<?, ?it/s]"
      ],
      "application/vnd.jupyter.widget-view+json": {
       "version_major": 2,
       "version_minor": 0,
       "model_id": "0cf2f322c3124807818697b3fa78a68f"
      }
     },
     "metadata": {},
     "output_type": "display_data"
    },
    {
     "name": "stdout",
     "output_type": "stream",
     "text": [
      "\u001B[1m\u001B[92m Epoch 260 Train DiceLoss 0.32400699704885483 Val DiceLoss 0.32119327783584595 Train dice_score 0.6759930104017258 Val dice_score 0.678806722164154\n"
     ]
    },
    {
     "data": {
      "text/plain": [
       "  0%|          | 0/8 [00:00<?, ?it/s]"
      ],
      "application/vnd.jupyter.widget-view+json": {
       "version_major": 2,
       "version_minor": 0,
       "model_id": "e6f0c1938ce54a4cabf5f3b1766fac06"
      }
     },
     "metadata": {},
     "output_type": "display_data"
    },
    {
     "data": {
      "text/plain": [
       "  0%|          | 0/3 [00:00<?, ?it/s]"
      ],
      "application/vnd.jupyter.widget-view+json": {
       "version_major": 2,
       "version_minor": 0,
       "model_id": "d9386d6eceb449fc8e7251ba33fbf963"
      }
     },
     "metadata": {},
     "output_type": "display_data"
    },
    {
     "name": "stdout",
     "output_type": "stream",
     "text": [
      "\u001B[1m\u001B[92m Epoch 261 Train DiceLoss 0.3201098255813122 Val DiceLoss 0.32522570093472797 Train dice_score 0.6798901632428169 Val dice_score 0.6747743288675944\n"
     ]
    },
    {
     "data": {
      "text/plain": [
       "  0%|          | 0/8 [00:00<?, ?it/s]"
      ],
      "application/vnd.jupyter.widget-view+json": {
       "version_major": 2,
       "version_minor": 0,
       "model_id": "1ffbe800018946e6ab81e1697fe91a34"
      }
     },
     "metadata": {},
     "output_type": "display_data"
    },
    {
     "data": {
      "text/plain": [
       "  0%|          | 0/3 [00:00<?, ?it/s]"
      ],
      "application/vnd.jupyter.widget-view+json": {
       "version_major": 2,
       "version_minor": 0,
       "model_id": "78bf2135127442ad84085ce3428d53e4"
      }
     },
     "metadata": {},
     "output_type": "display_data"
    },
    {
     "name": "stdout",
     "output_type": "stream",
     "text": [
      "\u001B[1m\u001B[92m Epoch 262 Train DiceLoss 0.3210885487496853 Val DiceLoss 0.31181881825129193 Train dice_score 0.6789114475250244 Val dice_score 0.688181201616923\n"
     ]
    },
    {
     "data": {
      "text/plain": [
       "  0%|          | 0/8 [00:00<?, ?it/s]"
      ],
      "application/vnd.jupyter.widget-view+json": {
       "version_major": 2,
       "version_minor": 0,
       "model_id": "c86a4e282a0f483e93bef0364ef661cf"
      }
     },
     "metadata": {},
     "output_type": "display_data"
    },
    {
     "data": {
      "text/plain": [
       "  0%|          | 0/3 [00:00<?, ?it/s]"
      ],
      "application/vnd.jupyter.widget-view+json": {
       "version_major": 2,
       "version_minor": 0,
       "model_id": "42eed81c87004e5db3116f0a8771078d"
      }
     },
     "metadata": {},
     "output_type": "display_data"
    },
    {
     "name": "stdout",
     "output_type": "stream",
     "text": [
      "\u001B[1m\u001B[92m Epoch 263 Train DiceLoss 0.3200630061328411 Val DiceLoss 0.3113425572713216 Train dice_score 0.6799370050430298 Val dice_score 0.6886574427286783\n"
     ]
    },
    {
     "data": {
      "text/plain": [
       "  0%|          | 0/8 [00:00<?, ?it/s]"
      ],
      "application/vnd.jupyter.widget-view+json": {
       "version_major": 2,
       "version_minor": 0,
       "model_id": "e1e525f8fcd3488a8c3cbe3d69d41ba4"
      }
     },
     "metadata": {},
     "output_type": "display_data"
    },
    {
     "data": {
      "text/plain": [
       "  0%|          | 0/3 [00:00<?, ?it/s]"
      ],
      "application/vnd.jupyter.widget-view+json": {
       "version_major": 2,
       "version_minor": 0,
       "model_id": "46e5bbb3f3ae45df9b7f60c8d0a93f30"
      }
     },
     "metadata": {},
     "output_type": "display_data"
    },
    {
     "name": "stdout",
     "output_type": "stream",
     "text": [
      "\u001B[1m\u001B[92m Epoch 264 Train DiceLoss 0.31656545773148537 Val DiceLoss 0.31439311305681866 Train dice_score 0.6834345534443855 Val dice_score 0.6856069167455038\n"
     ]
    },
    {
     "data": {
      "text/plain": [
       "  0%|          | 0/8 [00:00<?, ?it/s]"
      ],
      "application/vnd.jupyter.widget-view+json": {
       "version_major": 2,
       "version_minor": 0,
       "model_id": "661cf476f12548079748534f57e57e5a"
      }
     },
     "metadata": {},
     "output_type": "display_data"
    },
    {
     "data": {
      "text/plain": [
       "  0%|          | 0/3 [00:00<?, ?it/s]"
      ],
      "application/vnd.jupyter.widget-view+json": {
       "version_major": 2,
       "version_minor": 0,
       "model_id": "b50c3cd87f8a404a8c4013a231bdb179"
      }
     },
     "metadata": {},
     "output_type": "display_data"
    },
    {
     "name": "stdout",
     "output_type": "stream",
     "text": [
      "\u001B[1m\u001B[92m Epoch 265 Train DiceLoss 0.3164643906056881 Val DiceLoss 0.31899723410606384 Train dice_score 0.6835356056690216 Val dice_score 0.6810027758280436\n"
     ]
    },
    {
     "data": {
      "text/plain": [
       "  0%|          | 0/8 [00:00<?, ?it/s]"
      ],
      "application/vnd.jupyter.widget-view+json": {
       "version_major": 2,
       "version_minor": 0,
       "model_id": "6af2efdf82134981a4f155220127c269"
      }
     },
     "metadata": {},
     "output_type": "display_data"
    },
    {
     "data": {
      "text/plain": [
       "  0%|          | 0/3 [00:00<?, ?it/s]"
      ],
      "application/vnd.jupyter.widget-view+json": {
       "version_major": 2,
       "version_minor": 0,
       "model_id": "a9056686dd224311a34018b4313e598c"
      }
     },
     "metadata": {},
     "output_type": "display_data"
    },
    {
     "name": "stdout",
     "output_type": "stream",
     "text": [
      "\u001B[1m\u001B[92m Epoch 266 Train DiceLoss 0.32761160656809807 Val DiceLoss 0.3276430269082387 Train dice_score 0.6723884046077728 Val dice_score 0.6723569830258688\n"
     ]
    },
    {
     "data": {
      "text/plain": [
       "  0%|          | 0/8 [00:00<?, ?it/s]"
      ],
      "application/vnd.jupyter.widget-view+json": {
       "version_major": 2,
       "version_minor": 0,
       "model_id": "4f38f828a966460290e200098171697f"
      }
     },
     "metadata": {},
     "output_type": "display_data"
    },
    {
     "data": {
      "text/plain": [
       "  0%|          | 0/3 [00:00<?, ?it/s]"
      ],
      "application/vnd.jupyter.widget-view+json": {
       "version_major": 2,
       "version_minor": 0,
       "model_id": "e0f6aaa7fb894dff9e58614b97e9db09"
      }
     },
     "metadata": {},
     "output_type": "display_data"
    },
    {
     "name": "stdout",
     "output_type": "stream",
     "text": [
      "\u001B[1m\u001B[92m Epoch 267 Train DiceLoss 0.3216535300016403 Val DiceLoss 0.3137050271034241 Train dice_score 0.6783464774489403 Val dice_score 0.6862949927647909\n"
     ]
    },
    {
     "data": {
      "text/plain": [
       "  0%|          | 0/8 [00:00<?, ?it/s]"
      ],
      "application/vnd.jupyter.widget-view+json": {
       "version_major": 2,
       "version_minor": 0,
       "model_id": "acd0e5f971a143649bccda1a4dc478ba"
      }
     },
     "metadata": {},
     "output_type": "display_data"
    },
    {
     "data": {
      "text/plain": [
       "  0%|          | 0/3 [00:00<?, ?it/s]"
      ],
      "application/vnd.jupyter.widget-view+json": {
       "version_major": 2,
       "version_minor": 0,
       "model_id": "591423be9a1f4f3fb1b8e45499b96989"
      }
     },
     "metadata": {},
     "output_type": "display_data"
    },
    {
     "name": "stdout",
     "output_type": "stream",
     "text": [
      "\u001B[1m\u001B[92m Epoch 268 Train DiceLoss 0.3141983263194561 Val DiceLoss 0.3162739773591359 Train dice_score 0.6858016848564148 Val dice_score 0.6837260127067566\n"
     ]
    },
    {
     "data": {
      "text/plain": [
       "  0%|          | 0/8 [00:00<?, ?it/s]"
      ],
      "application/vnd.jupyter.widget-view+json": {
       "version_major": 2,
       "version_minor": 0,
       "model_id": "efda2438eae04315880f019f7a913c8c"
      }
     },
     "metadata": {},
     "output_type": "display_data"
    },
    {
     "data": {
      "text/plain": [
       "  0%|          | 0/3 [00:00<?, ?it/s]"
      ],
      "application/vnd.jupyter.widget-view+json": {
       "version_major": 2,
       "version_minor": 0,
       "model_id": "c7f9213d7ca549308227f1d2e1bbc2d1"
      }
     },
     "metadata": {},
     "output_type": "display_data"
    },
    {
     "name": "stdout",
     "output_type": "stream",
     "text": [
      "\u001B[1m\u001B[92m Epoch 269 Train DiceLoss 0.3138584978878498 Val DiceLoss 0.3107769985993703 Train dice_score 0.6861415132880211 Val dice_score 0.6892230113347372\n"
     ]
    },
    {
     "data": {
      "text/plain": [
       "  0%|          | 0/8 [00:00<?, ?it/s]"
      ],
      "application/vnd.jupyter.widget-view+json": {
       "version_major": 2,
       "version_minor": 0,
       "model_id": "3837a2c0f4e14dab88916ba9ace38400"
      }
     },
     "metadata": {},
     "output_type": "display_data"
    },
    {
     "data": {
      "text/plain": [
       "  0%|          | 0/3 [00:00<?, ?it/s]"
      ],
      "application/vnd.jupyter.widget-view+json": {
       "version_major": 2,
       "version_minor": 0,
       "model_id": "f339fc063da245139c6180b256bd0c41"
      }
     },
     "metadata": {},
     "output_type": "display_data"
    },
    {
     "name": "stdout",
     "output_type": "stream",
     "text": [
      "MODEL SAVED\n",
      "\u001B[1m\u001B[92m Epoch 270 Train DiceLoss 0.303085632622242 Val DiceLoss 0.26737913489341736 Train dice_score 0.6969143748283386 Val dice_score 0.7326208750406901\n"
     ]
    },
    {
     "data": {
      "text/plain": [
       "  0%|          | 0/8 [00:00<?, ?it/s]"
      ],
      "application/vnd.jupyter.widget-view+json": {
       "version_major": 2,
       "version_minor": 0,
       "model_id": "f510622ee86647d6bf225a5ee73d0733"
      }
     },
     "metadata": {},
     "output_type": "display_data"
    },
    {
     "data": {
      "text/plain": [
       "  0%|          | 0/3 [00:00<?, ?it/s]"
      ],
      "application/vnd.jupyter.widget-view+json": {
       "version_major": 2,
       "version_minor": 0,
       "model_id": "d51db95693d34e7d8d180c5ad0d85237"
      }
     },
     "metadata": {},
     "output_type": "display_data"
    },
    {
     "name": "stdout",
     "output_type": "stream",
     "text": [
      "MODEL SAVED\n",
      "\u001B[1m\u001B[92m Epoch 271 Train DiceLoss 0.28140807151794434 Val DiceLoss 0.2611513634522756 Train dice_score 0.7185919433832169 Val dice_score 0.7388486464818319\n"
     ]
    },
    {
     "data": {
      "text/plain": [
       "  0%|          | 0/8 [00:00<?, ?it/s]"
      ],
      "application/vnd.jupyter.widget-view+json": {
       "version_major": 2,
       "version_minor": 0,
       "model_id": "711ac495db9248dbb1391afac0647100"
      }
     },
     "metadata": {},
     "output_type": "display_data"
    },
    {
     "data": {
      "text/plain": [
       "  0%|          | 0/3 [00:00<?, ?it/s]"
      ],
      "application/vnd.jupyter.widget-view+json": {
       "version_major": 2,
       "version_minor": 0,
       "model_id": "03a6aee3c53549008cd991f9d042e69b"
      }
     },
     "metadata": {},
     "output_type": "display_data"
    },
    {
     "name": "stdout",
     "output_type": "stream",
     "text": [
      "\u001B[1m\u001B[92m Epoch 272 Train DiceLoss 0.28437260538339615 Val DiceLoss 0.2616324524084727 Train dice_score 0.7156274169683456 Val dice_score 0.7383675575256348\n"
     ]
    },
    {
     "data": {
      "text/plain": [
       "  0%|          | 0/8 [00:00<?, ?it/s]"
      ],
      "application/vnd.jupyter.widget-view+json": {
       "version_major": 2,
       "version_minor": 0,
       "model_id": "759b55a518304161bddf8cf0142a7039"
      }
     },
     "metadata": {},
     "output_type": "display_data"
    },
    {
     "data": {
      "text/plain": [
       "  0%|          | 0/3 [00:00<?, ?it/s]"
      ],
      "application/vnd.jupyter.widget-view+json": {
       "version_major": 2,
       "version_minor": 0,
       "model_id": "0783171208b44a84bbbb38b7fecf9b65"
      }
     },
     "metadata": {},
     "output_type": "display_data"
    },
    {
     "name": "stdout",
     "output_type": "stream",
     "text": [
      "MODEL SAVED\n",
      "\u001B[1m\u001B[92m Epoch 273 Train DiceLoss 0.2769014313817024 Val DiceLoss 0.2600787778695424 Train dice_score 0.7230985686182976 Val dice_score 0.7399212320645651\n"
     ]
    },
    {
     "data": {
      "text/plain": [
       "  0%|          | 0/8 [00:00<?, ?it/s]"
      ],
      "application/vnd.jupyter.widget-view+json": {
       "version_major": 2,
       "version_minor": 0,
       "model_id": "b009d954dd4a44718988ede82314f95d"
      }
     },
     "metadata": {},
     "output_type": "display_data"
    },
    {
     "data": {
      "text/plain": [
       "  0%|          | 0/3 [00:00<?, ?it/s]"
      ],
      "application/vnd.jupyter.widget-view+json": {
       "version_major": 2,
       "version_minor": 0,
       "model_id": "30800a7efb8f4f4291c233e5678d2fa7"
      }
     },
     "metadata": {},
     "output_type": "display_data"
    },
    {
     "name": "stdout",
     "output_type": "stream",
     "text": [
      "\u001B[1m\u001B[92m Epoch 274 Train DiceLoss 0.2710607498884201 Val DiceLoss 0.2630261182785034 Train dice_score 0.7289392501115799 Val dice_score 0.7369739015897115\n"
     ]
    },
    {
     "data": {
      "text/plain": [
       "  0%|          | 0/8 [00:00<?, ?it/s]"
      ],
      "application/vnd.jupyter.widget-view+json": {
       "version_major": 2,
       "version_minor": 0,
       "model_id": "6b3c248fcc5a4a6c9116fbe858cf3bec"
      }
     },
     "metadata": {},
     "output_type": "display_data"
    },
    {
     "data": {
      "text/plain": [
       "  0%|          | 0/3 [00:00<?, ?it/s]"
      ],
      "application/vnd.jupyter.widget-view+json": {
       "version_major": 2,
       "version_minor": 0,
       "model_id": "a69a3a24eb2542c486fc01678f3bb87b"
      }
     },
     "metadata": {},
     "output_type": "display_data"
    },
    {
     "name": "stdout",
     "output_type": "stream",
     "text": [
      "\u001B[1m\u001B[92m Epoch 275 Train DiceLoss 0.269681379199028 Val DiceLoss 0.2862336536248525 Train dice_score 0.730318620800972 Val dice_score 0.713766356309255\n"
     ]
    },
    {
     "data": {
      "text/plain": [
       "  0%|          | 0/8 [00:00<?, ?it/s]"
      ],
      "application/vnd.jupyter.widget-view+json": {
       "version_major": 2,
       "version_minor": 0,
       "model_id": "badcff45cf694f71987cfec84fac28f3"
      }
     },
     "metadata": {},
     "output_type": "display_data"
    },
    {
     "data": {
      "text/plain": [
       "  0%|          | 0/3 [00:00<?, ?it/s]"
      ],
      "application/vnd.jupyter.widget-view+json": {
       "version_major": 2,
       "version_minor": 0,
       "model_id": "e3e28dc8b1ac433e9e30b0c17d1f36a0"
      }
     },
     "metadata": {},
     "output_type": "display_data"
    },
    {
     "name": "stdout",
     "output_type": "stream",
     "text": [
      "\u001B[1m\u001B[92m Epoch 276 Train DiceLoss 0.27622730657458305 Val DiceLoss 0.28392869234085083 Train dice_score 0.7237726897001266 Val dice_score 0.7160713275273641\n"
     ]
    },
    {
     "data": {
      "text/plain": [
       "  0%|          | 0/8 [00:00<?, ?it/s]"
      ],
      "application/vnd.jupyter.widget-view+json": {
       "version_major": 2,
       "version_minor": 0,
       "model_id": "29e78912ac4e4c9fbe9cc4274e8a104f"
      }
     },
     "metadata": {},
     "output_type": "display_data"
    },
    {
     "data": {
      "text/plain": [
       "  0%|          | 0/3 [00:00<?, ?it/s]"
      ],
      "application/vnd.jupyter.widget-view+json": {
       "version_major": 2,
       "version_minor": 0,
       "model_id": "3f1da6d7f8304c7d8595d8d2aba2464b"
      }
     },
     "metadata": {},
     "output_type": "display_data"
    },
    {
     "name": "stdout",
     "output_type": "stream",
     "text": [
      "MODEL SAVED\n",
      "\u001B[1m\u001B[92m Epoch 277 Train DiceLoss 0.27570756152272224 Val DiceLoss 0.25886038442452747 Train dice_score 0.7242924347519875 Val dice_score 0.7411396106084188\n"
     ]
    },
    {
     "data": {
      "text/plain": [
       "  0%|          | 0/8 [00:00<?, ?it/s]"
      ],
      "application/vnd.jupyter.widget-view+json": {
       "version_major": 2,
       "version_minor": 0,
       "model_id": "14c9eeb236414fd2a8a55a35c1747cbc"
      }
     },
     "metadata": {},
     "output_type": "display_data"
    },
    {
     "data": {
      "text/plain": [
       "  0%|          | 0/3 [00:00<?, ?it/s]"
      ],
      "application/vnd.jupyter.widget-view+json": {
       "version_major": 2,
       "version_minor": 0,
       "model_id": "0e7d3977a73f4eb1ae9be85f2e776c9d"
      }
     },
     "metadata": {},
     "output_type": "display_data"
    },
    {
     "name": "stdout",
     "output_type": "stream",
     "text": [
      "MODEL SAVED\n",
      "\u001B[1m\u001B[92m Epoch 278 Train DiceLoss 0.2689551040530205 Val DiceLoss 0.25112295647462207 Train dice_score 0.7310449033975601 Val dice_score 0.7488770286242167\n"
     ]
    },
    {
     "data": {
      "text/plain": [
       "  0%|          | 0/8 [00:00<?, ?it/s]"
      ],
      "application/vnd.jupyter.widget-view+json": {
       "version_major": 2,
       "version_minor": 0,
       "model_id": "f92da4aca75f4fea9ad14dfc4e8a7730"
      }
     },
     "metadata": {},
     "output_type": "display_data"
    },
    {
     "data": {
      "text/plain": [
       "  0%|          | 0/3 [00:00<?, ?it/s]"
      ],
      "application/vnd.jupyter.widget-view+json": {
       "version_major": 2,
       "version_minor": 0,
       "model_id": "9fde67142b614af09672a9fc4ea5165e"
      }
     },
     "metadata": {},
     "output_type": "display_data"
    },
    {
     "name": "stdout",
     "output_type": "stream",
     "text": [
      "\u001B[1m\u001B[92m Epoch 279 Train DiceLoss 0.26771625876426697 Val DiceLoss 0.26290327310562134 Train dice_score 0.7322837486863136 Val dice_score 0.7370967268943787\n"
     ]
    },
    {
     "data": {
      "text/plain": [
       "  0%|          | 0/8 [00:00<?, ?it/s]"
      ],
      "application/vnd.jupyter.widget-view+json": {
       "version_major": 2,
       "version_minor": 0,
       "model_id": "10a994ce425047d5aecb7d74ca240177"
      }
     },
     "metadata": {},
     "output_type": "display_data"
    },
    {
     "data": {
      "text/plain": [
       "  0%|          | 0/3 [00:00<?, ?it/s]"
      ],
      "application/vnd.jupyter.widget-view+json": {
       "version_major": 2,
       "version_minor": 0,
       "model_id": "70c55d2a6ac449e58b7df4f9f317e869"
      }
     },
     "metadata": {},
     "output_type": "display_data"
    },
    {
     "name": "stdout",
     "output_type": "stream",
     "text": [
      "\u001B[1m\u001B[92m Epoch 280 Train DiceLoss 0.2654638849198818 Val DiceLoss 0.2844145397345225 Train dice_score 0.7345361262559891 Val dice_score 0.715585470199585\n"
     ]
    },
    {
     "data": {
      "text/plain": [
       "  0%|          | 0/8 [00:00<?, ?it/s]"
      ],
      "application/vnd.jupyter.widget-view+json": {
       "version_major": 2,
       "version_minor": 0,
       "model_id": "a71f84e0932f430f8f5be50f0567237e"
      }
     },
     "metadata": {},
     "output_type": "display_data"
    },
    {
     "data": {
      "text/plain": [
       "  0%|          | 0/3 [00:00<?, ?it/s]"
      ],
      "application/vnd.jupyter.widget-view+json": {
       "version_major": 2,
       "version_minor": 0,
       "model_id": "e5fa0e97c8f9443289a231dd4caabbdc"
      }
     },
     "metadata": {},
     "output_type": "display_data"
    },
    {
     "name": "stdout",
     "output_type": "stream",
     "text": [
      "MODEL SAVED\n",
      "\u001B[1m\u001B[92m Epoch 281 Train DiceLoss 0.2657536491751671 Val DiceLoss 0.2506093531847 Train dice_score 0.7342463359236717 Val dice_score 0.7493906617164612\n"
     ]
    },
    {
     "data": {
      "text/plain": [
       "  0%|          | 0/8 [00:00<?, ?it/s]"
      ],
      "application/vnd.jupyter.widget-view+json": {
       "version_major": 2,
       "version_minor": 0,
       "model_id": "c5c871e5349741af949bef4a257a5a60"
      }
     },
     "metadata": {},
     "output_type": "display_data"
    },
    {
     "data": {
      "text/plain": [
       "  0%|          | 0/3 [00:00<?, ?it/s]"
      ],
      "application/vnd.jupyter.widget-view+json": {
       "version_major": 2,
       "version_minor": 0,
       "model_id": "a32a78e7fdda4cfbb90fafd6a520d812"
      }
     },
     "metadata": {},
     "output_type": "display_data"
    },
    {
     "name": "stdout",
     "output_type": "stream",
     "text": [
      "\u001B[1m\u001B[92m Epoch 282 Train DiceLoss 0.26650509610772133 Val DiceLoss 0.2581442942221959 Train dice_score 0.7334949001669884 Val dice_score 0.7418557206789652\n"
     ]
    },
    {
     "data": {
      "text/plain": [
       "  0%|          | 0/8 [00:00<?, ?it/s]"
      ],
      "application/vnd.jupyter.widget-view+json": {
       "version_major": 2,
       "version_minor": 0,
       "model_id": "cb07f40bc70c494ab11932b0cc9f4c52"
      }
     },
     "metadata": {},
     "output_type": "display_data"
    },
    {
     "data": {
      "text/plain": [
       "  0%|          | 0/3 [00:00<?, ?it/s]"
      ],
      "application/vnd.jupyter.widget-view+json": {
       "version_major": 2,
       "version_minor": 0,
       "model_id": "3a326ddc9a5f43968262fe0f0436d36f"
      }
     },
     "metadata": {},
     "output_type": "display_data"
    },
    {
     "name": "stdout",
     "output_type": "stream",
     "text": [
      "\u001B[1m\u001B[92m Epoch 283 Train DiceLoss 0.26497388258576393 Val DiceLoss 0.27456381916999817 Train dice_score 0.7350261136889458 Val dice_score 0.7254361907641093\n"
     ]
    },
    {
     "data": {
      "text/plain": [
       "  0%|          | 0/8 [00:00<?, ?it/s]"
      ],
      "application/vnd.jupyter.widget-view+json": {
       "version_major": 2,
       "version_minor": 0,
       "model_id": "3adad79007d447a4ad184732e6b53864"
      }
     },
     "metadata": {},
     "output_type": "display_data"
    },
    {
     "data": {
      "text/plain": [
       "  0%|          | 0/3 [00:00<?, ?it/s]"
      ],
      "application/vnd.jupyter.widget-view+json": {
       "version_major": 2,
       "version_minor": 0,
       "model_id": "ddb88953463a46698166472f259e8725"
      }
     },
     "metadata": {},
     "output_type": "display_data"
    },
    {
     "name": "stdout",
     "output_type": "stream",
     "text": [
      "\u001B[1m\u001B[92m Epoch 284 Train DiceLoss 0.2712930366396904 Val DiceLoss 0.25836289425690967 Train dice_score 0.728706955909729 Val dice_score 0.741637110710144\n"
     ]
    },
    {
     "data": {
      "text/plain": [
       "  0%|          | 0/8 [00:00<?, ?it/s]"
      ],
      "application/vnd.jupyter.widget-view+json": {
       "version_major": 2,
       "version_minor": 0,
       "model_id": "8102acc5bcf7431f91b96fa1585b11eb"
      }
     },
     "metadata": {},
     "output_type": "display_data"
    },
    {
     "data": {
      "text/plain": [
       "  0%|          | 0/3 [00:00<?, ?it/s]"
      ],
      "application/vnd.jupyter.widget-view+json": {
       "version_major": 2,
       "version_minor": 0,
       "model_id": "fcea3c033cce4bc5a5ab12183ff6225c"
      }
     },
     "metadata": {},
     "output_type": "display_data"
    },
    {
     "name": "stdout",
     "output_type": "stream",
     "text": [
      "\u001B[1m\u001B[92m Epoch 285 Train DiceLoss 0.26161167956888676 Val DiceLoss 0.26667254169782 Train dice_score 0.7383883222937584 Val dice_score 0.7333274483680725\n"
     ]
    },
    {
     "data": {
      "text/plain": [
       "  0%|          | 0/8 [00:00<?, ?it/s]"
      ],
      "application/vnd.jupyter.widget-view+json": {
       "version_major": 2,
       "version_minor": 0,
       "model_id": "7523ce0cd1b84e8897b04c70f8fb588f"
      }
     },
     "metadata": {},
     "output_type": "display_data"
    },
    {
     "data": {
      "text/plain": [
       "  0%|          | 0/3 [00:00<?, ?it/s]"
      ],
      "application/vnd.jupyter.widget-view+json": {
       "version_major": 2,
       "version_minor": 0,
       "model_id": "b78ee26b81bb485d802e419f69fd70b3"
      }
     },
     "metadata": {},
     "output_type": "display_data"
    },
    {
     "name": "stdout",
     "output_type": "stream",
     "text": [
      "MODEL SAVED\n",
      "\u001B[1m\u001B[92m Epoch 286 Train DiceLoss 0.26048504933714867 Val DiceLoss 0.24617522458235422 Train dice_score 0.7395149543881416 Val dice_score 0.753824770450592\n"
     ]
    },
    {
     "data": {
      "text/plain": [
       "  0%|          | 0/8 [00:00<?, ?it/s]"
      ],
      "application/vnd.jupyter.widget-view+json": {
       "version_major": 2,
       "version_minor": 0,
       "model_id": "576afc8943ca432f81c6aff79bc2ff4a"
      }
     },
     "metadata": {},
     "output_type": "display_data"
    },
    {
     "data": {
      "text/plain": [
       "  0%|          | 0/3 [00:00<?, ?it/s]"
      ],
      "application/vnd.jupyter.widget-view+json": {
       "version_major": 2,
       "version_minor": 0,
       "model_id": "ccf2a200596441c7a1eed9e89659f797"
      }
     },
     "metadata": {},
     "output_type": "display_data"
    },
    {
     "name": "stdout",
     "output_type": "stream",
     "text": [
      "\u001B[1m\u001B[92m Epoch 287 Train DiceLoss 0.2658197917044163 Val DiceLoss 0.24664068222045898 Train dice_score 0.734180212020874 Val dice_score 0.753359317779541\n"
     ]
    },
    {
     "data": {
      "text/plain": [
       "  0%|          | 0/8 [00:00<?, ?it/s]"
      ],
      "application/vnd.jupyter.widget-view+json": {
       "version_major": 2,
       "version_minor": 0,
       "model_id": "ac07efeefeb94235bdad3788202833b9"
      }
     },
     "metadata": {},
     "output_type": "display_data"
    },
    {
     "data": {
      "text/plain": [
       "  0%|          | 0/3 [00:00<?, ?it/s]"
      ],
      "application/vnd.jupyter.widget-view+json": {
       "version_major": 2,
       "version_minor": 0,
       "model_id": "ddbf603163174d6fbf9d9c950caee016"
      }
     },
     "metadata": {},
     "output_type": "display_data"
    },
    {
     "name": "stdout",
     "output_type": "stream",
     "text": [
      "\u001B[1m\u001B[92m Epoch 288 Train DiceLoss 0.2624799329787493 Val DiceLoss 0.2583293517430623 Train dice_score 0.7375200614333153 Val dice_score 0.7416706283887228\n"
     ]
    },
    {
     "data": {
      "text/plain": [
       "  0%|          | 0/8 [00:00<?, ?it/s]"
      ],
      "application/vnd.jupyter.widget-view+json": {
       "version_major": 2,
       "version_minor": 0,
       "model_id": "2ac49b0272104361a368ce11ec28e0e6"
      }
     },
     "metadata": {},
     "output_type": "display_data"
    },
    {
     "data": {
      "text/plain": [
       "  0%|          | 0/3 [00:00<?, ?it/s]"
      ],
      "application/vnd.jupyter.widget-view+json": {
       "version_major": 2,
       "version_minor": 0,
       "model_id": "32b7c736db594242bf24bf91643afb96"
      }
     },
     "metadata": {},
     "output_type": "display_data"
    },
    {
     "name": "stdout",
     "output_type": "stream",
     "text": [
      "\u001B[1m\u001B[92m Epoch 289 Train DiceLoss 0.2574998438358307 Val DiceLoss 0.25288495421409607 Train dice_score 0.7425001636147499 Val dice_score 0.7471150557200114\n"
     ]
    },
    {
     "data": {
      "text/plain": [
       "  0%|          | 0/8 [00:00<?, ?it/s]"
      ],
      "application/vnd.jupyter.widget-view+json": {
       "version_major": 2,
       "version_minor": 0,
       "model_id": "8f870b71726d4b9b91c84192be880900"
      }
     },
     "metadata": {},
     "output_type": "display_data"
    },
    {
     "data": {
      "text/plain": [
       "  0%|          | 0/3 [00:00<?, ?it/s]"
      ],
      "application/vnd.jupyter.widget-view+json": {
       "version_major": 2,
       "version_minor": 0,
       "model_id": "8b4b6e969ef84eae860455b5e188958f"
      }
     },
     "metadata": {},
     "output_type": "display_data"
    },
    {
     "name": "stdout",
     "output_type": "stream",
     "text": [
      "\u001B[1m\u001B[92m Epoch 290 Train DiceLoss 0.25881608203053474 Val DiceLoss 0.25031234323978424 Train dice_score 0.7411839291453362 Val dice_score 0.749687671661377\n"
     ]
    },
    {
     "data": {
      "text/plain": [
       "  0%|          | 0/8 [00:00<?, ?it/s]"
      ],
      "application/vnd.jupyter.widget-view+json": {
       "version_major": 2,
       "version_minor": 0,
       "model_id": "42d5071ec9a54eba8f2a744a501edfc4"
      }
     },
     "metadata": {},
     "output_type": "display_data"
    },
    {
     "data": {
      "text/plain": [
       "  0%|          | 0/3 [00:00<?, ?it/s]"
      ],
      "application/vnd.jupyter.widget-view+json": {
       "version_major": 2,
       "version_minor": 0,
       "model_id": "5e69a8aad92542f68eaee3cfb23aab25"
      }
     },
     "metadata": {},
     "output_type": "display_data"
    },
    {
     "name": "stdout",
     "output_type": "stream",
     "text": [
      "\u001B[1m\u001B[92m Epoch 291 Train DiceLoss 0.2602108307182789 Val DiceLoss 0.26674618323644 Train dice_score 0.739789180457592 Val dice_score 0.7332538366317749\n"
     ]
    },
    {
     "data": {
      "text/plain": [
       "  0%|          | 0/8 [00:00<?, ?it/s]"
      ],
      "application/vnd.jupyter.widget-view+json": {
       "version_major": 2,
       "version_minor": 0,
       "model_id": "47db4a9fefd34a618515ec56752288f4"
      }
     },
     "metadata": {},
     "output_type": "display_data"
    },
    {
     "data": {
      "text/plain": [
       "  0%|          | 0/3 [00:00<?, ?it/s]"
      ],
      "application/vnd.jupyter.widget-view+json": {
       "version_major": 2,
       "version_minor": 0,
       "model_id": "6903934246b240d9ac8fa2863a2969a3"
      }
     },
     "metadata": {},
     "output_type": "display_data"
    },
    {
     "name": "stdout",
     "output_type": "stream",
     "text": [
      "\u001B[1m\u001B[92m Epoch 292 Train DiceLoss 0.2578655257821083 Val DiceLoss 0.25261522829532623 Train dice_score 0.7421344667673111 Val dice_score 0.747384786605835\n"
     ]
    },
    {
     "data": {
      "text/plain": [
       "  0%|          | 0/8 [00:00<?, ?it/s]"
      ],
      "application/vnd.jupyter.widget-view+json": {
       "version_major": 2,
       "version_minor": 0,
       "model_id": "bbbca5a99ce24a28a30002beb0f890b8"
      }
     },
     "metadata": {},
     "output_type": "display_data"
    },
    {
     "data": {
      "text/plain": [
       "  0%|          | 0/3 [00:00<?, ?it/s]"
      ],
      "application/vnd.jupyter.widget-view+json": {
       "version_major": 2,
       "version_minor": 0,
       "model_id": "bd7e4ab8c9c042df84cd083fb1bcfc63"
      }
     },
     "metadata": {},
     "output_type": "display_data"
    },
    {
     "name": "stdout",
     "output_type": "stream",
     "text": [
      "\u001B[1m\u001B[92m Epoch 293 Train DiceLoss 0.2663780637085438 Val DiceLoss 0.27565060059229535 Train dice_score 0.7336219325661659 Val dice_score 0.7243493994077047\n"
     ]
    },
    {
     "data": {
      "text/plain": [
       "  0%|          | 0/8 [00:00<?, ?it/s]"
      ],
      "application/vnd.jupyter.widget-view+json": {
       "version_major": 2,
       "version_minor": 0,
       "model_id": "03855f6d1ac54e9691211bb1c0da53e7"
      }
     },
     "metadata": {},
     "output_type": "display_data"
    },
    {
     "data": {
      "text/plain": [
       "  0%|          | 0/3 [00:00<?, ?it/s]"
      ],
      "application/vnd.jupyter.widget-view+json": {
       "version_major": 2,
       "version_minor": 0,
       "model_id": "ccd432f55d0049eea6c17b86390f4a9e"
      }
     },
     "metadata": {},
     "output_type": "display_data"
    },
    {
     "name": "stdout",
     "output_type": "stream",
     "text": [
      "\u001B[1m\u001B[92m Epoch 294 Train DiceLoss 0.2606232836842537 Val DiceLoss 0.261847456296285 Train dice_score 0.7393767163157463 Val dice_score 0.738152543703715\n"
     ]
    },
    {
     "data": {
      "text/plain": [
       "  0%|          | 0/8 [00:00<?, ?it/s]"
      ],
      "application/vnd.jupyter.widget-view+json": {
       "version_major": 2,
       "version_minor": 0,
       "model_id": "059aedcbb05c466c8206082870fed019"
      }
     },
     "metadata": {},
     "output_type": "display_data"
    },
    {
     "data": {
      "text/plain": [
       "  0%|          | 0/3 [00:00<?, ?it/s]"
      ],
      "application/vnd.jupyter.widget-view+json": {
       "version_major": 2,
       "version_minor": 0,
       "model_id": "280ae035657c487e9ad2088b636bee48"
      }
     },
     "metadata": {},
     "output_type": "display_data"
    },
    {
     "name": "stdout",
     "output_type": "stream",
     "text": [
      "\u001B[1m\u001B[92m Epoch 295 Train DiceLoss 0.2572166286408901 Val DiceLoss 0.2566024462381999 Train dice_score 0.7427833676338196 Val dice_score 0.7433975537618002\n"
     ]
    },
    {
     "data": {
      "text/plain": [
       "  0%|          | 0/8 [00:00<?, ?it/s]"
      ],
      "application/vnd.jupyter.widget-view+json": {
       "version_major": 2,
       "version_minor": 0,
       "model_id": "7b2af2f0fd8e4626b8c5c636df6384ef"
      }
     },
     "metadata": {},
     "output_type": "display_data"
    },
    {
     "data": {
      "text/plain": [
       "  0%|          | 0/3 [00:00<?, ?it/s]"
      ],
      "application/vnd.jupyter.widget-view+json": {
       "version_major": 2,
       "version_minor": 0,
       "model_id": "f30c3f4f90ec4d6bab7f082b815fdcbf"
      }
     },
     "metadata": {},
     "output_type": "display_data"
    },
    {
     "name": "stdout",
     "output_type": "stream",
     "text": [
      "\u001B[1m\u001B[92m Epoch 296 Train DiceLoss 0.27375151216983795 Val DiceLoss 0.24709824721018472 Train dice_score 0.7262485027313232 Val dice_score 0.7529017527898153\n"
     ]
    },
    {
     "data": {
      "text/plain": [
       "  0%|          | 0/8 [00:00<?, ?it/s]"
      ],
      "application/vnd.jupyter.widget-view+json": {
       "version_major": 2,
       "version_minor": 0,
       "model_id": "b6faae5d32564e66b19cc5989cfda8c1"
      }
     },
     "metadata": {},
     "output_type": "display_data"
    },
    {
     "data": {
      "text/plain": [
       "  0%|          | 0/3 [00:00<?, ?it/s]"
      ],
      "application/vnd.jupyter.widget-view+json": {
       "version_major": 2,
       "version_minor": 0,
       "model_id": "cb4be5428e4a4785bf0f9c5a95aed382"
      }
     },
     "metadata": {},
     "output_type": "display_data"
    },
    {
     "name": "stdout",
     "output_type": "stream",
     "text": [
      "\u001B[1m\u001B[92m Epoch 297 Train DiceLoss 0.25764995254576206 Val DiceLoss 0.2645247181256612 Train dice_score 0.7423500493168831 Val dice_score 0.7354752818743387\n"
     ]
    },
    {
     "data": {
      "text/plain": [
       "  0%|          | 0/8 [00:00<?, ?it/s]"
      ],
      "application/vnd.jupyter.widget-view+json": {
       "version_major": 2,
       "version_minor": 0,
       "model_id": "b1ff91684c154d769efe17ede7ba1a27"
      }
     },
     "metadata": {},
     "output_type": "display_data"
    },
    {
     "data": {
      "text/plain": [
       "  0%|          | 0/3 [00:00<?, ?it/s]"
      ],
      "application/vnd.jupyter.widget-view+json": {
       "version_major": 2,
       "version_minor": 0,
       "model_id": "693b44782a864f6fa1fb119541e0ca73"
      }
     },
     "metadata": {},
     "output_type": "display_data"
    },
    {
     "name": "stdout",
     "output_type": "stream",
     "text": [
      "\u001B[1m\u001B[92m Epoch 298 Train DiceLoss 0.25710812769830227 Val DiceLoss 0.2514574925104777 Train dice_score 0.7428918704390526 Val dice_score 0.7485425074895223\n"
     ]
    },
    {
     "data": {
      "text/plain": [
       "  0%|          | 0/8 [00:00<?, ?it/s]"
      ],
      "application/vnd.jupyter.widget-view+json": {
       "version_major": 2,
       "version_minor": 0,
       "model_id": "27479ad31f4a4f58b49146547780f291"
      }
     },
     "metadata": {},
     "output_type": "display_data"
    },
    {
     "data": {
      "text/plain": [
       "  0%|          | 0/3 [00:00<?, ?it/s]"
      ],
      "application/vnd.jupyter.widget-view+json": {
       "version_major": 2,
       "version_minor": 0,
       "model_id": "a37a34e66c354f799ed65c9c1c0c2e15"
      }
     },
     "metadata": {},
     "output_type": "display_data"
    },
    {
     "name": "stdout",
     "output_type": "stream",
     "text": [
      "\u001B[1m\u001B[92m Epoch 299 Train DiceLoss 0.2637482136487961 Val DiceLoss 0.2578417857487996 Train dice_score 0.7362517938017845 Val dice_score 0.7421582142512003\n"
     ]
    },
    {
     "data": {
      "text/plain": [
       "  0%|          | 0/8 [00:00<?, ?it/s]"
      ],
      "application/vnd.jupyter.widget-view+json": {
       "version_major": 2,
       "version_minor": 0,
       "model_id": "0d854286e99f421aba2ed9dcfca8917b"
      }
     },
     "metadata": {},
     "output_type": "display_data"
    },
    {
     "data": {
      "text/plain": [
       "  0%|          | 0/3 [00:00<?, ?it/s]"
      ],
      "application/vnd.jupyter.widget-view+json": {
       "version_major": 2,
       "version_minor": 0,
       "model_id": "49e61a0078f74edb859b309788a5225e"
      }
     },
     "metadata": {},
     "output_type": "display_data"
    },
    {
     "name": "stdout",
     "output_type": "stream",
     "text": [
      "\u001B[1m\u001B[92m Epoch 300 Train DiceLoss 0.25924620404839516 Val DiceLoss 0.26194347937901813 Train dice_score 0.7407538071274757 Val dice_score 0.7380565404891968\n"
     ]
    },
    {
     "data": {
      "text/plain": [
       "  0%|          | 0/8 [00:00<?, ?it/s]"
      ],
      "application/vnd.jupyter.widget-view+json": {
       "version_major": 2,
       "version_minor": 0,
       "model_id": "7dfa0070c6594002af0a21d49fe82c61"
      }
     },
     "metadata": {},
     "output_type": "display_data"
    },
    {
     "data": {
      "text/plain": [
       "  0%|          | 0/3 [00:00<?, ?it/s]"
      ],
      "application/vnd.jupyter.widget-view+json": {
       "version_major": 2,
       "version_minor": 0,
       "model_id": "1604df815cb64cc88929b053b9b308b2"
      }
     },
     "metadata": {},
     "output_type": "display_data"
    },
    {
     "name": "stdout",
     "output_type": "stream",
     "text": [
      "\u001B[1m\u001B[92m Epoch 301 Train DiceLoss 0.2594907209277153 Val DiceLoss 0.24765337506930032 Train dice_score 0.7405092790722847 Val dice_score 0.7523466149965922\n"
     ]
    },
    {
     "data": {
      "text/plain": [
       "  0%|          | 0/8 [00:00<?, ?it/s]"
      ],
      "application/vnd.jupyter.widget-view+json": {
       "version_major": 2,
       "version_minor": 0,
       "model_id": "633a1afd257b4146abaddc1e766f847a"
      }
     },
     "metadata": {},
     "output_type": "display_data"
    },
    {
     "data": {
      "text/plain": [
       "  0%|          | 0/3 [00:00<?, ?it/s]"
      ],
      "application/vnd.jupyter.widget-view+json": {
       "version_major": 2,
       "version_minor": 0,
       "model_id": "ea7be79b1e0b4be597150b0b48801370"
      }
     },
     "metadata": {},
     "output_type": "display_data"
    },
    {
     "name": "stdout",
     "output_type": "stream",
     "text": [
      "\u001B[1m\u001B[92m Epoch 302 Train DiceLoss 0.2521898839622736 Val DiceLoss 0.2796940604845683 Train dice_score 0.7478101179003716 Val dice_score 0.7203059395154318\n"
     ]
    },
    {
     "data": {
      "text/plain": [
       "  0%|          | 0/8 [00:00<?, ?it/s]"
      ],
      "application/vnd.jupyter.widget-view+json": {
       "version_major": 2,
       "version_minor": 0,
       "model_id": "1da6cb30828a47bfb02ff49ba194333b"
      }
     },
     "metadata": {},
     "output_type": "display_data"
    },
    {
     "data": {
      "text/plain": [
       "  0%|          | 0/3 [00:00<?, ?it/s]"
      ],
      "application/vnd.jupyter.widget-view+json": {
       "version_major": 2,
       "version_minor": 0,
       "model_id": "119569d22a2841b6a1734aecff66c3bb"
      }
     },
     "metadata": {},
     "output_type": "display_data"
    },
    {
     "name": "stdout",
     "output_type": "stream",
     "text": [
      "\u001B[1m\u001B[92m Epoch 303 Train DiceLoss 0.2608571704477072 Val DiceLoss 0.2931251923243205 Train dice_score 0.7391428276896477 Val dice_score 0.7068748076756796\n"
     ]
    },
    {
     "data": {
      "text/plain": [
       "  0%|          | 0/8 [00:00<?, ?it/s]"
      ],
      "application/vnd.jupyter.widget-view+json": {
       "version_major": 2,
       "version_minor": 0,
       "model_id": "730202ed26a24cacaa62b6e78eb4d303"
      }
     },
     "metadata": {},
     "output_type": "display_data"
    },
    {
     "data": {
      "text/plain": [
       "  0%|          | 0/3 [00:00<?, ?it/s]"
      ],
      "application/vnd.jupyter.widget-view+json": {
       "version_major": 2,
       "version_minor": 0,
       "model_id": "5ea3013051a24c4fb01632f22b33c714"
      }
     },
     "metadata": {},
     "output_type": "display_data"
    },
    {
     "name": "stdout",
     "output_type": "stream",
     "text": [
      "\u001B[1m\u001B[92m Epoch 304 Train DiceLoss 0.2602744046598673 Val DiceLoss 0.2514711221059163 Train dice_score 0.7397255972027779 Val dice_score 0.7485288778940836\n"
     ]
    },
    {
     "data": {
      "text/plain": [
       "  0%|          | 0/8 [00:00<?, ?it/s]"
      ],
      "application/vnd.jupyter.widget-view+json": {
       "version_major": 2,
       "version_minor": 0,
       "model_id": "af088bd092a942528b223e6e5524b148"
      }
     },
     "metadata": {},
     "output_type": "display_data"
    },
    {
     "data": {
      "text/plain": [
       "  0%|          | 0/3 [00:00<?, ?it/s]"
      ],
      "application/vnd.jupyter.widget-view+json": {
       "version_major": 2,
       "version_minor": 0,
       "model_id": "181cc42610a94db682dac85c0c0a8a12"
      }
     },
     "metadata": {},
     "output_type": "display_data"
    },
    {
     "name": "stdout",
     "output_type": "stream",
     "text": [
      "\u001B[1m\u001B[92m Epoch 305 Train DiceLoss 0.2531544230878353 Val DiceLoss 0.25208645065625507 Train dice_score 0.7468455731868744 Val dice_score 0.7479135592778524\n"
     ]
    },
    {
     "data": {
      "text/plain": [
       "  0%|          | 0/8 [00:00<?, ?it/s]"
      ],
      "application/vnd.jupyter.widget-view+json": {
       "version_major": 2,
       "version_minor": 0,
       "model_id": "fa7e35be653e4c0f86b27a949d48ab77"
      }
     },
     "metadata": {},
     "output_type": "display_data"
    },
    {
     "data": {
      "text/plain": [
       "  0%|          | 0/3 [00:00<?, ?it/s]"
      ],
      "application/vnd.jupyter.widget-view+json": {
       "version_major": 2,
       "version_minor": 0,
       "model_id": "a2a0596c04bf471caa6093be6af7ee51"
      }
     },
     "metadata": {},
     "output_type": "display_data"
    },
    {
     "name": "stdout",
     "output_type": "stream",
     "text": [
      "\u001B[1m\u001B[92m Epoch 306 Train DiceLoss 0.2583266794681549 Val DiceLoss 0.26436670621236164 Train dice_score 0.7416733279824257 Val dice_score 0.7356332937876383\n"
     ]
    },
    {
     "data": {
      "text/plain": [
       "  0%|          | 0/8 [00:00<?, ?it/s]"
      ],
      "application/vnd.jupyter.widget-view+json": {
       "version_major": 2,
       "version_minor": 0,
       "model_id": "1179545c067b41c0911a9ec6c1f42ca9"
      }
     },
     "metadata": {},
     "output_type": "display_data"
    },
    {
     "data": {
      "text/plain": [
       "  0%|          | 0/3 [00:00<?, ?it/s]"
      ],
      "application/vnd.jupyter.widget-view+json": {
       "version_major": 2,
       "version_minor": 0,
       "model_id": "59d713fd256f40039837fa3184fa4477"
      }
     },
     "metadata": {},
     "output_type": "display_data"
    },
    {
     "name": "stdout",
     "output_type": "stream",
     "text": [
      "\u001B[1m\u001B[92m Epoch 307 Train DiceLoss 0.25909615121781826 Val DiceLoss 0.26050888498624164 Train dice_score 0.740903839468956 Val dice_score 0.7394911249478658\n"
     ]
    },
    {
     "data": {
      "text/plain": [
       "  0%|          | 0/8 [00:00<?, ?it/s]"
      ],
      "application/vnd.jupyter.widget-view+json": {
       "version_major": 2,
       "version_minor": 0,
       "model_id": "f74255b69335436f811b264212e55e9b"
      }
     },
     "metadata": {},
     "output_type": "display_data"
    },
    {
     "data": {
      "text/plain": [
       "  0%|          | 0/3 [00:00<?, ?it/s]"
      ],
      "application/vnd.jupyter.widget-view+json": {
       "version_major": 2,
       "version_minor": 0,
       "model_id": "07532547db5d488bb404a895190a81dd"
      }
     },
     "metadata": {},
     "output_type": "display_data"
    },
    {
     "name": "stdout",
     "output_type": "stream",
     "text": [
      "\u001B[1m\u001B[92m Epoch 308 Train DiceLoss 0.26178234815597534 Val DiceLoss 0.24852449198563895 Train dice_score 0.7382176667451859 Val dice_score 0.7514755129814148\n"
     ]
    },
    {
     "data": {
      "text/plain": [
       "  0%|          | 0/8 [00:00<?, ?it/s]"
      ],
      "application/vnd.jupyter.widget-view+json": {
       "version_major": 2,
       "version_minor": 0,
       "model_id": "ada5e5d2fa904bc79dc2eba7e7b1347c"
      }
     },
     "metadata": {},
     "output_type": "display_data"
    },
    {
     "data": {
      "text/plain": [
       "  0%|          | 0/3 [00:00<?, ?it/s]"
      ],
      "application/vnd.jupyter.widget-view+json": {
       "version_major": 2,
       "version_minor": 0,
       "model_id": "10abc50c9ec54e4f9f9edbd482b5ff0e"
      }
     },
     "metadata": {},
     "output_type": "display_data"
    },
    {
     "name": "stdout",
     "output_type": "stream",
     "text": [
      "MODEL SAVED\n",
      "\u001B[1m\u001B[92m Epoch 309 Train DiceLoss 0.2622250020503998 Val DiceLoss 0.24346078435579935 Train dice_score 0.7377749979496002 Val dice_score 0.7565392057100931\n"
     ]
    },
    {
     "data": {
      "text/plain": [
       "  0%|          | 0/8 [00:00<?, ?it/s]"
      ],
      "application/vnd.jupyter.widget-view+json": {
       "version_major": 2,
       "version_minor": 0,
       "model_id": "a579ad49c8e6476e9b810daea42456b4"
      }
     },
     "metadata": {},
     "output_type": "display_data"
    },
    {
     "data": {
      "text/plain": [
       "  0%|          | 0/3 [00:00<?, ?it/s]"
      ],
      "application/vnd.jupyter.widget-view+json": {
       "version_major": 2,
       "version_minor": 0,
       "model_id": "a2b8cf42e33e4f09815c0e118241c4d2"
      }
     },
     "metadata": {},
     "output_type": "display_data"
    },
    {
     "name": "stdout",
     "output_type": "stream",
     "text": [
      "\u001B[1m\u001B[92m Epoch 310 Train DiceLoss 0.251532644033432 Val DiceLoss 0.2633857826391856 Train dice_score 0.7484673485159874 Val dice_score 0.7366141875584921\n"
     ]
    },
    {
     "data": {
      "text/plain": [
       "  0%|          | 0/8 [00:00<?, ?it/s]"
      ],
      "application/vnd.jupyter.widget-view+json": {
       "version_major": 2,
       "version_minor": 0,
       "model_id": "20969beeadc148ef8e94cd48ad1ebf71"
      }
     },
     "metadata": {},
     "output_type": "display_data"
    },
    {
     "data": {
      "text/plain": [
       "  0%|          | 0/3 [00:00<?, ?it/s]"
      ],
      "application/vnd.jupyter.widget-view+json": {
       "version_major": 2,
       "version_minor": 0,
       "model_id": "e7f4e807299144db9bb8d6a8cc87fc3e"
      }
     },
     "metadata": {},
     "output_type": "display_data"
    },
    {
     "name": "stdout",
     "output_type": "stream",
     "text": [
      "\u001B[1m\u001B[92m Epoch 311 Train DiceLoss 0.25198801793158054 Val DiceLoss 0.2775692145029704 Train dice_score 0.7480119839310646 Val dice_score 0.7224307854970297\n"
     ]
    },
    {
     "data": {
      "text/plain": [
       "  0%|          | 0/8 [00:00<?, ?it/s]"
      ],
      "application/vnd.jupyter.widget-view+json": {
       "version_major": 2,
       "version_minor": 0,
       "model_id": "6f58cc19f2f4459d85654e3447dd74eb"
      }
     },
     "metadata": {},
     "output_type": "display_data"
    },
    {
     "data": {
      "text/plain": [
       "  0%|          | 0/3 [00:00<?, ?it/s]"
      ],
      "application/vnd.jupyter.widget-view+json": {
       "version_major": 2,
       "version_minor": 0,
       "model_id": "18c72fd438e5482b9c0ca794398814e9"
      }
     },
     "metadata": {},
     "output_type": "display_data"
    },
    {
     "name": "stdout",
     "output_type": "stream",
     "text": [
      "\u001B[1m\u001B[92m Epoch 312 Train DiceLoss 0.25438625179231167 Val DiceLoss 0.2553366820017497 Train dice_score 0.7456137463450432 Val dice_score 0.7446633378664652\n"
     ]
    },
    {
     "data": {
      "text/plain": [
       "  0%|          | 0/8 [00:00<?, ?it/s]"
      ],
      "application/vnd.jupyter.widget-view+json": {
       "version_major": 2,
       "version_minor": 0,
       "model_id": "25b4ed813e784e96bf9f7cc0361e3b00"
      }
     },
     "metadata": {},
     "output_type": "display_data"
    },
    {
     "data": {
      "text/plain": [
       "  0%|          | 0/3 [00:00<?, ?it/s]"
      ],
      "application/vnd.jupyter.widget-view+json": {
       "version_major": 2,
       "version_minor": 0,
       "model_id": "06473252cf804a629e2992fb967a3da5"
      }
     },
     "metadata": {},
     "output_type": "display_data"
    },
    {
     "name": "stdout",
     "output_type": "stream",
     "text": [
      "\u001B[1m\u001B[92m Epoch 313 Train DiceLoss 0.25486379861831665 Val DiceLoss 0.2471815844376882 Train dice_score 0.7451362013816833 Val dice_score 0.7528184056282043\n"
     ]
    },
    {
     "data": {
      "text/plain": [
       "  0%|          | 0/8 [00:00<?, ?it/s]"
      ],
      "application/vnd.jupyter.widget-view+json": {
       "version_major": 2,
       "version_minor": 0,
       "model_id": "af86813c97f44880844c6875937722ba"
      }
     },
     "metadata": {},
     "output_type": "display_data"
    },
    {
     "data": {
      "text/plain": [
       "  0%|          | 0/3 [00:00<?, ?it/s]"
      ],
      "application/vnd.jupyter.widget-view+json": {
       "version_major": 2,
       "version_minor": 0,
       "model_id": "cd684b49928a4fbc9a179a7c84258ac1"
      }
     },
     "metadata": {},
     "output_type": "display_data"
    },
    {
     "name": "stdout",
     "output_type": "stream",
     "text": [
      "\u001B[1m\u001B[92m Epoch 314 Train DiceLoss 0.2517095375806093 Val DiceLoss 0.2587341566880544 Train dice_score 0.7482904493808746 Val dice_score 0.7412658532460531\n"
     ]
    },
    {
     "data": {
      "text/plain": [
       "  0%|          | 0/8 [00:00<?, ?it/s]"
      ],
      "application/vnd.jupyter.widget-view+json": {
       "version_major": 2,
       "version_minor": 0,
       "model_id": "b3d9d98d013342cbbd701496d20928ae"
      }
     },
     "metadata": {},
     "output_type": "display_data"
    },
    {
     "data": {
      "text/plain": [
       "  0%|          | 0/3 [00:00<?, ?it/s]"
      ],
      "application/vnd.jupyter.widget-view+json": {
       "version_major": 2,
       "version_minor": 0,
       "model_id": "82d034152fdc46748b58284e58900cf7"
      }
     },
     "metadata": {},
     "output_type": "display_data"
    },
    {
     "name": "stdout",
     "output_type": "stream",
     "text": [
      "\u001B[1m\u001B[92m Epoch 315 Train DiceLoss 0.26555728167295456 Val DiceLoss 0.26686376333236694 Train dice_score 0.734442725777626 Val dice_score 0.7331362366676331\n"
     ]
    },
    {
     "data": {
      "text/plain": [
       "  0%|          | 0/8 [00:00<?, ?it/s]"
      ],
      "application/vnd.jupyter.widget-view+json": {
       "version_major": 2,
       "version_minor": 0,
       "model_id": "525a28761e214192a6c3ace6950bb590"
      }
     },
     "metadata": {},
     "output_type": "display_data"
    },
    {
     "data": {
      "text/plain": [
       "  0%|          | 0/3 [00:00<?, ?it/s]"
      ],
      "application/vnd.jupyter.widget-view+json": {
       "version_major": 2,
       "version_minor": 0,
       "model_id": "6aab76821b54405f81f28edd1274d30f"
      }
     },
     "metadata": {},
     "output_type": "display_data"
    },
    {
     "name": "stdout",
     "output_type": "stream",
     "text": [
      "\u001B[1m\u001B[92m Epoch 316 Train DiceLoss 0.2511155977845192 Val DiceLoss 0.2673569917678833 Train dice_score 0.7488844022154808 Val dice_score 0.7326430082321167\n"
     ]
    },
    {
     "data": {
      "text/plain": [
       "  0%|          | 0/8 [00:00<?, ?it/s]"
      ],
      "application/vnd.jupyter.widget-view+json": {
       "version_major": 2,
       "version_minor": 0,
       "model_id": "49e1249a01c243dd9ddaf40866f3e222"
      }
     },
     "metadata": {},
     "output_type": "display_data"
    },
    {
     "data": {
      "text/plain": [
       "  0%|          | 0/3 [00:00<?, ?it/s]"
      ],
      "application/vnd.jupyter.widget-view+json": {
       "version_major": 2,
       "version_minor": 0,
       "model_id": "8ec1c5b91a1e45969c15b06ae10cd8d2"
      }
     },
     "metadata": {},
     "output_type": "display_data"
    },
    {
     "name": "stdout",
     "output_type": "stream",
     "text": [
      "\u001B[1m\u001B[92m Epoch 317 Train DiceLoss 0.26123649440705776 Val DiceLoss 0.2518552094697952 Train dice_score 0.7387634962797165 Val dice_score 0.748144785563151\n"
     ]
    },
    {
     "data": {
      "text/plain": [
       "  0%|          | 0/8 [00:00<?, ?it/s]"
      ],
      "application/vnd.jupyter.widget-view+json": {
       "version_major": 2,
       "version_minor": 0,
       "model_id": "e51b2bad11e345df95d9849a088573ef"
      }
     },
     "metadata": {},
     "output_type": "display_data"
    },
    {
     "data": {
      "text/plain": [
       "  0%|          | 0/3 [00:00<?, ?it/s]"
      ],
      "application/vnd.jupyter.widget-view+json": {
       "version_major": 2,
       "version_minor": 0,
       "model_id": "b761d79ab9d54836b28d427cff7ea278"
      }
     },
     "metadata": {},
     "output_type": "display_data"
    },
    {
     "name": "stdout",
     "output_type": "stream",
     "text": [
      "\u001B[1m\u001B[92m Epoch 318 Train DiceLoss 0.2552236206829548 Val DiceLoss 0.2609018385410309 Train dice_score 0.7447763830423355 Val dice_score 0.7390981713930765\n"
     ]
    },
    {
     "data": {
      "text/plain": [
       "  0%|          | 0/8 [00:00<?, ?it/s]"
      ],
      "application/vnd.jupyter.widget-view+json": {
       "version_major": 2,
       "version_minor": 0,
       "model_id": "127d4a32b9fd4a6db82ab4960f601c7a"
      }
     },
     "metadata": {},
     "output_type": "display_data"
    },
    {
     "data": {
      "text/plain": [
       "  0%|          | 0/3 [00:00<?, ?it/s]"
      ],
      "application/vnd.jupyter.widget-view+json": {
       "version_major": 2,
       "version_minor": 0,
       "model_id": "6632c0c8a38746389da259e3abc22d59"
      }
     },
     "metadata": {},
     "output_type": "display_data"
    },
    {
     "name": "stdout",
     "output_type": "stream",
     "text": [
      "\u001B[1m\u001B[92m Epoch 319 Train DiceLoss 0.2555940914899111 Val DiceLoss 0.24651343127091727 Train dice_score 0.7444059252738953 Val dice_score 0.7534865736961365\n"
     ]
    },
    {
     "data": {
      "text/plain": [
       "  0%|          | 0/8 [00:00<?, ?it/s]"
      ],
      "application/vnd.jupyter.widget-view+json": {
       "version_major": 2,
       "version_minor": 0,
       "model_id": "858c214730094716b2d2df926c8d3f37"
      }
     },
     "metadata": {},
     "output_type": "display_data"
    },
    {
     "data": {
      "text/plain": [
       "  0%|          | 0/3 [00:00<?, ?it/s]"
      ],
      "application/vnd.jupyter.widget-view+json": {
       "version_major": 2,
       "version_minor": 0,
       "model_id": "8c8439946f234f4ba4c69742dbfe79b6"
      }
     },
     "metadata": {},
     "output_type": "display_data"
    },
    {
     "name": "stdout",
     "output_type": "stream",
     "text": [
      "MODEL SAVED\n",
      "\u001B[1m\u001B[92m Epoch 320 Train DiceLoss 0.2537242043763399 Val DiceLoss 0.24338881174723306 Train dice_score 0.746275782585144 Val dice_score 0.756611188252767\n"
     ]
    },
    {
     "data": {
      "text/plain": [
       "  0%|          | 0/8 [00:00<?, ?it/s]"
      ],
      "application/vnd.jupyter.widget-view+json": {
       "version_major": 2,
       "version_minor": 0,
       "model_id": "1fc3101f37f34d6586f6781175f7143f"
      }
     },
     "metadata": {},
     "output_type": "display_data"
    },
    {
     "data": {
      "text/plain": [
       "  0%|          | 0/3 [00:00<?, ?it/s]"
      ],
      "application/vnd.jupyter.widget-view+json": {
       "version_major": 2,
       "version_minor": 0,
       "model_id": "48cf4b966bf542118cecab794e595de6"
      }
     },
     "metadata": {},
     "output_type": "display_data"
    },
    {
     "name": "stdout",
     "output_type": "stream",
     "text": [
      "\u001B[1m\u001B[92m Epoch 321 Train DiceLoss 0.2563397027552128 Val DiceLoss 0.25368012487888336 Train dice_score 0.7436602935194969 Val dice_score 0.7463198900222778\n"
     ]
    },
    {
     "data": {
      "text/plain": [
       "  0%|          | 0/8 [00:00<?, ?it/s]"
      ],
      "application/vnd.jupyter.widget-view+json": {
       "version_major": 2,
       "version_minor": 0,
       "model_id": "caaed0e11a9c46d3b5aef23f7ebd895f"
      }
     },
     "metadata": {},
     "output_type": "display_data"
    },
    {
     "data": {
      "text/plain": [
       "  0%|          | 0/3 [00:00<?, ?it/s]"
      ],
      "application/vnd.jupyter.widget-view+json": {
       "version_major": 2,
       "version_minor": 0,
       "model_id": "812e06fedc1745429384b62bb4bf2185"
      }
     },
     "metadata": {},
     "output_type": "display_data"
    },
    {
     "name": "stdout",
     "output_type": "stream",
     "text": [
      "\u001B[1m\u001B[92m Epoch 322 Train DiceLoss 0.25528019294142723 Val DiceLoss 0.25492846965789795 Train dice_score 0.7447198033332825 Val dice_score 0.745071530342102\n"
     ]
    },
    {
     "data": {
      "text/plain": [
       "  0%|          | 0/8 [00:00<?, ?it/s]"
      ],
      "application/vnd.jupyter.widget-view+json": {
       "version_major": 2,
       "version_minor": 0,
       "model_id": "dabb82340f164027a9ac0a400f2b6e99"
      }
     },
     "metadata": {},
     "output_type": "display_data"
    },
    {
     "data": {
      "text/plain": [
       "  0%|          | 0/3 [00:00<?, ?it/s]"
      ],
      "application/vnd.jupyter.widget-view+json": {
       "version_major": 2,
       "version_minor": 0,
       "model_id": "2d4fdd4ad5a6413f88c40e9da254a18c"
      }
     },
     "metadata": {},
     "output_type": "display_data"
    },
    {
     "name": "stdout",
     "output_type": "stream",
     "text": [
      "\u001B[1m\u001B[92m Epoch 323 Train DiceLoss 0.25100024603307247 Val DiceLoss 0.2487819492816925 Train dice_score 0.748999759554863 Val dice_score 0.7512180606524149\n"
     ]
    },
    {
     "data": {
      "text/plain": [
       "  0%|          | 0/8 [00:00<?, ?it/s]"
      ],
      "application/vnd.jupyter.widget-view+json": {
       "version_major": 2,
       "version_minor": 0,
       "model_id": "4480c63ff2de492da3fc4d835c85b3dc"
      }
     },
     "metadata": {},
     "output_type": "display_data"
    },
    {
     "data": {
      "text/plain": [
       "  0%|          | 0/3 [00:00<?, ?it/s]"
      ],
      "application/vnd.jupyter.widget-view+json": {
       "version_major": 2,
       "version_minor": 0,
       "model_id": "1b417b858338413f9f35f5eca6f89193"
      }
     },
     "metadata": {},
     "output_type": "display_data"
    },
    {
     "name": "stdout",
     "output_type": "stream",
     "text": [
      "MODEL SAVED\n",
      "\u001B[1m\u001B[92m Epoch 324 Train DiceLoss 0.25863067060709 Val DiceLoss 0.24105928341547647 Train dice_score 0.7413693368434906 Val dice_score 0.7589407165845236\n"
     ]
    },
    {
     "data": {
      "text/plain": [
       "  0%|          | 0/8 [00:00<?, ?it/s]"
      ],
      "application/vnd.jupyter.widget-view+json": {
       "version_major": 2,
       "version_minor": 0,
       "model_id": "c930e3b7abad48da81c01fe110e2ad19"
      }
     },
     "metadata": {},
     "output_type": "display_data"
    },
    {
     "data": {
      "text/plain": [
       "  0%|          | 0/3 [00:00<?, ?it/s]"
      ],
      "application/vnd.jupyter.widget-view+json": {
       "version_major": 2,
       "version_minor": 0,
       "model_id": "8cc740ce09884b5484248fe6b2202092"
      }
     },
     "metadata": {},
     "output_type": "display_data"
    },
    {
     "name": "stdout",
     "output_type": "stream",
     "text": [
      "\u001B[1m\u001B[92m Epoch 325 Train DiceLoss 0.24995063245296478 Val DiceLoss 0.26819030443827313 Train dice_score 0.7500493675470352 Val dice_score 0.7318096955617269\n"
     ]
    },
    {
     "data": {
      "text/plain": [
       "  0%|          | 0/8 [00:00<?, ?it/s]"
      ],
      "application/vnd.jupyter.widget-view+json": {
       "version_major": 2,
       "version_minor": 0,
       "model_id": "a8f770c6a1904087bf2c6314b6193d74"
      }
     },
     "metadata": {},
     "output_type": "display_data"
    },
    {
     "data": {
      "text/plain": [
       "  0%|          | 0/3 [00:00<?, ?it/s]"
      ],
      "application/vnd.jupyter.widget-view+json": {
       "version_major": 2,
       "version_minor": 0,
       "model_id": "56a343ade5da4d5e8a768b3cbad8ee5b"
      }
     },
     "metadata": {},
     "output_type": "display_data"
    },
    {
     "name": "stdout",
     "output_type": "stream",
     "text": [
      "\u001B[1m\u001B[92m Epoch 326 Train DiceLoss 0.24986143223941326 Val DiceLoss 0.25012363493442535 Train dice_score 0.750138558447361 Val dice_score 0.7498763799667358\n"
     ]
    },
    {
     "data": {
      "text/plain": [
       "  0%|          | 0/8 [00:00<?, ?it/s]"
      ],
      "application/vnd.jupyter.widget-view+json": {
       "version_major": 2,
       "version_minor": 0,
       "model_id": "cea5faaf6daf48d7bce16b71381da6d9"
      }
     },
     "metadata": {},
     "output_type": "display_data"
    },
    {
     "data": {
      "text/plain": [
       "  0%|          | 0/3 [00:00<?, ?it/s]"
      ],
      "application/vnd.jupyter.widget-view+json": {
       "version_major": 2,
       "version_minor": 0,
       "model_id": "dcd93e4521384ab38f3ab5595c343702"
      }
     },
     "metadata": {},
     "output_type": "display_data"
    },
    {
     "name": "stdout",
     "output_type": "stream",
     "text": [
      "\u001B[1m\u001B[92m Epoch 327 Train DiceLoss 0.2561310287564993 Val DiceLoss 0.25212377806504566 Train dice_score 0.7438689768314362 Val dice_score 0.7478762070337931\n"
     ]
    },
    {
     "data": {
      "text/plain": [
       "  0%|          | 0/8 [00:00<?, ?it/s]"
      ],
      "application/vnd.jupyter.widget-view+json": {
       "version_major": 2,
       "version_minor": 0,
       "model_id": "93d6f72759174b07be684a9e15f60dee"
      }
     },
     "metadata": {},
     "output_type": "display_data"
    },
    {
     "data": {
      "text/plain": [
       "  0%|          | 0/3 [00:00<?, ?it/s]"
      ],
      "application/vnd.jupyter.widget-view+json": {
       "version_major": 2,
       "version_minor": 0,
       "model_id": "ad25ad679c874a02bfefdea1a166137c"
      }
     },
     "metadata": {},
     "output_type": "display_data"
    },
    {
     "name": "stdout",
     "output_type": "stream",
     "text": [
      "\u001B[1m\u001B[92m Epoch 328 Train DiceLoss 0.2514392361044884 Val DiceLoss 0.26292547583580017 Train dice_score 0.7485607638955116 Val dice_score 0.7370745142300924\n"
     ]
    },
    {
     "data": {
      "text/plain": [
       "  0%|          | 0/8 [00:00<?, ?it/s]"
      ],
      "application/vnd.jupyter.widget-view+json": {
       "version_major": 2,
       "version_minor": 0,
       "model_id": "7ab65ba5e05b4752b879709c18df67f3"
      }
     },
     "metadata": {},
     "output_type": "display_data"
    },
    {
     "data": {
      "text/plain": [
       "  0%|          | 0/3 [00:00<?, ?it/s]"
      ],
      "application/vnd.jupyter.widget-view+json": {
       "version_major": 2,
       "version_minor": 0,
       "model_id": "aa3dcaece04e449d8fa9fdd9e568d96e"
      }
     },
     "metadata": {},
     "output_type": "display_data"
    },
    {
     "name": "stdout",
     "output_type": "stream",
     "text": [
      "\u001B[1m\u001B[92m Epoch 329 Train DiceLoss 0.2564446423202753 Val DiceLoss 0.27087488770484924 Train dice_score 0.7435553595423698 Val dice_score 0.7291251222292582\n"
     ]
    },
    {
     "data": {
      "text/plain": [
       "  0%|          | 0/8 [00:00<?, ?it/s]"
      ],
      "application/vnd.jupyter.widget-view+json": {
       "version_major": 2,
       "version_minor": 0,
       "model_id": "e162799ba63f4f08971e097552444c44"
      }
     },
     "metadata": {},
     "output_type": "display_data"
    },
    {
     "data": {
      "text/plain": [
       "  0%|          | 0/3 [00:00<?, ?it/s]"
      ],
      "application/vnd.jupyter.widget-view+json": {
       "version_major": 2,
       "version_minor": 0,
       "model_id": "c1706585d3a147bdb79b5152278f876f"
      }
     },
     "metadata": {},
     "output_type": "display_data"
    },
    {
     "name": "stdout",
     "output_type": "stream",
     "text": [
      "\u001B[1m\u001B[92m Epoch 330 Train DiceLoss 0.2481811698526144 Val DiceLoss 0.24937768777211508 Train dice_score 0.751818835735321 Val dice_score 0.7506223122278849\n"
     ]
    },
    {
     "data": {
      "text/plain": [
       "  0%|          | 0/8 [00:00<?, ?it/s]"
      ],
      "application/vnd.jupyter.widget-view+json": {
       "version_major": 2,
       "version_minor": 0,
       "model_id": "e172951bceec40e1b3c1fa80b9c8c0ac"
      }
     },
     "metadata": {},
     "output_type": "display_data"
    },
    {
     "data": {
      "text/plain": [
       "  0%|          | 0/3 [00:00<?, ?it/s]"
      ],
      "application/vnd.jupyter.widget-view+json": {
       "version_major": 2,
       "version_minor": 0,
       "model_id": "470fb0cc268d4ae69182322c376dbec2"
      }
     },
     "metadata": {},
     "output_type": "display_data"
    },
    {
     "name": "stdout",
     "output_type": "stream",
     "text": [
      "\u001B[1m\u001B[92m Epoch 331 Train DiceLoss 0.2507934644818306 Val DiceLoss 0.2612418631712596 Train dice_score 0.74920654296875 Val dice_score 0.7387581268946329\n"
     ]
    },
    {
     "data": {
      "text/plain": [
       "  0%|          | 0/8 [00:00<?, ?it/s]"
      ],
      "application/vnd.jupyter.widget-view+json": {
       "version_major": 2,
       "version_minor": 0,
       "model_id": "85d90f8f52fe409884a625e0f7426dd9"
      }
     },
     "metadata": {},
     "output_type": "display_data"
    },
    {
     "data": {
      "text/plain": [
       "  0%|          | 0/3 [00:00<?, ?it/s]"
      ],
      "application/vnd.jupyter.widget-view+json": {
       "version_major": 2,
       "version_minor": 0,
       "model_id": "125b7983076c4712b19ca9119e3658cd"
      }
     },
     "metadata": {},
     "output_type": "display_data"
    },
    {
     "name": "stdout",
     "output_type": "stream",
     "text": [
      "\u001B[1m\u001B[92m Epoch 332 Train DiceLoss 0.25100378692150116 Val DiceLoss 0.24919759730497995 Train dice_score 0.7489962130784988 Val dice_score 0.7508024175961813\n"
     ]
    },
    {
     "data": {
      "text/plain": [
       "  0%|          | 0/8 [00:00<?, ?it/s]"
      ],
      "application/vnd.jupyter.widget-view+json": {
       "version_major": 2,
       "version_minor": 0,
       "model_id": "11ef6676eea14aebb4abc6075f06ae7b"
      }
     },
     "metadata": {},
     "output_type": "display_data"
    },
    {
     "data": {
      "text/plain": [
       "  0%|          | 0/3 [00:00<?, ?it/s]"
      ],
      "application/vnd.jupyter.widget-view+json": {
       "version_major": 2,
       "version_minor": 0,
       "model_id": "61c5646856dc4cbabdcf921ea4f77aa9"
      }
     },
     "metadata": {},
     "output_type": "display_data"
    },
    {
     "name": "stdout",
     "output_type": "stream",
     "text": [
      "\u001B[1m\u001B[92m Epoch 333 Train DiceLoss 0.24629030004143715 Val DiceLoss 0.2613260547320048 Train dice_score 0.7537096962332726 Val dice_score 0.7386739452679952\n"
     ]
    },
    {
     "data": {
      "text/plain": [
       "  0%|          | 0/8 [00:00<?, ?it/s]"
      ],
      "application/vnd.jupyter.widget-view+json": {
       "version_major": 2,
       "version_minor": 0,
       "model_id": "435dfa8125b74f7e851e1388a98c9b33"
      }
     },
     "metadata": {},
     "output_type": "display_data"
    },
    {
     "data": {
      "text/plain": [
       "  0%|          | 0/3 [00:00<?, ?it/s]"
      ],
      "application/vnd.jupyter.widget-view+json": {
       "version_major": 2,
       "version_minor": 0,
       "model_id": "d4ada0be3a334d85acfdf4e0ccfe37a7"
      }
     },
     "metadata": {},
     "output_type": "display_data"
    },
    {
     "name": "stdout",
     "output_type": "stream",
     "text": [
      "\u001B[1m\u001B[92m Epoch 334 Train DiceLoss 0.2492693979293108 Val DiceLoss 0.24580863118171692 Train dice_score 0.7507306188344955 Val dice_score 0.7541913787523905\n"
     ]
    },
    {
     "data": {
      "text/plain": [
       "  0%|          | 0/8 [00:00<?, ?it/s]"
      ],
      "application/vnd.jupyter.widget-view+json": {
       "version_major": 2,
       "version_minor": 0,
       "model_id": "b7c6d0b5a4294285b156be64a14186b5"
      }
     },
     "metadata": {},
     "output_type": "display_data"
    },
    {
     "data": {
      "text/plain": [
       "  0%|          | 0/3 [00:00<?, ?it/s]"
      ],
      "application/vnd.jupyter.widget-view+json": {
       "version_major": 2,
       "version_minor": 0,
       "model_id": "695b9d4092fc438da671edb87800dd80"
      }
     },
     "metadata": {},
     "output_type": "display_data"
    },
    {
     "name": "stdout",
     "output_type": "stream",
     "text": [
      "\u001B[1m\u001B[92m Epoch 335 Train DiceLoss 0.25254362262785435 Val DiceLoss 0.26753121614456177 Train dice_score 0.7474563792347908 Val dice_score 0.7324687838554382\n"
     ]
    },
    {
     "data": {
      "text/plain": [
       "  0%|          | 0/8 [00:00<?, ?it/s]"
      ],
      "application/vnd.jupyter.widget-view+json": {
       "version_major": 2,
       "version_minor": 0,
       "model_id": "06188723a79047e5a1f6f2518acd99b6"
      }
     },
     "metadata": {},
     "output_type": "display_data"
    },
    {
     "data": {
      "text/plain": [
       "  0%|          | 0/3 [00:00<?, ?it/s]"
      ],
      "application/vnd.jupyter.widget-view+json": {
       "version_major": 2,
       "version_minor": 0,
       "model_id": "be388d6c57e54b4fbe0bc18751fcdc85"
      }
     },
     "metadata": {},
     "output_type": "display_data"
    },
    {
     "name": "stdout",
     "output_type": "stream",
     "text": [
      "\u001B[1m\u001B[92m Epoch 336 Train DiceLoss 0.2552331034094095 Val DiceLoss 0.25870784123738605 Train dice_score 0.7447668835520744 Val dice_score 0.7412921587626139\n"
     ]
    },
    {
     "data": {
      "text/plain": [
       "  0%|          | 0/8 [00:00<?, ?it/s]"
      ],
      "application/vnd.jupyter.widget-view+json": {
       "version_major": 2,
       "version_minor": 0,
       "model_id": "7e8407dd84a04a19be759ada71e726d7"
      }
     },
     "metadata": {},
     "output_type": "display_data"
    },
    {
     "data": {
      "text/plain": [
       "  0%|          | 0/3 [00:00<?, ?it/s]"
      ],
      "application/vnd.jupyter.widget-view+json": {
       "version_major": 2,
       "version_minor": 0,
       "model_id": "4f0e074f0a89420d89e396cae48fe62d"
      }
     },
     "metadata": {},
     "output_type": "display_data"
    },
    {
     "name": "stdout",
     "output_type": "stream",
     "text": [
      "\u001B[1m\u001B[92m Epoch 337 Train DiceLoss 0.24672860465943813 Val DiceLoss 0.2614111006259918 Train dice_score 0.7532714009284973 Val dice_score 0.7385888894399008\n"
     ]
    },
    {
     "data": {
      "text/plain": [
       "  0%|          | 0/8 [00:00<?, ?it/s]"
      ],
      "application/vnd.jupyter.widget-view+json": {
       "version_major": 2,
       "version_minor": 0,
       "model_id": "63fb48ab53004bdb93ff1157bb50fa15"
      }
     },
     "metadata": {},
     "output_type": "display_data"
    },
    {
     "data": {
      "text/plain": [
       "  0%|          | 0/3 [00:00<?, ?it/s]"
      ],
      "application/vnd.jupyter.widget-view+json": {
       "version_major": 2,
       "version_minor": 0,
       "model_id": "e9aa78618bbf4d82a060974a750f7b57"
      }
     },
     "metadata": {},
     "output_type": "display_data"
    },
    {
     "name": "stdout",
     "output_type": "stream",
     "text": [
      "\u001B[1m\u001B[92m Epoch 338 Train DiceLoss 0.24770339578390121 Val DiceLoss 0.26377564668655396 Train dice_score 0.7522966042160988 Val dice_score 0.736224353313446\n"
     ]
    },
    {
     "data": {
      "text/plain": [
       "  0%|          | 0/8 [00:00<?, ?it/s]"
      ],
      "application/vnd.jupyter.widget-view+json": {
       "version_major": 2,
       "version_minor": 0,
       "model_id": "344c5fdfc0ca4990b90f60fc44092c89"
      }
     },
     "metadata": {},
     "output_type": "display_data"
    },
    {
     "data": {
      "text/plain": [
       "  0%|          | 0/3 [00:00<?, ?it/s]"
      ],
      "application/vnd.jupyter.widget-view+json": {
       "version_major": 2,
       "version_minor": 0,
       "model_id": "058a5d2b7306445dbb0e27097b103af9"
      }
     },
     "metadata": {},
     "output_type": "display_data"
    },
    {
     "name": "stdout",
     "output_type": "stream",
     "text": [
      "\u001B[1m\u001B[92m Epoch 339 Train DiceLoss 0.2489226832985878 Val DiceLoss 0.26410359144210815 Train dice_score 0.7510773167014122 Val dice_score 0.7358963886896769\n"
     ]
    },
    {
     "data": {
      "text/plain": [
       "  0%|          | 0/8 [00:00<?, ?it/s]"
      ],
      "application/vnd.jupyter.widget-view+json": {
       "version_major": 2,
       "version_minor": 0,
       "model_id": "4a834ecad2704465ac875eeee374c6e7"
      }
     },
     "metadata": {},
     "output_type": "display_data"
    },
    {
     "data": {
      "text/plain": [
       "  0%|          | 0/3 [00:00<?, ?it/s]"
      ],
      "application/vnd.jupyter.widget-view+json": {
       "version_major": 2,
       "version_minor": 0,
       "model_id": "52c06d96b32b481e96674802d38cee1b"
      }
     },
     "metadata": {},
     "output_type": "display_data"
    },
    {
     "name": "stdout",
     "output_type": "stream",
     "text": [
      "\u001B[1m\u001B[92m Epoch 340 Train DiceLoss 0.25699164904654026 Val DiceLoss 0.2541905641555786 Train dice_score 0.7430083528161049 Val dice_score 0.7458094358444214\n"
     ]
    },
    {
     "data": {
      "text/plain": [
       "  0%|          | 0/8 [00:00<?, ?it/s]"
      ],
      "application/vnd.jupyter.widget-view+json": {
       "version_major": 2,
       "version_minor": 0,
       "model_id": "0ef0190501904527a28f6d398cbf878c"
      }
     },
     "metadata": {},
     "output_type": "display_data"
    },
    {
     "data": {
      "text/plain": [
       "  0%|          | 0/3 [00:00<?, ?it/s]"
      ],
      "application/vnd.jupyter.widget-view+json": {
       "version_major": 2,
       "version_minor": 0,
       "model_id": "afb4fae10d4a44c6b3e15c1af7bac019"
      }
     },
     "metadata": {},
     "output_type": "display_data"
    },
    {
     "name": "stdout",
     "output_type": "stream",
     "text": [
      "\u001B[1m\u001B[92m Epoch 341 Train DiceLoss 0.24736883118748665 Val DiceLoss 0.24966445565223694 Train dice_score 0.7526311725378036 Val dice_score 0.7503355344136556\n"
     ]
    },
    {
     "data": {
      "text/plain": [
       "  0%|          | 0/8 [00:00<?, ?it/s]"
      ],
      "application/vnd.jupyter.widget-view+json": {
       "version_major": 2,
       "version_minor": 0,
       "model_id": "53ef0ef1ff0e4f96ba16c6678184a112"
      }
     },
     "metadata": {},
     "output_type": "display_data"
    },
    {
     "data": {
      "text/plain": [
       "  0%|          | 0/3 [00:00<?, ?it/s]"
      ],
      "application/vnd.jupyter.widget-view+json": {
       "version_major": 2,
       "version_minor": 0,
       "model_id": "a342325b05d244b6b0f1ea80e5a19df8"
      }
     },
     "metadata": {},
     "output_type": "display_data"
    },
    {
     "name": "stdout",
     "output_type": "stream",
     "text": [
      "\u001B[1m\u001B[92m Epoch 342 Train DiceLoss 0.24546142667531967 Val DiceLoss 0.26681114236513775 Train dice_score 0.7545385658740997 Val dice_score 0.7331888675689697\n"
     ]
    },
    {
     "data": {
      "text/plain": [
       "  0%|          | 0/8 [00:00<?, ?it/s]"
      ],
      "application/vnd.jupyter.widget-view+json": {
       "version_major": 2,
       "version_minor": 0,
       "model_id": "7135f1a7a4664c81b731c3d510446f61"
      }
     },
     "metadata": {},
     "output_type": "display_data"
    },
    {
     "data": {
      "text/plain": [
       "  0%|          | 0/3 [00:00<?, ?it/s]"
      ],
      "application/vnd.jupyter.widget-view+json": {
       "version_major": 2,
       "version_minor": 0,
       "model_id": "7b1daa8bd35c436ab7de68395567e216"
      }
     },
     "metadata": {},
     "output_type": "display_data"
    },
    {
     "name": "stdout",
     "output_type": "stream",
     "text": [
      "\u001B[1m\u001B[92m Epoch 343 Train DiceLoss 0.2516368515789509 Val DiceLoss 0.2504356652498245 Train dice_score 0.7483631446957588 Val dice_score 0.7495643496513367\n"
     ]
    },
    {
     "data": {
      "text/plain": [
       "  0%|          | 0/8 [00:00<?, ?it/s]"
      ],
      "application/vnd.jupyter.widget-view+json": {
       "version_major": 2,
       "version_minor": 0,
       "model_id": "d1008bbd3cea4d47b47c1beb643a0249"
      }
     },
     "metadata": {},
     "output_type": "display_data"
    },
    {
     "data": {
      "text/plain": [
       "  0%|          | 0/3 [00:00<?, ?it/s]"
      ],
      "application/vnd.jupyter.widget-view+json": {
       "version_major": 2,
       "version_minor": 0,
       "model_id": "364cab45c57844db9783fd0776738fef"
      }
     },
     "metadata": {},
     "output_type": "display_data"
    },
    {
     "name": "stdout",
     "output_type": "stream",
     "text": [
      "\u001B[1m\u001B[92m Epoch 344 Train DiceLoss 0.2545792143791914 Val DiceLoss 0.25957633058230084 Train dice_score 0.7454207763075829 Val dice_score 0.7404236396153768\n"
     ]
    },
    {
     "data": {
      "text/plain": [
       "  0%|          | 0/8 [00:00<?, ?it/s]"
      ],
      "application/vnd.jupyter.widget-view+json": {
       "version_major": 2,
       "version_minor": 0,
       "model_id": "6f76591b726b472fbc3cd0a2a8bbf8f8"
      }
     },
     "metadata": {},
     "output_type": "display_data"
    },
    {
     "data": {
      "text/plain": [
       "  0%|          | 0/3 [00:00<?, ?it/s]"
      ],
      "application/vnd.jupyter.widget-view+json": {
       "version_major": 2,
       "version_minor": 0,
       "model_id": "ed1bead31e43491e9b581d85d9b9ed66"
      }
     },
     "metadata": {},
     "output_type": "display_data"
    },
    {
     "name": "stdout",
     "output_type": "stream",
     "text": [
      "\u001B[1m\u001B[92m Epoch 345 Train DiceLoss 0.2445737924426794 Val DiceLoss 0.24600649376710257 Train dice_score 0.755426213145256 Val dice_score 0.7539935111999512\n"
     ]
    },
    {
     "data": {
      "text/plain": [
       "  0%|          | 0/8 [00:00<?, ?it/s]"
      ],
      "application/vnd.jupyter.widget-view+json": {
       "version_major": 2,
       "version_minor": 0,
       "model_id": "773492aba4d1478d9f5e7a8bd4afcd72"
      }
     },
     "metadata": {},
     "output_type": "display_data"
    },
    {
     "data": {
      "text/plain": [
       "  0%|          | 0/3 [00:00<?, ?it/s]"
      ],
      "application/vnd.jupyter.widget-view+json": {
       "version_major": 2,
       "version_minor": 0,
       "model_id": "6c4cef8bf4d94ff58bc71d1d3eae3fb7"
      }
     },
     "metadata": {},
     "output_type": "display_data"
    },
    {
     "name": "stdout",
     "output_type": "stream",
     "text": [
      "\u001B[1m\u001B[92m Epoch 346 Train DiceLoss 0.24993538483977318 Val DiceLoss 0.25412789980570477 Train dice_score 0.7500646114349365 Val dice_score 0.7458720803260803\n"
     ]
    },
    {
     "data": {
      "text/plain": [
       "  0%|          | 0/8 [00:00<?, ?it/s]"
      ],
      "application/vnd.jupyter.widget-view+json": {
       "version_major": 2,
       "version_minor": 0,
       "model_id": "2c8f621b0fa947bd97890bb568811154"
      }
     },
     "metadata": {},
     "output_type": "display_data"
    },
    {
     "data": {
      "text/plain": [
       "  0%|          | 0/3 [00:00<?, ?it/s]"
      ],
      "application/vnd.jupyter.widget-view+json": {
       "version_major": 2,
       "version_minor": 0,
       "model_id": "ba2debd454484348b1447234b91a980d"
      }
     },
     "metadata": {},
     "output_type": "display_data"
    },
    {
     "name": "stdout",
     "output_type": "stream",
     "text": [
      "\u001B[1m\u001B[92m Epoch 347 Train DiceLoss 0.2565351091325283 Val DiceLoss 0.2764309843381246 Train dice_score 0.7434648871421814 Val dice_score 0.7235690156618754\n"
     ]
    },
    {
     "data": {
      "text/plain": [
       "  0%|          | 0/8 [00:00<?, ?it/s]"
      ],
      "application/vnd.jupyter.widget-view+json": {
       "version_major": 2,
       "version_minor": 0,
       "model_id": "f4f8245529fd4b8abeaeca4573d118d9"
      }
     },
     "metadata": {},
     "output_type": "display_data"
    },
    {
     "data": {
      "text/plain": [
       "  0%|          | 0/3 [00:00<?, ?it/s]"
      ],
      "application/vnd.jupyter.widget-view+json": {
       "version_major": 2,
       "version_minor": 0,
       "model_id": "8ed5050257c6423386c0a5170e067d75"
      }
     },
     "metadata": {},
     "output_type": "display_data"
    },
    {
     "name": "stdout",
     "output_type": "stream",
     "text": [
      "\u001B[1m\u001B[92m Epoch 348 Train DiceLoss 0.25115787610411644 Val DiceLoss 0.25972137848536175 Train dice_score 0.7488421276211739 Val dice_score 0.7402786215146383\n"
     ]
    },
    {
     "data": {
      "text/plain": [
       "  0%|          | 0/8 [00:00<?, ?it/s]"
      ],
      "application/vnd.jupyter.widget-view+json": {
       "version_major": 2,
       "version_minor": 0,
       "model_id": "cdb5b9a114434b849d6e675a1e762629"
      }
     },
     "metadata": {},
     "output_type": "display_data"
    },
    {
     "data": {
      "text/plain": [
       "  0%|          | 0/3 [00:00<?, ?it/s]"
      ],
      "application/vnd.jupyter.widget-view+json": {
       "version_major": 2,
       "version_minor": 0,
       "model_id": "a23329fe63e64e4ba3d17c744a03d3c5"
      }
     },
     "metadata": {},
     "output_type": "display_data"
    },
    {
     "name": "stdout",
     "output_type": "stream",
     "text": [
      "\u001B[1m\u001B[92m Epoch 349 Train DiceLoss 0.2460809163749218 Val DiceLoss 0.2536466022332509 Train dice_score 0.7539190873503685 Val dice_score 0.7463534077008566\n"
     ]
    },
    {
     "data": {
      "text/plain": [
       "  0%|          | 0/8 [00:00<?, ?it/s]"
      ],
      "application/vnd.jupyter.widget-view+json": {
       "version_major": 2,
       "version_minor": 0,
       "model_id": "21104c333ace48a780a0934661172829"
      }
     },
     "metadata": {},
     "output_type": "display_data"
    },
    {
     "data": {
      "text/plain": [
       "  0%|          | 0/3 [00:00<?, ?it/s]"
      ],
      "application/vnd.jupyter.widget-view+json": {
       "version_major": 2,
       "version_minor": 0,
       "model_id": "577a7b7c21a44695af7f4cd2f1776279"
      }
     },
     "metadata": {},
     "output_type": "display_data"
    },
    {
     "name": "stdout",
     "output_type": "stream",
     "text": [
      "\u001B[1m\u001B[92m Epoch 350 Train DiceLoss 0.2483332511037588 Val DiceLoss 0.2508781502644221 Train dice_score 0.751666747033596 Val dice_score 0.7491218447685242\n"
     ]
    },
    {
     "data": {
      "text/plain": [
       "  0%|          | 0/8 [00:00<?, ?it/s]"
      ],
      "application/vnd.jupyter.widget-view+json": {
       "version_major": 2,
       "version_minor": 0,
       "model_id": "440fe042882a47dd8b6a0de5b0b53b52"
      }
     },
     "metadata": {},
     "output_type": "display_data"
    },
    {
     "data": {
      "text/plain": [
       "  0%|          | 0/3 [00:00<?, ?it/s]"
      ],
      "application/vnd.jupyter.widget-view+json": {
       "version_major": 2,
       "version_minor": 0,
       "model_id": "ddfe5db119a548bc9cbc78a4bf288a39"
      }
     },
     "metadata": {},
     "output_type": "display_data"
    },
    {
     "name": "stdout",
     "output_type": "stream",
     "text": [
      "\u001B[1m\u001B[92m Epoch 351 Train DiceLoss 0.24526800587773323 Val DiceLoss 0.2614928682645162 Train dice_score 0.7547320127487183 Val dice_score 0.7385071516036987\n"
     ]
    },
    {
     "data": {
      "text/plain": [
       "  0%|          | 0/8 [00:00<?, ?it/s]"
      ],
      "application/vnd.jupyter.widget-view+json": {
       "version_major": 2,
       "version_minor": 0,
       "model_id": "453831eb8e554461bef2286be296dda5"
      }
     },
     "metadata": {},
     "output_type": "display_data"
    },
    {
     "data": {
      "text/plain": [
       "  0%|          | 0/3 [00:00<?, ?it/s]"
      ],
      "application/vnd.jupyter.widget-view+json": {
       "version_major": 2,
       "version_minor": 0,
       "model_id": "690d3660d23040fe9b7ea3c5aa08e969"
      }
     },
     "metadata": {},
     "output_type": "display_data"
    },
    {
     "name": "stdout",
     "output_type": "stream",
     "text": [
      "\u001B[1m\u001B[92m Epoch 352 Train DiceLoss 0.24931171163916588 Val DiceLoss 0.25498415529727936 Train dice_score 0.750688299536705 Val dice_score 0.7450158397356669\n"
     ]
    },
    {
     "data": {
      "text/plain": [
       "  0%|          | 0/8 [00:00<?, ?it/s]"
      ],
      "application/vnd.jupyter.widget-view+json": {
       "version_major": 2,
       "version_minor": 0,
       "model_id": "88eeb1d643af4ecf83b0ed895a9e73d9"
      }
     },
     "metadata": {},
     "output_type": "display_data"
    },
    {
     "data": {
      "text/plain": [
       "  0%|          | 0/3 [00:00<?, ?it/s]"
      ],
      "application/vnd.jupyter.widget-view+json": {
       "version_major": 2,
       "version_minor": 0,
       "model_id": "1fcdf75ab4304847bee5377859aa50fe"
      }
     },
     "metadata": {},
     "output_type": "display_data"
    },
    {
     "name": "stdout",
     "output_type": "stream",
     "text": [
      "\u001B[1m\u001B[92m Epoch 353 Train DiceLoss 0.24892526865005493 Val DiceLoss 0.2567308445771535 Train dice_score 0.7510747313499451 Val dice_score 0.743269165356954\n"
     ]
    },
    {
     "data": {
      "text/plain": [
       "  0%|          | 0/8 [00:00<?, ?it/s]"
      ],
      "application/vnd.jupyter.widget-view+json": {
       "version_major": 2,
       "version_minor": 0,
       "model_id": "6aeb5cc4c1ba4904beb3f3d5008caa71"
      }
     },
     "metadata": {},
     "output_type": "display_data"
    },
    {
     "data": {
      "text/plain": [
       "  0%|          | 0/3 [00:00<?, ?it/s]"
      ],
      "application/vnd.jupyter.widget-view+json": {
       "version_major": 2,
       "version_minor": 0,
       "model_id": "53ac0e2081814eec8e5e55916df14e7f"
      }
     },
     "metadata": {},
     "output_type": "display_data"
    },
    {
     "name": "stdout",
     "output_type": "stream",
     "text": [
      "\u001B[1m\u001B[92m Epoch 354 Train DiceLoss 0.24295499362051487 Val DiceLoss 0.2524962176879247 Train dice_score 0.7570450007915497 Val dice_score 0.7475037574768066\n"
     ]
    },
    {
     "data": {
      "text/plain": [
       "  0%|          | 0/8 [00:00<?, ?it/s]"
      ],
      "application/vnd.jupyter.widget-view+json": {
       "version_major": 2,
       "version_minor": 0,
       "model_id": "6e67aa7b5dac423a82ca54643f512ddc"
      }
     },
     "metadata": {},
     "output_type": "display_data"
    },
    {
     "data": {
      "text/plain": [
       "  0%|          | 0/3 [00:00<?, ?it/s]"
      ],
      "application/vnd.jupyter.widget-view+json": {
       "version_major": 2,
       "version_minor": 0,
       "model_id": "1b22ab1669694799ac9f06d60024ffdb"
      }
     },
     "metadata": {},
     "output_type": "display_data"
    },
    {
     "name": "stdout",
     "output_type": "stream",
     "text": [
      "\u001B[1m\u001B[92m Epoch 355 Train DiceLoss 0.24572515673935413 Val DiceLoss 0.24755939841270447 Train dice_score 0.7542748376727104 Val dice_score 0.752440611521403\n"
     ]
    },
    {
     "data": {
      "text/plain": [
       "  0%|          | 0/8 [00:00<?, ?it/s]"
      ],
      "application/vnd.jupyter.widget-view+json": {
       "version_major": 2,
       "version_minor": 0,
       "model_id": "9504068d49394c0fa0084a66443cf831"
      }
     },
     "metadata": {},
     "output_type": "display_data"
    },
    {
     "data": {
      "text/plain": [
       "  0%|          | 0/3 [00:00<?, ?it/s]"
      ],
      "application/vnd.jupyter.widget-view+json": {
       "version_major": 2,
       "version_minor": 0,
       "model_id": "b2595006c96044399698a42d122c9483"
      }
     },
     "metadata": {},
     "output_type": "display_data"
    },
    {
     "name": "stdout",
     "output_type": "stream",
     "text": [
      "MODEL SAVED\n",
      "\u001B[1m\u001B[92m Epoch 356 Train DiceLoss 0.24899203144013882 Val DiceLoss 0.2293071746826172 Train dice_score 0.7510079741477966 Val dice_score 0.7706928253173828\n"
     ]
    },
    {
     "data": {
      "text/plain": [
       "  0%|          | 0/8 [00:00<?, ?it/s]"
      ],
      "application/vnd.jupyter.widget-view+json": {
       "version_major": 2,
       "version_minor": 0,
       "model_id": "ef6006f3a27a4252b31f0cadbd85a329"
      }
     },
     "metadata": {},
     "output_type": "display_data"
    },
    {
     "data": {
      "text/plain": [
       "  0%|          | 0/3 [00:00<?, ?it/s]"
      ],
      "application/vnd.jupyter.widget-view+json": {
       "version_major": 2,
       "version_minor": 0,
       "model_id": "d3eefbf62aa04086a1226dcc384ec9e8"
      }
     },
     "metadata": {},
     "output_type": "display_data"
    },
    {
     "name": "stdout",
     "output_type": "stream",
     "text": [
      "MODEL SAVED\n",
      "\u001B[1m\u001B[92m Epoch 357 Train DiceLoss 0.23412848636507988 Val DiceLoss 0.22190233071645102 Train dice_score 0.7658715173602104 Val dice_score 0.778097669283549\n"
     ]
    },
    {
     "data": {
      "text/plain": [
       "  0%|          | 0/8 [00:00<?, ?it/s]"
      ],
      "application/vnd.jupyter.widget-view+json": {
       "version_major": 2,
       "version_minor": 0,
       "model_id": "acc4750a733f43a1b74e1fd334cc4a3a"
      }
     },
     "metadata": {},
     "output_type": "display_data"
    },
    {
     "data": {
      "text/plain": [
       "  0%|          | 0/3 [00:00<?, ?it/s]"
      ],
      "application/vnd.jupyter.widget-view+json": {
       "version_major": 2,
       "version_minor": 0,
       "model_id": "b0615abbe284443685cd5dfad14258f2"
      }
     },
     "metadata": {},
     "output_type": "display_data"
    },
    {
     "name": "stdout",
     "output_type": "stream",
     "text": [
      "\u001B[1m\u001B[92m Epoch 358 Train DiceLoss 0.23033564910292625 Val DiceLoss 0.24695932368437448 Train dice_score 0.7696643471717834 Val dice_score 0.7530406713485718\n"
     ]
    },
    {
     "data": {
      "text/plain": [
       "  0%|          | 0/8 [00:00<?, ?it/s]"
      ],
      "application/vnd.jupyter.widget-view+json": {
       "version_major": 2,
       "version_minor": 0,
       "model_id": "c5e47c554d264bb596ae10f0b29f8f26"
      }
     },
     "metadata": {},
     "output_type": "display_data"
    },
    {
     "data": {
      "text/plain": [
       "  0%|          | 0/3 [00:00<?, ?it/s]"
      ],
      "application/vnd.jupyter.widget-view+json": {
       "version_major": 2,
       "version_minor": 0,
       "model_id": "c04d57ea8490445c85e968407db8d32e"
      }
     },
     "metadata": {},
     "output_type": "display_data"
    },
    {
     "name": "stdout",
     "output_type": "stream",
     "text": [
      "\u001B[1m\u001B[92m Epoch 359 Train DiceLoss 0.22747897915542126 Val DiceLoss 0.23915453255176544 Train dice_score 0.7725210338830948 Val dice_score 0.7608454624811808\n"
     ]
    },
    {
     "data": {
      "text/plain": [
       "  0%|          | 0/8 [00:00<?, ?it/s]"
      ],
      "application/vnd.jupyter.widget-view+json": {
       "version_major": 2,
       "version_minor": 0,
       "model_id": "93370d48099a4f44b9f362751e555601"
      }
     },
     "metadata": {},
     "output_type": "display_data"
    },
    {
     "data": {
      "text/plain": [
       "  0%|          | 0/3 [00:00<?, ?it/s]"
      ],
      "application/vnd.jupyter.widget-view+json": {
       "version_major": 2,
       "version_minor": 0,
       "model_id": "b91acd3ea60d488ca4e9593effad2944"
      }
     },
     "metadata": {},
     "output_type": "display_data"
    },
    {
     "name": "stdout",
     "output_type": "stream",
     "text": [
      "\u001B[1m\u001B[92m Epoch 360 Train DiceLoss 0.2197209019213915 Val DiceLoss 0.22335433463255563 Train dice_score 0.7802791073918343 Val dice_score 0.7766456802686056\n"
     ]
    },
    {
     "data": {
      "text/plain": [
       "  0%|          | 0/8 [00:00<?, ?it/s]"
      ],
      "application/vnd.jupyter.widget-view+json": {
       "version_major": 2,
       "version_minor": 0,
       "model_id": "0f37a9f4af48421fbc76bb056395d9d4"
      }
     },
     "metadata": {},
     "output_type": "display_data"
    },
    {
     "data": {
      "text/plain": [
       "  0%|          | 0/3 [00:00<?, ?it/s]"
      ],
      "application/vnd.jupyter.widget-view+json": {
       "version_major": 2,
       "version_minor": 0,
       "model_id": "623e6888d4c0410fa7898d42adfda207"
      }
     },
     "metadata": {},
     "output_type": "display_data"
    },
    {
     "name": "stdout",
     "output_type": "stream",
     "text": [
      "MODEL SAVED\n",
      "\u001B[1m\u001B[92m Epoch 361 Train DiceLoss 0.21824901178479195 Val DiceLoss 0.21708089113235474 Train dice_score 0.7817509770393372 Val dice_score 0.7829191088676453\n"
     ]
    },
    {
     "data": {
      "text/plain": [
       "  0%|          | 0/8 [00:00<?, ?it/s]"
      ],
      "application/vnd.jupyter.widget-view+json": {
       "version_major": 2,
       "version_minor": 0,
       "model_id": "ad18490b03054842af6db89616208d16"
      }
     },
     "metadata": {},
     "output_type": "display_data"
    },
    {
     "data": {
      "text/plain": [
       "  0%|          | 0/3 [00:00<?, ?it/s]"
      ],
      "application/vnd.jupyter.widget-view+json": {
       "version_major": 2,
       "version_minor": 0,
       "model_id": "a7d19fd9e4294ca4bdcf31b31272a44a"
      }
     },
     "metadata": {},
     "output_type": "display_data"
    },
    {
     "name": "stdout",
     "output_type": "stream",
     "text": [
      "\u001B[1m\u001B[92m Epoch 362 Train DiceLoss 0.2148518431931734 Val DiceLoss 0.2252060572306315 Train dice_score 0.7851481512188911 Val dice_score 0.7747939427693685\n"
     ]
    },
    {
     "data": {
      "text/plain": [
       "  0%|          | 0/8 [00:00<?, ?it/s]"
      ],
      "application/vnd.jupyter.widget-view+json": {
       "version_major": 2,
       "version_minor": 0,
       "model_id": "ad695286c9de442187ae4188ef8f28ac"
      }
     },
     "metadata": {},
     "output_type": "display_data"
    },
    {
     "data": {
      "text/plain": [
       "  0%|          | 0/3 [00:00<?, ?it/s]"
      ],
      "application/vnd.jupyter.widget-view+json": {
       "version_major": 2,
       "version_minor": 0,
       "model_id": "6e14b9327d374c099263b69801011e35"
      }
     },
     "metadata": {},
     "output_type": "display_data"
    },
    {
     "name": "stdout",
     "output_type": "stream",
     "text": [
      "\u001B[1m\u001B[92m Epoch 363 Train DiceLoss 0.21750063262879848 Val DiceLoss 0.2192035218079885 Train dice_score 0.7824993655085564 Val dice_score 0.780796488126119\n"
     ]
    },
    {
     "data": {
      "text/plain": [
       "  0%|          | 0/8 [00:00<?, ?it/s]"
      ],
      "application/vnd.jupyter.widget-view+json": {
       "version_major": 2,
       "version_minor": 0,
       "model_id": "6daf6f44b19149dfaa302554c25bd46b"
      }
     },
     "metadata": {},
     "output_type": "display_data"
    },
    {
     "data": {
      "text/plain": [
       "  0%|          | 0/3 [00:00<?, ?it/s]"
      ],
      "application/vnd.jupyter.widget-view+json": {
       "version_major": 2,
       "version_minor": 0,
       "model_id": "6f7766dbbb444adfa9a80baae0c6117c"
      }
     },
     "metadata": {},
     "output_type": "display_data"
    },
    {
     "name": "stdout",
     "output_type": "stream",
     "text": [
      "\u001B[1m\u001B[92m Epoch 364 Train DiceLoss 0.21534574404358864 Val DiceLoss 0.22241980830828348 Train dice_score 0.7846542522311211 Val dice_score 0.777580181757609\n"
     ]
    },
    {
     "data": {
      "text/plain": [
       "  0%|          | 0/8 [00:00<?, ?it/s]"
      ],
      "application/vnd.jupyter.widget-view+json": {
       "version_major": 2,
       "version_minor": 0,
       "model_id": "21ee989076864e58bb08dabb2dcfa170"
      }
     },
     "metadata": {},
     "output_type": "display_data"
    },
    {
     "data": {
      "text/plain": [
       "  0%|          | 0/3 [00:00<?, ?it/s]"
      ],
      "application/vnd.jupyter.widget-view+json": {
       "version_major": 2,
       "version_minor": 0,
       "model_id": "7a6efd1c3f5c46abb7df1d7dbb251897"
      }
     },
     "metadata": {},
     "output_type": "display_data"
    },
    {
     "name": "stdout",
     "output_type": "stream",
     "text": [
      "\u001B[1m\u001B[92m Epoch 365 Train DiceLoss 0.21573386155068874 Val DiceLoss 0.2243450035651525 Train dice_score 0.7842661365866661 Val dice_score 0.7756550113360087\n"
     ]
    },
    {
     "data": {
      "text/plain": [
       "  0%|          | 0/8 [00:00<?, ?it/s]"
      ],
      "application/vnd.jupyter.widget-view+json": {
       "version_major": 2,
       "version_minor": 0,
       "model_id": "2edd10a64e52449e87572d10e4e0525e"
      }
     },
     "metadata": {},
     "output_type": "display_data"
    },
    {
     "data": {
      "text/plain": [
       "  0%|          | 0/3 [00:00<?, ?it/s]"
      ],
      "application/vnd.jupyter.widget-view+json": {
       "version_major": 2,
       "version_minor": 0,
       "model_id": "e9bdc840af7b4e1ebbc6d37efe8c6a4b"
      }
     },
     "metadata": {},
     "output_type": "display_data"
    },
    {
     "name": "stdout",
     "output_type": "stream",
     "text": [
      "\u001B[1m\u001B[92m Epoch 366 Train DiceLoss 0.2222165036946535 Val DiceLoss 0.21983358760674795 Train dice_score 0.7777835130691528 Val dice_score 0.7801664074261984\n"
     ]
    },
    {
     "data": {
      "text/plain": [
       "  0%|          | 0/8 [00:00<?, ?it/s]"
      ],
      "application/vnd.jupyter.widget-view+json": {
       "version_major": 2,
       "version_minor": 0,
       "model_id": "370555226eeb4aeab57186c88a36d8fd"
      }
     },
     "metadata": {},
     "output_type": "display_data"
    },
    {
     "data": {
      "text/plain": [
       "  0%|          | 0/3 [00:00<?, ?it/s]"
      ],
      "application/vnd.jupyter.widget-view+json": {
       "version_major": 2,
       "version_minor": 0,
       "model_id": "4b96f01674644699858f76403d74e844"
      }
     },
     "metadata": {},
     "output_type": "display_data"
    },
    {
     "name": "stdout",
     "output_type": "stream",
     "text": [
      "MODEL SAVED\n",
      "\u001B[1m\u001B[92m Epoch 367 Train DiceLoss 0.21541042253375053 Val DiceLoss 0.21429653962453207 Train dice_score 0.7845895737409592 Val dice_score 0.785703440507253\n"
     ]
    },
    {
     "data": {
      "text/plain": [
       "  0%|          | 0/8 [00:00<?, ?it/s]"
      ],
      "application/vnd.jupyter.widget-view+json": {
       "version_major": 2,
       "version_minor": 0,
       "model_id": "53a5a71a95bb49f59f109abc9dcf6dcc"
      }
     },
     "metadata": {},
     "output_type": "display_data"
    },
    {
     "data": {
      "text/plain": [
       "  0%|          | 0/3 [00:00<?, ?it/s]"
      ],
      "application/vnd.jupyter.widget-view+json": {
       "version_major": 2,
       "version_minor": 0,
       "model_id": "4037d52243b54ce7ade646ad20fa0450"
      }
     },
     "metadata": {},
     "output_type": "display_data"
    },
    {
     "name": "stdout",
     "output_type": "stream",
     "text": [
      "\u001B[1m\u001B[92m Epoch 368 Train DiceLoss 0.2148625422269106 Val DiceLoss 0.22939292093118033 Train dice_score 0.7851374596357346 Val dice_score 0.7706070939699808\n"
     ]
    },
    {
     "data": {
      "text/plain": [
       "  0%|          | 0/8 [00:00<?, ?it/s]"
      ],
      "application/vnd.jupyter.widget-view+json": {
       "version_major": 2,
       "version_minor": 0,
       "model_id": "41a717657fe140cc886cea388107e46f"
      }
     },
     "metadata": {},
     "output_type": "display_data"
    },
    {
     "data": {
      "text/plain": [
       "  0%|          | 0/3 [00:00<?, ?it/s]"
      ],
      "application/vnd.jupyter.widget-view+json": {
       "version_major": 2,
       "version_minor": 0,
       "model_id": "ca1bd044b67844a39da778d98f18f0f7"
      }
     },
     "metadata": {},
     "output_type": "display_data"
    },
    {
     "name": "stdout",
     "output_type": "stream",
     "text": [
      "\u001B[1m\u001B[92m Epoch 369 Train DiceLoss 0.2184558417648077 Val DiceLoss 0.23036153614521027 Train dice_score 0.7815441563725471 Val dice_score 0.7696384787559509\n"
     ]
    },
    {
     "data": {
      "text/plain": [
       "  0%|          | 0/8 [00:00<?, ?it/s]"
      ],
      "application/vnd.jupyter.widget-view+json": {
       "version_major": 2,
       "version_minor": 0,
       "model_id": "02f6df46fda84aaea237b55797fa63d2"
      }
     },
     "metadata": {},
     "output_type": "display_data"
    },
    {
     "data": {
      "text/plain": [
       "  0%|          | 0/3 [00:00<?, ?it/s]"
      ],
      "application/vnd.jupyter.widget-view+json": {
       "version_major": 2,
       "version_minor": 0,
       "model_id": "99072cf7d0c54fce86658d9d100b0d21"
      }
     },
     "metadata": {},
     "output_type": "display_data"
    },
    {
     "name": "stdout",
     "output_type": "stream",
     "text": [
      "\u001B[1m\u001B[92m Epoch 370 Train DiceLoss 0.21470544673502445 Val DiceLoss 0.21625891824563345 Train dice_score 0.7852945476770401 Val dice_score 0.7837410767873129\n"
     ]
    },
    {
     "data": {
      "text/plain": [
       "  0%|          | 0/8 [00:00<?, ?it/s]"
      ],
      "application/vnd.jupyter.widget-view+json": {
       "version_major": 2,
       "version_minor": 0,
       "model_id": "bf8bed07b5664370b7c2024ad40f39b7"
      }
     },
     "metadata": {},
     "output_type": "display_data"
    },
    {
     "data": {
      "text/plain": [
       "  0%|          | 0/3 [00:00<?, ?it/s]"
      ],
      "application/vnd.jupyter.widget-view+json": {
       "version_major": 2,
       "version_minor": 0,
       "model_id": "8da48835e31f4522a371352c5ce3e10c"
      }
     },
     "metadata": {},
     "output_type": "display_data"
    },
    {
     "name": "stdout",
     "output_type": "stream",
     "text": [
      "\u001B[1m\u001B[92m Epoch 371 Train DiceLoss 0.2229193802922964 Val DiceLoss 0.23807626962661743 Train dice_score 0.777080625295639 Val dice_score 0.7619237303733826\n"
     ]
    },
    {
     "data": {
      "text/plain": [
       "  0%|          | 0/8 [00:00<?, ?it/s]"
      ],
      "application/vnd.jupyter.widget-view+json": {
       "version_major": 2,
       "version_minor": 0,
       "model_id": "1b19e0d085a045d29aed9577f6910267"
      }
     },
     "metadata": {},
     "output_type": "display_data"
    },
    {
     "data": {
      "text/plain": [
       "  0%|          | 0/3 [00:00<?, ?it/s]"
      ],
      "application/vnd.jupyter.widget-view+json": {
       "version_major": 2,
       "version_minor": 0,
       "model_id": "0fa2dad81f384f5cac3e0e124eed3341"
      }
     },
     "metadata": {},
     "output_type": "display_data"
    },
    {
     "name": "stdout",
     "output_type": "stream",
     "text": [
      "\u001B[1m\u001B[92m Epoch 372 Train DiceLoss 0.213218467310071 Val DiceLoss 0.21562835574150085 Train dice_score 0.7867815345525742 Val dice_score 0.7843716541926066\n"
     ]
    },
    {
     "data": {
      "text/plain": [
       "  0%|          | 0/8 [00:00<?, ?it/s]"
      ],
      "application/vnd.jupyter.widget-view+json": {
       "version_major": 2,
       "version_minor": 0,
       "model_id": "5573c9bd2f1544569b874ad6debbd10d"
      }
     },
     "metadata": {},
     "output_type": "display_data"
    },
    {
     "data": {
      "text/plain": [
       "  0%|          | 0/3 [00:00<?, ?it/s]"
      ],
      "application/vnd.jupyter.widget-view+json": {
       "version_major": 2,
       "version_minor": 0,
       "model_id": "e4904d54ebf04b4583309b41aca07c21"
      }
     },
     "metadata": {},
     "output_type": "display_data"
    },
    {
     "name": "stdout",
     "output_type": "stream",
     "text": [
      "\u001B[1m\u001B[92m Epoch 373 Train DiceLoss 0.22148594446480274 Val DiceLoss 0.2228808949391047 Train dice_score 0.7785140573978424 Val dice_score 0.7771191000938416\n"
     ]
    },
    {
     "data": {
      "text/plain": [
       "  0%|          | 0/8 [00:00<?, ?it/s]"
      ],
      "application/vnd.jupyter.widget-view+json": {
       "version_major": 2,
       "version_minor": 0,
       "model_id": "9b13d9994dd54772a8675fe192e77721"
      }
     },
     "metadata": {},
     "output_type": "display_data"
    },
    {
     "data": {
      "text/plain": [
       "  0%|          | 0/3 [00:00<?, ?it/s]"
      ],
      "application/vnd.jupyter.widget-view+json": {
       "version_major": 2,
       "version_minor": 0,
       "model_id": "0a1fec153b74467791243d7484324db7"
      }
     },
     "metadata": {},
     "output_type": "display_data"
    },
    {
     "name": "stdout",
     "output_type": "stream",
     "text": [
      "\u001B[1m\u001B[92m Epoch 374 Train DiceLoss 0.21011421829462051 Val DiceLoss 0.2299242466688156 Train dice_score 0.7898857891559601 Val dice_score 0.7700757582982382\n"
     ]
    },
    {
     "data": {
      "text/plain": [
       "  0%|          | 0/8 [00:00<?, ?it/s]"
      ],
      "application/vnd.jupyter.widget-view+json": {
       "version_major": 2,
       "version_minor": 0,
       "model_id": "88cacc3d08f24aba9f1fbc47c31f76a1"
      }
     },
     "metadata": {},
     "output_type": "display_data"
    },
    {
     "data": {
      "text/plain": [
       "  0%|          | 0/3 [00:00<?, ?it/s]"
      ],
      "application/vnd.jupyter.widget-view+json": {
       "version_major": 2,
       "version_minor": 0,
       "model_id": "cd5818d619e84228b1277e2d57428315"
      }
     },
     "metadata": {},
     "output_type": "display_data"
    },
    {
     "name": "stdout",
     "output_type": "stream",
     "text": [
      "\u001B[1m\u001B[92m Epoch 375 Train DiceLoss 0.2173557858914137 Val DiceLoss 0.21686111390590668 Train dice_score 0.7826442196965218 Val dice_score 0.7831388910611471\n"
     ]
    },
    {
     "data": {
      "text/plain": [
       "  0%|          | 0/8 [00:00<?, ?it/s]"
      ],
      "application/vnd.jupyter.widget-view+json": {
       "version_major": 2,
       "version_minor": 0,
       "model_id": "d764b7c11d5b4bd68391d4ea6aff69d0"
      }
     },
     "metadata": {},
     "output_type": "display_data"
    },
    {
     "data": {
      "text/plain": [
       "  0%|          | 0/3 [00:00<?, ?it/s]"
      ],
      "application/vnd.jupyter.widget-view+json": {
       "version_major": 2,
       "version_minor": 0,
       "model_id": "6f61c7c573ee474080bbd03036513e3b"
      }
     },
     "metadata": {},
     "output_type": "display_data"
    },
    {
     "name": "stdout",
     "output_type": "stream",
     "text": [
      "\u001B[1m\u001B[92m Epoch 376 Train DiceLoss 0.21456997469067574 Val DiceLoss 0.22820313771565756 Train dice_score 0.7854300364851952 Val dice_score 0.7717968821525574\n"
     ]
    },
    {
     "data": {
      "text/plain": [
       "  0%|          | 0/8 [00:00<?, ?it/s]"
      ],
      "application/vnd.jupyter.widget-view+json": {
       "version_major": 2,
       "version_minor": 0,
       "model_id": "cffd3d5ace334ba4b67733a8ed248c1c"
      }
     },
     "metadata": {},
     "output_type": "display_data"
    },
    {
     "data": {
      "text/plain": [
       "  0%|          | 0/3 [00:00<?, ?it/s]"
      ],
      "application/vnd.jupyter.widget-view+json": {
       "version_major": 2,
       "version_minor": 0,
       "model_id": "97f1ad748ec049f397e1967edf2a09c7"
      }
     },
     "metadata": {},
     "output_type": "display_data"
    },
    {
     "name": "stdout",
     "output_type": "stream",
     "text": [
      "\u001B[1m\u001B[92m Epoch 377 Train DiceLoss 0.2093613389879465 Val DiceLoss 0.22400384644667307 Train dice_score 0.790638655424118 Val dice_score 0.7759961485862732\n"
     ]
    },
    {
     "data": {
      "text/plain": [
       "  0%|          | 0/8 [00:00<?, ?it/s]"
      ],
      "application/vnd.jupyter.widget-view+json": {
       "version_major": 2,
       "version_minor": 0,
       "model_id": "9c13afd7ad6f4bc6be1c330335ee7bc8"
      }
     },
     "metadata": {},
     "output_type": "display_data"
    },
    {
     "data": {
      "text/plain": [
       "  0%|          | 0/3 [00:00<?, ?it/s]"
      ],
      "application/vnd.jupyter.widget-view+json": {
       "version_major": 2,
       "version_minor": 0,
       "model_id": "369ecd2c02194941ac5a8cd21193a5a6"
      }
     },
     "metadata": {},
     "output_type": "display_data"
    },
    {
     "name": "stdout",
     "output_type": "stream",
     "text": [
      "MODEL SAVED\n",
      "\u001B[1m\u001B[92m Epoch 378 Train DiceLoss 0.20503230020403862 Val DiceLoss 0.20540091395378113 Train dice_score 0.7949676960706711 Val dice_score 0.7945990959803263\n"
     ]
    },
    {
     "data": {
      "text/plain": [
       "  0%|          | 0/8 [00:00<?, ?it/s]"
      ],
      "application/vnd.jupyter.widget-view+json": {
       "version_major": 2,
       "version_minor": 0,
       "model_id": "eace5e7928034152bf364143f8fac631"
      }
     },
     "metadata": {},
     "output_type": "display_data"
    },
    {
     "data": {
      "text/plain": [
       "  0%|          | 0/3 [00:00<?, ?it/s]"
      ],
      "application/vnd.jupyter.widget-view+json": {
       "version_major": 2,
       "version_minor": 0,
       "model_id": "5d43afa38651401690ab58a0f871e008"
      }
     },
     "metadata": {},
     "output_type": "display_data"
    },
    {
     "name": "stdout",
     "output_type": "stream",
     "text": [
      "\u001B[1m\u001B[92m Epoch 379 Train DiceLoss 0.20292717032134533 Val DiceLoss 0.21525154014428458 Train dice_score 0.7970728352665901 Val dice_score 0.7847484747568766\n"
     ]
    },
    {
     "data": {
      "text/plain": [
       "  0%|          | 0/8 [00:00<?, ?it/s]"
      ],
      "application/vnd.jupyter.widget-view+json": {
       "version_major": 2,
       "version_minor": 0,
       "model_id": "645bb16b7202419082d764b8722d11f1"
      }
     },
     "metadata": {},
     "output_type": "display_data"
    },
    {
     "data": {
      "text/plain": [
       "  0%|          | 0/3 [00:00<?, ?it/s]"
      ],
      "application/vnd.jupyter.widget-view+json": {
       "version_major": 2,
       "version_minor": 0,
       "model_id": "894f7db5c04744ddb9358e26a2d860b8"
      }
     },
     "metadata": {},
     "output_type": "display_data"
    },
    {
     "name": "stdout",
     "output_type": "stream",
     "text": [
      "MODEL SAVED\n",
      "\u001B[1m\u001B[92m Epoch 380 Train DiceLoss 0.20246850699186325 Val DiceLoss 0.20051847894986471 Train dice_score 0.7975314930081367 Val dice_score 0.7994815309842428\n"
     ]
    },
    {
     "data": {
      "text/plain": [
       "  0%|          | 0/8 [00:00<?, ?it/s]"
      ],
      "application/vnd.jupyter.widget-view+json": {
       "version_major": 2,
       "version_minor": 0,
       "model_id": "255333626b61425fbcd0176490e932cd"
      }
     },
     "metadata": {},
     "output_type": "display_data"
    },
    {
     "data": {
      "text/plain": [
       "  0%|          | 0/3 [00:00<?, ?it/s]"
      ],
      "application/vnd.jupyter.widget-view+json": {
       "version_major": 2,
       "version_minor": 0,
       "model_id": "a48c5d43b41d48e3893a549687c8a11c"
      }
     },
     "metadata": {},
     "output_type": "display_data"
    },
    {
     "name": "stdout",
     "output_type": "stream",
     "text": [
      "MODEL SAVED\n",
      "\u001B[1m\u001B[92m Epoch 381 Train DiceLoss 0.20214021392166615 Val DiceLoss 0.197991872827212 Train dice_score 0.7978597953915596 Val dice_score 0.8020081321398417\n"
     ]
    },
    {
     "data": {
      "text/plain": [
       "  0%|          | 0/8 [00:00<?, ?it/s]"
      ],
      "application/vnd.jupyter.widget-view+json": {
       "version_major": 2,
       "version_minor": 0,
       "model_id": "fe035726ed244f14a33fc6a792744a42"
      }
     },
     "metadata": {},
     "output_type": "display_data"
    },
    {
     "data": {
      "text/plain": [
       "  0%|          | 0/3 [00:00<?, ?it/s]"
      ],
      "application/vnd.jupyter.widget-view+json": {
       "version_major": 2,
       "version_minor": 0,
       "model_id": "6971ac34dd21468891900a475847b6a0"
      }
     },
     "metadata": {},
     "output_type": "display_data"
    },
    {
     "name": "stdout",
     "output_type": "stream",
     "text": [
      "\u001B[1m\u001B[92m Epoch 382 Train DiceLoss 0.20051326043903828 Val DiceLoss 0.20246370136737823 Train dice_score 0.7994867414236069 Val dice_score 0.797536293665568\n"
     ]
    },
    {
     "data": {
      "text/plain": [
       "  0%|          | 0/8 [00:00<?, ?it/s]"
      ],
      "application/vnd.jupyter.widget-view+json": {
       "version_major": 2,
       "version_minor": 0,
       "model_id": "375b1dcd22d5492fa0393420528d1fe6"
      }
     },
     "metadata": {},
     "output_type": "display_data"
    },
    {
     "data": {
      "text/plain": [
       "  0%|          | 0/3 [00:00<?, ?it/s]"
      ],
      "application/vnd.jupyter.widget-view+json": {
       "version_major": 2,
       "version_minor": 0,
       "model_id": "945204b87afd445d84d0f8f3e12130fd"
      }
     },
     "metadata": {},
     "output_type": "display_data"
    },
    {
     "name": "stdout",
     "output_type": "stream",
     "text": [
      "\u001B[1m\u001B[92m Epoch 383 Train DiceLoss 0.2040990311652422 Val DiceLoss 0.23712517817815146 Train dice_score 0.7959009632468224 Val dice_score 0.7628748416900635\n"
     ]
    },
    {
     "data": {
      "text/plain": [
       "  0%|          | 0/8 [00:00<?, ?it/s]"
      ],
      "application/vnd.jupyter.widget-view+json": {
       "version_major": 2,
       "version_minor": 0,
       "model_id": "6a49d4b15818435d8e80c7f76907d890"
      }
     },
     "metadata": {},
     "output_type": "display_data"
    },
    {
     "data": {
      "text/plain": [
       "  0%|          | 0/3 [00:00<?, ?it/s]"
      ],
      "application/vnd.jupyter.widget-view+json": {
       "version_major": 2,
       "version_minor": 0,
       "model_id": "ce58b68fe08a4d2491102d1c574a23a9"
      }
     },
     "metadata": {},
     "output_type": "display_data"
    },
    {
     "name": "stdout",
     "output_type": "stream",
     "text": [
      "\u001B[1m\u001B[92m Epoch 384 Train DiceLoss 0.20268101058900356 Val DiceLoss 0.2046416699886322 Train dice_score 0.7973189949989319 Val dice_score 0.7953583200772604\n"
     ]
    },
    {
     "data": {
      "text/plain": [
       "  0%|          | 0/8 [00:00<?, ?it/s]"
      ],
      "application/vnd.jupyter.widget-view+json": {
       "version_major": 2,
       "version_minor": 0,
       "model_id": "df2336ececb942188471b561e88a2068"
      }
     },
     "metadata": {},
     "output_type": "display_data"
    },
    {
     "data": {
      "text/plain": [
       "  0%|          | 0/3 [00:00<?, ?it/s]"
      ],
      "application/vnd.jupyter.widget-view+json": {
       "version_major": 2,
       "version_minor": 0,
       "model_id": "58b3878839194b9fb89f5ae8beafd6da"
      }
     },
     "metadata": {},
     "output_type": "display_data"
    },
    {
     "name": "stdout",
     "output_type": "stream",
     "text": [
      "\u001B[1m\u001B[92m Epoch 385 Train DiceLoss 0.19396775215864182 Val DiceLoss 0.20151202380657196 Train dice_score 0.8060322478413582 Val dice_score 0.7984879811604818\n"
     ]
    },
    {
     "data": {
      "text/plain": [
       "  0%|          | 0/8 [00:00<?, ?it/s]"
      ],
      "application/vnd.jupyter.widget-view+json": {
       "version_major": 2,
       "version_minor": 0,
       "model_id": "677e56a1342a463d8849d22dd520fb07"
      }
     },
     "metadata": {},
     "output_type": "display_data"
    },
    {
     "data": {
      "text/plain": [
       "  0%|          | 0/3 [00:00<?, ?it/s]"
      ],
      "application/vnd.jupyter.widget-view+json": {
       "version_major": 2,
       "version_minor": 0,
       "model_id": "740a705d8a15493590292d0e8647ed51"
      }
     },
     "metadata": {},
     "output_type": "display_data"
    },
    {
     "name": "stdout",
     "output_type": "stream",
     "text": [
      "\u001B[1m\u001B[92m Epoch 386 Train DiceLoss 0.196506192907691 Val DiceLoss 0.20352470378081003 Train dice_score 0.8034938052296638 Val dice_score 0.7964753111203512\n"
     ]
    },
    {
     "data": {
      "text/plain": [
       "  0%|          | 0/8 [00:00<?, ?it/s]"
      ],
      "application/vnd.jupyter.widget-view+json": {
       "version_major": 2,
       "version_minor": 0,
       "model_id": "b6db3950c25140aebf238690ac27ceb3"
      }
     },
     "metadata": {},
     "output_type": "display_data"
    },
    {
     "data": {
      "text/plain": [
       "  0%|          | 0/3 [00:00<?, ?it/s]"
      ],
      "application/vnd.jupyter.widget-view+json": {
       "version_major": 2,
       "version_minor": 0,
       "model_id": "323f7226268045b69940a8d0fd79026d"
      }
     },
     "metadata": {},
     "output_type": "display_data"
    },
    {
     "name": "stdout",
     "output_type": "stream",
     "text": [
      "\u001B[1m\u001B[92m Epoch 387 Train DiceLoss 0.1929732970893383 Val DiceLoss 0.20180660486221313 Train dice_score 0.8070267140865326 Val dice_score 0.7981933752695719\n"
     ]
    },
    {
     "data": {
      "text/plain": [
       "  0%|          | 0/8 [00:00<?, ?it/s]"
      ],
      "application/vnd.jupyter.widget-view+json": {
       "version_major": 2,
       "version_minor": 0,
       "model_id": "476a04f6cfe64e93b54b5c4438b2489a"
      }
     },
     "metadata": {},
     "output_type": "display_data"
    },
    {
     "data": {
      "text/plain": [
       "  0%|          | 0/3 [00:00<?, ?it/s]"
      ],
      "application/vnd.jupyter.widget-view+json": {
       "version_major": 2,
       "version_minor": 0,
       "model_id": "bf682e05c5144e458e6b20dab03f9c4e"
      }
     },
     "metadata": {},
     "output_type": "display_data"
    },
    {
     "name": "stdout",
     "output_type": "stream",
     "text": [
      "\u001B[1m\u001B[92m Epoch 388 Train DiceLoss 0.18932840414345264 Val DiceLoss 0.21576484044392905 Train dice_score 0.8106715902686119 Val dice_score 0.7842351595560709\n"
     ]
    },
    {
     "data": {
      "text/plain": [
       "  0%|          | 0/8 [00:00<?, ?it/s]"
      ],
      "application/vnd.jupyter.widget-view+json": {
       "version_major": 2,
       "version_minor": 0,
       "model_id": "364e540df4184ef8a29fff0765760bbe"
      }
     },
     "metadata": {},
     "output_type": "display_data"
    },
    {
     "data": {
      "text/plain": [
       "  0%|          | 0/3 [00:00<?, ?it/s]"
      ],
      "application/vnd.jupyter.widget-view+json": {
       "version_major": 2,
       "version_minor": 0,
       "model_id": "be06a144e6d94fca903bdc45c5329be7"
      }
     },
     "metadata": {},
     "output_type": "display_data"
    },
    {
     "name": "stdout",
     "output_type": "stream",
     "text": [
      "MODEL SAVED\n",
      "\u001B[1m\u001B[92m Epoch 389 Train DiceLoss 0.18320943042635918 Val DiceLoss 0.17265118658542633 Train dice_score 0.8167905732989311 Val dice_score 0.8273488084475199\n"
     ]
    },
    {
     "data": {
      "text/plain": [
       "  0%|          | 0/8 [00:00<?, ?it/s]"
      ],
      "application/vnd.jupyter.widget-view+json": {
       "version_major": 2,
       "version_minor": 0,
       "model_id": "6f019f3e1b9c474eb8aaa601300a05d1"
      }
     },
     "metadata": {},
     "output_type": "display_data"
    },
    {
     "data": {
      "text/plain": [
       "  0%|          | 0/3 [00:00<?, ?it/s]"
      ],
      "application/vnd.jupyter.widget-view+json": {
       "version_major": 2,
       "version_minor": 0,
       "model_id": "2e116dac5ce0447f9ca36aec038baecf"
      }
     },
     "metadata": {},
     "output_type": "display_data"
    },
    {
     "name": "stdout",
     "output_type": "stream",
     "text": [
      "MODEL SAVED\n",
      "\u001B[1m\u001B[92m Epoch 390 Train DiceLoss 0.17763516679406166 Val DiceLoss 0.1540262500445048 Train dice_score 0.822364829480648 Val dice_score 0.8459737499554952\n"
     ]
    },
    {
     "data": {
      "text/plain": [
       "  0%|          | 0/8 [00:00<?, ?it/s]"
      ],
      "application/vnd.jupyter.widget-view+json": {
       "version_major": 2,
       "version_minor": 0,
       "model_id": "37f3a303a64d49d6a964087518dabcfd"
      }
     },
     "metadata": {},
     "output_type": "display_data"
    },
    {
     "data": {
      "text/plain": [
       "  0%|          | 0/3 [00:00<?, ?it/s]"
      ],
      "application/vnd.jupyter.widget-view+json": {
       "version_major": 2,
       "version_minor": 0,
       "model_id": "3abfa674492e477d8b6c9f2209fe7d64"
      }
     },
     "metadata": {},
     "output_type": "display_data"
    },
    {
     "name": "stdout",
     "output_type": "stream",
     "text": [
      "\u001B[1m\u001B[92m Epoch 391 Train DiceLoss 0.17660819925367832 Val DiceLoss 0.1726564715305964 Train dice_score 0.8233918100595474 Val dice_score 0.8273435235023499\n"
     ]
    },
    {
     "data": {
      "text/plain": [
       "  0%|          | 0/8 [00:00<?, ?it/s]"
      ],
      "application/vnd.jupyter.widget-view+json": {
       "version_major": 2,
       "version_minor": 0,
       "model_id": "2c5a76d58d7a48fbb8609587a46f5444"
      }
     },
     "metadata": {},
     "output_type": "display_data"
    },
    {
     "data": {
      "text/plain": [
       "  0%|          | 0/3 [00:00<?, ?it/s]"
      ],
      "application/vnd.jupyter.widget-view+json": {
       "version_major": 2,
       "version_minor": 0,
       "model_id": "f680248a10b440e59a4e20eee1bba646"
      }
     },
     "metadata": {},
     "output_type": "display_data"
    },
    {
     "name": "stdout",
     "output_type": "stream",
     "text": [
      "\u001B[1m\u001B[92m Epoch 392 Train DiceLoss 0.16485323384404182 Val DiceLoss 0.1589005390803019 Train dice_score 0.8351467698812485 Val dice_score 0.8410994609196981\n"
     ]
    },
    {
     "data": {
      "text/plain": [
       "  0%|          | 0/8 [00:00<?, ?it/s]"
      ],
      "application/vnd.jupyter.widget-view+json": {
       "version_major": 2,
       "version_minor": 0,
       "model_id": "3b64ae49f7fb424d8de8455f7ac937af"
      }
     },
     "metadata": {},
     "output_type": "display_data"
    },
    {
     "data": {
      "text/plain": [
       "  0%|          | 0/3 [00:00<?, ?it/s]"
      ],
      "application/vnd.jupyter.widget-view+json": {
       "version_major": 2,
       "version_minor": 0,
       "model_id": "e56fe7b964484215aadb82188562ef3e"
      }
     },
     "metadata": {},
     "output_type": "display_data"
    },
    {
     "name": "stdout",
     "output_type": "stream",
     "text": [
      "\u001B[1m\u001B[92m Epoch 393 Train DiceLoss 0.17615433782339096 Val DiceLoss 0.1601020892461141 Train dice_score 0.8238456696271896 Val dice_score 0.8398979306221008\n"
     ]
    },
    {
     "data": {
      "text/plain": [
       "  0%|          | 0/8 [00:00<?, ?it/s]"
      ],
      "application/vnd.jupyter.widget-view+json": {
       "version_major": 2,
       "version_minor": 0,
       "model_id": "119a495cfd2b417db02ec7bfbd088b41"
      }
     },
     "metadata": {},
     "output_type": "display_data"
    },
    {
     "data": {
      "text/plain": [
       "  0%|          | 0/3 [00:00<?, ?it/s]"
      ],
      "application/vnd.jupyter.widget-view+json": {
       "version_major": 2,
       "version_minor": 0,
       "model_id": "395a4c7fec314d57a713ffb1b4670cee"
      }
     },
     "metadata": {},
     "output_type": "display_data"
    },
    {
     "name": "stdout",
     "output_type": "stream",
     "text": [
      "MODEL SAVED\n",
      "\u001B[1m\u001B[92m Epoch 394 Train DiceLoss 0.16444618627429008 Val DiceLoss 0.14875628550847372 Train dice_score 0.8355538174510002 Val dice_score 0.8512437343597412\n"
     ]
    },
    {
     "data": {
      "text/plain": [
       "  0%|          | 0/8 [00:00<?, ?it/s]"
      ],
      "application/vnd.jupyter.widget-view+json": {
       "version_major": 2,
       "version_minor": 0,
       "model_id": "938203d164ee4c61aee67864822781d2"
      }
     },
     "metadata": {},
     "output_type": "display_data"
    },
    {
     "data": {
      "text/plain": [
       "  0%|          | 0/3 [00:00<?, ?it/s]"
      ],
      "application/vnd.jupyter.widget-view+json": {
       "version_major": 2,
       "version_minor": 0,
       "model_id": "737ab78015364db3b6a67bd0b84334e6"
      }
     },
     "metadata": {},
     "output_type": "display_data"
    },
    {
     "name": "stdout",
     "output_type": "stream",
     "text": [
      "\u001B[1m\u001B[92m Epoch 395 Train DiceLoss 0.15816633217036724 Val DiceLoss 0.16817186772823334 Train dice_score 0.8418336659669876 Val dice_score 0.8318281173706055\n"
     ]
    },
    {
     "data": {
      "text/plain": [
       "  0%|          | 0/8 [00:00<?, ?it/s]"
      ],
      "application/vnd.jupyter.widget-view+json": {
       "version_major": 2,
       "version_minor": 0,
       "model_id": "ea3c42db9d214bc6998a30ab8105ac87"
      }
     },
     "metadata": {},
     "output_type": "display_data"
    },
    {
     "data": {
      "text/plain": [
       "  0%|          | 0/3 [00:00<?, ?it/s]"
      ],
      "application/vnd.jupyter.widget-view+json": {
       "version_major": 2,
       "version_minor": 0,
       "model_id": "3906fcd0416c4755be6e96e3160d328e"
      }
     },
     "metadata": {},
     "output_type": "display_data"
    },
    {
     "name": "stdout",
     "output_type": "stream",
     "text": [
      "\u001B[1m\u001B[92m Epoch 396 Train DiceLoss 0.16652904264628887 Val DiceLoss 0.15097645918528238 Train dice_score 0.8334709629416466 Val dice_score 0.8490235408147176\n"
     ]
    },
    {
     "data": {
      "text/plain": [
       "  0%|          | 0/8 [00:00<?, ?it/s]"
      ],
      "application/vnd.jupyter.widget-view+json": {
       "version_major": 2,
       "version_minor": 0,
       "model_id": "54fbdd4f1d9642eb99453cda9667aba5"
      }
     },
     "metadata": {},
     "output_type": "display_data"
    },
    {
     "data": {
      "text/plain": [
       "  0%|          | 0/3 [00:00<?, ?it/s]"
      ],
      "application/vnd.jupyter.widget-view+json": {
       "version_major": 2,
       "version_minor": 0,
       "model_id": "a6f7fa6666c84c2b86d0323ebfcea247"
      }
     },
     "metadata": {},
     "output_type": "display_data"
    },
    {
     "name": "stdout",
     "output_type": "stream",
     "text": [
      "\u001B[1m\u001B[92m Epoch 397 Train DiceLoss 0.16264136508107185 Val DiceLoss 0.182736669977506 Train dice_score 0.8373586386442184 Val dice_score 0.8172633449236552\n"
     ]
    },
    {
     "data": {
      "text/plain": [
       "  0%|          | 0/8 [00:00<?, ?it/s]"
      ],
      "application/vnd.jupyter.widget-view+json": {
       "version_major": 2,
       "version_minor": 0,
       "model_id": "79e4b0d3dfe6476098beb573491c5ab6"
      }
     },
     "metadata": {},
     "output_type": "display_data"
    },
    {
     "data": {
      "text/plain": [
       "  0%|          | 0/3 [00:00<?, ?it/s]"
      ],
      "application/vnd.jupyter.widget-view+json": {
       "version_major": 2,
       "version_minor": 0,
       "model_id": "93dac71e877d42e1b5e7a70a095f2115"
      }
     },
     "metadata": {},
     "output_type": "display_data"
    },
    {
     "name": "stdout",
     "output_type": "stream",
     "text": [
      "\u001B[1m\u001B[92m Epoch 398 Train DiceLoss 0.1578036341816187 Val DiceLoss 0.16302086412906647 Train dice_score 0.8421963751316071 Val dice_score 0.8369791309038798\n"
     ]
    },
    {
     "data": {
      "text/plain": [
       "  0%|          | 0/8 [00:00<?, ?it/s]"
      ],
      "application/vnd.jupyter.widget-view+json": {
       "version_major": 2,
       "version_minor": 0,
       "model_id": "4bed66a8820343d4b52eaf59e51407d4"
      }
     },
     "metadata": {},
     "output_type": "display_data"
    },
    {
     "data": {
      "text/plain": [
       "  0%|          | 0/3 [00:00<?, ?it/s]"
      ],
      "application/vnd.jupyter.widget-view+json": {
       "version_major": 2,
       "version_minor": 0,
       "model_id": "0e12a713c03749be995db3973f63bb7c"
      }
     },
     "metadata": {},
     "output_type": "display_data"
    },
    {
     "name": "stdout",
     "output_type": "stream",
     "text": [
      "\u001B[1m\u001B[92m Epoch 399 Train DiceLoss 0.160843838006258 Val DiceLoss 0.16208731631437936 Train dice_score 0.8391561508178711 Val dice_score 0.8379126787185669\n"
     ]
    }
   ],
   "execution_count": 64
  },
  {
   "cell_type": "code",
   "source": [
    "torch.save(model.state_dict(), f'Noise_DiceLoss_SD_new_{p}.pt')\n",
    "torch.save(model, f'Noise_DiceLoss_new_{p}.pt')"
   ],
   "metadata": {
    "execution": {
     "iopub.status.busy": "2024-09-28T11:39:56.860608Z",
     "iopub.execute_input": "2024-09-28T11:39:56.860933Z",
     "iopub.status.idle": "2024-09-28T11:39:57.218034Z",
     "shell.execute_reply.started": "2024-09-28T11:39:56.860897Z",
     "shell.execute_reply": "2024-09-28T11:39:57.217183Z"
    },
    "trusted": true,
    "ExecuteTime": {
     "end_time": "2024-12-19T14:39:50.225600Z",
     "start_time": "2024-12-19T14:39:50.163296Z"
    }
   },
   "outputs": [],
   "execution_count": 65
  },
  {
   "metadata": {},
   "cell_type": "code",
   "source": "",
   "outputs": [],
   "execution_count": null
  }
 ]
}
